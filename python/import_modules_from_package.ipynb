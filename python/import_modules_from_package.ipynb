{
 "cells": [
  {
   "cell_type": "markdown",
   "id": "e0224a1a",
   "metadata": {},
   "source": [
    "**package specification in import statement is required**"
   ]
  },
  {
   "cell_type": "code",
   "execution_count": 15,
   "id": "6c6692bb",
   "metadata": {},
   "outputs": [],
   "source": [
    "# add(1,2,3,4,5) # NameError: name 'add' is not defined"
   ]
  },
  {
   "cell_type": "code",
   "execution_count": 16,
   "id": "f8a1f5b2",
   "metadata": {},
   "outputs": [],
   "source": [
    "from MyPackage import Addition as ad"
   ]
  },
  {
   "cell_type": "code",
   "execution_count": 17,
   "id": "26a89dcd",
   "metadata": {},
   "outputs": [],
   "source": [
    "# add(1,2,3,4,5) # NameEror: name 'add' is not defined"
   ]
  },
  {
   "cell_type": "code",
   "execution_count": 18,
   "id": "11150199",
   "metadata": {},
   "outputs": [
    {
     "data": {
      "text/plain": [
       "5"
      ]
     },
     "execution_count": 18,
     "metadata": {},
     "output_type": "execute_result"
    }
   ],
   "source": [
    "ad.sum(2,3)"
   ]
  },
  {
   "cell_type": "code",
   "execution_count": 19,
   "id": "40df8aef",
   "metadata": {},
   "outputs": [
    {
     "data": {
      "text/plain": [
       "15"
      ]
     },
     "execution_count": 19,
     "metadata": {},
     "output_type": "execute_result"
    }
   ],
   "source": [
    "ad.add(1,2,3,4,5)"
   ]
  },
  {
   "cell_type": "code",
   "execution_count": 20,
   "id": "9cb0b075",
   "metadata": {},
   "outputs": [],
   "source": [
    "from MyPackage import Multiplication as mul"
   ]
  },
  {
   "cell_type": "code",
   "execution_count": 21,
   "id": "32f229cb",
   "metadata": {},
   "outputs": [
    {
     "data": {
      "text/plain": [
       "120"
      ]
     },
     "execution_count": 21,
     "metadata": {},
     "output_type": "execute_result"
    }
   ],
   "source": [
    "mul.multiply(1,2,3,4,5)"
   ]
  },
  {
   "cell_type": "code",
   "execution_count": 22,
   "id": "50eca591",
   "metadata": {},
   "outputs": [
    {
     "data": {
      "text/plain": [
       "32"
      ]
     },
     "execution_count": 22,
     "metadata": {},
     "output_type": "execute_result"
    }
   ],
   "source": [
    "mul.exponent(2,5)"
   ]
  },
  {
   "cell_type": "code",
   "execution_count": 27,
   "id": "11ca6b1a",
   "metadata": {},
   "outputs": [],
   "source": [
    "# from package.module import function\n",
    "from MyPackage.Addition import add"
   ]
  },
  {
   "cell_type": "code",
   "execution_count": 24,
   "id": "8e0661e2",
   "metadata": {},
   "outputs": [
    {
     "data": {
      "text/plain": [
       "15"
      ]
     },
     "execution_count": 24,
     "metadata": {},
     "output_type": "execute_result"
    }
   ],
   "source": [
    "add(1,2,3,4,5) # function can be used directly without module specification"
   ]
  }
 ],
 "metadata": {
  "kernelspec": {
   "display_name": "Python 3 (ipykernel)",
   "language": "python",
   "name": "python3"
  },
  "language_info": {
   "codemirror_mode": {
    "name": "ipython",
    "version": 3
   },
   "file_extension": ".py",
   "mimetype": "text/x-python",
   "name": "python",
   "nbconvert_exporter": "python",
   "pygments_lexer": "ipython3",
   "version": "3.9.16"
  }
 },
 "nbformat": 4,
 "nbformat_minor": 5
}
