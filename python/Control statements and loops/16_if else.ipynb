{
 "cells": [
  {
   "cell_type": "markdown",
   "metadata": {
    "id": "Djd00Nj8TKtU"
   },
   "source": [
    "#### if "
   ]
  },
  {
   "cell_type": "code",
   "execution_count": 1,
   "metadata": {
    "colab": {
     "base_uri": "https://localhost:8080/"
    },
    "executionInfo": {
     "elapsed": 434,
     "status": "ok",
     "timestamp": 1684810562202,
     "user": {
      "displayName": "DSS DSS",
      "userId": "17636620013329168760"
     },
     "user_tz": -330
    },
    "id": "glAsqGlaTOdm",
    "outputId": "b24c3730-b42c-4d17-96d7-96ecc08e22de"
   },
   "outputs": [
    {
     "name": "stdout",
     "output_type": "stream",
     "text": [
      "b is greater than a\n",
      "end of if block\n",
      "program continues\n"
     ]
    }
   ],
   "source": [
    "a = 33\n",
    "b = 200\n",
    "\n",
    "if b > a: # True - if block is executed\n",
    "    print(\"b is greater than a\")\n",
    "    print(\"end of if block\")\n",
    "\n",
    "if b < a: # False - if block is not executed\n",
    "    print(\"b is less than a\")\n",
    "\n",
    "print(\"program continues\")\n",
    "# indentation is important"
   ]
  },
  {
   "cell_type": "code",
   "execution_count": 6,
   "metadata": {},
   "outputs": [
    {
     "name": "stdout",
     "output_type": "stream",
     "text": [
      "5\n",
      "program continues\n"
     ]
    }
   ],
   "source": [
    "a = 33\n",
    "b = 200\n",
    "\n",
    "if [0]: # True - if block is executed\n",
    "    print(\"b is greater than a\")\n",
    "    print(\"end of if block\")\n",
    "\n",
    "if print(5): # False - if block is not executed\n",
    "    print(\"b is less than a\")\n",
    "\n",
    "print(\"program continues\")\n",
    "# indentation is important"
   ]
  },
  {
   "cell_type": "markdown",
   "metadata": {
    "id": "5TP4nVweTUM6"
   },
   "source": [
    "#### elif"
   ]
  },
  {
   "cell_type": "code",
   "execution_count": 4,
   "metadata": {
    "colab": {
     "base_uri": "https://localhost:8080/"
    },
    "executionInfo": {
     "elapsed": 662,
     "status": "ok",
     "timestamp": 1684810733809,
     "user": {
      "displayName": "DSS DSS",
      "userId": "17636620013329168760"
     },
     "user_tz": -330
    },
    "id": "HnLMKCrlTVmw",
    "outputId": "3117f101-45fa-4c81-a69a-d5ae28de35f7"
   },
   "outputs": [
    {
     "name": "stdout",
     "output_type": "stream",
     "text": [
      "a and b are equal\n",
      "program continues\n"
     ]
    }
   ],
   "source": [
    "a = 33\n",
    "b = 33\n",
    "if b < a: # if c1 - True : if executes and elif doesnot execute\n",
    "  print(\"b is greater than a\") # if True\n",
    "elif a == b: # here c1 = False , c2 = True : elif block executes (if block didnot execute)\n",
    "  print(\"a and b are equal\") # if False and elif True\n",
    "\n",
    "print(\"program continues\") # if True | if False and elif True | if False and elif False"
   ]
  },
  {
   "cell_type": "markdown",
   "metadata": {
    "id": "GsGI2AjUTWqM"
   },
   "source": [
    "#### else"
   ]
  },
  {
   "cell_type": "code",
   "execution_count": null,
   "metadata": {
    "id": "0JIWWxesTZme"
   },
   "outputs": [],
   "source": [
    "a = 200\n",
    "b = 33\n",
    "if b > a:  \n",
    "  print(\"b is greater than a\") # if True\n",
    "else: \n",
    "  print(\"b is not greater than a\") # if False"
   ]
  },
  {
   "cell_type": "code",
   "execution_count": 7,
   "metadata": {
    "id": "KuGR6u3nTYMl"
   },
   "outputs": [
    {
     "name": "stdout",
     "output_type": "stream",
     "text": [
      "a is greater than b\n",
      "program continues\n"
     ]
    }
   ],
   "source": [
    "a = 200\n",
    "b = 33\n",
    "if b > a: \n",
    "  print(\"b is greater than a\") # if True (goes to program continues statement)\n",
    "elif a == b: # c1 False\n",
    "  print(\"a and b are equal\") # if False and elif True (goes to program continues statement)\n",
    "else: # c1 c2 False\n",
    "  print(\"a is greater than b\") # if False and elif False (goes to program continues statement)\n",
    "\n",
    "print(\"program continues\") "
   ]
  },
  {
   "cell_type": "markdown",
   "metadata": {
    "id": "qPNkqGTuTasJ"
   },
   "source": [
    "#### short hand if"
   ]
  },
  {
   "cell_type": "code",
   "execution_count": 5,
   "metadata": {
    "colab": {
     "base_uri": "https://localhost:8080/"
    },
    "executionInfo": {
     "elapsed": 632,
     "status": "ok",
     "timestamp": 1684811280743,
     "user": {
      "displayName": "DSS DSS",
      "userId": "17636620013329168760"
     },
     "user_tz": -330
    },
    "id": "zhBulBURTdDw",
    "outputId": "828da454-80b9-48fe-b3a7-a6ac807c582b"
   },
   "outputs": [
    {
     "name": "stdout",
     "output_type": "stream",
     "text": [
      "a is greater than b\n",
      "program continues\n"
     ]
    }
   ],
   "source": [
    "a = 200\n",
    "b = 33\n",
    "\n",
    "# use short hand if when there is only 1 statement in if block\n",
    "if a > b: print(\"a is greater than b\") # if True\n",
    "\n",
    "print(\"program continues\") "
   ]
  },
  {
   "cell_type": "markdown",
   "metadata": {
    "id": "FgmpqTkrTfUy"
   },
   "source": [
    "#### short hand if else"
   ]
  },
  {
   "cell_type": "code",
   "execution_count": 2,
   "metadata": {
    "id": "KQFTLpsTThTQ"
   },
   "outputs": [
    {
     "name": "stdout",
     "output_type": "stream",
     "text": [
      "B\n",
      "330\n"
     ]
    }
   ],
   "source": [
    "a = 2\n",
    "b = 330\n",
    "\n",
    "# Ternary operator\n",
    "print(\"A\") if a > b else print(\"B\")\n",
    "\n",
    "c = a if a>b else b\n",
    "print(c)\n",
    "\n",
    "# ifstmt ifcond else elsestmt\n",
    "\n",
    "# if a > b:\n",
    "#   print(\"A\")\n",
    "# else:\n",
    "#   print(\"B\")"
   ]
  },
  {
   "cell_type": "code",
   "execution_count": null,
   "metadata": {
    "colab": {
     "base_uri": "https://localhost:8080/"
    },
    "executionInfo": {
     "elapsed": 6,
     "status": "ok",
     "timestamp": 1681715973572,
     "user": {
      "displayName": "vishnupriya karanam",
      "userId": "13289819926024070101"
     },
     "user_tz": -330
    },
    "id": "rrmnPvq9Tich",
    "outputId": "8bd23efd-d6db-4475-dc97-46314e0b190b"
   },
   "outputs": [
    {
     "name": "stdout",
     "output_type": "stream",
     "text": [
      "A = B\n"
     ]
    }
   ],
   "source": [
    "a = 330\n",
    "b = 330\n",
    "\n",
    "print(\"A > B\") if a > b else print(\"A = B\") if a == b else print(\"A < B\")\n",
    "\n",
    "# stmt cond       # if\n",
    "# else stmt cond  # elif\n",
    "# else stmt cond  # elif\n",
    "# else stmt       # else\n",
    "\n",
    "# if a>b:        2\n",
    "#   print(\"A>B\") 1\n",
    "# elif a==b:     3 5\n",
    "#   print(\"A=B\") 4 \n",
    "# else:          6\n",
    "#   print(\"A<B\") 7\n"
   ]
  },
  {
   "cell_type": "markdown",
   "metadata": {
    "id": "yr-gGpGsT2NH"
   },
   "source": [
    "#### and"
   ]
  },
  {
   "cell_type": "code",
   "execution_count": 8,
   "metadata": {
    "id": "udJeHoMDT5rC"
   },
   "outputs": [
    {
     "name": "stdout",
     "output_type": "stream",
     "text": [
      "Both conditions are True\n"
     ]
    }
   ],
   "source": [
    "a = 200\n",
    "b = 33\n",
    "c = 500\n",
    "if a > b and c > a: # both stmts True - if block executes\n",
    "  print(\"Both conditions are True\")\n",
    "\n",
    "# if age > 18 and citizen == \"Indian\":\n",
    "#   print(\"eligible to vote\")"
   ]
  },
  {
   "cell_type": "markdown",
   "metadata": {
    "id": "7khwL0DDT7iW"
   },
   "source": [
    "#### or"
   ]
  },
  {
   "cell_type": "code",
   "execution_count": null,
   "metadata": {
    "colab": {
     "base_uri": "https://localhost:8080/"
    },
    "executionInfo": {
     "elapsed": 20,
     "status": "ok",
     "timestamp": 1681751570535,
     "user": {
      "displayName": "sree dhar",
      "userId": "18078165690993073471"
     },
     "user_tz": -330
    },
    "id": "d3BNvIXlT-gC",
    "outputId": "742c520c-1495-4df0-eecd-73288a7a24cf"
   },
   "outputs": [
    {
     "name": "stdout",
     "output_type": "stream",
     "text": [
      "At least one of the conditions is True\n"
     ]
    }
   ],
   "source": [
    "a = 200\n",
    "b = 33\n",
    "c = 500\n",
    "if a > b or a > c:\n",
    "  print(\"At least one of the conditions is True\")"
   ]
  },
  {
   "cell_type": "markdown",
   "metadata": {
    "id": "0-EE8a6SUARp"
   },
   "source": [
    "#### nested if"
   ]
  },
  {
   "cell_type": "code",
   "execution_count": 13,
   "metadata": {
    "colab": {
     "base_uri": "https://localhost:8080/"
    },
    "executionInfo": {
     "elapsed": 387,
     "status": "ok",
     "timestamp": 1684811799360,
     "user": {
      "displayName": "DSS DSS",
      "userId": "17636620013329168760"
     },
     "user_tz": -330
    },
    "id": "9Rb6aIHsUBnH",
    "outputId": "4a4869e6-ef00-4a86-b528-ce20ad73a9f3"
   },
   "outputs": [
    {
     "name": "stdout",
     "output_type": "stream",
     "text": [
      "Above ten,\n",
      "and also above 20!\n"
     ]
    }
   ],
   "source": [
    "x = 41\n",
    "\n",
    "if x > 10: # True : if block executes\n",
    "    print(\"Above ten,\")\n",
    "    if x > 20: # True : if block executes and else doesnot execute\n",
    "        print(\"and also above 20!\")\n",
    "    else:\n",
    "        print(\"but not above 20.\")\n",
    "else:\n",
    "    print('else of outer if')"
   ]
  },
  {
   "cell_type": "markdown",
   "metadata": {
    "id": "04IovOXUUDAV"
   },
   "source": [
    "#### pass statement"
   ]
  },
  {
   "cell_type": "code",
   "execution_count": 12,
   "metadata": {
    "executionInfo": {
     "elapsed": 434,
     "status": "ok",
     "timestamp": 1684811931425,
     "user": {
      "displayName": "DSS DSS",
      "userId": "17636620013329168760"
     },
     "user_tz": -330
    },
    "id": "SNrYIa7aUFdb"
   },
   "outputs": [],
   "source": [
    "a = 33\n",
    "b = 200\n",
    "\n",
    "if b > a:\n",
    "    pass\n",
    "\n",
    "# having an empty if statement like this, would raise an error without the pass statement"
   ]
  },
  {
   "cell_type": "code",
   "execution_count": null,
   "metadata": {
    "id": "Lz0V9bbJFy0Z"
   },
   "outputs": [],
   "source": []
  }
 ],
 "metadata": {
  "colab": {
   "provenance": []
  },
  "kernelspec": {
   "display_name": "Python 3 (ipykernel)",
   "language": "python",
   "name": "python3"
  },
  "language_info": {
   "codemirror_mode": {
    "name": "ipython",
    "version": 3
   },
   "file_extension": ".py",
   "mimetype": "text/x-python",
   "name": "python",
   "nbconvert_exporter": "python",
   "pygments_lexer": "ipython3",
   "version": "3.9.16"
  }
 },
 "nbformat": 4,
 "nbformat_minor": 1
}
