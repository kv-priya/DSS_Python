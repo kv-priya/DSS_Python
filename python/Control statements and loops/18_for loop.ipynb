{
 "cells": [
  {
   "cell_type": "markdown",
   "metadata": {
    "id": "tBql3_MSU4fc"
   },
   "source": [
    "### for loop"
   ]
  },
  {
   "cell_type": "code",
   "execution_count": 5,
   "metadata": {
    "colab": {
     "base_uri": "https://localhost:8080/"
    },
    "executionInfo": {
     "elapsed": 735,
     "status": "ok",
     "timestamp": 1684896315118,
     "user": {
      "displayName": "DSS DSS",
      "userId": "17636620013329168760"
     },
     "user_tz": -330
    },
    "id": "0McE1A4npWVq",
    "outputId": "5df1a6d9-90a7-489c-d452-ecbccf6e1c78",
    "scrolled": true
   },
   "outputs": [
    {
     "name": "stdout",
     "output_type": "stream",
     "text": [
      "range(0, 11)\n",
      "[0, 1, 2, 3, 4, 5, 6, 7, 8, 9, 10]\n",
      "<class 'range'>\n"
     ]
    }
   ],
   "source": [
    "print(range(0,11)) # iterator\n",
    "print(list(range(0,11))) # list\n",
    "print(type(range(0,11)))"
   ]
  },
  {
   "cell_type": "code",
   "execution_count": 1,
   "metadata": {
    "colab": {
     "base_uri": "https://localhost:8080/"
    },
    "executionInfo": {
     "elapsed": 3,
     "status": "ok",
     "timestamp": 1684896373471,
     "user": {
      "displayName": "DSS DSS",
      "userId": "17636620013329168760"
     },
     "user_tz": -330
    },
    "id": "jLzYk5N9U8TP",
    "outputId": "fb7f6f17-b0bb-4b31-9741-22d1fea8bac8"
   },
   "outputs": [
    {
     "name": "stdout",
     "output_type": "stream",
     "text": [
      "apple\n",
      "banana\n",
      "cherry\n",
      "0\n",
      "1\n",
      "2\n"
     ]
    }
   ],
   "source": [
    "fruits = [\"apple\", \"banana\", \"cherry\"] # iterable\n",
    "for x in fruits: # any iterator\n",
    "    print(x)\n",
    "\n",
    "for x in range(0,3): \n",
    "    print(x)"
   ]
  },
  {
   "cell_type": "code",
   "execution_count": 6,
   "metadata": {
    "colab": {
     "base_uri": "https://localhost:8080/"
    },
    "executionInfo": {
     "elapsed": 1662,
     "status": "ok",
     "timestamp": 1684897140682,
     "user": {
      "displayName": "DSS DSS",
      "userId": "17636620013329168760"
     },
     "user_tz": -330
    },
    "id": "dfWHtv-yVGAg",
    "outputId": "58190a96-21d8-47fb-91b8-3df26362b0f8"
   },
   "outputs": [
    {
     "name": "stdout",
     "output_type": "stream",
     "text": [
      "b\n",
      "a\n",
      "n\n",
      "a\n",
      "n\n",
      "a\n"
     ]
    }
   ],
   "source": [
    "# Even strings are iterable objects, they contain a sequence of characters\n",
    "for x in \"banana\":\n",
    "    print(x,end=\"\") "
   ]
  },
  {
   "cell_type": "code",
   "execution_count": 1,
   "metadata": {
    "colab": {
     "base_uri": "https://localhost:8080/"
    },
    "executionInfo": {
     "elapsed": 397,
     "status": "ok",
     "timestamp": 1685169374751,
     "user": {
      "displayName": "DSS DSS",
      "userId": "17636620013329168760"
     },
     "user_tz": -330
    },
    "id": "71e52yCI6djF",
    "outputId": "c3fdeef0-9974-4b43-a1de-e86e0970a42f"
   },
   "outputs": [
    {
     "name": "stdout",
     "output_type": "stream",
     "text": [
      "0 Aston\n",
      "1 Audi\n",
      "2 McLaren \n",
      "0 Aston\n",
      "1 Audi\n",
      "2 McLaren \n",
      "11 Aston\n",
      "12 Audi\n",
      "13 McLaren \n"
     ]
    }
   ],
   "source": [
    "cars = [\"Aston\" , \"Audi\", \"McLaren \"]\n",
    "for x in enumerate(cars): # x (index,value) : (0,'Aston'), x: (1,'Audi'), x: (2,'McLaren')\n",
    "    print (x[0], x[1])\n",
    "\n",
    "for index,value in enumerate(cars): # i,x : 0,'Aston', i,x : 1,'Audi', ...\n",
    "    print(index,value)\n",
    "\n",
    "for x in enumerate(cars, start = 11):# x (index,value) : (11,'Aston'), x: (12,'Audi'), x: (13,'McLaren')\n",
    "    print(x[0],x[1])"
   ]
  },
  {
   "cell_type": "markdown",
   "metadata": {
    "id": "aBxDApL0VIFO"
   },
   "source": [
    "#### break statement"
   ]
  },
  {
   "cell_type": "code",
   "execution_count": 9,
   "metadata": {
    "colab": {
     "base_uri": "https://localhost:8080/"
    },
    "executionInfo": {
     "elapsed": 549,
     "status": "ok",
     "timestamp": 1684897339263,
     "user": {
      "displayName": "DSS DSS",
      "userId": "17636620013329168760"
     },
     "user_tz": -330
    },
    "id": "GPRNVgSBVLEg",
    "outputId": "6e5c0173-9cde-4b48-d4fd-049db3efac49"
   },
   "outputs": [
    {
     "name": "stdout",
     "output_type": "stream",
     "text": [
      "apple\n",
      "banana\n",
      "end\n"
     ]
    }
   ],
   "source": [
    "# with the break statement we can stop the loop before it has looped through all the items\n",
    "\n",
    "fruits = [\"apple\", \"banana\", \"cherry\"]\n",
    "for x in fruits:\n",
    "    print(x) \n",
    "    if x == \"banana\":\n",
    "        break # out of loop where break is present\n",
    "print(\"end\")\n",
    "\n",
    "# for \n",
    "#   for\n",
    "#     for\n",
    "#   if ...  \n",
    "#     break"
   ]
  },
  {
   "cell_type": "code",
   "execution_count": 10,
   "metadata": {
    "colab": {
     "base_uri": "https://localhost:8080/"
    },
    "executionInfo": {
     "elapsed": 677,
     "status": "ok",
     "timestamp": 1684897370585,
     "user": {
      "displayName": "DSS DSS",
      "userId": "17636620013329168760"
     },
     "user_tz": -330
    },
    "id": "AzPJCuljVMYb",
    "outputId": "1b0fbffc-8ca8-48ee-cd91-70bb0ee2fbf0"
   },
   "outputs": [
    {
     "name": "stdout",
     "output_type": "stream",
     "text": [
      "apple\n",
      "end\n"
     ]
    }
   ],
   "source": [
    "fruits = [\"apple\", \"banana\", \"cherry\"]\n",
    "for x in fruits:\n",
    "    if x == \"banana\":\n",
    "        break\n",
    "    print(x) \n",
    "print(\"end\")"
   ]
  },
  {
   "cell_type": "markdown",
   "metadata": {
    "id": "tVWOEfyMVP_C"
   },
   "source": [
    "#### continue statement"
   ]
  },
  {
   "cell_type": "code",
   "execution_count": 11,
   "metadata": {
    "colab": {
     "base_uri": "https://localhost:8080/"
    },
    "executionInfo": {
     "elapsed": 431,
     "status": "ok",
     "timestamp": 1684897494569,
     "user": {
      "displayName": "DSS DSS",
      "userId": "17636620013329168760"
     },
     "user_tz": -330
    },
    "id": "JJ1AIb9RI2Ws",
    "outputId": "74eaf7c5-60ef-43cc-e6fc-ad60d830d74a"
   },
   "outputs": [
    {
     "name": "stdout",
     "output_type": "stream",
     "text": [
      "\n",
      " apple\n",
      "is tasty\n",
      "\n",
      " banana\n",
      "\n",
      " cherry\n",
      "is tasty\n",
      "\n",
      "end\n"
     ]
    }
   ],
   "source": [
    "fruits = [\"apple\", \"banana\", \"cherry\"]\n",
    "for x in fruits:\n",
    "    print('\\n',x) \n",
    "    if x == \"banana\":\n",
    "        continue # for loop next iteration\n",
    "    print(\"is tasty\")\n",
    "\n",
    "print(\"\\nend\")"
   ]
  },
  {
   "cell_type": "code",
   "execution_count": 12,
   "metadata": {
    "colab": {
     "base_uri": "https://localhost:8080/"
    },
    "executionInfo": {
     "elapsed": 535,
     "status": "ok",
     "timestamp": 1681716884768,
     "user": {
      "displayName": "vishnupriya karanam",
      "userId": "13289819926024070101"
     },
     "user_tz": -330
    },
    "id": "0_KCu-yPVSMh",
    "outputId": "44f27dea-7af3-48d1-ce13-5e588b6552ef"
   },
   "outputs": [
    {
     "name": "stdout",
     "output_type": "stream",
     "text": [
      "apple\n",
      "cherry\n"
     ]
    }
   ],
   "source": [
    "fruits = [\"apple\", \"banana\", \"cherry\"]\n",
    "for x in fruits:\n",
    "    if x == \"banana\":\n",
    "        continue\n",
    "    print(x) "
   ]
  },
  {
   "cell_type": "markdown",
   "metadata": {
    "id": "59waVLL6Vb4p"
   },
   "source": [
    "#### else in for loop"
   ]
  },
  {
   "cell_type": "code",
   "execution_count": 13,
   "metadata": {
    "colab": {
     "base_uri": "https://localhost:8080/"
    },
    "executionInfo": {
     "elapsed": 6,
     "status": "ok",
     "timestamp": 1681716937340,
     "user": {
      "displayName": "vishnupriya karanam",
      "userId": "13289819926024070101"
     },
     "user_tz": -330
    },
    "id": "yyYH8ZPlVeGU",
    "outputId": "dc670a4e-78d3-47c6-c548-ae2d55905dc8"
   },
   "outputs": [
    {
     "name": "stdout",
     "output_type": "stream",
     "text": [
      "0\n",
      "1\n",
      "2\n",
      "3\n",
      "4\n",
      "5\n",
      "Finally finished!\n"
     ]
    }
   ],
   "source": [
    "for x in range(6):\n",
    "    print(x)\n",
    "else: # after all iterations\n",
    "    print(\"Finally finished!\")"
   ]
  },
  {
   "cell_type": "code",
   "execution_count": 14,
   "metadata": {
    "colab": {
     "base_uri": "https://localhost:8080/"
    },
    "executionInfo": {
     "elapsed": 429,
     "status": "ok",
     "timestamp": 1684897605243,
     "user": {
      "displayName": "DSS DSS",
      "userId": "17636620013329168760"
     },
     "user_tz": -330
    },
    "id": "as1HP9uTVgAj",
    "outputId": "c706ca43-4b61-496e-d4bc-31d7f5cbd63e"
   },
   "outputs": [
    {
     "name": "stdout",
     "output_type": "stream",
     "text": [
      "0\n",
      "1\n",
      "2\n",
      "end\n"
     ]
    }
   ],
   "source": [
    "for x in range(6):\n",
    "    if x == 3: \n",
    "        break\n",
    "    print(x)\n",
    "else:\n",
    "    print(\"Finally finished!\")\n",
    "\n",
    "print(\"end\")\n",
    "#If the loop breaks, the else block is not executed."
   ]
  },
  {
   "cell_type": "markdown",
   "metadata": {
    "id": "rM2JT117Vht8"
   },
   "source": [
    "#### nested for loop"
   ]
  },
  {
   "cell_type": "code",
   "execution_count": 15,
   "metadata": {
    "colab": {
     "base_uri": "https://localhost:8080/"
    },
    "executionInfo": {
     "elapsed": 358,
     "status": "ok",
     "timestamp": 1681716994074,
     "user": {
      "displayName": "vishnupriya karanam",
      "userId": "13289819926024070101"
     },
     "user_tz": -330
    },
    "id": "g7FLpCSSVn0S",
    "outputId": "297b394c-bcc2-451f-97a7-79fe847dc72d"
   },
   "outputs": [
    {
     "name": "stdout",
     "output_type": "stream",
     "text": [
      "red apple\n",
      "red banana\n",
      "red cherry\n",
      "big apple\n",
      "big banana\n",
      "big cherry\n",
      "tasty apple\n",
      "tasty banana\n",
      "tasty cherry\n"
     ]
    }
   ],
   "source": [
    "quality = [\"red\", \"big\", \"tasty\"]\n",
    "fruits = [\"apple\", \"banana\", \"cherry\"]\n",
    "\n",
    "for x in quality: # red, big, tasty\n",
    "    for y in fruits: # a b c, a b c, a b c\n",
    "        print(x, y)"
   ]
  },
  {
   "cell_type": "markdown",
   "metadata": {
    "id": "IMlApMYxVpcY"
   },
   "source": [
    "#### pass statement in for loop"
   ]
  },
  {
   "cell_type": "code",
   "execution_count": 16,
   "metadata": {
    "id": "4yM570JfVrRK"
   },
   "outputs": [],
   "source": [
    "for x in [0, 1, 2]:\n",
    "    pass\n",
    "\n",
    "# having an empty for loop like this, would raise an error without the pass statement"
   ]
  },
  {
   "cell_type": "code",
   "execution_count": null,
   "metadata": {
    "id": "DiBTvxcPJi5m"
   },
   "outputs": [],
   "source": []
  }
 ],
 "metadata": {
  "colab": {
   "provenance": []
  },
  "kernelspec": {
   "display_name": "Python 3 (ipykernel)",
   "language": "python",
   "name": "python3"
  },
  "language_info": {
   "codemirror_mode": {
    "name": "ipython",
    "version": 3
   },
   "file_extension": ".py",
   "mimetype": "text/x-python",
   "name": "python",
   "nbconvert_exporter": "python",
   "pygments_lexer": "ipython3",
   "version": "3.9.16"
  }
 },
 "nbformat": 4,
 "nbformat_minor": 1
}
