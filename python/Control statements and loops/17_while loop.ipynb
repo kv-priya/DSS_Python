{
 "cells": [
  {
   "cell_type": "markdown",
   "metadata": {
    "id": "sJVASvwkUJTj"
   },
   "source": [
    "#### while loop"
   ]
  },
  {
   "cell_type": "code",
   "execution_count": null,
   "metadata": {
    "colab": {
     "base_uri": "https://localhost:8080/"
    },
    "executionInfo": {
     "elapsed": 7,
     "status": "ok",
     "timestamp": 1681716263765,
     "user": {
      "displayName": "vishnupriya karanam",
      "userId": "13289819926024070101"
     },
     "user_tz": -330
    },
    "id": "eJgoyW7QUhrW",
    "outputId": "59f88eb7-7af0-4fad-d9ec-622495c78fe4"
   },
   "outputs": [
    {
     "name": "stdout",
     "output_type": "stream",
     "text": [
      "1\n",
      "2\n",
      "3\n",
      "4\n",
      "5\n",
      "program continues\n"
     ]
    }
   ],
   "source": [
    "# With the while loop we can execute a set of statements as long as a condition is true.\n",
    "\n",
    "i = 1 # initialization (assigning value to the variable used in the while condition)\n",
    "while i < 6: # condition\n",
    "  print(i) # until condition True\n",
    "  i += 1 # until condition True, updation (updating the variable value used in the condition)\n",
    "\n",
    "print(\"program continues\") # when while condition is False"
   ]
  },
  {
   "cell_type": "markdown",
   "metadata": {
    "id": "MxGYPtrjFHP_"
   },
   "source": [
    "**Note: remember to increment i, or else the loop will continue forever.**"
   ]
  },
  {
   "cell_type": "markdown",
   "metadata": {
    "id": "K7cc4oG4UjOS"
   },
   "source": [
    "#### break statement"
   ]
  },
  {
   "cell_type": "code",
   "execution_count": 2,
   "metadata": {
    "colab": {
     "base_uri": "https://localhost:8080/"
    },
    "executionInfo": {
     "elapsed": 6,
     "status": "ok",
     "timestamp": 1681716277812,
     "user": {
      "displayName": "vishnupriya karanam",
      "userId": "13289819926024070101"
     },
     "user_tz": -330
    },
    "id": "sBDLUxJ8Ul0u",
    "outputId": "0cb60c90-2d2f-4b00-cd42-62444740db17"
   },
   "outputs": [
    {
     "name": "stdout",
     "output_type": "stream",
     "text": [
      "1\n",
      "2\n",
      "3\n",
      "end\n"
     ]
    }
   ],
   "source": [
    "# using the break statement we can stop the loop even if the while condition is true\n",
    "\n",
    "i = 1\n",
    "while i < 6: # 1T 2T 3T\n",
    "  print(i)\n",
    "  if (i == 3):\n",
    "    break\n",
    "  i += 1\n",
    "\n",
    "print(\"end\")"
   ]
  },
  {
   "cell_type": "markdown",
   "metadata": {
    "id": "39pGOkgzUoWK"
   },
   "source": [
    "#### continue statement"
   ]
  },
  {
   "cell_type": "code",
   "execution_count": 4,
   "metadata": {
    "colab": {
     "base_uri": "https://localhost:8080/"
    },
    "executionInfo": {
     "elapsed": 3,
     "status": "ok",
     "timestamp": 1684813847530,
     "user": {
      "displayName": "DSS DSS",
      "userId": "17636620013329168760"
     },
     "user_tz": -330
    },
    "id": "Jng7pLdjusoS",
    "outputId": "c87102f9-2040-4e09-ddc9-22cd7785bf78"
   },
   "outputs": [
    {
     "name": "stdout",
     "output_type": "stream",
     "text": [
      "1\n",
      "2\n",
      "4\n",
      "5\n",
      "6\n",
      "end\n"
     ]
    }
   ],
   "source": [
    "# using the continue statement we can stop the current iteration, and continue with the next\n",
    "\n",
    "i = 0\n",
    "\n",
    "while i < 6: # 0T 1T 2T 3T 4\n",
    "    i += 1\n",
    "    if i == 3: # 1F 2F 3T \n",
    "        continue\n",
    "    print(i) # 1 2 _ \n",
    "\n",
    "print(\"end\")\n",
    "# Note that number 3 is missing in the result"
   ]
  },
  {
   "cell_type": "code",
   "execution_count": 1,
   "metadata": {
    "executionInfo": {
     "elapsed": 5,
     "status": "ok",
     "timestamp": 1689127398295,
     "user": {
      "displayName": "DSS DSS",
      "userId": "17636620013329168760"
     },
     "user_tz": -330
    },
    "id": "5FVE6JOyUtJJ"
   },
   "outputs": [],
   "source": [
    "# # using the continue statement we can stop the current iteration, and continue with the next\n",
    "\n",
    "# i = 0\n",
    "\n",
    "# # infinite loop\n",
    "# while i < 6: # TTTTTTT\n",
    "#   if i == 3: # FFFTTTT\n",
    "#     print(\"*\")\n",
    "#     continue\n",
    "#   i += 1\n",
    "#   print(i) # 123\n",
    "\n",
    "# print(\"end\")\n",
    "# # Note that number 3 is missing in the result"
   ]
  },
  {
   "cell_type": "markdown",
   "metadata": {
    "id": "MyrDWWhQUxS6"
   },
   "source": [
    "#### else statement"
   ]
  },
  {
   "cell_type": "code",
   "execution_count": null,
   "metadata": {
    "colab": {
     "base_uri": "https://localhost:8080/"
    },
    "executionInfo": {
     "elapsed": 2,
     "status": "ok",
     "timestamp": 1684813884872,
     "user": {
      "displayName": "DSS DSS",
      "userId": "17636620013329168760"
     },
     "user_tz": -330
    },
    "id": "EHfuTODBU1Am",
    "outputId": "bf242d22-0e04-4f77-c29d-18f04666ba82"
   },
   "outputs": [
    {
     "name": "stdout",
     "output_type": "stream",
     "text": [
      "1\n",
      "2\n",
      "3\n",
      "4\n",
      "5\n",
      "i is no longer less than 6\n",
      "end\n"
     ]
    }
   ],
   "source": [
    "# using else statement we can run a block of code once when the condition is false\n",
    "\n",
    "i = 1\n",
    "while i < 6:\n",
    "    print(i)\n",
    "    i += 1\n",
    "else: # while condition false\n",
    "    print(\"i is no longer less than 6\")\n",
    "\n",
    "print(\"end\")"
   ]
  },
  {
   "cell_type": "code",
   "execution_count": null,
   "metadata": {
    "colab": {
     "base_uri": "https://localhost:8080/"
    },
    "executionInfo": {
     "elapsed": 9,
     "status": "ok",
     "timestamp": 1681716528679,
     "user": {
      "displayName": "vishnupriya karanam",
      "userId": "13289819926024070101"
     },
     "user_tz": -330
    },
    "id": "K4ViFZ9aHEub",
    "outputId": "97b14a56-8c8d-4dfc-c1aa-a1c967f0a6e5"
   },
   "outputs": [
    {
     "name": "stdout",
     "output_type": "stream",
     "text": [
      "1\n",
      "2\n",
      "end\n"
     ]
    }
   ],
   "source": [
    "# else will not execute if while exits through break\n",
    "\n",
    "i = 1\n",
    "while i < 6:\n",
    "    print(i)\n",
    "    i += 1\n",
    "    if i == 3:\n",
    "        break\n",
    "else: \n",
    "    print(\"i is no longer less than 6\")\n",
    "\n",
    "print('end')"
   ]
  },
  {
   "cell_type": "markdown",
   "metadata": {
    "id": "rM2JT117Vht8"
   },
   "source": [
    "#### nested while loop"
   ]
  },
  {
   "cell_type": "code",
   "execution_count": 1,
   "metadata": {
    "colab": {
     "base_uri": "https://localhost:8080/"
    },
    "executionInfo": {
     "elapsed": 6,
     "status": "ok",
     "timestamp": 1681717393097,
     "user": {
      "displayName": "vishnupriya karanam",
      "userId": "13289819926024070101"
     },
     "user_tz": -330
    },
    "id": "g7FLpCSSVn0S",
    "outputId": "40a3485e-d394-4caa-9f0b-51d5a1f99918"
   },
   "outputs": [
    {
     "name": "stdout",
     "output_type": "stream",
     "text": [
      "red  :  apple\n",
      "red  :  banana\n",
      "red  :  cherry\n",
      "big  :  apple\n",
      "big  :  banana\n",
      "big  :  cherry\n",
      "tasty  :  apple\n",
      "tasty  :  banana\n",
      "tasty  :  cherry\n"
     ]
    }
   ],
   "source": [
    "quality = [\"red\", \"big\", \"tasty\"]\n",
    "fruits = [\"apple\", \"banana\", \"cherry\"]\n",
    "\n",
    "i=0\n",
    "while i < 3:\n",
    "    j=0\n",
    "    while j < 3:\n",
    "        print(quality[i],\" : \",fruits[j])\n",
    "        j = j+1\n",
    "    i = i+1"
   ]
  },
  {
   "cell_type": "markdown",
   "metadata": {
    "id": "PaQpuYGkJZJh"
   },
   "source": [
    "####  pass statement in while loop"
   ]
  },
  {
   "cell_type": "code",
   "execution_count": 6,
   "metadata": {
    "id": "LUUlfRrnJZJi"
   },
   "outputs": [
    {
     "name": "stdout",
     "output_type": "stream",
     "text": [
      "else block\n"
     ]
    }
   ],
   "source": [
    "# using else statement we can run a block of code once when the condition is false\n",
    "\n",
    "i = 1\n",
    "while i > 6:\n",
    "    pass\n",
    "else:\n",
    "    print('else block')"
   ]
  },
  {
   "cell_type": "code",
   "execution_count": null,
   "metadata": {
    "id": "AC7JvrEaJeGQ"
   },
   "outputs": [],
   "source": []
  }
 ],
 "metadata": {
  "colab": {
   "provenance": []
  },
  "gpuClass": "standard",
  "kernelspec": {
   "display_name": "Python 3 (ipykernel)",
   "language": "python",
   "name": "python3"
  },
  "language_info": {
   "codemirror_mode": {
    "name": "ipython",
    "version": 3
   },
   "file_extension": ".py",
   "mimetype": "text/x-python",
   "name": "python",
   "nbconvert_exporter": "python",
   "pygments_lexer": "ipython3",
   "version": "3.9.16"
  }
 },
 "nbformat": 4,
 "nbformat_minor": 1
}
