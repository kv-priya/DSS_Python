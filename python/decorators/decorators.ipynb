{
 "cells": [
  {
   "cell_type": "markdown",
   "id": "b85c7867",
   "metadata": {},
   "source": [
    "#### facts about functions\n",
    "- can define a function inside another function\n",
    "- a function can be passed as parameter to another function \n",
    "- a function can also return another function"
   ]
  },
  {
   "cell_type": "code",
   "execution_count": 1,
   "id": "c9a46e5e",
   "metadata": {},
   "outputs": [
    {
     "name": "stdout",
     "output_type": "stream",
     "text": [
      "Welcome to DATA SCIENCE STACK\n"
     ]
    }
   ],
   "source": [
    "def messageWithWelcome(str):\n",
    " \n",
    "    # nested function\n",
    "    def addWelcome():\n",
    "        return \"Welcome to \"\n",
    " \n",
    "    return  addWelcome() + str # calling nested function\n",
    " \n",
    "def site(site_name): \n",
    "    return site_name.upper()\n",
    "\n",
    "# passing site() function as parameter to messageWithWelcome() function\n",
    "message = messageWithWelcome(site(\"Data Science Stack\"))\n",
    "print(message)"
   ]
  },
  {
   "cell_type": "code",
   "execution_count": 4,
   "id": "eb8aa131",
   "metadata": {},
   "outputs": [
    {
     "name": "stdout",
     "output_type": "stream",
     "text": [
      "<function A at 0x0000012511DE84C0>\n",
      "Inside the function A.\n",
      "<function B at 0x0000012511DE8550>\n",
      "Inside the function B.\n",
      "<function C at 0x0000012511D90B80>\n",
      "Inside the function C.\n",
      "5\n"
     ]
    }
   ],
   "source": [
    "# function returning a function\n",
    " \n",
    "def C(n):\n",
    "    print(\"Inside the function C.\")\n",
    "    return n\n",
    "\n",
    "def B():\n",
    "    print(\"Inside the function B.\")\n",
    "    return C\n",
    "     \n",
    "def A():\n",
    "    print(\"Inside the function A.\")\n",
    "    return B # function is returned\n",
    "\n",
    "print(A)\n",
    "returned_function = A()\n",
    "print(returned_function)\n",
    "\n",
    "other_returned_function = returned_function() # calling the returned function\n",
    "print(other_returned_function)\n",
    "\n",
    "number = other_returned_function(5)\n",
    "print(number)"
   ]
  },
  {
   "cell_type": "code",
   "execution_count": 18,
   "id": "65d94443",
   "metadata": {},
   "outputs": [
    {
     "name": "stdout",
     "output_type": "stream",
     "text": [
      "<function A.<locals>.<lambda> at 0x0000028151131790>\n",
      "20\n"
     ]
    }
   ],
   "source": [
    "def A(u, v):\n",
    "    w = u + 1 # 5\n",
    "    z = v + 1 # 4\n",
    "    return lambda: print(w * z)\n",
    " \n",
    "returned_function = A(4, 3)\n",
    " \n",
    "print(returned_function) # lambda function is returned\n",
    "\n",
    "returned_function()"
   ]
  },
  {
   "cell_type": "markdown",
   "id": "81df296d",
   "metadata": {},
   "source": [
    "#### decorators\n",
    "\n",
    "- A decorator is a function that takes a function as its only parameter and returns a function. \n",
    "- Decorators allow us to wrap another function in order to extend the behaviour of the wrapped function, without permanently modifying it. "
   ]
  },
  {
   "cell_type": "code",
   "execution_count": 5,
   "id": "8e29b829",
   "metadata": {},
   "outputs": [
    {
     "name": "stdout",
     "output_type": "stream",
     "text": [
      "Welcome to DATA SCIENCE STACK\n"
     ]
    }
   ],
   "source": [
    "# without decorator\n",
    "def decorate_message(fun):\n",
    " \n",
    "    def addWelcome():\n",
    "        return \"Welcome to \" + fun\n",
    " \n",
    "    return addWelcome()\n",
    " \n",
    "def site(site_name):\n",
    "    return site_name.upper();\n",
    " \n",
    "x = decorate_message(site(\"Data Science Stack\"))\n",
    "print(x)"
   ]
  },
  {
   "cell_type": "code",
   "execution_count": 7,
   "id": "2e270b0e",
   "metadata": {},
   "outputs": [
    {
     "name": "stdout",
     "output_type": "stream",
     "text": [
      "fun: <function site at 0x0000012511D90820>\n",
      "Welcome to DATA SCIENCE STACK\n"
     ]
    }
   ],
   "source": [
    "def decorate_message(fun):\n",
    "    print('fun:',fun)\n",
    " \n",
    "    def addWelcome(name):\n",
    "        return \"Welcome to \" + fun(name)\n",
    " \n",
    "    return addWelcome\n",
    " \n",
    "@decorate_message # annotation\n",
    "def site(site_name):\n",
    "    return site_name.upper();\n",
    " \n",
    "x = site(\"Data Science Stack\") \n",
    "print(x)"
   ]
  },
  {
   "cell_type": "code",
   "execution_count": 14,
   "id": "8c10037c",
   "metadata": {},
   "outputs": [
    {
     "name": "stdout",
     "output_type": "stream",
     "text": [
      "<function factorial_of_number at 0x0000012511DE80D0>\n",
      "<function square at 0x0000012511D90700>\n",
      "120\n",
      "Total time taken in :  factorial_of_number 0.00035572052001953125\n",
      "Square 25\n",
      "Total time taken in :  square 0.007852792739868164\n"
     ]
    }
   ],
   "source": [
    "# importing libraries\n",
    "import time\n",
    "import math\n",
    " \n",
    "# decorator to calculate duration taken by any function.\n",
    "def calculate_time(func):\n",
    "     \n",
    "    print(func)\n",
    "    \n",
    "    # added arguments inside the inner1,\n",
    "    # if function takes any arguments,\n",
    "    # can be added like this.\n",
    "    def inner1(*args, **kwargs):\n",
    " \n",
    "        # storing time before function execution\n",
    "        begin = time.time()\n",
    "         \n",
    "        func(*args, **kwargs)\n",
    " \n",
    "        # storing time after function execution\n",
    "        end = time.time()\n",
    "        print(\"Total time taken in : \", func.__name__, end - begin - 2)\n",
    " \n",
    "    return inner1\n",
    " \n",
    " \n",
    " \n",
    "# this can be added to any function present, in this case to calculate a factorial\n",
    "@calculate_time\n",
    "def factorial_of_number(num):\n",
    " \n",
    "    # sleep 2 seconds because it takes very less time\n",
    "    # so that you can see the actual difference\n",
    "    time.sleep(2)\n",
    "    print(math.factorial(num))\n",
    "    \n",
    "@calculate_time\n",
    "def square(num):\n",
    "    time.sleep(2)\n",
    "    print(\"Square\", num*num)\n",
    " \n",
    "# calling the function.\n",
    "factorial_of_number(5)\n",
    "square(5)"
   ]
  },
  {
   "cell_type": "code",
   "execution_count": 9,
   "id": "4ce5c145",
   "metadata": {},
   "outputs": [
    {
     "name": "stdout",
     "output_type": "stream",
     "text": [
      "<function sum_two_numbers at 0x0000012511DE8280>\n",
      "before Execution\n",
      "Inside the function\n",
      "after Execution\n",
      "Sum = 3\n"
     ]
    }
   ],
   "source": [
    "def hello_decorator(add):\n",
    "    print(add)\n",
    "\n",
    "    \n",
    "    def inner1(*args, **kwargs):\n",
    "         \n",
    "        print(\"before Execution\")\n",
    "         \n",
    "        # getting the returned value\n",
    "        returned_value = add(*args, **kwargs)\n",
    "        print(\"after Execution\")\n",
    "         \n",
    "        # returning the value to the original frame\n",
    "        return returned_value\n",
    "    \n",
    "    return inner1\n",
    " \n",
    " \n",
    "# adding decorator to the function\n",
    "@hello_decorator\n",
    "def sum_two_numbers(a, b):\n",
    "    print(\"Inside the function\")\n",
    "    return a + b\n",
    " \n",
    "a, b = 1, 2\n",
    " \n",
    "# getting the value through return of the function\n",
    "print(\"Sum =\", sum_two_numbers(a, b))"
   ]
  },
  {
   "cell_type": "markdown",
   "id": "95465585",
   "metadata": {},
   "source": [
    "#### chaining decorators"
   ]
  },
  {
   "cell_type": "code",
   "execution_count": 42,
   "id": "4a6543e2",
   "metadata": {},
   "outputs": [
    {
     "name": "stdout",
     "output_type": "stream",
     "text": [
      "decor x : 5\n",
      "decor1 x : 10\n",
      "40\n",
      "decor1 x : 3\n",
      "decor x : 12\n",
      "24\n"
     ]
    }
   ],
   "source": [
    "def decor1(func):\n",
    "    def inner():\n",
    "        x = func()\n",
    "        print('decor1 x :',x)\n",
    "        return 4 * x\n",
    "    return inner\n",
    " \n",
    "def decor(func):\n",
    "    def inner():\n",
    "        x = func()\n",
    "        print('decor x :',x)\n",
    "        return 2 * x\n",
    "    return inner\n",
    " \n",
    "@decor1\n",
    "@decor\n",
    "def num():\n",
    "    return 5\n",
    " \n",
    "@decor\n",
    "@decor1\n",
    "def num2():\n",
    "    return 3\n",
    "   \n",
    "print(num())\n",
    "print(num2())"
   ]
  },
  {
   "cell_type": "markdown",
   "id": "c7257709",
   "metadata": {},
   "source": [
    "#### memoization using decorators"
   ]
  },
  {
   "cell_type": "code",
   "execution_count": 43,
   "id": "8d3cd8cc",
   "metadata": {},
   "outputs": [
    {
     "name": "stdout",
     "output_type": "stream",
     "text": [
      "120\n",
      "120\n"
     ]
    }
   ],
   "source": [
    "# Simple recursive program to find factorial\n",
    "def facto(num):\n",
    "    if num == 1:\n",
    "        return 1\n",
    "    else:\n",
    "        return num * facto(num-1)\n",
    "         \n",
    " \n",
    "print(facto(5))\n",
    "print(facto(5)) # again performing same calculation"
   ]
  },
  {
   "cell_type": "code",
   "execution_count": 51,
   "id": "7fe45980",
   "metadata": {},
   "outputs": [
    {
     "name": "stdout",
     "output_type": "stream",
     "text": [
      "<function facto at 0x0000028152D884C0>\n",
      "1. Factorial :\n",
      "result saved in memory 1\n",
      "result saved in memory 2\n",
      "result saved in memory 6\n",
      "result saved in memory 24\n",
      "result saved in memory 120\n",
      "120\n",
      "2. Factorial :\n",
      "returning result from saved memory\n",
      "120\n"
     ]
    }
   ],
   "source": [
    "# Factorial program with memoization using\n",
    "# decorators.\n",
    " \n",
    "# A decorator function for function 'f' passed as parameter\n",
    "memory = {}\n",
    "def memoize_factorial(f):\n",
    "     \n",
    "    print(f)\n",
    "    # This inner function has access to memory and 'f'\n",
    "    def inner(num):\n",
    "        if num not in memory:\n",
    "            memory[num] = f(num)\n",
    "            print('result saved in memory', memory[num])\n",
    "        else:\n",
    "            print('returning result from saved memory')\n",
    "        return memory[num]\n",
    " \n",
    "    return inner\n",
    "     \n",
    "@memoize_factorial\n",
    "def facto(num):\n",
    "    if num == 1:\n",
    "        return 1\n",
    "    else:\n",
    "        return num * facto(num-1)\n",
    " \n",
    "print('1. Factorial :')\n",
    "print(facto(5))\n",
    " \n",
    "print('2. Factorial :')\n",
    "print(facto(5)) # directly coming from saved memory"
   ]
  },
  {
   "cell_type": "code",
   "execution_count": null,
   "id": "aff7c970",
   "metadata": {},
   "outputs": [],
   "source": []
  }
 ],
 "metadata": {
  "kernelspec": {
   "display_name": "Python 3 (ipykernel)",
   "language": "python",
   "name": "python3"
  },
  "language_info": {
   "codemirror_mode": {
    "name": "ipython",
    "version": 3
   },
   "file_extension": ".py",
   "mimetype": "text/x-python",
   "name": "python",
   "nbconvert_exporter": "python",
   "pygments_lexer": "ipython3",
   "version": "3.9.16"
  }
 },
 "nbformat": 4,
 "nbformat_minor": 5
}
