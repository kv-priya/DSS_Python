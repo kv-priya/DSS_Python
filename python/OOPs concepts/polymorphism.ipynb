{
 "cells": [
  {
   "cell_type": "markdown",
   "id": "cfab65d5",
   "metadata": {},
   "source": [
    "#### polymorphism\n",
    "- same function name (but different signatures) being used for different types\n",
    "    - add(a,b)\n",
    "    - add(a,b,c)\n",
    "- The key difference is the data types and number of arguments used in function.\n"
   ]
  },
  {
   "cell_type": "markdown",
   "id": "a689379c",
   "metadata": {},
   "source": [
    "**method name + method parameters => method signature**"
   ]
  },
  {
   "cell_type": "markdown",
   "id": "b82a0ae9",
   "metadata": {},
   "source": [
    "#### in-built poly-morphic functions"
   ]
  },
  {
   "cell_type": "code",
   "execution_count": 2,
   "id": "541aedc1",
   "metadata": {},
   "outputs": [
    {
     "name": "stdout",
     "output_type": "stream",
     "text": [
      "5\n",
      "3\n"
     ]
    }
   ],
   "source": [
    "# len() being used for a string\n",
    "print(len(\"geeks\"))\n",
    "\n",
    "# len() being used for a list\n",
    "print(len([10, 20, 30]))"
   ]
  },
  {
   "cell_type": "markdown",
   "id": "bb713a07",
   "metadata": {},
   "source": [
    "#### user-defined polymorphic functions"
   ]
  },
  {
   "cell_type": "code",
   "execution_count": 4,
   "id": "e84b233a",
   "metadata": {},
   "outputs": [
    {
     "name": "stdout",
     "output_type": "stream",
     "text": [
      "5\n",
      "9\n"
     ]
    }
   ],
   "source": [
    "def add(x, y, z = 0):\n",
    "    return x + y + z\n",
    "\n",
    "print(add(2, 3))\n",
    "print(add(2, 3, 4))"
   ]
  },
  {
   "cell_type": "markdown",
   "id": "4e3ac135",
   "metadata": {},
   "source": [
    "#### polymorphism with class methods"
   ]
  },
  {
   "cell_type": "code",
   "execution_count": 1,
   "id": "60762f38",
   "metadata": {},
   "outputs": [],
   "source": [
    "class India():\n",
    "    def capital(self):\n",
    "        print(\"New Delhi is the capital of India.\")\n",
    " \n",
    "    def language(self):\n",
    "        print(\"Hindi is the most widely spoken language of India.\")\n",
    " \n",
    "    def type(self):\n",
    "        print(\"India is a developing country.\")"
   ]
  },
  {
   "cell_type": "code",
   "execution_count": 2,
   "id": "7df8d4a4",
   "metadata": {},
   "outputs": [],
   "source": [
    " class USA():\n",
    "    def capital(self):\n",
    "        print(\"Washington, D.C. is the capital of USA.\")\n",
    " \n",
    "    def language(self):\n",
    "        print(\"English is the primary language of USA.\")\n",
    " \n",
    "    def type(self):\n",
    "        print(\"USA is a developed country.\")"
   ]
  },
  {
   "cell_type": "code",
   "execution_count": 3,
   "id": "06f3f279",
   "metadata": {},
   "outputs": [
    {
     "name": "stdout",
     "output_type": "stream",
     "text": [
      "New Delhi is the capital of India.\n",
      "Hindi is the most widely spoken language of India.\n",
      "India is a developing country.\n",
      "\n",
      "Washington, D.C. is the capital of USA.\n",
      "English is the primary language of USA.\n",
      "USA is a developed country.\n",
      "\n"
     ]
    }
   ],
   "source": [
    "obj_ind = India()\n",
    "obj_usa = USA()\n",
    "for country in (obj_ind, obj_usa):\n",
    "    country.capital() \n",
    "    country.language()\n",
    "    country.type()\n",
    "    print()\n",
    "    \n",
    "# country object reference is treated initially as \n",
    "# India object reference and later as USA object reference"
   ]
  },
  {
   "cell_type": "markdown",
   "id": "48406a00",
   "metadata": {},
   "source": [
    "#### polymorphism with Inheritance"
   ]
  },
  {
   "cell_type": "markdown",
   "id": "5e48f33c",
   "metadata": {},
   "source": [
    "inheritance:\n",
    "- child class inherits methods from parent class\n",
    "\n",
    "polymorphism:\n",
    "- lets us define methods in the child class that have the same name as the methods in the parent class\n",
    "\n",
    "Method overriding:\n",
    "- It is re-implementing a method in the child class"
   ]
  },
  {
   "cell_type": "code",
   "execution_count": 14,
   "id": "cc47d9da",
   "metadata": {},
   "outputs": [],
   "source": [
    "class Bird:\n",
    "  def intro(self):\n",
    "    print(\"There are many types of birds.\")\n",
    "  def flight(self):\n",
    "    print(\"Most of the birds can fly but some cannot.\")"
   ]
  },
  {
   "cell_type": "code",
   "execution_count": 23,
   "id": "305756b2",
   "metadata": {},
   "outputs": [],
   "source": [
    "class sparrow(Bird):\n",
    "  def flight(self): # method overriding : polymorphism\n",
    "    print(\"Sparrows can fly.\")"
   ]
  },
  {
   "cell_type": "code",
   "execution_count": 22,
   "id": "42f3cc55",
   "metadata": {},
   "outputs": [],
   "source": [
    "class ostrich(Bird):\n",
    "  def flight(self): # method overriding : polymorphism\n",
    "    print(\"Ostriches cannot fly.\")"
   ]
  },
  {
   "cell_type": "code",
   "execution_count": 24,
   "id": "83282ccd",
   "metadata": {},
   "outputs": [],
   "source": [
    "obj_bird = Bird()\n",
    "obj_spr = sparrow()\n",
    "obj_ost = ostrich()"
   ]
  },
  {
   "cell_type": "code",
   "execution_count": 25,
   "id": "fd5b0dad",
   "metadata": {},
   "outputs": [
    {
     "name": "stdout",
     "output_type": "stream",
     "text": [
      "There are many types of birds.\n",
      "Most of the birds can fly but some cannot.\n"
     ]
    }
   ],
   "source": [
    "obj_bird.intro()\n",
    "obj_bird.flight()"
   ]
  },
  {
   "cell_type": "code",
   "execution_count": 26,
   "id": "59b3b29f",
   "metadata": {},
   "outputs": [
    {
     "name": "stdout",
     "output_type": "stream",
     "text": [
      "There are many types of birds.\n",
      "Sparrows can fly.\n"
     ]
    }
   ],
   "source": [
    "obj_spr.intro()\n",
    "obj_spr.flight()"
   ]
  },
  {
   "cell_type": "code",
   "execution_count": 27,
   "id": "881d4646",
   "metadata": {},
   "outputs": [
    {
     "name": "stdout",
     "output_type": "stream",
     "text": [
      "There are many types of birds.\n",
      "Ostriches cannot fly.\n"
     ]
    }
   ],
   "source": [
    "obj_ost.intro()\n",
    "obj_ost.flight()"
   ]
  },
  {
   "cell_type": "markdown",
   "id": "41f2e749",
   "metadata": {},
   "source": [
    "#### polymorphism with a function and objects"
   ]
  },
  {
   "cell_type": "code",
   "execution_count": 29,
   "id": "b0230d33",
   "metadata": {},
   "outputs": [
    {
     "name": "stdout",
     "output_type": "stream",
     "text": [
      "New Delhi is the capital of India.\n",
      "Hindi is the most widely spoken language of India.\n",
      "India is a developing country.\n",
      "Washington, D.C. is the capital of USA.\n",
      "English is the primary language of USA.\n",
      "USA is a developed country.\n"
     ]
    }
   ],
   "source": [
    "def func(obj): # function that can take any object : fn - polymorphism\n",
    "    obj.capital()\n",
    "    obj.language()\n",
    "    obj.type()\n",
    "  \n",
    "obj_ind = India()\n",
    "obj_usa = USA()\n",
    "  \n",
    "func(obj_ind)\n",
    "func(obj_usa)"
   ]
  },
  {
   "cell_type": "markdown",
   "id": "c637f869",
   "metadata": {},
   "source": [
    "#### polymorphism using inheritance and method overriding"
   ]
  },
  {
   "cell_type": "code",
   "execution_count": 13,
   "id": "493918f1",
   "metadata": {},
   "outputs": [],
   "source": [
    "class Animal:\n",
    "    def speak(self):\n",
    "        raise NotImplementedError(\"Subclass must implement this method\")"
   ]
  },
  {
   "cell_type": "code",
   "execution_count": 14,
   "id": "a085d591",
   "metadata": {},
   "outputs": [],
   "source": [
    "# a = Animal()\n",
    "# a.speak()"
   ]
  },
  {
   "cell_type": "code",
   "execution_count": 15,
   "id": "a18110e9",
   "metadata": {},
   "outputs": [],
   "source": [
    "class Dog(Animal):\n",
    "    def speak(self): # overidden\n",
    "        return \"Woof!\""
   ]
  },
  {
   "cell_type": "code",
   "execution_count": 16,
   "id": "36998e95",
   "metadata": {},
   "outputs": [],
   "source": [
    "class Cat(Animal):\n",
    "    def speak(self): # overidden\n",
    "        return \"Meow!\""
   ]
  },
  {
   "cell_type": "code",
   "execution_count": 18,
   "id": "943bf615",
   "metadata": {},
   "outputs": [
    {
     "name": "stdout",
     "output_type": "stream",
     "text": [
      "Woof!\n",
      "Meow!\n"
     ]
    }
   ],
   "source": [
    "# Create a list of Animal objects\n",
    "animals = [Dog(), Cat()]\n",
    "\n",
    "# Call the speak method on each object\n",
    "for animal in animals:\n",
    "    print(animal.speak()) # same speak() used for diff purpose"
   ]
  },
  {
   "cell_type": "markdown",
   "id": "4512b0f0",
   "metadata": {},
   "source": [
    "#### run time polymorphism"
   ]
  },
  {
   "cell_type": "markdown",
   "id": "9437741d",
   "metadata": {},
   "source": [
    "**Runtime polymorphism is nothing but method overriding**"
   ]
  }
 ],
 "metadata": {
  "kernelspec": {
   "display_name": "Python 3 (ipykernel)",
   "language": "python",
   "name": "python3"
  },
  "language_info": {
   "codemirror_mode": {
    "name": "ipython",
    "version": 3
   },
   "file_extension": ".py",
   "mimetype": "text/x-python",
   "name": "python",
   "nbconvert_exporter": "python",
   "pygments_lexer": "ipython3",
   "version": "3.9.16"
  }
 },
 "nbformat": 4,
 "nbformat_minor": 5
}
