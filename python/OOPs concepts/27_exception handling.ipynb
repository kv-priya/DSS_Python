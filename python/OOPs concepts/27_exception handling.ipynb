{
 "cells": [
  {
   "cell_type": "markdown",
   "metadata": {
    "id": "yuKWBHoxguCz"
   },
   "source": [
    "### Exception Handling"
   ]
  },
  {
   "cell_type": "markdown",
   "metadata": {
    "id": "u-EWS3kqj2dN"
   },
   "source": [
    "- The try block lets you test a block of code for errors.\n",
    "- The except block lets you handle the error.\n",
    "- The else block lets you execute code when there is no error.\n",
    "- The finally block lets you execute code, regardless of the result of the try- and except blocks."
   ]
  },
  {
   "cell_type": "code",
   "execution_count": 1,
   "metadata": {
    "id": "hSh1xBbigzlZ"
   },
   "outputs": [
    {
     "ename": "NameError",
     "evalue": "name 'x' is not defined",
     "output_type": "error",
     "traceback": [
      "\u001b[1;31m---------------------------------------------------------------------------\u001b[0m",
      "\u001b[1;31mNameError\u001b[0m                                 Traceback (most recent call last)",
      "Cell \u001b[1;32mIn[1], line 3\u001b[0m\n\u001b[0;32m      1\u001b[0m \u001b[38;5;66;03m#This will raise an exception, because x is not defined:\u001b[39;00m\n\u001b[1;32m----> 3\u001b[0m \u001b[38;5;28mprint\u001b[39m(\u001b[43mx\u001b[49m) \u001b[38;5;66;03m# NameError: name 'x' is not defined\u001b[39;00m\n\u001b[0;32m      4\u001b[0m \u001b[38;5;28mprint\u001b[39m(\u001b[38;5;124m'\u001b[39m\u001b[38;5;124mend\u001b[39m\u001b[38;5;124m'\u001b[39m)\n",
      "\u001b[1;31mNameError\u001b[0m: name 'x' is not defined"
     ]
    }
   ],
   "source": [
    "#This will raise an exception, because x is not defined:\n",
    "\n",
    "# print(x) # NameError: name 'x' is not defined\n",
    "# print('end') # this is not executed due to error in above line"
   ]
  },
  {
   "cell_type": "code",
   "execution_count": 3,
   "metadata": {
    "colab": {
     "base_uri": "https://localhost:8080/"
    },
    "executionInfo": {
     "elapsed": 632,
     "status": "ok",
     "timestamp": 1681740835325,
     "user": {
      "displayName": "vishnupriya karanam",
      "userId": "13289819926024070101"
     },
     "user_tz": -330
    },
    "id": "I7j02EDmgxI5",
    "outputId": "46468c7f-0b62-4642-eacd-e6bf5faa0483"
   },
   "outputs": [
    {
     "name": "stdout",
     "output_type": "stream",
     "text": [
      "An exception occurred\n",
      "NameError: name 'x' is not defined\n",
      "end\n",
      "program continues after exception is handled\n"
     ]
    }
   ],
   "source": [
    "#The try block will generate an error, because x is not defined \n",
    "# and it is handled in except block\n",
    "\n",
    "try:\n",
    "  print(x)\n",
    "except:\n",
    "  print(\"An exception occurred\")\n",
    "  print(\"NameError: name 'x' is not defined\")\n",
    "\n",
    "print('end')\n",
    "print('program continues after exception is handled')"
   ]
  },
  {
   "cell_type": "markdown",
   "metadata": {
    "id": "deNQWiqrg1Xo"
   },
   "source": [
    "#### many exceptions"
   ]
  },
  {
   "cell_type": "code",
   "execution_count": 13,
   "metadata": {},
   "outputs": [],
   "source": [
    "# print(len(9)) # TypeError: object of type 'int' has no len()"
   ]
  },
  {
   "cell_type": "code",
   "execution_count": 14,
   "metadata": {
    "colab": {
     "base_uri": "https://localhost:8080/"
    },
    "executionInfo": {
     "elapsed": 578,
     "status": "ok",
     "timestamp": 1681740862409,
     "user": {
      "displayName": "vishnupriya karanam",
      "userId": "13289819926024070101"
     },
     "user_tz": -330
    },
    "id": "0o8JKsujg3Jb",
    "outputId": "7e17d110-d65c-44b8-dabb-5b12ce5bd325"
   },
   "outputs": [
    {
     "name": "stdout",
     "output_type": "stream",
     "text": [
      "Something else went wrong\n",
      "program continues after exception is handled\n"
     ]
    }
   ],
   "source": [
    "#The try block will generate a NameError, because x is not defined:\n",
    "\n",
    "try:\n",
    "#   print(x)\n",
    "  print(len(9))\n",
    "except NameError: # executed\n",
    "  print(\"Variable x is not defined\")\n",
    "except: # not executed\n",
    "  print(\"Something else went wrong\")\n",
    "\n",
    "print('program continues after exception is handled')"
   ]
  },
  {
   "cell_type": "markdown",
   "metadata": {},
   "source": [
    "- syntax error is not handled in exception handling\n",
    "- as, syntax error is compile time error\n",
    "- except handles only Run time errors"
   ]
  },
  {
   "cell_type": "markdown",
   "metadata": {
    "id": "lfTa1S__g5AW"
   },
   "source": [
    "#### else"
   ]
  },
  {
   "cell_type": "code",
   "execution_count": 15,
   "metadata": {
    "colab": {
     "base_uri": "https://localhost:8080/"
    },
    "executionInfo": {
     "elapsed": 523,
     "status": "ok",
     "timestamp": 1681740883962,
     "user": {
      "displayName": "vishnupriya karanam",
      "userId": "13289819926024070101"
     },
     "user_tz": -330
    },
    "id": "CySyJy-_g7tF",
    "outputId": "4811edc4-cd84-47af-ea70-b2a7ddfbe203"
   },
   "outputs": [
    {
     "name": "stdout",
     "output_type": "stream",
     "text": [
      "Hello\n",
      "Hi\n",
      "Nothing went wrong. no exception occured\n",
      "program continues\n"
     ]
    }
   ],
   "source": [
    "#The try block does not raise any errors, so the else block is executed:\n",
    "\n",
    "try:\n",
    "  print(\"Hello\")\n",
    "  print(\"Hi\")\n",
    "except:\n",
    "  print(\"Something went wrong\")\n",
    "else:\n",
    "  print(\"Nothing went wrong. no exception occured\")\n",
    "\n",
    "print('program continues')"
   ]
  },
  {
   "cell_type": "markdown",
   "metadata": {
    "id": "uvZqiTuvg-Hd"
   },
   "source": [
    "#### finally"
   ]
  },
  {
   "cell_type": "markdown",
   "metadata": {
    "id": "87HReqxokubx"
   },
   "source": [
    "**This is useful to close objects and clean up resources**"
   ]
  },
  {
   "cell_type": "code",
   "execution_count": null,
   "metadata": {
    "colab": {
     "base_uri": "https://localhost:8080/"
    },
    "executionInfo": {
     "elapsed": 7,
     "status": "ok",
     "timestamp": 1681740942050,
     "user": {
      "displayName": "vishnupriya karanam",
      "userId": "13289819926024070101"
     },
     "user_tz": -330
    },
    "id": "9a93sQSnkd5y",
    "outputId": "71cb469a-3f86-41f4-9a72-d06b248582e9"
   },
   "outputs": [
    {
     "name": "stdout",
     "output_type": "stream",
     "text": [
      "Something went wrong\n",
      "The 'try except' is finished\n"
     ]
    }
   ],
   "source": [
    "#The finally block gets executed \n",
    "# no matter if the try block raises any errors or not\n",
    "\n",
    "try:\n",
    "  print(xyz) # generates name error\n",
    "except:\n",
    "  print(\"Something went wrong\")\n",
    "finally:\n",
    "  print(\"The 'try except' is finished\")"
   ]
  },
  {
   "cell_type": "code",
   "execution_count": null,
   "metadata": {
    "colab": {
     "base_uri": "https://localhost:8080/"
    },
    "executionInfo": {
     "elapsed": 5,
     "status": "ok",
     "timestamp": 1681740944266,
     "user": {
      "displayName": "vishnupriya karanam",
      "userId": "13289819926024070101"
     },
     "user_tz": -330
    },
    "id": "3rR--H8ohAPH",
    "outputId": "fe5884fb-dcc4-4001-db09-53c003f566d9"
   },
   "outputs": [
    {
     "name": "stdout",
     "output_type": "stream",
     "text": [
      "hello\n",
      "The 'try except' is finished\n"
     ]
    }
   ],
   "source": [
    "#The finally block gets executed \n",
    "# no matter if the try block raises any errors or not:\n",
    "\n",
    "try:\n",
    "  print('hello') # no error\n",
    "except:\n",
    "  print(\"Something went wrong\")\n",
    "finally:\n",
    "  print(\"The 'try except' is finished\")"
   ]
  },
  {
   "attachments": {
    "image.png": {
     "image/png": "[encoded data removed]"
    }
   },
   "cell_type": "markdown",
   "metadata": {},
   "source": [
    "![image.png](attachment:image.png)"
   ]
  },
  {
   "cell_type": "markdown",
   "metadata": {
    "id": "52bxHEqGkm2y"
   },
   "source": [
    "#### nested try"
   ]
  },
  {
   "cell_type": "code",
   "execution_count": 17,
   "metadata": {
    "colab": {
     "base_uri": "https://localhost:8080/"
    },
    "executionInfo": {
     "elapsed": 7,
     "status": "ok",
     "timestamp": 1681741049952,
     "user": {
      "displayName": "vishnupriya karanam",
      "userId": "13289819926024070101"
     },
     "user_tz": -330
    },
    "id": "n9-8Z55HhBWm",
    "outputId": "0388d63f-a006-4f83-e40f-e9b88a243222"
   },
   "outputs": [
    {
     "name": "stdout",
     "output_type": "stream",
     "text": [
      "Something went wrong when opening the file\n"
     ]
    }
   ],
   "source": [
    "try:\n",
    "  f = open(\"demofile.txt\")\n",
    "  try:\n",
    "    f.write(\"welcome\")\n",
    "  except: # no write access\n",
    "    print(\"Something went wrong when writing to the file\")\n",
    "  finally:\n",
    "    f.close()\n",
    "except:\n",
    "  print(\"Something went wrong when opening the file\")\n",
    "\n",
    "# The program can continue, without leaving the file object open."
   ]
  },
  {
   "cell_type": "markdown",
   "metadata": {
    "id": "vPYF4N1qhC4H"
   },
   "source": [
    "#### raise user defined exception"
   ]
  },
  {
   "cell_type": "markdown",
   "metadata": {
    "id": "m10KUveTyRhE"
   },
   "source": [
    "- We can raise an exception explicitly with the raise keyword\n",
    "- Raises an user defined exception, on certain condition failure"
   ]
  },
  {
   "cell_type": "code",
   "execution_count": 20,
   "metadata": {
    "id": "GxbjNWX3hHZ3"
   },
   "outputs": [
    {
     "name": "stdout",
     "output_type": "stream",
     "text": [
      "enter your age: 3\n"
     ]
    }
   ],
   "source": [
    "age = int(input(\"enter your age: \")) # 25, -20 (error)\n",
    "\n",
    "if age < 0:\n",
    "  raise Exception(\"Age cannot be a negative number\")"
   ]
  },
  {
   "cell_type": "code",
   "execution_count": null,
   "metadata": {
    "id": "ysAuTU9NhIus"
   },
   "outputs": [],
   "source": [
    "# x = \"hello\"\n",
    "\n",
    "# if not type(x) is int:\n",
    "#   raise TypeError(\"Only integers are allowed\") # TypeError: Only integers are allowed"
   ]
  },
  {
   "cell_type": "code",
   "execution_count": 22,
   "metadata": {
    "id": "jjAfNGA-yRhE"
   },
   "outputs": [],
   "source": [
    "# course = \"python\"\n",
    "\n",
    "# if course != \"data science\":\n",
    "#     raise TypeError(\"Both the courses are different.\")"
   ]
  },
  {
   "cell_type": "markdown",
   "metadata": {
    "id": "lvU0dkNFyRhF"
   },
   "source": [
    "#### assert"
   ]
  },
  {
   "cell_type": "markdown",
   "metadata": {
    "id": "37e19c2e"
   },
   "source": [
    "- This function is used for debugging purposes. Usually used to check the correctness of code. \n",
    "- If a statement is evaluated to be true, nothing happens, but when it is false, “AssertionError” is raised. One can also print a message with the error, separated by a comma."
   ]
  },
  {
   "cell_type": "code",
   "execution_count": 26,
   "metadata": {
    "id": "eb2d5bb1"
   },
   "outputs": [
    {
     "ename": "AssertionError",
     "evalue": "on False - AssertionError - Exception Message",
     "output_type": "error",
     "traceback": [
      "\u001b[1;31m---------------------------------------------------------------------------\u001b[0m",
      "\u001b[1;31mAssertionError\u001b[0m                            Traceback (most recent call last)",
      "Cell \u001b[1;32mIn[26], line 3\u001b[0m\n\u001b[0;32m      1\u001b[0m \u001b[38;5;66;03m# assert boolean_expression, message\u001b[39;00m\n\u001b[0;32m      2\u001b[0m \u001b[38;5;28;01massert\u001b[39;00m \u001b[38;5;241m5\u001b[39m\u001b[38;5;241m<\u001b[39m\u001b[38;5;241m6\u001b[39m, \u001b[38;5;124m\"\u001b[39m\u001b[38;5;124mon True No Exception is generated\u001b[39m\u001b[38;5;124m\"\u001b[39m \n\u001b[1;32m----> 3\u001b[0m \u001b[38;5;28;01massert\u001b[39;00m \u001b[38;5;241m6\u001b[39m\u001b[38;5;241m<\u001b[39m\u001b[38;5;241m5\u001b[39m, \u001b[38;5;124m\"\u001b[39m\u001b[38;5;124mon False - AssertionError - Exception Message\u001b[39m\u001b[38;5;124m\"\u001b[39m\n",
      "\u001b[1;31mAssertionError\u001b[0m: on False - AssertionError - Exception Message"
     ]
    }
   ],
   "source": [
    "# assert boolean_expression, message\n",
    "assert 5<6, \"on True No Exception is generated\" \n",
    "assert 6<5, \"on False - AssertionError - Exception Message\" "
   ]
  },
  {
   "cell_type": "code",
   "execution_count": null,
   "metadata": {
    "id": "4b490f7e"
   },
   "outputs": [],
   "source": [
    "# b = 0\n",
    "# # raise AssertionError with given message, if condition is False\n",
    "# assert b != 0, \"Divide by 0 error\" "
   ]
  },
  {
   "cell_type": "markdown",
   "metadata": {},
   "source": [
    "#### create custom exception class"
   ]
  },
  {
   "cell_type": "code",
   "execution_count": 45,
   "metadata": {},
   "outputs": [
    {
     "name": "stdout",
     "output_type": "stream",
     "text": [
      "A New Exception occurred:  6\n"
     ]
    }
   ],
   "source": [
    "# class MyError is derived from super class Exception\n",
    "class MyError(Exception):\n",
    " \n",
    "    def __init__(self, value):\n",
    "        self.value = value # value is attribute in MyError Exception class\n",
    " \n",
    "    def __str__(self):\n",
    "        return(repr(self.value))\n",
    " \n",
    "try:\n",
    "    raise(MyError(3*2))\n",
    "except MyError as error: # # Value of Exception is stored in error\n",
    "    print('A New Exception occurred: ', error.value)"
   ]
  },
  {
   "cell_type": "code",
   "execution_count": 46,
   "metadata": {},
   "outputs": [
    {
     "name": "stdout",
     "output_type": "stream",
     "text": [
      "Help on class Exception in module builtins:\n",
      "\n",
      "class Exception(BaseException)\n",
      " |  Common base class for all non-exit exceptions.\n",
      " |  \n",
      " |  Method resolution order:\n",
      " |      Exception\n",
      " |      BaseException\n",
      " |      object\n",
      " |  \n",
      " |  Built-in subclasses:\n",
      " |      ArithmeticError\n",
      " |      AssertionError\n",
      " |      AttributeError\n",
      " |      BufferError\n",
      " |      ... and 15 other subclasses\n",
      " |  \n",
      " |  Methods defined here:\n",
      " |  \n",
      " |  __init__(self, /, *args, **kwargs)\n",
      " |      Initialize self.  See help(type(self)) for accurate signature.\n",
      " |  \n",
      " |  ----------------------------------------------------------------------\n",
      " |  Static methods defined here:\n",
      " |  \n",
      " |  __new__(*args, **kwargs) from builtins.type\n",
      " |      Create and return a new object.  See help(type) for accurate signature.\n",
      " |  \n",
      " |  ----------------------------------------------------------------------\n",
      " |  Methods inherited from BaseException:\n",
      " |  \n",
      " |  __delattr__(self, name, /)\n",
      " |      Implement delattr(self, name).\n",
      " |  \n",
      " |  __getattribute__(self, name, /)\n",
      " |      Return getattr(self, name).\n",
      " |  \n",
      " |  __reduce__(...)\n",
      " |      Helper for pickle.\n",
      " |  \n",
      " |  __repr__(self, /)\n",
      " |      Return repr(self).\n",
      " |  \n",
      " |  __setattr__(self, name, value, /)\n",
      " |      Implement setattr(self, name, value).\n",
      " |  \n",
      " |  __setstate__(...)\n",
      " |  \n",
      " |  __str__(self, /)\n",
      " |      Return str(self).\n",
      " |  \n",
      " |  with_traceback(...)\n",
      " |      Exception.with_traceback(tb) --\n",
      " |      set self.__traceback__ to tb and return self.\n",
      " |  \n",
      " |  ----------------------------------------------------------------------\n",
      " |  Data descriptors inherited from BaseException:\n",
      " |  \n",
      " |  __cause__\n",
      " |      exception cause\n",
      " |  \n",
      " |  __context__\n",
      " |      exception context\n",
      " |  \n",
      " |  __dict__\n",
      " |  \n",
      " |  __suppress_context__\n",
      " |  \n",
      " |  __traceback__\n",
      " |  \n",
      " |  args\n",
      "\n"
     ]
    }
   ],
   "source": [
    "help(Exception)"
   ]
  },
  {
   "cell_type": "code",
   "execution_count": 55,
   "metadata": {},
   "outputs": [
    {
     "name": "stdout",
     "output_type": "stream",
     "text": [
      "Enter a number: -2\n",
      "Input value cannot be less than zero, try again!\n"
     ]
    }
   ],
   "source": [
    "# define Python user-defined exceptions\n",
    "class Error(Exception):\n",
    "    \"\"\"Base class for other exceptions\"\"\"\n",
    "    pass\n",
    " \n",
    "class zerodivision(Error):\n",
    "    \"\"\"Raised when the input value is zero\"\"\"\n",
    "    pass\n",
    " \n",
    "try:\n",
    "    i_num = int(input(\"Enter a number: \"))\n",
    "    if i_num == 0:\n",
    "        raise zerodivision\n",
    "    if i_num < 0:\n",
    "        raise Error\n",
    "except zerodivision:\n",
    "    print(\"Input value cannot be zero, try again!\")\n",
    "except Error:\n",
    "    print(\"Input value cannot be less than zero, try again!\")\n",
    "else:\n",
    "    print('no exception occured as input is greater than zero')"
   ]
  },
  {
   "cell_type": "markdown",
   "metadata": {},
   "source": [
    "#### Advantages of Exception Handling\n",
    "- improved program reliability\n",
    "- simplified error handling\n",
    "- cleaner code\n",
    "- easier debugging"
   ]
  },
  {
   "cell_type": "markdown",
   "metadata": {},
   "source": [
    "#### Disadvantages of Exception Handling\n",
    "- performance overhead - since slower\n",
    "- increased code complexity\n",
    "- possible security risks"
   ]
  },
  {
   "cell_type": "code",
   "execution_count": 29,
   "metadata": {},
   "outputs": [
    {
     "name": "stdout",
     "output_type": "stream",
     "text": [
      "exception handled\n",
      "10\n",
      "end of program\n"
     ]
    }
   ],
   "source": [
    "x = 2\n",
    "try:\n",
    "    x = 9\n",
    "    raise Exception(\"Age cannot be a negative number\")\n",
    "except:\n",
    "    x = 10 # data loss\n",
    "    print(\"exception handled\")\n",
    "\n",
    "print(x)\n",
    "print('end of program')"
   ]
  },
  {
   "cell_type": "markdown",
   "metadata": {},
   "source": [
    "#### Few exceptions"
   ]
  },
  {
   "cell_type": "markdown",
   "metadata": {},
   "source": [
    "- IOError: if the file can’t be opened\n",
    "- KeyboardInterrupt: when an unrequired key is pressed by the user\n",
    "- ValueError: when the built-in function receives a wrong argument\n",
    "- EOFError: if End-Of-File is hit without reading any data\n",
    "- ImportError: if it is unable to find the module"
   ]
  }
 ],
 "metadata": {
  "colab": {
   "provenance": []
  },
  "kernelspec": {
   "display_name": "Python 3 (ipykernel)",
   "language": "python",
   "name": "python3"
  },
  "language_info": {
   "codemirror_mode": {
    "name": "ipython",
    "version": 3
   },
   "file_extension": ".py",
   "mimetype": "text/x-python",
   "name": "python",
   "nbconvert_exporter": "python",
   "pygments_lexer": "ipython3",
   "version": "3.9.16"
  }
 },
 "nbformat": 4,
 "nbformat_minor": 1
}
