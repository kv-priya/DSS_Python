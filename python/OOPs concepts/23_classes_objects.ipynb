{
 "cells": [
  {
   "cell_type": "markdown",
   "metadata": {
    "id": "xTfdErk2YULn"
   },
   "source": [
    "#### create a class"
   ]
  },
  {
   "cell_type": "code",
   "execution_count": 5,
   "metadata": {
    "colab": {
     "base_uri": "https://localhost:8080/"
    },
    "executionInfo": {
     "elapsed": 5,
     "status": "ok",
     "timestamp": 1681719566701,
     "user": {
      "displayName": "vishnupriya karanam",
      "userId": "13289819926024070101"
     },
     "user_tz": -330
    },
    "id": "_7ydV9lkYZbX",
    "outputId": "edb32cb5-536f-492d-bf36-6b6f13b55902"
   },
   "outputs": [
    {
     "name": "stdout",
     "output_type": "stream",
     "text": [
      "<class '__main__.MyClass'>\n"
     ]
    }
   ],
   "source": [
    "class MyClass:  # custom datatype\n",
    "  x = 5\n",
    "\n",
    "print(MyClass)\n",
    "\n",
    "# a = tuple([8,])\n",
    "# print(type(a))"
   ]
  },
  {
   "cell_type": "markdown",
   "metadata": {
    "id": "J0DCYNdKYV9z"
   },
   "source": [
    "#### create object"
   ]
  },
  {
   "cell_type": "code",
   "execution_count": 7,
   "metadata": {
    "colab": {
     "base_uri": "https://localhost:8080/"
    },
    "executionInfo": {
     "elapsed": 4,
     "status": "ok",
     "timestamp": 1685071162917,
     "user": {
      "displayName": "DSS DSS",
      "userId": "17636620013329168760"
     },
     "user_tz": -330
    },
    "id": "89-aUfYBYepv",
    "outputId": "64801159-0927-4e40-a5b0-f6b8a98e1431"
   },
   "outputs": [
    {
     "name": "stdout",
     "output_type": "stream",
     "text": [
      "5\n",
      "9\n"
     ]
    }
   ],
   "source": [
    "class MyClass:\n",
    "  x = 5\n",
    "\n",
    "p1 = MyClass() # object creation # c1 = Car()\n",
    "print(p1.x)\n",
    "p1.x = 9\n",
    "print(p1.x)"
   ]
  },
  {
   "cell_type": "markdown",
   "metadata": {
    "id": "hfpo-z6WYYbm"
   },
   "source": [
    "#### \\_init_() - default constructor\n",
    "\n",
    "The \\_init_() function is called automatically every time the class is being used to create a new object."
   ]
  },
  {
   "cell_type": "code",
   "execution_count": 9,
   "metadata": {
    "colab": {
     "base_uri": "https://localhost:8080/",
     "height": 356
    },
    "executionInfo": {
     "elapsed": 10,
     "status": "error",
     "timestamp": 1685154956301,
     "user": {
      "displayName": "DSS DSS",
      "userId": "17636620013329168760"
     },
     "user_tz": -330
    },
    "id": "SzJhFG19DsNH",
    "outputId": "71851215-1846-4c1f-f122-78d77ef7a2b9"
   },
   "outputs": [
    {
     "name": "stdout",
     "output_type": "stream",
     "text": [
      "default constructor\n",
      "tony\n",
      "23\n",
      "default constructor\n",
      "john\n",
      "25\n"
     ]
    }
   ],
   "source": [
    "class Person:\n",
    "  name = 'tony'\n",
    "  age = 23\n",
    "\n",
    "  def __init__(self): # default constructor\n",
    "    print(\"default constructor\")\n",
    "\n",
    "p1 = Person() # object creation using default constructor\n",
    "print(p1.name) # default values\n",
    "print(p1.age)\n",
    "\n",
    "p2 = Person()\n",
    "p2.name = 'john' # changing the default values\n",
    "p2.age = 25\n",
    "print(p2.name)\n",
    "print(p2.age)"
   ]
  },
  {
   "cell_type": "markdown",
   "metadata": {},
   "source": [
    "self speciality: \n",
    "**myobject.method(arg1, arg2)** => \n",
    "**MyClass.method(myobject, arg1, arg2)**"
   ]
  },
  {
   "cell_type": "code",
   "execution_count": 17,
   "metadata": {},
   "outputs": [
    {
     "name": "stdout",
     "output_type": "stream",
     "text": [
      "tony\n",
      "23\n",
      "john\n",
      "25\n"
     ]
    }
   ],
   "source": [
    "class Person:\n",
    "  name = 'tony'\n",
    "  age = 23\n",
    "\n",
    "  # if no constructor is defined, then \n",
    "  # this default constructor will be present\n",
    "\n",
    "#   def __init__(self): # default constructor\n",
    "#     pass\n",
    "\n",
    "\n",
    "p1 = Person() # object creation using default constructor\n",
    "print(p1.name)\n",
    "print(p1.age)\n",
    "\n",
    "p2 = Person()\n",
    "p2.name = 'john'\n",
    "p2.age = 25\n",
    "print(p2.name)\n",
    "print(p2.age)"
   ]
  },
  {
   "cell_type": "code",
   "execution_count": 10,
   "metadata": {},
   "outputs": [
    {
     "name": "stdout",
     "output_type": "stream",
     "text": [
      "default constructor\n",
      "tony\n",
      "23\n",
      "default constructor\n",
      "john\n",
      "25\n"
     ]
    }
   ],
   "source": [
    "class Person:\n",
    "  name = 'tony'\n",
    "  age = 23\n",
    "\n",
    "  # if two default constructors are present, \n",
    "  # it gets overriden and last default constructor is used\n",
    "\n",
    "  def __init__(self): # default constructor\n",
    "    pass\n",
    "        \n",
    "  def __init__(self): # overidden\n",
    "    print(\"default constructor\")\n",
    "\n",
    "\n",
    "\n",
    "p1 = Person() # object creation using default constructor\n",
    "print(p1.name)\n",
    "print(p1.age)\n",
    "\n",
    "p2 = Person()\n",
    "p2.name = 'john'\n",
    "p2.age = 25\n",
    "print(p2.name)\n",
    "print(p2.age)"
   ]
  },
  {
   "cell_type": "code",
   "execution_count": 11,
   "metadata": {},
   "outputs": [
    {
     "name": "stdout",
     "output_type": "stream",
     "text": [
      "tony\n",
      "23\n",
      "john\n",
      "25\n"
     ]
    }
   ],
   "source": [
    "class Person:\n",
    "  name = 'tony'\n",
    "  age = 23\n",
    "\n",
    "  # if two default constructors are present, \n",
    "  # it gets overriden and last default constructor is used\n",
    "\n",
    "  \n",
    "  def __init__(self): # default constructor\n",
    "    print(\"default constructor\")\n",
    "    \n",
    "  def __init__(self): # overidden\n",
    "    pass\n",
    "        \n",
    "p1 = Person() # object creation using default constructor\n",
    "print(p1.name)\n",
    "print(p1.age)\n",
    "\n",
    "p2 = Person()\n",
    "p2.name = 'john'\n",
    "p2.age = 25\n",
    "print(p2.name)\n",
    "print(p2.age)"
   ]
  },
  {
   "cell_type": "markdown",
   "metadata": {},
   "source": [
    "#### parameterized constructor"
   ]
  },
  {
   "cell_type": "code",
   "execution_count": null,
   "metadata": {},
   "outputs": [],
   "source": [
    "class Person:\n",
    "\n",
    "  def __init__(self, n, age): # parameterized constructor\n",
    "    self.name = n\n",
    "    self.age = age # (self.)class var = local var\n",
    "\n",
    "p1 = Person(\"John\", 36) #  object creation using parameterized constructor\n",
    "p2 = Person(\"Tony\",25)\n",
    "\n",
    "print(p1.name)\n",
    "print(p1.age)\n",
    "\n",
    "print(p2.name)\n",
    "print(p2.age)\n",
    "\n",
    "p3 = Person() # TypeError: __init__() missing 2 required positional arguments: 'n' and 'age'"
   ]
  },
  {
   "cell_type": "markdown",
   "metadata": {},
   "source": [
    "**here, default constructor is overriden by parameterized constructor**"
   ]
  },
  {
   "cell_type": "code",
   "execution_count": 13,
   "metadata": {
    "colab": {
     "base_uri": "https://localhost:8080/"
    },
    "executionInfo": {
     "elapsed": 14,
     "status": "ok",
     "timestamp": 1685154956300,
     "user": {
      "displayName": "DSS DSS",
      "userId": "17636620013329168760"
     },
     "user_tz": -330
    },
    "id": "sOevzCM4Yhj-",
    "outputId": "fadaa830-fcfc-4ba9-9cce-0a3c9ed6fa5c"
   },
   "outputs": [
    {
     "name": "stdout",
     "output_type": "stream",
     "text": [
      "parameterized constructor\n",
      "parameterized constructor\n",
      "John\n",
      "36\n",
      "Tony\n",
      "25\n",
      "get method\n",
      "25\n",
      "Person method\n",
      "Tony\n"
     ]
    }
   ],
   "source": [
    "class Person:\n",
    "    def __init__(self): # default constructor\n",
    "        print('default constructor')\n",
    "    \n",
    "    def __init__(self, n, age): # overidden - parameterized constructor overrides existing default constructor\n",
    "        print('parameterized constructor')\n",
    "        self.name = n\n",
    "        self.age = age\n",
    "        \n",
    "    def get(self): # method\n",
    "        print(\"get method\")\n",
    "        print(self.age)\n",
    "    \n",
    "    def Person(self): # avoid, not recommended\n",
    "        print('Person method')\n",
    "        print(self.name)\n",
    "        \n",
    "\n",
    "p1 = Person(\"John\", 36) #  object creation using parameterized constructor\n",
    "p2 = Person(\"Tony\",25)\n",
    "\n",
    "print(p1.name)\n",
    "print(p1.age)\n",
    "\n",
    "print(p2.name)\n",
    "print(p2.age)\n",
    "p2.get()\n",
    "p2.Person()\n",
    "\n",
    "# p3 = Person() # TypeError: __init__() missing 2 required positional arguments: 'n' and 'age'"
   ]
  },
  {
   "cell_type": "markdown",
   "metadata": {},
   "source": [
    "**here, parameterized constructor is overriden by default constructor**"
   ]
  },
  {
   "cell_type": "code",
   "execution_count": 26,
   "metadata": {
    "colab": {
     "base_uri": "https://localhost:8080/"
    },
    "executionInfo": {
     "elapsed": 14,
     "status": "ok",
     "timestamp": 1685154956300,
     "user": {
      "displayName": "DSS DSS",
      "userId": "17636620013329168760"
     },
     "user_tz": -330
    },
    "id": "sOevzCM4Yhj-",
    "outputId": "fadaa830-fcfc-4ba9-9cce-0a3c9ed6fa5c"
   },
   "outputs": [
    {
     "name": "stdout",
     "output_type": "stream",
     "text": [
      "default constructor\n"
     ]
    }
   ],
   "source": [
    "class Person:\n",
    "    \n",
    "    def __init__(self, n, age): # parameterized constructor overrides existing default constructor\n",
    "        print('parameterized constructor')\n",
    "        self.name = n\n",
    "        self.age = age\n",
    "        \n",
    "    def __init__(self): # overidden - default constructor\n",
    "        print('default constructor')\n",
    "        \n",
    "    def get(self): # method\n",
    "        print(\"get method\")\n",
    "    \n",
    "    def Person(self): # avoid, not recommended\n",
    "        print('Person method')\n",
    "        \n",
    "\n",
    "p3 = Person()\n",
    "\n",
    "# p1 = Person(\"John\", 36) # TypeError: __init__() takes 1 positional argument but 3 were given"
   ]
  },
  {
   "cell_type": "markdown",
   "metadata": {},
   "source": [
    "**Advantages of using constructors:**\n",
    "- Initialiazation of objects with default or custom values is easy\n",
    "- Easy to implement using \\__init__() method\n",
    "- Better readability of where and how the attributes are initialised\n",
    "- Encapsulation is ensured by controlled initialisation of object attributes"
   ]
  },
  {
   "cell_type": "markdown",
   "metadata": {},
   "source": [
    "**Disdvantages of using constructors:**\n",
    "- Method or Constructor Overloading is not supported in python\n",
    "- Limited functionality (no public, private, protected access modifiers)\n",
    "- Constructors may be unnecessary (When attributes are needed to be initialised with default values)"
   ]
  },
  {
   "cell_type": "markdown",
   "metadata": {
    "id": "0grNIFyuYkXQ"
   },
   "source": [
    "#### \\_str_() : string representation of object"
   ]
  },
  {
   "cell_type": "code",
   "execution_count": null,
   "metadata": {
    "colab": {
     "base_uri": "https://localhost:8080/"
    },
    "executionInfo": {
     "elapsed": 411,
     "status": "ok",
     "timestamp": 1685071923900,
     "user": {
      "displayName": "DSS DSS",
      "userId": "17636620013329168760"
     },
     "user_tz": -330
    },
    "id": "o8h9RUBBYl5w",
    "outputId": "66cb8e7d-4a0f-4217-819b-daf5e5564829"
   },
   "outputs": [
    {
     "name": "stdout",
     "output_type": "stream",
     "text": [
      "<__main__.Person object at 0x7f3e2bd1f8e0>\n",
      "John 36\n"
     ]
    }
   ],
   "source": [
    "class Person:\n",
    "  def __init__(self, name, age):\n",
    "    self.name = name\n",
    "    self.age = age\n",
    "\n",
    "p1 = Person(\"John\", 36)\n",
    "\n",
    "print(p1) \n",
    "print(p1.name,p1.age)"
   ]
  },
  {
   "cell_type": "code",
   "execution_count": 14,
   "metadata": {
    "colab": {
     "base_uri": "https://localhost:8080/"
    },
    "executionInfo": {
     "elapsed": 3,
     "status": "ok",
     "timestamp": 1685072119076,
     "user": {
      "displayName": "DSS DSS",
      "userId": "17636620013329168760"
     },
     "user_tz": -330
    },
    "id": "QR7rsh5bYnWC",
    "outputId": "62ce2a9d-08dd-4692-ad0a-fe4f50c0fbb6"
   },
   "outputs": [
    {
     "name": "stdout",
     "output_type": "stream",
     "text": [
      "Name is John and age is 36\n",
      "Name is Tony and age is 25\n"
     ]
    }
   ],
   "source": [
    "class Person:\n",
    "  def __init__(self, name, age):\n",
    "    self.name = name\n",
    "    self.age = age\n",
    "\n",
    "  def __str__(self): # should return string type\n",
    "    return f\"Name is {self.name} and age is {self.age}\"\n",
    "\n",
    "p1 = Person(\"John\", 36)\n",
    "p2 = Person(\"Tony\", 25)\n",
    "\n",
    "print(p1) # p1.__str__()\n",
    "print(p2)"
   ]
  },
  {
   "cell_type": "code",
   "execution_count": 17,
   "metadata": {
    "id": "W66lTpxtT5EN"
   },
   "outputs": [],
   "source": [
    "class Person:\n",
    "  def __init__(self, name, age):\n",
    "    self.name = name\n",
    "    self.age = age\n",
    "\n",
    "  def __str__(self): # it is returning NoneType\n",
    "    print(self.name, self.age) # not returning string, print() return type is NoneType\n",
    "    # return f\"{self.name}\"\n",
    "\n",
    "p1 = Person(\"John\", 36)\n",
    "# print(p1) # TypeError: __str__ returned non-string (type NoneType)"
   ]
  },
  {
   "cell_type": "markdown",
   "metadata": {
    "id": "YudZSHhNYoUf"
   },
   "source": [
    "#### object methods"
   ]
  },
  {
   "cell_type": "code",
   "execution_count": 18,
   "metadata": {
    "colab": {
     "base_uri": "https://localhost:8080/"
    },
    "executionInfo": {
     "elapsed": 2,
     "status": "ok",
     "timestamp": 1685072649785,
     "user": {
      "displayName": "DSS DSS",
      "userId": "17636620013329168760"
     },
     "user_tz": -330
    },
    "id": "xEGx3I9mY3uD",
    "outputId": "d3e6f17c-b9da-4397-eb87-0e3f53cc3e69"
   },
   "outputs": [
    {
     "name": "stdout",
     "output_type": "stream",
     "text": [
      "Hello my name is John\n",
      "Hello my name is Tony\n"
     ]
    }
   ],
   "source": [
    "class Person:\n",
    "  def __init__(mysillyobject, name, age): # self is written as mysillyobject\n",
    "    mysillyobject.name = name # self.name = name\n",
    "    mysillyobject.age = age\n",
    "\n",
    "  def getname(abc): # abc is self here | abc is referring to p1 or p2 with which this method is called\n",
    "    print(\"Hello my name is \" + abc.name) # self.name\n",
    "\n",
    "p1 = Person(\"John\", 36)\n",
    "p2 = Person(\"Tony\", 25)\n",
    "p1.getname() # method\n",
    "p2.getname() # method"
   ]
  },
  {
   "cell_type": "markdown",
   "metadata": {
    "id": "2ACQgFQJYv4Z"
   },
   "source": [
    "#### modify object properties"
   ]
  },
  {
   "cell_type": "code",
   "execution_count": 20,
   "metadata": {
    "colab": {
     "base_uri": "https://localhost:8080/"
    },
    "executionInfo": {
     "elapsed": 2,
     "status": "ok",
     "timestamp": 1685072754374,
     "user": {
      "displayName": "DSS DSS",
      "userId": "17636620013329168760"
     },
     "user_tz": -330
    },
    "id": "_q2Kdcj3Y5Lf",
    "outputId": "1dc87e07-b19c-4591-c528-7ca4c2b49dd6"
   },
   "outputs": [
    {
     "name": "stdout",
     "output_type": "stream",
     "text": [
      "40\n",
      "Hello my name is John\n"
     ]
    }
   ],
   "source": [
    "class Person:\n",
    "  def __init__(self, name, age):\n",
    "    self.name = name\n",
    "    self.age = age\n",
    "\n",
    "  def getname(self):\n",
    "    print(\"Hello my name is \" + self.name)\n",
    "\n",
    "p1 = Person(\"John\", 36)\n",
    "p1.age = 40\n",
    "print(p1.age)\n",
    "p1.getname()"
   ]
  },
  {
   "cell_type": "markdown",
   "metadata": {
    "id": "1nmFPDSrY79c"
   },
   "source": [
    "#### delete object properties"
   ]
  },
  {
   "cell_type": "code",
   "execution_count": 21,
   "metadata": {
    "colab": {
     "base_uri": "https://localhost:8080/"
    },
    "executionInfo": {
     "elapsed": 3,
     "status": "ok",
     "timestamp": 1685072963031,
     "user": {
      "displayName": "DSS DSS",
      "userId": "17636620013329168760"
     },
     "user_tz": -330
    },
    "id": "YhgRfw-4ZHYF",
    "outputId": "5b597db6-dfce-4a0f-d1a6-95b5d86d2b10"
   },
   "outputs": [
    {
     "name": "stdout",
     "output_type": "stream",
     "text": [
      "25\n",
      "Hello my name is John\n",
      "Hello my name is Tony\n"
     ]
    }
   ],
   "source": [
    "class Person:\n",
    "  def __init__(self, name, age):\n",
    "    self.name = name\n",
    "    self.age = age\n",
    "\n",
    "  def getname(self):\n",
    "    print(\"Hello my name is \" + self.name) \n",
    "\n",
    "p1 = Person(\"John\", 36)\n",
    "del p1.age\n",
    "# print(p1.age) # AttributeError: 'Person' object has no attribute 'age'\n",
    "\n",
    "p2 = Person(\"Tony\", 25)\n",
    "print(p2.age) \n",
    "\n",
    "# self uses object referenc with which it is called\n",
    "p1.getname() # p1.name\n",
    "p2.getname() # p2.name"
   ]
  },
  {
   "cell_type": "markdown",
   "metadata": {
    "id": "SxqgAXLQY_WK"
   },
   "source": [
    "#### delete objects"
   ]
  },
  {
   "cell_type": "code",
   "execution_count": null,
   "metadata": {
    "id": "zVzMbgzpZJyB"
   },
   "outputs": [],
   "source": [
    "class Person:\n",
    "  def __init__(self, name, age):\n",
    "    self.name = name\n",
    "    self.age = age\n",
    "\n",
    "  def myfunc(self):\n",
    "    print(\"Hello my name is \" + self.name)\n",
    "\n",
    "p1 = Person(\"John\", 36)\n",
    "del p1\n",
    "# print(p1) # NameError: name 'p1' is not defined"
   ]
  },
  {
   "cell_type": "markdown",
   "metadata": {
    "id": "H1cCLC_AZEWy"
   },
   "source": [
    "\n",
    "#### pass statement in class"
   ]
  },
  {
   "cell_type": "code",
   "execution_count": null,
   "metadata": {
    "id": "SthV0sXzZLSD"
   },
   "outputs": [],
   "source": [
    "class Person:\n",
    "  pass\n",
    "\n",
    "# having an empty class definition like this, would raise an error without the pass statement"
   ]
  },
  {
   "cell_type": "markdown",
   "metadata": {
    "id": "_596pPwqVc4B"
   },
   "source": [
    "#### printing objects"
   ]
  },
  {
   "cell_type": "code",
   "execution_count": 24,
   "metadata": {},
   "outputs": [
    {
     "name": "stdout",
     "output_type": "stream",
     "text": [
      "Test a:1234 b:5678\n",
      "[Test a:1234 b:5678]\n"
     ]
    }
   ],
   "source": [
    "class Test:\n",
    "    def __init__(self, a, b):\n",
    "        self.a = a\n",
    "        self.b = b\n",
    "  \n",
    "    def __repr__(self):\n",
    "        return \"Test a:%s b:%s\" % (self.a, self.b)\n",
    "  \n",
    "#     def __str__(self):\n",
    "#         return \"From str method of Test: a is %s,\" \\\n",
    "#               \"b is %s\" % (self.a, self.b)\n",
    "  \n",
    "# Driver Code        \n",
    "t = Test(1234, 5678)\n",
    "print(t) # This calls __str__()\n",
    "print([t]) # This calls __repr__()"
   ]
  },
  {
   "cell_type": "markdown",
   "metadata": {},
   "source": [
    "**If no \\__str__ method is defined, print t (or print str(t)) uses \\__repr__**"
   ]
  },
  {
   "cell_type": "markdown",
   "metadata": {},
   "source": [
    "#### static variable"
   ]
  },
  {
   "cell_type": "markdown",
   "metadata": {},
   "source": [
    "- Static variables are allocated memory once when the object for the class is created for the first time.\n",
    "- Static variables are created outside of methods but inside a class\n",
    "- Static variables can be accessed through a class but not directly with an instance.\n",
    "- Static variables behavior doesn’t change for every object."
   ]
  },
  {
   "cell_type": "code",
   "execution_count": 26,
   "metadata": {},
   "outputs": [
    {
     "name": "stdout",
     "output_type": "stream",
     "text": [
      "1\n",
      "2\n",
      "99\n",
      "99\n",
      "99\n",
      "2\n",
      "99\n",
      "100\n",
      "99\n",
      "200\n",
      "100\n",
      "200\n"
     ]
    }
   ],
   "source": [
    "class MyClass:\n",
    "    static_counter = 0 # static\n",
    "    static_var = 99 # static\n",
    "    \n",
    "    def __init__(self):\n",
    "        MyClass.static_counter += 1\n",
    "        self.instance_var = MyClass.static_counter # instance_var non-static\n",
    " \n",
    "obj1 = MyClass()\n",
    "print(obj1.instance_var)  # Output: 1\n",
    " \n",
    "obj2 = MyClass()\n",
    "print(obj2.instance_var)  # 2\n",
    " \n",
    "# read operation\n",
    "print(MyClass.static_var) # 99\n",
    "print(obj1.static_var)  # 99\n",
    "print(obj2.static_var)  # 99\n",
    "\n",
    "print(MyClass.static_counter)  # Output: 2\n",
    "\n",
    "\n",
    "obj1.static_var = 100\n",
    "\n",
    "print(MyClass.static_var) # 99\n",
    "print(obj1.static_var)  # 100\n",
    "print(obj2.static_var)  # 99\n",
    "\n",
    "# doesnot change static variable but creates instance variable for the object\n",
    "# static_var that shadows class variable static_var\n",
    "\n",
    "# So, We should change class variables using class names only. \n",
    "\n",
    "MyClass.static_var = 200\n",
    "\n",
    "print(MyClass.static_var) # 200\n",
    "print(obj1.static_var)  # shawdow variable is accessed\n",
    "print(obj2.static_var)  # 200"
   ]
  },
  {
   "attachments": {
    "image.png": {
     "image/png": "[encoded data removed]"
    }
   },
   "cell_type": "markdown",
   "metadata": {},
   "source": [
    "![image.png](attachment:image.png)"
   ]
  },
  {
   "cell_type": "markdown",
   "metadata": {},
   "source": [
    "**Advantages:**\n",
    "- Memory efficiency\n",
    "- Shared state\n",
    "- Easy to access (reading is easy)\n",
    "- Initialization (assures valid starting value)\n",
    "- Readability\n",
    "\n",
    "**Disadvantages:**\n",
    "- Inflexibility (difficult to have different values for different instances)\n",
    "- Hidden dependencies (difficult to understand and modify the code)\n",
    "- Thread safety (not properly synchronized)\n",
    "- Namespace pollution\n",
    "- Difficult to do unit testing (as change in static var affects the behavior of the class and its methods)"
   ]
  },
  {
   "cell_type": "markdown",
   "metadata": {},
   "source": [
    "#### destructors\n",
    "- called when an object gets destroyed\n",
    "- python garbage colector handles memory managemnt\n",
    "- \\__del__() is known as destructor method, and called when object is garbage collected "
   ]
  },
  {
   "cell_type": "code",
   "execution_count": 29,
   "metadata": {},
   "outputs": [],
   "source": [
    "class Employee:\n",
    " \n",
    "    # Initializing\n",
    "    def __init__(self):\n",
    "        print('Employee created.')\n",
    " \n",
    "    # Deleting (Calling destructor)\n",
    "    def __del__(self):\n",
    "        print('Destructor called, Employee deleted.')"
   ]
  },
  {
   "cell_type": "code",
   "execution_count": 30,
   "metadata": {},
   "outputs": [
    {
     "name": "stdout",
     "output_type": "stream",
     "text": [
      "Employee created.\n",
      "Destructor called, Employee deleted.\n"
     ]
    }
   ],
   "source": [
    "obj = Employee()\n",
    "del obj # object is explicitly deleted"
   ]
  },
  {
   "cell_type": "code",
   "execution_count": 31,
   "metadata": {},
   "outputs": [],
   "source": [
    "def Create_obj():\n",
    "    print('Making Object...')\n",
    "    obj = Employee()\n",
    "    print(obj)\n",
    "    print('function end...')\n",
    "    return obj"
   ]
  },
  {
   "cell_type": "code",
   "execution_count": 34,
   "metadata": {},
   "outputs": [
    {
     "name": "stdout",
     "output_type": "stream",
     "text": [
      "Calling Create_obj() function...\n",
      "Making Object...\n",
      "Employee created.\n",
      "<__main__.Employee object at 0x000001F31BED6AF0>\n",
      "function end...\n",
      "outside Create_obj() function\n",
      "<__main__.Employee object at 0x000001F31BED6AF0>\n",
      "Program End...\n",
      "Destructor called, Employee deleted.\n"
     ]
    }
   ],
   "source": [
    "print('Calling Create_obj() function...')\n",
    "obj = Create_obj()\n",
    "print('outside Create_obj() function')\n",
    "print(obj)\n",
    "print('Program End...')\n",
    "del obj"
   ]
  },
  {
   "cell_type": "markdown",
   "metadata": {},
   "source": [
    "**destructor is called implicitily while exiting from the Create_obj function to delete employee object inside the function**"
   ]
  },
  {
   "cell_type": "code",
   "execution_count": 41,
   "metadata": {},
   "outputs": [
    {
     "name": "stdout",
     "output_type": "stream",
     "text": [
      "b constructor\n",
      "a constructor\n"
     ]
    }
   ],
   "source": [
    "class A:\n",
    "    def __init__(self, b2):\n",
    "        print('a constructor')\n",
    "        self.b = b2 # b in class A refers to B\n",
    "  \n",
    "class B:\n",
    "    def __init__(self):\n",
    "        print('b constructor')\n",
    "        self.a = A(self) # a in class Brefers to A\n",
    "        \n",
    "    def __del__(self):\n",
    "        print('b destructor')\n",
    "        print(\"die\")\n",
    "  \n",
    "def fun():\n",
    "    b1 = B()\n",
    "    \n",
    "fun()\n",
    "# circular reference : obj live in mem as long as application is running"
   ]
  },
  {
   "cell_type": "markdown",
   "metadata": {},
   "source": [
    "**Advantages of destructors**\n",
    "- Automatic clean up\n",
    "- Consistent behavior\n",
    "- Easy to use\n",
    "- Supports oops\n",
    "- Helps with debugging (trace life cycle of object)"
   ]
  },
  {
   "cell_type": "code",
   "execution_count": null,
   "metadata": {},
   "outputs": [],
   "source": []
  }
 ],
 "metadata": {
  "colab": {
   "provenance": []
  },
  "kernelspec": {
   "display_name": "Python 3 (ipykernel)",
   "language": "python",
   "name": "python3"
  },
  "language_info": {
   "codemirror_mode": {
    "name": "ipython",
    "version": 3
   },
   "file_extension": ".py",
   "mimetype": "text/x-python",
   "name": "python",
   "nbconvert_exporter": "python",
   "pygments_lexer": "ipython3",
   "version": "3.9.16"
  }
 },
 "nbformat": 4,
 "nbformat_minor": 1
}
