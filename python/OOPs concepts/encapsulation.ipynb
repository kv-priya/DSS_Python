{
 "cells": [
  {
   "attachments": {
    "Encapsulation-in-Python.webp": {
     "image/webp": "[encoded data removed]"
    }
   },
   "cell_type": "markdown",
   "id": "f7a851db",
   "metadata": {},
   "source": [
    "![Encapsulation-in-Python.webp](attachment:Encapsulation-in-Python.webp)"
   ]
  },
  {
   "cell_type": "markdown",
   "id": "6a1c8335",
   "metadata": {},
   "source": [
    "#### Encapsulation\n",
    "\n",
    "- idea of wrapping data and the methods that work on data within one unit\n",
    "- It restricts accessing variables directly, instead use methods\n",
    "    - such varaibales are declared as private variables\n",
    "- class is examples of encapsulation\n",
    "- also hides data"
   ]
  },
  {
   "cell_type": "markdown",
   "id": "4189c386",
   "metadata": {},
   "source": [
    "Example:\n",
    "\n",
    "- sales section (sales data + sales officer data)\n",
    "- financial section\n",
    "- accounts section"
   ]
  },
  {
   "cell_type": "markdown",
   "id": "5bd8535a",
   "metadata": {},
   "source": [
    "#### protected variables\n",
    "- can be accessed within class and its subclass\n",
    "- prefixed by _ (underscore)"
   ]
  },
  {
   "cell_type": "code",
   "execution_count": 4,
   "id": "1268366f",
   "metadata": {},
   "outputs": [],
   "source": [
    "class Base:\n",
    "    \n",
    "    def __init__(self):\n",
    "        \n",
    "        print('base init:',self)\n",
    "        \n",
    "        self._a = 2 # protected member"
   ]
  },
  {
   "cell_type": "code",
   "execution_count": 7,
   "id": "e2c1c07c",
   "metadata": {},
   "outputs": [],
   "source": [
    "\n",
    "class Derived(Base):\n",
    "    \n",
    "    def __init__(self):\n",
    "        \n",
    "        print('derived init:',self)\n",
    "        \n",
    "        # Calling constructor of Base class\n",
    "        Base.__init__(self) \n",
    "        print(\"Calling protected member of base class: \", self._a) # 2 (base)\n",
    "\n",
    "        # Modify the protected variable:\n",
    "        self._a = 3 # derived class variable\n",
    "        print(\"Calling modified protected member outside class: \", self._a) # 3 (derived)"
   ]
  },
  {
   "cell_type": "code",
   "execution_count": 8,
   "id": "d879f8f9",
   "metadata": {
    "scrolled": true
   },
   "outputs": [
    {
     "name": "stdout",
     "output_type": "stream",
     "text": [
      "derived init: <__main__.Derived object at 0x000001525AC470A0>\n",
      "base init: <__main__.Derived object at 0x000001525AC470A0>\n",
      "Calling protected member of base class:  2\n",
      "Calling modified protected member outside class:  3\n",
      "base init: <__main__.Base object at 0x0000015259A35340>\n",
      "Accessing protected member of derived class object:  3\n",
      "Accessing protected member of base class object:  2\n"
     ]
    }
   ],
   "source": [
    "d = Derived()\n",
    "b = Base()\n",
    "\n",
    "# Calling protected member\n",
    "# Can be accessed but should not be done due to convention\n",
    "print(\"Accessing protected member of derived class object: \", d._a) # 3\n",
    "\n",
    "# Accessing the protected variable outside\n",
    "print(\"Accessing protected member of base class object: \", b._a) # 2"
   ]
  },
  {
   "cell_type": "markdown",
   "id": "d1728634",
   "metadata": {},
   "source": [
    "#### private variables\n",
    "- accessible only in the class where they are declared\n",
    "- prefixed by __ (doubleunderscore)\n"
   ]
  },
  {
   "cell_type": "code",
   "execution_count": 23,
   "id": "c4e6683b",
   "metadata": {},
   "outputs": [],
   "source": [
    "class Base:\n",
    "    def __init__(self):\n",
    "        self.a = \"Tony\"\n",
    "        self.__c = \"Robbins\" # private"
   ]
  },
  {
   "cell_type": "code",
   "execution_count": 29,
   "id": "b56e5b49",
   "metadata": {},
   "outputs": [],
   "source": [
    "class Derived(Base):\n",
    "    def __init__(self):\n",
    "        # Calling constructor of Base class\n",
    "        Base.__init__(self)\n",
    "        print(\"Calling private member of base class: \", self.__c) # base class private variable"
   ]
  },
  {
   "cell_type": "code",
   "execution_count": 30,
   "id": "364aa031",
   "metadata": {},
   "outputs": [
    {
     "name": "stdout",
     "output_type": "stream",
     "text": [
      "Tony\n"
     ]
    }
   ],
   "source": [
    "b = Base()\n",
    "print(b.a)\n",
    "# print(b.c) # AttributeError: 'Base' object has no attribute 'c'\n",
    "\n",
    "# d = Derived() # AttributeError: 'Derived' object has no attribute '_Derived__c'"
   ]
  },
  {
   "cell_type": "markdown",
   "id": "ac1fc760",
   "metadata": {},
   "source": [
    "#### data hiding"
   ]
  },
  {
   "cell_type": "code",
   "execution_count": 12,
   "id": "4855368e",
   "metadata": {},
   "outputs": [
    {
     "name": "stdout",
     "output_type": "stream",
     "text": [
      "2\n",
      "7\n",
      "7\n"
     ]
    }
   ],
   "source": [
    "\n",
    "class MyClass:\n",
    "  \n",
    "    # Hidden member of MyClass, declared using double underscore\n",
    "    __hiddenVariable = 0\n",
    "    \n",
    "    # A member method that changes __hiddenVariable \n",
    "    def add(self, increment):\n",
    "        self.__hiddenVariable += increment\n",
    "        print (self.__hiddenVariable)\n",
    "   \n",
    "# Driver code\n",
    "myObject = MyClass()     \n",
    "myObject.add(2)\n",
    "myObject.add(5)\n",
    "  \n",
    "# not visible outside the class\n",
    "# print (myObject.__hiddenVariable) # AttributeError: 'MyClass' object has no attribute '__hiddenVariable'\n",
    "\n",
    "# tricky syntax to access hidden variable outside the class\n",
    "print(myObject._MyClass__hiddenVariable)\n",
    "\n"
   ]
  },
  {
   "cell_type": "code",
   "execution_count": 29,
   "id": "27c29434",
   "metadata": {},
   "outputs": [],
   "source": [
    "class Emp:\n",
    "    __salary = 50000 # private\n",
    "    __password = 'abc@123'\n",
    "    \n",
    "    # read access\n",
    "    def getSalary(self):\n",
    "        return self.__salary\n",
    "    \n",
    "    # write access\n",
    "#     def setSalary(self, salary):\n",
    "#         self.__salary = salary\n",
    "\n",
    "    # write access, no read access\n",
    "    def setPassword(self, pwd):\n",
    "        self.__password = pwd\n",
    "        \n",
    "    # read access\n",
    "#     def getPassword(self):\n",
    "#         return self.__password"
   ]
  },
  {
   "cell_type": "code",
   "execution_count": 30,
   "id": "7564febc",
   "metadata": {},
   "outputs": [],
   "source": [
    "e1 = Emp()\n",
    "# e1.__salary\n",
    "# e1.setSalary(60000)\n",
    "e1.getSalary()\n",
    "e1.setPassword('emp@123')\n",
    "# e1.getPassword()"
   ]
  },
  {
   "cell_type": "code",
   "execution_count": null,
   "id": "4f35c06f",
   "metadata": {},
   "outputs": [],
   "source": []
  }
 ],
 "metadata": {
  "kernelspec": {
   "display_name": "Python 3 (ipykernel)",
   "language": "python",
   "name": "python3"
  },
  "language_info": {
   "codemirror_mode": {
    "name": "ipython",
    "version": 3
   },
   "file_extension": ".py",
   "mimetype": "text/x-python",
   "name": "python",
   "nbconvert_exporter": "python",
   "pygments_lexer": "ipython3",
   "version": "3.9.16"
  }
 },
 "nbformat": 4,
 "nbformat_minor": 5
}
