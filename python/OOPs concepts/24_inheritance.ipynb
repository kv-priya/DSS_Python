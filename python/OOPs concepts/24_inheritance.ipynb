{
 "cells": [
  {
   "cell_type": "markdown",
   "metadata": {
    "id": "QNqO_K9xZN5U"
   },
   "source": [
    "#### inheritance"
   ]
  },
  {
   "cell_type": "markdown",
   "metadata": {
    "id": "Bfp7ZpxiZPF4"
   },
   "source": [
    "#### create a parent class"
   ]
  },
  {
   "cell_type": "code",
   "execution_count": 1,
   "metadata": {
    "colab": {
     "base_uri": "https://localhost:8080/"
    },
    "executionInfo": {
     "elapsed": 9,
     "status": "ok",
     "timestamp": 1681722667152,
     "user": {
      "displayName": "vishnupriya karanam",
      "userId": "13289819926024070101"
     },
     "user_tz": -330
    },
    "id": "lAFv_8HAZVug",
    "outputId": "97603e9c-0677-4db1-e604-321adf98d94a"
   },
   "outputs": [
    {
     "name": "stdout",
     "output_type": "stream",
     "text": [
      "John Doe\n"
     ]
    }
   ],
   "source": [
    "class Person(object): # parent class / base class / super class\n",
    "  def __init__(self, fname, lname): # constructor\n",
    "    self.firstname = fname # fristname is created here\n",
    "    self.lastname = lname\n",
    "\n",
    "  def printname(self): # method\n",
    "    print(self.firstname, self.lastname)\n",
    "\n",
    "#Use the Person class to create an object, and then execute the printname method:\n",
    "x = Person(\"John\", \"Doe\") # constructor call\n",
    "x.printname() # method call"
   ]
  },
  {
   "cell_type": "markdown",
   "metadata": {
    "id": "LlN0Y4UXZRr2"
   },
   "source": [
    "#### create a child class"
   ]
  },
  {
   "cell_type": "code",
   "execution_count": 6,
   "metadata": {
    "colab": {
     "base_uri": "https://localhost:8080/"
    },
    "executionInfo": {
     "elapsed": 555,
     "status": "ok",
     "timestamp": 1681722791422,
     "user": {
      "displayName": "vishnupriya karanam",
      "userId": "13289819926024070101"
     },
     "user_tz": -330
    },
    "id": "LuhjBm0XZaS6",
    "outputId": "28f2573f-bd1e-4667-abda-de85fd053dc9"
   },
   "outputs": [
    {
     "name": "stdout",
     "output_type": "stream",
     "text": [
      "Tony Robbins\n"
     ]
    }
   ],
   "source": [
    "# Use the pass keyword when you do not want to add any other properties or methods to the class.\n",
    "\n",
    "# Person : parent class / base class / super class\n",
    "# Student : child class / derived class / sub class\n",
    "\n",
    "# Person IS-A Student : Every person is not a student : incorrect\n",
    "# class Person(Student): # Student pc, Person sub class\n",
    "#     pass\n",
    "\n",
    "# Student IS-A Person\n",
    "class Student(Person): # Student derives all the properties and methods from Person class\n",
    "  pass # printname() method exists, firstname, lastname also exists\n",
    "\n",
    "x = Student(\"Tony\", \"Robbins\") \n",
    "x.printname()\n",
    "\n",
    "# when no constructor is specified in the child class\n",
    "# class Student(Base):\n",
    "#     def __init__(self, fname, lname):\n",
    "#         call for base class constructor : Base(self, fname, lname) # default or parameterized\n",
    "#         pass"
   ]
  },
  {
   "cell_type": "markdown",
   "metadata": {
    "id": "AKo5mPLbZcJa"
   },
   "source": [
    "#### add the _init_() function to child class"
   ]
  },
  {
   "cell_type": "code",
   "execution_count": 12,
   "metadata": {
    "id": "4tGZuY0eePGe"
   },
   "outputs": [],
   "source": [
    "# When you add the __init__() function, the child class will no longer inherit the parent's __init__() function.\n",
    "# The child's __init__() function overrides the inheritance of the parent's __init__() function.\n",
    "\n",
    "class Student(Person):\n",
    "  def __init__(self, fname, lname): # because of init in child class\n",
    "    pass # call to base class construtor is not there\n",
    "\n",
    "x = Student(\"Tony\", \"Robbins\")\n",
    "\n",
    "# x.firstname # AttributeError: 'Student' object has no attribute 'firstname'\n",
    "\n",
    "# x.printname() \n",
    "# printname() is inherited from base class\n",
    "# AttributeError: 'Student' object has no attribute 'firstname'"
   ]
  },
  {
   "cell_type": "code",
   "execution_count": 13,
   "metadata": {
    "colab": {
     "base_uri": "https://localhost:8080/"
    },
    "executionInfo": {
     "elapsed": 6,
     "status": "ok",
     "timestamp": 1681722801455,
     "user": {
      "displayName": "vishnupriya karanam",
      "userId": "13289819926024070101"
     },
     "user_tz": -330
    },
    "id": "bY5H649TZorC",
    "outputId": "4c5d33d4-7cf0-4282-a59c-a409040d08ff"
   },
   "outputs": [
    {
     "name": "stdout",
     "output_type": "stream",
     "text": [
      "Mike Olsen\n"
     ]
    }
   ],
   "source": [
    "class Student(Person):\n",
    "  def __init__(self, fname, lname):\n",
    "    Person.__init__(self, fname, lname) # calling init of parent class from child class init\n",
    "    # object firstname and lastname are created inside super class\n",
    "\n",
    "x = Student(\"Tony\", \"Robbins\")\n",
    "x.printname()"
   ]
  },
  {
   "cell_type": "markdown",
   "metadata": {
    "id": "MUpeIursZd-k"
   },
   "source": [
    "#### use the super() function"
   ]
  },
  {
   "cell_type": "code",
   "execution_count": 14,
   "metadata": {
    "colab": {
     "base_uri": "https://localhost:8080/"
    },
    "executionInfo": {
     "elapsed": 518,
     "status": "ok",
     "timestamp": 1681722807946,
     "user": {
      "displayName": "vishnupriya karanam",
      "userId": "13289819926024070101"
     },
     "user_tz": -330
    },
    "id": "zfvOvRjLZmUh",
    "outputId": "0783d9e4-e391-42cd-810d-c96e40fa5905"
   },
   "outputs": [
    {
     "name": "stdout",
     "output_type": "stream",
     "text": [
      "Tony Robbins\n",
      "Anu lasya\n"
     ]
    }
   ],
   "source": [
    "class Student(Person):\n",
    "  def __init__(self, fname, lname):\n",
    "    super().__init__(fname, lname) \n",
    "    # object firstname and lastname are created inside super class\n",
    "\n",
    "x = Student(\"Tony\", \"Robbins\")\n",
    "x.printname()\n",
    "\n",
    "y = Student(\"Anu\",\"lasya\")\n",
    "y.printname()"
   ]
  },
  {
   "cell_type": "markdown",
   "metadata": {
    "id": "tB2DaQl6Zsry"
   },
   "source": [
    "#### add properties to child class"
   ]
  },
  {
   "cell_type": "code",
   "execution_count": 15,
   "metadata": {
    "colab": {
     "base_uri": "https://localhost:8080/"
    },
    "executionInfo": {
     "elapsed": 416,
     "status": "ok",
     "timestamp": 1681722913887,
     "user": {
      "displayName": "vishnupriya karanam",
      "userId": "13289819926024070101"
     },
     "user_tz": -330
    },
    "id": "IvL-ttuvZzqF",
    "outputId": "505ba7b7-7017-4ebf-cf83-6611c4d589d2"
   },
   "outputs": [
    {
     "name": "stdout",
     "output_type": "stream",
     "text": [
      "2019\n"
     ]
    }
   ],
   "source": [
    "class Student(Person):\n",
    "  def __init__(self, fname, lname):\n",
    "    super().__init__(fname, lname)\n",
    "    # here, it is out of parent class constructor\n",
    "    self.graduationyear = 2019 # child class property\n",
    "\n",
    "x = Student(\"Tony\", \"Robbins\")\n",
    "print(x.graduationyear) "
   ]
  },
  {
   "cell_type": "code",
   "execution_count": 19,
   "metadata": {
    "id": "mXEK442efmVx"
   },
   "outputs": [
    {
     "name": "stdout",
     "output_type": "stream",
     "text": [
      "john\n"
     ]
    }
   ],
   "source": [
    "p = Person(\"john\",'tony')\n",
    "print(p.firstname)\n",
    "# print(p.graduationyear) # AttributeError: 'Person' object has no attribute 'graduationyear'"
   ]
  },
  {
   "cell_type": "code",
   "execution_count": 20,
   "metadata": {
    "colab": {
     "base_uri": "https://localhost:8080/"
    },
    "executionInfo": {
     "elapsed": 444,
     "status": "ok",
     "timestamp": 1681722978141,
     "user": {
      "displayName": "vishnupriya karanam",
      "userId": "13289819926024070101"
     },
     "user_tz": -330
    },
    "id": "3Q879YXEZ0y5",
    "outputId": "40f98a56-389b-41fa-a118-6de93c44e5b1"
   },
   "outputs": [
    {
     "name": "stdout",
     "output_type": "stream",
     "text": [
      "2019\n",
      "Tony\n",
      "Robbins\n"
     ]
    }
   ],
   "source": [
    "class Student(Person):\n",
    "  def __init__(self, fname, lname, year): # year is local to child class init\n",
    "    super().__init__(fname, lname) # firstname, lastname got created\n",
    "    self.graduationyear = year # graduationyear is child class instance variable\n",
    "\n",
    "x = Student(\"Tony\", \"Robbins\", 2019)\n",
    "print(x.graduationyear)\n",
    "print(x.firstname)\n",
    "print(x.lastname)"
   ]
  },
  {
   "cell_type": "markdown",
   "metadata": {
    "id": "tc4-HFICZv3j"
   },
   "source": [
    "#### add methods to child class"
   ]
  },
  {
   "cell_type": "code",
   "execution_count": 21,
   "metadata": {
    "colab": {
     "base_uri": "https://localhost:8080/"
    },
    "executionInfo": {
     "elapsed": 5,
     "status": "ok",
     "timestamp": 1681723001169,
     "user": {
      "displayName": "vishnupriya karanam",
      "userId": "13289819926024070101"
     },
     "user_tz": -330
    },
    "id": "C0dnLoBAZ2M8",
    "outputId": "179dbabb-a041-4574-bddf-1cb270853a2e"
   },
   "outputs": [
    {
     "name": "stdout",
     "output_type": "stream",
     "text": [
      "Welcome Tony Robbins to the class of 2019\n"
     ]
    }
   ],
   "source": [
    "class Student(Person):\n",
    "  def __init__(self, fname, lname, year):\n",
    "    super().__init__(fname, lname)\n",
    "    self.graduationyear = year\n",
    "\n",
    "  def welcome(self):\n",
    "    print(\"Welcome\", self.firstname, self.lastname, \"to the class of\", self.graduationyear)\n",
    "\n",
    "x = Student(\"Tony\", \"Robbins\", 2019)\n",
    "x.welcome()"
   ]
  },
  {
   "cell_type": "markdown",
   "metadata": {
    "id": "Opm-mzJKgIUo"
   },
   "source": [
    "- login -> object create => ...."
   ]
  },
  {
   "cell_type": "markdown",
   "metadata": {},
   "source": [
    "#### check for subclass"
   ]
  },
  {
   "cell_type": "code",
   "execution_count": 4,
   "metadata": {},
   "outputs": [
    {
     "name": "stdout",
     "output_type": "stream",
     "text": [
      "True\n",
      "False\n",
      "True\n",
      "True\n",
      "True\n",
      "False\n"
     ]
    }
   ],
   "source": [
    "class Base(object):\n",
    "    pass   \n",
    "  \n",
    "class Derived(Base):\n",
    "    pass  "
   ]
  },
  {
   "cell_type": "markdown",
   "metadata": {},
   "source": [
    "#### issubclass()"
   ]
  },
  {
   "cell_type": "code",
   "execution_count": 6,
   "metadata": {},
   "outputs": [
    {
     "name": "stdout",
     "output_type": "stream",
     "text": [
      "True\n",
      "False\n"
     ]
    }
   ],
   "source": [
    "print(issubclass(Derived, Base)) # True\n",
    "print(issubclass(Base, Derived)) # False"
   ]
  },
  {
   "cell_type": "markdown",
   "metadata": {},
   "source": [
    "#### isinstance()"
   ]
  },
  {
   "cell_type": "code",
   "execution_count": 7,
   "metadata": {},
   "outputs": [
    {
     "name": "stdout",
     "output_type": "stream",
     "text": [
      "True\n",
      "True\n",
      "True\n",
      "False\n"
     ]
    }
   ],
   "source": [
    "d = Derived()\n",
    "b = Base()\n",
    "  \n",
    "# d is an instance of Base\n",
    "print(isinstance(d, Base)) # True\n",
    "print(isinstance(d, Derived)) # True\n",
    "\n",
    "# b is not an instance of Derived\n",
    "print(isinstance(b, Base)) # True\n",
    "print(isinstance(b, Derived)) # False "
   ]
  },
  {
   "cell_type": "markdown",
   "metadata": {},
   "source": [
    "#### super() to access immediate parent class method"
   ]
  },
  {
   "cell_type": "code",
   "execution_count": 8,
   "metadata": {},
   "outputs": [],
   "source": [
    "class Square:\n",
    "     def __init__(self, side):\n",
    "         self.side = side\n",
    " \n",
    "     def area(self):\n",
    "         return self.side * self.side"
   ]
  },
  {
   "cell_type": "code",
   "execution_count": 26,
   "metadata": {},
   "outputs": [],
   "source": [
    "# code redundancy in calculating face_area\n",
    "# without super() or parent class name\n",
    "\n",
    "class Cube(Square):\n",
    "  def area(self):\n",
    "    face_area = self.side * self.side\n",
    "    return face_area * 6\n",
    "\n",
    "  def volume(self):\n",
    "    face_area = self.side * self.side\n",
    "    return face_area * self.side"
   ]
  },
  {
   "cell_type": "code",
   "execution_count": 27,
   "metadata": {},
   "outputs": [],
   "source": [
    "# using parent class name to access immediate parent class method\n",
    "\n",
    "class Cube(Square):\n",
    "  def area(self):\n",
    "    return Square.area() * 6  #but difficulty when super class name is changed\n",
    "\n",
    "  def volume(self):\n",
    "    return Square.area() * self.side"
   ]
  },
  {
   "cell_type": "code",
   "execution_count": 28,
   "metadata": {},
   "outputs": [],
   "source": [
    "# using super() to access immediate parent class method\n",
    "\n",
    "class Cube(Square):\n",
    "  def area(self):\n",
    "    return super().area() * 6 \n",
    "\n",
    "  def volume(self):\n",
    "    return super().area() * self.side"
   ]
  },
  {
   "cell_type": "markdown",
   "metadata": {},
   "source": [
    "#### super() to access non-immediate parent class method"
   ]
  },
  {
   "cell_type": "code",
   "execution_count": 8,
   "metadata": {},
   "outputs": [],
   "source": [
    "class Square:\n",
    "     def __init__(self, side):\n",
    "         self.side = side\n",
    " \n",
    "     def area(self):\n",
    "         return self.side * self.side"
   ]
  },
  {
   "cell_type": "code",
   "execution_count": 29,
   "metadata": {},
   "outputs": [],
   "source": [
    "class SquarePrism(Square):\n",
    "     def __init__(self, side, height):\n",
    "         self.side = side\n",
    "         self.height = height\n",
    " \n",
    "     def face_area(self):\n",
    "         base_area = super().area()\n",
    "         lateral_area = self.side * self.height\n",
    "         return base_area, lateral_area\n",
    " \n",
    "     def area(self):\n",
    "         base_area = super().area()\n",
    "         lateral_area = self.side * self.height\n",
    "         return 2 * base_area + 4 * lateral_area"
   ]
  },
  {
   "attachments": {
    "download-2.png": {
     "image/png": "[encoded data removed]"
    }
   },
   "cell_type": "markdown",
   "metadata": {},
   "source": [
    "![download-2.png](attachment:download-2.png)"
   ]
  },
  {
   "cell_type": "markdown",
   "metadata": {},
   "source": [
    "**parameterized super() method to access non-immediate parent class method**"
   ]
  },
  {
   "cell_type": "code",
   "execution_count": 33,
   "metadata": {},
   "outputs": [],
   "source": [
    "class Cube(SquarePrism):\n",
    "    def __init__(self, side):\n",
    "        super().__init__(side = side, height = side)\n",
    "\n",
    "    def face_area(self):\n",
    "        return super(SquarePrism, self).area()\n",
    "\n",
    "    def area(self):\n",
    "        return super().area()"
   ]
  }
 ],
 "metadata": {
  "colab": {
   "provenance": []
  },
  "kernelspec": {
   "display_name": "Python 3 (ipykernel)",
   "language": "python",
   "name": "python3"
  },
  "language_info": {
   "codemirror_mode": {
    "name": "ipython",
    "version": 3
   },
   "file_extension": ".py",
   "mimetype": "text/x-python",
   "name": "python",
   "nbconvert_exporter": "python",
   "pygments_lexer": "ipython3",
   "version": "3.9.16"
  }
 },
 "nbformat": 4,
 "nbformat_minor": 1
}
