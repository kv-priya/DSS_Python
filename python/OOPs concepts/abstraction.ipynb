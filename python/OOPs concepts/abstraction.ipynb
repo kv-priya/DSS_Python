{
 "cells": [
  {
   "cell_type": "markdown",
   "id": "8a7d5e34",
   "metadata": {},
   "source": [
    "### abstraction\n",
    "- process of handling complexity by hiding unnecessary information from the user\n",
    "- Ex: online chat, using a website\n",
    "\n",
    "#### why abstraction?\n",
    "- Abstraction provides a programmer to hide all the irrelevant data/process of an application in order to reduce complexity and increase the efficiency of the program.\n",
    "\n",
    "#### achieved by \n",
    "- abstract methods\n",
    "- abstract class \n",
    "    - abstract class contains atleast one abstract method\n",
    "\n",
    "#### implementation\n",
    "1. **abc module** is used for abstraction (ABC => Abstract Base Classes)\n",
    "2. by decorating base class methods as **@abstractmethod**\n",
    "3. implementing base class abstract methods in concrete derived classes"
   ]
  },
  {
   "cell_type": "code",
   "execution_count": 1,
   "id": "68a15e9b",
   "metadata": {},
   "outputs": [],
   "source": [
    "from abc import ABC, abstractmethod"
   ]
  },
  {
   "cell_type": "code",
   "execution_count": 7,
   "id": "c56f5fb8",
   "metadata": {},
   "outputs": [],
   "source": [
    "class Polygon(ABC): # inherited ABC \n",
    " \n",
    "    @abstractmethod\n",
    "    def noofsides(self):\n",
    "        pass # unimplemented abstract method"
   ]
  },
  {
   "cell_type": "code",
   "execution_count": 8,
   "id": "0351f46d",
   "metadata": {},
   "outputs": [],
   "source": [
    "# p1 = Polygon() # object cannot be created for an abstrqact class\n",
    "# p1.noofsides()"
   ]
  },
  {
   "cell_type": "code",
   "execution_count": 3,
   "id": "7a1a1951",
   "metadata": {},
   "outputs": [],
   "source": [
    "class Triangle(Polygon):\n",
    " \n",
    "    def noofsides(self): # overriding abstract method\n",
    "        print(\"I have 3 sides\")"
   ]
  },
  {
   "cell_type": "code",
   "execution_count": 4,
   "id": "344fa708",
   "metadata": {},
   "outputs": [],
   "source": [
    "class Pentagon(Polygon):\n",
    " \n",
    "    def noofsides(self): # overriding abstract method\n",
    "        print(\"I have 5 sides\")"
   ]
  },
  {
   "cell_type": "code",
   "execution_count": 9,
   "id": "825b624c",
   "metadata": {},
   "outputs": [
    {
     "name": "stdout",
     "output_type": "stream",
     "text": [
      "I have 3 sides\n",
      "I have 5 sides\n"
     ]
    }
   ],
   "source": [
    "# Driver code\n",
    "T = Triangle()\n",
    "T.noofsides()\n",
    "  \n",
    "P = Pentagon()\n",
    "P.noofsides()"
   ]
  },
  {
   "cell_type": "code",
   "execution_count": 14,
   "id": "ecf3be64",
   "metadata": {},
   "outputs": [
    {
     "name": "stdout",
     "output_type": "stream",
     "text": [
      "I can walk and run\n",
      "I can crawl\n",
      "I can bark\n",
      "I can roar\n"
     ]
    }
   ],
   "source": [
    "from abc import ABC # @abstractmethod is not used\n",
    "class Animal(ABC): # inherited ABC\n",
    "    \n",
    "    def move(self): # abstract method\n",
    "        pass\n",
    " \n",
    "class Human(Animal):\n",
    " \n",
    "    def move(self): # overriding\n",
    "        print(\"I can walk and run\")\n",
    " \n",
    "class Snake(Animal):\n",
    " \n",
    "    def move(self):\n",
    "        print(\"I can crawl\")\n",
    " \n",
    "class Dog(Animal):\n",
    " \n",
    "    def move(self):\n",
    "        print(\"I can bark\")\n",
    " \n",
    "class Lion(Animal):\n",
    " \n",
    "    def move(self):\n",
    "        print(\"I can roar\")\n",
    "         \n",
    "# Driver code\n",
    "h = Human()\n",
    "h.move()\n",
    " \n",
    "s = Snake()\n",
    "s.move()\n",
    " \n",
    "d = Dog()\n",
    "d.move()\n",
    " \n",
    "l = Lion()\n",
    "l.move()\n",
    "\n",
    "animal = Animal()\n",
    "animal.move()"
   ]
  },
  {
   "cell_type": "markdown",
   "id": "096dab75",
   "metadata": {},
   "source": [
    "#### implementing abstract class through subclassing"
   ]
  },
  {
   "cell_type": "code",
   "execution_count": 2,
   "id": "b50231a5",
   "metadata": {},
   "outputs": [
    {
     "name": "stdout",
     "output_type": "stream",
     "text": [
      "True\n",
      "True\n"
     ]
    }
   ],
   "source": [
    "class parent:      \n",
    "    def m1(self): # abstract method in base class\n",
    "        pass\n",
    " \n",
    "class child(parent):\n",
    "    def m1(self):   # implementing abstract class through subclassing\n",
    "        print(\"child class\")\n",
    " \n",
    "# Driver code\n",
    "print(issubclass(child, parent))\n",
    "print(isinstance(child(), parent))"
   ]
  },
  {
   "cell_type": "markdown",
   "id": "56a8a47a",
   "metadata": {},
   "source": [
    "#### concrete Methods in Abstract Base Classes"
   ]
  },
  {
   "cell_type": "code",
   "execution_count": 18,
   "id": "5791f03e",
   "metadata": {},
   "outputs": [
    {
     "name": "stdout",
     "output_type": "stream",
     "text": [
      "Abstract Base Class\n",
      "Subclass \n",
      "Abstract Base Class\n"
     ]
    }
   ],
   "source": [
    "import abc\n",
    "from abc import ABC, abstractmethod\n",
    " \n",
    "class A(ABC): # inherits ABC => abstract base class\n",
    "    def m1(self):\n",
    "        print(\"Abstract Base Class\")\n",
    " \n",
    "class B(A):\n",
    "    def m1(self):\n",
    "        super().m1() # invoke the methods in abstract class using super()\n",
    "        print(\"Subclass \")\n",
    " \n",
    "# Driver code\n",
    "b = B()\n",
    "b.m1()\n",
    "\n",
    "a = A() # since there is no @abstractmethod \n",
    "a.m1()"
   ]
  },
  {
   "cell_type": "markdown",
   "id": "9be3efb5",
   "metadata": {},
   "source": [
    "#### abstract class instantiation\n",
    "- abstract properties or abstract methods  \n",
    "- no object creation"
   ]
  },
  {
   "cell_type": "code",
   "execution_count": 26,
   "id": "c9e20063",
   "metadata": {},
   "outputs": [
    {
     "name": "stdout",
     "output_type": "stream",
     "text": [
      "Can't instantiate abstract class parent with abstract method m1\n",
      "program end\n"
     ]
    }
   ],
   "source": [
    "import abc\n",
    "from abc import ABC, abstractmethod\n",
    " \n",
    "class parent(ABC):\n",
    "    @abstractmethod\n",
    "    def m1(self):\n",
    "        pass\n",
    "    \n",
    "    \n",
    "class child(parent):  \n",
    "   def m1(self):\n",
    "        print('subclass overidden method')\n",
    "  \n",
    "  \n",
    "try:\n",
    "    p = parent() # cannot create object for abstract class\n",
    "except Exception as err:\n",
    "    print (err) # exception: Can't instantiate abstract class parent with abstract method m1\n",
    "    \n",
    "print(\"program end\")"
   ]
  },
  {
   "cell_type": "code",
   "execution_count": 24,
   "id": "246ccfa6",
   "metadata": {},
   "outputs": [],
   "source": [
    "# p = parent() # TypeError: Can't instantiate abstract class parent with abstract method m1"
   ]
  },
  {
   "cell_type": "code",
   "execution_count": null,
   "id": "9fa20274",
   "metadata": {},
   "outputs": [],
   "source": []
  }
 ],
 "metadata": {
  "kernelspec": {
   "display_name": "Python 3 (ipykernel)",
   "language": "python",
   "name": "python3"
  },
  "language_info": {
   "codemirror_mode": {
    "name": "ipython",
    "version": 3
   },
   "file_extension": ".py",
   "mimetype": "text/x-python",
   "name": "python",
   "nbconvert_exporter": "python",
   "pygments_lexer": "ipython3",
   "version": "3.9.16"
  }
 },
 "nbformat": 4,
 "nbformat_minor": 5
}
