{
 "cells": [
  {
   "cell_type": "markdown",
   "metadata": {
    "id": "FyLgzyAAhzO_"
   },
   "source": [
    "#### single inheritance"
   ]
  },
  {
   "cell_type": "code",
   "execution_count": 1,
   "metadata": {
    "colab": {
     "base_uri": "https://localhost:8080/"
    },
    "executionInfo": {
     "elapsed": 6,
     "status": "ok",
     "timestamp": 1681723536669,
     "user": {
      "displayName": "vishnupriya karanam",
      "userId": "13289819926024070101"
     },
     "user_tz": -330
    },
    "id": "wE9WwvFohijr",
    "outputId": "a31bfb05-4040-4241-96a1-690ed826b0c4"
   },
   "outputs": [
    {
     "name": "stdout",
     "output_type": "stream",
     "text": [
      "This function is in parent class.\n",
      "This function is in child class.\n"
     ]
    }
   ],
   "source": [
    "# Base class\n",
    "class Parent:\n",
    "    def fun1(self):\n",
    "        print(\"This function is in parent class.\")\n",
    "\n",
    "# Derived class\n",
    "class Child(Parent):\n",
    "    def fun2(self):\n",
    "        print(\"This function is in child class.\")\n",
    "\n",
    "# Driver's code\n",
    "childobject = Child()\n",
    "childobject.fun1()\n",
    "childobject.fun2()"
   ]
  },
  {
   "cell_type": "markdown",
   "metadata": {
    "id": "VGcyKLfcifLw"
   },
   "source": [
    "#### method overidding in single inheritance"
   ]
  },
  {
   "cell_type": "code",
   "execution_count": 2,
   "metadata": {
    "colab": {
     "base_uri": "https://localhost:8080/"
    },
    "executionInfo": {
     "elapsed": 10,
     "status": "ok",
     "timestamp": 1681723604449,
     "user": {
      "displayName": "vishnupriya karanam",
      "userId": "13289819926024070101"
     },
     "user_tz": -330
    },
    "id": "SOvZE1QCiCs6",
    "outputId": "34b76030-d24b-486a-8777-0faad8715a7c"
   },
   "outputs": [
    {
     "name": "stdout",
     "output_type": "stream",
     "text": [
      "This function is in child class.\n",
      "This function is in parent class.\n"
     ]
    }
   ],
   "source": [
    "# Base class\n",
    "class Parent:\n",
    "    def fun(self):\n",
    "        print(\"This function is in parent class.\")\n",
    "\n",
    "# Derived class\n",
    "class Child(Parent):\n",
    "    def fun(self): # method overriding\n",
    "        print(\"This function is in child class.\")\n",
    "\n",
    "# Driver's code\n",
    "childobject = Child()\n",
    "childobject.fun()\n",
    "\n",
    "parentobject = Parent()\n",
    "parentobject.fun()"
   ]
  },
  {
   "cell_type": "markdown",
   "metadata": {
    "id": "ikZNajTzioDj"
   },
   "source": [
    "#### multilevel inheritance"
   ]
  },
  {
   "cell_type": "code",
   "execution_count": 6,
   "metadata": {
    "colab": {
     "base_uri": "https://localhost:8080/"
    },
    "executionInfo": {
     "elapsed": 8,
     "status": "ok",
     "timestamp": 1681723986277,
     "user": {
      "displayName": "vishnupriya karanam",
      "userId": "13289819926024070101"
     },
     "user_tz": -330
    },
    "id": "yVs0o_OCiB_t",
    "outputId": "ef51cc4c-ea02-40a0-eaa5-2a3442bc671b"
   },
   "outputs": [
    {
     "name": "stdout",
     "output_type": "stream",
     "text": [
      "charles\n",
      "Grandfather name : charles\n",
      "Father name : bruce lee\n",
      "Son name : anan\n",
      "fathername_\n",
      "grandfathername_\n"
     ]
    }
   ],
   "source": [
    "# Base class\n",
    "class Grandfather:\n",
    "\n",
    "    def __init__(self, grandfathername):\n",
    "        self.grandfathername = grandfathername\n",
    "\n",
    "# Intermediate class\n",
    "class Father(Grandfather):\n",
    "    def __init__(self, fathername, grandfathername):\n",
    "        self.fathername = fathername\n",
    "        # invoking constructor of Grandfather class\n",
    "        Grandfather.__init__(self, grandfathername)\n",
    "\n",
    "# Derived class\n",
    "class Son(Father):\n",
    "    def __init__(self, sonname, fathername, grandfathername):\n",
    "        self.sonname = sonname\n",
    "        # invoking constructor of Father class\n",
    "        Father.__init__(self, fathername, grandfathername)\n",
    "\n",
    "    def print_name(self):\n",
    "        print('Grandfather name :', self.grandfathername)\n",
    "        print(\"Father name :\", self.fathername)\n",
    "        print(\"Son name :\", self.sonname)\n",
    "\n",
    "\n",
    "# Driver code\n",
    "s1 = Son('anan', 'bruce lee', 'charles')\n",
    "print(s1.grandfathername)\n",
    "s1.print_name()\n",
    "\n",
    "f1 = Father(\"fathername_\", 'grandfathername_')\n",
    "print(f1.fathername)\n",
    "print(f1.grandfathername)\n",
    "# print(f1.sonname) # AttributeError: 'Father' object has no attribute 'sonname'"
   ]
  },
  {
   "cell_type": "markdown",
   "metadata": {
    "id": "7-VhSjQWj6V1"
   },
   "source": [
    "#### hierarchical inheritance"
   ]
  },
  {
   "cell_type": "code",
   "execution_count": null,
   "metadata": {
    "colab": {
     "base_uri": "https://localhost:8080/"
    },
    "executionInfo": {
     "elapsed": 6,
     "status": "ok",
     "timestamp": 1681724031659,
     "user": {
      "displayName": "vishnupriya karanam",
      "userId": "13289819926024070101"
     },
     "user_tz": -330
    },
    "id": "uTSAgfo5h_4O",
    "outputId": "f685f87f-474e-4a64-d9f2-0ad4faaacddf"
   },
   "outputs": [
    {
     "name": "stdout",
     "output_type": "stream",
     "text": [
      "This function is in parent class.\n",
      "This function is in child 1.\n",
      "This function is in parent class.\n",
      "This function is in child 2.\n"
     ]
    }
   ],
   "source": [
    "# Base class\n",
    "class Parent:\n",
    "\tdef func1(self):\n",
    "\t\tprint(\"This function is in parent class.\")\n",
    "\n",
    "# Derived class1\n",
    "class Child1(Parent): # f2, f1\n",
    "\tdef func2(self):\n",
    "\t\tprint(\"This function is in child 1.\")\n",
    "\n",
    "# Derivied class2\n",
    "class Child2(Parent): # f3, f1\n",
    "\tdef func3(self):\n",
    "\t\tprint(\"This function is in child 2.\")\n",
    "\n",
    "\n",
    "# Driver's code\n",
    "object1 = Child1()\n",
    "object1.func1()\n",
    "object1.func2()\n",
    "\n",
    "object2 = Child2()\n",
    "object2.func1()\n",
    "object2.func3()"
   ]
  },
  {
   "cell_type": "markdown",
   "metadata": {
    "id": "HHDbSo2vkzg2"
   },
   "source": [
    "#### multiple inheritance"
   ]
  },
  {
   "cell_type": "code",
   "execution_count": null,
   "metadata": {
    "colab": {
     "base_uri": "https://localhost:8080/"
    },
    "executionInfo": {
     "elapsed": 480,
     "status": "ok",
     "timestamp": 1681724306912,
     "user": {
      "displayName": "vishnupriya karanam",
      "userId": "13289819926024070101"
     },
     "user_tz": -330
    },
    "id": "UCZK22uKk0HY",
    "outputId": "f3589308-8b58-453b-c63d-78c7b91a0eb6"
   },
   "outputs": [
    {
     "name": "stdout",
     "output_type": "stream",
     "text": [
      "Father : RAM\n",
      "Mother : SITA\n"
     ]
    }
   ],
   "source": [
    "# Base class1\n",
    "class Mother:\n",
    "\tmothername = \"\"\n",
    "\n",
    "\tdef mother(self):\n",
    "\t\tprint(self.mothername)\n",
    "\n",
    "# Base class2\n",
    "class Father:\n",
    "\tfathername = \"\"\n",
    "\n",
    "\tdef father(self):\n",
    "\t\tprint(self.fathername)\n",
    "\n",
    "# Derived class\n",
    "class Son(Mother, Father):\n",
    "\tdef parents(self):\n",
    "\t\tprint(\"Father :\", self.fathername)\n",
    "\t\tprint(\"Mother :\", self.mothername)\n",
    "\n",
    "# Driver's code\n",
    "s1 = Son()\n",
    "s1.fathername = \"RAM\"\n",
    "s1.mothername = \"SITA\"\n",
    "s1.parents()"
   ]
  },
  {
   "cell_type": "code",
   "execution_count": null,
   "metadata": {
    "colab": {
     "base_uri": "https://localhost:8080/"
    },
    "executionInfo": {
     "elapsed": 10,
     "status": "ok",
     "timestamp": 1681724443936,
     "user": {
      "displayName": "vishnupriya karanam",
      "userId": "13289819926024070101"
     },
     "user_tz": -330
    },
    "id": "meC19CNUkWUF",
    "outputId": "3dabab9b-d7c1-4c73-8687-3759eb6c5a65"
   },
   "outputs": [
    {
     "name": "stdout",
     "output_type": "stream",
     "text": [
      "In Class2\n",
      "In Class3\n"
     ]
    }
   ],
   "source": [
    "# when method is overridden in both classes\n",
    "\n",
    "class Class1:\n",
    "\tdef m(self):\n",
    "\t\tprint(\"In Class1\")\n",
    "\t\n",
    "class Class2(Class1):\n",
    "\tdef m(self): # class1 m is overriden by class2 m\n",
    "\t\tprint(\"In Class2\")\n",
    "\n",
    "class Class3(Class1):\n",
    "\tdef m(self):  # class1 m is overriden by class3 m\n",
    "\t\tprint(\"In Class3\")\n",
    "\t\t\n",
    "class Class4(Class2, Class3):\n",
    "\tpass\n",
    "\n",
    "class Class5(Class3, Class2):\n",
    "\tpass\n",
    "\t\n",
    "obj = Class4()\n",
    "obj.m() # first derived class method: class2\n",
    "\n",
    "obj = Class5()\n",
    "obj.m() # first derived class method: class3"
   ]
  },
  {
   "cell_type": "code",
   "execution_count": 11,
   "metadata": {},
   "outputs": [
    {
     "name": "stdout",
     "output_type": "stream",
     "text": [
      "In Class3\n"
     ]
    }
   ],
   "source": [
    "# When the method is overridden in one of the classes\n",
    "\n",
    "class Class1:\n",
    "\tdef m(self):\n",
    "\t\tprint(\"In Class1\")\n",
    "\t\n",
    "class Class2:\n",
    "\tpass\n",
    "\n",
    "class Class3(Class1):\n",
    "\tdef m(self):\n",
    "\t\tprint(\"In Class3\")\n",
    "\t\n",
    "class Class4(Class2, Class3):\n",
    "\tpass\t\n",
    "\n",
    "obj = Class4()\n",
    "obj.m() # chooses overridden method in the class3"
   ]
  },
  {
   "cell_type": "code",
   "execution_count": 10,
   "metadata": {
    "colab": {
     "base_uri": "https://localhost:8080/"
    },
    "executionInfo": {
     "elapsed": 9,
     "status": "ok",
     "timestamp": 1681724543820,
     "user": {
      "displayName": "vishnupriya karanam",
      "userId": "13289819926024070101"
     },
     "user_tz": -330
    },
    "id": "rr5uqQd1lY0H",
    "outputId": "969b1a96-6710-447c-d96b-2b696b920fe0"
   },
   "outputs": [
    {
     "name": "stdout",
     "output_type": "stream",
     "text": [
      "In Class3\n"
     ]
    }
   ],
   "source": [
    "# When the method is overridden in one of the classes\n",
    "\n",
    "class Class1:\n",
    "\tdef m(self):\n",
    "\t\tprint(\"In Class1\")\n",
    "\t\n",
    "class Class2(Class1):\n",
    "\tpass\n",
    "\n",
    "class Class3(Class1):\n",
    "\tdef m(self):\n",
    "\t\tprint(\"In Class3\")\n",
    "\t\n",
    "class Class4(Class2, Class3):\n",
    "\tpass\t\n",
    "\n",
    "obj = Class4()\n",
    "obj.m() # chooses overridden method in the class3"
   ]
  },
  {
   "cell_type": "code",
   "execution_count": 14,
   "metadata": {
    "colab": {
     "base_uri": "https://localhost:8080/"
    },
    "executionInfo": {
     "elapsed": 12,
     "status": "ok",
     "timestamp": 1681724608600,
     "user": {
      "displayName": "vishnupriya karanam",
      "userId": "13289819926024070101"
     },
     "user_tz": -330
    },
    "id": "3XgUzdjsl217",
    "outputId": "5c7c1ac0-e003-4c95-a460-02ec03f444ba"
   },
   "outputs": [
    {
     "name": "stdout",
     "output_type": "stream",
     "text": [
      "In Class4\n",
      "In Class2\n",
      "In Class3\n"
     ]
    }
   ],
   "source": [
    "# When every class defines the same method\n",
    "\n",
    "class Class1:\n",
    "\tdef m(self):\n",
    "\t\tprint(\"In Class1\")\n",
    "\t\n",
    "class Class2(Class1):\n",
    "\tdef m(self):\n",
    "\t\tprint(\"In Class2\")\n",
    "\n",
    "class Class3(Class1):\n",
    "\tdef m(self):\n",
    "\t\tprint(\"In Class3\")\t\n",
    "\t\n",
    "class Class4(Class2, Class3):\n",
    "\tdef m(self):\n",
    "\t\tprint(\"In Class4\")\n",
    "\n",
    "o4 = Class4()\n",
    "o4.m()\n",
    "\n",
    "Class2.m(o4) # calling method using class name\n",
    "Class3.m(o4) # o4 is never used inside class3\n",
    "# Class1.m() # TypeError: m() missing 1 required positional argument: 'self' "
   ]
  },
  {
   "cell_type": "code",
   "execution_count": null,
   "metadata": {
    "colab": {
     "base_uri": "https://localhost:8080/"
    },
    "executionInfo": {
     "elapsed": 6,
     "status": "ok",
     "timestamp": 1681724696970,
     "user": {
      "displayName": "vishnupriya karanam",
      "userId": "13289819926024070101"
     },
     "user_tz": -330
    },
    "id": "itpD7QU_mEj5",
    "outputId": "49df3a39-67ab-44b3-ff9b-4d5efaa0e679"
   },
   "outputs": [
    {
     "name": "stdout",
     "output_type": "stream",
     "text": [
      "In Class4\n",
      "In Class2\n",
      "In Class3\n",
      "In Class1\n"
     ]
    }
   ],
   "source": [
    "# when we try to call the method m for Class1, Class2, Class3 \n",
    "# from the method m of Class4\n",
    "\n",
    "class Class1:\n",
    "\tdef m(self):\n",
    "\t\tprint(\"In Class1\")\n",
    "\t\n",
    "class Class2(Class1):\n",
    "\tdef m(self):\n",
    "\t\tprint(\"In Class2\")\n",
    "\n",
    "class Class3(Class1):\n",
    "\tdef m(self):\n",
    "\t\tprint(\"In Class3\")\t\n",
    "\t\n",
    "class Class4(Class2, Class3):\n",
    "\tdef m(self):\n",
    "\t\tprint(\"In Class4\")\n",
    "\t\tClass2.m(self)\n",
    "\t\tClass3.m(self)\n",
    "\t\tClass1.m(self)\n",
    "\n",
    "o4 = Class4()\n",
    "o4.m()"
   ]
  },
  {
   "cell_type": "code",
   "execution_count": 18,
   "metadata": {
    "colab": {
     "base_uri": "https://localhost:8080/"
    },
    "executionInfo": {
     "elapsed": 9,
     "status": "ok",
     "timestamp": 1681724758924,
     "user": {
      "displayName": "vishnupriya karanam",
      "userId": "13289819926024070101"
     },
     "user_tz": -330
    },
    "id": "sbvbhCQ4mmCj",
    "outputId": "d321fb37-92fb-40f4-912c-d314b9f1273a"
   },
   "outputs": [
    {
     "name": "stdout",
     "output_type": "stream",
     "text": [
      "In Class4\n",
      "In Class2\n",
      "In Class1\n",
      "In Class3\n",
      "In Class1\n",
      "In Class5\n"
     ]
    }
   ],
   "source": [
    "# when we try to call m of Class1 from both \n",
    "# m of Class2 and m of Class3\n",
    "\n",
    "class Class1:\n",
    "\tdef m(self):\n",
    "\t\tprint(\"In Class1\")\n",
    "\t\n",
    "class Class2(Class1):\n",
    "\tdef m(self):\n",
    "\t\tprint(\"In Class2\")\n",
    "\t\tClass1.m(self)\n",
    "\n",
    "class Class3(Class1):\n",
    "\tdef m(self):\n",
    "\t\tprint(\"In Class3\")\n",
    "\t\tClass1.m(self)\n",
    "\t\n",
    "class Class4(Class2, Class3):\n",
    "    def m(self):\n",
    "        print(\"In Class4\")\n",
    "        Class2.m(self)\n",
    "        Class3.m(self)\n",
    "        Class5.m(self)\n",
    "        \n",
    "class Class5: # same folder\n",
    "    def m(self):\n",
    "        print(\"In Class5\")\n",
    "\n",
    "o4 = Class4()\n",
    "o4.m()"
   ]
  },
  {
   "cell_type": "markdown",
   "metadata": {
    "id": "VYEHtEJMkPLH"
   },
   "source": [
    "#### hybrid inheritance"
   ]
  },
  {
   "cell_type": "code",
   "execution_count": null,
   "metadata": {
    "colab": {
     "base_uri": "https://localhost:8080/"
    },
    "executionInfo": {
     "elapsed": 562,
     "status": "ok",
     "timestamp": 1681724312031,
     "user": {
      "displayName": "vishnupriya karanam",
      "userId": "13289819926024070101"
     },
     "user_tz": -330
    },
    "id": "MrATv45fkD1y",
    "outputId": "f81f3a36-22b6-403c-b790-7fe170172633"
   },
   "outputs": [
    {
     "name": "stdout",
     "output_type": "stream",
     "text": [
      "This function is in school.\n",
      "This function is in student 1. \n"
     ]
    }
   ],
   "source": [
    "class School:\n",
    "\tdef func1(self):\n",
    "\t\tprint(\"This function is in school.\")\n",
    "\n",
    "# single\n",
    "class Student1(School): \n",
    "\tdef func2(self):\n",
    "\t\tprint(\"This function is in student 1. \")\n",
    "\n",
    "# hierarchical\n",
    "class Student2(School):\n",
    "\tdef func3(self):\n",
    "\t\tprint(\"This function is in student 2.\")\n",
    "\n",
    "# multiple\n",
    "class Student3(Student1, School):\n",
    "\tdef func4(self):\n",
    "\t\tprint(\"This function is in student 3.\")\n",
    "\n",
    "# Driver's code\n",
    "object = Student3()\n",
    "object.func1()\n",
    "object.func2()\n"
   ]
  },
  {
   "cell_type": "markdown",
   "metadata": {
    "id": "7_4s7TCSosoe"
   },
   "source": [
    "#### super() - for parent class method"
   ]
  },
  {
   "cell_type": "code",
   "execution_count": null,
   "metadata": {
    "colab": {
     "base_uri": "https://localhost:8080/"
    },
    "executionInfo": {
     "elapsed": 8,
     "status": "ok",
     "timestamp": 1681725347426,
     "user": {
      "displayName": "vishnupriya karanam",
      "userId": "13289819926024070101"
     },
     "user_tz": -330
    },
    "id": "6uNhGKwym1Sy",
    "outputId": "270cccf4-fd37-4dfc-d95c-4afb363165a2"
   },
   "outputs": [
    {
     "name": "stdout",
     "output_type": "stream",
     "text": [
      "In Class4\n",
      "In Class2\n",
      "In Class3\n",
      "In Class1\n",
      "[<class '__main__.Class4'>, <class '__main__.Class2'>, <class '__main__.Class3'>, <class '__main__.Class1'>, <class 'object'>]\n",
      "[<class '__main__.Class3'>, <class '__main__.Class1'>, <class 'object'>]\n"
     ]
    }
   ],
   "source": [
    "class Class1:\n",
    "\tdef m(self):\n",
    "\t\tprint(\"In Class1\")\n",
    "\n",
    "class Class2(Class1):\n",
    "\tdef m(self):\n",
    "\t\tprint(\"In Class2\")\n",
    "\t\tsuper().m()  # comment and check\n",
    "\n",
    "class Class3(Class1):\n",
    "\tdef m(self):\n",
    "\t\tprint(\"In Class3\")\n",
    "\t\tsuper().m()\n",
    "\n",
    "class Class4(Class2, Class3):\n",
    "\tdef m(self):\n",
    "\t\tprint(\"In Class4\")\n",
    "\t\tsuper().m() # c2.m , c3.m\n",
    "\t\n",
    "o4 = Class4()\n",
    "o4.m() \n",
    "\n",
    "print(Class4.mro()) # Method resolution order\n",
    "print(Class3.mro())"
   ]
  },
  {
   "cell_type": "code",
   "execution_count": null,
   "metadata": {
    "id": "ccIblK14nOdi"
   },
   "outputs": [],
   "source": []
  }
 ],
 "metadata": {
  "colab": {
   "provenance": [],
   "toc_visible": true
  },
  "kernelspec": {
   "display_name": "Python 3 (ipykernel)",
   "language": "python",
   "name": "python3"
  },
  "language_info": {
   "codemirror_mode": {
    "name": "ipython",
    "version": 3
   },
   "file_extension": ".py",
   "mimetype": "text/x-python",
   "name": "python",
   "nbconvert_exporter": "python",
   "pygments_lexer": "ipython3",
   "version": "3.9.16"
  }
 },
 "nbformat": 4,
 "nbformat_minor": 1
}
