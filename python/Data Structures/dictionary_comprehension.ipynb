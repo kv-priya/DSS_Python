{
 "cells": [
  {
   "cell_type": "markdown",
   "id": "98c68368",
   "metadata": {},
   "source": [
    "#### dictionary comprehension\n",
    "- an elegant and concise way to create dictionaries"
   ]
  },
  {
   "cell_type": "code",
   "execution_count": 1,
   "id": "4b1ac611",
   "metadata": {},
   "outputs": [],
   "source": [
    "my_dict = {1: 'apple', 2: 'ball'}"
   ]
  },
  {
   "cell_type": "code",
   "execution_count": 2,
   "id": "5f17f3ed",
   "metadata": {},
   "outputs": [
    {
     "name": "stdout",
     "output_type": "stream",
     "text": [
      "{1: 1, 2: 4, 3: 9, 4: 16, 5: 25, 6: 36, 7: 49, 8: 64, 9: 81, 10: 100}\n"
     ]
    }
   ],
   "source": [
    "square_dict = dict()\n",
    "for num in range(1, 11):\n",
    "    square_dict[num] = num*num # d[key]=value\n",
    "print(square_dict)"
   ]
  },
  {
   "cell_type": "code",
   "execution_count": 5,
   "id": "65318883",
   "metadata": {},
   "outputs": [
    {
     "name": "stdout",
     "output_type": "stream",
     "text": [
      "{1: 1, 2: 4, 3: 9, 4: 16, 5: 25, 6: 36, 7: 49, 8: 64, 9: 81, 10: 100}\n"
     ]
    }
   ],
   "source": [
    "# creating above dictionary in one line using dictionary comprehension\n",
    "square_dict = {num: num*num for num in range(1, 11)}\n",
    "print(square_dict)"
   ]
  },
  {
   "cell_type": "markdown",
   "id": "870a30eb",
   "metadata": {},
   "source": [
    "#### Syntax"
   ]
  },
  {
   "attachments": {
    "Python-dictionary-comprehension.webp": {
     "image/webp": "[encoded data removed]"
    }
   },
   "cell_type": "markdown",
   "id": "cba446db",
   "metadata": {},
   "source": [
    "![Python-dictionary-comprehension.webp](attachment:Python-dictionary-comprehension.webp)"
   ]
  },
  {
   "cell_type": "markdown",
   "id": "e384ea57",
   "metadata": {},
   "source": [
    "#### use dictionary comprehension "
   ]
  },
  {
   "cell_type": "code",
   "execution_count": 3,
   "id": "fef81a9a",
   "metadata": {},
   "outputs": [
    {
     "name": "stdout",
     "output_type": "stream",
     "text": [
      "dict_items([('milk', 1.02), ('coffee', 2.5), ('bread', 2.5)])\n",
      "{'milk': 0.7752, 'coffee': 1.9, 'bread': 1.9}\n"
     ]
    }
   ],
   "source": [
    "#item price in dollars\n",
    "old_price = {'milk': 1.02, 'coffee': 2.5, 'bread': 2.5}\n",
    "\n",
    "print(old_price.items())\n",
    "\n",
    "dollar_to_pound = 0.76\n",
    "new_price = {key: value*dollar_to_pound for (key, value) in old_price.items()}\n",
    "print(new_price)"
   ]
  },
  {
   "cell_type": "markdown",
   "id": "b202d288",
   "metadata": {},
   "source": [
    "#### If Conditional Dictionary Comprehension"
   ]
  },
  {
   "cell_type": "code",
   "execution_count": 7,
   "id": "6d07dbb4",
   "metadata": {},
   "outputs": [
    {
     "name": "stdout",
     "output_type": "stream",
     "text": [
      "{'jack': 38, 'michael': 48}\n"
     ]
    }
   ],
   "source": [
    "original_dict = {'jack': 38, 'michael': 48, 'guido': 57, 'john': 33}\n",
    "\n",
    "even_dict = {k: v for (k, v) in original_dict.items() if v % 2 == 0}\n",
    "print(even_dict)"
   ]
  },
  {
   "cell_type": "markdown",
   "id": "76ab10e0",
   "metadata": {},
   "source": [
    "#### Multiple if Conditional Dictionary Comprehension\n",
    "- equivalent to and operation where both conditions have to be true"
   ]
  },
  {
   "cell_type": "code",
   "execution_count": 4,
   "id": "96885840",
   "metadata": {},
   "outputs": [
    {
     "name": "stdout",
     "output_type": "stream",
     "text": [
      "{'john': 33}\n"
     ]
    }
   ],
   "source": [
    "original_dict = {'jack': 38, 'michael': 48, 'guido': 57, 'john': 33}\n",
    "\n",
    "new_dict = {k: v for (k, v) in original_dict.items() if v % 2 != 0 if v < 40}\n",
    "print(new_dict)"
   ]
  },
  {
   "cell_type": "markdown",
   "id": "29914c6c",
   "metadata": {},
   "source": [
    "#### if-else Conditional Dictionary Comprehension"
   ]
  },
  {
   "cell_type": "code",
   "execution_count": 2,
   "id": "d2aa4fb2",
   "metadata": {},
   "outputs": [
    {
     "name": "stdout",
     "output_type": "stream",
     "text": [
      "{'jack': 'young', 'michael': 'old', 'guido': 'old', 'john': 'young'}\n",
      "{'young': 20, 'old': 40}\n"
     ]
    }
   ],
   "source": [
    "original_dict = {'jack': 38, 'michael': 48, 'guido': 57, 'john': 33}\n",
    "\n",
    "new_dict_1 = {k: ('old' if v > 40 else 'young') for (k, v) in original_dict.items()}\n",
    "print(new_dict_1)\n",
    "\n",
    "a = {1:10,2:20,3:30,4:40}\n",
    "new_dict_1 = {('old' if k > 2 else 'young'): v for (k, v) in a.items()}\n",
    "print(new_dict_1)"
   ]
  },
  {
   "cell_type": "markdown",
   "id": "2cc81f50",
   "metadata": {},
   "source": [
    "#### Nested Dictionary with Two Dictionary Comprehensions"
   ]
  },
  {
   "cell_type": "code",
   "execution_count": 23,
   "id": "29df3634",
   "metadata": {
    "scrolled": true
   },
   "outputs": [
    {
     "data": {
      "text/plain": [
       "{11: {1: 11, 2: 22, 3: 33, 4: 44, 5: 55},\n",
       " 12: {1: 12, 2: 24, 3: 36, 4: 48, 5: 60},\n",
       " 13: {1: 13, 2: 26, 3: 39, 4: 52, 5: 65},\n",
       " 14: {1: 14, 2: 28, 3: 42, 4: 56, 5: 70},\n",
       " 15: {1: 15, 2: 30, 3: 45, 4: 60, 5: 75}}"
      ]
     },
     "execution_count": 23,
     "metadata": {},
     "output_type": "execute_result"
    }
   ],
   "source": [
    "# multiplication table in a nested dictionary, for numbers from 11 to 15\n",
    "dictionary = {\n",
    "    k1: {k2: k1 * k2 for k2 in range(1, 6)} \n",
    "    for k1 in range(11, 16)\n",
    "}\n",
    "\n",
    "dictionary"
   ]
  },
  {
   "cell_type": "code",
   "execution_count": 24,
   "id": "01fa8545",
   "metadata": {},
   "outputs": [
    {
     "data": {
      "text/plain": [
       "{11: {1: 11, 2: 22, 3: 33, 4: 44, 5: 55},\n",
       " 12: {1: 12, 2: 24, 3: 36, 4: 48, 5: 60},\n",
       " 13: {1: 13, 2: 26, 3: 39, 4: 52, 5: 65},\n",
       " 14: {1: 14, 2: 28, 3: 42, 4: 56, 5: 70},\n",
       " 15: {1: 15, 2: 30, 3: 45, 4: 60, 5: 75}}"
      ]
     },
     "execution_count": 24,
     "metadata": {},
     "output_type": "execute_result"
    }
   ],
   "source": [
    "# unfold above code\n",
    "dictionary = dict()\n",
    "for k1 in range(11, 16):\n",
    "    dictionary[k1] = {k2: k1*k2 for k2 in range(1, 6)}\n",
    "\n",
    "dictionary"
   ]
  },
  {
   "cell_type": "code",
   "execution_count": 25,
   "id": "f2aa099b",
   "metadata": {},
   "outputs": [
    {
     "data": {
      "text/plain": [
       "{11: {1: 11, 2: 22, 3: 33, 4: 44, 5: 55},\n",
       " 12: {1: 12, 2: 24, 3: 36, 4: 48, 5: 60},\n",
       " 13: {1: 13, 2: 26, 3: 39, 4: 52, 5: 65},\n",
       " 14: {1: 14, 2: 28, 3: 42, 4: 56, 5: 70},\n",
       " 15: {1: 15, 2: 30, 3: 45, 4: 60, 5: 75}}"
      ]
     },
     "execution_count": 25,
     "metadata": {},
     "output_type": "execute_result"
    }
   ],
   "source": [
    "# further unfold above code\n",
    "dictionary = dict()\n",
    "for k1 in range(11, 16):\n",
    "    dictionary[k1] = dict()\n",
    "    for k2 in range(1, 6):\n",
    "        dictionary[k1][k2] = k1*k2\n",
    "\n",
    "dictionary"
   ]
  },
  {
   "cell_type": "markdown",
   "id": "95444957",
   "metadata": {},
   "source": [
    "#### Advantages of using dictionary comprehension"
   ]
  },
  {
   "cell_type": "markdown",
   "id": "44732b42",
   "metadata": {},
   "source": [
    "- makes code more elegant\n",
    "- easy to read code\n",
    "- shortens the process of initialising dictionaries \n",
    "- cut short to few lines of code keeping logic intact "
   ]
  },
  {
   "cell_type": "markdown",
   "id": "59b25b17",
   "metadata": {},
   "source": [
    "#### Disadvantages of using dictionary comprehension"
   ]
  },
  {
   "cell_type": "markdown",
   "id": "5f3f0c22",
   "metadata": {},
   "source": [
    "- can make code run slower\n",
    "- consume more memory\n",
    "- complex comprehensions reduces readability of code\n",
    "- not preferred in case of large dictionaries or difficult logic"
   ]
  }
 ],
 "metadata": {
  "kernelspec": {
   "display_name": "Python 3 (ipykernel)",
   "language": "python",
   "name": "python3"
  },
  "language_info": {
   "codemirror_mode": {
    "name": "ipython",
    "version": 3
   },
   "file_extension": ".py",
   "mimetype": "text/x-python",
   "name": "python",
   "nbconvert_exporter": "python",
   "pygments_lexer": "ipython3",
   "version": "3.9.16"
  }
 },
 "nbformat": 4,
 "nbformat_minor": 5
}
