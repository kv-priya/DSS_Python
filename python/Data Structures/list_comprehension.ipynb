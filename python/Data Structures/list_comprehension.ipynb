{
 "cells": [
  {
   "cell_type": "markdown",
   "id": "soNAqGvd3gHw",
   "metadata": {
    "id": "soNAqGvd3gHw"
   },
   "source": [
    "#### list comprehension\n",
    "- To generate a list\n",
    "- enclosed in [ ]"
   ]
  },
  {
   "cell_type": "code",
   "execution_count": null,
   "id": "lLMvFaP43iH_",
   "metadata": {
    "id": "lLMvFaP43iH_",
    "outputId": "c4e8fb52-b9f9-4ad5-bc3e-04888c3b1e65"
   },
   "outputs": [
    {
     "name": "stdout",
     "output_type": "stream",
     "text": [
      "['apple', 'banana', 'mango']\n"
     ]
    }
   ],
   "source": [
    "fruits = [\"apple\", \"banana\", \"cherry\", \"kiwi\", \"mango\"]\n",
    "newlist = []\n",
    "\n",
    "for x in fruits:\n",
    "    if \"a\" in x:\n",
    "        newlist.append(x)\n",
    "\n",
    "print(newlist)"
   ]
  },
  {
   "cell_type": "markdown",
   "id": "9c0c6140",
   "metadata": {},
   "source": [
    "#### for : [val for]"
   ]
  },
  {
   "cell_type": "code",
   "execution_count": 2,
   "id": "mpuVOHp73b6h",
   "metadata": {
    "id": "mpuVOHp73b6h",
    "outputId": "96783f39-b3b0-4d2f-9109-2bc6a2bfdad0"
   },
   "outputs": [
    {
     "name": "stdout",
     "output_type": "stream",
     "text": [
      "apple\n",
      "banana\n",
      "cherry\n"
     ]
    },
    {
     "data": {
      "text/plain": [
       "['APPLE', 'BANANA', 'CHERRY']"
      ]
     },
     "execution_count": 2,
     "metadata": {},
     "output_type": "execute_result"
    }
   ],
   "source": [
    "fruits = [\"apple\", \"banana\", \"cherry\"]\n",
    "\n",
    "# newlist =[]\n",
    "# for x in fruits:\n",
    "#      newlist.append(x)\n",
    "\n",
    "newlist = [x for x in fruits] # same list is again created using for loop\n",
    "\n",
    "# for x in fruits:\n",
    "#     print(x)\n",
    "\n",
    "[print(x) for x in fruits] # output values\n",
    "\n",
    "    \n",
    "[x.upper() for x in fruits] # list"
   ]
  },
  {
   "cell_type": "code",
   "execution_count": 25,
   "id": "r_kDNpbk3tSB",
   "metadata": {
    "id": "r_kDNpbk3tSB",
    "outputId": "7fe182f6-f619-4766-e05d-f4e989f6239b"
   },
   "outputs": [
    {
     "data": {
      "text/plain": [
       "['apple', 'banana', 'cherry', 'kiwi', 'mango']"
      ]
     },
     "execution_count": 25,
     "metadata": {},
     "output_type": "execute_result"
    }
   ],
   "source": [
    "fruits = [\"apple\", \"banana\", \"cherry\", \"kiwi\", \"mango\"]\n",
    "[x for x in fruits]\n",
    "\n",
    "# for x in fruits:\n",
    "#   newlist.append(x)"
   ]
  },
  {
   "cell_type": "code",
   "execution_count": 26,
   "id": "l3GGibRY3uLs",
   "metadata": {
    "id": "l3GGibRY3uLs",
    "outputId": "c1da61e2-b033-4f31-c1f8-0b4a8d0d13d0"
   },
   "outputs": [
    {
     "data": {
      "text/plain": [
       "[0, 1, 2, 3, 4, 5, 6, 7, 8, 9]"
      ]
     },
     "execution_count": 26,
     "metadata": {},
     "output_type": "execute_result"
    }
   ],
   "source": [
    "[x for x in range(10)]"
   ]
  },
  {
   "cell_type": "code",
   "execution_count": 28,
   "id": "wS0BzECl3xxq",
   "metadata": {
    "id": "wS0BzECl3xxq",
    "outputId": "a4a9bf0b-a91b-418c-9e8a-535dafa7ed12"
   },
   "outputs": [
    {
     "data": {
      "text/plain": [
       "['hello', 'hello', 'hello', 'hello', 'hello']"
      ]
     },
     "execution_count": 28,
     "metadata": {},
     "output_type": "execute_result"
    }
   ],
   "source": [
    "fruits = [\"apple\", \"banana\", \"cherry\", \"kiwi\", \"mango\"]\n",
    "['hello' for x in fruits]"
   ]
  },
  {
   "cell_type": "markdown",
   "id": "ffdd7bc2",
   "metadata": {},
   "source": [
    "#### enumerate in for"
   ]
  },
  {
   "cell_type": "code",
   "execution_count": 3,
   "id": "fcSq7j00iGCA",
   "metadata": {
    "colab": {
     "base_uri": "https://localhost:8080/"
    },
    "executionInfo": {
     "elapsed": 480,
     "status": "ok",
     "timestamp": 1685074069073,
     "user": {
      "displayName": "DSS DSS",
      "userId": "17636620013329168760"
     },
     "user_tz": -330
    },
    "id": "fcSq7j00iGCA",
    "outputId": "1fae0f79-1558-4698-90c6-c3a4f6b15d8c"
   },
   "outputs": [
    {
     "name": "stdout",
     "output_type": "stream",
     "text": [
      "[[0, 'apple'], [1, 'banana'], [2, 'cherry'], [3, 'kiwi'], [4, 'mango']]\n",
      "[(0, 'apple'), (1, 'banana'), (2, 'cherry'), (3, 'kiwi'), (4, 'mango')]\n",
      "[['apple'], ['banana'], ['cherry'], ['kiwi'], ['mango']]\n"
     ]
    }
   ],
   "source": [
    "fruits = [\"apple\", \"banana\", \"cherry\", \"kiwi\", \"mango\"]\n",
    "\n",
    "newlist = [[i,x] for i,x in enumerate(fruits)]\n",
    "new_tuple_list = [(i,x) for i,x in enumerate(fruits)]\n",
    "\n",
    "print(newlist)\n",
    "print(new_tuple_list)\n",
    "\n",
    "newlist = [[x] for i,x in enumerate(fruits)]\n",
    "print(newlist)"
   ]
  },
  {
   "cell_type": "markdown",
   "id": "6e88ed04",
   "metadata": {},
   "source": [
    "#### for if: [val for if]"
   ]
  },
  {
   "cell_type": "code",
   "execution_count": 29,
   "id": "VSMbrCCC3rhA",
   "metadata": {
    "colab": {
     "base_uri": "https://localhost:8080/"
    },
    "executionInfo": {
     "elapsed": 4,
     "status": "ok",
     "timestamp": 1685073415630,
     "user": {
      "displayName": "DSS DSS",
      "userId": "17636620013329168760"
     },
     "user_tz": -330
    },
    "id": "VSMbrCCC3rhA",
    "outputId": "8345b951-b73c-4e28-9ed7-de06079b749b"
   },
   "outputs": [
    {
     "data": {
      "text/plain": [
       "['apple', 'banana', 'mango']"
      ]
     },
     "execution_count": 29,
     "metadata": {},
     "output_type": "execute_result"
    }
   ],
   "source": [
    "fruits = [\"apple\", \"banana\", \"cherry\", \"kiwi\", \"mango\"]\n",
    "[x for x in fruits if \"a\" in x]"
   ]
  },
  {
   "cell_type": "code",
   "execution_count": 30,
   "id": "wh8OLpI73sZH",
   "metadata": {
    "id": "wh8OLpI73sZH",
    "outputId": "22b7f0a8-f0a9-43de-fd28-c74bdd29f820"
   },
   "outputs": [
    {
     "data": {
      "text/plain": [
       "['banana', 'cherry', 'kiwi', 'mango']"
      ]
     },
     "execution_count": 30,
     "metadata": {},
     "output_type": "execute_result"
    }
   ],
   "source": [
    "fruits = [\"apple\", \"banana\", \"cherry\", \"kiwi\", \"mango\"]\n",
    "[x for x in fruits if x != \"apple\"]"
   ]
  },
  {
   "cell_type": "code",
   "execution_count": 31,
   "id": "O1LypP9N3vYR",
   "metadata": {
    "id": "O1LypP9N3vYR",
    "outputId": "3d04b6c9-7a51-4461-9840-beff23de1517"
   },
   "outputs": [
    {
     "data": {
      "text/plain": [
       "[0, 1, 2, 3, 4]"
      ]
     },
     "execution_count": 31,
     "metadata": {},
     "output_type": "execute_result"
    }
   ],
   "source": [
    "[x for x in range(10) if x < 5]"
   ]
  },
  {
   "cell_type": "markdown",
   "id": "1eb24ff2",
   "metadata": {},
   "source": [
    "#### nested if comprehension: [val for if if]"
   ]
  },
  {
   "cell_type": "code",
   "execution_count": 32,
   "id": "16da203a",
   "metadata": {},
   "outputs": [
    {
     "data": {
      "text/plain": [
       "[0, 10, 20, 30, 40, 50, 60, 70, 80, 90]"
      ]
     },
     "execution_count": 32,
     "metadata": {},
     "output_type": "execute_result"
    }
   ],
   "source": [
    "[y for y in range(100) if y % 2 == 0 if y % 5 == 0]"
   ]
  },
  {
   "cell_type": "markdown",
   "id": "59ec1a98",
   "metadata": {},
   "source": [
    "#### nested loops: [[val for] for]"
   ]
  },
  {
   "cell_type": "code",
   "execution_count": 33,
   "id": "00093b69",
   "metadata": {},
   "outputs": [
    {
     "name": "stdout",
     "output_type": "stream",
     "text": [
      "[[1, 3, 5, 7], [2, 4, 6, 8]]\n",
      "[[101, 102, 103, 104], ['Ashok', 'Mounika', 'Nagaraju', 'Adarsh']]\n"
     ]
    }
   ],
   "source": [
    "matrix = [[1, 2], \n",
    "          [3,4], \n",
    "          [5,6], \n",
    "          [7,8]]\n",
    "\n",
    "transpose = [[row[i] for row in matrix] for i in range(2)]\n",
    "print (transpose)\n",
    "\n",
    "emp_details = [[101, 'Ashok'], \n",
    "          [102,'Mounika'], \n",
    "          [103,'Nagaraju'], \n",
    "          [104,'Adarsh']]\n",
    "\n",
    "\n",
    "emp = [[row[i] for row in emp_details] for i in range(2)]\n",
    "print(emp)"
   ]
  },
  {
   "cell_type": "markdown",
   "id": "5cfaed4c",
   "metadata": {},
   "source": [
    "#### if else comprehension [val if else val for]"
   ]
  },
  {
   "cell_type": "code",
   "execution_count": 18,
   "id": "LatugDdP3yxA",
   "metadata": {
    "colab": {
     "base_uri": "https://localhost:8080/"
    },
    "executionInfo": {
     "elapsed": 5,
     "status": "ok",
     "timestamp": 1685073932264,
     "user": {
      "displayName": "DSS DSS",
      "userId": "17636620013329168760"
     },
     "user_tz": -330
    },
    "id": "LatugDdP3yxA",
    "outputId": "5191a5fe-92f9-480c-a3ad-f00536950e53"
   },
   "outputs": [
    {
     "name": "stdout",
     "output_type": "stream",
     "text": [
      "['apple', 'orange', 'cherry', 'kiwi', 'mango']\n"
     ]
    }
   ],
   "source": [
    "fruits = [\"apple\", \"banana\", \"cherry\", \"kiwi\", \"mango\"]\n",
    "newlist = [x if x != \"banana\" else \"orange\" for x in fruits]\n",
    "\n",
    "# for x in fruits:\n",
    "#   if x != \"banana\":\n",
    "#     newlist.append(x)\n",
    "#   else:\n",
    "#     newlist.append('orange')\n",
    "\n",
    "print(newlist)"
   ]
  },
  {
   "cell_type": "code",
   "execution_count": 34,
   "id": "5bf08925",
   "metadata": {},
   "outputs": [
    {
     "data": {
      "text/plain": [
       "[(0, 'Even'),\n",
       " (1, 'Odd'),\n",
       " (2, 'Even'),\n",
       " (3, 'Odd'),\n",
       " (4, 'Even'),\n",
       " (5, 'Odd'),\n",
       " (6, 'Even'),\n",
       " (7, 'Odd'),\n",
       " (8, 'Even'),\n",
       " (9, 'Odd')]"
      ]
     },
     "execution_count": 34,
     "metadata": {},
     "output_type": "execute_result"
    }
   ],
   "source": [
    "[(i,\"Even\") if i%2==0 else (i,\"Odd\") for i in range(10)]"
   ]
  },
  {
   "cell_type": "markdown",
   "id": "1520dda8",
   "metadata": {},
   "source": [
    "#### elif comprehension [val if else val if else val for]"
   ]
  },
  {
   "cell_type": "code",
   "execution_count": 20,
   "id": "9c0e500b",
   "metadata": {},
   "outputs": [
    {
     "data": {
      "text/plain": [
       "['x<2', 'two', 3, 4, 5]"
      ]
     },
     "execution_count": 20,
     "metadata": {},
     "output_type": "execute_result"
    }
   ],
   "source": [
    "['x<2' if (x < 2) else 'two' if x==2 else x for x in range(1,6)]"
   ]
  },
  {
   "cell_type": "markdown",
   "id": "53db5d6e",
   "metadata": {},
   "source": [
    "- if convert a **for-loop and if statement** into list comprehension:\n",
    "- Must put the **for loop in the beginning**: [i for i in lista if i not in listb]\n",
    "- You’ll definitely get an error if you put the for loop in the end, like this[ i if i in lista not in listb for i in lista]\n",
    "- If convert a **for-loop and if-else statement** in list comprehension:\n",
    "- Must put the **for loop in the end**: [ i if i not in listb else 0 for i in lista]\n",
    "- You’ll definitely get an error if you put the for loop in the end, like this[ [i for i in list if conditionA else ‘string’]]"
   ]
  },
  {
   "cell_type": "markdown",
   "id": "304c9f28",
   "metadata": {},
   "source": [
    "#### flatten list using comprehension"
   ]
  },
  {
   "cell_type": "code",
   "execution_count": 36,
   "id": "38b6f13b",
   "metadata": {},
   "outputs": [
    {
     "data": {
      "text/plain": [
       "[2, 2, 4, 1, 2, 3, 4, 1, 2, 3]"
      ]
     },
     "execution_count": 36,
     "metadata": {},
     "output_type": "execute_result"
    }
   ],
   "source": [
    "lst = [[2, 2], [4], [1, 2, 3, 4], [1, 2, 3]]\n",
    "\n",
    "# Flatten the list here\n",
    "[x for l in lst for x in l] # [cal ol il]"
   ]
  },
  {
   "cell_type": "code",
   "execution_count": 37,
   "id": "dda450da",
   "metadata": {},
   "outputs": [
    {
     "name": "stdout",
     "output_type": "stream",
     "text": [
      "[[3, 4, 5], [6, 7, 8], [9, 10, 11]]\n"
     ]
    }
   ],
   "source": [
    "lst = [[1, 2, 3], [4, 5, 6], [7, 8, 9]]\n",
    "\n",
    "# comprehension to add 2 to each item in the list\n",
    "# create list of lists\n",
    "new = [[x+2 for x in l] for l in lst] # [[val il] ol]\n",
    "print(new)"
   ]
  },
  {
   "cell_type": "code",
   "execution_count": null,
   "id": "c4b4fc21",
   "metadata": {},
   "outputs": [],
   "source": []
  }
 ],
 "metadata": {
  "colab": {
   "provenance": []
  },
  "kernelspec": {
   "display_name": "Python 3 (ipykernel)",
   "language": "python",
   "name": "python3"
  },
  "language_info": {
   "codemirror_mode": {
    "name": "ipython",
    "version": 3
   },
   "file_extension": ".py",
   "mimetype": "text/x-python",
   "name": "python",
   "nbconvert_exporter": "python",
   "pygments_lexer": "ipython3",
   "version": "3.9.16"
  }
 },
 "nbformat": 4,
 "nbformat_minor": 5
}
