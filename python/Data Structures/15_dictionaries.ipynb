{
 "cells": [
  {
   "cell_type": "markdown",
   "metadata": {
    "id": "JfqGlp-LQN6f"
   },
   "source": [
    "### Dictionary"
   ]
  },
  {
   "cell_type": "markdown",
   "metadata": {
    "id": "P4OQ11BGiGFH"
   },
   "source": [
    "- used to store data values in key:value pairs.\n",
    "- collection is ordered, changeable .\n",
    "- written with curly brackets, and have keys and values\n",
    "- Dictionary items can be referred to by using the key name\n",
    "- Do not allow duplicates. Dictionaries cannot have two items with the same key\n",
    "- keys are immutable, values are mutable or immutable"
   ]
  },
  {
   "cell_type": "code",
   "execution_count": 1,
   "metadata": {
    "id": "y89zI1n5QS0s",
    "outputId": "d86ff4d9-7832-48e7-894f-d471eb1b339b"
   },
   "outputs": [
    {
     "name": "stdout",
     "output_type": "stream",
     "text": [
      "{'brand': 'Ford', 'model': 'Mustang', 'year': 1964}\n"
     ]
    }
   ],
   "source": [
    "thisdict = {\n",
    "  \"brand\": \"Ford\",\n",
    "  \"model\": \"Mustang\",\n",
    "  \"year\": 1964\n",
    "}\n",
    "print(thisdict)"
   ]
  },
  {
   "cell_type": "markdown",
   "metadata": {},
   "source": [
    "#### create empty dictionary"
   ]
  },
  {
   "cell_type": "code",
   "execution_count": 7,
   "metadata": {},
   "outputs": [
    {
     "name": "stdout",
     "output_type": "stream",
     "text": [
      "{} <class 'dict'>\n",
      "{} <class 'dict'>\n",
      "{} <class 'dict'>\n"
     ]
    }
   ],
   "source": [
    "d = {}; print(d,type(d))\n",
    "d = dict(); print(d,type(d))\n",
    "d = {key: value for key, value in []}; print(d,type(d)) \n",
    "# d = [(key,value) for key, value in []]; print(d,type(d)) # list of tuples"
   ]
  },
  {
   "cell_type": "code",
   "execution_count": 10,
   "metadata": {},
   "outputs": [
    {
     "name": "stdout",
     "output_type": "stream",
     "text": [
      "defaultdict(<class 'dict'>, {}) <class 'collections.defaultdict'>\n"
     ]
    }
   ],
   "source": [
    "import collections\n",
    "d = collections.defaultdict(dict); \n",
    "print(d,type(d))"
   ]
  },
  {
   "cell_type": "code",
   "execution_count": 14,
   "metadata": {},
   "outputs": [
    {
     "name": "stdout",
     "output_type": "stream",
     "text": [
      "{} {}\n",
      "<class 'dict'> <class 'dict'>\n",
      "{} <class 'dict'>\n"
     ]
    }
   ],
   "source": [
    "# empty dict with keys\n",
    "emptykeylist = emptyvaluelist = {}; \n",
    "print(emptykeylist,emptyvaluelist)\n",
    "print(type(emptykeylist),type(emptykeylist))\n",
    "\n",
    "d = dict(zip(emptykeylist, emptyvaluelist)); \n",
    "print(d,type(d))"
   ]
  },
  {
   "cell_type": "code",
   "execution_count": 15,
   "metadata": {},
   "outputs": [
    {
     "name": "stdout",
     "output_type": "stream",
     "text": [
      "{'': {}, (): {}} <class 'dict'>\n"
     ]
    }
   ],
   "source": [
    "# empty nested dictionary\n",
    "d = {'':{},():{}}; \n",
    "print(d,type(d))"
   ]
  },
  {
   "cell_type": "code",
   "execution_count": 19,
   "metadata": {},
   "outputs": [
    {
     "name": "stdout",
     "output_type": "stream",
     "text": [
      "{} <class 'dict'>\n",
      "{1: None, 2: None, 3: None} <class 'dict'>\n",
      "{1: 0, 2: 0, 3: 0} <class 'dict'>\n"
     ]
    }
   ],
   "source": [
    "# from list\n",
    "emptykeylist = {}\n",
    "keylist = [1,2,3]\n",
    "d = dict.fromkeys(emptykeylist); print(d,type(d))\n",
    "d = dict.fromkeys(keylist); print(d,type(d)) # default value is None for all keys in keylist\n",
    "d = dict.fromkeys(keylist,0); print(d,type(d)) # 0 is the value for all keys in keylist"
   ]
  },
  {
   "cell_type": "markdown",
   "metadata": {
    "id": "v_ORygcsQg_l"
   },
   "source": [
    "***Duplicates Not Allowed in Keys***"
   ]
  },
  {
   "cell_type": "code",
   "execution_count": 20,
   "metadata": {
    "colab": {
     "base_uri": "https://localhost:8080/"
    },
    "executionInfo": {
     "elapsed": 6,
     "status": "ok",
     "timestamp": 1684726213809,
     "user": {
      "displayName": "DSS DSS",
      "userId": "17636620013329168760"
     },
     "user_tz": -330
    },
    "id": "nQxhLe2UQmYT",
    "outputId": "ec812cce-84a5-433f-b391-8e56d9cda603"
   },
   "outputs": [
    {
     "name": "stdout",
     "output_type": "stream",
     "text": [
      "{'brand': 'Ford', 'model': 'Mustang', 'year': 2020}\n"
     ]
    }
   ],
   "source": [
    "thisdict = {\n",
    "  \"brand\": \"Ford\",\n",
    "  \"model\": \"Mustang\",\n",
    "  \"year\": 1964,\n",
    "  \"year\": 2020  # dup keys are not allowed, ordered\n",
    "}\n",
    "print(thisdict) "
   ]
  },
  {
   "cell_type": "markdown",
   "metadata": {
    "id": "xICKWV2EQnts"
   },
   "source": [
    "#### dictionary length"
   ]
  },
  {
   "cell_type": "code",
   "execution_count": null,
   "metadata": {
    "id": "BIe8503zQqCE",
    "outputId": "8847995f-d150-4d82-fc1d-b4b9fbb55616"
   },
   "outputs": [
    {
     "name": "stdout",
     "output_type": "stream",
     "text": [
      "3\n"
     ]
    }
   ],
   "source": [
    "thisdict = {\n",
    "  \"brand\": \"Ford\",\n",
    "  \"model\": \"Mustang\",\n",
    "  \"year\": 1964,\n",
    "  \"year\": 2020\n",
    "}\n",
    "print(len(thisdict))"
   ]
  },
  {
   "cell_type": "markdown",
   "metadata": {
    "id": "0hlhE27iQwNC"
   },
   "source": [
    "#### dictionary items - data types\n",
    "\n",
    "- The values in dictionary items can be of any data type\n",
    "- Dictionary keys must be of an immutable type\n",
    "    - Strings and numbers are the two most commonly used data types as dictionary keys\n",
    "    - We can also use tuples as keys but they must contain only strings, integers, or other tuples"
   ]
  },
  {
   "cell_type": "code",
   "execution_count": 29,
   "metadata": {
    "colab": {
     "base_uri": "https://localhost:8080/"
    },
    "executionInfo": {
     "elapsed": 5,
     "status": "ok",
     "timestamp": 1684726347654,
     "user": {
      "displayName": "DSS DSS",
      "userId": "17636620013329168760"
     },
     "user_tz": -330
    },
    "id": "Pr-2KwwWQyJE",
    "outputId": "85681042-da0f-40ad-b232-a5358f9f4e5e"
   },
   "outputs": [
    {
     "name": "stdout",
     "output_type": "stream",
     "text": [
      "{'brand': 'Ford', 'electric': False, 'year': 1964, 'colors': ['red', 'white', 'blue'], 1.8: 'one', (1, 2, (5.5, 'eight')): ('one', 'two'), (3+7j): 'complex'}\n"
     ]
    }
   ],
   "source": [
    "thisdict = {\n",
    "  \"brand\": \"Ford\",\n",
    "  \"electric\": False,\n",
    "  \"year\": 1964,\n",
    "  \"colors\": [\"red\", \"white\", \"blue\"],\n",
    "  1.8:\"one\",\n",
    "  (1,2,(5.5,\"eight\")):(\"one\",\"two\"),\n",
    "  3+7j : \"complex\"\n",
    "}\n",
    "\n",
    "print(thisdict)"
   ]
  },
  {
   "cell_type": "markdown",
   "metadata": {
    "id": "fK6WkgsSQzpp"
   },
   "source": [
    "#### type()"
   ]
  },
  {
   "cell_type": "code",
   "execution_count": null,
   "metadata": {
    "id": "ChRZfLCaQ2BO",
    "outputId": "0d905968-dced-475d-e6ff-90ac7c9a9b17"
   },
   "outputs": [
    {
     "name": "stdout",
     "output_type": "stream",
     "text": [
      "<class 'dict'>\n"
     ]
    }
   ],
   "source": [
    "thisdict = {\n",
    "  \"brand\": \"Ford\",\n",
    "  \"model\": \"Mustang\",\n",
    "  \"year\": 1964\n",
    "}\n",
    "print(type(thisdict))"
   ]
  },
  {
   "cell_type": "markdown",
   "metadata": {
    "id": "mzLnpifOQ9SC"
   },
   "source": [
    "#### access through key index"
   ]
  },
  {
   "cell_type": "code",
   "execution_count": null,
   "metadata": {
    "id": "pbUexF85Q_CJ",
    "outputId": "c92dc656-49b4-4be8-96f1-959dfba42f55"
   },
   "outputs": [
    {
     "name": "stdout",
     "output_type": "stream",
     "text": [
      "Mustang\n"
     ]
    }
   ],
   "source": [
    "thisdict = {\n",
    "  \"brand\": \"Ford\",\n",
    "  \"model\": \"Mustang\",\n",
    "  \"year\": 1964\n",
    "}\n",
    "x = thisdict[\"model\"] # access using key index\n",
    "print(x)"
   ]
  },
  {
   "cell_type": "code",
   "execution_count": null,
   "metadata": {
    "id": "VGqjq8y_iGFg"
   },
   "outputs": [],
   "source": [
    "# thisdict = {\n",
    "#   \"brand\": \"Ford\",\n",
    "#   \"model\": \"Mustang\",\n",
    "#   \"year\": 1964\n",
    "# }\n",
    "# x = thisdict[\"models\"]\n",
    "# print(x)\n",
    "\n",
    "# KeyError: 'models'"
   ]
  },
  {
   "cell_type": "markdown",
   "metadata": {
    "id": "sOLjAvXiRrKz"
   },
   "source": [
    "**Update dict value using key index**"
   ]
  },
  {
   "cell_type": "code",
   "execution_count": null,
   "metadata": {
    "id": "g8zb4OUSRvVe",
    "outputId": "f79428cf-d137-4b95-8c77-81aa5fccdad0"
   },
   "outputs": [
    {
     "name": "stdout",
     "output_type": "stream",
     "text": [
      "{'brand': 'Ford', 'model': 'Mustang', 'year': 2018}\n"
     ]
    }
   ],
   "source": [
    "thisdict = {\n",
    "  \"brand\": \"Ford\",\n",
    "  \"model\": \"Mustang\",\n",
    "  \"year\": 1964\n",
    "}\n",
    "\n",
    "thisdict[\"year\"] = 2018 # change the value of a specific item by referring to its key name\n",
    "print(thisdict)"
   ]
  },
  {
   "cell_type": "code",
   "execution_count": 22,
   "metadata": {
    "id": "KIOHZmcCSBtz",
    "outputId": "d65166a5-0352-4afa-c628-292fafc4dc3d"
   },
   "outputs": [
    {
     "name": "stdout",
     "output_type": "stream",
     "text": [
      "{'brand': 'Ford', 'model': 'Mustang', 'year': 1964, 'color': 'red'}\n"
     ]
    }
   ],
   "source": [
    "thisdict = {\n",
    "  \"brand\": \"Ford\",\n",
    "  \"model\": \"Mustang\",\n",
    "  \"year\": 1964\n",
    "}\n",
    "thisdict[\"color\"] = \"red\" # new index key\n",
    "print(thisdict)"
   ]
  },
  {
   "cell_type": "markdown",
   "metadata": {
    "id": "HSHSNoPiRj-t"
   },
   "source": [
    "#### check for a key"
   ]
  },
  {
   "cell_type": "markdown",
   "metadata": {
    "id": "_RJ7EU-BFMju"
   },
   "source": [
    "**in**"
   ]
  },
  {
   "cell_type": "code",
   "execution_count": 23,
   "metadata": {
    "id": "cYGhbatkRnOW",
    "outputId": "5e375b7e-5cc0-4e57-c0c7-5c3a1589b9fa"
   },
   "outputs": [
    {
     "name": "stdout",
     "output_type": "stream",
     "text": [
      "Yes, 'model' is one of the keys in the thisdict dictionary\n"
     ]
    }
   ],
   "source": [
    "thisdict = {\n",
    "  \"brand\": \"Ford\",\n",
    "  \"model\": \"Mustang\",\n",
    "  \"year\": 1964\n",
    "}\n",
    "if \"model\" in thisdict: # if key is present then True\n",
    "    print(\"Yes, 'model' is one of the keys in the thisdict dictionary\")"
   ]
  },
  {
   "cell_type": "markdown",
   "metadata": {
    "id": "SEiEcEYpFMju"
   },
   "source": [
    "**not in**"
   ]
  },
  {
   "cell_type": "code",
   "execution_count": 25,
   "metadata": {
    "colab": {
     "base_uri": "https://localhost:8080/"
    },
    "executionInfo": {
     "elapsed": 430,
     "status": "ok",
     "timestamp": 1684726490725,
     "user": {
      "displayName": "DSS DSS",
      "userId": "17636620013329168760"
     },
     "user_tz": -330
    },
    "id": "XZlnKSgFFMju",
    "outputId": "2c745f05-b6c1-4f30-b40b-1dd84903985b"
   },
   "outputs": [
    {
     "name": "stdout",
     "output_type": "stream",
     "text": [
      "Yes, 1964 is not one of the keys in the thisdict dictionary\n"
     ]
    }
   ],
   "source": [
    "thisdict = {\n",
    "  \"brand\": \"Ford\",\n",
    "  \"model\": \"Mustang\",\n",
    "  \"year\": 1964\n",
    "}\n",
    "if 1964 not in thisdict: # is Ford key is not present => True\n",
    "    print(\"Yes, 1964 is not one of the keys in the thisdict dictionary\")"
   ]
  },
  {
   "cell_type": "code",
   "execution_count": 33,
   "metadata": {
    "colab": {
     "base_uri": "https://localhost:8080/"
    },
    "executionInfo": {
     "elapsed": 5,
     "status": "ok",
     "timestamp": 1684726967697,
     "user": {
      "displayName": "DSS DSS",
      "userId": "17636620013329168760"
     },
     "user_tz": -330
    },
    "id": "FOSn2MlhRg75",
    "outputId": "b893481c-5116-4886-94fd-580ab29f7700"
   },
   "outputs": [
    {
     "name": "stdout",
     "output_type": "stream",
     "text": [
      "dict_items([('brand', 'Ford'), ('model', 'Mustang'), ('year', 1964)])\n",
      "dict_items([('brand', 'Ford'), ('model', 'Mustang'), ('year', 2020)])\n",
      "dict_items([('brand', 'Ford'), ('model', 'Mustang'), ('year', 2020), ('color', 'red')])\n"
     ]
    }
   ],
   "source": [
    "car = {\n",
    "\"brand\": \"Ford\",\n",
    "\"model\": \"Mustang\",\n",
    "\"year\": 1964\n",
    "}\n",
    "\n",
    "x = car.items() # list of tuples\n",
    "print(x) #before the change\n",
    "\n",
    "car[\"year\"] = 2020\n",
    "print(x) #after the change\n",
    "\n",
    "car[\"color\"] = \"red\"\n",
    "print(car.items()) #after the change"
   ]
  },
  {
   "cell_type": "code",
   "execution_count": 34,
   "metadata": {},
   "outputs": [
    {
     "name": "stdout",
     "output_type": "stream",
     "text": [
      "<class 'dict'> <class 'dict_items'>\n",
      "{'brand': 'Ford', 'model': 'Mustang', 'year': 2020, 'color': 'red'}\n",
      "dict_items([('brand', 'Ford'), ('model', 'Mustang'), ('year', 2020), ('color', 'red')])\n"
     ]
    }
   ],
   "source": [
    "print(type(car),type(x))\n",
    "print(car)\n",
    "print(x) #after the change"
   ]
  },
  {
   "cell_type": "code",
   "execution_count": 36,
   "metadata": {
    "colab": {
     "base_uri": "https://localhost:8080/"
    },
    "executionInfo": {
     "elapsed": 4,
     "status": "ok",
     "timestamp": 1684727008005,
     "user": {
      "displayName": "DSS DSS",
      "userId": "17636620013329168760"
     },
     "user_tz": -330
    },
    "id": "jVG6SvCNRbKF",
    "outputId": "4f6fa913-3510-47f5-ca7d-052f854aa4e9"
   },
   "outputs": [
    {
     "name": "stdout",
     "output_type": "stream",
     "text": [
      "dict_values(['Ford', 'Mustang', 1964])\n",
      "dict_values(['Ford', 'Mustang', 1964, 'red'])\n",
      "{'brand': 'Ford', 'model': 'Mustang', 'year': 1964, 'color': 'red'}\n"
     ]
    }
   ],
   "source": [
    "car = {\n",
    "\"brand\": \"Ford\",\n",
    "\"model\": \"Mustang\",\n",
    "\"year\": 1964\n",
    "}\n",
    "\n",
    "x = car.values()\n",
    "print(x) #before the change\n",
    "\n",
    "car[\"color\"] = \"red\"\n",
    "print(x) #after the change\n",
    "print(car)"
   ]
  },
  {
   "cell_type": "markdown",
   "metadata": {},
   "source": [
    "- as they are implemented using hash table\n",
    "1. Hashing\n",
    "2. Constant-time lookup O(1), as time required to compute and locate the hash value remains constant regardless of size ofdict\n",
    "    - list => O(n) due to iteration check\n",
    "3. Efficient storage"
   ]
  },
  {
   "cell_type": "markdown",
   "metadata": {},
   "source": [
    "#### dictionary storing mechanism\n",
    "- hash table \n",
    "- bucket array \n",
    "\n",
    "- Hash table stores key-value pairs but the key is generated through a hashing function.\n",
    "\n",
    "- Hence, the keys of the dictionary should be **HASHABLE**"
   ]
  },
  {
   "cell_type": "markdown",
   "metadata": {
    "id": "EdHfOz0XSpGC"
   },
   "source": [
    "#### loop through a dictionary"
   ]
  },
  {
   "cell_type": "code",
   "execution_count": 42,
   "metadata": {
    "colab": {
     "base_uri": "https://localhost:8080/"
    },
    "executionInfo": {
     "elapsed": 2,
     "status": "ok",
     "timestamp": 1684727192298,
     "user": {
      "displayName": "DSS DSS",
      "userId": "17636620013329168760"
     },
     "user_tz": -330
    },
    "id": "pj6afGd3SsLN",
    "outputId": "df058f09-057f-4580-f404-7dc70f298dd7"
   },
   "outputs": [
    {
     "name": "stdout",
     "output_type": "stream",
     "text": [
      "brand\n",
      "model\n",
      "year\n",
      "\n",
      "brand\n",
      "model\n",
      "year\n",
      "\n",
      "Ford\n",
      "Mustang\n",
      "1964\n",
      "\n",
      "Ford\n",
      "Mustang\n",
      "1964\n",
      "\n",
      "brand Ford\n",
      "model Mustang\n",
      "year 1964\n",
      "\n",
      "('brand', 'Ford')\n",
      "('model', 'Mustang')\n",
      "('year', 1964)\n",
      "\n",
      "brand Ford\n",
      "model Mustang\n",
      "year 1964\n"
     ]
    }
   ],
   "source": [
    "thisdict = {\n",
    "  \"brand\": \"Ford\",\n",
    "  \"model\": \"Mustang\",\n",
    "  \"year\": 1964\n",
    "}\n",
    "for x in thisdict:\n",
    "    print(x) # prints keys\n",
    "\n",
    "print()\n",
    "for x in thisdict.keys():\n",
    "    print(x) # prints keys\n",
    "\n",
    "print()\n",
    "for x in thisdict:\n",
    "    print(thisdict[x]) # prints values\n",
    "\n",
    "print()\n",
    "for x in thisdict.values():\n",
    "    print(x) # prints values\n",
    "\n",
    "print()\n",
    "for x in thisdict:\n",
    "    print(x,thisdict[x]) # print key and value\n",
    "    \n",
    "print()\n",
    "for x in thisdict.items():\n",
    "    print(x)\n",
    "    \n",
    "print()\n",
    "for k,v in thisdict.items():\n",
    "    print(k,v)"
   ]
  },
  {
   "cell_type": "markdown",
   "metadata": {
    "id": "FxUlMAnATBCL"
   },
   "source": [
    "#### nested dictionaries"
   ]
  },
  {
   "cell_type": "code",
   "execution_count": 49,
   "metadata": {
    "colab": {
     "base_uri": "https://localhost:8080/"
    },
    "executionInfo": {
     "elapsed": 418,
     "status": "ok",
     "timestamp": 1684727358222,
     "user": {
      "displayName": "DSS DSS",
      "userId": "17636620013329168760"
     },
     "user_tz": -330
    },
    "id": "WgZcxB4bTDdc",
    "outputId": "e9acbd39-2c97-4799-d49f-54a353fc599d"
   },
   "outputs": [
    {
     "name": "stdout",
     "output_type": "stream",
     "text": [
      "{'child1': {'name': 'Emil', 'year': 2004}, 'child2': {'name': 'Tobias', 'year': 2007}, 'child3': {'name': 'Linus', 'year': 2011}}\n",
      "2004\n"
     ]
    }
   ],
   "source": [
    "myfamily = {\n",
    "                \"child1\" : {\n",
    "                              \"name\" : \"Emil\",\n",
    "                              \"year\" : 2004\n",
    "                            },\n",
    "                \"child2\" : {\n",
    "                              \"name\" : \"Tobias\",\n",
    "                              \"year\" : 2007\n",
    "                            },\n",
    "                \"child3\" : {\n",
    "                              \"name\" : \"Linus\",\n",
    "                              \"year\" : 2011\n",
    "                            }\n",
    "            }\n",
    "print(myfamily)\n",
    "print(myfamily['child1']['year'])"
   ]
  },
  {
   "cell_type": "code",
   "execution_count": 50,
   "metadata": {
    "colab": {
     "base_uri": "https://localhost:8080/"
    },
    "executionInfo": {
     "elapsed": 8,
     "status": "ok",
     "timestamp": 1684727581533,
     "user": {
      "displayName": "DSS DSS",
      "userId": "17636620013329168760"
     },
     "user_tz": -330
    },
    "id": "A59gbKOcTFzf",
    "outputId": "087119f8-5172-480f-c617-e59439c436d4"
   },
   "outputs": [
    {
     "name": "stdout",
     "output_type": "stream",
     "text": [
      "{'child1': {'name': 'Emil', 'year': 2004}, 'child2': {'name': 'Tobias', 'year': 2007}, 'child3': {'name': 'Linus', 'year': 2011}}\n",
      "2004\n"
     ]
    }
   ],
   "source": [
    "c1 = {\n",
    "  \"name\" : \"Emil\",\n",
    "  \"year\" : 2004\n",
    "}\n",
    "c2 = {\n",
    "  \"name\" : \"Tobias\",\n",
    "  \"year\" : 2007\n",
    "}\n",
    "c3 = {\n",
    "  \"name\" : \"Linus\",\n",
    "  \"year\" : 2011\n",
    "}\n",
    "\n",
    "myfamily = {\n",
    "  \"child1\" : c1,\n",
    "  \"child2\" : c2,\n",
    "  \"child3\" : c3\n",
    "}\n",
    "\n",
    "print(myfamily)\n",
    "print(myfamily['child1']['year'])"
   ]
  },
  {
   "cell_type": "markdown",
   "metadata": {
    "id": "-JDeFpCAFMjz"
   },
   "source": [
    "#### delete dictionary"
   ]
  },
  {
   "cell_type": "code",
   "execution_count": 51,
   "metadata": {
    "id": "JdmMHuT3SR0g",
    "outputId": "351f3ad1-bb29-40fd-8d64-7721d5c3287e"
   },
   "outputs": [
    {
     "name": "stdout",
     "output_type": "stream",
     "text": [
      "{'brand': 'Ford', 'year': 1964}\n"
     ]
    }
   ],
   "source": [
    "thisdict = {\n",
    "  \"brand\": \"Ford\",\n",
    "  \"model\": \"Mustang\",\n",
    "  \"year\": 1964\n",
    "}\n",
    "del thisdict[\"model\"] # deleting key value pair \n",
    "print(thisdict)"
   ]
  },
  {
   "cell_type": "code",
   "execution_count": 52,
   "metadata": {
    "id": "HDlVcl8bSS9H"
   },
   "outputs": [],
   "source": [
    "# thisdict = {\n",
    "#   \"brand\": \"Ford\",\n",
    "#   \"model\": \"Mustang\",\n",
    "#   \"year\": 1964\n",
    "# }\n",
    "# del thisdict\n",
    "# print(thisdict) # NameError: name 'thisdict' is not defined"
   ]
  },
  {
   "cell_type": "markdown",
   "metadata": {
    "id": "4J67i_lmWKGd"
   },
   "source": [
    "### Dictionary methods"
   ]
  },
  {
   "cell_type": "markdown",
   "metadata": {
    "id": "4G-qrYwgFMjr"
   },
   "source": [
    "#### get()"
   ]
  },
  {
   "cell_type": "code",
   "execution_count": 24,
   "metadata": {
    "colab": {
     "base_uri": "https://localhost:8080/"
    },
    "executionInfo": {
     "elapsed": 410,
     "status": "ok",
     "timestamp": 1684727737543,
     "user": {
      "displayName": "DSS DSS",
      "userId": "17636620013329168760"
     },
     "user_tz": -330
    },
    "id": "6IVn8tNLiGFh",
    "outputId": "8d0c797c-5eb7-42ea-ff6f-8155230408e8"
   },
   "outputs": [
    {
     "name": "stdout",
     "output_type": "stream",
     "text": [
      "Mustang\n",
      "None\n",
      "Here, month key is not found\n"
     ]
    }
   ],
   "source": [
    "thisdict = {\n",
    "  \"brand\": \"Ford\",\n",
    "  \"model\": \"Mustang\",\n",
    "  \"year\": 1964\n",
    "}\n",
    "\n",
    "# x = thisdict['month'] # KeyError: 'month'\n",
    "\n",
    "x = thisdict.get(\"model\") # access using get method\n",
    "print(x)\n",
    "\n",
    "x = thisdict.get(\"month\") # key not found => returns None\n",
    "print(x)\n",
    "\n",
    "x = thisdict.get(\"month\",\"Here, month key is not found\")\n",
    "print(x)"
   ]
  },
  {
   "cell_type": "markdown",
   "metadata": {
    "id": "WYjxEG5tiGFf"
   },
   "source": [
    "**NOTE:**\n",
    "- **get()** method is preferred over key index\n",
    "- key index throws KeyError if key is not found in the dictionary\n",
    "- get method doesnot throw any error if key is not found"
   ]
  },
  {
   "cell_type": "markdown",
   "metadata": {
    "id": "4H8TgbbzRIRm"
   },
   "source": [
    "#### keys()"
   ]
  },
  {
   "cell_type": "code",
   "execution_count": null,
   "metadata": {
    "id": "KSWCFNxkRM7b",
    "outputId": "9e398f0b-227f-45e2-b80f-a7e52f5399a8"
   },
   "outputs": [
    {
     "name": "stdout",
     "output_type": "stream",
     "text": [
      "dict_keys(['brand', 'model', 'year'])\n",
      "dict_keys(['brand', 'model', 'year', 'color'])\n"
     ]
    }
   ],
   "source": [
    "car = {\n",
    "\"brand\": \"Ford\",\n",
    "\"model\": \"Mustang\",\n",
    "\"year\": 1964\n",
    "}\n",
    "\n",
    "x = car.keys()\n",
    "print(x) #before the change\n",
    "\n",
    "car[\"color\"] = \"white\"\n",
    "\n",
    "# x = car.keys() # not needed\n",
    "print(x) #after the change, updated key list"
   ]
  },
  {
   "cell_type": "markdown",
   "metadata": {
    "id": "EHU9qpo-RURl"
   },
   "source": [
    "#### values()"
   ]
  },
  {
   "cell_type": "code",
   "execution_count": 26,
   "metadata": {
    "colab": {
     "base_uri": "https://localhost:8080/"
    },
    "executionInfo": {
     "elapsed": 6,
     "status": "ok",
     "timestamp": 1684727893611,
     "user": {
      "displayName": "DSS DSS",
      "userId": "17636620013329168760"
     },
     "user_tz": -330
    },
    "id": "czMXgR2wFMj0",
    "outputId": "8dab6251-cbe8-4640-ab20-2643f9f00df3"
   },
   "outputs": [
    {
     "name": "stdout",
     "output_type": "stream",
     "text": [
      "Ford\n",
      "Mustang\n",
      "1964\n",
      "\n",
      "Ford\n",
      "Mustang\n",
      "1964\n"
     ]
    }
   ],
   "source": [
    "thisdict =\t{\n",
    "  \"brand\": \"Ford\",\n",
    "  \"model\": \"Mustang\",\n",
    "  \"year\": 1964\n",
    "}\n",
    "\n",
    "for x in thisdict: # x is key here, by default\n",
    "  print(thisdict[x]) # prints values\n",
    "\n",
    "print()\n",
    "for x in thisdict.values(): # x is value here\n",
    "  print(x) # prints values"
   ]
  },
  {
   "cell_type": "markdown",
   "metadata": {
    "id": "l8Yu5dXFRdKV"
   },
   "source": [
    "#### items()"
   ]
  },
  {
   "cell_type": "code",
   "execution_count": 29,
   "metadata": {
    "colab": {
     "base_uri": "https://localhost:8080/"
    },
    "executionInfo": {
     "elapsed": 4,
     "status": "ok",
     "timestamp": 1684727953740,
     "user": {
      "displayName": "DSS DSS",
      "userId": "17636620013329168760"
     },
     "user_tz": -330
    },
    "id": "_YIjS77CFMj1",
    "outputId": "fe7ca501-f0dc-4f80-e815-d12008352503"
   },
   "outputs": [
    {
     "name": "stdout",
     "output_type": "stream",
     "text": [
      "('brand', 'Ford')\n",
      "('model', 'Mustang')\n",
      "('year', 1964)\n",
      "\n",
      "BRAND Ford\n",
      "MODEL Mustang\n",
      "YEAR 1964\n"
     ]
    }
   ],
   "source": [
    "thisdict =\t{\n",
    "  \"brand\": \"Ford\",\n",
    "  \"model\": \"Mustang\",\n",
    "  \"year\": 1964\n",
    "}\n",
    "\n",
    "\n",
    "for x in thisdict.items():\n",
    "  print(x) # prints key value pairs or items in tuple\n",
    "\n",
    "print()\n",
    "for x, y in thisdict.items():\n",
    "  print(x.upper(), y) # prints key value pairs or items"
   ]
  },
  {
   "cell_type": "markdown",
   "metadata": {
    "id": "tMcOuFizRuSJ"
   },
   "source": [
    "#### update()"
   ]
  },
  {
   "cell_type": "code",
   "execution_count": 34,
   "metadata": {
    "colab": {
     "base_uri": "https://localhost:8080/"
    },
    "executionInfo": {
     "elapsed": 6,
     "status": "ok",
     "timestamp": 1684728263454,
     "user": {
      "displayName": "DSS DSS",
      "userId": "17636620013329168760"
     },
     "user_tz": -330
    },
    "id": "60SastlwRzU1",
    "outputId": "87532575-278b-4b7e-b1aa-0cd626bf4918"
   },
   "outputs": [
    {
     "name": "stdout",
     "output_type": "stream",
     "text": [
      "{'brand': 'Ford', 'model': 'Mustang', 'year': 1964}\n",
      "{'brand': 'Ford', 'model': 'Mustang', 'year': 1998}\n",
      "{'brand': 'Ford', 'model': 'Mustang', 'year': 2020}\n",
      "{'brand': 'Ford', 'model': 'Mustang', 'year': 2021, 'dob': 1990}\n",
      "{'brand': 'Ford', 'model': 'Mustang', 'year': 2021, 'dob': 1990, 'color': 'red', 'exp date': 2025}\n"
     ]
    }
   ],
   "source": [
    "thisdict = {\n",
    "  \"brand\": \"Ford\",\n",
    "  \"model\": \"Mustang\",\n",
    "  \"year\": 1964\n",
    "}\n",
    "\n",
    "print(thisdict)\n",
    "\n",
    "thisdict['year'] = 1998\n",
    "print(thisdict)\n",
    "\n",
    "thisdict.update({\"year\": 2020})  # dictionary as argument\n",
    "print(thisdict)\n",
    "\n",
    "thisdict.update([(\"year\", 2021),(\"dob\", 1990)]) # iterable object with key, value pairs\n",
    "# update(list->[(k,v) , (k,v)])\n",
    "\n",
    "print(thisdict)\n",
    "\n",
    "thisdict.update({\"color\": \"red\", \"exp date\":2025}) # add new item\n",
    "# update(dict->{k:v, k:v})\n",
    "\n",
    "print(thisdict)"
   ]
  },
  {
   "cell_type": "markdown",
   "metadata": {
    "id": "cbtEDk-xFMjv"
   },
   "source": [
    "#### pop()"
   ]
  },
  {
   "cell_type": "code",
   "execution_count": 37,
   "metadata": {
    "colab": {
     "base_uri": "https://localhost:8080/"
    },
    "executionInfo": {
     "elapsed": 4,
     "status": "ok",
     "timestamp": 1684728345216,
     "user": {
      "displayName": "DSS DSS",
      "userId": "17636620013329168760"
     },
     "user_tz": -330
    },
    "id": "xt1SsZjwSPoc",
    "outputId": "0a30246a-98e8-4a49-937b-b365db225d51"
   },
   "outputs": [
    {
     "name": "stdout",
     "output_type": "stream",
     "text": [
      "mounika\n",
      "{'class': 'python', 'year': 1964}\n"
     ]
    }
   ],
   "source": [
    "thisdict = {\n",
    "  \"class\": \"python\",\n",
    "  \"name\": \"mounika\",\n",
    "  \"year\": 1964\n",
    "}\n",
    "x = thisdict.pop(\"name\")\n",
    "print(x)\n",
    "print(thisdict)"
   ]
  },
  {
   "cell_type": "markdown",
   "metadata": {
    "id": "LqUqh9pQFMjx"
   },
   "source": [
    "#### popitem()"
   ]
  },
  {
   "cell_type": "code",
   "execution_count": 39,
   "metadata": {
    "colab": {
     "base_uri": "https://localhost:8080/"
    },
    "executionInfo": {
     "elapsed": 642,
     "status": "ok",
     "timestamp": 1684728383673,
     "user": {
      "displayName": "DSS DSS",
      "userId": "17636620013329168760"
     },
     "user_tz": -330
    },
    "id": "W9awlkM1SQxk",
    "outputId": "e341369e-ee76-4d44-bf65-5e007ea8ec2f"
   },
   "outputs": [
    {
     "name": "stdout",
     "output_type": "stream",
     "text": [
      "{'brand': 'Ford', 'model': 'Mustang'}\n"
     ]
    }
   ],
   "source": [
    "thisdict = {\n",
    "  \"brand\": \"Ford\",\n",
    "  \"model\": \"Mustang\",\n",
    "  \"year\": 1964\n",
    "}\n",
    "thisdict.popitem() # last item\n",
    "print(thisdict)"
   ]
  },
  {
   "cell_type": "markdown",
   "metadata": {
    "id": "iHlKmhkIFMjy"
   },
   "source": [
    "#### clear()"
   ]
  },
  {
   "cell_type": "code",
   "execution_count": 53,
   "metadata": {
    "colab": {
     "base_uri": "https://localhost:8080/"
    },
    "executionInfo": {
     "elapsed": 3,
     "status": "ok",
     "timestamp": 1684728471593,
     "user": {
      "displayName": "DSS DSS",
      "userId": "17636620013329168760"
     },
     "user_tz": -330
    },
    "id": "WT-acZSZST8U",
    "outputId": "2c9d1e4d-acfc-4794-b437-bbb6ae78ed35"
   },
   "outputs": [
    {
     "name": "stdout",
     "output_type": "stream",
     "text": [
      "{}\n",
      "{'brand': 'Ford', 'model': 'Mustang'}\n"
     ]
    }
   ],
   "source": [
    "thisdict = {\n",
    "  \"brand\": \"Ford\",\n",
    "  \"model\": \"Mustang\",\n",
    "  \"year\": 1964\n",
    "}\n",
    "thisdict.clear() # full data clear: empty dictionary\n",
    "print(thisdict)\n",
    "\n",
    "thisdict = {\n",
    "  \"brand\": \"Ford\",\n",
    "  \"model\": \"Mustang\",\n",
    "  \"year\": 1964\n",
    "}\n",
    "\n",
    "del thisdict['year'] # delete only one key along with value\n",
    "print(thisdict)\n",
    "del thisdict # delete full dictionary along with all values\n",
    "# print(thisdict) # NameError: name 'thisdict' is not defined"
   ]
  },
  {
   "cell_type": "markdown",
   "metadata": {
    "id": "UTIdCeHkiGF2"
   },
   "source": [
    "***NOTE:***\n",
    "- ***pop(keyname)*** method removes the item with the specified key name\n",
    "- ***popitem()*** method removes the last inserted item\n",
    "- ***clear()*** method empties the dictionary\n",
    "- ***del*** keyword removes the item with the specified key name and also can delete the dictionary completely"
   ]
  },
  {
   "cell_type": "markdown",
   "metadata": {
    "id": "YAyOpMgFS2Sb"
   },
   "source": [
    "#### copy()"
   ]
  },
  {
   "cell_type": "code",
   "execution_count": 54,
   "metadata": {
    "colab": {
     "base_uri": "https://localhost:8080/"
    },
    "executionInfo": {
     "elapsed": 532,
     "status": "ok",
     "timestamp": 1684728596022,
     "user": {
      "displayName": "DSS DSS",
      "userId": "17636620013329168760"
     },
     "user_tz": -330
    },
    "id": "j17B35-QS4td",
    "outputId": "3014ac78-d27b-4e06-c4cb-48f762257085"
   },
   "outputs": [
    {
     "name": "stdout",
     "output_type": "stream",
     "text": [
      "2270401453760 2270401450048\n",
      "0 1964\n"
     ]
    }
   ],
   "source": [
    "thisdict = {\n",
    "  \"brand\": \"Ford\",\n",
    "  \"model\": \"Mustang\",\n",
    "  \"year\": 1964\n",
    "}\n",
    "\n",
    "mydict = thisdict.copy()\n",
    "print(id(mydict),id(thisdict))\n",
    "\n",
    "thisdict['year'] = 0\n",
    "print(thisdict['year'], mydict['year'])"
   ]
  },
  {
   "cell_type": "code",
   "execution_count": 55,
   "metadata": {},
   "outputs": [
    {
     "name": "stdout",
     "output_type": "stream",
     "text": [
      "2270397806848 2270401450048\n"
     ]
    }
   ],
   "source": [
    "# other way - using dict()\n",
    "mydict = dict(thisdict) # dict() creates a new dictionary\n",
    "print(id(mydict),id(thisdict))"
   ]
  },
  {
   "cell_type": "code",
   "execution_count": 56,
   "metadata": {},
   "outputs": [
    {
     "name": "stdout",
     "output_type": "stream",
     "text": [
      "2270401450048 2270401450048\n"
     ]
    }
   ],
   "source": [
    "d = thisdict\n",
    "print(id(d),id(thisdict))"
   ]
  },
  {
   "cell_type": "markdown",
   "metadata": {
    "id": "1bTSpI8yFMj2"
   },
   "source": [
    "#### fromkeys()\n",
    "- returns a dictionary with the specified keys and the specified value\n",
    "- dict.fromkeys(keys, value)"
   ]
  },
  {
   "cell_type": "code",
   "execution_count": 57,
   "metadata": {
    "colab": {
     "base_uri": "https://localhost:8080/"
    },
    "executionInfo": {
     "elapsed": 5,
     "status": "ok",
     "timestamp": 1684728700675,
     "user": {
      "displayName": "DSS DSS",
      "userId": "17636620013329168760"
     },
     "user_tz": -330
    },
    "id": "koI6a0bsFMj2",
    "outputId": "d44d291d-8f9b-46f4-b23d-d3383c8d97ef"
   },
   "outputs": [
    {
     "name": "stdout",
     "output_type": "stream",
     "text": [
      "{'key1': None, 'key2': None, 'key3': None}\n",
      "{'key1': 'unknown', 'key2': 'unknown', 'key3': 'unknown'}\n",
      "{'key1': (1, 2, 3), 'key2': (1, 2, 3), 'key3': (1, 2, 3)}\n"
     ]
    }
   ],
   "source": [
    "keys = ('key1', 'key2', 'key3')\n",
    "values_list= (1,2,3)\n",
    "value = \"unknown\"\n",
    "\n",
    "d1 = dict.fromkeys(keys)\n",
    "d2 = dict.fromkeys(keys, value)\n",
    "d3 = dict.fromkeys(keys, values_list)\n",
    "print(d1)\n",
    "print(d2)\n",
    "print(d3)"
   ]
  },
  {
   "cell_type": "markdown",
   "metadata": {
    "id": "TdvJIsFMFMj3"
   },
   "source": [
    "#### setdefault()\n",
    "- returns the value of the item with the specified key"
   ]
  },
  {
   "cell_type": "code",
   "execution_count": 58,
   "metadata": {
    "id": "RAM4s0qmFMj3",
    "outputId": "9591d0e6-1fdc-4149-9109-44364c7326aa"
   },
   "outputs": [
    {
     "name": "stdout",
     "output_type": "stream",
     "text": [
      "None\n",
      "white\n",
      "{'brand': 'Ford', 'model': None, 'year': 1964, 'color': 'white'}\n"
     ]
    }
   ],
   "source": [
    "car = {\n",
    "  \"brand\": \"Ford\",\n",
    "  \"model\": None,\n",
    "  \"year\": 1964\n",
    "}\n",
    "\n",
    "x = car.setdefault(\"model\", \"Bronco\")\n",
    "print(x)\n",
    "\n",
    "x = car.setdefault(\"color\", \"white\")\n",
    "print(x)\n",
    "\n",
    "print(car)"
   ]
  },
  {
   "cell_type": "markdown",
   "metadata": {},
   "source": [
    "### OrderedDict\n",
    "- preserves the insertion order of dict items (like dictionaries from 3.7)\n",
    "- Ordered Dict can be used as a stack with the help of popitem function"
   ]
  },
  {
   "cell_type": "code",
   "execution_count": 59,
   "metadata": {},
   "outputs": [
    {
     "name": "stdout",
     "output_type": "stream",
     "text": [
      "<class 'collections.OrderedDict'>\n",
      "odict_items([('a', 1), ('b', 2), ('c', 5), ('d', 4)])\n"
     ]
    }
   ],
   "source": [
    "from collections import OrderedDict\n",
    "\n",
    "od = OrderedDict()\n",
    "print(type(od))\n",
    "\n",
    "# add item to the end of dict\n",
    "od['a'] = 1\n",
    "od['b'] = 2\n",
    "od['c'] = 3\n",
    "od['d'] = 4\n",
    "\n",
    "od['c'] = 5\n",
    "print(od.items())"
   ]
  },
  {
   "cell_type": "code",
   "execution_count": 60,
   "metadata": {},
   "outputs": [
    {
     "name": "stdout",
     "output_type": "stream",
     "text": [
      "odict_items([('a', 1), ('c', 5), ('d', 4), ('b', 9)])\n"
     ]
    }
   ],
   "source": [
    "od.pop('b')\n",
    "od['b'] = 9\n",
    "print(od.items())"
   ]
  },
  {
   "cell_type": "code",
   "execution_count": 61,
   "metadata": {},
   "outputs": [
    {
     "name": "stdout",
     "output_type": "stream",
     "text": [
      "OrderedDict([('a', 1), ('c', 5), ('d', 4), ('b', 9), ('e', 5), ('f', 6), ('g', 7)])\n"
     ]
    }
   ],
   "source": [
    "# Add a new item at a specific position in the dictionary\n",
    "od.update({'e':5})\n",
    "od.update((('f', 6),('g',7)))\n",
    "print(od)"
   ]
  },
  {
   "cell_type": "code",
   "execution_count": 62,
   "metadata": {},
   "outputs": [
    {
     "name": "stdout",
     "output_type": "stream",
     "text": [
      "OrderedDict([('e', 5), ('a', 1), ('c', 5), ('d', 4), ('b', 9), ('f', 6), ('g', 7)])\n"
     ]
    }
   ],
   "source": [
    "od.move_to_end('e', last=False)\n",
    "print(od)"
   ]
  },
  {
   "cell_type": "code",
   "execution_count": 63,
   "metadata": {},
   "outputs": [
    {
     "name": "stdout",
     "output_type": "stream",
     "text": [
      "OrderedDict([('e', 5), ('a', 1), ('c', 5), ('d', 4), ('b', 9), ('f', 6), ('h', 8)])\n"
     ]
    }
   ],
   "source": [
    "# use ordered dict as stack - Last In First Out (s)\n",
    "od.popitem() \n",
    "od.update({'h':8})\n",
    "print(od)"
   ]
  },
  {
   "cell_type": "markdown",
   "metadata": {},
   "source": [
    "#### Default dict"
   ]
  },
  {
   "cell_type": "markdown",
   "metadata": {},
   "source": [
    "- defaultdict never raises a KeyError. It provides a default value for the key that does not exists."
   ]
  },
  {
   "cell_type": "code",
   "execution_count": 76,
   "metadata": {},
   "outputs": [
    {
     "name": "stdout",
     "output_type": "stream",
     "text": [
      "defaultdict(<function <lambda> at 0x00000210A0752D30>, {})\n",
      "defaultdict(<function <lambda> at 0x00000210A0752D30>, {'a': 1, 'b': 2})\n",
      "1\n",
      "2\n",
      "unknown\n",
      "defaultdict(<function <lambda> at 0x00000210A0752D30>, {'a': 1, 'b': 2, 'c': 'unknown'})\n",
      "unknown\n",
      "unknown\n",
      "defaultdict(<function <lambda> at 0x00000210A0752D30>, {'a': 'unknown', 'b': 2, 'c': 'unknown', 'z': 'unknown'})\n"
     ]
    }
   ],
   "source": [
    "from collections import defaultdict\n",
    "\n",
    "# Function to return a default values for keys that is not # present\n",
    "# def def_value():\n",
    "#     return \"unknown\"\n",
    "      \n",
    "# Defining the dict\n",
    "# d = defaultdict(def_value)\n",
    "d = defaultdict(lambda:'unknown')\n",
    "# d = defaultdict('unknown') # TypeError: first argument must be callable or None\n",
    "print(d)\n",
    "\n",
    "d[\"a\"] = 1\n",
    "d[\"b\"] = 2\n",
    "print(d)\n",
    "\n",
    "print(d[\"a\"])\n",
    "print(d[\"b\"])\n",
    "print(d[\"c\"])\n",
    "\n",
    "print(d)\n",
    "# printing missing values for all the keys\n",
    "print(d.__missing__('a')) \n",
    "# print(d.__missing__('b'))\n",
    "print(d.__missing__('z'))\n",
    "print(d)"
   ]
  },
  {
   "cell_type": "markdown",
   "metadata": {},
   "source": [
    "#### Using List as default_factory\n",
    "- defaultdict is created with the values that are list."
   ]
  },
  {
   "cell_type": "code",
   "execution_count": 77,
   "metadata": {},
   "outputs": [
    {
     "name": "stdout",
     "output_type": "stream",
     "text": [
      "Dictionary with values as list:\n",
      "defaultdict(<class 'list'>, {0: [0], 1: [1], 2: [2], 3: [3], 4: [4]})\n"
     ]
    }
   ],
   "source": [
    "from collections import defaultdict\n",
    "  \n",
    "# Defining a dict\n",
    "d = defaultdict(list)\n",
    "  \n",
    "for i in range(5):\n",
    "    d[i].append(i)\n",
    "      \n",
    "print(\"Dictionary with values as list:\")\n",
    "print(d)"
   ]
  },
  {
   "cell_type": "markdown",
   "metadata": {},
   "source": [
    "#### chanmap\n",
    "- encapsulates many dictionaries into one unit"
   ]
  },
  {
   "cell_type": "code",
   "execution_count": 175,
   "metadata": {},
   "outputs": [
    {
     "name": "stdout",
     "output_type": "stream",
     "text": [
      "ChainMap({'a': 1, 'b': 2}, {'b': 3, 'd': 4}, {'e': 5, 'f': 6}) <class 'collections.ChainMap'>\n"
     ]
    }
   ],
   "source": [
    "from collections import ChainMap  \n",
    "       \n",
    "       \n",
    "d1 = {'a': 1, 'b': 2} \n",
    "d2 = {'b': 3, 'd': 4} \n",
    "d3 = {'e': 5, 'f': 6} \n",
    "    \n",
    "# Defining the chainmap  \n",
    "c = ChainMap(d1, d2, d3)  \n",
    "       \n",
    "print(c, type(c))"
   ]
  },
  {
   "cell_type": "code",
   "execution_count": 176,
   "metadata": {},
   "outputs": [
    {
     "name": "stdout",
     "output_type": "stream",
     "text": [
      "['e', 'f', 'b', 'd', 'a']\n",
      "[5, 6, 2, 4, 1]\n",
      "[{'a': 1, 'b': 2}, {'b': 3, 'd': 4}, {'e': 5, 'f': 6}]\n"
     ]
    }
   ],
   "source": [
    "print(list(c.keys()))\n",
    "print(list(c.values()))\n",
    "print(c.maps)"
   ]
  },
  {
   "cell_type": "markdown",
   "metadata": {},
   "source": [
    "- the key named “b” exists in both dictionaries, but only first dictionary key is taken as key value of “b”. Ordering is done as the dictionaries are passed in function."
   ]
  },
  {
   "cell_type": "code",
   "execution_count": 177,
   "metadata": {},
   "outputs": [
    {
     "data": {
      "text/plain": [
       "[{'g': 7}, {'a': 1, 'b': 2}, {'b': 3, 'd': 4}, {'e': 5, 'f': 6}]"
      ]
     },
     "execution_count": 177,
     "metadata": {},
     "output_type": "execute_result"
    }
   ],
   "source": [
    "c1 = c.new_child({'g':7}) # adds a new dictionary in the beginning of the ChainMap\n",
    "c1.maps"
   ]
  },
  {
   "cell_type": "code",
   "execution_count": 178,
   "metadata": {},
   "outputs": [
    {
     "data": {
      "text/plain": [
       "[{'e': 5, 'f': 6}, {'b': 3, 'd': 4}, {'a': 1, 'b': 2}, {'g': 7}]"
      ]
     },
     "execution_count": 178,
     "metadata": {},
     "output_type": "execute_result"
    }
   ],
   "source": [
    "c1.maps = reversed(c1.maps)\n",
    "list(c1.maps)"
   ]
  }
 ],
 "metadata": {
  "colab": {
   "provenance": []
  },
  "kernelspec": {
   "display_name": "Python 3 (ipykernel)",
   "language": "python",
   "name": "python3"
  },
  "language_info": {
   "codemirror_mode": {
    "name": "ipython",
    "version": 3
   },
   "file_extension": ".py",
   "mimetype": "text/x-python",
   "name": "python",
   "nbconvert_exporter": "python",
   "pygments_lexer": "ipython3",
   "version": "3.9.16"
  }
 },
 "nbformat": 4,
 "nbformat_minor": 1
}
