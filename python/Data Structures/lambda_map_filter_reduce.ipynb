{
 "cells": [
  {
   "cell_type": "markdown",
   "id": "0c1304a1",
   "metadata": {},
   "source": [
    "### Higher order functions\n",
    "- takes function as parameter \n",
    "- returns function\n",
    "\n",
    "**Examples:** map(), filter(), reduce()\n",
    "\n",
    "- **Parameters: function and list**\n",
    "- **returns: result of applying function to each element in list**"
   ]
  },
  {
   "cell_type": "code",
   "execution_count": 51,
   "id": "278bdef1",
   "metadata": {},
   "outputs": [],
   "source": [
    "# normal function\n",
    "def greet(name):\n",
    "    return \"Hello, {}!\".format(name)\n",
    "\n",
    "# higher order function\n",
    "def hof(f, n):\n",
    "    print(f(n))"
   ]
  },
  {
   "cell_type": "code",
   "execution_count": 52,
   "id": "c0b1ae9c",
   "metadata": {
    "scrolled": true
   },
   "outputs": [
    {
     "name": "stdout",
     "output_type": "stream",
     "text": [
      "Hello, ['vishnu', 'priya', 'anu']!\n"
     ]
    }
   ],
   "source": [
    "hof(greet,['vishnu','priya','anu'])"
   ]
  },
  {
   "cell_type": "markdown",
   "id": "4763040b",
   "metadata": {},
   "source": [
    "#### map()"
   ]
  },
  {
   "cell_type": "markdown",
   "id": "14694a81",
   "metadata": {},
   "source": [
    "SYNTAX: **map(function, *iterables)**\n",
    "- **parameters: another function, a sequence of ‘iterables’**\n",
    "- **return: output after applying the function to each iterable in the sequence**\n",
    "\n",
    "map() returns a map object, which is an iterator that yields items on demand"
   ]
  },
  {
   "cell_type": "code",
   "execution_count": 57,
   "id": "e14557e4",
   "metadata": {},
   "outputs": [
    {
     "name": "stdout",
     "output_type": "stream",
     "text": [
      "['ALFRED', 'TABITHA', 'WILLIAM', 'ARLA']\n"
     ]
    }
   ],
   "source": [
    "my_pets = ['alfred', 'tabitha', 'william', 'arla']\n",
    "uppered_pets = []\n",
    "\n",
    "for pet in my_pets:\n",
    "    pet_ = pet.upper()\n",
    "    uppered_pets.append(pet_)\n",
    "\n",
    "print(uppered_pets)\n",
    "\n",
    "# my_pets[0].upper()\n",
    "# my_pets[1].upper()"
   ]
  },
  {
   "cell_type": "code",
   "execution_count": 2,
   "id": "00eeb71e",
   "metadata": {},
   "outputs": [
    {
     "name": "stdout",
     "output_type": "stream",
     "text": [
      "<map object at 0x0000021E5949C250> {16, 1, 4, 9} []\n"
     ]
    }
   ],
   "source": [
    "def square(a):\n",
    "    return a*a\n",
    "\n",
    "# s = []\n",
    "# t = (1,2,3,4)\n",
    "# for i in t:\n",
    "#     s.append(square(i))\n",
    "\n",
    "x = map(square, (1,2,3,4))  #x is the map object\n",
    "\n",
    "# print(x, list(x), set(x)) # map object is utilised by only 1 iteration\n",
    "print(x, set(x), list(x)) # map object is utilised by only 1 iteration"
   ]
  },
  {
   "cell_type": "code",
   "execution_count": 3,
   "id": "3071bbe9",
   "metadata": {},
   "outputs": [
    {
     "name": "stdout",
     "output_type": "stream",
     "text": [
      "[1, 4, 9, 16] {16, 1, 4, 9} (1, 4, 9, 16)\n",
      "1 4 9 16\n",
      "[1, 4, 9, 16]\n"
     ]
    }
   ],
   "source": [
    "x = list(map(lambda x : x*x, (1,2,3,4)))  #x is list\n",
    "print(x, set(x), tuple(x))"
   ]
  },
  {
   "cell_type": "code",
   "execution_count": 6,
   "id": "ddf8bbbd",
   "metadata": {},
   "outputs": [
    {
     "name": "stdout",
     "output_type": "stream",
     "text": [
      "<map object at 0x0000021E5949C910>\n",
      "1 4 9 16\n",
      "[1, 4, 9, 16]\n"
     ]
    }
   ],
   "source": [
    "x = map(lambda x:x*x, (1,2,3,4))  #x is the map object\n",
    "print(x)\n",
    "print(next(x), # 1\n",
    "      next(x), # 4\n",
    "      next(x), # 9\n",
    "      next(x)) # 16\n",
    "\n",
    "x = map(lambda x:x*x, (1,2,3,4))  #x is the map object\n",
    "print([y for y in x]) # list comprehension"
   ]
  },
  {
   "cell_type": "code",
   "execution_count": 8,
   "id": "7d8d9922",
   "metadata": {},
   "outputs": [
    {
     "data": {
      "text/plain": [
       "(9.53, 9.535)"
      ]
     },
     "execution_count": 8,
     "metadata": {},
     "output_type": "execute_result"
    }
   ],
   "source": [
    "x = 9.5346345\n",
    "round(x,2), round(x,3)\n",
    "\n",
    "# 2.55 2.6\n",
    "# 2.54 2.5"
   ]
  },
  {
   "cell_type": "code",
   "execution_count": 58,
   "id": "4e7d711d",
   "metadata": {},
   "outputs": [
    {
     "name": "stdout",
     "output_type": "stream",
     "text": [
      "[3.6, 5.58, 4.009, 56.2424, 9.01344, 32.00013]\n"
     ]
    }
   ],
   "source": [
    "# round takes 2 args so here we pass 2 iterables\n",
    "\n",
    "circle_areas = [3.56773, 5.57668, 4.00914, 56.24241, 9.01344, 32.00013]\n",
    "\n",
    "result = list(map(round, circle_areas, range(1, 7)))\n",
    "\n",
    "print(result)"
   ]
  },
  {
   "cell_type": "code",
   "execution_count": 59,
   "id": "d195cc1e",
   "metadata": {},
   "outputs": [
    {
     "name": "stdout",
     "output_type": "stream",
     "text": [
      "[3.6, 5.58]\n"
     ]
    }
   ],
   "source": [
    "circle_areas = [3.56773, 5.57668, 4.00914, 56.24241, 9.01344, 32.00013]\n",
    "\n",
    "result = list(map(round, circle_areas, range(1, 3)))\n",
    "\n",
    "print(result)"
   ]
  },
  {
   "cell_type": "markdown",
   "id": "a87ee11c",
   "metadata": {},
   "source": [
    "#### filter()"
   ]
  },
  {
   "cell_type": "markdown",
   "id": "90664df3",
   "metadata": {},
   "source": [
    "SYNTAX: **filter(function, *iterables)**\n",
    "- **parameters: another function, a sequence of ‘iterables’**\n",
    "- **return: output is LIST OF VALUES that return True when function is called**\n",
    "\n",
    "filter() returns a filter object, which is an iterator that yields items on demand"
   ]
  },
  {
   "cell_type": "code",
   "execution_count": 54,
   "id": "94ef907e",
   "metadata": {},
   "outputs": [
    {
     "name": "stdout",
     "output_type": "stream",
     "text": [
      "<filter object at 0x000001FCAA8331F0> [-2, -1, 1, 2, 3, 4]\n"
     ]
    }
   ],
   "source": [
    "# incorrect return\n",
    "\n",
    "def func(x):\n",
    "    if x >= -2:\n",
    "        return x # returning value for filter function : incorrect\n",
    "    \n",
    "num = (-4,-3,-2,-1,0,1,2,3,4)\n",
    "\n",
    "x = filter(func, num)  \n",
    "print(x, list(x)) # 0 is not returned as 0 is considered False"
   ]
  },
  {
   "cell_type": "code",
   "execution_count": 9,
   "id": "af4c451d",
   "metadata": {},
   "outputs": [
    {
     "name": "stdout",
     "output_type": "stream",
     "text": [
      "[-2, -1, 0, 1, 2, 3, 4]\n",
      "[-2, -1, 0, 1, 2, 3, 4]\n"
     ]
    }
   ],
   "source": [
    "# return elements > -2\n",
    "\n",
    "def compare(x):\n",
    "    return x >= -2 # return boolean for filter functionL: correct\n",
    "\n",
    "num = (-4,-3,-2,-1,0,1,2,3,4)\n",
    "\n",
    "y = list(filter(compare, num)) # F, F, T, T, T, T, T, T, T\n",
    "print(y) # 0 is also returned : correct\n",
    "\n",
    "y = list(filter(lambda x: (x>=-2), num))\n",
    "print(y)"
   ]
  },
  {
   "cell_type": "code",
   "execution_count": 12,
   "id": "a0447da5",
   "metadata": {},
   "outputs": [
    {
     "data": {
      "text/plain": [
       "'nohtyp'"
      ]
     },
     "execution_count": 12,
     "metadata": {},
     "output_type": "execute_result"
    }
   ],
   "source": [
    "w = 'python'\n",
    "w[::-1] # reverse of string"
   ]
  },
  {
   "cell_type": "code",
   "execution_count": 13,
   "id": "8f433a55",
   "metadata": {},
   "outputs": [
    {
     "name": "stdout",
     "output_type": "stream",
     "text": [
      "['madam', 'anutforajaroftuna']\n"
     ]
    }
   ],
   "source": [
    "dromes = (\"demigod\", \"rewire\", \"madam\", \"freer\", \"anutforajaroftuna\", \"kiosk\")\n",
    "\n",
    "palindromes = list(filter(lambda word: word == word[::-1], dromes))\n",
    "\n",
    "print(palindromes)"
   ]
  },
  {
   "cell_type": "markdown",
   "id": "415adc95",
   "metadata": {},
   "source": [
    "#### reduce()"
   ]
  },
  {
   "cell_type": "markdown",
   "id": "80ac6a5a",
   "metadata": {},
   "source": [
    "SYNTAX: **reduce(function, *iterables)**\n",
    "\n",
    "- **parameters: another function, a sequence of ‘iterables’**\n",
    "- **return: single value**\n",
    "\n",
    "function is applied to iterables to reduce iterable to single value\n",
    "\n",
    "use, **from functools import reduce**"
   ]
  },
  {
   "cell_type": "code",
   "execution_count": 14,
   "id": "2c8bf87a",
   "metadata": {},
   "outputs": [
    {
     "data": {
      "text/plain": [
       "187"
      ]
     },
     "execution_count": 14,
     "metadata": {},
     "output_type": "execute_result"
    }
   ],
   "source": [
    "from functools import reduce\n",
    "\n",
    "reduce(lambda a,b: a+b,[23,21,45,98])"
   ]
  },
  {
   "attachments": {
    "57493Untitled.png": {
     "image/png": "[encoded data removed]"
    }
   },
   "cell_type": "markdown",
   "id": "a7df8590",
   "metadata": {},
   "source": [
    "![57493Untitled.png](attachment:57493Untitled.png)"
   ]
  },
  {
   "cell_type": "markdown",
   "id": "a038b479",
   "metadata": {},
   "source": [
    "#### zip()"
   ]
  },
  {
   "cell_type": "code",
   "execution_count": 60,
   "id": "a30d5058",
   "metadata": {},
   "outputs": [
    {
     "name": "stdout",
     "output_type": "stream",
     "text": [
      "[('a', 1), ('b', 2), ('c', 3), ('d', 4), ('e', 5)]\n"
     ]
    }
   ],
   "source": [
    "my_strings = ['a', 'b', 'c', 'd', 'e']\n",
    "my_numbers = [1, 2, 3, 4, 5]\n",
    "\n",
    "results = list(zip(my_strings, my_numbers))\n",
    "\n",
    "print(results)"
   ]
  },
  {
   "cell_type": "markdown",
   "id": "32155d78",
   "metadata": {},
   "source": [
    "#### map, filter, reduce, lambda"
   ]
  },
  {
   "cell_type": "raw",
   "id": "8e029c4d",
   "metadata": {},
   "source": [
    "# Question\n",
    "\n",
    "from functools import reduce \n",
    "\n",
    "# Use map to print the square of each numbers rounded\n",
    "# to three decimal places\n",
    "my_floats = [4.35, 6.09, 3.25, 9.77, 2.16, 8.88, 4.59]\n",
    "\n",
    "# Use filter to print only the names that are less than \n",
    "# or equal to seven letters\n",
    "my_names = [\"ML\", \"sql\", \"python\",'datascience']\n",
    "\n",
    "# Use reduce to print the product of these numbers\n",
    "my_numbers = [4, 6, 9, 23, 5]\n",
    "\n",
    "# Fix all three respectively.\n",
    "map_result = list(map(lambda x: x, my_floats))\n",
    "filter_result = list(filter(lambda name: name, my_names))\n",
    "reduce_result = reduce(lambda num1, num2: num1 * num2, my_numbers, 0)\n",
    "\n",
    "print(map_result)\n",
    "print(filter_result)\n",
    "print(reduce_result)"
   ]
  },
  {
   "cell_type": "code",
   "execution_count": 73,
   "id": "fdae1792",
   "metadata": {},
   "outputs": [
    {
     "name": "stdout",
     "output_type": "stream",
     "text": [
      "[18.922, 37.088, 10.562, 95.453, 4.666, 78.854, 21.068]\n",
      "['ML', 'sql', 'python']\n",
      "24840\n"
     ]
    }
   ],
   "source": [
    "# Solution\n",
    "\n",
    "from functools import reduce \n",
    "\n",
    "my_floats = [4.35, 6.09, 3.25, 9.77, 2.16, 8.88, 4.59]\n",
    "my_names = [\"ML\", \"sql\", \"python\",'datascience']\n",
    "my_numbers = [4, 6, 9, 23, 5]\n",
    "\n",
    "map_result = list(map(lambda x: round(x ** 2, 3), my_floats))\n",
    "filter_result = list(filter(lambda name: len(name) <= 7, my_names))\n",
    "reduce_result = reduce(lambda num1, num2: num1 * num2, my_numbers)\n",
    "\n",
    "print(map_result)\n",
    "print(filter_result)\n",
    "print(reduce_result)"
   ]
  },
  {
   "cell_type": "code",
   "execution_count": 99,
   "id": "4185ec93",
   "metadata": {},
   "outputs": [
    {
     "name": "stdout",
     "output_type": "stream",
     "text": [
      "Basketball Players: ['Bheema', 'Nakula']\n"
     ]
    }
   ],
   "source": [
    "\n",
    "#Printing the name of students who play basketball using filter and map method simultaneously.\n",
    "  \n",
    "# Taking an array of Student object\n",
    "students = [\n",
    "    { 'id': \"001\", 'name': \"Dharmaraj\", 'sports': \"Cricket\" },\n",
    "    { 'id': \"002\", 'name': \"Bheema\", 'sports': \"Basketball\" },\n",
    "    { 'id': \"003\", 'name': \"Arjuna\", 'sports': \"Cricket\" },\n",
    "    { 'id': \"004\", 'name': \"Nakula\", 'sports': \"Basketball\" },\n",
    "    { 'id': \"005\", 'name': \"Sahadeva\", 'sports': \"Hockey\" }\n",
    "]\n",
    "  \n",
    "# Applying filter function on students array to retrieve those students Objects who play basketball and then \n",
    "# the new array returned by filter method is mapped in order to get the name of basketball players instead of whole object\n",
    "\n",
    "basketballPlayers = list(map(lambda x: x['name'], \n",
    "                             filter(lambda student: student['sports'] == \"Basketball\", \n",
    "                                    [student for student in students])))\n",
    "  \n",
    "print(\"Basketball Players:\", basketballPlayers)"
   ]
  },
  {
   "cell_type": "code",
   "execution_count": 15,
   "id": "4eb4a4f3",
   "metadata": {},
   "outputs": [
    {
     "name": "stdout",
     "output_type": "stream",
     "text": [
      "product names: ['P1', 'P3', 'P4']\n",
      "net price: 900\n"
     ]
    }
   ],
   "source": [
    "# purchase all the products whose price is < 500. List product names and net price\n",
    "products = [\n",
    "    { 'id': \"001\", 'name': \"P1\", 'price': 450 },\n",
    "    { 'id': \"002\", 'name': \"P2\", 'price': 700 },\n",
    "    { 'id': \"003\", 'name': \"P3\", 'price': 350 },\n",
    "    { 'id': \"004\", 'name': \"P4\", 'price': 100 },\n",
    "    { 'id': \"005\", 'name': \"P5\", 'price': 850 }\n",
    "]\n",
    "\n",
    "product_names = list(map(lambda x: x['name'], \n",
    "                    filter(lambda product: product['price'] < 500, \n",
    "                           [product for product in products])))\n",
    "print(\"product names:\",product_names)\n",
    "\n",
    "net_price = reduce(lambda a,b: a+b, map(lambda x: x['price'], \n",
    "                    filter(lambda product: product['price'] < 500, \n",
    "                           [product for product in products])))\n",
    "print(\"net price:\",net_price)\n"
   ]
  },
  {
   "cell_type": "code",
   "execution_count": null,
   "id": "3cbc9697",
   "metadata": {},
   "outputs": [],
   "source": []
  },
  {
   "cell_type": "code",
   "execution_count": null,
   "id": "0a65d100",
   "metadata": {},
   "outputs": [],
   "source": []
  }
 ],
 "metadata": {
  "kernelspec": {
   "display_name": "Python 3 (ipykernel)",
   "language": "python",
   "name": "python3"
  },
  "language_info": {
   "codemirror_mode": {
    "name": "ipython",
    "version": 3
   },
   "file_extension": ".py",
   "mimetype": "text/x-python",
   "name": "python",
   "nbconvert_exporter": "python",
   "pygments_lexer": "ipython3",
   "version": "3.9.16"
  }
 },
 "nbformat": 4,
 "nbformat_minor": 5
}
