{
 "cells": [
  {
   "cell_type": "markdown",
   "metadata": {
    "id": "Eiq2XsBuaBwC"
   },
   "source": [
    "### indentation"
   ]
  },
  {
   "cell_type": "markdown",
   "metadata": {
    "id": "42dxjf7T1zD8"
   },
   "source": [
    "- space before the line of code starts\n",
    "- to identify the block of code"
   ]
  },
  {
   "cell_type": "code",
   "execution_count": 1,
   "metadata": {
    "colab": {
     "base_uri": "https://localhost:8080/"
    },
    "executionInfo": {
     "elapsed": 6,
     "status": "ok",
     "timestamp": 1681711946081,
     "user": {
      "displayName": "vishnupriya karanam",
      "userId": "13289819926024070101"
     },
     "user_tz": -330
    },
    "id": "P79iQCj0aN2P",
    "outputId": "919a3e2c-80c8-4da7-9095-ef83915c1ba2"
   },
   "outputs": [
    {
     "name": "stdout",
     "output_type": "stream",
     "text": [
      "Five is greater than two!\n"
     ]
    }
   ],
   "source": [
    "if 5 > 2: # 0 spaces\n",
    "  print(\"Five is greater than two!\") # 2 spaces"
   ]
  },
  {
   "cell_type": "code",
   "execution_count": 3,
   "metadata": {
    "id": "jayaxgWVaP0Q"
   },
   "outputs": [],
   "source": [
    "# if 5 > 2:\n",
    "# print(\"Five is greater than two!\") \n",
    "\n",
    "# File \"<ipython-input-9-336224aafe8a>\", line 2\n",
    "#     print(\"Five is greater than two!\")\n",
    "#         ^\n",
    "# IndentationError: expected an indented block"
   ]
  },
  {
   "cell_type": "code",
   "execution_count": 5,
   "metadata": {
    "id": "NxKqDfFzaTLX"
   },
   "outputs": [],
   "source": [
    "# if 5 > 2:\n",
    "#  print(\"Five is greater than two!\") \n",
    "#         print(\"Five is greater than two!\")\n",
    "\n",
    "# File \"<ipython-input-11-fe75716157a5>\", line 3\n",
    "#     print(\"Five is greater than two!\")\n",
    "#     ^\n",
    "# IndentationError: unexpected indent"
   ]
  },
  {
   "cell_type": "code",
   "execution_count": 6,
   "metadata": {
    "colab": {
     "base_uri": "https://localhost:8080/"
    },
    "executionInfo": {
     "elapsed": 327,
     "status": "ok",
     "timestamp": 1681712029872,
     "user": {
      "displayName": "vishnupriya karanam",
      "userId": "13289819926024070101"
     },
     "user_tz": -330
    },
    "id": "4s_-YhdI2Fch",
    "outputId": "efcf278d-59da-4077-ccad-6c5d855dfa2e"
   },
   "outputs": [
    {
     "name": "stdout",
     "output_type": "stream",
     "text": [
      "outside one\n",
      "in one\n",
      "also in one\n"
     ]
    }
   ],
   "source": [
    "def one():\n",
    "  print('in one')\n",
    "  print('also in one')\n",
    "print('outside one')\n",
    "one()"
   ]
  },
  {
   "cell_type": "code",
   "execution_count": 9,
   "metadata": {
    "id": "omHmq_uO2P0H"
   },
   "outputs": [
    {
     "name": "stdout",
     "output_type": "stream",
     "text": [
      "outside one\n",
      "in one\n",
      "5>2\n",
      "inside if\n",
      "also in one\n"
     ]
    }
   ],
   "source": [
    "# Nested blocks indentation\n",
    "def one():\n",
    "  print('in one')\n",
    "  if 5>2:\n",
    "        print(\"5>2\")\n",
    "        print(\"inside if\")\n",
    "  print('also in one')\n",
    "print('outside one')\n",
    "one()"
   ]
  },
  {
   "cell_type": "markdown",
   "metadata": {},
   "source": [
    "- use 2 or 4 spaces\n",
    "- verify if you have used TAB or SPACEBAR"
   ]
  }
 ],
 "metadata": {
  "colab": {
   "provenance": []
  },
  "kernelspec": {
   "display_name": "Python 3 (ipykernel)",
   "language": "python",
   "name": "python3"
  },
  "language_info": {
   "codemirror_mode": {
    "name": "ipython",
    "version": 3
   },
   "file_extension": ".py",
   "mimetype": "text/x-python",
   "name": "python",
   "nbconvert_exporter": "python",
   "pygments_lexer": "ipython3",
   "version": "3.9.16"
  }
 },
 "nbformat": 4,
 "nbformat_minor": 1
}
