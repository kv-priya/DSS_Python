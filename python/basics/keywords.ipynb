{
 "cells": [
  {
   "cell_type": "markdown",
   "id": "616e7546",
   "metadata": {},
   "source": [
    "#### keywords\n",
    "- reserved words that can not be used as a variable name, function name, or any other identifier"
   ]
  },
  {
   "cell_type": "code",
   "execution_count": 6,
   "id": "96fba0ea",
   "metadata": {},
   "outputs": [
    {
     "name": "stdout",
     "output_type": "stream",
     "text": [
      "['False', 'None', 'True', '__peg_parser__', 'and', 'as', 'assert', 'async', 'await', 'break', 'class', 'continue', 'def', 'del', 'elif', 'else', 'except', 'finally', 'for', 'from', 'global', 'if', 'import', 'in', 'is', 'lambda', 'nonlocal', 'not', 'or', 'pass', 'raise', 'return', 'try', 'while', 'with', 'yield']\n"
     ]
    }
   ],
   "source": [
    "import keyword\n",
    " \n",
    "# printing all keywords at once using \"kwlist\"\n",
    "print(keyword.kwlist)"
   ]
  },
  {
   "cell_type": "code",
   "execution_count": 7,
   "id": "e4dab18a",
   "metadata": {},
   "outputs": [
    {
     "name": "stdout",
     "output_type": "stream",
     "text": [
      "False\n",
      "None\n",
      "True\n",
      "__peg_parser__\n",
      "and\n",
      "as\n",
      "assert\n",
      "async\n",
      "await\n",
      "break\n",
      "class\n",
      "continue\n",
      "def\n",
      "del\n",
      "elif\n",
      "else\n",
      "except\n",
      "finally\n",
      "for\n",
      "from\n",
      "global\n",
      "if\n",
      "import\n",
      "in\n",
      "is\n",
      "lambda\n",
      "nonlocal\n",
      "not\n",
      "or\n",
      "pass\n",
      "raise\n",
      "return\n",
      "try\n",
      "while\n",
      "with\n",
      "yield\n"
     ]
    }
   ],
   "source": [
    "for x in keyword.kwlist:\n",
    "    print(x)"
   ]
  },
  {
   "cell_type": "markdown",
   "id": "701deb88",
   "metadata": {},
   "source": [
    "#### True, False, None"
   ]
  },
  {
   "cell_type": "code",
   "execution_count": 9,
   "id": "f13fd0c9",
   "metadata": {},
   "outputs": [
    {
     "name": "stdout",
     "output_type": "stream",
     "text": [
      "True\n",
      "True\n",
      "3\n",
      "1\n",
      "False\n",
      "False\n"
     ]
    }
   ],
   "source": [
    "print(False == 0) # True\n",
    "print(True == 1) # True\n",
    " \n",
    "print(True + True + True) # 3\n",
    "print(True + False + False) # 1\n",
    " \n",
    "print(None == 0) # False\n",
    "print(None == []) # False"
   ]
  },
  {
   "cell_type": "markdown",
   "id": "81b3d409",
   "metadata": {},
   "source": [
    "#### and, or, not, in, is"
   ]
  },
  {
   "cell_type": "code",
   "execution_count": 14,
   "id": "c3bbf653",
   "metadata": {},
   "outputs": [
    {
     "name": "stdout",
     "output_type": "stream",
     "text": [
      "True\n",
      "False\n",
      "False\n",
      "s is not part of python\n",
      "p-y-t-h-o-n-\r\n",
      "True\n",
      "False\n"
     ]
    },
    {
     "name": "stderr",
     "output_type": "stream",
     "text": [
      "<>:20: SyntaxWarning: \"is\" with a literal. Did you mean \"==\"?\n",
      "<>:20: SyntaxWarning: \"is\" with a literal. Did you mean \"==\"?\n",
      "C:\\Users\\Vishnupriya\\AppData\\Local\\Temp\\ipykernel_3640\\4260304776.py:20: SyntaxWarning: \"is\" with a literal. Did you mean \"==\"?\n",
      "  print(' ' is ' ') # str is immutatble (same mem loc)\n"
     ]
    }
   ],
   "source": [
    "print(True or False)\n",
    " \n",
    "print(False and True)\n",
    " \n",
    "print(not True)\n",
    " \n",
    "# using \"in\" to check\n",
    "if 's' in 'python':\n",
    "    print(\"s is part of python\")\n",
    "else:\n",
    "    print(\"s is not part of python\")\n",
    " \n",
    "# using \"in\" to loop through\n",
    "for i in 'python':\n",
    "    print(i, end=\"-\")\n",
    " \n",
    "print(\"\\r\")\n",
    " \n",
    "# using is to check object identity\n",
    "print(' ' is ' ') # str is immutatble (same mem loc)\n",
    "print({} is {}) # dict is mutable (diff mem loc)"
   ]
  },
  {
   "cell_type": "markdown",
   "id": "35e93735",
   "metadata": {},
   "source": [
    "#### Conditional keywords – if, else, elif"
   ]
  },
  {
   "cell_type": "code",
   "execution_count": 20,
   "id": "1c66a7b7",
   "metadata": {},
   "outputs": [
    {
     "name": "stdout",
     "output_type": "stream",
     "text": [
      "i is 20\n"
     ]
    }
   ],
   "source": [
    "i = 20\n",
    "if (i == 10):\n",
    "    print(\"i is 10\")\n",
    "elif (i == 20):\n",
    "    print(\"i is 20\")\n",
    "else:\n",
    "    print(\"i is not present\")"
   ]
  },
  {
   "cell_type": "markdown",
   "id": "b837956d",
   "metadata": {},
   "source": [
    "#### Iteration Keywords – for, while, break, continue"
   ]
  },
  {
   "cell_type": "code",
   "execution_count": 17,
   "id": "c0fba4f8",
   "metadata": {},
   "outputs": [
    {
     "name": "stdout",
     "output_type": "stream",
     "text": [
      "0 1 2 3 "
     ]
    }
   ],
   "source": [
    "# Using for loop with break\n",
    "for i in range(5):\n",
    "    print(i, end=\" \")\n",
    "     # break the loop as soon it sees 3\n",
    "    if i == 3:\n",
    "        break"
   ]
  },
  {
   "cell_type": "code",
   "execution_count": 18,
   "id": "1e140fa6",
   "metadata": {},
   "outputs": [
    {
     "name": "stdout",
     "output_type": "stream",
     "text": [
      "0 1 3 4 "
     ]
    }
   ],
   "source": [
    "# loop from 1 to 5 using while and continue\n",
    "i = 0\n",
    "while i < 5:\n",
    "    # If i is equals to 2, continue to next iteration without printing\n",
    "    if i == 2:\n",
    "        i += 1\n",
    "        continue\n",
    "    else:\n",
    "        # otherwise print the value of i\n",
    "        print(i, end=\" \")\n",
    "    i += 1"
   ]
  },
  {
   "cell_type": "markdown",
   "id": "6bf0ba8d",
   "metadata": {},
   "source": [
    "#### def, return "
   ]
  },
  {
   "cell_type": "code",
   "execution_count": 26,
   "id": "d4b40307",
   "metadata": {},
   "outputs": [
    {
     "data": {
      "text/plain": [
       "10"
      ]
     },
     "execution_count": 26,
     "metadata": {},
     "output_type": "execute_result"
    }
   ],
   "source": [
    "# Return keyword\n",
    "def fun():\n",
    "    sum = 0\n",
    "    \n",
    "    for i in range(5): # 0,1,2,3,4\n",
    "        sum += i # 0+1+2+3+4 = 10\n",
    "    return sum\n",
    "\n",
    "fun() "
   ]
  },
  {
   "cell_type": "markdown",
   "id": "f19aa5a3",
   "metadata": {},
   "source": [
    "#### yield"
   ]
  },
  {
   "cell_type": "code",
   "execution_count": 32,
   "id": "b0f93b62",
   "metadata": {},
   "outputs": [
    {
     "data": {
      "text/plain": [
       "<generator object fun at 0x000002CBF5CCFCF0>"
      ]
     },
     "execution_count": 32,
     "metadata": {},
     "output_type": "execute_result"
    }
   ],
   "source": [
    "def fun():\n",
    "    sum = 0\n",
    " \n",
    "    for i in range(5): # 0,1,2,3,4\n",
    "        sum += i # sum = sum + i => 0+0, 0+1, 1+2, 3+3, 6+4\n",
    "        yield sum # (0, 1, 3, 6, 10) generator object\n",
    " \n",
    "fun()"
   ]
  },
  {
   "cell_type": "code",
   "execution_count": 31,
   "id": "560a4a13",
   "metadata": {},
   "outputs": [
    {
     "name": "stdout",
     "output_type": "stream",
     "text": [
      "0\n",
      "1\n",
      "3\n",
      "6\n",
      "10\n"
     ]
    }
   ],
   "source": [
    "for x in fun():\n",
    "    print(x)"
   ]
  },
  {
   "cell_type": "code",
   "execution_count": 39,
   "id": "9bab2130",
   "metadata": {},
   "outputs": [
    {
     "data": {
      "text/plain": [
       "10"
      ]
     },
     "execution_count": 39,
     "metadata": {},
     "output_type": "execute_result"
    }
   ],
   "source": [
    "gen_obj = fun()\n",
    "gen_obj.__next__() # 0\n",
    "gen_obj.__next__() # 1\n",
    "gen_obj.__next__() # 3\n",
    "gen_obj.__next__() # 6\n",
    "gen_obj.__next__() # 10\n",
    "# gen_obj.__next__() # StopIteration exception"
   ]
  },
  {
   "cell_type": "markdown",
   "id": "8af6655a",
   "metadata": {},
   "source": [
    "#### class"
   ]
  },
  {
   "cell_type": "code",
   "execution_count": 40,
   "id": "b5e4a8f6",
   "metadata": {},
   "outputs": [
    {
     "name": "stdout",
     "output_type": "stream",
     "text": [
      "mammal\n",
      "I'm a mammal\n",
      "I'm a dog\n"
     ]
    }
   ],
   "source": [
    "class Dog:\n",
    " \n",
    "    attr1 = \"mammal\"\n",
    "    attr2 = \"dog\"\n",
    " \n",
    "    def fun(self):\n",
    "        print(\"I'm a\", self.attr1)\n",
    "        print(\"I'm a\", self.attr2)\n",
    " \n",
    " # Object instantiation\n",
    "Rodger = Dog()\n",
    " \n",
    "print(Rodger.attr1)\n",
    "Rodger.fun()"
   ]
  },
  {
   "cell_type": "markdown",
   "id": "c960edfc",
   "metadata": {},
   "source": [
    "#### with\n",
    "- not much used"
   ]
  },
  {
   "cell_type": "code",
   "execution_count": 41,
   "id": "43c7f887",
   "metadata": {},
   "outputs": [],
   "source": [
    "with open('file_path', 'w') as file:\n",
    "    file.write('hello world !')"
   ]
  },
  {
   "cell_type": "markdown",
   "id": "a6089c75",
   "metadata": {},
   "source": [
    "#### import, from"
   ]
  },
  {
   "cell_type": "markdown",
   "id": "ec4b3bf8",
   "metadata": {},
   "source": [
    "- import : This statement is used to include a particular module into current program.\n",
    "- from : from is used to import particular functionality from the module imported. Generally used with import."
   ]
  },
  {
   "cell_type": "code",
   "execution_count": 46,
   "id": "060e91a3",
   "metadata": {},
   "outputs": [
    {
     "name": "stdout",
     "output_type": "stream",
     "text": [
      "3628800\n"
     ]
    }
   ],
   "source": [
    "import math\n",
    "print(math.factorial(10))"
   ]
  },
  {
   "cell_type": "code",
   "execution_count": 47,
   "id": "00e71865",
   "metadata": {},
   "outputs": [
    {
     "name": "stdout",
     "output_type": "stream",
     "text": [
      "3628800\n"
     ]
    }
   ],
   "source": [
    "from math import factorial\n",
    "print(factorial(10))"
   ]
  },
  {
   "cell_type": "markdown",
   "id": "e97dcb1a",
   "metadata": {},
   "source": [
    "#### as\n",
    "- to create alias for module imported"
   ]
  },
  {
   "cell_type": "code",
   "execution_count": 42,
   "id": "ed1db6db",
   "metadata": {},
   "outputs": [],
   "source": [
    "import numpy as np\n",
    "import pandas as pd"
   ]
  },
  {
   "cell_type": "markdown",
   "id": "bf94c8de",
   "metadata": {},
   "source": [
    "#### pass"
   ]
  },
  {
   "cell_type": "code",
   "execution_count": 43,
   "id": "840b6d6a",
   "metadata": {},
   "outputs": [],
   "source": [
    "n = 10\n",
    "for i in range(n):\n",
    " \n",
    "    # pass can be used as placeholder\n",
    "    # when code is to added later\n",
    "    pass"
   ]
  },
  {
   "cell_type": "markdown",
   "id": "ed0b72a6",
   "metadata": {},
   "source": [
    "#### lambda\n",
    "-  to make inline returning functions with no statements allowed internally"
   ]
  },
  {
   "cell_type": "code",
   "execution_count": 45,
   "id": "047d53e5",
   "metadata": {},
   "outputs": [
    {
     "name": "stdout",
     "output_type": "stream",
     "text": [
      "27\n"
     ]
    }
   ],
   "source": [
    "g = lambda x: x*x*x\n",
    "\n",
    "print(g(3))"
   ]
  },
  {
   "cell_type": "markdown",
   "id": "5ffc9b3a",
   "metadata": {},
   "source": [
    "#### exception handling keywords"
   ]
  },
  {
   "cell_type": "markdown",
   "id": "37e19c2e",
   "metadata": {},
   "source": [
    "- **try**\n",
    "  - This keyword is used for exception handling, used to catch the errors in the code using the keyword except. Code in “try” block is checked, if there is any type of error, except block is executed.\n",
    "- **except**\n",
    "  - used together with try\n",
    "- **finally**\n",
    "  - No matter what is result of the “try” block, block termed “finally” is always executed.\n",
    "- **raise**\n",
    "  - We can raise an exception explicitly with the raise keyword\n",
    "- **assert**\n",
    "  - This function is used for debugging purposes. Usually used to check the correctness of code. \n",
    "  - If a statement is evaluated to be true, nothing happens, but when it is false, “AssertionError” is raised. One can also print a message with the error, separated by a comma."
   ]
  },
  {
   "cell_type": "code",
   "execution_count": 55,
   "id": "2a84abc1",
   "metadata": {},
   "outputs": [
    {
     "name": "stdout",
     "output_type": "stream",
     "text": [
      "Can't divide by zero\n",
      "This is always executed\n"
     ]
    }
   ],
   "source": [
    "# initializing number\n",
    "a = 4\n",
    "b = 0\n",
    " \n",
    "try:\n",
    "    k = a//b  # ZeroDivisionError: integer division or modulo by zero\n",
    "    print(k)\n",
    " \n",
    "except ZeroDivisionError: # handles zerodivision exception\n",
    "    print(\"Can't divide by zero\")\n",
    " \n",
    "finally:\n",
    "    # this block is always executed  regardless of exception generation.\n",
    "    print('This is always executed')"
   ]
  },
  {
   "cell_type": "code",
   "execution_count": 56,
   "id": "5ff8b464",
   "metadata": {},
   "outputs": [
    {
     "name": "stdout",
     "output_type": "stream",
     "text": [
      "1\n",
      "This is always executed\n"
     ]
    }
   ],
   "source": [
    "# initializing number\n",
    "a = 4\n",
    "b = 4\n",
    " \n",
    "try:\n",
    "    k = a//b  # ZeroDivisionError: integer division or modulo by zero\n",
    "    print(k)\n",
    " \n",
    "except ZeroDivisionError: # handles zerodivision exception\n",
    "    print(\"Can't divide by zero\")\n",
    " \n",
    "finally:\n",
    "    # this block is always executed  regardless of exception generation.\n",
    "    print('This is always executed')"
   ]
  },
  {
   "cell_type": "code",
   "execution_count": 63,
   "id": "eb2d5bb1",
   "metadata": {},
   "outputs": [],
   "source": [
    "# assert True, \"on True No Exception is generated\" \n",
    "# assert False, \"on False - AssertionError - Exception Message\" "
   ]
  },
  {
   "cell_type": "code",
   "execution_count": 64,
   "id": "4b490f7e",
   "metadata": {},
   "outputs": [],
   "source": [
    "# b = 0\n",
    "# # raise AssertionError with given message, if condition is False\n",
    "# assert b != 0, \"Divide by 0 error\" "
   ]
  },
  {
   "cell_type": "code",
   "execution_count": 75,
   "id": "90c91173",
   "metadata": {},
   "outputs": [],
   "source": [
    "# raise keyword : Raises an user defined exception, on certain condition failure\n",
    "# temp = \"python\"\n",
    "# if temp != \"data science\":\n",
    "#     raise TypeError(\"Both the strings are different.\") # TypeError: Both the strings are different."
   ]
  },
  {
   "cell_type": "markdown",
   "id": "16190700",
   "metadata": {},
   "source": [
    "#### del"
   ]
  },
  {
   "cell_type": "code",
   "execution_count": 78,
   "id": "ef05374b",
   "metadata": {},
   "outputs": [],
   "source": [
    "a = 9\n",
    "del a\n",
    "# print(a) # NameError: name 'a' is not defined"
   ]
  },
  {
   "cell_type": "markdown",
   "id": "8a05a34d",
   "metadata": {},
   "source": [
    "#### global, nonlocal\n",
    "\n",
    "- **global**\n",
    "    - This keyword is used to define a variable inside the function to be of a global scope.\n",
    "- **non-local**\n",
    "    - This keyword works similar to the global, but rather than global, this keyword declares a variable to point to variable of outside enclosing function, in case of nested functions."
   ]
  },
  {
   "cell_type": "code",
   "execution_count": 89,
   "id": "ce16dcb6",
   "metadata": {},
   "outputs": [
    {
     "name": "stdout",
     "output_type": "stream",
     "text": [
      "add: 10 2\n",
      "global vars: 10 2\n"
     ]
    }
   ],
   "source": [
    "# global variable\n",
    "g = 2\n",
    "\n",
    "def add():\n",
    "    global a\n",
    "    a = 10\n",
    "    print('add:',a,g)\n",
    "\n",
    "add()\n",
    "print('global vars:',a,g)"
   ]
  },
  {
   "cell_type": "code",
   "execution_count": 88,
   "id": "49f02f29",
   "metadata": {},
   "outputs": [],
   "source": [
    "# # without nonlocal keyword\n",
    "# def fun1():\n",
    "#     var1 = 10\n",
    "\n",
    "#     def fun2():\n",
    "#         var1 = var1 + 10 # UnboundLocalError: local variable 'var1' referenced before assignment\n",
    "#         print(var1)\n",
    " \n",
    "#     fun2()\n",
    "    \n",
    "# fun1()"
   ]
  },
  {
   "cell_type": "code",
   "execution_count": 90,
   "id": "94819966",
   "metadata": {},
   "outputs": [
    {
     "name": "stdout",
     "output_type": "stream",
     "text": [
      "20\n"
     ]
    }
   ],
   "source": [
    "# nonlocal keyword\n",
    "def fun1():\n",
    "    var1 = 10\n",
    "\n",
    "    def fun2():\n",
    "        # tell python explicitly that it hass to access var1 \n",
    "        # initialized in fun on line 2 using the keyword nonlocal\n",
    "        nonlocal var1 \n",
    "        \n",
    "        var1 = var1 + 10\n",
    "        print(var1)\n",
    " \n",
    "    fun2()\n",
    "    \n",
    "fun1()"
   ]
  },
  {
   "cell_type": "markdown",
   "id": "753c1300",
   "metadata": {},
   "source": [
    "### check if string is valid keyword"
   ]
  },
  {
   "cell_type": "code",
   "execution_count": 93,
   "id": "987349e9",
   "metadata": {},
   "outputs": [
    {
     "name": "stdout",
     "output_type": "stream",
     "text": [
      "for is a valid keyword\n"
     ]
    }
   ],
   "source": [
    "import keyword\n",
    "\n",
    "word = \"for\" \n",
    "# word = 'four'\n",
    "if keyword.iskeyword(word):\n",
    "    print(word,\"is a valid keyword\")\n",
    "else:\n",
    "    print(word,\"is an invalid keyword\")"
   ]
  },
  {
   "cell_type": "code",
   "execution_count": null,
   "id": "ef8d4c74",
   "metadata": {},
   "outputs": [],
   "source": []
  }
 ],
 "metadata": {
  "kernelspec": {
   "display_name": "Python 3 (ipykernel)",
   "language": "python",
   "name": "python3"
  },
  "language_info": {
   "codemirror_mode": {
    "name": "ipython",
    "version": 3
   },
   "file_extension": ".py",
   "mimetype": "text/x-python",
   "name": "python",
   "nbconvert_exporter": "python",
   "pygments_lexer": "ipython3",
   "version": "3.9.16"
  }
 },
 "nbformat": 4,
 "nbformat_minor": 5
}
