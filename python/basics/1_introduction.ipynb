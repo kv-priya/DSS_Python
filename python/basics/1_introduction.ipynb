{
 "cells": [
  {
   "cell_type": "markdown",
   "metadata": {
    "id": "Bac8T4TJZhEl"
   },
   "source": [
    "\n",
    "### Introduction"
   ]
  },
  {
   "cell_type": "markdown",
   "metadata": {
    "id": "nEIhF4aZzmVk"
   },
   "source": [
    "#### What is Python?\n",
    "\n",
    "- popular programming language\n",
    "- created by Guido van Rossum\n",
    "- released in 1991\n",
    "\n",
    "(He named it after the BBC comedy troupe Monty Python, of whom he is a huge fan)\n"
   ]
  },
  {
   "cell_type": "markdown",
   "metadata": {
    "id": "86pgHbD0z6xE"
   },
   "source": [
    "#### Where is python used?\n",
    "\n",
    "- Netflix’s recommendation algorithm \n",
    "- software that controls self-driving cars\n",
    "\n",
    "Python is a general-purpose language\n",
    " - data science\n",
    " - software and web development\n",
    " - automation\n",
    " - calculator"
   ]
  },
  {
   "cell_type": "markdown",
   "metadata": {
    "id": "wPXpdj5a13oG"
   },
   "source": [
    "#### appllications of python\n",
    "\n",
    "1. Web Development (fw Django, Flask, Pyramid)[Security, scalability, convenience]\n",
    "2. Game Development (interactive games) [Civilization-IV, Disney’s Toontown Online, Vega Strike] (3d game engine PySoy, lib PyGame)\n",
    "3. Machine Learning and Artificial Intelligence (lib Pandas, Scikit-Learn, NumPy, Seaborn, MatplotLib)\n",
    "4. Data Science and Data Visualization (Data is money if you know how to extract relevant information which can help you take calculated risks and increase profits. You study the data you have, perform operations and extract the information required. Libraries such as Pandas, NumPy help you in extracting information.)\n",
    "5. Desktop GUI (lib Tinker for UI)\n",
    "6. Web Scraping Applications (website data for price comparision (https://www.91mobiles.com/), job listings, research and dev) (lib BeautifulSoup)\n",
    "7. Business Applications (diff from normal applications. e-commerce,ERP (enterprise resouce planning), healthcare) (Tryton platform)\n",
    "8. Audio and Video Applications (TimPlayer, CPlay applications are dev using python. better stability and perf in com with other media players) \n",
    "9. CAD Applications (mech engineering. Computer aided designing.)\n",
    "10. Embedded Applications (Py is based on C so used to create Embedded C software )"
   ]
  },
  {
   "cell_type": "markdown",
   "metadata": {
    "id": "lfEXldr2toPl"
   },
   "source": [
    "why python?\n",
    "-  Software quality, \n",
    "-  developer productivity, \n",
    "-  program portability, \n",
    "-  support libraries,\n",
    "-  component integration, \n",
    "-  simple enjoyment"
   ]
  },
  {
   "cell_type": "markdown",
   "metadata": {
    "id": "Lt9o3_5i5P2K"
   },
   "source": [
    "#### features: why only python?\n",
    "\n",
    "1. Free and open source\n",
    "2. Easy to code and easy to read\n",
    "3. OOP\n",
    "4. Easy to debug\n",
    "5. High level language (No need to manage memory)\n",
    "6. Portable or Platform independent\n",
    "7. Interpreted language (exec line by line.\n",
    " no compilation phase (hidden from user to avoid complexity)\n",
    " .pyc file contains compiled byte code\n",
    "Interpreter reads instructions line by line and generates output till the point the code is correct, the ease of debugging increases as it is easier to get information about the source point of error.)\n",
    "8. Large standard library\n",
    "9. Dynamically typed language (Dynamic mem alloc)\n",
    "10. Automatic memory management"
   ]
  },
  {
   "cell_type": "markdown",
   "metadata": {
    "id": "p-GpwRYJ8vcQ"
   },
   "source": [
    "#### python versions\n",
    "\n",
    "Find current version:\n",
    "\n",
    ">python --version\n",
    "\n",
    ">Python 3.10.8 (Oct. 11, 2022.)\n",
    "\n",
    "Python 3.x Version Release Date\n",
    "- 3.10 2021-10-04\n",
    "- 3.9 2020-10-05\n",
    "- 3.8 2019-10-14\n",
    "- 3.7 2018-06-27\n",
    "- 3.6 2016-12-23\n",
    "- 3.5 2015-09-13\n",
    "- 3.4 2014-03-17\n",
    "- 3.3 2012-09-29\n",
    "- 3.2 2011-02-20\n",
    "- 3.1 2009-06-26\n",
    "- 3.0 2008-12-03\n",
    "\n",
    "Python 2.x Version Release Date (Deprecated)\n",
    "- 2.7 2010-07-03\n",
    "- 2.6 2008-10-02\n",
    "- 2.5 2006-09-19\n",
    "- 2.4 2004-11-30\n",
    "- 2.3 2003-07-29\n",
    "- 2.2 2001-12-21\n",
    "- 2.1 2001-04-15\n",
    "- 2.0 2000-10-16"
   ]
  },
  {
   "cell_type": "markdown",
   "metadata": {
    "id": "0j7MCBlI9jNv"
   },
   "source": [
    "#### output"
   ]
  },
  {
   "cell_type": "code",
   "execution_count": 7,
   "metadata": {
    "colab": {
     "base_uri": "https://localhost:8080/"
    },
    "id": "Xdbfu6LtZ7w9",
    "outputId": "e60a939a-d363-4656-b875-1bfb7bff5595"
   },
   "outputs": [
    {
     "name": "stdout",
     "output_type": "stream",
     "text": [
      "Hello, World!\n"
     ]
    }
   ],
   "source": [
    "print(\"Hello, World!\") # Run: ctrl+Enter or shft+Enter"
   ]
  },
  {
   "cell_type": "markdown",
   "metadata": {},
   "source": [
    "- shortcuts: a b x c v m y "
   ]
  },
  {
   "cell_type": "raw",
   "metadata": {},
   "source": [
    "Raw Sample code:\n",
    "\n",
    "print(\"Hello, World!\") \n",
    "print(\"Hello, World!\") \n",
    "print(\"Hello, World!\") \n",
    "\n",
    "if statement:\n",
    "\n",
    "if 2<3:\n",
    "    print(\"2<3\")"
   ]
  },
  {
   "cell_type": "markdown",
   "metadata": {
    "id": "h4lpp8ocZkcw"
   },
   "source": [
    "#### python shell \n",
    "```\n",
    "C:\\Users\\Vishnupriya>python\n",
    "Python 3.10.8 (tags/v3.10.8:aaaf517, Oct 11 2022, 16:50:30) [MSC v.1933 64 bit (AMD64)] on win32\n",
    "Type \"help\", \"copyright\", \"credits\" or \"license\" for more information.\n",
    "\n",
    ">>> print('hello')\n",
    "hello\n",
    ">>> quit()\n",
    "```"
   ]
  },
  {
   "cell_type": "markdown",
   "metadata": {
    "id": "x_10S1F3uq8r"
   },
   "source": [
    "#### python is interpreted and compiled language\n",
    "\n",
    "- Compilation phase is hidden. \n",
    "- Python execution:\n",
    "  1. python script.py file is compiled using the command: (python -m py_compile script.py)\n",
    "  2. script.cpython-310.pyc file is generated (bytecode => platform independent representation)\n",
    "  3. script.cpython-310.pyc is saved in \\__pycache__ sub directory (depends on source changes and python versions)\n",
    "  4. bytecode of interactive mode code is never saved\n",
    "  5. bytecode is run by PVM - run time engine of python (python sample.cpython-310.pyc)\n",
    "  6. PVM execution is last step (even in interpreter mode)"
   ]
  },
  {
   "cell_type": "markdown",
   "metadata": {
    "id": "7yFzm9Jpw_Y0"
   },
   "source": [
    "### python implementation alternatives\n",
    "\n",
    "- CPython (standard implementation - CPython Virtual Machine)\n",
    "- Jython (Written in Java, and uses JVM to run programs)\n",
    "- IronPython (Written in C#, and runs programs on .NET platform)\n",
    "- PyPy (written in python and has Just-in-time (JIT) compilation making execution faster)\n",
    "- Cython (Compile python programs in C and also transform into C. mainly for writing C extensions)\n",
    "- Stackless (to simplify thread-based programming. Cstack is not used. its own stack is cleared between function calls)"
   ]
  },
  {
   "cell_type": "markdown",
   "metadata": {
    "id": "I6KUuVmu0CwT"
   },
   "source": [
    "### companies that use python:\n",
    "\n",
    "- Google\n",
    "- Youtube\n",
    "- Pinterest\n",
    "- Instagram\n",
    "- Facebook\n",
    "- Netflix\n",
    "- Spotify\n",
    "- NASA\n",
    "- JP Morgan Chase\n",
    "- Intel\n",
    "- IBM\n"
   ]
  }
 ],
 "metadata": {
  "colab": {
   "provenance": []
  },
  "kernelspec": {
   "display_name": "Python 3 (ipykernel)",
   "language": "python",
   "name": "python3"
  },
  "language_info": {
   "codemirror_mode": {
    "name": "ipython",
    "version": 3
   },
   "file_extension": ".py",
   "mimetype": "text/x-python",
   "name": "python",
   "nbconvert_exporter": "python",
   "pygments_lexer": "ipython3",
   "version": "3.9.16"
  }
 },
 "nbformat": 4,
 "nbformat_minor": 1
}
