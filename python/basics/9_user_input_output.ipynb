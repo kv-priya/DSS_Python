{
 "cells": [
  {
   "cell_type": "markdown",
   "metadata": {
    "id": "dQcHwQqEhMa4"
   },
   "source": [
    "### User input and output"
   ]
  },
  {
   "cell_type": "markdown",
   "metadata": {
    "id": "89BR9iHimOs8"
   },
   "source": [
    "Python stops executing when it comes to the input() function, and continues when the user has given some input."
   ]
  },
  {
   "cell_type": "markdown",
   "metadata": {},
   "source": [
    "#### single user input"
   ]
  },
  {
   "cell_type": "code",
   "execution_count": 4,
   "metadata": {
    "colab": {
     "base_uri": "https://localhost:8080/"
    },
    "executionInfo": {
     "elapsed": 3847,
     "status": "ok",
     "timestamp": 1684378042039,
     "user": {
      "displayName": "DSS DSS",
      "userId": "17636620013329168760"
     },
     "user_tz": -330
    },
    "id": "72MG8eYchPD1",
    "outputId": "5a77d24f-a934-4ff9-f524-cf08171263d3"
   },
   "outputs": [
    {
     "name": "stdout",
     "output_type": "stream",
     "text": [
      "Enter username: Ashok\n",
      "Username is: Ashok\n",
      "<class 'str'>\n"
     ]
    }
   ],
   "source": [
    "username = input(\"Enter username: \") # by default str type\n",
    "print(\"Username is: \" + username)\n",
    "print(type(username))"
   ]
  },
  {
   "cell_type": "code",
   "execution_count": 6,
   "metadata": {
    "colab": {
     "base_uri": "https://localhost:8080/"
    },
    "executionInfo": {
     "elapsed": 13860,
     "status": "ok",
     "timestamp": 1684378065597,
     "user": {
      "displayName": "DSS DSS",
      "userId": "17636620013329168760"
     },
     "user_tz": -330
    },
    "id": "3ySj4Jo1hQG6",
    "outputId": "6109406a-35d2-4bf7-c52f-193cea48fc89"
   },
   "outputs": [
    {
     "name": "stdout",
     "output_type": "stream",
     "text": [
      "Enter number: 45\n",
      "number is: 45\n",
      "<class 'int'>\n"
     ]
    }
   ],
   "source": [
    "number = int(input(\"Enter number: \"))\n",
    "print(\"number is:\" , number)\n",
    "# print(\"number is:\" + number) # error (str + int)\n",
    "print(type(number))"
   ]
  },
  {
   "cell_type": "markdown",
   "metadata": {},
   "source": [
    "#### multiple user inputs"
   ]
  },
  {
   "cell_type": "code",
   "execution_count": 10,
   "metadata": {},
   "outputs": [
    {
     "name": "stdout",
     "output_type": "stream",
     "text": [
      "Enter two values: 4 55\n",
      "4 55 <class 'str'> <class 'str'>\n"
     ]
    }
   ],
   "source": [
    "# using split method\n",
    "\n",
    "#enter values seperated by space\n",
    "x, y = input(\"Enter two values: \").split() # default is str type\n",
    "print(x,y, type(x),type(y))"
   ]
  },
  {
   "cell_type": "code",
   "execution_count": 12,
   "metadata": {},
   "outputs": [
    {
     "name": "stdout",
     "output_type": "stream",
     "text": [
      "Enter three values: 55 4 345\n",
      "55 4 345\n"
     ]
    },
    {
     "data": {
      "text/plain": [
       "(str, str, str)"
      ]
     },
     "execution_count": 12,
     "metadata": {},
     "output_type": "execute_result"
    }
   ],
   "source": [
    "x, y,z = input(\"Enter three values: \").split()\n",
    "print(x,y,z)\n",
    "type(x), type(y), type(z)"
   ]
  },
  {
   "cell_type": "code",
   "execution_count": 13,
   "metadata": {},
   "outputs": [
    {
     "name": "stdout",
     "output_type": "stream",
     "text": [
      "Enter multiple values: 3 4 5 22 44 22 44 232 786\n",
      "[3, 4, 5, 22, 44, 22, 44, 232, 786] <class 'int'>\n"
     ]
    }
   ],
   "source": [
    "# taking multiple inputs at a time and type casting using list() function\n",
    "x = list(map(int, input(\"Enter multiple values: \").split())) # each value is converted as int\n",
    "print(x, type(x[0]))"
   ]
  },
  {
   "cell_type": "code",
   "execution_count": 15,
   "metadata": {},
   "outputs": [
    {
     "name": "stdout",
     "output_type": "stream",
     "text": [
      "Enter two values: 55 66\n",
      "55 66\n"
     ]
    },
    {
     "data": {
      "text/plain": [
       "(int, int)"
      ]
     },
     "execution_count": 15,
     "metadata": {},
     "output_type": "execute_result"
    }
   ],
   "source": [
    "# using list comprehension\n",
    "x, y = [int(x) for x in input(\"Enter two values: \").split()]\n",
    "print(x,y)\n",
    "type(x),type(y)"
   ]
  },
  {
   "cell_type": "code",
   "execution_count": 16,
   "metadata": {},
   "outputs": [
    {
     "name": "stdout",
     "output_type": "stream",
     "text": [
      "Enter three values: 4 3 55\n",
      "4 3 55\n"
     ]
    },
    {
     "data": {
      "text/plain": [
       "(int, int, int)"
      ]
     },
     "execution_count": 16,
     "metadata": {},
     "output_type": "execute_result"
    }
   ],
   "source": [
    "# taking three input at a time\n",
    "x, y, z = [int(x) for x in input(\"Enter three values: \").split()]\n",
    "print(x,y,z)\n",
    "type(x), type(y), type(z)"
   ]
  },
  {
   "cell_type": "code",
   "execution_count": 17,
   "metadata": {},
   "outputs": [
    {
     "name": "stdout",
     "output_type": "stream",
     "text": [
      "Enter multiple values: 3 4 6 7 8 9 9 3427 52398\n",
      "[3, 4, 6, 7, 8, 9, 9, 3427, 52398]\n"
     ]
    }
   ],
   "source": [
    "# taking multiple inputs at a time\n",
    "x = [int(x) for x in input(\"Enter multiple values: \").split()]\n",
    "print(x)"
   ]
  },
  {
   "cell_type": "code",
   "execution_count": 23,
   "metadata": {},
   "outputs": [
    {
     "name": "stdout",
     "output_type": "stream",
     "text": [
      "Enter multiple values seperated  by comma: 2 3,4\n",
      "Number of list is:  ['2 3', '4']\n",
      "Enter multiple values seperated  by comma: 2,3,4\n",
      "Number of list is:  [2, 3, 4]\n"
     ]
    }
   ],
   "source": [
    "# taking multiple inputs at a time separated by comma\n",
    "x = [x for x in input(\"Enter multiple values seperated  by comma: \").split(\",\")] # no error as ['2 3', '4']\n",
    "print(\"Number of list is: \", x)\n",
    "x = [int(x) for x in input(\"Enter multiple values seperated  by comma: \").split(\",\")] # error as [2, 3, 4]\n",
    "print(\"Number of list is: \", x)"
   ]
  },
  {
   "cell_type": "code",
   "execution_count": 24,
   "metadata": {},
   "outputs": [
    {
     "name": "stdout",
     "output_type": "stream",
     "text": [
      "python is easy\n"
     ]
    },
    {
     "data": {
      "text/plain": [
       "'python is easy'"
      ]
     },
     "execution_count": 24,
     "metadata": {},
     "output_type": "execute_result"
    }
   ],
   "source": [
    "x = input() # without message to the user (not recomended)\n",
    "x"
   ]
  },
  {
   "cell_type": "markdown",
   "metadata": {},
   "source": [
    "## output"
   ]
  },
  {
   "cell_type": "code",
   "execution_count": 27,
   "metadata": {
    "colab": {
     "base_uri": "https://localhost:8080/"
    },
    "executionInfo": {
     "elapsed": 386,
     "status": "ok",
     "timestamp": 1684379903875,
     "user": {
      "displayName": "DSS DSS",
      "userId": "17636620013329168760"
     },
     "user_tz": -330
    },
    "id": "LlsAf6SYlrSy",
    "outputId": "dec40e7a-8aa3-45f2-af0c-f2eb081ef259"
   },
   "outputs": [
    {
     "name": "stdout",
     "output_type": "stream",
     "text": [
      "hello world python is easy\n",
      "hello-world-python-is-easy.hello world python is easy\n",
      "hello\n",
      "hi\n"
     ]
    }
   ],
   "source": [
    "# output\n",
    "print('hello','world','python','is','easy') # by default sep=\" \", end=\"\\n\"\n",
    "print('hello','world','python','is','easy',sep=\"-\",end=\".\")\n",
    "print('hello','world','python','is','easy',sep=\" \",end=\"\\n\") \n",
    "# demonstrate end\n",
    "print('hello')\n",
    "print('hi')"
   ]
  },
  {
   "cell_type": "code",
   "execution_count": 7,
   "metadata": {
    "id": "JN6kRSgo3MF_"
   },
   "outputs": [
    {
     "name": "stdout",
     "output_type": "stream",
     "text": [
      "[1, 2, 3, 4, 5]\n",
      "1\n",
      "2\n",
      "3\n",
      "4\n",
      "5\n",
      "1 2 3 4 5\n"
     ]
    }
   ],
   "source": [
    "l = [1,2,3,4,5,]\n",
    "print(l) # prints as list\n",
    "\n",
    "for x in l:\n",
    "    print(x) # prints elements seperately in new line\n",
    "    \n",
    "print(*l) # prints elements seperately in single line"
   ]
  },
  {
   "cell_type": "code",
   "execution_count": 22,
   "metadata": {
    "scrolled": true
   },
   "outputs": [
    {
     "name": "stdout",
     "output_type": "stream",
     "text": [
      "Data Science Stack is easy"
     ]
    },
    {
     "data": {
      "text/plain": [
       "7"
      ]
     },
     "execution_count": 22,
     "metadata": {},
     "output_type": "execute_result"
    }
   ],
   "source": [
    "import sys # It only works with string If you pass a number or a list, you will get a TypeError.\n",
    " \n",
    "sys.stdout.write(\"Data Science Stack \")\n",
    "sys.stdout.write(\"is easy\")"
   ]
  },
  {
   "cell_type": "code",
   "execution_count": 24,
   "metadata": {},
   "outputs": [
    {
     "name": "stdout",
     "output_type": "stream",
     "text": [
      "Welcome 8\n"
     ]
    }
   ],
   "source": [
    "length_of_given_string_parameter = sys.stdout.write(\"Welcome \")\n",
    "print(length_of_given_string_parameter)"
   ]
  },
  {
   "cell_type": "code",
   "execution_count": 48,
   "metadata": {},
   "outputs": [],
   "source": [
    "# sys.stdout.write(1) # TypeError: write() argument must be str, not <class 'int'>\n",
    "# sys.stdout.write(l) # TypeError: write() argument must be str, not <class 'list'>"
   ]
  },
  {
   "cell_type": "markdown",
   "metadata": {},
   "source": [
    "#### output formatting"
   ]
  },
  {
   "cell_type": "code",
   "execution_count": 32,
   "metadata": {},
   "outputs": [
    {
     "name": "stdout",
     "output_type": "stream",
     "text": [
      "   10\n",
      "12.43\n",
      "123456.40\n",
      "name : tony, age : 25\n",
      "name : tony, age : 25\n",
      "name : tony, age : 25\n",
      "name : tony, age : 25, city : bangalore\n"
     ]
    }
   ],
   "source": [
    "#  %[flags][width][.precision]type \n",
    "\n",
    "name = 'tony'\n",
    "age = 25\n",
    "\n",
    "print('%5d' %(10), # add spaces to the left\n",
    "     '%5.2f' %(12.4296), # takes only 2 decimal places .43 as 9>=5\n",
    "     '%5.2f' %(123456.4), # fills rest of decimal places with 0\n",
    "     f'name : {name}, age : {age}',\n",
    "     'name : {}, age : {}'.format(name,age),\n",
    "     'name : {1}, age : {0}'.format(age,name),\n",
    "     'name : {1}, age : {0}, city : {city}'.format(age,name,city='bangalore'),\n",
    "     sep = '\\n'\n",
    "     )"
   ]
  }
 ],
 "metadata": {
  "colab": {
   "provenance": []
  },
  "kernelspec": {
   "display_name": "Python 3 (ipykernel)",
   "language": "python",
   "name": "python3"
  },
  "language_info": {
   "codemirror_mode": {
    "name": "ipython",
    "version": 3
   },
   "file_extension": ".py",
   "mimetype": "text/x-python",
   "name": "python",
   "nbconvert_exporter": "python",
   "pygments_lexer": "ipython3",
   "version": "3.9.16"
  }
 },
 "nbformat": 4,
 "nbformat_minor": 1
}
