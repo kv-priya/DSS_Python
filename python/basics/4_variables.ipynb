{
 "cells": [
  {
   "cell_type": "markdown",
   "metadata": {
    "id": "DQpuCIWJbMYY"
   },
   "source": [
    "#### creating variables"
   ]
  },
  {
   "cell_type": "code",
   "execution_count": null,
   "metadata": {
    "colab": {
     "base_uri": "https://localhost:8080/"
    },
    "id": "Ofp7DF78bUcd",
    "outputId": "93e02896-a1b9-49a8-c043-21e4d30e6f81"
   },
   "outputs": [
    {
     "name": "stdout",
     "output_type": "stream",
     "text": [
      "5\n",
      "John\n"
     ]
    }
   ],
   "source": [
    "# variable is created the moment you first assign a value to it\n",
    "x = 5\n",
    "y = \"John\"\n",
    "print(x)\n",
    "print(y)"
   ]
  },
  {
   "cell_type": "code",
   "execution_count": null,
   "metadata": {
    "colab": {
     "base_uri": "https://localhost:8080/"
    },
    "id": "4whz0YPmbV3J",
    "outputId": "257c0c5e-c2c2-4c19-c821-27b22ab61f2c"
   },
   "outputs": [
    {
     "name": "stdout",
     "output_type": "stream",
     "text": [
      "Sally\n"
     ]
    }
   ],
   "source": [
    "# Variables do not need to be declared with any particular type, and \n",
    "# can even change type after they have been set.\n",
    "x = 4\n",
    "x = \"Sally\"\n",
    "print(x)"
   ]
  },
  {
   "cell_type": "markdown",
   "metadata": {
    "id": "zgKnaRCKbezB"
   },
   "source": [
    "#### get the type"
   ]
  },
  {
   "cell_type": "code",
   "execution_count": 5,
   "metadata": {
    "colab": {
     "base_uri": "https://localhost:8080/"
    },
    "id": "MLJuQtd3bgRE",
    "outputId": "c46160ef-5267-468e-8774-23a08f2c2a45"
   },
   "outputs": [
    {
     "name": "stdout",
     "output_type": "stream",
     "text": [
      "<class 'int'>\n",
      "<class 'str'>\n"
     ]
    }
   ],
   "source": [
    "x = 5\n",
    "y = \"John\"\n",
    "print(type(x))\n",
    "print(type(y))\n",
    "\n",
    "# type(x), type(y) # it should be last statement then it gets printed in jupyter notebook\n",
    "\n",
    "# print(\"end\")"
   ]
  },
  {
   "cell_type": "markdown",
   "metadata": {
    "id": "9OAnqm7MbiOv"
   },
   "source": [
    "#### quotations for string values"
   ]
  },
  {
   "cell_type": "code",
   "execution_count": null,
   "metadata": {
    "colab": {
     "base_uri": "https://localhost:8080/"
    },
    "id": "5BkhS1wxbjdA",
    "outputId": "75bb7026-a366-45ef-b8df-29eeaa61c466"
   },
   "outputs": [
    {
     "name": "stdout",
     "output_type": "stream",
     "text": [
      "John\n",
      "John\n"
     ]
    }
   ],
   "source": [
    "x = \"John\"\n",
    "print(x)\n",
    "\n",
    "#double quotes are the same as single quotes:\n",
    "\n",
    "x = 'John'\n",
    "print(x)"
   ]
  },
  {
   "cell_type": "markdown",
   "metadata": {
    "id": "UglyYF8UbmDi"
   },
   "source": [
    "#### case-sensitive"
   ]
  },
  {
   "cell_type": "code",
   "execution_count": null,
   "metadata": {
    "colab": {
     "base_uri": "https://localhost:8080/"
    },
    "id": "4O6qLYEHbnVy",
    "outputId": "67793b02-4c5e-4856-bdaf-a51d8963e5ab"
   },
   "outputs": [
    {
     "name": "stdout",
     "output_type": "stream",
     "text": [
      "4\n",
      "Sally\n"
     ]
    }
   ],
   "source": [
    "a = 4\n",
    "A = \"Sally\"\n",
    "\n",
    "print(a)\n",
    "print(A)"
   ]
  },
  {
   "cell_type": "markdown",
   "metadata": {
    "id": "ru9f06EUbuPD"
   },
   "source": [
    "#### variable naming rules"
   ]
  },
  {
   "cell_type": "markdown",
   "metadata": {
    "id": "p92nJokxKHYT"
   },
   "source": [
    "- A variable name must start with a letter or the underscore character\n",
    "- A variable name cannot start with a number\n",
    "- A variable name can only contain alpha-numeric characters and underscores (A-z, 0-9, and _ )\n",
    "- Variable names are case-sensitive (age, Age and AGE are three different variables)\n",
    "- **recomended: donot starting variable names with underscore(s)**"
   ]
  },
  {
   "cell_type": "code",
   "execution_count": 15,
   "metadata": {
    "colab": {
     "base_uri": "https://localhost:8080/"
    },
    "id": "GlaOgP7KeZoF",
    "outputId": "12f7845e-1cbb-45a2-d3c1-e4d473819dca"
   },
   "outputs": [
    {
     "name": "stdout",
     "output_type": "stream",
     "text": [
      "John\n",
      "John\n",
      "John\n",
      "John\n",
      "John\n",
      "John\n"
     ]
    }
   ],
   "source": [
    "# Valid variables\n",
    "myvar = \"John\"\n",
    "my_var = \"John\"\n",
    "_my_var = \"John\" # not recomended but valid\n",
    "myVar = \"John\"\n",
    "MYVAR = \"John\"\n",
    "myvar2 = \"John\"\n",
    "\n",
    "print(myvar)\n",
    "print(my_var)\n",
    "print(_my_var)\n",
    "print(myVar)\n",
    "print(MYVAR)\n",
    "print(myvar2)"
   ]
  },
  {
   "cell_type": "code",
   "execution_count": null,
   "metadata": {
    "id": "PYo4x306ecQ4"
   },
   "outputs": [],
   "source": [
    "# invalid variables\n",
    "\n",
    "# 2myvar = \"John\"\n",
    "# my-var = \"John\"\n",
    "# my var = \"John\"\n",
    "\n",
    "# File \"<ipython-input-30-aa8fed0365e4>\", line 1\n",
    "#     2myvar = \"John\"\n",
    "#          ^\n",
    "# SyntaxError: invalid syntax"
   ]
  },
  {
   "cell_type": "markdown",
   "metadata": {
    "id": "gSfDBuYMK2Ch"
   },
   "source": [
    "#### descriptive variable names"
   ]
  },
  {
   "cell_type": "markdown",
   "metadata": {
    "id": "4I4HeuNEefAl"
   },
   "source": [
    " ***camelCase:*** Each word, except the first, starts with a capital letter"
   ]
  },
  {
   "cell_type": "code",
   "execution_count": 6,
   "metadata": {
    "colab": {
     "base_uri": "https://localhost:8080/",
     "height": 36
    },
    "id": "Wl_v7Aflehrr",
    "outputId": "7ed548f4-a657-4887-c204-3ce83a48e2fd"
   },
   "outputs": [
    {
     "data": {
      "text/plain": [
       "'John'"
      ]
     },
     "execution_count": 6,
     "metadata": {},
     "output_type": "execute_result"
    }
   ],
   "source": [
    "myVariableName = \"John\"\n",
    "myVariableName"
   ]
  },
  {
   "cell_type": "markdown",
   "metadata": {
    "id": "qidqXUEXejjH"
   },
   "source": [
    "***PascalCase:*** Each word starts with a capital letter"
   ]
  },
  {
   "cell_type": "code",
   "execution_count": 7,
   "metadata": {
    "colab": {
     "base_uri": "https://localhost:8080/",
     "height": 36
    },
    "id": "AAaWYKCHek6O",
    "outputId": "4ab6dba6-85c1-4db2-87bf-ba88104f7871"
   },
   "outputs": [
    {
     "data": {
      "text/plain": [
       "'John'"
      ]
     },
     "execution_count": 7,
     "metadata": {},
     "output_type": "execute_result"
    }
   ],
   "source": [
    "MyVariableName = \"John\"\n",
    "MyVariableName"
   ]
  },
  {
   "cell_type": "markdown",
   "metadata": {
    "id": "8guRAT4RemZU"
   },
   "source": [
    "***snake_case:*** Each word is separated by an underscore character"
   ]
  },
  {
   "cell_type": "code",
   "execution_count": null,
   "metadata": {
    "colab": {
     "base_uri": "https://localhost:8080/",
     "height": 36
    },
    "id": "cnikM6a0enmI",
    "outputId": "3959640e-b780-420f-d415-ab0ff8b9b297"
   },
   "outputs": [
    {
     "data": {
      "text/plain": [
       "'John'"
      ]
     },
     "execution_count": 658,
     "metadata": {},
     "output_type": "execute_result"
    }
   ],
   "source": [
    "my_variable_name = \"John\"\n",
    "my_variable_name"
   ]
  },
  {
   "cell_type": "markdown",
   "metadata": {
    "id": "GqdsBi3Xeuip"
   },
   "source": [
    "#### one Value to multiple variables"
   ]
  },
  {
   "cell_type": "code",
   "execution_count": null,
   "metadata": {
    "colab": {
     "base_uri": "https://localhost:8080/"
    },
    "executionInfo": {
     "elapsed": 6,
     "status": "ok",
     "timestamp": 1681726431580,
     "user": {
      "displayName": "vishnupriya karanam",
      "userId": "13289819926024070101"
     },
     "user_tz": -330
    },
    "id": "ASQ42G11gked",
    "outputId": "6c354717-a171-4b24-92b0-ccd93c0d84ff"
   },
   "outputs": [
    {
     "name": "stdout",
     "output_type": "stream",
     "text": [
      "Orange Orange Orange\n"
     ]
    }
   ],
   "source": [
    "x = y = z = \"Orange\"\n",
    "print(x,y,z)"
   ]
  },
  {
   "cell_type": "markdown",
   "metadata": {
    "id": "gS0tTJ5KeqWO"
   },
   "source": [
    "#### different values to multiple variables"
   ]
  },
  {
   "cell_type": "code",
   "execution_count": 1,
   "metadata": {
    "colab": {
     "base_uri": "https://localhost:8080/"
    },
    "executionInfo": {
     "elapsed": 22,
     "status": "ok",
     "timestamp": 1681741116562,
     "user": {
      "displayName": "sree dhar",
      "userId": "18078165690993073471"
     },
     "user_tz": -330
    },
    "id": "3pnwYnANeswS",
    "outputId": "d488959c-0338-40f7-8e1d-5513d4347701"
   },
   "outputs": [
    {
     "name": "stdout",
     "output_type": "stream",
     "text": [
      "Orange Banana Cherry\n"
     ]
    }
   ],
   "source": [
    "x, y, z = \"Orange\", \"Banana\", \"Cherry\"\n",
    "\n",
    "print(x,y,z)"
   ]
  },
  {
   "cell_type": "markdown",
   "metadata": {
    "id": "mwD7L2LXgmmD"
   },
   "source": [
    "#### unpacking a collection\n",
    "\n",
    "- If you have a collection of values in a list, tuple etc. Python allows you to extract the values into variables"
   ]
  },
  {
   "cell_type": "code",
   "execution_count": 8,
   "metadata": {
    "colab": {
     "base_uri": "https://localhost:8080/"
    },
    "id": "Lz8wCPiqgpXq",
    "outputId": "6afc5abf-1360-44b6-9421-00f0af29dbc8"
   },
   "outputs": [
    {
     "name": "stdout",
     "output_type": "stream",
     "text": [
      "apple\n",
      "banana\n",
      "cherry\n"
     ]
    }
   ],
   "source": [
    "fruits = [\"apple\", \"banana\", \"cherry\"]\n",
    "x, y, z = fruits\n",
    "\n",
    "print(x)\n",
    "print(y)\n",
    "print(z)"
   ]
  },
  {
   "cell_type": "markdown",
   "metadata": {
    "id": "qthnMGn7gybq"
   },
   "source": [
    "#### output variables"
   ]
  },
  {
   "cell_type": "code",
   "execution_count": null,
   "metadata": {
    "colab": {
     "base_uri": "https://localhost:8080/"
    },
    "id": "LslOe-Q2g3xk",
    "outputId": "3d1676d5-931e-47e2-c22b-d287d56a387a"
   },
   "outputs": [
    {
     "name": "stdout",
     "output_type": "stream",
     "text": [
      "Python is awesome\n"
     ]
    }
   ],
   "source": [
    "# o/p single variable\n",
    "x = \"Python is awesome\"\n",
    "print(x) "
   ]
  },
  {
   "cell_type": "code",
   "execution_count": null,
   "metadata": {
    "colab": {
     "base_uri": "https://localhost:8080/"
    },
    "id": "wIu1MAwyg-f9",
    "outputId": "4eeb5bfc-f3bb-4a08-82c9-fd766f6ecc35"
   },
   "outputs": [
    {
     "name": "stdout",
     "output_type": "stream",
     "text": [
      "Python is awesome\n"
     ]
    }
   ],
   "source": [
    "# o/p multiple variables using , (space is included between variables by default)\n",
    "x = \"Python\"\n",
    "y = \"is\"\n",
    "z = \"awesome\"\n",
    "print(x, y, z)"
   ]
  },
  {
   "cell_type": "code",
   "execution_count": null,
   "metadata": {
    "colab": {
     "base_uri": "https://localhost:8080/"
    },
    "id": "VMNEV-S5hAC4",
    "outputId": "f5c37347-a3f2-4715-cf19-966d0540d1ce"
   },
   "outputs": [
    {
     "name": "stdout",
     "output_type": "stream",
     "text": [
      "Pythonisawesome\n"
     ]
    }
   ],
   "source": [
    "# o/p multiple variables using + (spaces are not included between variables but concatenated)\n",
    "x = \"Python\"\n",
    "y = \"is\"\n",
    "z = \"awesome\"\n",
    "print(x + y + z)"
   ]
  },
  {
   "cell_type": "code",
   "execution_count": null,
   "metadata": {
    "colab": {
     "base_uri": "https://localhost:8080/"
    },
    "id": "bUuHRM84hBIE",
    "outputId": "fdc59fe7-8ff4-431b-cb53-4f9ebb5d02b8"
   },
   "outputs": [
    {
     "name": "stdout",
     "output_type": "stream",
     "text": [
      "15\n"
     ]
    }
   ],
   "source": [
    "# For numbers, the + character works as a mathematical operator\n",
    "x = 5\n",
    "y = 10\n",
    "print(x + y)"
   ]
  },
  {
   "cell_type": "code",
   "execution_count": 10,
   "metadata": {
    "id": "YknPtNkZhCJR"
   },
   "outputs": [],
   "source": [
    "# when you try to combine a string and a number using the + operator\n",
    "\n",
    "# x = 5\n",
    "# y = \"John\"\n",
    "# print(x + y)\n",
    "\n",
    "# TypeError                                 Traceback (most recent call last)\n",
    "# <ipython-input-49-b9a1f4f02df5> in <module>\n",
    "#       3 x = 5\n",
    "#       4 y = \"John\"\n",
    "# ----> 5 print(x + y)\n",
    "\n",
    "# TypeError: unsupported operand type(s) for +: 'int' and 'str'"
   ]
  },
  {
   "cell_type": "code",
   "execution_count": null,
   "metadata": {
    "colab": {
     "base_uri": "https://localhost:8080/"
    },
    "id": "wtBjlxw8hDS9",
    "outputId": "07e275b7-8771-4802-c53b-620df7d154f8"
   },
   "outputs": [
    {
     "name": "stdout",
     "output_type": "stream",
     "text": [
      "5 John\n"
     ]
    }
   ],
   "source": [
    "# The best way to output multiple variables in the print() function is \n",
    "# to separate them with commas, which even support different data types\n",
    "\n",
    "x = 5\n",
    "y = \"John\"\n",
    "print(x, y)"
   ]
  },
  {
   "cell_type": "markdown",
   "metadata": {},
   "source": [
    "#### structuring python program"
   ]
  },
  {
   "cell_type": "code",
   "execution_count": 1,
   "metadata": {},
   "outputs": [
    {
     "name": "stdout",
     "output_type": "stream",
     "text": [
      "1\n",
      "2\n"
     ]
    }
   ],
   "source": [
    "# multiple statements in single line\n",
    "a=1; b=2; print(a); print(b)"
   ]
  },
  {
   "cell_type": "code",
   "execution_count": 12,
   "metadata": {},
   "outputs": [
    {
     "name": "stdout",
     "output_type": "stream",
     "text": [
      "person is eligible to vote\n"
     ]
    }
   ],
   "source": [
    "# implicit line continuation\n",
    "age = 20\n",
    "citizen = \"indian\"\n",
    "if (\n",
    "   age >= 18 \n",
    "    and\n",
    "   citizen == \"indian\"\n",
    "   ):\n",
    "    print('person is eligible to vote')"
   ]
  },
  {
   "cell_type": "code",
   "execution_count": 14,
   "metadata": {},
   "outputs": [
    {
     "name": "stdout",
     "output_type": "stream",
     "text": [
      "55\n"
     ]
    }
   ],
   "source": [
    "# explicit line continuation \n",
    "# using \\ at the end of the line\n",
    "a = \\\n",
    "    10 + 20 + \\\n",
    "    15 + 5 \\\n",
    "    + 5\n",
    "  \n",
    "print(a)"
   ]
  }
 ],
 "metadata": {
  "colab": {
   "provenance": [],
   "toc_visible": true
  },
  "kernelspec": {
   "display_name": "Python 3 (ipykernel)",
   "language": "python",
   "name": "python3"
  },
  "language_info": {
   "codemirror_mode": {
    "name": "ipython",
    "version": 3
   },
   "file_extension": ".py",
   "mimetype": "text/x-python",
   "name": "python",
   "nbconvert_exporter": "python",
   "pygments_lexer": "ipython3",
   "version": "3.9.16"
  }
 },
 "nbformat": 4,
 "nbformat_minor": 1
}
