{
 "cells": [
  {
   "cell_type": "markdown",
   "metadata": {
    "id": "hn6MVavnao_K"
   },
   "source": [
    "### comments"
   ]
  },
  {
   "cell_type": "markdown",
   "metadata": {
    "id": "QDd1ySpj2P2c"
   },
   "source": [
    "- not compiled\n",
    "- to explain Python code.\n",
    "- to make the code more readable.\n",
    "- to prevent execution when testing code."
   ]
  },
  {
   "cell_type": "markdown",
   "metadata": {
    "id": "PAcLy_qHa12h"
   },
   "source": [
    "#### Single line comment"
   ]
  },
  {
   "cell_type": "code",
   "execution_count": 1,
   "metadata": {
    "colab": {
     "base_uri": "https://localhost:8080/"
    },
    "executionInfo": {
     "elapsed": 403,
     "status": "ok",
     "timestamp": 1681712601955,
     "user": {
      "displayName": "vishnupriya karanam",
      "userId": "13289819926024070101"
     },
     "user_tz": -330
    },
    "id": "t-5WXRG-asYB",
    "outputId": "cbebeae9-c135-4055-bcf2-cfabe3ec9f77"
   },
   "outputs": [
    {
     "name": "stdout",
     "output_type": "stream",
     "text": [
      "Hello, World!\n"
     ]
    }
   ],
   "source": [
    "#This is a comment. not compiled\n",
    "# prints a message\n",
    "print(\"Hello, World!\")"
   ]
  },
  {
   "cell_type": "code",
   "execution_count": 2,
   "metadata": {
    "colab": {
     "base_uri": "https://localhost:8080/"
    },
    "executionInfo": {
     "elapsed": 5,
     "status": "ok",
     "timestamp": 1681712611804,
     "user": {
      "displayName": "vishnupriya karanam",
      "userId": "13289819926024070101"
     },
     "user_tz": -330
    },
    "id": "j-Io-F5Fa51i",
    "outputId": "4022abc3-bc34-4b52-ed42-b5514a879efb"
   },
   "outputs": [
    {
     "name": "stdout",
     "output_type": "stream",
     "text": [
      "Hello, World!\n"
     ]
    }
   ],
   "source": [
    "# This is a comment created by # sign at the beginning of comment\n",
    "print(\"Hello, World!\")"
   ]
  },
  {
   "cell_type": "code",
   "execution_count": 3,
   "metadata": {
    "colab": {
     "base_uri": "https://localhost:8080/"
    },
    "executionInfo": {
     "elapsed": 6,
     "status": "ok",
     "timestamp": 1681712245908,
     "user": {
      "displayName": "vishnupriya karanam",
      "userId": "13289819926024070101"
     },
     "user_tz": -330
    },
    "id": "AZY4EDE3a7d_",
    "outputId": "4b8b87be-d301-4ee4-8ebd-5558060e4a28"
   },
   "outputs": [
    {
     "name": "stdout",
     "output_type": "stream",
     "text": [
      "Hello, World!\n"
     ]
    }
   ],
   "source": [
    "print(\"Hello, World!\") #This is a comment at the end of line"
   ]
  },
  {
   "cell_type": "code",
   "execution_count": 4,
   "metadata": {
    "colab": {
     "base_uri": "https://localhost:8080/"
    },
    "id": "wjo0tfEHa9Vz",
    "outputId": "b5131cd9-a963-44c5-a6ba-228ebd917aa0"
   },
   "outputs": [
    {
     "name": "stdout",
     "output_type": "stream",
     "text": [
      "Cheers, Mate!\n"
     ]
    }
   ],
   "source": [
    "# inerting code\n",
    "#print(\"Hello, World!\")\n",
    "print(\"Cheers, Mate!\")"
   ]
  },
  {
   "cell_type": "code",
   "execution_count": 5,
   "metadata": {
    "colab": {
     "base_uri": "https://localhost:8080/"
    },
    "executionInfo": {
     "elapsed": 346,
     "status": "ok",
     "timestamp": 1681712638227,
     "user": {
      "displayName": "vishnupriya karanam",
      "userId": "13289819926024070101"
     },
     "user_tz": -330
    },
    "id": "sCXswWHrbEV1",
    "outputId": "266523d2-bb7e-4763-d5ac-9f39db5a35f1"
   },
   "outputs": [
    {
     "name": "stdout",
     "output_type": "stream",
     "text": [
      "Hello, World!\n"
     ]
    }
   ],
   "source": [
    "#This is a \n",
    "#multi line\n",
    "#comment\n",
    "print(\"Hello, World!\") \n"
   ]
  },
  {
   "cell_type": "markdown",
   "metadata": {
    "id": "Q_WqO-46I_De"
   },
   "source": [
    "#### multi line comment"
   ]
  },
  {
   "cell_type": "code",
   "execution_count": null,
   "metadata": {
    "colab": {
     "base_uri": "https://localhost:8080/"
    },
    "executionInfo": {
     "elapsed": 5,
     "status": "ok",
     "timestamp": 1681712249029,
     "user": {
      "displayName": "vishnupriya karanam",
      "userId": "13289819926024070101"
     },
     "user_tz": -330
    },
    "id": "nTu9wJrZbGBw",
    "outputId": "9069ee1e-1883-4976-cafc-72319f412f99"
   },
   "outputs": [
    {
     "name": "stdout",
     "output_type": "stream",
     "text": [
      "Hello, World!\n"
     ]
    }
   ],
   "source": [
    "\"\"\"\n",
    "This is a comment\n",
    "written in\n",
    "more than just one line using \"\n",
    "\"\"\"\n",
    "print(\"Hello, World!\") "
   ]
  },
  {
   "cell_type": "code",
   "execution_count": 6,
   "metadata": {},
   "outputs": [
    {
     "name": "stdout",
     "output_type": "stream",
     "text": [
      "Hello, World!\n"
     ]
    }
   ],
   "source": [
    "''' This is a comment\n",
    "written in\n",
    "more than just one line using \" '''\n",
    "print(\"Hello, World!\") "
   ]
  },
  {
   "cell_type": "markdown",
   "metadata": {
    "id": "GlIyxjbf3uv8"
   },
   "source": [
    "#### documentation comment"
   ]
  },
  {
   "cell_type": "markdown",
   "metadata": {},
   "source": [
    "- only used in function to tell what a function does\n",
    "- it should be in the first line inside the function\n",
    "- use ''' or \"\"\" but not #"
   ]
  },
  {
   "cell_type": "code",
   "execution_count": 8,
   "metadata": {
    "colab": {
     "base_uri": "https://localhost:8080/"
    },
    "executionInfo": {
     "elapsed": 598,
     "status": "ok",
     "timestamp": 1681712426960,
     "user": {
      "displayName": "vishnupriya karanam",
      "userId": "13289819926024070101"
     },
     "user_tz": -330
    },
    "id": "MIOHPRoZ3G3M",
    "outputId": "caa43f4a-7074-47ea-f3a5-624b35df3d42"
   },
   "outputs": [
    {
     "name": "stdout",
     "output_type": "stream",
     "text": [
      "outside one\n",
      "in one\n",
      "also in one\n",
      "\n",
      "  this function prints 2 messages\n",
      "  \n"
     ]
    }
   ],
   "source": [
    "def one():\n",
    "  '''\n",
    "  this function prints 2 messages\n",
    "  '''\n",
    "  print('in one')\n",
    "  print('also in one')\n",
    "\n",
    "print('outside one')\n",
    "one()\n",
    "print(one.__doc__) # prints documentation comment inside one function"
   ]
  },
  {
   "cell_type": "code",
   "execution_count": 10,
   "metadata": {},
   "outputs": [
    {
     "name": "stdout",
     "output_type": "stream",
     "text": [
      "outside one\n",
      "in one\n",
      "also in one\n",
      "None\n"
     ]
    }
   ],
   "source": [
    "def one():\n",
    "  # this function prints 2 messages\n",
    "  print('in one')\n",
    "  print('also in one')\n",
    "\n",
    "print('outside one')\n",
    "one()\n",
    "print(one.__doc__) # given comment is not documentation comment. It is just a single line comment given for readability purpose."
   ]
  },
  {
   "cell_type": "code",
   "execution_count": null,
   "metadata": {},
   "outputs": [],
   "source": []
  }
 ],
 "metadata": {
  "colab": {
   "provenance": []
  },
  "kernelspec": {
   "display_name": "Python 3 (ipykernel)",
   "language": "python",
   "name": "python3"
  },
  "language_info": {
   "codemirror_mode": {
    "name": "ipython",
    "version": 3
   },
   "file_extension": ".py",
   "mimetype": "text/x-python",
   "name": "python",
   "nbconvert_exporter": "python",
   "pygments_lexer": "ipython3",
   "version": "3.9.16"
  }
 },
 "nbformat": 4,
 "nbformat_minor": 1
}
