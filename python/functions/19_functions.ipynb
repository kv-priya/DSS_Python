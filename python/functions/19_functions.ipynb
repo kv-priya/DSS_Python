{
 "cells": [
  {
   "cell_type": "markdown",
   "metadata": {
    "id": "q3tQMxYmVvtQ"
   },
   "source": [
    "#### function creation"
   ]
  },
  {
   "cell_type": "code",
   "execution_count": 23,
   "metadata": {
    "id": "UvfoGs5GVxXY"
   },
   "outputs": [],
   "source": [
    "def my_function():\n",
    "    print(\"Hello from a function\")"
   ]
  },
  {
   "cell_type": "code",
   "execution_count": 24,
   "metadata": {},
   "outputs": [],
   "source": [
    "# def my_function(a): # with arguments/parameters\n",
    "#     print(a)"
   ]
  },
  {
   "cell_type": "markdown",
   "metadata": {
    "id": "kHvYX5bLV5vX"
   },
   "source": [
    "#### function call"
   ]
  },
  {
   "cell_type": "code",
   "execution_count": 25,
   "metadata": {
    "colab": {
     "base_uri": "https://localhost:8080/"
    },
    "executionInfo": {
     "elapsed": 3,
     "status": "ok",
     "timestamp": 1684898006940,
     "user": {
      "displayName": "DSS DSS",
      "userId": "17636620013329168760"
     },
     "user_tz": -330
    },
    "id": "kQi4f4BdV7_8",
    "outputId": "bc4e00d4-1b34-471d-cabc-f552c09f74fe"
   },
   "outputs": [
    {
     "name": "stdout",
     "output_type": "stream",
     "text": [
      "Hello from a function\n"
     ]
    }
   ],
   "source": [
    "my_function() "
   ]
  },
  {
   "cell_type": "code",
   "execution_count": 26,
   "metadata": {
    "id": "k_bCIL1Wv1xF"
   },
   "outputs": [],
   "source": [
    "# abc() # NameError: name 'abc' is not defined"
   ]
  },
  {
   "cell_type": "markdown",
   "metadata": {
    "id": "L0MSCrtlV93H"
   },
   "source": [
    "#### single positional argument"
   ]
  },
  {
   "cell_type": "code",
   "execution_count": 27,
   "metadata": {
    "colab": {
     "base_uri": "https://localhost:8080/"
    },
    "executionInfo": {
     "elapsed": 4,
     "status": "ok",
     "timestamp": 1684898150890,
     "user": {
      "displayName": "DSS DSS",
      "userId": "17636620013329168760"
     },
     "user_tz": -330
    },
    "id": "4G3pNOZyWAU0",
    "outputId": "7f2a1f91-ec1b-4ca5-ffc1-83aaaabf8c4a"
   },
   "outputs": [
    {
     "name": "stdout",
     "output_type": "stream",
     "text": [
      "EMIL is my name\n",
      "TONY is my name\n",
      "LUCI is my name\n"
     ]
    }
   ],
   "source": [
    "def my_function(fname):\n",
    "    print(fname.upper() + \" is my name\")\n",
    "\n",
    "my_function(\"Emil\")\n",
    "my_function(\"Tony\")\n",
    "my_function(\"Luci\")"
   ]
  },
  {
   "cell_type": "code",
   "execution_count": 29,
   "metadata": {
    "id": "cHmbqk3IwoT1"
   },
   "outputs": [],
   "source": [
    "# my_function(\"Tony\", \"Robbins\")\n",
    "# TypeError: my_function() takes 1 positional argument but 2 were given"
   ]
  },
  {
   "cell_type": "markdown",
   "metadata": {
    "id": "5Q2KIONgWCcL"
   },
   "source": [
    "#### multi positional arguments"
   ]
  },
  {
   "cell_type": "code",
   "execution_count": 33,
   "metadata": {
    "id": "6T1o-yMPWWBf"
   },
   "outputs": [],
   "source": [
    "def my_function(fname, lname):\n",
    "    print(fname + \" \" + lname)"
   ]
  },
  {
   "cell_type": "code",
   "execution_count": 34,
   "metadata": {
    "colab": {
     "base_uri": "https://localhost:8080/"
    },
    "executionInfo": {
     "elapsed": 3,
     "status": "ok",
     "timestamp": 1684898443585,
     "user": {
      "displayName": "DSS DSS",
      "userId": "17636620013329168760"
     },
     "user_tz": -330
    },
    "id": "rL647GMzMG5v",
    "outputId": "287f91aa-57da-48e8-d05f-824ae379af15"
   },
   "outputs": [
    {
     "name": "stdout",
     "output_type": "stream",
     "text": [
      "Tony Robbins\n",
      "Robbins Tony\n"
     ]
    }
   ],
   "source": [
    "my_function(\"Tony\", \"Robbins\")\n",
    "my_function(\"Robbins\", \"Tony\")"
   ]
  },
  {
   "cell_type": "code",
   "execution_count": 35,
   "metadata": {
    "id": "23VodjA6WcRq"
   },
   "outputs": [],
   "source": [
    "# my_function(\"Tony\")\n",
    "# TypeError: my_function() missing 1 required positional argument: 'lname'"
   ]
  },
  {
   "cell_type": "code",
   "execution_count": 39,
   "metadata": {
    "colab": {
     "base_uri": "https://localhost:8080/"
    },
    "executionInfo": {
     "elapsed": 3,
     "status": "ok",
     "timestamp": 1684898545595,
     "user": {
      "displayName": "DSS DSS",
      "userId": "17636620013329168760"
     },
     "user_tz": -330
    },
    "id": "hwd9BXCLx1AL",
    "outputId": "43a04fa0-c4ed-4ce4-8f51-90bb98b056aa"
   },
   "outputs": [
    {
     "name": "stdout",
     "output_type": "stream",
     "text": [
      "math marks: 100 physics marks: 80\n",
      "math marks: 100 physics marks: 80\n",
      "math marks: 80 physics marks: 100\n",
      "math marks: 80 physics marks: 100\n"
     ]
    }
   ],
   "source": [
    "def marks(mathmarks, physicsmarks):\n",
    "    print('math marks:',mathmarks,'physics marks:',physicsmarks)\n",
    "    print('math marks:',mathmarks,'physics marks:',physicsmarks)\n",
    "\n",
    "marks(100,80) # positional arguments: order matters\n",
    "marks(80,100)"
   ]
  },
  {
   "cell_type": "markdown",
   "metadata": {
    "id": "jHCRm3A3WfSj"
   },
   "source": [
    "#### arbitrary arguments : *args"
   ]
  },
  {
   "cell_type": "code",
   "execution_count": 46,
   "metadata": {},
   "outputs": [
    {
     "name": "stdout",
     "output_type": "stream",
     "text": [
      "The youngest child is \n",
      "The youngest child is \n",
      "The youngest child is \n"
     ]
    }
   ],
   "source": [
    "def my_function(*kids): \n",
    "    print(kids,type(kids))\n",
    "    print(\"The youngest child is \") \n",
    "\n",
    "my_function(\"Anu\", \"Bob\", \"Chetan\")\n",
    "my_function(\"Anu\") \n",
    "my_function() "
   ]
  },
  {
   "cell_type": "code",
   "execution_count": 47,
   "metadata": {
    "colab": {
     "base_uri": "https://localhost:8080/"
    },
    "executionInfo": {
     "elapsed": 431,
     "status": "ok",
     "timestamp": 1684898761656,
     "user": {
      "displayName": "DSS DSS",
      "userId": "17636620013329168760"
     },
     "user_tz": -330
    },
    "id": "dyr8wLeaWiRX",
    "outputId": "2101d08d-e8ef-430d-a578-c003dbd3b2eb"
   },
   "outputs": [
    {
     "name": "stdout",
     "output_type": "stream",
     "text": [
      "The youngest child is Chetan\n"
     ]
    }
   ],
   "source": [
    "def my_function(*kids): # * => it accepts any number of parameters (0 to infinite)\n",
    "    print(\"The youngest child is \" + kids[2]) # parameters are accessed using number indexing\n",
    "\n",
    "my_function(\"Anu\", \"Bob\", \"Chetan\") # 3 parameters\n",
    "# my_function(\"Anu\") # IndexError: tuple index out of range => kids type is tuple\n",
    "# my_function() # IndexError: tuple index out of range"
   ]
  },
  {
   "cell_type": "markdown",
   "metadata": {
    "id": "rOTA6chXWj9d"
   },
   "source": [
    "#### keyword arguments"
   ]
  },
  {
   "cell_type": "code",
   "execution_count": 195,
   "metadata": {
    "colab": {
     "base_uri": "https://localhost:8080/"
    },
    "executionInfo": {
     "elapsed": 434,
     "status": "ok",
     "timestamp": 1684899113590,
     "user": {
      "displayName": "DSS DSS",
      "userId": "17636620013329168760"
     },
     "user_tz": -330
    },
    "id": "MQB2IPOeWn-0",
    "outputId": "32a92727-2608-4f95-ae7c-72a6d31095db"
   },
   "outputs": [
    {
     "name": "stdout",
     "output_type": "stream",
     "text": [
      "The youngest child is Chetan\n"
     ]
    }
   ],
   "source": [
    "def my_function(child3, child2, child1):\n",
    "    print(\"The youngest child is \" + child3)\n",
    "\n",
    "my_function(child1 = \"Anu\", child2 = \"Bob\", child3 = \"Chetan\") # kwargs: order doesnot matter\n",
    "# my_function('Bob', 'Chetan', \"Anu\") # postional args : order matters"
   ]
  },
  {
   "cell_type": "code",
   "execution_count": 198,
   "metadata": {},
   "outputs": [],
   "source": [
    "# print(child1) # NameError: name 'child1' is not defined"
   ]
  },
  {
   "cell_type": "markdown",
   "metadata": {
    "id": "V5KNYgJoWrcL"
   },
   "source": [
    "#### arbitrary keyword arguments : **kwargs"
   ]
  },
  {
   "cell_type": "code",
   "execution_count": 56,
   "metadata": {
    "colab": {
     "base_uri": "https://localhost:8080/"
    },
    "executionInfo": {
     "elapsed": 1021,
     "status": "ok",
     "timestamp": 1684899412076,
     "user": {
      "displayName": "DSS DSS",
      "userId": "17636620013329168760"
     },
     "user_tz": -330
    },
    "id": "8a26uKgWWvDH",
    "outputId": "80629e31-a8f5-479f-99cd-c868baba54bb"
   },
   "outputs": [
    {
     "name": "stdout",
     "output_type": "stream",
     "text": [
      "{'fname': 'Tony', 'lname': 'Robbins'} <class 'dict'>\n",
      "His last name is Robbins\n"
     ]
    }
   ],
   "source": [
    "def my_function(**kid): # *kid: 0 to inf number of args, **kid: any number of kw args\n",
    "    print(kid,type(kid))\n",
    "    print(\"His last name is \" + kid[\"lname\"]) # key indexing\n",
    "#     print(\"His last name is \" + kid[\"lastname\"]) # KeyError: 'lastname'\n",
    "  \n",
    "my_function(fname = \"Tony\", lname = \"Robbins\")"
   ]
  },
  {
   "cell_type": "markdown",
   "metadata": {
    "id": "uf9KmXuTWxV1"
   },
   "source": [
    "#### default argument"
   ]
  },
  {
   "cell_type": "code",
   "execution_count": 57,
   "metadata": {
    "colab": {
     "base_uri": "https://localhost:8080/"
    },
    "executionInfo": {
     "elapsed": 3,
     "status": "ok",
     "timestamp": 1684899521234,
     "user": {
      "displayName": "DSS DSS",
      "userId": "17636620013329168760"
     },
     "user_tz": -330
    },
    "id": "-aSnlA16W0Rz",
    "outputId": "3c490807-3f29-4bda-dcd2-4b3e742d7275"
   },
   "outputs": [
    {
     "name": "stdout",
     "output_type": "stream",
     "text": [
      "I am from Sweden\n",
      "I am from Norway\n",
      "I am from India\n",
      "I am from Brazil\n"
     ]
    }
   ],
   "source": [
    "def my_function(country = \"India\"): # 100 -> 80 India (majority or most common)\n",
    "    print(\"I am from \" + country)\n",
    "\n",
    "my_function(\"Sweden\")\n",
    "my_function(\"Norway\")\n",
    "my_function()\n",
    "my_function(\"Brazil\")"
   ]
  },
  {
   "cell_type": "markdown",
   "metadata": {
    "id": "j1D0y8C2XFY2"
   },
   "source": [
    "#### order of arguments"
   ]
  },
  {
   "cell_type": "markdown",
   "metadata": {
    "id": "8bRhJ3DSXOx8"
   },
   "source": [
    "1. positional arguments\n",
    "2. arbitrary positional arguments\n",
    "3. default arguments\n",
    "4. keyword arguments\n",
    "5. arbitrary keyword arguments"
   ]
  },
  {
   "cell_type": "code",
   "execution_count": 204,
   "metadata": {},
   "outputs": [],
   "source": [
    "# def fun(*d, a): # b is default argument\n",
    "#     print(a,d, sep=\"\\n\")\n",
    "    \n",
    "# fun(20, 400,401, 402, 403, 20) # TypeError: fun() missing 1 required keyword-only argument: 'a'"
   ]
  },
  {
   "cell_type": "code",
   "execution_count": 208,
   "metadata": {
    "colab": {
     "base_uri": "https://localhost:8080/"
    },
    "executionInfo": {
     "elapsed": 458,
     "status": "ok",
     "timestamp": 1684900336893,
     "user": {
      "displayName": "DSS DSS",
      "userId": "17636620013329168760"
     },
     "user_tz": -330
    },
    "id": "rMQ3T9Y0XI7I",
    "outputId": "42170dbd-3bc2-4403-dd7c-bfea68e225ab"
   },
   "outputs": [
    {
     "name": "stdout",
     "output_type": "stream",
     "text": [
      "20\n",
      "10\n",
      "20\n",
      "(400, 401, 402, 403)\n",
      "{'d': [0, 1, 2, 3], 'p': 100, 'q': 200}\n"
     ]
    }
   ],
   "source": [
    "def fun(a, *d, b=10, c=21, **e): # b is default argument\n",
    "    print(a,b,c,d,e, sep=\"\\n\")\n",
    "    \n",
    "    \n",
    "fun(20, # positional\n",
    "400, 401, 402, 403, # arbitrary positional\n",
    "c=20, # keyword (has default value)\n",
    "d=[0,1,2,3], # aribitrary keyword which is a list\n",
    "p=100, # aribitrary keyword\n",
    "q=200 # aribitrary keyword\n",
    ")"
   ]
  },
  {
   "cell_type": "code",
   "execution_count": 211,
   "metadata": {},
   "outputs": [
    {
     "name": "stdout",
     "output_type": "stream",
     "text": [
      "400\n",
      "10\n",
      "20\n",
      "(401, 402, 403, 20)\n",
      "{'d': [0, 1, 2, 3], 'p': 100, 'q': 200}\n"
     ]
    }
   ],
   "source": [
    "def fun(a, *d, b=10, c=21, **e): # b is default argument\n",
    "    print(a,b,c,d,e, sep=\"\\n\")\n",
    "    \n",
    "fun(400,401,402,403,20,\n",
    "c=20, \n",
    "d=[0,1,2,3], p=100, q=200)"
   ]
  },
  {
   "cell_type": "markdown",
   "metadata": {
    "id": "IPGXujFlbt_p"
   },
   "source": [
    "#### determine if items are passed by position, by position or keyword, or by keyword"
   ]
  },
  {
   "cell_type": "markdown",
   "metadata": {
    "id": "v66pt5uvb3rZ"
   },
   "source": [
    "1. Positional only parameters\n",
    "2. Positional or keyword arguments (after /)\n",
    "3. Keyword-only arguments (after *)"
   ]
  },
  {
   "cell_type": "code",
   "execution_count": 213,
   "metadata": {},
   "outputs": [],
   "source": [
    "def fun(a,b,c,d,e,f):\n",
    "    pass"
   ]
  },
  {
   "cell_type": "code",
   "execution_count": 216,
   "metadata": {
    "colab": {
     "base_uri": "https://localhost:8080/"
    },
    "executionInfo": {
     "elapsed": 6,
     "status": "ok",
     "timestamp": 1681722228932,
     "user": {
      "displayName": "vishnupriya karanam",
      "userId": "13289819926024070101"
     },
     "user_tz": -330
    },
    "id": "H6KxzVdRbv8c",
    "outputId": "6061d7a6-6652-43a5-ada4-de7027ca0172"
   },
   "outputs": [
    {
     "name": "stdout",
     "output_type": "stream",
     "text": [
      "10 20 30 40 50 60\n"
     ]
    }
   ],
   "source": [
    "def fun(a,b,/,c,d,*,e,f):\n",
    "    print(a,b,c,d,e,f)\n",
    "\n",
    "fun(10,20, # a,b are positional only : order matters\n",
    "    30, d = 40, # after / c,d are positional or keyword (maintain order of positional and keyword)\n",
    "    e=50,f=60 # after * e,f are keyword only\n",
    ")"
   ]
  },
  {
   "cell_type": "code",
   "execution_count": 217,
   "metadata": {
    "id": "s248VxBadMwh"
   },
   "outputs": [],
   "source": [
    "# fun(10,b=20, # TypeError: fun() got some positional-only arguments passed as keyword arguments: 'b'\n",
    "#     d= 30, c = 40, \n",
    "#     e=50,f=60 \n",
    "# )"
   ]
  },
  {
   "cell_type": "code",
   "execution_count": 218,
   "metadata": {
    "id": "t47mZwzMdMk3"
   },
   "outputs": [],
   "source": [
    "# fun(10,20, \n",
    "#     c=30, 40, # SyntaxError: positional argument follows keyword argument\n",
    "#     e=50,f=60 \n",
    "# )"
   ]
  },
  {
   "cell_type": "markdown",
   "metadata": {
    "id": "HNibxP21W2Fx"
   },
   "source": [
    "#### passing list as an argument"
   ]
  },
  {
   "cell_type": "code",
   "execution_count": 72,
   "metadata": {
    "colab": {
     "base_uri": "https://localhost:8080/"
    },
    "executionInfo": {
     "elapsed": 438,
     "status": "ok",
     "timestamp": 1684900554937,
     "user": {
      "displayName": "DSS DSS",
      "userId": "17636620013329168760"
     },
     "user_tz": -330
    },
    "id": "AiPRkx_RW4y8",
    "outputId": "f8d88bc1-45b5-49f3-9f93-4ca4e445a866"
   },
   "outputs": [
    {
     "name": "stdout",
     "output_type": "stream",
     "text": [
      "apple\n",
      "banana\n",
      "cherry\n"
     ]
    }
   ],
   "source": [
    "def my_function(food):\n",
    "    for x in food:\n",
    "        print(x)\n",
    "\n",
    "fruits = [\"apple\", \"banana\", \"cherry\"]\n",
    "my_function(fruits)\n",
    "\n",
    "# print(my_function(fruits)) # None"
   ]
  },
  {
   "cell_type": "markdown",
   "metadata": {
    "id": "rSWHmjlBW6Un"
   },
   "source": [
    "#### function return statement"
   ]
  },
  {
   "cell_type": "code",
   "execution_count": null,
   "metadata": {
    "colab": {
     "base_uri": "https://localhost:8080/"
    },
    "executionInfo": {
     "elapsed": 3,
     "status": "ok",
     "timestamp": 1684900511218,
     "user": {
      "displayName": "DSS DSS",
      "userId": "17636620013329168760"
     },
     "user_tz": -330
    },
    "id": "2PZfPW7MW__G",
    "outputId": "5135e21e-c7dd-403e-9533-950ec9da563a"
   },
   "outputs": [
    {
     "name": "stdout",
     "output_type": "stream",
     "text": [
      "10\n",
      "15\n",
      "25\n",
      "45\n"
     ]
    }
   ],
   "source": [
    "def multiplication_with_five(x):\n",
    "    return 5 * x\n",
    "\n",
    "a = multiplication_with_five(2)\n",
    "print(a)\n",
    "\n",
    "print(multiplication_with_five(3))\n",
    "print(multiplication_with_five(5))\n",
    "print(multiplication_with_five(9))"
   ]
  },
  {
   "cell_type": "markdown",
   "metadata": {},
   "source": [
    "#### returning multiple values"
   ]
  },
  {
   "cell_type": "code",
   "execution_count": 73,
   "metadata": {},
   "outputs": [
    {
     "name": "stdout",
     "output_type": "stream",
     "text": [
      "geeksforgeeks\n",
      "20\n"
     ]
    }
   ],
   "source": [
    "def fun():\n",
    "    str = \"geeksforgeeks\"\n",
    "    x = 20\n",
    "    return str, x # Return tuple, we could also write (str, x)\n",
    " \n",
    "# Driver code to test above method\n",
    "str, x = fun() # Assign returned tuple\n",
    "print(str)\n",
    "print(x)"
   ]
  },
  {
   "cell_type": "markdown",
   "metadata": {
    "id": "FNRUhIYnW-RQ"
   },
   "source": [
    "#### pass statement in function"
   ]
  },
  {
   "cell_type": "code",
   "execution_count": 75,
   "metadata": {
    "id": "27Y3KHQyXHH5"
   },
   "outputs": [],
   "source": [
    "def myfunction():\n",
    "    pass # IndentationError: expected an indented block\n",
    "\n",
    "# having an empty function definition like this, would raise an error without the pass statement"
   ]
  },
  {
   "cell_type": "markdown",
   "metadata": {
    "id": "T9Fq9ibzXE8a"
   },
   "source": [
    "#### recursion"
   ]
  },
  {
   "cell_type": "code",
   "execution_count": 79,
   "metadata": {
    "colab": {
     "base_uri": "https://localhost:8080/"
    },
    "executionInfo": {
     "elapsed": 1676,
     "status": "ok",
     "timestamp": 1684984041766,
     "user": {
      "displayName": "DSS DSS",
      "userId": "17636620013329168760"
     },
     "user_tz": -330
    },
    "id": "VF8jHjs7XJ20",
    "outputId": "bc32be0c-0295-4746-ec79-1ceff25bc769"
   },
   "outputs": [
    {
     "name": "stdout",
     "output_type": "stream",
     "text": [
      "Recursion Example Results\n",
      "1\n",
      "3\n",
      "6\n",
      "10\n",
      "15\n",
      "21\n"
     ]
    },
    {
     "data": {
      "text/plain": [
       "21"
      ]
     },
     "execution_count": 79,
     "metadata": {},
     "output_type": "execute_result"
    }
   ],
   "source": [
    "def tri_recursion(k):\n",
    "    if(k > 0):\n",
    "        result = k + tri_recursion(k - 1)\n",
    "        print(result)\n",
    "    else:\n",
    "        result = 0\n",
    "    return result\n",
    "\n",
    "print(\"Recursion Example Results\")\n",
    "tri_recursion(6) # 1+2+3+4+5+6"
   ]
  },
  {
   "cell_type": "code",
   "execution_count": 221,
   "metadata": {
    "id": "F_mzqxDM0qRk"
   },
   "outputs": [
    {
     "name": "stdout",
     "output_type": "stream",
     "text": [
      "The factorial of 7 is 5040\n"
     ]
    }
   ],
   "source": [
    "# factotial of a number using recursion\n",
    "def recur_factorial(n):\n",
    "     if n == 1:\n",
    "        return n\n",
    "     else:\n",
    "        return n*recur_factorial(n-1) # multiply\n",
    "\n",
    "num = 7\n",
    "\n",
    "# check if the number is negative\n",
    "if num < 0:\n",
    "    print(\"Sorry, factorial does not exist for negative numbers\")\n",
    "elif num == 0:\n",
    "    print(\"The factorial of 0 is 1\")\n",
    "else:\n",
    "    print(\"The factorial of\", num, \"is\", recur_factorial(num)) # 1*2*3*4*5*6*7"
   ]
  },
  {
   "cell_type": "markdown",
   "metadata": {},
   "source": [
    "#### Pass by Object Reference"
   ]
  },
  {
   "cell_type": "code",
   "execution_count": 157,
   "metadata": {},
   "outputs": [],
   "source": [
    "def ref_change(m): # a and m point to same loc\n",
    "    \n",
    "    print(m, id(m))\n",
    "    \n",
    "#     m = 'datascience'\n",
    "    m = 'python' # ref changed (original is not affected)\n",
    "    print(m, id(m))\n",
    "    \n",
    "    return m"
   ]
  },
  {
   "cell_type": "code",
   "execution_count": 158,
   "metadata": {},
   "outputs": [
    {
     "name": "stdout",
     "output_type": "stream",
     "text": [
      "datascience 2603495645104\n"
     ]
    }
   ],
   "source": [
    "a = 'datascience'\n",
    "print(a,id(a))"
   ]
  },
  {
   "cell_type": "code",
   "execution_count": 159,
   "metadata": {},
   "outputs": [
    {
     "name": "stdout",
     "output_type": "stream",
     "text": [
      "datascience 2603495645104\n",
      "python 2603425721584\n",
      "datascience 2603495645104\n"
     ]
    }
   ],
   "source": [
    "b = ref_change(a)\n",
    "print(a,id(a))"
   ]
  },
  {
   "cell_type": "code",
   "execution_count": 160,
   "metadata": {},
   "outputs": [],
   "source": [
    "# print(b,id(b))"
   ]
  },
  {
   "cell_type": "code",
   "execution_count": 161,
   "metadata": {},
   "outputs": [],
   "source": [
    "def ref_change(m): # a and m point to same loc\n",
    "    \n",
    "    print(m,id(m))\n",
    "    \n",
    "    m.append(4) # ref is not changed but value inside the ref is updated. \n",
    "                # so original list also gets updated in the same mem loc\n",
    "    print(m,id(m))\n",
    "    \n",
    "    return m"
   ]
  },
  {
   "cell_type": "code",
   "execution_count": 162,
   "metadata": {},
   "outputs": [
    {
     "name": "stdout",
     "output_type": "stream",
     "text": [
      "[1, 2, 3] 2603495580800\n"
     ]
    }
   ],
   "source": [
    "a = [1,2,3]\n",
    "print(a,id(a))"
   ]
  },
  {
   "cell_type": "code",
   "execution_count": 163,
   "metadata": {},
   "outputs": [
    {
     "name": "stdout",
     "output_type": "stream",
     "text": [
      "[1, 2, 3] 2603495580800\n",
      "[1, 2, 3, 4] 2603495580800\n",
      "[1, 2, 3, 4] 2603495580800\n"
     ]
    }
   ],
   "source": [
    "b = ref_change(a)\n",
    "print(a,id(a))"
   ]
  },
  {
   "cell_type": "code",
   "execution_count": 164,
   "metadata": {},
   "outputs": [],
   "source": [
    "def ref_change(m):\n",
    "    \n",
    "    print(m,id(m))\n",
    "    \n",
    "    m[3][0] = 40 # ref is not changed. value is changed. original also gets updated\n",
    "\n",
    "    print(m,id(m))\n",
    "    \n",
    "    return m"
   ]
  },
  {
   "cell_type": "code",
   "execution_count": 165,
   "metadata": {},
   "outputs": [
    {
     "name": "stdout",
     "output_type": "stream",
     "text": [
      "[1, 2, 3, [4, 5, 6]] 2603495855232\n"
     ]
    }
   ],
   "source": [
    "a = [1,2,3,[4,5,6]]\n",
    "print(a,id(a))"
   ]
  },
  {
   "cell_type": "code",
   "execution_count": 166,
   "metadata": {
    "scrolled": true
   },
   "outputs": [
    {
     "name": "stdout",
     "output_type": "stream",
     "text": [
      "[1, 2, 3, [4, 5, 6]] 2603495855232\n",
      "[1, 2, 3, [40, 5, 6]] 2603495855232\n",
      "[1, 2, 3, [40, 5, 6]] 2603495855232\n"
     ]
    }
   ],
   "source": [
    "b = ref_change(a)\n",
    "print(a,id(a))"
   ]
  },
  {
   "cell_type": "code",
   "execution_count": 167,
   "metadata": {},
   "outputs": [],
   "source": [
    "def ref_change(m):\n",
    "    \n",
    "    print(m,id(m))\n",
    "    \n",
    "    m = [1,2,3] # ref is changed. original is not affected\n",
    "    \n",
    "    print(m,id(m))\n",
    "    \n",
    "    return m"
   ]
  },
  {
   "cell_type": "code",
   "execution_count": 168,
   "metadata": {},
   "outputs": [
    {
     "name": "stdout",
     "output_type": "stream",
     "text": [
      "[1, 2, 3, [4, 5, 6]] 2603495711616\n"
     ]
    }
   ],
   "source": [
    "a = [1,2,3,[4,5,6]]\n",
    "print(a,id(a))"
   ]
  },
  {
   "cell_type": "code",
   "execution_count": 169,
   "metadata": {
    "scrolled": true
   },
   "outputs": [
    {
     "name": "stdout",
     "output_type": "stream",
     "text": [
      "[1, 2, 3, [4, 5, 6]] 2603495711616\n",
      "[1, 2, 3] 2603496648640\n",
      "[1, 2, 3, [4, 5, 6]] 2603495711616\n"
     ]
    }
   ],
   "source": [
    "b = ref_change(a)\n",
    "print(a,id(a))"
   ]
  },
  {
   "cell_type": "code",
   "execution_count": 177,
   "metadata": {},
   "outputs": [],
   "source": [
    "def ref_change(m):\n",
    "    \n",
    "    print(m,id(m))\n",
    "    m[0] = 10 # shallow copy -> 1st level element change. original doesnot affect\n",
    "    m[3][0] = 10 # shallow copy -> nested element ref is unchanged. original affects\n",
    "    print(m,id(m))\n",
    "    \n",
    "    \n",
    "    return m"
   ]
  },
  {
   "cell_type": "code",
   "execution_count": 178,
   "metadata": {},
   "outputs": [
    {
     "name": "stdout",
     "output_type": "stream",
     "text": [
      "[1, 2, 3, [4, 5, 6]] 2603466271680\n"
     ]
    }
   ],
   "source": [
    "a = [1,2,3,[4,5,6]]\n",
    "print(a,id(a))"
   ]
  },
  {
   "cell_type": "code",
   "execution_count": 179,
   "metadata": {
    "scrolled": true
   },
   "outputs": [
    {
     "name": "stdout",
     "output_type": "stream",
     "text": [
      "[1, 2, 3, [4, 5, 6]] 2603495724224\n",
      "[10, 2, 3, [10, 5, 6]] 2603495724224\n",
      "[1, 2, 3, [10, 5, 6]] 2603466271680\n"
     ]
    }
   ],
   "source": [
    "b = ref_change(a[:]) # shallow copy is passed.reference is changed. orignal will not be affected.\n",
    "print(a,id(a))"
   ]
  },
  {
   "cell_type": "code",
   "execution_count": 181,
   "metadata": {},
   "outputs": [],
   "source": [
    "def ref_change(m):\n",
    "    \n",
    "    print(m,id(m))\n",
    "    m = [10,20,30,[40,50]] # as, ref is changed. original is not affected\n",
    "    m[0] = 10 \n",
    "    m[3][0] = 10\n",
    "    print(m,id(m))\n",
    "    \n",
    "    return m"
   ]
  },
  {
   "cell_type": "code",
   "execution_count": 182,
   "metadata": {},
   "outputs": [
    {
     "name": "stdout",
     "output_type": "stream",
     "text": [
      "[1, 2, 3, [4, 5, 6]] 2603497120768\n"
     ]
    }
   ],
   "source": [
    "a = [1,2,3,[4,5,6]]\n",
    "print(a,id(a))"
   ]
  },
  {
   "cell_type": "code",
   "execution_count": 183,
   "metadata": {
    "scrolled": true
   },
   "outputs": [
    {
     "name": "stdout",
     "output_type": "stream",
     "text": [
      "[1, 2, 3, [4, 5, 6]] 2603497107136\n",
      "[10, 20, 30, [10, 50]] 2603496793088\n",
      "[1, 2, 3, [4, 5, 6]] 2603497120768\n"
     ]
    }
   ],
   "source": [
    "b = ref_change(a[:]) # shallow copy is passed.reference is changed. orignal will not be affected.\n",
    "print(a,id(a))"
   ]
  }
 ],
 "metadata": {
  "colab": {
   "provenance": []
  },
  "kernelspec": {
   "display_name": "Python 3 (ipykernel)",
   "language": "python",
   "name": "python3"
  },
  "language_info": {
   "codemirror_mode": {
    "name": "ipython",
    "version": 3
   },
   "file_extension": ".py",
   "mimetype": "text/x-python",
   "name": "python",
   "nbconvert_exporter": "python",
   "pygments_lexer": "ipython3",
   "version": "3.9.16"
  }
 },
 "nbformat": 4,
 "nbformat_minor": 1
}
