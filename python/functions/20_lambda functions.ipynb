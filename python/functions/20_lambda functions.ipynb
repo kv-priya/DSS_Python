{
 "cells": [
  {
   "cell_type": "markdown",
   "metadata": {
    "id": "oYcJdWKZNg2u"
   },
   "source": [
    "#### lamda functions with multiple parameters\n",
    "\n",
    "- single line functions\n",
    "- anonymous functions (no name)"
   ]
  },
  {
   "cell_type": "code",
   "execution_count": 4,
   "metadata": {
    "colab": {
     "base_uri": "https://localhost:8080/"
    },
    "executionInfo": {
     "elapsed": 3,
     "status": "ok",
     "timestamp": 1684900875349,
     "user": {
      "displayName": "DSS DSS",
      "userId": "17636620013329168760"
     },
     "user_tz": -330
    },
    "id": "suYDCwrr6QG6",
    "outputId": "39af3001-ad34-45ab-e8a6-e6178622204a"
   },
   "outputs": [
    {
     "name": "stdout",
     "output_type": "stream",
     "text": [
      "30\n"
     ]
    }
   ],
   "source": [
    "def multiplication_with_five(x):\n",
    "  return 5 * x # single line inside the function\n",
    "\n",
    "a = multiplication_with_five(6)\n",
    "print(a)"
   ]
  },
  {
   "cell_type": "code",
   "execution_count": 3,
   "metadata": {
    "colab": {
     "base_uri": "https://localhost:8080/"
    },
    "executionInfo": {
     "elapsed": 3,
     "status": "ok",
     "timestamp": 1684900812761,
     "user": {
      "displayName": "DSS DSS",
      "userId": "17636620013329168760"
     },
     "user_tz": -330
    },
    "id": "7rSS9lpEXOpS",
    "outputId": "bb9a574d-d163-4a02-ed65-1520ce3e33ca"
   },
   "outputs": [
    {
     "name": "stdout",
     "output_type": "stream",
     "text": [
      "30\n"
     ]
    }
   ],
   "source": [
    "# 1 parameter\n",
    "a = lambda x: 5 * x\n",
    "print(a(6))"
   ]
  },
  {
   "cell_type": "code",
   "execution_count": 5,
   "metadata": {
    "colab": {
     "base_uri": "https://localhost:8080/"
    },
    "executionInfo": {
     "elapsed": 435,
     "status": "ok",
     "timestamp": 1684900968438,
     "user": {
      "displayName": "DSS DSS",
      "userId": "17636620013329168760"
     },
     "user_tz": -330
    },
    "id": "YgGhjZgGXTBk",
    "outputId": "dc1a31ce-9dbc-4bf7-edf7-83bf264f0fd0"
   },
   "outputs": [
    {
     "name": "stdout",
     "output_type": "stream",
     "text": [
      "30\n"
     ]
    }
   ],
   "source": [
    "# 2 parameters\n",
    "x = lambda a, b: a * b\n",
    "print(x(5, 6))"
   ]
  },
  {
   "cell_type": "code",
   "execution_count": 6,
   "metadata": {
    "colab": {
     "base_uri": "https://localhost:8080/"
    },
    "executionInfo": {
     "elapsed": 2,
     "status": "ok",
     "timestamp": 1684901008812,
     "user": {
      "displayName": "DSS DSS",
      "userId": "17636620013329168760"
     },
     "user_tz": -330
    },
    "id": "Yd8yb02FXUDu",
    "outputId": "3d6fe3b9-3383-4512-ec8c-1b68bfa05678"
   },
   "outputs": [
    {
     "name": "stdout",
     "output_type": "stream",
     "text": [
      "13\n",
      "130\n"
     ]
    }
   ],
   "source": [
    "# 3 parameters\n",
    "x = lambda a, b, c: a + b + c\n",
    "print(x(5, 6, 2))\n",
    "print(x(50, 60, 20))"
   ]
  },
  {
   "cell_type": "markdown",
   "metadata": {
    "id": "IlbxsosTXW92"
   },
   "source": [
    "#### lambda function inside another function"
   ]
  },
  {
   "cell_type": "code",
   "execution_count": 12,
   "metadata": {
    "executionInfo": {
     "elapsed": 4,
     "status": "ok",
     "timestamp": 1684901170749,
     "user": {
      "displayName": "DSS DSS",
      "userId": "17636620013329168760"
     },
     "user_tz": -330
    },
    "id": "me2rjb2uXb9E"
   },
   "outputs": [],
   "source": [
    "def myfunc(n):\n",
    "  return lambda  a: a * n"
   ]
  },
  {
   "cell_type": "code",
   "execution_count": 13,
   "metadata": {
    "colab": {
     "base_uri": "https://localhost:8080/"
    },
    "executionInfo": {
     "elapsed": 3,
     "status": "ok",
     "timestamp": 1684901170749,
     "user": {
      "displayName": "DSS DSS",
      "userId": "17636620013329168760"
     },
     "user_tz": -330
    },
    "id": "9lllNs1BOZCp",
    "outputId": "6d9c22a1-5468-4e39-cb0d-71901068b7b7"
   },
   "outputs": [
    {
     "name": "stdout",
     "output_type": "stream",
     "text": [
      "22\n"
     ]
    }
   ],
   "source": [
    "mydoubler = myfunc(2) # n\n",
    "print(mydoubler(11)) # a"
   ]
  },
  {
   "cell_type": "code",
   "execution_count": 16,
   "metadata": {
    "colab": {
     "base_uri": "https://localhost:8080/"
    },
    "executionInfo": {
     "elapsed": 2,
     "status": "ok",
     "timestamp": 1684901233529,
     "user": {
      "displayName": "DSS DSS",
      "userId": "17636620013329168760"
     },
     "user_tz": -330
    },
    "id": "QinPLkDzXc_n",
    "outputId": "f37fd3f8-733c-4cd9-d670-a99db114edd7"
   },
   "outputs": [
    {
     "name": "stdout",
     "output_type": "stream",
     "text": [
      "33\n",
      "16\n",
      "24\n"
     ]
    }
   ],
   "source": [
    "mytripler = myfunc(3)\n",
    "print(mytripler(11))"
   ]
  },
  {
   "cell_type": "code",
   "execution_count": 17,
   "metadata": {
    "colab": {
     "base_uri": "https://localhost:8080/"
    },
    "executionInfo": {
     "elapsed": 2,
     "status": "ok",
     "timestamp": 1684901250653,
     "user": {
      "displayName": "DSS DSS",
      "userId": "17636620013329168760"
     },
     "user_tz": -330
    },
    "id": "WqOyVyLh8L09",
    "outputId": "5c789510-c994-446d-c624-a98bc0d415fd"
   },
   "outputs": [
    {
     "name": "stdout",
     "output_type": "stream",
     "text": [
      "16\n",
      "24\n"
     ]
    }
   ],
   "source": [
    "print(mydoubler(8))\n",
    "print(mytripler(8))"
   ]
  },
  {
   "cell_type": "markdown",
   "metadata": {
    "id": "5G3otNAqPeQp"
   },
   "source": [
    "#### nested lambda functions"
   ]
  },
  {
   "cell_type": "code",
   "execution_count": 29,
   "metadata": {
    "colab": {
     "base_uri": "https://localhost:8080/"
    },
    "executionInfo": {
     "elapsed": 6,
     "status": "ok",
     "timestamp": 1684901775918,
     "user": {
      "displayName": "DSS DSS",
      "userId": "17636620013329168760"
     },
     "user_tz": -330
    },
    "id": "EOGdYKdC8ayj",
    "outputId": "6677b8a3-edd6-46f5-b5cd-061af5b96f42"
   },
   "outputs": [
    {
     "name": "stdout",
     "output_type": "stream",
     "text": [
      "5\n"
     ]
    },
    {
     "data": {
      "text/plain": [
       "<function __main__.<lambda>.<locals>.<lambda>.<locals>.<lambda>(g)>"
      ]
     },
     "execution_count": 29,
     "metadata": {},
     "output_type": "execute_result"
    }
   ],
   "source": [
    "z = lambda a,b : a+b\n",
    "print(z(2,3))"
   ]
  },
  {
   "cell_type": "code",
   "execution_count": 30,
   "metadata": {
    "colab": {
     "base_uri": "https://localhost:8080/"
    },
    "executionInfo": {
     "elapsed": 4,
     "status": "ok",
     "timestamp": 1684901799308,
     "user": {
      "displayName": "DSS DSS",
      "userId": "17636620013329168760"
     },
     "user_tz": -330
    },
    "id": "wzHiQkc2Ohe5",
    "outputId": "8b2d62fc-a89e-418d-b739-8aef693414f7"
   },
   "outputs": [
    {
     "name": "stdout",
     "output_type": "stream",
     "text": [
      "<function <lambda>.<locals>.<lambda> at 0x7f58528dd630>\n"
     ]
    },
    {
     "data": {
      "text/plain": [
       "11"
      ]
     },
     "execution_count": 30,
     "metadata": {},
     "output_type": "execute_result"
    }
   ],
   "source": [
    "f = lambda a = 2, b = 3: (lambda c: a+b+c)\n",
    "print(f(5)) # incorrect\n",
    "a = f()\n",
    "a(6) # correct"
   ]
  },
  {
   "cell_type": "code",
   "execution_count": null,
   "metadata": {
    "id": "pUju-LrJPULT"
   },
   "outputs": [],
   "source": [
    "z = lambda a=2,b=3 : (lambda c : lambda g : a+b+c+g)\n",
    "y = z(4) \n",
    "e = y(7)\n",
    "e(8)"
   ]
  }
 ],
 "metadata": {
  "colab": {
   "provenance": []
  },
  "kernelspec": {
   "display_name": "Python 3 (ipykernel)",
   "language": "python",
   "name": "python3"
  },
  "language_info": {
   "codemirror_mode": {
    "name": "ipython",
    "version": 3
   },
   "file_extension": ".py",
   "mimetype": "text/x-python",
   "name": "python",
   "nbconvert_exporter": "python",
   "pygments_lexer": "ipython3",
   "version": "3.9.16"
  }
 },
 "nbformat": 4,
 "nbformat_minor": 1
}
