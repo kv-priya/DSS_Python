{
 "cells": [
  {
   "cell_type": "raw",
   "metadata": {
    "id": "CMpwqXAGOxnB"
   },
   "source": [
    "### Built in functions"
   ]
  },
  {
   "cell_type": "markdown",
   "metadata": {
    "id": "1T2KWAauO7GI"
   },
   "source": [
    "### abs()"
   ]
  },
  {
   "cell_type": "markdown",
   "metadata": {
    "id": "vcH1FjSZO7Ih"
   },
   "source": [
    "Returns the absolute value of a number"
   ]
  },
  {
   "cell_type": "code",
   "execution_count": null,
   "metadata": {
    "id": "mJGY3srUPD8d",
    "outputId": "5cc9d7cc-5ed4-497f-c196-864bdec0d423"
   },
   "outputs": [
    {
     "name": "stdout",
     "output_type": "stream",
     "text": [
      "7.25\n"
     ]
    }
   ],
   "source": [
    "x = abs(-7.25)\n",
    "print(x)"
   ]
  },
  {
   "cell_type": "code",
   "execution_count": null,
   "metadata": {
    "id": "Bp4grA36Smxr",
    "outputId": "c768d4cb-2014-4b8d-be47-d1edf4494313"
   },
   "outputs": [
    {
     "name": "stdout",
     "output_type": "stream",
     "text": [
      "5.830951894845301\n"
     ]
    }
   ],
   "source": [
    "x = abs(3+5j)\n",
    "print(x)"
   ]
  },
  {
   "cell_type": "markdown",
   "metadata": {
    "id": "GMRWZqwySw4J"
   },
   "source": [
    "### all()"
   ]
  },
  {
   "cell_type": "markdown",
   "metadata": {
    "id": "cwZ0tVfyTAsF"
   },
   "source": [
    "\tReturns True if all items in an iterable object are true"
   ]
  },
  {
   "cell_type": "code",
   "execution_count": null,
   "metadata": {
    "id": "OzJYTrmbTBbN",
    "outputId": "939b887e-5d5f-4cd7-d732-0949d5ce1afc"
   },
   "outputs": [
    {
     "name": "stdout",
     "output_type": "stream",
     "text": [
      "True\n"
     ]
    }
   ],
   "source": [
    "mylist = [True, True, True]\n",
    "x = all(mylist)\n",
    "print(x)"
   ]
  },
  {
   "cell_type": "code",
   "execution_count": null,
   "metadata": {
    "id": "bFWMxgNlTFs9",
    "outputId": "b617c843-0f13-4349-ef10-d0c301074e22"
   },
   "outputs": [
    {
     "name": "stdout",
     "output_type": "stream",
     "text": [
      "False\n"
     ]
    }
   ],
   "source": [
    "mylist = [0, 1, 1]\n",
    "x = all(mylist)\n",
    "print(x)\n",
    "\n",
    "# Returns False because 0 is the same as False"
   ]
  },
  {
   "cell_type": "code",
   "execution_count": null,
   "metadata": {
    "id": "Qzg17tZWTIRO",
    "outputId": "46e04430-66ff-412b-ae06-19e0e072be37"
   },
   "outputs": [
    {
     "name": "stdout",
     "output_type": "stream",
     "text": [
      "False\n"
     ]
    }
   ],
   "source": [
    "mytuple = (0, True, False)\n",
    "x = all(mytuple)\n",
    "print(x)\n",
    "\n",
    "# Returns False because both the first and the third items are False"
   ]
  },
  {
   "cell_type": "code",
   "execution_count": null,
   "metadata": {
    "id": "AwE6PXxtTJ9K",
    "outputId": "dfdb77cc-cddc-4ab4-d309-a4966889def4"
   },
   "outputs": [
    {
     "name": "stdout",
     "output_type": "stream",
     "text": [
      "False\n"
     ]
    }
   ],
   "source": [
    "myset = {0, 1, 0}\n",
    "x = all(myset)\n",
    "print(x)\n",
    "\n",
    "# Returns False because both the first and the third items are False"
   ]
  },
  {
   "cell_type": "code",
   "execution_count": null,
   "metadata": {
    "id": "8p06Ty4WTML6",
    "outputId": "bb42bfbc-9227-41e5-d134-cf75e6995ca7"
   },
   "outputs": [
    {
     "name": "stdout",
     "output_type": "stream",
     "text": [
      "False\n"
     ]
    }
   ],
   "source": [
    "mydict = {0 : \"Apple\", 1 : \"Orange\"}\n",
    "x = all(mydict)\n",
    "print(x)\n",
    "\n",
    "# Returns False because the first key is false.\n",
    "\n",
    "# For dictionaries the all() function checks the keys, not the values."
   ]
  },
  {
   "cell_type": "markdown",
   "metadata": {
    "id": "4zZpa_rPTQ7n"
   },
   "source": [
    "#### any()"
   ]
  },
  {
   "cell_type": "markdown",
   "metadata": {
    "id": "8zHBisxMTSl0"
   },
   "source": [
    "Returns True if any item in an iterable object is true"
   ]
  },
  {
   "cell_type": "code",
   "execution_count": null,
   "metadata": {
    "id": "0gAxp4rNTfIJ",
    "outputId": "3b29014d-250e-4221-eacf-8720a6f81fc8"
   },
   "outputs": [
    {
     "name": "stdout",
     "output_type": "stream",
     "text": [
      "True\n"
     ]
    }
   ],
   "source": [
    "mylist = [False, True, False]\n",
    "x = any(mylist)\n",
    "print(x)"
   ]
  },
  {
   "cell_type": "code",
   "execution_count": null,
   "metadata": {
    "id": "DvRnnZY7ThKp",
    "outputId": "57dcbf04-47a5-40b3-f62d-8ecbebe953b1"
   },
   "outputs": [
    {
     "name": "stdout",
     "output_type": "stream",
     "text": [
      "True\n"
     ]
    }
   ],
   "source": [
    "mylist = [False, True, False]\n",
    "x = any(mylist)\n",
    "print(x)"
   ]
  },
  {
   "cell_type": "code",
   "execution_count": null,
   "metadata": {
    "id": "q-6sB_MeTinh",
    "outputId": "e63534a9-6290-4aa2-dde9-4e196a5be249"
   },
   "outputs": [
    {
     "name": "stdout",
     "output_type": "stream",
     "text": [
      "True\n"
     ]
    }
   ],
   "source": [
    "mytuple = (0, 1, False)\n",
    "x = any(mytuple)\n",
    "print(x)\n",
    "\n",
    "# Returns True because the second item is True"
   ]
  },
  {
   "cell_type": "code",
   "execution_count": null,
   "metadata": {
    "id": "NVnrHIemTkFY",
    "outputId": "d4b3a5ea-94e3-40b1-802b-8d9b51a40115"
   },
   "outputs": [
    {
     "name": "stdout",
     "output_type": "stream",
     "text": [
      "True\n"
     ]
    }
   ],
   "source": [
    "myset = {0, 1, 0}\n",
    "x = any(myset)\n",
    "print(x)\n",
    "\n",
    "# Returns True because the second item is True"
   ]
  },
  {
   "cell_type": "code",
   "execution_count": null,
   "metadata": {
    "id": "Je9VHBiKTl4c",
    "outputId": "50be2e57-d48e-4f7c-d12c-c66e752a554e"
   },
   "outputs": [
    {
     "name": "stdout",
     "output_type": "stream",
     "text": [
      "True\n"
     ]
    }
   ],
   "source": [
    "mydict = {0 : \"Apple\", 1 : \"Orange\"}\n",
    "x = any(mydict)\n",
    "print(x)\n",
    "\n",
    "# Returns True because the second key is True.\n",
    "\n",
    "# For dictionaries the any() function checks the keys, not the values."
   ]
  },
  {
   "cell_type": "markdown",
   "metadata": {
    "id": "4msGlGycTrhn"
   },
   "source": [
    "#### ascii()"
   ]
  },
  {
   "cell_type": "markdown",
   "metadata": {
    "id": "xPas_EuSTs-G"
   },
   "source": [
    "Returns a readable version of an object. Replaces none-ascii characters with escape character"
   ]
  },
  {
   "cell_type": "code",
   "execution_count": null,
   "metadata": {
    "id": "yqMhaWhET3t_",
    "outputId": "1895240e-b9c7-455e-9b19-f88d6edfc8ab"
   },
   "outputs": [
    {
     "name": "stdout",
     "output_type": "stream",
     "text": [
      "'My name is St\\xe5le'\n"
     ]
    }
   ],
   "source": [
    "x = ascii(\"My name is Ståle\")\n",
    "print(x)  "
   ]
  },
  {
   "cell_type": "markdown",
   "metadata": {
    "id": "4HAKR87BT8sv"
   },
   "source": [
    "#### bin()"
   ]
  },
  {
   "cell_type": "markdown",
   "metadata": {
    "id": "BIY-YhXrT_On"
   },
   "source": [
    "Returns the binary version of a number"
   ]
  },
  {
   "cell_type": "code",
   "execution_count": null,
   "metadata": {
    "id": "ApAXkXpTUCVT",
    "outputId": "0586ce7a-6ce6-49ea-e9e4-7cf6a6c1a85c"
   },
   "outputs": [
    {
     "name": "stdout",
     "output_type": "stream",
     "text": [
      "0b100100\n"
     ]
    }
   ],
   "source": [
    "x = bin(36)\n",
    "print(x)\n",
    "\n",
    "# The result will always have the prefix 0b"
   ]
  },
  {
   "cell_type": "markdown",
   "metadata": {
    "id": "ODBKEV1eUOU9"
   },
   "source": [
    "#### bool()"
   ]
  },
  {
   "cell_type": "markdown",
   "metadata": {
    "id": "HX4g1Jk4UTTz"
   },
   "source": [
    "Returns the boolean value of the specified object"
   ]
  },
  {
   "cell_type": "code",
   "execution_count": null,
   "metadata": {
    "id": "Kb6KTitGUbG2",
    "outputId": "b4a08017-f437-4f48-dae4-d885b6c1ef0b"
   },
   "outputs": [
    {
     "name": "stdout",
     "output_type": "stream",
     "text": [
      "True\n"
     ]
    }
   ],
   "source": [
    "x = bool(1)\n",
    "print(x)"
   ]
  },
  {
   "cell_type": "markdown",
   "metadata": {
    "id": "35gapWijUdlB"
   },
   "source": [
    "#### bytearray()"
   ]
  },
  {
   "cell_type": "markdown",
   "metadata": {
    "id": "4xjFmnGNUiJU"
   },
   "source": [
    "Returns an array of bytes"
   ]
  },
  {
   "cell_type": "code",
   "execution_count": null,
   "metadata": {
    "id": "9JMKsac9Uo9f",
    "outputId": "b6f2f046-6468-4f7b-f89b-ae0656ca9d82"
   },
   "outputs": [
    {
     "name": "stdout",
     "output_type": "stream",
     "text": [
      "bytearray(b'\\x00\\x00\\x00\\x00')\n"
     ]
    }
   ],
   "source": [
    "x = bytearray(4)\n",
    "print(x)"
   ]
  },
  {
   "cell_type": "markdown",
   "metadata": {
    "id": "XcuNRXptUr4J"
   },
   "source": [
    "#### bytes()"
   ]
  },
  {
   "cell_type": "markdown",
   "metadata": {
    "id": "9amlT2_GUvoM"
   },
   "source": [
    "Returns a bytes object"
   ]
  },
  {
   "cell_type": "code",
   "execution_count": null,
   "metadata": {
    "id": "tPI7s8tpU1fB",
    "outputId": "7d911d60-7dde-4d6d-83fe-7e3ad5338c76"
   },
   "outputs": [
    {
     "name": "stdout",
     "output_type": "stream",
     "text": [
      "b'\\x00\\x00\\x00\\x00'\n"
     ]
    }
   ],
   "source": [
    "x = bytes(4)\n",
    "print(x)"
   ]
  },
  {
   "cell_type": "markdown",
   "metadata": {
    "id": "VNvtRuzsU4oi"
   },
   "source": [
    "#### callable()"
   ]
  },
  {
   "cell_type": "markdown",
   "metadata": {
    "id": "WeO1PLoGU9a0"
   },
   "source": [
    "Returns True if the specified object is callable, otherwise False"
   ]
  },
  {
   "cell_type": "code",
   "execution_count": null,
   "metadata": {
    "id": "H4v1sdPVVDBP",
    "outputId": "7b316da6-f1fb-4471-8641-925cf546ab4c"
   },
   "outputs": [
    {
     "name": "stdout",
     "output_type": "stream",
     "text": [
      "True\n"
     ]
    }
   ],
   "source": [
    "def x():\n",
    "  a = 5\n",
    "\n",
    "print(callable(x))"
   ]
  },
  {
   "cell_type": "code",
   "execution_count": null,
   "metadata": {
    "id": "UCMzZYlaVEsF",
    "outputId": "9bfcb083-1041-44f1-acfa-be3b09434752"
   },
   "outputs": [
    {
     "name": "stdout",
     "output_type": "stream",
     "text": [
      "False\n"
     ]
    }
   ],
   "source": [
    "x = 5\n",
    "\n",
    "print(callable(x))"
   ]
  },
  {
   "cell_type": "markdown",
   "metadata": {
    "id": "rdK2YoefVHDa"
   },
   "source": [
    "#### chr()"
   ]
  },
  {
   "cell_type": "markdown",
   "metadata": {
    "id": "8PF9PhhmVKV9"
   },
   "source": [
    "Returns a character from the specified Unicode code."
   ]
  },
  {
   "cell_type": "code",
   "execution_count": null,
   "metadata": {
    "id": "a4WVcqcrVK_Z",
    "outputId": "a7a0b3d7-c306-445a-91b7-27f6cc2b0a49"
   },
   "outputs": [
    {
     "name": "stdout",
     "output_type": "stream",
     "text": [
      "a\n"
     ]
    }
   ],
   "source": [
    "x = chr(97)\n",
    "\n",
    "print(x)"
   ]
  },
  {
   "cell_type": "markdown",
   "metadata": {
    "id": "g2A6apkpVSCy"
   },
   "source": [
    "#### classmethod()"
   ]
  },
  {
   "cell_type": "markdown",
   "metadata": {
    "id": "4zF-R4EXVVt_"
   },
   "source": [
    "Converts a method into a class method"
   ]
  },
  {
   "cell_type": "markdown",
   "metadata": {
    "id": "i4E-mHliVaLf"
   },
   "source": [
    "#### compile()"
   ]
  },
  {
   "cell_type": "markdown",
   "metadata": {
    "id": "4u1sCJ5VViFi"
   },
   "source": [
    "Returns the specified source as an object, ready to be executed"
   ]
  },
  {
   "cell_type": "code",
   "execution_count": null,
   "metadata": {
    "id": "Fq4KoG8zVmsh",
    "outputId": "ec3a4a09-1650-4e35-fd79-b248fdb43bdc"
   },
   "outputs": [
    {
     "name": "stdout",
     "output_type": "stream",
     "text": [
      "55\n"
     ]
    }
   ],
   "source": [
    "x = compile('print(55)', 'test', 'eval')\n",
    "exec(x)"
   ]
  },
  {
   "cell_type": "code",
   "execution_count": null,
   "metadata": {
    "id": "plgKAKubVobx",
    "outputId": "02c1038b-c16d-42f4-d363-3a46dc215f50"
   },
   "outputs": [
    {
     "name": "stdout",
     "output_type": "stream",
     "text": [
      "55\n",
      "88\n"
     ]
    }
   ],
   "source": [
    "x = compile('print(55)\\nprint(88)', 'test', 'exec')\n",
    "exec(x)"
   ]
  },
  {
   "cell_type": "markdown",
   "metadata": {
    "id": "0iOBW0ILVq0n"
   },
   "source": [
    "#### compile()"
   ]
  },
  {
   "cell_type": "markdown",
   "metadata": {
    "id": "-RMxGqhHVtyn"
   },
   "source": [
    "Returns the specified source as an object, ready to be executed"
   ]
  },
  {
   "cell_type": "code",
   "execution_count": null,
   "metadata": {
    "id": "sAsSifMqV64u",
    "outputId": "bd0f4d05-b7dd-4bed-a4c6-130747390bbd"
   },
   "outputs": [
    {
     "name": "stdout",
     "output_type": "stream",
     "text": [
      "55\n"
     ]
    }
   ],
   "source": [
    "x = compile('print(55)', 'test', 'eval')\n",
    "exec(x)"
   ]
  },
  {
   "cell_type": "code",
   "execution_count": null,
   "metadata": {
    "id": "b--0fxUmV88v",
    "outputId": "878e2387-a0d2-499b-9d1d-7670ca0b901e"
   },
   "outputs": [
    {
     "name": "stdout",
     "output_type": "stream",
     "text": [
      "55\n",
      "88\n"
     ]
    }
   ],
   "source": [
    "x = compile('print(55)\\nprint(88)', 'test', 'exec')\n",
    "exec(x)"
   ]
  },
  {
   "cell_type": "markdown",
   "metadata": {
    "id": "6qkTxY0jWBG3"
   },
   "source": [
    "#### delattr("
   ]
  },
  {
   "cell_type": "markdown",
   "metadata": {
    "id": "E4HnI_wdWFyL"
   },
   "source": [
    "Deletes the specified attribute (property or method) from the specified object"
   ]
  },
  {
   "cell_type": "code",
   "execution_count": null,
   "metadata": {
    "id": "OrcHaFz_WGe5"
   },
   "outputs": [],
   "source": [
    "class Person:\n",
    "  name = \"John\"\n",
    "  age = 36\n",
    "  country = \"Norway\"\n",
    "\n",
    "delattr(Person, 'age')\n",
    "\n",
    "# The Person object will no longer contain an \"age\" property"
   ]
  },
  {
   "cell_type": "markdown",
   "metadata": {
    "id": "KzZCTn9QWOWO"
   },
   "source": [
    "#### dict()"
   ]
  },
  {
   "cell_type": "markdown",
   "metadata": {
    "id": "wPbuKf79WSLM"
   },
   "source": [
    "Returns a dictionary (Array)"
   ]
  },
  {
   "cell_type": "code",
   "execution_count": null,
   "metadata": {
    "id": "1lDZNsoRWX8x",
    "outputId": "5cf2c054-c0cf-47cf-c718-349f4c1b9f87"
   },
   "outputs": [
    {
     "name": "stdout",
     "output_type": "stream",
     "text": [
      "{'name': 'John', 'age': 36, 'country': 'Norway'}\n"
     ]
    }
   ],
   "source": [
    "x = dict(name = \"John\", age = 36, country = \"Norway\")\n",
    "\n",
    "print(x)"
   ]
  },
  {
   "cell_type": "markdown",
   "metadata": {
    "id": "gpufHtkjWc1B"
   },
   "source": [
    "#### dir()"
   ]
  },
  {
   "cell_type": "markdown",
   "metadata": {
    "id": "ULLBBKfVWgD0"
   },
   "source": [
    "Returns a list of the specified object's properties and methods"
   ]
  },
  {
   "cell_type": "code",
   "execution_count": null,
   "metadata": {
    "id": "cVNAybwbWgkP",
    "outputId": "fa78da64-1400-4005-d2a0-e6f466472de1"
   },
   "outputs": [
    {
     "name": "stdout",
     "output_type": "stream",
     "text": [
      "['__class__', '__delattr__', '__dict__', '__dir__', '__doc__', '__eq__', '__format__', '__ge__', '__getattribute__', '__gt__', '__hash__', '__init__', '__init_subclass__', '__le__', '__lt__', '__module__', '__ne__', '__new__', '__reduce__', '__reduce_ex__', '__repr__', '__setattr__', '__sizeof__', '__str__', '__subclasshook__', '__weakref__', 'age', 'country', 'name']\n"
     ]
    }
   ],
   "source": [
    "class Person:\n",
    "  name = \"John\"\n",
    "  age = 36\n",
    "  country = \"Norway\"\n",
    "\n",
    "print(dir(Person))"
   ]
  },
  {
   "cell_type": "markdown",
   "metadata": {
    "id": "hT6jhTZRWl5V"
   },
   "source": [
    "#### divmod()"
   ]
  },
  {
   "cell_type": "markdown",
   "metadata": {
    "id": "rVeds1uZWp1m"
   },
   "source": [
    "Returns the quotient and the remainder when argument1 is divided by argument2"
   ]
  },
  {
   "cell_type": "code",
   "execution_count": null,
   "metadata": {
    "id": "vNZA5KD-WqdO",
    "outputId": "bd8f16d1-05ce-4eab-84d6-5002863a3e6d"
   },
   "outputs": [
    {
     "name": "stdout",
     "output_type": "stream",
     "text": [
      "(2, 1)\n"
     ]
    }
   ],
   "source": [
    "x = divmod(5, 2)\n",
    "\n",
    "print(x)"
   ]
  },
  {
   "cell_type": "markdown",
   "metadata": {
    "id": "937ASfhmWx9o"
   },
   "source": [
    "#### enumerate()"
   ]
  },
  {
   "cell_type": "markdown",
   "metadata": {
    "id": "9Jvc5QfjW6Kb"
   },
   "source": [
    "Takes a collection (e.g. a tuple) and returns it as an enumerate object"
   ]
  },
  {
   "cell_type": "code",
   "execution_count": null,
   "metadata": {
    "id": "TBoX3iOLW-yH",
    "outputId": "d151de38-49ec-420a-f3d6-4d3baf02b08a"
   },
   "outputs": [
    {
     "name": "stdout",
     "output_type": "stream",
     "text": [
      "[(0, 'apple'), (1, 'banana'), (2, 'cherry')]\n"
     ]
    }
   ],
   "source": [
    "x = ('apple', 'banana', 'cherry')\n",
    "y = enumerate(x)\n",
    "\n",
    "print(list(y))"
   ]
  },
  {
   "cell_type": "code",
   "execution_count": null,
   "metadata": {
    "id": "5oglxMiR5xqQ",
    "outputId": "0c93cbb8-63f2-41c6-ac57-81486023c560"
   },
   "outputs": [
    {
     "name": "stdout",
     "output_type": "stream",
     "text": [
      "0 The\n",
      "1 Big\n",
      "2 Bang\n",
      "3 Theory\n"
     ]
    }
   ],
   "source": [
    "for key, value in enumerate(['The', 'Big', 'Bang', 'Theory']):\n",
    "    print(key, value)"
   ]
  },
  {
   "cell_type": "markdown",
   "metadata": {
    "id": "S4auff9EXCzn"
   },
   "source": [
    "#### eval()"
   ]
  },
  {
   "cell_type": "markdown",
   "metadata": {
    "id": "-_Ys3CJmXGYb"
   },
   "source": [
    "Evaluates and executes an expression"
   ]
  },
  {
   "cell_type": "code",
   "execution_count": null,
   "metadata": {
    "id": "z7CFRSRdXLyg",
    "outputId": "a76bb4ed-d5bb-4342-c09d-2bf5b7c31deb"
   },
   "outputs": [
    {
     "name": "stdout",
     "output_type": "stream",
     "text": [
      "55\n"
     ]
    }
   ],
   "source": [
    "x = 'print(55)'\n",
    "eval(x)"
   ]
  },
  {
   "cell_type": "markdown",
   "metadata": {
    "id": "dxPVVkKzXTqU"
   },
   "source": [
    "#### exec()"
   ]
  },
  {
   "cell_type": "markdown",
   "metadata": {
    "id": "IKrudBsQXY-2"
   },
   "source": [
    "Executes the specified code (or object)"
   ]
  },
  {
   "cell_type": "code",
   "execution_count": null,
   "metadata": {
    "id": "KsewntuAXYD_",
    "outputId": "ecd07804-d95d-47ef-9c04-93dbdd10882a"
   },
   "outputs": [
    {
     "name": "stdout",
     "output_type": "stream",
     "text": [
      "John\n"
     ]
    }
   ],
   "source": [
    "x = 'name = \"John\"\\nprint(name)'\n",
    "exec(x)"
   ]
  },
  {
   "cell_type": "markdown",
   "metadata": {
    "id": "pnAgTQvDXcc-"
   },
   "source": [
    "#### filter()"
   ]
  },
  {
   "cell_type": "markdown",
   "metadata": {
    "id": "BkO6okSJXhoh"
   },
   "source": [
    "Use a filter function to exclude items in an iterable object"
   ]
  },
  {
   "cell_type": "code",
   "execution_count": null,
   "metadata": {
    "id": "srkPq6HiXmtL",
    "outputId": "eeeb964c-9338-4c21-8f8f-42fa5091ce47"
   },
   "outputs": [
    {
     "name": "stdout",
     "output_type": "stream",
     "text": [
      "18\n",
      "24\n",
      "32\n"
     ]
    }
   ],
   "source": [
    "ages = [5, 12, 17, 18, 24, 32]\n",
    "\n",
    "def myFunc(x):\n",
    "  if x < 18:\n",
    "    return False\n",
    "  else:\n",
    "    return True\n",
    "\n",
    "adults = filter(myFunc, ages)\n",
    "\n",
    "for x in adults:\n",
    "  print(x)"
   ]
  },
  {
   "cell_type": "markdown",
   "metadata": {
    "id": "Ut3yTo-FXpb4"
   },
   "source": [
    "#### float()"
   ]
  },
  {
   "cell_type": "markdown",
   "metadata": {
    "id": "F_-5-oLdXrRf"
   },
   "source": [
    "Returns a floating point number"
   ]
  },
  {
   "cell_type": "code",
   "execution_count": null,
   "metadata": {
    "id": "0iEmav8MX0xw",
    "outputId": "e30f45dc-88ca-4fc0-b065-397c3ec1a702"
   },
   "outputs": [
    {
     "name": "stdout",
     "output_type": "stream",
     "text": [
      "3.0\n"
     ]
    }
   ],
   "source": [
    "x = float(3)\n",
    "\n",
    "print(x)"
   ]
  },
  {
   "cell_type": "code",
   "execution_count": null,
   "metadata": {
    "id": "cw-5dAmWX25Y",
    "outputId": "9ce424d5-800f-4b4d-f52b-f25797cc1f1a"
   },
   "outputs": [
    {
     "name": "stdout",
     "output_type": "stream",
     "text": [
      "3.5\n"
     ]
    }
   ],
   "source": [
    "x = float(\"3.500\")\n",
    "\n",
    "print(x)"
   ]
  },
  {
   "cell_type": "markdown",
   "metadata": {
    "id": "dKscOnmDX55-"
   },
   "source": [
    "#### format()"
   ]
  },
  {
   "cell_type": "markdown",
   "metadata": {
    "id": "4ekj9In7X7nV"
   },
   "source": [
    "Formats a specified value"
   ]
  },
  {
   "cell_type": "code",
   "execution_count": null,
   "metadata": {
    "id": "Ch67GmlrYBzt",
    "outputId": "502e4f58-0035-4c91-f572-d7f7bf6dfa36"
   },
   "outputs": [
    {
     "name": "stdout",
     "output_type": "stream",
     "text": [
      "50.000000%\n"
     ]
    }
   ],
   "source": [
    "x = format(0.5, '%')\n",
    "\n",
    "print(x)"
   ]
  },
  {
   "cell_type": "code",
   "execution_count": null,
   "metadata": {
    "id": "a_FopgCdYDZK",
    "outputId": "7bc1abbd-3ba7-4948-db01-b2bd9040e80e"
   },
   "outputs": [
    {
     "name": "stdout",
     "output_type": "stream",
     "text": [
      "ff\n"
     ]
    }
   ],
   "source": [
    "x = format(255, 'x')\n",
    "\n",
    "print(x)"
   ]
  },
  {
   "cell_type": "markdown",
   "metadata": {
    "id": "0LZ0zX3iYGO_"
   },
   "source": [
    "#### frozenset()"
   ]
  },
  {
   "cell_type": "markdown",
   "metadata": {
    "id": "9GEDljSjYIlN"
   },
   "source": [
    "Returns a frozenset object"
   ]
  },
  {
   "cell_type": "code",
   "execution_count": null,
   "metadata": {
    "id": "s37QD9s1YLbc",
    "outputId": "d4d93656-ae15-4fa9-814d-d4fb9e74c896"
   },
   "outputs": [
    {
     "name": "stdout",
     "output_type": "stream",
     "text": [
      "frozenset({'cherry', 'apple', 'banana'})\n"
     ]
    }
   ],
   "source": [
    "mylist = ['apple', 'banana', 'cherry']\n",
    "x = frozenset(mylist)\n",
    "print(x)"
   ]
  },
  {
   "cell_type": "code",
   "execution_count": null,
   "metadata": {
    "id": "iqLSm7LJYWPa"
   },
   "outputs": [],
   "source": [
    "# x[1] = \"strawberry\" # TypeError: 'frozenset' object does not support item assignment"
   ]
  },
  {
   "cell_type": "markdown",
   "metadata": {
    "id": "lK4szWHsUuSz"
   },
   "source": [
    "#### getattr()"
   ]
  },
  {
   "cell_type": "markdown",
   "metadata": {
    "id": "fbqzAAW6VLLr"
   },
   "source": [
    "Returns the value of the specified attribute (property or method)class Person:\n",
    "  name = \"John\"\n",
    "  age = 36\n",
    "  country = \"Norway\"\n",
    "\n",
    "x = getattr(Person, 'age')\n",
    "\n",
    "print(x)"
   ]
  },
  {
   "cell_type": "code",
   "execution_count": null,
   "metadata": {
    "id": "7HG2Qj9lVYmK",
    "outputId": "21ff4f45-bf37-4f26-e972-30c14f9c298f"
   },
   "outputs": [
    {
     "name": "stdout",
     "output_type": "stream",
     "text": [
      "my message\n"
     ]
    }
   ],
   "source": [
    "class Person:\n",
    "  name = \"John\"\n",
    "  age = 36\n",
    "  country = \"Norway\"\n",
    "\n",
    "x = getattr(Person, 'page', 'my message')\n",
    "\n",
    "print(x)"
   ]
  },
  {
   "cell_type": "markdown",
   "metadata": {
    "id": "U5SnDSYnUtvh"
   },
   "source": [
    "#### globals()"
   ]
  },
  {
   "cell_type": "markdown",
   "metadata": {
    "id": "NyBEjnxUYsVw"
   },
   "source": [
    "Returns the current global symbol table as a dictionaryReturns the current global symbol table as a dictionary"
   ]
  },
  {
   "cell_type": "code",
   "execution_count": 25,
   "metadata": {
    "id": "UJdHea5tVo0u",
    "outputId": "2a8a6afa-9aa0-4a99-ebac-a14bc3ce217a"
   },
   "outputs": [],
   "source": [
    "x = globals()\n",
    "# print(x)"
   ]
  },
  {
   "cell_type": "markdown",
   "metadata": {
    "id": "dPqOz5kAVs2k"
   },
   "source": [
    "#### hasattr()"
   ]
  },
  {
   "cell_type": "code",
   "execution_count": null,
   "metadata": {
    "id": "4sGgRlww5xqY"
   },
   "outputs": [],
   "source": []
  },
  {
   "cell_type": "markdown",
   "metadata": {
    "id": "bf_snvB_VyPK"
   },
   "source": [
    "Returns True if the specified object has the specified attribute (property/method)"
   ]
  },
  {
   "cell_type": "code",
   "execution_count": null,
   "metadata": {
    "id": "zpeD2de_VzBW",
    "outputId": "e3f5c4b9-4604-43d4-d3f6-b96c869312d9"
   },
   "outputs": [
    {
     "name": "stdout",
     "output_type": "stream",
     "text": [
      "True\n"
     ]
    }
   ],
   "source": [
    "class Person:\n",
    "  name = \"John\"\n",
    "  age = 36\n",
    "  country = \"Norway\"\n",
    "\n",
    "x = hasattr(Person, 'age')\n",
    "\n",
    "print(x)"
   ]
  },
  {
   "cell_type": "markdown",
   "metadata": {
    "id": "-KKmhHsMV6g6"
   },
   "source": [
    "#### hash()"
   ]
  },
  {
   "cell_type": "markdown",
   "metadata": {
    "id": "hR2nmd_DV9RT"
   },
   "source": [
    "- Returns the hash value of a specified object if present\n",
    "- The hash value is an integer which is used to quickly compare dictionary keys while looking at a dictionary."
   ]
  },
  {
   "cell_type": "code",
   "execution_count": 12,
   "metadata": {},
   "outputs": [
    {
     "name": "stdout",
     "output_type": "stream",
     "text": [
      "The integer hash value is : 4\n",
      "The string hash value is : 1944295142452769063\n",
      "The float hash value is : 1291272085159665688\n"
     ]
    }
   ],
   "source": [
    "int_val = 4\n",
    "str_val = 'Python'\n",
    "flt_val = 24.56\n",
    " \n",
    "# Notice Integer value doesn't change\n",
    "print(\"The integer hash value is : \" + str(hash(int_val)))\n",
    "print(\"The string hash value is : \" + str(hash(str_val)))\n",
    "print(\"The float hash value is : \" + str(hash(flt_val)))"
   ]
  },
  {
   "cell_type": "code",
   "execution_count": 11,
   "metadata": {},
   "outputs": [
    {
     "name": "stdout",
     "output_type": "stream",
     "text": [
      "The tuple hash value is : -5659871693760987716\n"
     ]
    }
   ],
   "source": [
    "# tuple are immutable\n",
    "tuple_val = (1, 2, 3, 4, 5)\n",
    " \n",
    "# list are mutable\n",
    "list_val = [1, 2, 3, 4, 5]\n",
    " \n",
    "# Notice exception when trying to convert mutable object\n",
    "print(\"The tuple hash value is : \" + str(hash(tuple_val)))\n",
    "# print(\"The list hash value is : \" + str(hash(list_val))) # TypeError: unhashable type: 'list'"
   ]
  },
  {
   "cell_type": "markdown",
   "metadata": {
    "id": "xnXb826vWAkB"
   },
   "source": [
    "#### help()"
   ]
  },
  {
   "cell_type": "markdown",
   "metadata": {
    "id": "dTa9LbMzWDcE"
   },
   "source": [
    "Executes the built-in help system"
   ]
  },
  {
   "cell_type": "code",
   "execution_count": 1,
   "metadata": {},
   "outputs": [
    {
     "name": "stdout",
     "output_type": "stream",
     "text": [
      "Help on built-in function print in module builtins:\n",
      "\n",
      "print(...)\n",
      "    print(value, ..., sep=' ', end='\\n', file=sys.stdout, flush=False)\n",
      "    \n",
      "    Prints the values to a stream, or to sys.stdout by default.\n",
      "    Optional keyword arguments:\n",
      "    file:  a file-like object (stream); defaults to the current sys.stdout.\n",
      "    sep:   string inserted between values, default a space.\n",
      "    end:   string appended after the last value, default a newline.\n",
      "    flush: whether to forcibly flush the stream.\n",
      "\n"
     ]
    }
   ],
   "source": [
    "help(print)"
   ]
  },
  {
   "cell_type": "markdown",
   "metadata": {
    "id": "yDUM1gOeWEzR"
   },
   "source": [
    "#### hex()"
   ]
  },
  {
   "cell_type": "markdown",
   "metadata": {
    "id": "gHDcmoV4WIbO"
   },
   "source": [
    "Converts a number into a hexadecimal value"
   ]
  },
  {
   "cell_type": "code",
   "execution_count": null,
   "metadata": {
    "id": "ZPITyPDHWMD6",
    "outputId": "c5048c21-449a-44ca-d33c-e49dd7240a7d"
   },
   "outputs": [
    {
     "name": "stdout",
     "output_type": "stream",
     "text": [
      "0xff\n"
     ]
    }
   ],
   "source": [
    "x = hex(255)\n",
    "print(x)"
   ]
  },
  {
   "cell_type": "markdown",
   "metadata": {
    "id": "vnc2mAiZWO6d"
   },
   "source": [
    "#### id()"
   ]
  },
  {
   "cell_type": "code",
   "execution_count": null,
   "metadata": {
    "id": "DUvpLAytWTbs",
    "outputId": "9ce6a3ac-7fe8-43f6-ac8e-c04f9bb1d06c"
   },
   "outputs": [
    {
     "name": "stdout",
     "output_type": "stream",
     "text": [
      "2020774939328\n"
     ]
    }
   ],
   "source": [
    "x = ('apple', 'banana', 'cherry')\n",
    "y = id(x)\n",
    "print(y)\n",
    "\n",
    "# This value is the memory address of the object and will be different every time you run the program"
   ]
  },
  {
   "cell_type": "markdown",
   "metadata": {
    "id": "-mshPv3-WXrj"
   },
   "source": [
    "#### input()"
   ]
  },
  {
   "cell_type": "markdown",
   "metadata": {
    "id": "9aCqwFGPWaHE"
   },
   "source": [
    "\tAllowing user input"
   ]
  },
  {
   "cell_type": "code",
   "execution_count": 15,
   "metadata": {
    "id": "0zffn_4IWfJk",
    "outputId": "370987c7-fca2-485d-bdd2-f750aaf543e6"
   },
   "outputs": [
    {
     "name": "stdout",
     "output_type": "stream",
     "text": [
      "Enter your name:\n",
      "name\n",
      "Hello, name <class 'str'>\n"
     ]
    }
   ],
   "source": [
    "print(\"Enter your name:\")\n",
    "x = input()\n",
    "print(\"Hello, \" + x, type(x))"
   ]
  },
  {
   "cell_type": "code",
   "execution_count": 17,
   "metadata": {
    "id": "N88_tAzHWg3-",
    "outputId": "96fca79d-ec8c-4d6b-9f10-efa0119dbf23"
   },
   "outputs": [
    {
     "name": "stdout",
     "output_type": "stream",
     "text": [
      "Enter a number:4\n",
      "number: 4\n"
     ]
    }
   ],
   "source": [
    "x = int(input(\"Enter a number:\"))\n",
    "print(\"number:\", x)"
   ]
  },
  {
   "cell_type": "code",
   "execution_count": 23,
   "metadata": {
    "id": "N88_tAzHWg3-",
    "outputId": "96fca79d-ec8c-4d6b-9f10-efa0119dbf23"
   },
   "outputs": [],
   "source": [
    "# x = int(input(\"Enter name:\")) # # ValueError: invalid literal for int() with base 10: 'python'"
   ]
  },
  {
   "cell_type": "markdown",
   "metadata": {
    "id": "2XW0qPZjWmZc"
   },
   "source": [
    "#### int()"
   ]
  },
  {
   "cell_type": "markdown",
   "metadata": {
    "id": "biuWmiRnWtuO"
   },
   "source": [
    "\tReturns an integer number"
   ]
  },
  {
   "cell_type": "code",
   "execution_count": null,
   "metadata": {
    "id": "31btjzyBW0-c",
    "outputId": "61cfa4ae-964f-4d00-d916-ab0796dc7c91"
   },
   "outputs": [
    {
     "name": "stdout",
     "output_type": "stream",
     "text": [
      "3\n"
     ]
    }
   ],
   "source": [
    "x = int(3.5)\n",
    "\n",
    "print(x)"
   ]
  },
  {
   "cell_type": "code",
   "execution_count": null,
   "metadata": {
    "id": "N3NkIhbPW2f-",
    "outputId": "0ee9975f-854d-4439-8bf9-c7b7e2b357c4"
   },
   "outputs": [
    {
     "name": "stdout",
     "output_type": "stream",
     "text": [
      "12\n"
     ]
    }
   ],
   "source": [
    "x = int(\"12\")\n",
    "\n",
    "print(x)"
   ]
  },
  {
   "cell_type": "markdown",
   "metadata": {
    "id": "kYXy5U13W7Be"
   },
   "source": [
    "#### isinstance()"
   ]
  },
  {
   "cell_type": "markdown",
   "metadata": {
    "id": "eNIcw5K1W_5d"
   },
   "source": [
    "Returns True if a specified object is an instance of a specified object"
   ]
  },
  {
   "cell_type": "code",
   "execution_count": null,
   "metadata": {
    "id": "pzM-soV_XAh4",
    "outputId": "317b337a-9716-44cb-d845-e04b7348f418"
   },
   "outputs": [
    {
     "name": "stdout",
     "output_type": "stream",
     "text": [
      "True\n"
     ]
    }
   ],
   "source": [
    "x = isinstance(5, int)\n",
    "\n",
    "print(x)"
   ]
  },
  {
   "cell_type": "code",
   "execution_count": null,
   "metadata": {
    "id": "Adi4KkRZXIQC",
    "outputId": "609d81c7-f01e-422a-b91b-f02b4f6f7db9"
   },
   "outputs": [
    {
     "name": "stdout",
     "output_type": "stream",
     "text": [
      "True\n"
     ]
    }
   ],
   "source": [
    "x = isinstance(\"Hello\", (str, float, int, str, list, dict, tuple))\n",
    "\n",
    "print(x)"
   ]
  },
  {
   "cell_type": "code",
   "execution_count": null,
   "metadata": {
    "id": "LMVvVjXdXKU_",
    "outputId": "31c15c5c-76e2-4763-c712-55f617d087bb"
   },
   "outputs": [
    {
     "name": "stdout",
     "output_type": "stream",
     "text": [
      "True\n"
     ]
    }
   ],
   "source": [
    "class myObj:\n",
    "  name = \"John\"\n",
    "\n",
    "y = myObj()\n",
    "\n",
    "x = isinstance(y, myObj)\n",
    "\n",
    "print(x)"
   ]
  },
  {
   "cell_type": "markdown",
   "metadata": {
    "id": "iN7yI7IzXOyP"
   },
   "source": [
    "#### issubclass()"
   ]
  },
  {
   "cell_type": "markdown",
   "metadata": {
    "id": "-VUzItfMXTG8"
   },
   "source": [
    "Returns True if a specified class is a subclass of a specified object"
   ]
  },
  {
   "cell_type": "code",
   "execution_count": null,
   "metadata": {
    "id": "k5b3W2_OXX9Z",
    "outputId": "ebb049b5-7eca-4f07-8b06-5baef6d6516c"
   },
   "outputs": [
    {
     "name": "stdout",
     "output_type": "stream",
     "text": [
      "True\n"
     ]
    }
   ],
   "source": [
    "class myAge:\n",
    "  age = 36\n",
    "\n",
    "class myObj(myAge):\n",
    "  name = \"John\"\n",
    "  age = myAge\n",
    "\n",
    "x = issubclass(myObj, myAge)\n",
    "\n",
    "print(x)"
   ]
  },
  {
   "cell_type": "markdown",
   "metadata": {
    "id": "2Eejp8wdXaV3"
   },
   "source": [
    "#### iter()"
   ]
  },
  {
   "cell_type": "markdown",
   "metadata": {
    "id": "ZFe65pYwXdoR"
   },
   "source": [
    "Returns an iterator object"
   ]
  },
  {
   "cell_type": "code",
   "execution_count": null,
   "metadata": {
    "id": "xmrtGXF9Xi-R",
    "outputId": "e52e0be9-dd80-4733-ccd3-f203a986bbe9"
   },
   "outputs": [
    {
     "name": "stdout",
     "output_type": "stream",
     "text": [
      "apple\n",
      "banana\n",
      "cherry\n"
     ]
    }
   ],
   "source": [
    "x = iter([\"apple\", \"banana\", \"cherry\"])\n",
    "print(next(x))\n",
    "print(next(x))\n",
    "print(next(x))"
   ]
  },
  {
   "cell_type": "markdown",
   "metadata": {
    "id": "DnK249n2XsRg"
   },
   "source": [
    "#### len()"
   ]
  },
  {
   "cell_type": "markdown",
   "metadata": {
    "id": "27oPpgLOXvS6"
   },
   "source": [
    "Returns the length of an object"
   ]
  },
  {
   "cell_type": "code",
   "execution_count": null,
   "metadata": {
    "id": "8G8Mb4J6XzlI",
    "outputId": "1e04145c-fdb9-47a4-be15-9ca54af47236"
   },
   "outputs": [
    {
     "name": "stdout",
     "output_type": "stream",
     "text": [
      "3\n"
     ]
    }
   ],
   "source": [
    "mylist = [\"apple\", \"orange\", \"cherry\"]\n",
    "\n",
    "x = len(mylist)\n",
    "\n",
    "print(x)"
   ]
  },
  {
   "cell_type": "code",
   "execution_count": null,
   "metadata": {
    "id": "sK-IJNhZX0cb",
    "outputId": "0ad855fd-16ff-4082-ef8a-638914270932"
   },
   "outputs": [
    {
     "name": "stdout",
     "output_type": "stream",
     "text": [
      "5\n"
     ]
    }
   ],
   "source": [
    "x = len(\"Hello\")\n",
    "\n",
    "print(x)"
   ]
  },
  {
   "cell_type": "code",
   "execution_count": 12,
   "metadata": {},
   "outputs": [
    {
     "data": {
      "text/plain": [
       "4"
      ]
     },
     "execution_count": 12,
     "metadata": {},
     "output_type": "execute_result"
    }
   ],
   "source": [
    "x = {12,3,4,5,3,4,5,3,4,5}\n",
    "len(x)"
   ]
  },
  {
   "cell_type": "code",
   "execution_count": 14,
   "metadata": {},
   "outputs": [
    {
     "data": {
      "text/plain": [
       "5"
      ]
     },
     "execution_count": 14,
     "metadata": {},
     "output_type": "execute_result"
    }
   ],
   "source": [
    "d = {1:10,2:20,3:30,4:[1,2,3],None:5}\n",
    "len(d)"
   ]
  },
  {
   "cell_type": "markdown",
   "metadata": {
    "id": "qZ4_Gya9X3uU"
   },
   "source": [
    "#### list()"
   ]
  },
  {
   "cell_type": "markdown",
   "metadata": {
    "id": "j0aKl8YgX7BX"
   },
   "source": [
    "Returns a list"
   ]
  },
  {
   "cell_type": "code",
   "execution_count": null,
   "metadata": {
    "id": "x2QmhaMcYAb6",
    "outputId": "031d7de2-c392-4451-ef6f-14eeea9b7ce2"
   },
   "outputs": [
    {
     "name": "stdout",
     "output_type": "stream",
     "text": [
      "['apple', 'banana', 'cherry']\n"
     ]
    }
   ],
   "source": [
    "x = list(('apple', 'banana', 'cherry'))\n",
    "\n",
    "print(x)"
   ]
  },
  {
   "cell_type": "markdown",
   "metadata": {
    "id": "UtWqK1i6YC_4"
   },
   "source": [
    "#### locals()"
   ]
  },
  {
   "cell_type": "markdown",
   "metadata": {
    "id": "3d1qmpa1YFAh"
   },
   "source": [
    "Returns an updated dictionary of the current local symbol table"
   ]
  },
  {
   "cell_type": "code",
   "execution_count": 24,
   "metadata": {
    "id": "a2n6pTYrYfFe",
    "outputId": "e2d2c084-2d98-494e-c29b-53521976cdd7"
   },
   "outputs": [],
   "source": [
    "x = locals()\n",
    "# print(x)"
   ]
  },
  {
   "cell_type": "markdown",
   "metadata": {
    "id": "nJfdzjvsYlbG"
   },
   "source": [
    "#### map()"
   ]
  },
  {
   "cell_type": "markdown",
   "metadata": {
    "id": "lQeQDsYeYno9"
   },
   "source": [
    "Returns the specified iterator with the specified function applied to each item"
   ]
  },
  {
   "cell_type": "code",
   "execution_count": null,
   "metadata": {
    "id": "yYFGPXiOYt4B",
    "outputId": "2cebe961-f0d4-415f-e569-1f43799ca47a"
   },
   "outputs": [
    {
     "name": "stdout",
     "output_type": "stream",
     "text": [
      "<map object at 0x000001D67EF70F70>\n",
      "[5, 6, 6]\n"
     ]
    }
   ],
   "source": [
    "def myfunc(a):\n",
    "  return len(a)\n",
    "\n",
    "x = map(myfunc, ('apple', 'banana', 'cherry'))\n",
    "\n",
    "print(x)\n",
    "\n",
    "#convert the map into a list, for readability:\n",
    "print(list(x))"
   ]
  },
  {
   "cell_type": "code",
   "execution_count": null,
   "metadata": {
    "id": "8QxG2N8KYvN3",
    "outputId": "5ca4a632-4a83-4418-9563-4bcf0d1555f8"
   },
   "outputs": [
    {
     "name": "stdout",
     "output_type": "stream",
     "text": [
      "<map object at 0x000001D67F139BE0>\n",
      "['appleorange', 'bananalemon', 'cherrypineapple']\n"
     ]
    }
   ],
   "source": [
    "def myfunc(a, b):\n",
    "  return a + b\n",
    "\n",
    "x = map(myfunc, ('apple', 'banana', 'cherry'), ('orange', 'lemon', 'pineapple'))\n",
    "\n",
    "print(x)\n",
    "\n",
    "#convert the map into a list, for readability:\n",
    "print(list(x))"
   ]
  },
  {
   "cell_type": "markdown",
   "metadata": {
    "id": "_cIczJV_Yx2u"
   },
   "source": [
    "#### max()"
   ]
  },
  {
   "cell_type": "markdown",
   "metadata": {
    "id": "-LCskWE5YzSA"
   },
   "source": [
    "Returns the largest item in an iterable"
   ]
  },
  {
   "cell_type": "code",
   "execution_count": null,
   "metadata": {
    "id": "ddAFC8YlY4w6",
    "outputId": "24dfdec2-63eb-4428-b7df-13b026a01191"
   },
   "outputs": [
    {
     "name": "stdout",
     "output_type": "stream",
     "text": [
      "10\n"
     ]
    }
   ],
   "source": [
    "x = max(5, 10)\n",
    "\n",
    "print(x)"
   ]
  },
  {
   "cell_type": "code",
   "execution_count": null,
   "metadata": {
    "id": "MWpT-xZFY6Mk",
    "outputId": "7d0b358e-4022-4ae0-ea8d-7f3f90fd706d"
   },
   "outputs": [
    {
     "name": "stdout",
     "output_type": "stream",
     "text": [
      "Vicky\n"
     ]
    }
   ],
   "source": [
    "x = max(\"Mike\", \"John\", \"Vicky\")\n",
    "\n",
    "print(x)"
   ]
  },
  {
   "cell_type": "code",
   "execution_count": null,
   "metadata": {
    "id": "c9N45UhmY70W",
    "outputId": "ba8b6b4d-b873-4ec6-ed99-07c39179cb1d"
   },
   "outputs": [
    {
     "name": "stdout",
     "output_type": "stream",
     "text": [
      "9\n"
     ]
    }
   ],
   "source": [
    "a = (1, 5, 3, 9)\n",
    "x = max(a)\n",
    "\n",
    "print(x)"
   ]
  },
  {
   "cell_type": "markdown",
   "metadata": {
    "id": "pCcD2TbuY-cD"
   },
   "source": [
    "memoryview()"
   ]
  },
  {
   "cell_type": "markdown",
   "metadata": {
    "id": "wByM8rLRZAN9"
   },
   "source": [
    "Returns a memory view object"
   ]
  },
  {
   "cell_type": "code",
   "execution_count": null,
   "metadata": {
    "id": "Q96P3wC0ZDlp",
    "outputId": "bf76398c-41bb-4c9d-ef85-7a9aa7464ab8"
   },
   "outputs": [
    {
     "name": "stdout",
     "output_type": "stream",
     "text": [
      "<memory at 0x000001D67F91EB80>\n",
      "72\n",
      "101\n"
     ]
    }
   ],
   "source": [
    "x = memoryview(b\"Hello\")\n",
    "\n",
    "print(x)\n",
    "\n",
    "#return the Unicode of the first character\n",
    "print(x[0])\n",
    "\n",
    "#return the Unicode of the second character\n",
    "print(x[1])"
   ]
  },
  {
   "cell_type": "markdown",
   "metadata": {
    "id": "1Zh7NVxdZGDJ"
   },
   "source": [
    "#### min()"
   ]
  },
  {
   "cell_type": "markdown",
   "metadata": {
    "id": "_M6YeL5UZHtj"
   },
   "source": [
    "Returns the smallest item in an iterable"
   ]
  },
  {
   "cell_type": "code",
   "execution_count": null,
   "metadata": {
    "id": "lUY-PVuDZOFt",
    "outputId": "467b6bde-4132-4436-affa-cd9cdc1e5ab5"
   },
   "outputs": [
    {
     "name": "stdout",
     "output_type": "stream",
     "text": [
      "5\n"
     ]
    }
   ],
   "source": [
    "x = min(5, 10)\n",
    "\n",
    "print(x)"
   ]
  },
  {
   "cell_type": "code",
   "execution_count": null,
   "metadata": {
    "id": "uWjLVgbNZN1t",
    "outputId": "e2e5a4bf-6176-4980-d820-c36f70044b4f"
   },
   "outputs": [
    {
     "name": "stdout",
     "output_type": "stream",
     "text": [
      "John\n"
     ]
    }
   ],
   "source": [
    "x = min(\"Mike\", \"John\", \"Vicky\")\n",
    "\n",
    "print(x)"
   ]
  },
  {
   "cell_type": "code",
   "execution_count": null,
   "metadata": {
    "id": "1eVXMSybZT_7",
    "outputId": "08f44975-f3ca-4421-9ef6-49154041e5ee"
   },
   "outputs": [
    {
     "name": "stdout",
     "output_type": "stream",
     "text": [
      "1\n"
     ]
    }
   ],
   "source": [
    "a = (1, 5, 3, 9)\n",
    "x = min(a)\n",
    "\n",
    "print(x)"
   ]
  },
  {
   "cell_type": "markdown",
   "metadata": {
    "id": "0YhKcZZ-ZbZY"
   },
   "source": [
    "#### next()"
   ]
  },
  {
   "cell_type": "markdown",
   "metadata": {
    "id": "c5-lTJGpZc70"
   },
   "source": [
    "Returns the next item in an iterable"
   ]
  },
  {
   "cell_type": "code",
   "execution_count": null,
   "metadata": {
    "id": "ul9vqKceZgsY",
    "outputId": "9e674398-d778-4a4e-ae9e-b784c7eb279e"
   },
   "outputs": [
    {
     "name": "stdout",
     "output_type": "stream",
     "text": [
      "apple\n",
      "banana\n",
      "cherry\n"
     ]
    }
   ],
   "source": [
    "mylist = iter([\"apple\", \"banana\", \"cherry\"])\n",
    "x = next(mylist)\n",
    "print(x)\n",
    "x = next(mylist)\n",
    "print(x)\n",
    "x = next(mylist)\n",
    "print(x)"
   ]
  },
  {
   "cell_type": "code",
   "execution_count": null,
   "metadata": {
    "id": "CHaTIEomZjoR",
    "outputId": "cab97b86-868e-4ac2-a906-9b00b4fd219c"
   },
   "outputs": [
    {
     "name": "stdout",
     "output_type": "stream",
     "text": [
      "apple\n",
      "banana\n",
      "cherry\n",
      "orange\n"
     ]
    }
   ],
   "source": [
    "mylist = iter([\"apple\", \"banana\", \"cherry\"])\n",
    "x = next(mylist, \"orange\")\n",
    "print(x)\n",
    "x = next(mylist, \"orange\")\n",
    "print(x)\n",
    "x = next(mylist, \"orange\")\n",
    "print(x)\n",
    "x = next(mylist, \"orange\")\n",
    "print(x)"
   ]
  },
  {
   "cell_type": "markdown",
   "metadata": {
    "id": "5VPQqY1oZm0p"
   },
   "source": [
    "#### object()"
   ]
  },
  {
   "cell_type": "markdown",
   "metadata": {
    "id": "jm2CxfAXZn8t"
   },
   "source": [
    "Returns a new object"
   ]
  },
  {
   "cell_type": "code",
   "execution_count": null,
   "metadata": {
    "id": "EfB4CEktZrS7",
    "outputId": "b9bbb3e6-7d18-4c8b-db81-1daf52621f68"
   },
   "outputs": [
    {
     "name": "stdout",
     "output_type": "stream",
     "text": [
      "['__class__', '__delattr__', '__dir__', '__doc__', '__eq__', '__format__', '__ge__', '__getattribute__', '__gt__', '__hash__', '__init__', '__init_subclass__', '__le__', '__lt__', '__ne__', '__new__', '__reduce__', '__reduce_ex__', '__repr__', '__setattr__', '__sizeof__', '__str__', '__subclasshook__']\n"
     ]
    }
   ],
   "source": [
    "x = object()\n",
    "\n",
    "print(dir(x))"
   ]
  },
  {
   "cell_type": "markdown",
   "metadata": {
    "id": "5cIh4GtVZwfW"
   },
   "source": [
    "#### oct()"
   ]
  },
  {
   "cell_type": "markdown",
   "metadata": {
    "id": "nc-Esf8jZ0f4"
   },
   "source": [
    "\tConverts a number into an octal"
   ]
  },
  {
   "cell_type": "code",
   "execution_count": null,
   "metadata": {
    "id": "So_MFGJWZ3nx",
    "outputId": "df0bd3ab-fda8-470d-fef6-a03e31540ac5"
   },
   "outputs": [
    {
     "name": "stdout",
     "output_type": "stream",
     "text": [
      "0o14\n"
     ]
    }
   ],
   "source": [
    "x = oct(12)\n",
    "\n",
    "print(x)"
   ]
  },
  {
   "cell_type": "markdown",
   "metadata": {
    "id": "Uc4qgnNUZ6kB"
   },
   "source": [
    "#### open()"
   ]
  },
  {
   "cell_type": "markdown",
   "metadata": {
    "id": "N4hjlTk0Z8Vc"
   },
   "source": [
    "Opens a file and returns a file object"
   ]
  },
  {
   "cell_type": "code",
   "execution_count": null,
   "metadata": {
    "id": "oplAaR3fZ-xD"
   },
   "outputs": [],
   "source": [
    "f = open(\"demofile.txt\", \"w+\")\n",
    "f.write('hello world')\n",
    "f.close()\n",
    "\n",
    "import os\n",
    "os.remove(\"demofile.txt\")"
   ]
  },
  {
   "cell_type": "markdown",
   "metadata": {
    "id": "u8J2PtlyaDxm"
   },
   "source": [
    "#### ord()"
   ]
  },
  {
   "cell_type": "markdown",
   "metadata": {
    "id": "L3qIBV3gaFYt"
   },
   "source": [
    "Convert an integer representing the Unicode of the specified character"
   ]
  },
  {
   "cell_type": "code",
   "execution_count": null,
   "metadata": {
    "id": "eys9v4OwaJFZ"
   },
   "outputs": [],
   "source": [
    "x = ord(\"h\")\n",
    "\n",
    "print(x)"
   ]
  },
  {
   "cell_type": "markdown",
   "metadata": {
    "id": "Ki0B-5jzaMT5"
   },
   "source": [
    "#### pow()"
   ]
  },
  {
   "cell_type": "markdown",
   "metadata": {
    "id": "G81yOa3XaPEj"
   },
   "source": [
    "Returns the value of x to the power of y"
   ]
  },
  {
   "cell_type": "code",
   "execution_count": null,
   "metadata": {
    "id": "chcqy8sHaR2L"
   },
   "outputs": [],
   "source": [
    "x = pow(4, 3)\n",
    "\n",
    "print(x)"
   ]
  },
  {
   "cell_type": "code",
   "execution_count": null,
   "metadata": {
    "id": "D5vceKFcaTJa"
   },
   "outputs": [],
   "source": [
    "x = pow(4, 3, 5)\n",
    "\n",
    "print(x)"
   ]
  },
  {
   "cell_type": "markdown",
   "metadata": {
    "id": "BHd8EarRaV7a"
   },
   "source": [
    "#### print()"
   ]
  },
  {
   "cell_type": "markdown",
   "metadata": {
    "id": "qFE7dTtsaXs6"
   },
   "source": [
    "Prints to the standard output device"
   ]
  },
  {
   "cell_type": "code",
   "execution_count": null,
   "metadata": {
    "id": "rmmrax4fadpY"
   },
   "outputs": [],
   "source": [
    "print(\"Hello World\")"
   ]
  },
  {
   "cell_type": "code",
   "execution_count": null,
   "metadata": {
    "id": "69Ejsu6nahFb"
   },
   "outputs": [],
   "source": [
    "print(\"Hello\", \"how are you?\")"
   ]
  },
  {
   "cell_type": "code",
   "execution_count": null,
   "metadata": {
    "id": "GtUY_xvoajZM"
   },
   "outputs": [],
   "source": [
    "x = (\"apple\", \"banana\", \"cherry\")\n",
    "print(x)"
   ]
  },
  {
   "cell_type": "code",
   "execution_count": null,
   "metadata": {
    "id": "S-uILsPSalam"
   },
   "outputs": [],
   "source": [
    "print(\"Hello\", \"how are you?\", sep=\"---\")"
   ]
  },
  {
   "cell_type": "markdown",
   "metadata": {
    "id": "iYoGtDKBavSA"
   },
   "source": [
    "#### range()"
   ]
  },
  {
   "cell_type": "markdown",
   "metadata": {
    "id": "WKJ1Nln6ax5W"
   },
   "source": [
    "- Returns a sequence of numbers, starting from 0 and increments by 1 (by default)\n",
    "- range() is not iterator but iterable."
   ]
  },
  {
   "cell_type": "code",
   "execution_count": null,
   "metadata": {
    "id": "O_bk1_a5a3Is"
   },
   "outputs": [],
   "source": [
    "x = range(6)\n",
    "\n",
    "for n in x:\n",
    "  print(n)"
   ]
  },
  {
   "cell_type": "code",
   "execution_count": null,
   "metadata": {
    "id": "NO2YzuvRa4V5"
   },
   "outputs": [],
   "source": [
    "x = range(3, 6)\n",
    "\n",
    "for n in x:\n",
    "  print(n)"
   ]
  },
  {
   "cell_type": "code",
   "execution_count": null,
   "metadata": {
    "id": "Cc17Pn1Na5in"
   },
   "outputs": [],
   "source": [
    "x = range(3, 20, 2)\n",
    "\n",
    "for n in x:\n",
    "  print(n)"
   ]
  },
  {
   "cell_type": "code",
   "execution_count": 2,
   "metadata": {
    "scrolled": true
   },
   "outputs": [
    {
     "name": "stdout",
     "output_type": "stream",
     "text": [
      "range(1, 31, 2)\n",
      "1\n",
      "2\n",
      "11\n"
     ]
    }
   ],
   "source": [
    "# creates a demo range\n",
    "demo = range(1, 31, 2) # returns an \n",
    "  \n",
    "# print the range\n",
    "print(demo)\n",
    "  \n",
    "# print the start of range\n",
    "print(demo.start)\n",
    "  \n",
    "# print step of range\n",
    "print(demo.step)\n",
    "  \n",
    "# print the index of element 23\n",
    "print(demo.index(23))\n",
    "  \n",
    "# since 30 is not present it will give error\n",
    "# print(demo.index(30)) # ValueError: 30 is not in range"
   ]
  },
  {
   "cell_type": "code",
   "execution_count": 9,
   "metadata": {},
   "outputs": [
    {
     "name": "stdout",
     "output_type": "stream",
     "text": [
      "range(0, 6)\n",
      "<range_iterator object at 0x000001C9B48C3330>\n",
      "0\n",
      "1\n"
     ]
    }
   ],
   "source": [
    "demo = range(6) # iterable\n",
    "\n",
    "# print the demo\n",
    "print(demo)\n",
    "  \n",
    "# it will generate error. cannot call next() on range iterable object\n",
    "# print(next(demo)) # TypeError: 'range' object is not an iterator\n",
    "\n",
    "demo = iter(demo) # converted to iterator\n",
    "\n",
    "# print iterator\n",
    "print(demo)\n",
    "  \n",
    "# use next\n",
    "print(next(demo))\n",
    "print(next(demo))"
   ]
  },
  {
   "cell_type": "markdown",
   "metadata": {
    "id": "O551tRGha-9T"
   },
   "source": [
    "#### reversed()"
   ]
  },
  {
   "cell_type": "markdown",
   "metadata": {
    "id": "j1ZxiC69bBJo"
   },
   "source": [
    "Returns a reversed iterator"
   ]
  },
  {
   "cell_type": "code",
   "execution_count": null,
   "metadata": {
    "id": "mSPhl0JXbEEy"
   },
   "outputs": [],
   "source": [
    "alph = [\"a\", \"b\", \"c\", \"d\"]\n",
    "\n",
    "ralph = reversed(alph)\n",
    "\n",
    "for x in ralph:\n",
    "  print(x)"
   ]
  },
  {
   "cell_type": "markdown",
   "metadata": {
    "id": "paFdRUFrbF8a"
   },
   "source": [
    "#### round()"
   ]
  },
  {
   "cell_type": "markdown",
   "metadata": {
    "id": "mA-WSWAqbHLt"
   },
   "source": [
    "Rounds a numbers"
   ]
  },
  {
   "cell_type": "code",
   "execution_count": null,
   "metadata": {
    "id": "JXdcQA7vbL8n"
   },
   "outputs": [],
   "source": [
    "x = round(5.76543, 2)\n",
    "print(x)"
   ]
  },
  {
   "cell_type": "code",
   "execution_count": null,
   "metadata": {
    "id": "ZDERSwsjbOTO"
   },
   "outputs": [],
   "source": [
    "x = round(5.76543)\n",
    "print(x)"
   ]
  },
  {
   "cell_type": "markdown",
   "metadata": {
    "id": "GIiHF3X3bQti"
   },
   "source": [
    "#### set()"
   ]
  },
  {
   "cell_type": "markdown",
   "metadata": {
    "id": "sUrFml2MbTZt"
   },
   "source": [
    "Returns a new set object"
   ]
  },
  {
   "cell_type": "code",
   "execution_count": null,
   "metadata": {
    "id": "SCmmRbxTbdpY"
   },
   "outputs": [],
   "source": [
    "x = set((\"apple\", \"banana\", \"cherry\"))\n",
    "\n",
    "print(x)\n",
    "\n",
    "# Note: the set list is unordered, so the result will display the items in a random order."
   ]
  },
  {
   "cell_type": "markdown",
   "metadata": {
    "id": "dJ38E00zbfY6"
   },
   "source": [
    "#### setattr()"
   ]
  },
  {
   "cell_type": "markdown",
   "metadata": {
    "id": "odsaOmgebgvi"
   },
   "source": [
    "Sets an attribute (property/method) of an object"
   ]
  },
  {
   "cell_type": "code",
   "execution_count": null,
   "metadata": {
    "id": "_z55KPdvbkDi"
   },
   "outputs": [],
   "source": [
    "class Person:\n",
    "  name = \"John\"\n",
    "  age = 36\n",
    "  country = \"Norway\"\n",
    "\n",
    "setattr(Person, 'age', 40)\n",
    "\n",
    "# The age property will now have the value: 40\n",
    "\n",
    "x = getattr(Person, 'age')\n",
    "\n",
    "print(x)"
   ]
  },
  {
   "cell_type": "markdown",
   "metadata": {
    "id": "Iv3g-llDbl3g"
   },
   "source": [
    "#### slice()"
   ]
  },
  {
   "cell_type": "markdown",
   "metadata": {
    "id": "yr1XCzIfbnNK"
   },
   "source": [
    "Returns a slice object"
   ]
  },
  {
   "cell_type": "code",
   "execution_count": null,
   "metadata": {
    "id": "CL7zfCA-bvaz"
   },
   "outputs": [],
   "source": [
    "a = (\"a\", \"b\", \"c\", \"d\", \"e\", \"f\", \"g\", \"h\")\n",
    "\n",
    "x = slice(2)\n",
    "\n",
    "print(a[x])"
   ]
  },
  {
   "cell_type": "code",
   "execution_count": null,
   "metadata": {
    "id": "r2wog2SBbxgh"
   },
   "outputs": [],
   "source": [
    "a = (\"a\", \"b\", \"c\", \"d\", \"e\", \"f\", \"g\", \"h\")\n",
    "\n",
    "x = slice(3, 5)\n",
    "\n",
    "print(a[x])"
   ]
  },
  {
   "cell_type": "code",
   "execution_count": null,
   "metadata": {
    "id": "nXpC9ZMmbzIV"
   },
   "outputs": [],
   "source": [
    "a = (\"a\", \"b\", \"c\", \"d\", \"e\", \"f\", \"g\", \"h\")\n",
    "\n",
    "x = slice(0, 8, 3)\n",
    "\n",
    "print(a[x])"
   ]
  },
  {
   "cell_type": "markdown",
   "metadata": {
    "id": "cDZ0Mjfpb18Z"
   },
   "source": [
    "#### sorted()"
   ]
  },
  {
   "cell_type": "markdown",
   "metadata": {
    "id": "hKUqMIT2b3Lv"
   },
   "source": [
    "\tReturns a sorted list"
   ]
  },
  {
   "cell_type": "code",
   "execution_count": 10,
   "metadata": {
    "id": "OPopMgmnb74U"
   },
   "outputs": [
    {
     "name": "stdout",
     "output_type": "stream",
     "text": [
      "['a', 'b', 'c', 'd', 'e', 'f', 'g', 'h']\n",
      "('b', 'g', 'a', 'd', 'f', 'c', 'h', 'e')\n"
     ]
    }
   ],
   "source": [
    "a = (\"b\", \"g\", \"a\", \"d\", \"f\", \"c\", \"h\", \"e\")\n",
    "\n",
    "x = sorted(a)\n",
    "\n",
    "print(x)\n",
    "print(a)"
   ]
  },
  {
   "cell_type": "code",
   "execution_count": null,
   "metadata": {
    "id": "j-_8ZcgXb890"
   },
   "outputs": [],
   "source": [
    "a = (1, 11, 2)\n",
    "\n",
    "x = sorted(a)\n",
    "\n",
    "print(x)"
   ]
  },
  {
   "cell_type": "code",
   "execution_count": null,
   "metadata": {
    "id": "efmzCn0Ib-Mj"
   },
   "outputs": [],
   "source": [
    "a = (\"h\", \"b\", \"a\", \"c\", \"f\", \"d\", \"e\", \"g\")\n",
    "\n",
    "x = sorted(a)\n",
    "\n",
    "print(x)"
   ]
  },
  {
   "cell_type": "code",
   "execution_count": null,
   "metadata": {
    "id": "pYTG4YqWb_Ua"
   },
   "outputs": [],
   "source": [
    "a = (\"h\", \"b\", \"a\", \"c\", \"f\", \"d\", \"e\", \"g\")\n",
    "\n",
    "x = sorted(a, reverse=True)\n",
    "\n",
    "print(x)"
   ]
  },
  {
   "cell_type": "markdown",
   "metadata": {
    "id": "peuZY6Y5cEOm"
   },
   "source": [
    "#### str()"
   ]
  },
  {
   "cell_type": "markdown",
   "metadata": {
    "id": "i5uaD_nzcFhX"
   },
   "source": [
    "\tReturns a string object"
   ]
  },
  {
   "cell_type": "code",
   "execution_count": null,
   "metadata": {
    "id": "iX_mk43tcI7e"
   },
   "outputs": [],
   "source": [
    "x = str(3.5)\n",
    "\n",
    "print(x)"
   ]
  },
  {
   "cell_type": "code",
   "execution_count": null,
   "metadata": {
    "id": "7GM2fKWocLbL"
   },
   "outputs": [],
   "source": [
    "x = int(\"12\")\n",
    "\n",
    "print(x)"
   ]
  },
  {
   "cell_type": "markdown",
   "metadata": {
    "id": "hd8PcyC9cNhz"
   },
   "source": [
    "#### sum()"
   ]
  },
  {
   "cell_type": "markdown",
   "metadata": {
    "id": "UNsd5jhKcP7p"
   },
   "source": [
    "Sums the items of an iterator"
   ]
  },
  {
   "cell_type": "code",
   "execution_count": null,
   "metadata": {
    "id": "9aHI6P2OcSBk"
   },
   "outputs": [],
   "source": [
    "a = (1, 2, 3, 4, 5)\n",
    "x = sum(a)\n",
    "print(x)"
   ]
  },
  {
   "cell_type": "code",
   "execution_count": null,
   "metadata": {
    "id": "wD_dM61EcVZm"
   },
   "outputs": [],
   "source": [
    "a = (1, 2, 3, 4, 5)\n",
    "x = sum(a, 7)\n",
    "print(x)"
   ]
  },
  {
   "cell_type": "markdown",
   "metadata": {
    "id": "DOjQYJIucXuV"
   },
   "source": [
    "#### super()"
   ]
  },
  {
   "cell_type": "markdown",
   "metadata": {
    "id": "Z45LfFsTcZyh"
   },
   "source": [
    "Returns an object that represents the parent class"
   ]
  },
  {
   "cell_type": "code",
   "execution_count": null,
   "metadata": {
    "id": "BcjZ2cBmcphP"
   },
   "outputs": [],
   "source": [
    "class Parent:\n",
    "  def __init__(self, txt):\n",
    "    self.message = txt\n",
    "\n",
    "  def printmessage(self):\n",
    "    print(self.message)\n",
    "\n",
    "class Child(Parent):\n",
    "  def __init__(self, txt):\n",
    "    super().__init__(txt)\n",
    "\n",
    "x = Child(\"Hello, and welcome!\")\n",
    "\n",
    "x.printmessage()"
   ]
  },
  {
   "cell_type": "markdown",
   "metadata": {
    "id": "6kZTrE4MceJp"
   },
   "source": [
    "#### tuple()"
   ]
  },
  {
   "cell_type": "markdown",
   "metadata": {
    "id": "bjjVgbDEcfVz"
   },
   "source": [
    "Returns a tuple"
   ]
  },
  {
   "cell_type": "code",
   "execution_count": null,
   "metadata": {
    "id": "3n8BbkwPch17"
   },
   "outputs": [],
   "source": [
    "x = tuple((\"apple\", \"banana\", \"cherry\"))\n",
    "\n",
    "print(x)"
   ]
  },
  {
   "cell_type": "markdown",
   "metadata": {
    "id": "pFhyRxrCckQE"
   },
   "source": [
    "#### type()"
   ]
  },
  {
   "cell_type": "markdown",
   "metadata": {
    "id": "oqhXSamiclsO"
   },
   "source": [
    "Returns the type of an object"
   ]
  },
  {
   "cell_type": "code",
   "execution_count": null,
   "metadata": {
    "id": "fDm1Ho-ectw1"
   },
   "outputs": [],
   "source": [
    "a = ('apple', 'banana', 'cherry')\n",
    "b = \"Hello World\"\n",
    "c = 33\n",
    "\n",
    "x = type(a)\n",
    "y = type(b)\n",
    "z = type(c)\n",
    "\n",
    "print(x)\n",
    "print(y)\n",
    "print(z)"
   ]
  },
  {
   "cell_type": "markdown",
   "metadata": {
    "id": "pVf8XO7ncwnw"
   },
   "source": [
    "#### vars() "
   ]
  },
  {
   "cell_type": "markdown",
   "metadata": {
    "id": "w-meCOiLczp5"
   },
   "source": [
    "Returns the __dict__ property of an object"
   ]
  },
  {
   "cell_type": "code",
   "execution_count": null,
   "metadata": {
    "id": "ilNhbxPkc3_f"
   },
   "outputs": [],
   "source": [
    "class Person:\n",
    "  name = \"John\"\n",
    "  age = 36\n",
    "  country = \"norway\"\n",
    "\n",
    "x = vars(Person)\n",
    "\n",
    "print(x)"
   ]
  },
  {
   "cell_type": "markdown",
   "metadata": {
    "id": "7VdXEe8Cc5om"
   },
   "source": [
    "#### zip()"
   ]
  },
  {
   "cell_type": "markdown",
   "metadata": {
    "id": "ZH7QJcPic7Jr"
   },
   "source": [
    "Returns an iterator, from two or more iterators"
   ]
  },
  {
   "cell_type": "code",
   "execution_count": null,
   "metadata": {
    "id": "abqL02U5c_pb"
   },
   "outputs": [],
   "source": [
    "a = (\"a\", \"b\", \"c\")\n",
    "b = (\"1\", \"2\", \"3\")\n",
    "\n",
    "x = zip(a, b)\n",
    "\n",
    "#use the tuple() function to display a readable version of the result:\n",
    "\n",
    "print(tuple(x))"
   ]
  },
  {
   "cell_type": "code",
   "execution_count": null,
   "metadata": {
    "id": "-cHaq4U4dAr0"
   },
   "outputs": [],
   "source": [
    "a = (\"a\", \"b\", \"c\")\n",
    "b = (\"1\", \"2\", \"3\")\n",
    " \n",
    "# combines two collections\n",
    "for p,q in zip(a, b):\n",
    "    print(p, q)"
   ]
  },
  {
   "cell_type": "code",
   "execution_count": null,
   "metadata": {
    "id": "CriywgkP5xq6"
   },
   "outputs": [],
   "source": []
  }
 ],
 "metadata": {
  "colab": {
   "provenance": []
  },
  "kernelspec": {
   "display_name": "Python 3 (ipykernel)",
   "language": "python",
   "name": "python3"
  },
  "language_info": {
   "codemirror_mode": {
    "name": "ipython",
    "version": 3
   },
   "file_extension": ".py",
   "mimetype": "text/x-python",
   "name": "python",
   "nbconvert_exporter": "python",
   "pygments_lexer": "ipython3",
   "version": "3.9.16"
  }
 },
 "nbformat": 4,
 "nbformat_minor": 1
}
