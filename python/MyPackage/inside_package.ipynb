{
 "cells": [
  {
   "cell_type": "markdown",
   "id": "97f5adf6",
   "metadata": {},
   "source": [
    "**Import modules or specific functions in modules.**\n",
    "\n",
    "**Package specification is not required**"
   ]
  },
  {
   "cell_type": "code",
   "execution_count": 2,
   "id": "f8a1f5b2",
   "metadata": {},
   "outputs": [],
   "source": [
    "import Addition as ad"
   ]
  },
  {
   "cell_type": "code",
   "execution_count": 3,
   "id": "11150199",
   "metadata": {},
   "outputs": [
    {
     "data": {
      "text/plain": [
       "5"
      ]
     },
     "execution_count": 3,
     "metadata": {},
     "output_type": "execute_result"
    }
   ],
   "source": [
    "ad.sum(2,3)"
   ]
  },
  {
   "cell_type": "code",
   "execution_count": 4,
   "id": "40df8aef",
   "metadata": {},
   "outputs": [
    {
     "data": {
      "text/plain": [
       "15"
      ]
     },
     "execution_count": 4,
     "metadata": {},
     "output_type": "execute_result"
    }
   ],
   "source": [
    "ad.add(1,2,3,4,5)"
   ]
  },
  {
   "cell_type": "code",
   "execution_count": 5,
   "id": "9cb0b075",
   "metadata": {},
   "outputs": [],
   "source": [
    "import Multiplication as mul"
   ]
  },
  {
   "cell_type": "code",
   "execution_count": 6,
   "id": "32f229cb",
   "metadata": {},
   "outputs": [
    {
     "data": {
      "text/plain": [
       "120"
      ]
     },
     "execution_count": 6,
     "metadata": {},
     "output_type": "execute_result"
    }
   ],
   "source": [
    "mul.multiply(1,2,3,4,5)"
   ]
  },
  {
   "cell_type": "code",
   "execution_count": 7,
   "id": "50eca591",
   "metadata": {},
   "outputs": [
    {
     "data": {
      "text/plain": [
       "32"
      ]
     },
     "execution_count": 7,
     "metadata": {},
     "output_type": "execute_result"
    }
   ],
   "source": [
    "mul.exponent(2,5)"
   ]
  }
 ],
 "metadata": {
  "kernelspec": {
   "display_name": "Python 3 (ipykernel)",
   "language": "python",
   "name": "python3"
  },
  "language_info": {
   "codemirror_mode": {
    "name": "ipython",
    "version": 3
   },
   "file_extension": ".py",
   "mimetype": "text/x-python",
   "name": "python",
   "nbconvert_exporter": "python",
   "pygments_lexer": "ipython3",
   "version": "3.9.16"
  }
 },
 "nbformat": 4,
 "nbformat_minor": 5
}
