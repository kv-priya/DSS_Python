{
 "cells": [
  {
   "cell_type": "markdown",
   "metadata": {
    "id": "Pw1s8N6jw1y2"
   },
   "source": [
    "### Operators"
   ]
  },
  {
   "cell_type": "code",
   "execution_count": null,
   "metadata": {
    "colab": {
     "base_uri": "https://localhost:8080/"
    },
    "executionInfo": {
     "elapsed": 9,
     "status": "ok",
     "timestamp": 1676449160682,
     "user": {
      "displayName": "vishnupriya karanam",
      "userId": "13289819926024070101"
     },
     "user_tz": -330
    },
    "id": "xzn_mBzcw65p",
    "outputId": "84395238-8add-41dc-9c3c-2d99d9789695"
   },
   "outputs": [
    {
     "data": {
      "text/plain": [
       "15"
      ]
     },
     "execution_count": 1,
     "metadata": {},
     "output_type": "execute_result"
    }
   ],
   "source": [
    "10 + 5 # + is operator, 10 and 5 are operands"
   ]
  },
  {
   "cell_type": "markdown",
   "metadata": {
    "id": "RmsoW8AOxEKE"
   },
   "source": [
    "#### arithmetic operators"
   ]
  },
  {
   "cell_type": "markdown",
   "metadata": {
    "id": "AwS07EnSwSS6"
   },
   "source": [
    "- Arithmetic operators are used with numeric values to perform common mathematical operations"
   ]
  },
  {
   "cell_type": "code",
   "execution_count": null,
   "metadata": {
    "id": "hrAdXzslxKIw",
    "outputId": "c5653f2a-6857-4d77-8976-b22e97fbbc7f"
   },
   "outputs": [
    {
     "name": "stdout",
     "output_type": "stream",
     "text": [
      "8\n"
     ]
    }
   ],
   "source": [
    "x = 5\n",
    "y = 3\n",
    "\n",
    "print(x + y)"
   ]
  },
  {
   "cell_type": "code",
   "execution_count": null,
   "metadata": {
    "id": "xhTCfuWAxLru",
    "outputId": "d0476fc0-84d4-4e43-a47d-ce8f895fe426"
   },
   "outputs": [
    {
     "name": "stdout",
     "output_type": "stream",
     "text": [
      "2\n"
     ]
    }
   ],
   "source": [
    "x = 5\n",
    "y = 3\n",
    "\n",
    "print(x - y)"
   ]
  },
  {
   "cell_type": "code",
   "execution_count": null,
   "metadata": {
    "id": "-PmbPF3xxM1n",
    "outputId": "f6772644-0e02-4444-b296-3e58047f3f04"
   },
   "outputs": [
    {
     "name": "stdout",
     "output_type": "stream",
     "text": [
      "15\n"
     ]
    }
   ],
   "source": [
    "x = 5\n",
    "y = 3\n",
    "\n",
    "print(x * y)"
   ]
  },
  {
   "cell_type": "code",
   "execution_count": 1,
   "metadata": {
    "id": "V9zPnvxSxOnT",
    "outputId": "94398ec9-009a-464d-b9e4-b1fdd24fc0a6"
   },
   "outputs": [
    {
     "name": "stdout",
     "output_type": "stream",
     "text": [
      "5.333333333333333\n",
      "5.666666666666667\n",
      "2.5 2.5\n",
      "-2.5 -2.5\n",
      "0.0\n",
      "1\n"
     ]
    }
   ],
   "source": [
    "print(16/3)\n",
    "print(17/3)\n",
    "\n",
    "print(5/2,5.0/2)\n",
    "print(-5/2,-5.0/2)\n",
    "\n",
    "print(int(True))\n",
    "print(False/True) # 0/1\n",
    "# print(True/False) # ZeroDivisionError: division by zero"
   ]
  },
  {
   "cell_type": "code",
   "execution_count": null,
   "metadata": {
    "id": "4vkVBReExRgD",
    "outputId": "6c239249-2520-4e80-9a8b-ab2d2084aaf6"
   },
   "outputs": [
    {
     "name": "stdout",
     "output_type": "stream",
     "text": [
      "5\n",
      "5\n",
      "2 2.0\n",
      "-3 -3.0\n"
     ]
    }
   ],
   "source": [
    "print(16//3)\n",
    "print(17//3)\n",
    "\n",
    "print(5//2, 5.0//2)\n",
    "print(-5//2, -5.0//2)\n",
    "\n",
    "#the floor division // rounds the result down to the nearest whole number"
   ]
  },
  {
   "cell_type": "code",
   "execution_count": null,
   "metadata": {
    "id": "gl5iz2B5xPmv",
    "outputId": "a76f07d7-0e24-4c39-c7cc-1275a3919180"
   },
   "outputs": [
    {
     "name": "stdout",
     "output_type": "stream",
     "text": [
      "1\n"
     ]
    }
   ],
   "source": [
    "x = 5\n",
    "y = 2\n",
    "\n",
    "print(x % y)"
   ]
  },
  {
   "cell_type": "code",
   "execution_count": null,
   "metadata": {
    "id": "mip4-clYxQjF",
    "outputId": "c7a4d6e1-34dd-40ef-973c-0e12cb3463c3"
   },
   "outputs": [
    {
     "name": "stdout",
     "output_type": "stream",
     "text": [
      "32\n"
     ]
    }
   ],
   "source": [
    "x = 2\n",
    "y = 5\n",
    "\n",
    "print(x ** y) #same as 2*2*2*2*2 # exponent operator"
   ]
  },
  {
   "cell_type": "markdown",
   "metadata": {
    "id": "4mDFnKPMukF6"
   },
   "source": [
    "#### assignment operat+or"
   ]
  },
  {
   "cell_type": "markdown",
   "metadata": {
    "id": "dL0dIXo8wOSt"
   },
   "source": [
    "- Assignment operators are used to assign values to variables:"
   ]
  },
  {
   "cell_type": "code",
   "execution_count": 2,
   "metadata": {
    "id": "PfmX4iGTuqab"
   },
   "outputs": [
    {
     "name": "stdout",
     "output_type": "stream",
     "text": [
      "5\n"
     ]
    }
   ],
   "source": [
    "x = 5\n",
    "\n",
    "print(x)"
   ]
  },
  {
   "cell_type": "code",
   "execution_count": 3,
   "metadata": {
    "id": "KBcgSIeturxJ"
   },
   "outputs": [
    {
     "name": "stdout",
     "output_type": "stream",
     "text": [
      "8\n"
     ]
    }
   ],
   "source": [
    "x = 5\n",
    "x += 3\n",
    "print(x)"
   ]
  },
  {
   "cell_type": "code",
   "execution_count": 4,
   "metadata": {
    "id": "3tILbHmwus6n"
   },
   "outputs": [
    {
     "name": "stdout",
     "output_type": "stream",
     "text": [
      "2\n"
     ]
    }
   ],
   "source": [
    "x = 5\n",
    "x -= 3\n",
    "print(x)"
   ]
  },
  {
   "cell_type": "code",
   "execution_count": 5,
   "metadata": {
    "id": "zgwz7ksIuuMx"
   },
   "outputs": [
    {
     "name": "stdout",
     "output_type": "stream",
     "text": [
      "15\n"
     ]
    }
   ],
   "source": [
    "x = 5\n",
    "x *= 3\n",
    "\n",
    "print(x)"
   ]
  },
  {
   "cell_type": "code",
   "execution_count": 6,
   "metadata": {
    "id": "gwnRHL1puvOu"
   },
   "outputs": [
    {
     "name": "stdout",
     "output_type": "stream",
     "text": [
      "1.6666666666666667\n"
     ]
    }
   ],
   "source": [
    "x = 5\n",
    "x /= 3\n",
    "\n",
    "print(x)"
   ]
  },
  {
   "cell_type": "code",
   "execution_count": 7,
   "metadata": {
    "id": "utUrVQcOuwYY"
   },
   "outputs": [
    {
     "name": "stdout",
     "output_type": "stream",
     "text": [
      "2\n"
     ]
    }
   ],
   "source": [
    "x = 5\n",
    "x%=3\n",
    "\n",
    "print(x)"
   ]
  },
  {
   "cell_type": "code",
   "execution_count": 8,
   "metadata": {
    "id": "lVxB2k6IuxW5"
   },
   "outputs": [
    {
     "name": "stdout",
     "output_type": "stream",
     "text": [
      "1\n"
     ]
    }
   ],
   "source": [
    "x = 5\n",
    "x//=3\n",
    "\n",
    "print(x)"
   ]
  },
  {
   "cell_type": "code",
   "execution_count": null,
   "metadata": {
    "id": "cm7p5KAxuyQr"
   },
   "outputs": [],
   "source": [
    "x = 5\n",
    "x **= 3\n",
    "\n",
    "print(x)"
   ]
  },
  {
   "cell_type": "code",
   "execution_count": null,
   "metadata": {
    "id": "Ika9cK_GuzI3"
   },
   "outputs": [],
   "source": [
    "x = 5\n",
    "x &= 3\n",
    "\n",
    "print(x)"
   ]
  },
  {
   "cell_type": "code",
   "execution_count": null,
   "metadata": {
    "id": "a1X1A5Cbu0Bf"
   },
   "outputs": [],
   "source": [
    "x = 5\n",
    "x |= 3\n",
    "\n",
    "print(x)"
   ]
  },
  {
   "cell_type": "code",
   "execution_count": null,
   "metadata": {
    "id": "bp-4CqrZu09x"
   },
   "outputs": [],
   "source": [
    "x = 5\n",
    "x ^= 3\n",
    "\n",
    "print(x)"
   ]
  },
  {
   "cell_type": "code",
   "execution_count": null,
   "metadata": {
    "id": "yN0KrqdXu2IT"
   },
   "outputs": [],
   "source": [
    "x = 5\n",
    "x >>= 3\n",
    "\n",
    "print(x)"
   ]
  },
  {
   "cell_type": "code",
   "execution_count": null,
   "metadata": {
    "id": "vR-_Fp6mu3Lc"
   },
   "outputs": [],
   "source": [
    "x = 5\n",
    "x <<= 3\n",
    "\n",
    "print(x)"
   ]
  },
  {
   "cell_type": "markdown",
   "metadata": {
    "id": "qnHSZi8Yu7WL"
   },
   "source": [
    "#### comparison operators"
   ]
  },
  {
   "cell_type": "markdown",
   "metadata": {
    "id": "HFT0OSWZwHsF"
   },
   "source": [
    "- Comparison operators are used to compare two values"
   ]
  },
  {
   "cell_type": "code",
   "execution_count": null,
   "metadata": {
    "id": "BT6sDDkHvDNJ"
   },
   "outputs": [],
   "source": [
    "x = 5\n",
    "y = 3\n",
    "\n",
    "print(x == y)\n",
    "\n",
    "# returns False because 5 is not equal to 3"
   ]
  },
  {
   "cell_type": "code",
   "execution_count": null,
   "metadata": {
    "id": "KZK0kek_vFDH"
   },
   "outputs": [],
   "source": [
    "x = 5\n",
    "y = 3\n",
    "\n",
    "print(x != y)\n",
    "# returns True because 5 is not equal to 3"
   ]
  },
  {
   "cell_type": "code",
   "execution_count": null,
   "metadata": {
    "id": "dR2kkohxvGnG"
   },
   "outputs": [],
   "source": [
    "x = 5\n",
    "y = 3\n",
    "print(x > y)\n",
    "# returns True because 5 is greater than 3"
   ]
  },
  {
   "cell_type": "code",
   "execution_count": null,
   "metadata": {
    "id": "h43aORC4vIPw"
   },
   "outputs": [],
   "source": [
    "x = 5\n",
    "y = 3\n",
    "\n",
    "print(x < y)\n",
    "# returns False because 5 is not less than 3"
   ]
  },
  {
   "cell_type": "code",
   "execution_count": null,
   "metadata": {
    "id": "MJEoE1TPvP6V"
   },
   "outputs": [],
   "source": [
    "x = 5\n",
    "y = 3\n",
    "\n",
    "print(x >= y)\n",
    "# returns True because five is greater, or equal, to 3"
   ]
  },
  {
   "cell_type": "code",
   "execution_count": null,
   "metadata": {
    "id": "D-iNYShivRN9"
   },
   "outputs": [],
   "source": [
    "x = 5\n",
    "y = 3\n",
    "\n",
    "print(x <= y)\n",
    "# returns False because 5 is neither less than or equal to 3"
   ]
  },
  {
   "cell_type": "markdown",
   "metadata": {
    "id": "KNYM8DxE5Ohc"
   },
   "source": [
    "#### chaining comparision operators"
   ]
  },
  {
   "cell_type": "code",
   "execution_count": 9,
   "metadata": {
    "colab": {
     "base_uri": "https://localhost:8080/"
    },
    "executionInfo": {
     "elapsed": 7,
     "status": "ok",
     "timestamp": 1685168944528,
     "user": {
      "displayName": "DSS DSS",
      "userId": "17636620013329168760"
     },
     "user_tz": -330
    },
    "id": "a7R84qRY5BJr",
    "outputId": "2ba278e8-5bb3-43b7-bc62-37e9415fc4dd"
   },
   "outputs": [
    {
     "name": "stdout",
     "output_type": "stream",
     "text": [
      "True\n",
      "False\n",
      "True\n",
      "True\n",
      "True\n"
     ]
    }
   ],
   "source": [
    "x = 5\n",
    "print(1 < x < 10)\n",
    "print(10 < x < 20 )\n",
    "print(x < 10 < x*10 < 100) # 5 < 10 < 50 < 100\n",
    "print(10 > x <= 9) # 10 > 5 <= 9\n",
    "print(5 == x > 4) # 5 == 5 > 4"
   ]
  },
  {
   "cell_type": "code",
   "execution_count": 21,
   "metadata": {
    "colab": {
     "base_uri": "https://localhost:8080/"
    },
    "executionInfo": {
     "elapsed": 5,
     "status": "ok",
     "timestamp": 1685168944528,
     "user": {
      "displayName": "DSS DSS",
      "userId": "17636620013329168760"
     },
     "user_tz": -330
    },
    "id": "GQpqhwId5ULl",
    "outputId": "dcb8e45e-6543-4568-a147-e06f69f678a0"
   },
   "outputs": [
    {
     "name": "stdout",
     "output_type": "stream",
     "text": [
      "True\n",
      "False\n"
     ]
    }
   ],
   "source": [
    "a, b, c, d, e, f = 0, 5, 12, 0, 15, 15\n",
    "exp1 = a <= (b < (c > ((d is not e) is f)))\n",
    "exp2 = a is d > f is not c\n",
    "print(exp1)\n",
    "print(exp2)"
   ]
  },
  {
   "cell_type": "code",
   "execution_count": 3,
   "metadata": {
    "colab": {
     "base_uri": "https://localhost:8080/"
    },
    "executionInfo": {
     "elapsed": 3,
     "status": "ok",
     "timestamp": 1685168962754,
     "user": {
      "displayName": "DSS DSS",
      "userId": "17636620013329168760"
     },
     "user_tz": -330
    },
    "id": "kC2TXSYs5YI9",
    "outputId": "fefe7ad3-ce37-42d3-8871-d68c1fb29bb3"
   },
   "outputs": [
    {
     "name": "stdout",
     "output_type": "stream",
     "text": [
      "y is greater than x and less than z\n"
     ]
    }
   ],
   "source": [
    "x = 5\n",
    "y = 10\n",
    "z = 15\n",
    "if x < y < z:\n",
    "    print(\"y is greater than x and less than z\")"
   ]
  },
  {
   "cell_type": "code",
   "execution_count": 12,
   "metadata": {
    "colab": {
     "base_uri": "https://localhost:8080/"
    },
    "executionInfo": {
     "elapsed": 3,
     "status": "ok",
     "timestamp": 1685169000664,
     "user": {
      "displayName": "DSS DSS",
      "userId": "17636620013329168760"
     },
     "user_tz": -330
    },
    "id": "-uDAUdr15hXe",
    "outputId": "c03dde2a-8f47-42fb-c87d-4ec304140f30"
   },
   "outputs": [
    {
     "name": "stdout",
     "output_type": "stream",
     "text": [
      "This will not be printed as expected!\n"
     ]
    }
   ],
   "source": [
    "x=5\n",
    "y=10\n",
    "z=15\n",
    " # T or F and F\n",
    "if x < y or y > z and z < x: # and has higher precedence than or\n",
    "    print(\"This will not be printed as expected!\")"
   ]
  },
  {
   "cell_type": "markdown",
   "metadata": {
    "id": "glayO8GavTNv"
   },
   "source": [
    "#### logical operators"
   ]
  },
  {
   "cell_type": "markdown",
   "metadata": {
    "id": "4YZTG-CvwC2w"
   },
   "source": [
    "- Logical operators are used to combine conditional statements"
   ]
  },
  {
   "cell_type": "markdown",
   "metadata": {
    "id": "i8Zdv8x4vldF"
   },
   "source": [
    "- **and** Returns True if both statements are true"
   ]
  },
  {
   "cell_type": "code",
   "execution_count": null,
   "metadata": {
    "id": "4Zp71sZkvXmu"
   },
   "outputs": [],
   "source": [
    "x = 5\n",
    "\n",
    "print(x > 3 and x < 10)\n",
    "\n",
    "# returns True because 5 is greater than 3 AND 5 is less than 10"
   ]
  },
  {
   "cell_type": "markdown",
   "metadata": {
    "id": "w-Ah0xX8vppe"
   },
   "source": [
    "- **or** Returns True if one of the statements is true"
   ]
  },
  {
   "cell_type": "code",
   "execution_count": null,
   "metadata": {
    "id": "JsT0Z3lwvYtO"
   },
   "outputs": [],
   "source": [
    "x = 5\n",
    "\n",
    "print(x > 3 or x < 4)\n",
    "# returns True because one of the conditions are true (5 is greater than 3, but 5 is not less than 4)"
   ]
  },
  {
   "cell_type": "markdown",
   "metadata": {
    "id": "D9IuE1XXvuwX"
   },
   "source": [
    "- **not** Reverse the result, returns False if the result is true"
   ]
  },
  {
   "cell_type": "code",
   "execution_count": 13,
   "metadata": {
    "id": "pt6MR1yvvab4"
   },
   "outputs": [
    {
     "name": "stdout",
     "output_type": "stream",
     "text": [
      "False\n"
     ]
    }
   ],
   "source": [
    "x = 5\n",
    "\n",
    "print(not(x > 3 and x < 10)) # not(T and T) = not(T) = F\n",
    "# returns False because not is used to reverse the result"
   ]
  },
  {
   "cell_type": "markdown",
   "metadata": {
    "id": "L5I1jJg8v3dv"
   },
   "source": [
    "#### identity operators\n",
    "- Identity operators are used to compare the objects, not if they are equal, but if they are actually the same object, with the same memory location"
   ]
  },
  {
   "cell_type": "markdown",
   "metadata": {
    "id": "ecgHxyCIwYjC"
   },
   "source": [
    "- **is** Returns True if both variables are the same object"
   ]
  },
  {
   "cell_type": "code",
   "execution_count": 15,
   "metadata": {
    "id": "Cio7MGiYwdxa"
   },
   "outputs": [
    {
     "name": "stdout",
     "output_type": "stream",
     "text": [
      "True\n",
      "False\n",
      "True\n",
      "True\n"
     ]
    }
   ],
   "source": [
    "x = [\"apple\", \"banana\"]\n",
    "y = [\"apple\", \"banana\"]\n",
    "z = x\n",
    "\n",
    "print(x == y)\n",
    "# to demonstrate the difference betweeen \"is\" and \"==\": this comparison returns True because x is equal to y\n",
    "\n",
    "print(x is y)\n",
    "# returns False because x is not the same object as y, even if they have the same content\n",
    "\n",
    "print(x == z)\n",
    "print(x is z)\n",
    "# returns True because z is the same object as x"
   ]
  },
  {
   "cell_type": "markdown",
   "metadata": {
    "id": "CtqzTSy6wi-k"
   },
   "source": [
    "- **is not** Returns True if both variables are not the same object"
   ]
  },
  {
   "cell_type": "code",
   "execution_count": 16,
   "metadata": {
    "id": "Bsgh-aN7wiK_"
   },
   "outputs": [
    {
     "name": "stdout",
     "output_type": "stream",
     "text": [
      "False\n",
      "True\n",
      "False\n"
     ]
    }
   ],
   "source": [
    "x = [\"apple\", \"banana\"]\n",
    "y = [\"apple\", \"banana\"]\n",
    "z = x\n",
    "\n",
    "print(x is not z)\n",
    "# returns False because z is the same object as x\n",
    "\n",
    "print(x is not y)\n",
    "# returns True because x is not the same object as y, even if they have the same content\n",
    "\n",
    "print(x != y)\n",
    "# to demonstrate the difference betweeen \"is not\" and \"!=\": this comparison returns False because x is equal to y"
   ]
  },
  {
   "cell_type": "markdown",
   "metadata": {
    "id": "UeYLOR9hwof0"
   },
   "source": [
    "#### membership operators"
   ]
  },
  {
   "cell_type": "markdown",
   "metadata": {
    "id": "DqgNZvxzwqT7"
   },
   "source": [
    "- Membership operators are used to test if a sequence is presented in an object"
   ]
  },
  {
   "cell_type": "markdown",
   "metadata": {
    "id": "cSz34TZxwtSj"
   },
   "source": [
    "- **in**\tReturns True if a sequence with the specified value is present in the object"
   ]
  },
  {
   "cell_type": "code",
   "execution_count": null,
   "metadata": {
    "id": "sIwdZhrow1W1"
   },
   "outputs": [],
   "source": [
    "x = [\"apple\", \"banana\"]\n",
    "\n",
    "print(\"banana\" in x)\n",
    "# returns True because a sequence with the value \"banana\" is in the list"
   ]
  },
  {
   "cell_type": "markdown",
   "metadata": {
    "id": "30JhOi3kwtP-"
   },
   "source": [
    "- **not in** Returns True if a sequence with the specified value is not present in the object"
   ]
  },
  {
   "cell_type": "code",
   "execution_count": null,
   "metadata": {
    "id": "4dEc23Lww-4s"
   },
   "outputs": [],
   "source": [
    "x = [\"apple\", \"banana\"]\n",
    "\n",
    "print(\"pineapple\" not in x)\n",
    "# returns True because a sequence with the value \"pineapple\" is not in the list\n"
   ]
  },
  {
   "cell_type": "markdown",
   "metadata": {
    "id": "wARWEkrxw9yQ"
   },
   "source": [
    "#### bitwise operators\n",
    "- Bitwise operators are used to compare (binary) numbers"
   ]
  },
  {
   "cell_type": "markdown",
   "metadata": {
    "id": "a6OcbtqhxJz0"
   },
   "source": [
    "- **& AND** Sets each bit to 1 if both bits are 1"
   ]
  },
  {
   "cell_type": "code",
   "execution_count": null,
   "metadata": {
    "colab": {
     "base_uri": "https://localhost:8080/",
     "height": 90
    },
    "executionInfo": {
     "elapsed": 27,
     "status": "ok",
     "timestamp": 1676443119282,
     "user": {
      "displayName": "sree dhar",
      "userId": "18078165690993073471"
     },
     "user_tz": -330
    },
    "id": "iH432ao6xkTU",
    "outputId": "17ae4f4f-4d66-486d-8de7-79c22218b49e"
   },
   "outputs": [
    {
     "name": "stdout",
     "output_type": "stream",
     "text": [
      "2\n"
     ]
    }
   ],
   "source": [
    "\"\"\"\n",
    "The & operator compares each bit and set it to 1 if both are 1, otherwise it is set to 0:\n",
    "\n",
    "6 = 0000000000000110\n",
    "3 = 0000000000000011\n",
    "--------------------\n",
    "2 = 0000000000000010\n",
    "====================\n",
    "\n",
    "Decimal numbers and their binary values:\n",
    "0 = 0000000000000000\n",
    "1 = 0000000000000001\n",
    "2 = 0000000000000010\n",
    "3 = 0000000000000011\n",
    "4 = 0000000000000100\n",
    "5 = 0000000000000101\n",
    "6 = 0000000000000110\n",
    "7 = 0000000000000111\n",
    "\"\"\"\n",
    "print(6 & 3)"
   ]
  },
  {
   "cell_type": "markdown",
   "metadata": {
    "id": "JAl8r0l4xMfD"
   },
   "source": [
    "- **| OR** Sets each bit to 1 if one of two bits is 1"
   ]
  },
  {
   "cell_type": "code",
   "execution_count": 22,
   "metadata": {
    "id": "58wzYzfMxm5A",
    "outputId": "cdd727af-04a1-4016-e762-689939ea882a"
   },
   "outputs": [
    {
     "name": "stdout",
     "output_type": "stream",
     "text": [
      "7\n"
     ]
    }
   ],
   "source": [
    "\"\"\"\n",
    "The | operator compares each bit and set it to 1 if one or both is 1, otherwise it is set to 0:\n",
    "\n",
    "6 = 0000000000000110\n",
    "3 = 0000000000000011\n",
    "--------------------\n",
    "7 = 0000000000000111\n",
    "====================\n",
    "\n",
    "Decimal numbers and their binary values:\n",
    "0 = 0000000000000000\n",
    "1 = 0000000000000001\n",
    "2 = 0000000000000010\n",
    "3 = 0000000000000011\n",
    "4 = 0000000000000100\n",
    "5 = 0000000000000101\n",
    "6 = 0000000000000110\n",
    "7 = 0000000000000111\n",
    "\"\"\"\n",
    "\n",
    "print(6 | 3)"
   ]
  },
  {
   "cell_type": "markdown",
   "metadata": {
    "id": "2b-4Dx2-xMhz"
   },
   "source": [
    "**^\tXOR** Sets each bit to 1 if only one of two bits is 1"
   ]
  },
  {
   "cell_type": "code",
   "execution_count": null,
   "metadata": {
    "id": "LYRSQs3vxoTL",
    "outputId": "3884f06d-5286-4419-d5e9-ed6b452fda85"
   },
   "outputs": [
    {
     "name": "stdout",
     "output_type": "stream",
     "text": [
      "5\n"
     ]
    }
   ],
   "source": [
    "\"\"\"\n",
    "The ^ operator compares each bit and set it to 1 if only one is 1, otherwise (if both are 1 or both are 0) it is set to 0:\n",
    "\n",
    "6 = 0000000000000110\n",
    "3 = 0000000000000011\n",
    "--------------------\n",
    "5 = 0000000000000101\n",
    "====================\n",
    "\n",
    "Decimal numbers and their binary values:\n",
    "0 = 0000000000000000\n",
    "1 = 0000000000000001\n",
    "2 = 0000000000000010\n",
    "3 = 0000000000000011\n",
    "4 = 0000000000000100\n",
    "5 = 0000000000000101\n",
    "6 = 0000000000000110\n",
    "7 = 0000000000000111\n",
    "\"\"\"\n",
    "print(6 ^ 3)"
   ]
  },
  {
   "cell_type": "markdown",
   "metadata": {
    "id": "bqSK-OXCxMkV"
   },
   "source": [
    "**~ NOT** Inverts all the bits"
   ]
  },
  {
   "cell_type": "code",
   "execution_count": null,
   "metadata": {
    "id": "uJVG-IttxquL",
    "outputId": "6a9490b1-4d9e-4b36-c536-ef76687fc9b4"
   },
   "outputs": [
    {
     "name": "stdout",
     "output_type": "stream",
     "text": [
      "-4\n"
     ]
    }
   ],
   "source": [
    "\"\"\"\n",
    "The ~ operator inverts each bit (0 becomes 1 and 1 becomes 0).\n",
    "\n",
    "Inverted 3 becomes -4:\n",
    " 3 = 0000000000000011\n",
    "-4 = 1111111111111100\n",
    "\n",
    "Decimal numbers and their binary values:\n",
    " 4 = 0000000000000100\n",
    " 3 = 0000000000000011\n",
    " 2 = 0000000000000010\n",
    " 1 = 0000000000000001\n",
    " 0 = 0000000000000000\n",
    "-1 = 1111111111111111\n",
    "-2 = 1111111111111110\n",
    "-3 = 1111111111111101\n",
    "-4 = 1111111111111100\n",
    "\"\"\"\n",
    "\n",
    "print(~3)"
   ]
  },
  {
   "cell_type": "markdown",
   "metadata": {
    "id": "cQJqy3N_xMnp"
   },
   "source": [
    "- **<< Zero fill left shift** Shift left by pushing zeros in from the right and let the leftmost bits fall off"
   ]
  },
  {
   "cell_type": "code",
   "execution_count": null,
   "metadata": {
    "id": "g8MubXXUxsRf",
    "outputId": "ee881fd2-a956-4ad5-de16-40563b478259"
   },
   "outputs": [
    {
     "name": "stdout",
     "output_type": "stream",
     "text": [
      "12\n"
     ]
    }
   ],
   "source": [
    "\"\"\"\n",
    "The << operator inserts the specified number of 0's (in this case 2) from the right and let the same amount of leftmost bits fall off:\n",
    "\n",
    "If you push 00 in from the left:\n",
    " 3 = 0000000000000011\n",
    "becomes\n",
    "12 = 0000000000001100\n",
    "\n",
    "Decimal numbers and their binary values:\n",
    " 0 = 0000000000000000\n",
    " 1 = 0000000000000001\n",
    " 2 = 0000000000000010\n",
    " 3 = 0000000000000011\n",
    " 4 = 0000000000000100\n",
    " 5 = 0000000000000101\n",
    " 6 = 0000000000000110\n",
    " 7 = 0000000000000111\n",
    " 8 = 0000000000001000\n",
    " 9 = 0000000000001001\n",
    "10 = 0000000000001010\n",
    "11 = 0000000000001011\n",
    "12 = 0000000000001100\n",
    "\"\"\"\n",
    "print(3 << 2)"
   ]
  },
  {
   "cell_type": "markdown",
   "metadata": {
    "id": "fvjuPvMTxMqY"
   },
   "source": [
    "- **>> Signed right shift** Shift right by pushing copies of the leftmost bit in from the left, and let the rightmost bits fall off"
   ]
  },
  {
   "cell_type": "code",
   "execution_count": null,
   "metadata": {
    "id": "CfMq2pQ9xtnC",
    "outputId": "0786f682-26b9-4dc4-fb98-13ed8ca36aa7"
   },
   "outputs": [
    {
     "name": "stdout",
     "output_type": "stream",
     "text": [
      "2\n"
     ]
    }
   ],
   "source": [
    "\"\"\"\n",
    "The >> operator moves each bit the specified number of times to the right. Empty holes at the left are filled with 0's.\n",
    "\n",
    "If you move each bit 2 times to the right, 8 becomes 2:\n",
    " 8 = 0000000000001000\n",
    "becomes\n",
    " 2 = 0000000000000010\n",
    "\n",
    "Decimal numbers and their binary values:\n",
    " 0 = 0000000000000000\n",
    " 1 = 0000000000000001\n",
    " 2 = 0000000000000010\n",
    " 3 = 0000000000000011\n",
    " 4 = 0000000000000100\n",
    " 5 = 0000000000000101\n",
    " 6 = 0000000000000110\n",
    " 7 = 0000000000000111\n",
    " 8 = 0000000000001000\n",
    " 9 = 0000000000001001\n",
    "10 = 0000000000001010\n",
    "11 = 0000000000001011\n",
    "12 = 0000000000001100\n",
    "\"\"\"\n",
    "\n",
    "print(8 >> 2)"
   ]
  },
  {
   "cell_type": "markdown",
   "metadata": {
    "id": "GP3C63fmxMuk"
   },
   "source": [
    "#### operator precedence"
   ]
  },
  {
   "cell_type": "markdown",
   "metadata": {
    "id": "xG4YovELxx2E"
   },
   "source": [
    "- Operator precedence describes the order in which operations are performed"
   ]
  },
  {
   "cell_type": "markdown",
   "metadata": {
    "id": "37LSD6FByG0C"
   },
   "source": [
    "- Parentheses has the highest precedence, meaning that expressions inside parentheses must be evaluated first:"
   ]
  },
  {
   "cell_type": "code",
   "execution_count": null,
   "metadata": {
    "id": "RwCVzEjYx52q",
    "outputId": "91636cee-3e54-4fb3-bb24-93cb882f9da2"
   },
   "outputs": [
    {
     "name": "stdout",
     "output_type": "stream",
     "text": [
      "0\n"
     ]
    }
   ],
   "source": [
    "\"\"\"\n",
    "Parenthesis have the highest precedence, and need to be evaluated first.\n",
    "The calculation above reads 9 - 9 = 0\n",
    "\"\"\"\n",
    "print((6 + 3) - (6 + 3))"
   ]
  },
  {
   "cell_type": "markdown",
   "metadata": {
    "id": "X1ePe9frx49j"
   },
   "source": [
    "- Multiplication * has higher precedence than addition +, and therefor multiplications are evaluated before additions:"
   ]
  },
  {
   "cell_type": "code",
   "execution_count": null,
   "metadata": {
    "id": "V7uPHHrnyOVx",
    "outputId": "8202ce3d-246b-4826-93d4-dbc45f99a301"
   },
   "outputs": [
    {
     "name": "stdout",
     "output_type": "stream",
     "text": [
      "115\n"
     ]
    }
   ],
   "source": [
    "\"\"\"\n",
    "Multiplication has higher precedence than addition, and needs to be evaluated first.\n",
    "The calculation above reads 100 + 15 = 115\n",
    "\"\"\"\n",
    "print(100 + 5 * 3)"
   ]
  },
  {
   "cell_type": "code",
   "execution_count": null,
   "metadata": {
    "id": "_qJb6oeQyYYa",
    "outputId": "a5637e9c-c91b-47cc-8fe9-51003433aea0"
   },
   "outputs": [
    {
     "name": "stdout",
     "output_type": "stream",
     "text": [
      "0\n"
     ]
    }
   ],
   "source": [
    "\"\"\"\n",
    "Parenthesis have the highest precedence, and need to be evaluated first.\n",
    "The calculation above reads 9 - 9 = 0\n",
    "\"\"\"\n",
    "print((6 + 3) - (6 + 3))"
   ]
  },
  {
   "cell_type": "code",
   "execution_count": null,
   "metadata": {
    "id": "29HA7DiWyZWE",
    "outputId": "ba4e3a8e-9de5-4ce8-b9d4-fab939112a2c"
   },
   "outputs": [
    {
     "name": "stdout",
     "output_type": "stream",
     "text": [
      "73\n"
     ]
    }
   ],
   "source": [
    "\"\"\"\n",
    "Exponentiation has higher precedence than subtraction, and needs to be evaluated first.\n",
    "The calculation above reads 100 - 27 = 73\n",
    "\"\"\"\n",
    "print(100 - 3 ** 3)"
   ]
  },
  {
   "cell_type": "code",
   "execution_count": null,
   "metadata": {
    "id": "IFm6ISV5yac7",
    "outputId": "157c0d69-103c-4fb3-ea43-2b1a524b09e0"
   },
   "outputs": [
    {
     "name": "stdout",
     "output_type": "stream",
     "text": [
      "96\n"
     ]
    }
   ],
   "source": [
    "\"\"\"\n",
    "Bitwise NOT has higher precedence than addition, and needs to be evaluated first.\n",
    "The calculation above reads 100 + -4 = 96\n",
    "\"\"\"\n",
    "print(100 + ~3)"
   ]
  },
  {
   "cell_type": "code",
   "execution_count": null,
   "metadata": {
    "id": "OL7RlB-TybZa",
    "outputId": "8804b047-297a-4971-ab5a-c9640fe93a3d"
   },
   "outputs": [
    {
     "name": "stdout",
     "output_type": "stream",
     "text": [
      "115\n"
     ]
    }
   ],
   "source": [
    "\"\"\"\n",
    "Multiplication has higher precedence than addition, and needs to be evaluated first.\n",
    "The calculation above reads 100 + 15 = 115\n",
    "\"\"\"\n",
    "print(100 + 5 * 3)"
   ]
  },
  {
   "cell_type": "code",
   "execution_count": null,
   "metadata": {
    "id": "RrTnI0MVycXS",
    "outputId": "79f26615-2c1e-48be-8faf-f95ec3e08a4c"
   },
   "outputs": [
    {
     "name": "stdout",
     "output_type": "stream",
     "text": [
      "85\n"
     ]
    }
   ],
   "source": [
    "\"\"\"\n",
    "Subtraction has a lower precedence than multiplication, and we need to calculate the multiplication first.\n",
    "The calculation above reads 100 - 15 = 85\n",
    "\"\"\"\n",
    "print(100 - 5 * 3)"
   ]
  },
  {
   "cell_type": "code",
   "execution_count": null,
   "metadata": {
    "id": "d7_SOJD5ydRy",
    "outputId": "86fc5298-ad9f-4050-972b-e983f90d0079"
   },
   "outputs": [
    {
     "name": "stdout",
     "output_type": "stream",
     "text": [
      "2\n"
     ]
    }
   ],
   "source": [
    "\"\"\"\n",
    "Bitwise right shift has a lower precedence than subtraction, and we need to calculate the subtraction first.\n",
    "The calculation above reads 8 >> 2 = 2\n",
    "\n",
    "More explanation:\n",
    "The >> operator moves each bit the specified number of times to the right. Empty holes at the left are filled with 0's.\n",
    "\n",
    "If you move each bit 2 times to the right, 8 becomes 2:\n",
    " 8 = 0000000000001000\n",
    "becomes\n",
    " 2 = 0000000000000010\n",
    "\n",
    "Decimal numbers and their binary values:\n",
    " 0 = 0000000000000000\n",
    " 1 = 0000000000000001\n",
    " 2 = 0000000000000010\n",
    " 3 = 0000000000000011\n",
    " 4 = 0000000000000100\n",
    " 5 = 0000000000000101\n",
    " 6 = 0000000000000110\n",
    " 7 = 0000000000000111\n",
    " 8 = 0000000000001000\n",
    " 9 = 0000000000001001\n",
    "10 = 0000000000001010\n",
    "11 = 0000000000001011\n",
    "12 = 0000000000001100\n",
    "\"\"\"\n",
    "print(8 >> 4 - 2)"
   ]
  },
  {
   "cell_type": "code",
   "execution_count": null,
   "metadata": {
    "id": "DTpA2w8ayeQC",
    "outputId": "3c40962e-6d9f-4760-82cd-a11447347324"
   },
   "outputs": [
    {
     "name": "stdout",
     "output_type": "stream",
     "text": [
      "2\n"
     ]
    }
   ],
   "source": [
    "\"\"\"\n",
    "Bitwise AND has a lower precedence than addition, and we need to calculate the addition first.\n",
    "The calculation above reads 6 & 3 = 2\n",
    "\n",
    "More explanation:\n",
    "The & operator compares each bit and set it to 1 if both are 1, otherwise it is set to 0:\n",
    "\n",
    "6 = 0000000000000110\n",
    "3 = 0000000000000011\n",
    "--------------------\n",
    "2 = 0000000000000010\n",
    "====================\n",
    "\n",
    "Decimal numbers and their binary values:\n",
    "0 = 0000000000000000\n",
    "1 = 0000000000000001\n",
    "2 = 0000000000000010\n",
    "3 = 0000000000000011\n",
    "4 = 0000000000000100\n",
    "5 = 0000000000000101\n",
    "6 = 0000000000000110\n",
    "7 = 0000000000000111\n",
    "\"\"\"\n",
    "print(6 & 2 + 1)"
   ]
  },
  {
   "cell_type": "code",
   "execution_count": null,
   "metadata": {
    "id": "Xrx9JDUeyfHR",
    "outputId": "d7bda584-3569-45d9-adf9-775a6b2344af"
   },
   "outputs": [
    {
     "name": "stdout",
     "output_type": "stream",
     "text": [
      "5\n"
     ]
    }
   ],
   "source": [
    "\"\"\"\n",
    "Bitwise XOR has a lower precedence than addition, and we need to calculate the addition first.\n",
    "The calculation above reads 6 ^ 3 = 5\n",
    "\n",
    "More explanation:\n",
    "The ^ operator compares each bit and set it to 1 if only one is 1, otherwise (if both are 1 or both are 0) it is set to 0:\n",
    "\n",
    "6 = 0000000000000110\n",
    "3 = 0000000000000011\n",
    "--------------------\n",
    "5 = 0000000000000101\n",
    "====================\n",
    "\n",
    "Decimal numbers and their binary values:\n",
    "0 = 0000000000000000\n",
    "1 = 0000000000000001\n",
    "2 = 0000000000000010\n",
    "3 = 0000000000000011\n",
    "4 = 0000000000000100\n",
    "5 = 0000000000000101\n",
    "6 = 0000000000000110\n",
    "7 = 0000000000000111\n",
    "\"\"\"\n",
    "print(6 ^ 2 + 1)"
   ]
  },
  {
   "cell_type": "code",
   "execution_count": null,
   "metadata": {
    "id": "33CXw6lLygCi",
    "outputId": "585714f8-9089-4577-c541-e5a5aa320d1e"
   },
   "outputs": [
    {
     "name": "stdout",
     "output_type": "stream",
     "text": [
      "7\n"
     ]
    }
   ],
   "source": [
    "\"\"\"\n",
    "Bitwise OR has a lower precedence than addition, and we need to calculate the addition first.\n",
    "The calculation above reads 6 | 3 = 7\n",
    "\n",
    "More explanation:\n",
    "The | operator compares each bit and set it to 1 if one or both is 1, otherwise it is set to 0:\n",
    "\n",
    "6 = 0000000000000110\n",
    "3 = 0000000000000011\n",
    "--------------------\n",
    "7 = 0000000000000111\n",
    "====================\n",
    "\n",
    "Decimal numbers and their binary values:\n",
    "0 = 0000000000000000\n",
    "1 = 0000000000000001\n",
    "2 = 0000000000000010\n",
    "3 = 0000000000000011\n",
    "4 = 0000000000000100\n",
    "5 = 0000000000000101\n",
    "6 = 0000000000000110\n",
    "7 = 0000000000000111\n",
    "\"\"\"\n",
    "print(6 | 2 + 1)"
   ]
  },
  {
   "cell_type": "code",
   "execution_count": null,
   "metadata": {
    "id": "8cZ7zMMDyh3z",
    "outputId": "19145c13-6150-4c6a-c76e-4bbe4cb8ac0d"
   },
   "outputs": [
    {
     "name": "stdout",
     "output_type": "stream",
     "text": [
      "True\n"
     ]
    }
   ],
   "source": [
    "\"\"\"\n",
    "The \"like\" comparison has a lower precedence than addition, and we need to calculate the addition first.\n",
    "The calculation above reads 5 == 5 = True\n",
    "\"\"\"\n",
    "print(5 == 4 + 1)"
   ]
  },
  {
   "cell_type": "code",
   "execution_count": null,
   "metadata": {
    "id": "qr-bz61HyjIh",
    "outputId": "bd5cb502-721e-4026-d07f-cd56a0d49050"
   },
   "outputs": [
    {
     "name": "stdout",
     "output_type": "stream",
     "text": [
      "False\n"
     ]
    }
   ],
   "source": [
    "\"\"\"\n",
    "The logical NOT operator has a lower precedence than \"like\" comparison, and we need to calculate the comparison first.\n",
    "The calculation above reads: not True = False\n",
    "\"\"\"\n",
    "print(not 5 == 5)"
   ]
  },
  {
   "cell_type": "code",
   "execution_count": null,
   "metadata": {
    "id": "35TmfXguykE5",
    "outputId": "4f8a9c95-5282-44a8-e110-5a004aaf5073"
   },
   "outputs": [
    {
     "name": "stdout",
     "output_type": "stream",
     "text": [
      "1\n"
     ]
    }
   ],
   "source": [
    "\"\"\"\n",
    "The and operator has a higher precedence than or, and we need to calculate the and expression first.\n",
    "The calculation above reads: 1 or 3 = 1\n",
    "\"\"\"\n",
    "print(1 or 2 and 3)"
   ]
  },
  {
   "cell_type": "code",
   "execution_count": null,
   "metadata": {
    "id": "HmOJbUqaylJZ",
    "outputId": "d26a694c-5435-4f1d-82f8-cc1a4fb66f65"
   },
   "outputs": [
    {
     "name": "stdout",
     "output_type": "stream",
     "text": [
      "4\n"
     ]
    }
   ],
   "source": [
    "\"\"\"\n",
    "The or operator has a lower precedence than addition, and we need to calculate the addition first.\n",
    "The calculation above reads: 4 or 15 or 8 = 4\n",
    "\"\"\"\n",
    "print(4 or 5 + 10 or 8)"
   ]
  }
 ],
 "metadata": {
  "colab": {
   "provenance": [],
   "toc_visible": true
  },
  "kernelspec": {
   "display_name": "Python 3 (ipykernel)",
   "language": "python",
   "name": "python3"
  },
  "language_info": {
   "codemirror_mode": {
    "name": "ipython",
    "version": 3
   },
   "file_extension": ".py",
   "mimetype": "text/x-python",
   "name": "python",
   "nbconvert_exporter": "python",
   "pygments_lexer": "ipython3",
   "version": "3.9.16"
  }
 },
 "nbformat": 4,
 "nbformat_minor": 1
}
