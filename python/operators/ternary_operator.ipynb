{
 "cells": [
  {
   "cell_type": "markdown",
   "id": "a4bad488",
   "metadata": {},
   "source": [
    "#### Ternary operator"
   ]
  },
  {
   "cell_type": "markdown",
   "id": "2ff3fc9f",
   "metadata": {},
   "source": [
    "- allows testing a condition in a single line replacing the multiline if-else making the code compact"
   ]
  },
  {
   "cell_type": "markdown",
   "id": "9aefc57f",
   "metadata": {},
   "source": [
    "#### using if else"
   ]
  },
  {
   "cell_type": "code",
   "execution_count": 5,
   "id": "c85dc8fe",
   "metadata": {},
   "outputs": [
    {
     "name": "stdout",
     "output_type": "stream",
     "text": [
      "20\n",
      "10\n"
     ]
    }
   ],
   "source": [
    "# [on_true] if [expression] else [on_false] \n",
    "\n",
    "a = 10\n",
    "b = 20\n",
    "\n",
    "max = a if a>b else b\n",
    "print(max)\n",
    "\n",
    "min = a if a<b else b\n",
    "print(min)"
   ]
  },
  {
   "cell_type": "code",
   "execution_count": 20,
   "id": "ccb3393b",
   "metadata": {},
   "outputs": [
    {
     "name": "stdout",
     "output_type": "stream",
     "text": [
      "20 is Greater\n",
      "20 is Greater\n"
     ]
    }
   ],
   "source": [
    "# using print in ternary operator\n",
    "\n",
    "print(a,\"is greater\") if (a>b) else print(b,\"is Greater\")\n",
    "print(str(a)+\" is greater\" if (a>b) else str(b)+\" is Greater\")"
   ]
  },
  {
   "cell_type": "markdown",
   "id": "226d7dd8",
   "metadata": {},
   "source": [
    "#### using tuples"
   ]
  },
  {
   "cell_type": "code",
   "execution_count": 1,
   "id": "231805d9",
   "metadata": {},
   "outputs": [
    {
     "name": "stdout",
     "output_type": "stream",
     "text": [
      "20\n",
      "10\n"
     ]
    }
   ],
   "source": [
    "# (on_false, on_true) [expression]\n",
    "\n",
    "a,b = 10,20\n",
    "\n",
    "max = (b,a) [a>b]\n",
    "print(max)\n",
    "\n",
    "min = (b,a) [a<b]\n",
    "print(min)"
   ]
  },
  {
   "cell_type": "markdown",
   "id": "2bef1377",
   "metadata": {},
   "source": [
    "#### using dictionary"
   ]
  },
  {
   "cell_type": "code",
   "execution_count": 14,
   "id": "d35e57b3",
   "metadata": {},
   "outputs": [
    {
     "name": "stdout",
     "output_type": "stream",
     "text": [
      "10 20\n"
     ]
    }
   ],
   "source": [
    "a,b = 10,20\n",
    "min = {True: a, False: b} [a < b]\n",
    "max = {True: a, False: b} [a > b]\n",
    "print(min, max)"
   ]
  },
  {
   "cell_type": "markdown",
   "id": "c70c97d7",
   "metadata": {},
   "source": [
    "#### using lambda"
   ]
  },
  {
   "cell_type": "code",
   "execution_count": 16,
   "id": "5fe601a4",
   "metadata": {},
   "outputs": [
    {
     "name": "stdout",
     "output_type": "stream",
     "text": [
      "10\n"
     ]
    }
   ],
   "source": [
    "a,b = 10,20\n",
    "min = (lambda: b, lambda: a)[a < b]()\n",
    "print(min)"
   ]
  },
  {
   "cell_type": "markdown",
   "id": "f0deb684",
   "metadata": {},
   "source": [
    "#### nested ternary operator"
   ]
  },
  {
   "cell_type": "code",
   "execution_count": 21,
   "id": "4ba39812",
   "metadata": {},
   "outputs": [
    {
     "name": "stdout",
     "output_type": "stream",
     "text": [
      "b is greater than a\n"
     ]
    }
   ],
   "source": [
    "a, b = 10, 20\n",
    " \n",
    "print (\"Both a and b are equal\" if a == b \n",
    "       else \"a is greater than b\" if a > b \n",
    "       else \"b is greater than a\")"
   ]
  }
 ],
 "metadata": {
  "kernelspec": {
   "display_name": "Python 3 (ipykernel)",
   "language": "python",
   "name": "python3"
  },
  "language_info": {
   "codemirror_mode": {
    "name": "ipython",
    "version": 3
   },
   "file_extension": ".py",
   "mimetype": "text/x-python",
   "name": "python",
   "nbconvert_exporter": "python",
   "pygments_lexer": "ipython3",
   "version": "3.9.16"
  }
 },
 "nbformat": 4,
 "nbformat_minor": 5
}
