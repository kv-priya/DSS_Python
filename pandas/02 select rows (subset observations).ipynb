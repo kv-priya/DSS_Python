{
 "cells": [
  {
   "cell_type": "markdown",
   "id": "01IPOoglloEZ",
   "metadata": {
    "id": "01IPOoglloEZ"
   },
   "source": [
    "### subset observations (rows)"
   ]
  },
  {
   "cell_type": "code",
   "execution_count": 67,
   "id": "6a202abb",
   "metadata": {},
   "outputs": [],
   "source": [
    "import numpy as np\n",
    "import pandas as pd"
   ]
  },
  {
   "cell_type": "code",
   "execution_count": 68,
   "id": "tliI_j8xgLZp",
   "metadata": {
    "executionInfo": {
     "elapsed": 516,
     "status": "ok",
     "timestamp": 1686761372375,
     "user": {
      "displayName": "DSS DSS",
      "userId": "17636620013329168760"
     },
     "user_tz": -330
    },
    "id": "tliI_j8xgLZp"
   },
   "outputs": [],
   "source": [
    "### subset observations (rows)# specify values for each column\n",
    "import random\n",
    "import string\n",
    "\n",
    "emp_dict = {\"id\": ['EBDA'+str(x) for x in range(1001,1031)],\n",
    "           \"name\": [random.choice(string.ascii_letters.lower())*3 for x in range(30)],\n",
    "           \"age\": [random.randint(22,45) for _ in range(30)],\n",
    "           \"salary\": [random.randint(25000,90000) for _ in range(30)]}\n",
    "\n",
    "df = pd.DataFrame(data = emp_dict,\n",
    "                  index= list(range(1,31))) # dict values length"
   ]
  },
  {
   "cell_type": "code",
   "execution_count": 69,
   "id": "CsVyNsWHmGhR",
   "metadata": {
    "colab": {
     "base_uri": "https://localhost:8080/",
     "height": 990
    },
    "executionInfo": {
     "elapsed": 7,
     "status": "ok",
     "timestamp": 1686761374629,
     "user": {
      "displayName": "DSS DSS",
      "userId": "17636620013329168760"
     },
     "user_tz": -330
    },
    "id": "CsVyNsWHmGhR",
    "outputId": "3ccf21ab-dcc1-48d5-a8ff-d6e38b57a6c2"
   },
   "outputs": [
    {
     "data": {
      "text/html": [
       "<div>\n",
       "<style scoped>\n",
       "    .dataframe tbody tr th:only-of-type {\n",
       "        vertical-align: middle;\n",
       "    }\n",
       "\n",
       "    .dataframe tbody tr th {\n",
       "        vertical-align: top;\n",
       "    }\n",
       "\n",
       "    .dataframe thead th {\n",
       "        text-align: right;\n",
       "    }\n",
       "</style>\n",
       "<table border=\"1\" class=\"dataframe\">\n",
       "  <thead>\n",
       "    <tr style=\"text-align: right;\">\n",
       "      <th></th>\n",
       "      <th>id</th>\n",
       "      <th>name</th>\n",
       "      <th>age</th>\n",
       "      <th>salary</th>\n",
       "    </tr>\n",
       "  </thead>\n",
       "  <tbody>\n",
       "    <tr>\n",
       "      <th>1</th>\n",
       "      <td>EBDA1001</td>\n",
       "      <td>eee</td>\n",
       "      <td>26</td>\n",
       "      <td>43416</td>\n",
       "    </tr>\n",
       "    <tr>\n",
       "      <th>2</th>\n",
       "      <td>EBDA1002</td>\n",
       "      <td>aaa</td>\n",
       "      <td>45</td>\n",
       "      <td>38522</td>\n",
       "    </tr>\n",
       "    <tr>\n",
       "      <th>3</th>\n",
       "      <td>EBDA1003</td>\n",
       "      <td>nnn</td>\n",
       "      <td>43</td>\n",
       "      <td>88737</td>\n",
       "    </tr>\n",
       "    <tr>\n",
       "      <th>4</th>\n",
       "      <td>EBDA1004</td>\n",
       "      <td>qqq</td>\n",
       "      <td>31</td>\n",
       "      <td>80034</td>\n",
       "    </tr>\n",
       "    <tr>\n",
       "      <th>5</th>\n",
       "      <td>EBDA1005</td>\n",
       "      <td>lll</td>\n",
       "      <td>25</td>\n",
       "      <td>45644</td>\n",
       "    </tr>\n",
       "    <tr>\n",
       "      <th>6</th>\n",
       "      <td>EBDA1006</td>\n",
       "      <td>ggg</td>\n",
       "      <td>40</td>\n",
       "      <td>32274</td>\n",
       "    </tr>\n",
       "    <tr>\n",
       "      <th>7</th>\n",
       "      <td>EBDA1007</td>\n",
       "      <td>ccc</td>\n",
       "      <td>26</td>\n",
       "      <td>40756</td>\n",
       "    </tr>\n",
       "    <tr>\n",
       "      <th>8</th>\n",
       "      <td>EBDA1008</td>\n",
       "      <td>kkk</td>\n",
       "      <td>39</td>\n",
       "      <td>80494</td>\n",
       "    </tr>\n",
       "    <tr>\n",
       "      <th>9</th>\n",
       "      <td>EBDA1009</td>\n",
       "      <td>ggg</td>\n",
       "      <td>38</td>\n",
       "      <td>37736</td>\n",
       "    </tr>\n",
       "    <tr>\n",
       "      <th>10</th>\n",
       "      <td>EBDA1010</td>\n",
       "      <td>fff</td>\n",
       "      <td>31</td>\n",
       "      <td>86488</td>\n",
       "    </tr>\n",
       "    <tr>\n",
       "      <th>11</th>\n",
       "      <td>EBDA1011</td>\n",
       "      <td>ccc</td>\n",
       "      <td>34</td>\n",
       "      <td>26561</td>\n",
       "    </tr>\n",
       "    <tr>\n",
       "      <th>12</th>\n",
       "      <td>EBDA1012</td>\n",
       "      <td>ddd</td>\n",
       "      <td>40</td>\n",
       "      <td>77006</td>\n",
       "    </tr>\n",
       "    <tr>\n",
       "      <th>13</th>\n",
       "      <td>EBDA1013</td>\n",
       "      <td>sss</td>\n",
       "      <td>27</td>\n",
       "      <td>66580</td>\n",
       "    </tr>\n",
       "    <tr>\n",
       "      <th>14</th>\n",
       "      <td>EBDA1014</td>\n",
       "      <td>aaa</td>\n",
       "      <td>40</td>\n",
       "      <td>50556</td>\n",
       "    </tr>\n",
       "    <tr>\n",
       "      <th>15</th>\n",
       "      <td>EBDA1015</td>\n",
       "      <td>www</td>\n",
       "      <td>23</td>\n",
       "      <td>49648</td>\n",
       "    </tr>\n",
       "    <tr>\n",
       "      <th>16</th>\n",
       "      <td>EBDA1016</td>\n",
       "      <td>ppp</td>\n",
       "      <td>26</td>\n",
       "      <td>31487</td>\n",
       "    </tr>\n",
       "    <tr>\n",
       "      <th>17</th>\n",
       "      <td>EBDA1017</td>\n",
       "      <td>mmm</td>\n",
       "      <td>39</td>\n",
       "      <td>46272</td>\n",
       "    </tr>\n",
       "    <tr>\n",
       "      <th>18</th>\n",
       "      <td>EBDA1018</td>\n",
       "      <td>lll</td>\n",
       "      <td>40</td>\n",
       "      <td>32209</td>\n",
       "    </tr>\n",
       "    <tr>\n",
       "      <th>19</th>\n",
       "      <td>EBDA1019</td>\n",
       "      <td>ppp</td>\n",
       "      <td>42</td>\n",
       "      <td>41006</td>\n",
       "    </tr>\n",
       "    <tr>\n",
       "      <th>20</th>\n",
       "      <td>EBDA1020</td>\n",
       "      <td>uuu</td>\n",
       "      <td>43</td>\n",
       "      <td>30536</td>\n",
       "    </tr>\n",
       "    <tr>\n",
       "      <th>21</th>\n",
       "      <td>EBDA1021</td>\n",
       "      <td>iii</td>\n",
       "      <td>38</td>\n",
       "      <td>77904</td>\n",
       "    </tr>\n",
       "    <tr>\n",
       "      <th>22</th>\n",
       "      <td>EBDA1022</td>\n",
       "      <td>jjj</td>\n",
       "      <td>29</td>\n",
       "      <td>43517</td>\n",
       "    </tr>\n",
       "    <tr>\n",
       "      <th>23</th>\n",
       "      <td>EBDA1023</td>\n",
       "      <td>qqq</td>\n",
       "      <td>24</td>\n",
       "      <td>44868</td>\n",
       "    </tr>\n",
       "    <tr>\n",
       "      <th>24</th>\n",
       "      <td>EBDA1024</td>\n",
       "      <td>eee</td>\n",
       "      <td>40</td>\n",
       "      <td>76643</td>\n",
       "    </tr>\n",
       "    <tr>\n",
       "      <th>25</th>\n",
       "      <td>EBDA1025</td>\n",
       "      <td>ttt</td>\n",
       "      <td>39</td>\n",
       "      <td>39932</td>\n",
       "    </tr>\n",
       "    <tr>\n",
       "      <th>26</th>\n",
       "      <td>EBDA1026</td>\n",
       "      <td>sss</td>\n",
       "      <td>31</td>\n",
       "      <td>31656</td>\n",
       "    </tr>\n",
       "    <tr>\n",
       "      <th>27</th>\n",
       "      <td>EBDA1027</td>\n",
       "      <td>ddd</td>\n",
       "      <td>24</td>\n",
       "      <td>36178</td>\n",
       "    </tr>\n",
       "    <tr>\n",
       "      <th>28</th>\n",
       "      <td>EBDA1028</td>\n",
       "      <td>uuu</td>\n",
       "      <td>45</td>\n",
       "      <td>63663</td>\n",
       "    </tr>\n",
       "    <tr>\n",
       "      <th>29</th>\n",
       "      <td>EBDA1029</td>\n",
       "      <td>kkk</td>\n",
       "      <td>45</td>\n",
       "      <td>79921</td>\n",
       "    </tr>\n",
       "    <tr>\n",
       "      <th>30</th>\n",
       "      <td>EBDA1030</td>\n",
       "      <td>hhh</td>\n",
       "      <td>25</td>\n",
       "      <td>65118</td>\n",
       "    </tr>\n",
       "  </tbody>\n",
       "</table>\n",
       "</div>"
      ],
      "text/plain": [
       "          id name  age  salary\n",
       "1   EBDA1001  eee   26   43416\n",
       "2   EBDA1002  aaa   45   38522\n",
       "3   EBDA1003  nnn   43   88737\n",
       "4   EBDA1004  qqq   31   80034\n",
       "5   EBDA1005  lll   25   45644\n",
       "6   EBDA1006  ggg   40   32274\n",
       "7   EBDA1007  ccc   26   40756\n",
       "8   EBDA1008  kkk   39   80494\n",
       "9   EBDA1009  ggg   38   37736\n",
       "10  EBDA1010  fff   31   86488\n",
       "11  EBDA1011  ccc   34   26561\n",
       "12  EBDA1012  ddd   40   77006\n",
       "13  EBDA1013  sss   27   66580\n",
       "14  EBDA1014  aaa   40   50556\n",
       "15  EBDA1015  www   23   49648\n",
       "16  EBDA1016  ppp   26   31487\n",
       "17  EBDA1017  mmm   39   46272\n",
       "18  EBDA1018  lll   40   32209\n",
       "19  EBDA1019  ppp   42   41006\n",
       "20  EBDA1020  uuu   43   30536\n",
       "21  EBDA1021  iii   38   77904\n",
       "22  EBDA1022  jjj   29   43517\n",
       "23  EBDA1023  qqq   24   44868\n",
       "24  EBDA1024  eee   40   76643\n",
       "25  EBDA1025  ttt   39   39932\n",
       "26  EBDA1026  sss   31   31656\n",
       "27  EBDA1027  ddd   24   36178\n",
       "28  EBDA1028  uuu   45   63663\n",
       "29  EBDA1029  kkk   45   79921\n",
       "30  EBDA1030  hhh   25   65118"
      ]
     },
     "execution_count": 69,
     "metadata": {},
     "output_type": "execute_result"
    }
   ],
   "source": [
    "# total dataset\n",
    "df"
   ]
  },
  {
   "cell_type": "markdown",
   "id": "3cbd4724",
   "metadata": {},
   "source": [
    "### df.head()"
   ]
  },
  {
   "cell_type": "code",
   "execution_count": 70,
   "id": "DNNN8cdol-j6",
   "metadata": {
    "colab": {
     "base_uri": "https://localhost:8080/",
     "height": 206
    },
    "executionInfo": {
     "elapsed": 542,
     "status": "ok",
     "timestamp": 1686761381705,
     "user": {
      "displayName": "DSS DSS",
      "userId": "17636620013329168760"
     },
     "user_tz": -330
    },
    "id": "DNNN8cdol-j6",
    "outputId": "7487aaf8-829a-4e9b-a660-ad28fcbf9905"
   },
   "outputs": [
    {
     "data": {
      "text/html": [
       "<div>\n",
       "<style scoped>\n",
       "    .dataframe tbody tr th:only-of-type {\n",
       "        vertical-align: middle;\n",
       "    }\n",
       "\n",
       "    .dataframe tbody tr th {\n",
       "        vertical-align: top;\n",
       "    }\n",
       "\n",
       "    .dataframe thead th {\n",
       "        text-align: right;\n",
       "    }\n",
       "</style>\n",
       "<table border=\"1\" class=\"dataframe\">\n",
       "  <thead>\n",
       "    <tr style=\"text-align: right;\">\n",
       "      <th></th>\n",
       "      <th>id</th>\n",
       "      <th>name</th>\n",
       "      <th>age</th>\n",
       "      <th>salary</th>\n",
       "    </tr>\n",
       "  </thead>\n",
       "  <tbody>\n",
       "    <tr>\n",
       "      <th>1</th>\n",
       "      <td>EBDA1001</td>\n",
       "      <td>eee</td>\n",
       "      <td>26</td>\n",
       "      <td>43416</td>\n",
       "    </tr>\n",
       "    <tr>\n",
       "      <th>2</th>\n",
       "      <td>EBDA1002</td>\n",
       "      <td>aaa</td>\n",
       "      <td>45</td>\n",
       "      <td>38522</td>\n",
       "    </tr>\n",
       "    <tr>\n",
       "      <th>3</th>\n",
       "      <td>EBDA1003</td>\n",
       "      <td>nnn</td>\n",
       "      <td>43</td>\n",
       "      <td>88737</td>\n",
       "    </tr>\n",
       "    <tr>\n",
       "      <th>4</th>\n",
       "      <td>EBDA1004</td>\n",
       "      <td>qqq</td>\n",
       "      <td>31</td>\n",
       "      <td>80034</td>\n",
       "    </tr>\n",
       "    <tr>\n",
       "      <th>5</th>\n",
       "      <td>EBDA1005</td>\n",
       "      <td>lll</td>\n",
       "      <td>25</td>\n",
       "      <td>45644</td>\n",
       "    </tr>\n",
       "  </tbody>\n",
       "</table>\n",
       "</div>"
      ],
      "text/plain": [
       "         id name  age  salary\n",
       "1  EBDA1001  eee   26   43416\n",
       "2  EBDA1002  aaa   45   38522\n",
       "3  EBDA1003  nnn   43   88737\n",
       "4  EBDA1004  qqq   31   80034\n",
       "5  EBDA1005  lll   25   45644"
      ]
     },
     "execution_count": 70,
     "metadata": {},
     "output_type": "execute_result"
    }
   ],
   "source": [
    "df.head() # first 5 rows"
   ]
  },
  {
   "cell_type": "code",
   "execution_count": 71,
   "id": "92zoDw0VlrWs",
   "metadata": {
    "colab": {
     "base_uri": "https://localhost:8080/",
     "height": 426
    },
    "executionInfo": {
     "elapsed": 5,
     "status": "ok",
     "timestamp": 1686761382136,
     "user": {
      "displayName": "DSS DSS",
      "userId": "17636620013329168760"
     },
     "user_tz": -330
    },
    "id": "92zoDw0VlrWs",
    "outputId": "ef992b3f-7cf1-4bc4-93ae-11a27b095b63"
   },
   "outputs": [
    {
     "data": {
      "text/html": [
       "<div>\n",
       "<style scoped>\n",
       "    .dataframe tbody tr th:only-of-type {\n",
       "        vertical-align: middle;\n",
       "    }\n",
       "\n",
       "    .dataframe tbody tr th {\n",
       "        vertical-align: top;\n",
       "    }\n",
       "\n",
       "    .dataframe thead th {\n",
       "        text-align: right;\n",
       "    }\n",
       "</style>\n",
       "<table border=\"1\" class=\"dataframe\">\n",
       "  <thead>\n",
       "    <tr style=\"text-align: right;\">\n",
       "      <th></th>\n",
       "      <th>id</th>\n",
       "      <th>name</th>\n",
       "      <th>age</th>\n",
       "      <th>salary</th>\n",
       "    </tr>\n",
       "  </thead>\n",
       "  <tbody>\n",
       "    <tr>\n",
       "      <th>1</th>\n",
       "      <td>EBDA1001</td>\n",
       "      <td>eee</td>\n",
       "      <td>26</td>\n",
       "      <td>43416</td>\n",
       "    </tr>\n",
       "    <tr>\n",
       "      <th>2</th>\n",
       "      <td>EBDA1002</td>\n",
       "      <td>aaa</td>\n",
       "      <td>45</td>\n",
       "      <td>38522</td>\n",
       "    </tr>\n",
       "    <tr>\n",
       "      <th>3</th>\n",
       "      <td>EBDA1003</td>\n",
       "      <td>nnn</td>\n",
       "      <td>43</td>\n",
       "      <td>88737</td>\n",
       "    </tr>\n",
       "    <tr>\n",
       "      <th>4</th>\n",
       "      <td>EBDA1004</td>\n",
       "      <td>qqq</td>\n",
       "      <td>31</td>\n",
       "      <td>80034</td>\n",
       "    </tr>\n",
       "    <tr>\n",
       "      <th>5</th>\n",
       "      <td>EBDA1005</td>\n",
       "      <td>lll</td>\n",
       "      <td>25</td>\n",
       "      <td>45644</td>\n",
       "    </tr>\n",
       "    <tr>\n",
       "      <th>6</th>\n",
       "      <td>EBDA1006</td>\n",
       "      <td>ggg</td>\n",
       "      <td>40</td>\n",
       "      <td>32274</td>\n",
       "    </tr>\n",
       "    <tr>\n",
       "      <th>7</th>\n",
       "      <td>EBDA1007</td>\n",
       "      <td>ccc</td>\n",
       "      <td>26</td>\n",
       "      <td>40756</td>\n",
       "    </tr>\n",
       "    <tr>\n",
       "      <th>8</th>\n",
       "      <td>EBDA1008</td>\n",
       "      <td>kkk</td>\n",
       "      <td>39</td>\n",
       "      <td>80494</td>\n",
       "    </tr>\n",
       "    <tr>\n",
       "      <th>9</th>\n",
       "      <td>EBDA1009</td>\n",
       "      <td>ggg</td>\n",
       "      <td>38</td>\n",
       "      <td>37736</td>\n",
       "    </tr>\n",
       "    <tr>\n",
       "      <th>10</th>\n",
       "      <td>EBDA1010</td>\n",
       "      <td>fff</td>\n",
       "      <td>31</td>\n",
       "      <td>86488</td>\n",
       "    </tr>\n",
       "    <tr>\n",
       "      <th>11</th>\n",
       "      <td>EBDA1011</td>\n",
       "      <td>ccc</td>\n",
       "      <td>34</td>\n",
       "      <td>26561</td>\n",
       "    </tr>\n",
       "    <tr>\n",
       "      <th>12</th>\n",
       "      <td>EBDA1012</td>\n",
       "      <td>ddd</td>\n",
       "      <td>40</td>\n",
       "      <td>77006</td>\n",
       "    </tr>\n",
       "  </tbody>\n",
       "</table>\n",
       "</div>"
      ],
      "text/plain": [
       "          id name  age  salary\n",
       "1   EBDA1001  eee   26   43416\n",
       "2   EBDA1002  aaa   45   38522\n",
       "3   EBDA1003  nnn   43   88737\n",
       "4   EBDA1004  qqq   31   80034\n",
       "5   EBDA1005  lll   25   45644\n",
       "6   EBDA1006  ggg   40   32274\n",
       "7   EBDA1007  ccc   26   40756\n",
       "8   EBDA1008  kkk   39   80494\n",
       "9   EBDA1009  ggg   38   37736\n",
       "10  EBDA1010  fff   31   86488\n",
       "11  EBDA1011  ccc   34   26561\n",
       "12  EBDA1012  ddd   40   77006"
      ]
     },
     "execution_count": 71,
     "metadata": {},
     "output_type": "execute_result"
    }
   ],
   "source": [
    "# first n rows\n",
    "df.head(12)"
   ]
  },
  {
   "cell_type": "markdown",
   "id": "27e3eb3b",
   "metadata": {},
   "source": [
    "### df.tail()"
   ]
  },
  {
   "cell_type": "code",
   "execution_count": 72,
   "id": "yAhZhAcOmBVA",
   "metadata": {
    "colab": {
     "base_uri": "https://localhost:8080/",
     "height": 206
    },
    "executionInfo": {
     "elapsed": 11,
     "status": "ok",
     "timestamp": 1686761384628,
     "user": {
      "displayName": "DSS DSS",
      "userId": "17636620013329168760"
     },
     "user_tz": -330
    },
    "id": "yAhZhAcOmBVA",
    "outputId": "5bd3b882-7015-4135-f6c5-fcbcf799062e"
   },
   "outputs": [
    {
     "data": {
      "text/html": [
       "<div>\n",
       "<style scoped>\n",
       "    .dataframe tbody tr th:only-of-type {\n",
       "        vertical-align: middle;\n",
       "    }\n",
       "\n",
       "    .dataframe tbody tr th {\n",
       "        vertical-align: top;\n",
       "    }\n",
       "\n",
       "    .dataframe thead th {\n",
       "        text-align: right;\n",
       "    }\n",
       "</style>\n",
       "<table border=\"1\" class=\"dataframe\">\n",
       "  <thead>\n",
       "    <tr style=\"text-align: right;\">\n",
       "      <th></th>\n",
       "      <th>id</th>\n",
       "      <th>name</th>\n",
       "      <th>age</th>\n",
       "      <th>salary</th>\n",
       "    </tr>\n",
       "  </thead>\n",
       "  <tbody>\n",
       "    <tr>\n",
       "      <th>26</th>\n",
       "      <td>EBDA1026</td>\n",
       "      <td>sss</td>\n",
       "      <td>31</td>\n",
       "      <td>31656</td>\n",
       "    </tr>\n",
       "    <tr>\n",
       "      <th>27</th>\n",
       "      <td>EBDA1027</td>\n",
       "      <td>ddd</td>\n",
       "      <td>24</td>\n",
       "      <td>36178</td>\n",
       "    </tr>\n",
       "    <tr>\n",
       "      <th>28</th>\n",
       "      <td>EBDA1028</td>\n",
       "      <td>uuu</td>\n",
       "      <td>45</td>\n",
       "      <td>63663</td>\n",
       "    </tr>\n",
       "    <tr>\n",
       "      <th>29</th>\n",
       "      <td>EBDA1029</td>\n",
       "      <td>kkk</td>\n",
       "      <td>45</td>\n",
       "      <td>79921</td>\n",
       "    </tr>\n",
       "    <tr>\n",
       "      <th>30</th>\n",
       "      <td>EBDA1030</td>\n",
       "      <td>hhh</td>\n",
       "      <td>25</td>\n",
       "      <td>65118</td>\n",
       "    </tr>\n",
       "  </tbody>\n",
       "</table>\n",
       "</div>"
      ],
      "text/plain": [
       "          id name  age  salary\n",
       "26  EBDA1026  sss   31   31656\n",
       "27  EBDA1027  ddd   24   36178\n",
       "28  EBDA1028  uuu   45   63663\n",
       "29  EBDA1029  kkk   45   79921\n",
       "30  EBDA1030  hhh   25   65118"
      ]
     },
     "execution_count": 72,
     "metadata": {},
     "output_type": "execute_result"
    }
   ],
   "source": [
    "# last 5 rows\n",
    "df.tail()"
   ]
  },
  {
   "cell_type": "code",
   "execution_count": 73,
   "id": "XIjsw5UUpPyK",
   "metadata": {
    "colab": {
     "base_uri": "https://localhost:8080/",
     "height": 363
    },
    "executionInfo": {
     "elapsed": 7,
     "status": "ok",
     "timestamp": 1686761385241,
     "user": {
      "displayName": "DSS DSS",
      "userId": "17636620013329168760"
     },
     "user_tz": -330
    },
    "id": "XIjsw5UUpPyK",
    "outputId": "f31c8c32-2334-4006-c151-10dc757a109c"
   },
   "outputs": [
    {
     "data": {
      "text/html": [
       "<div>\n",
       "<style scoped>\n",
       "    .dataframe tbody tr th:only-of-type {\n",
       "        vertical-align: middle;\n",
       "    }\n",
       "\n",
       "    .dataframe tbody tr th {\n",
       "        vertical-align: top;\n",
       "    }\n",
       "\n",
       "    .dataframe thead th {\n",
       "        text-align: right;\n",
       "    }\n",
       "</style>\n",
       "<table border=\"1\" class=\"dataframe\">\n",
       "  <thead>\n",
       "    <tr style=\"text-align: right;\">\n",
       "      <th></th>\n",
       "      <th>id</th>\n",
       "      <th>name</th>\n",
       "      <th>age</th>\n",
       "      <th>salary</th>\n",
       "    </tr>\n",
       "  </thead>\n",
       "  <tbody>\n",
       "    <tr>\n",
       "      <th>21</th>\n",
       "      <td>EBDA1021</td>\n",
       "      <td>iii</td>\n",
       "      <td>38</td>\n",
       "      <td>77904</td>\n",
       "    </tr>\n",
       "    <tr>\n",
       "      <th>22</th>\n",
       "      <td>EBDA1022</td>\n",
       "      <td>jjj</td>\n",
       "      <td>29</td>\n",
       "      <td>43517</td>\n",
       "    </tr>\n",
       "    <tr>\n",
       "      <th>23</th>\n",
       "      <td>EBDA1023</td>\n",
       "      <td>qqq</td>\n",
       "      <td>24</td>\n",
       "      <td>44868</td>\n",
       "    </tr>\n",
       "    <tr>\n",
       "      <th>24</th>\n",
       "      <td>EBDA1024</td>\n",
       "      <td>eee</td>\n",
       "      <td>40</td>\n",
       "      <td>76643</td>\n",
       "    </tr>\n",
       "    <tr>\n",
       "      <th>25</th>\n",
       "      <td>EBDA1025</td>\n",
       "      <td>ttt</td>\n",
       "      <td>39</td>\n",
       "      <td>39932</td>\n",
       "    </tr>\n",
       "    <tr>\n",
       "      <th>26</th>\n",
       "      <td>EBDA1026</td>\n",
       "      <td>sss</td>\n",
       "      <td>31</td>\n",
       "      <td>31656</td>\n",
       "    </tr>\n",
       "    <tr>\n",
       "      <th>27</th>\n",
       "      <td>EBDA1027</td>\n",
       "      <td>ddd</td>\n",
       "      <td>24</td>\n",
       "      <td>36178</td>\n",
       "    </tr>\n",
       "    <tr>\n",
       "      <th>28</th>\n",
       "      <td>EBDA1028</td>\n",
       "      <td>uuu</td>\n",
       "      <td>45</td>\n",
       "      <td>63663</td>\n",
       "    </tr>\n",
       "    <tr>\n",
       "      <th>29</th>\n",
       "      <td>EBDA1029</td>\n",
       "      <td>kkk</td>\n",
       "      <td>45</td>\n",
       "      <td>79921</td>\n",
       "    </tr>\n",
       "    <tr>\n",
       "      <th>30</th>\n",
       "      <td>EBDA1030</td>\n",
       "      <td>hhh</td>\n",
       "      <td>25</td>\n",
       "      <td>65118</td>\n",
       "    </tr>\n",
       "  </tbody>\n",
       "</table>\n",
       "</div>"
      ],
      "text/plain": [
       "          id name  age  salary\n",
       "21  EBDA1021  iii   38   77904\n",
       "22  EBDA1022  jjj   29   43517\n",
       "23  EBDA1023  qqq   24   44868\n",
       "24  EBDA1024  eee   40   76643\n",
       "25  EBDA1025  ttt   39   39932\n",
       "26  EBDA1026  sss   31   31656\n",
       "27  EBDA1027  ddd   24   36178\n",
       "28  EBDA1028  uuu   45   63663\n",
       "29  EBDA1029  kkk   45   79921\n",
       "30  EBDA1030  hhh   25   65118"
      ]
     },
     "execution_count": 73,
     "metadata": {},
     "output_type": "execute_result"
    }
   ],
   "source": [
    "# last n rows\n",
    "df.tail(10)"
   ]
  },
  {
   "cell_type": "markdown",
   "id": "e61cb0d6",
   "metadata": {},
   "source": [
    "### df.nlargest()"
   ]
  },
  {
   "cell_type": "code",
   "execution_count": 74,
   "id": "ZEEryJXBpVah",
   "metadata": {
    "colab": {
     "base_uri": "https://localhost:8080/",
     "height": 363
    },
    "executionInfo": {
     "elapsed": 725,
     "status": "ok",
     "timestamp": 1686761390194,
     "user": {
      "displayName": "DSS DSS",
      "userId": "17636620013329168760"
     },
     "user_tz": -330
    },
    "id": "ZEEryJXBpVah",
    "outputId": "1ffb64f4-4484-4c1b-93af-868ad9cfc956"
   },
   "outputs": [
    {
     "data": {
      "text/html": [
       "<div>\n",
       "<style scoped>\n",
       "    .dataframe tbody tr th:only-of-type {\n",
       "        vertical-align: middle;\n",
       "    }\n",
       "\n",
       "    .dataframe tbody tr th {\n",
       "        vertical-align: top;\n",
       "    }\n",
       "\n",
       "    .dataframe thead th {\n",
       "        text-align: right;\n",
       "    }\n",
       "</style>\n",
       "<table border=\"1\" class=\"dataframe\">\n",
       "  <thead>\n",
       "    <tr style=\"text-align: right;\">\n",
       "      <th></th>\n",
       "      <th>id</th>\n",
       "      <th>name</th>\n",
       "      <th>age</th>\n",
       "      <th>salary</th>\n",
       "    </tr>\n",
       "  </thead>\n",
       "  <tbody>\n",
       "    <tr>\n",
       "      <th>3</th>\n",
       "      <td>EBDA1003</td>\n",
       "      <td>nnn</td>\n",
       "      <td>43</td>\n",
       "      <td>88737</td>\n",
       "    </tr>\n",
       "    <tr>\n",
       "      <th>10</th>\n",
       "      <td>EBDA1010</td>\n",
       "      <td>fff</td>\n",
       "      <td>31</td>\n",
       "      <td>86488</td>\n",
       "    </tr>\n",
       "    <tr>\n",
       "      <th>8</th>\n",
       "      <td>EBDA1008</td>\n",
       "      <td>kkk</td>\n",
       "      <td>39</td>\n",
       "      <td>80494</td>\n",
       "    </tr>\n",
       "    <tr>\n",
       "      <th>4</th>\n",
       "      <td>EBDA1004</td>\n",
       "      <td>qqq</td>\n",
       "      <td>31</td>\n",
       "      <td>80034</td>\n",
       "    </tr>\n",
       "    <tr>\n",
       "      <th>29</th>\n",
       "      <td>EBDA1029</td>\n",
       "      <td>kkk</td>\n",
       "      <td>45</td>\n",
       "      <td>79921</td>\n",
       "    </tr>\n",
       "    <tr>\n",
       "      <th>21</th>\n",
       "      <td>EBDA1021</td>\n",
       "      <td>iii</td>\n",
       "      <td>38</td>\n",
       "      <td>77904</td>\n",
       "    </tr>\n",
       "    <tr>\n",
       "      <th>12</th>\n",
       "      <td>EBDA1012</td>\n",
       "      <td>ddd</td>\n",
       "      <td>40</td>\n",
       "      <td>77006</td>\n",
       "    </tr>\n",
       "    <tr>\n",
       "      <th>24</th>\n",
       "      <td>EBDA1024</td>\n",
       "      <td>eee</td>\n",
       "      <td>40</td>\n",
       "      <td>76643</td>\n",
       "    </tr>\n",
       "    <tr>\n",
       "      <th>13</th>\n",
       "      <td>EBDA1013</td>\n",
       "      <td>sss</td>\n",
       "      <td>27</td>\n",
       "      <td>66580</td>\n",
       "    </tr>\n",
       "    <tr>\n",
       "      <th>30</th>\n",
       "      <td>EBDA1030</td>\n",
       "      <td>hhh</td>\n",
       "      <td>25</td>\n",
       "      <td>65118</td>\n",
       "    </tr>\n",
       "  </tbody>\n",
       "</table>\n",
       "</div>"
      ],
      "text/plain": [
       "          id name  age  salary\n",
       "3   EBDA1003  nnn   43   88737\n",
       "10  EBDA1010  fff   31   86488\n",
       "8   EBDA1008  kkk   39   80494\n",
       "4   EBDA1004  qqq   31   80034\n",
       "29  EBDA1029  kkk   45   79921\n",
       "21  EBDA1021  iii   38   77904\n",
       "12  EBDA1012  ddd   40   77006\n",
       "24  EBDA1024  eee   40   76643\n",
       "13  EBDA1013  sss   27   66580\n",
       "30  EBDA1030  hhh   25   65118"
      ]
     },
     "execution_count": 74,
     "metadata": {},
     "output_type": "execute_result"
    }
   ],
   "source": [
    "# df.nlargest(4,'id')\n",
    "df.nlargest(10,'salary') # top 10 salaried employees starting from max salary### df.head()"
   ]
  },
  {
   "cell_type": "markdown",
   "id": "5eb6d1df",
   "metadata": {},
   "source": [
    "### df.nsmallest()"
   ]
  },
  {
   "cell_type": "code",
   "execution_count": 75,
   "id": "yDBsQbw8pioa",
   "metadata": {
    "colab": {
     "base_uri": "https://localhost:8080/",
     "height": 363
    },
    "executionInfo": {
     "elapsed": 6,
     "status": "ok",
     "timestamp": 1686761393067,
     "user": {
      "displayName": "DSS DSS",
      "userId": "17636620013329168760"
     },
     "user_tz": -330
    },
    "id": "yDBsQbw8pioa",
    "outputId": "67442dd5-a850-437d-a216-28a49ec089d7"
   },
   "outputs": [
    {
     "data": {
      "text/html": [
       "<div>\n",
       "<style scoped>\n",
       "    .dataframe tbody tr th:only-of-type {\n",
       "        vertical-align: middle;\n",
       "    }\n",
       "\n",
       "    .dataframe tbody tr th {\n",
       "        vertical-align: top;\n",
       "    }\n",
       "\n",
       "    .dataframe thead th {\n",
       "        text-align: right;\n",
       "    }\n",
       "</style>\n",
       "<table border=\"1\" class=\"dataframe\">\n",
       "  <thead>\n",
       "    <tr style=\"text-align: right;\">\n",
       "      <th></th>\n",
       "      <th>id</th>\n",
       "      <th>name</th>\n",
       "      <th>age</th>\n",
       "      <th>salary</th>\n",
       "    </tr>\n",
       "  </thead>\n",
       "  <tbody>\n",
       "    <tr>\n",
       "      <th>11</th>\n",
       "      <td>EBDA1011</td>\n",
       "      <td>ccc</td>\n",
       "      <td>34</td>\n",
       "      <td>26561</td>\n",
       "    </tr>\n",
       "    <tr>\n",
       "      <th>20</th>\n",
       "      <td>EBDA1020</td>\n",
       "      <td>uuu</td>\n",
       "      <td>43</td>\n",
       "      <td>30536</td>\n",
       "    </tr>\n",
       "    <tr>\n",
       "      <th>16</th>\n",
       "      <td>EBDA1016</td>\n",
       "      <td>ppp</td>\n",
       "      <td>26</td>\n",
       "      <td>31487</td>\n",
       "    </tr>\n",
       "    <tr>\n",
       "      <th>26</th>\n",
       "      <td>EBDA1026</td>\n",
       "      <td>sss</td>\n",
       "      <td>31</td>\n",
       "      <td>31656</td>\n",
       "    </tr>\n",
       "    <tr>\n",
       "      <th>18</th>\n",
       "      <td>EBDA1018</td>\n",
       "      <td>lll</td>\n",
       "      <td>40</td>\n",
       "      <td>32209</td>\n",
       "    </tr>\n",
       "    <tr>\n",
       "      <th>6</th>\n",
       "      <td>EBDA1006</td>\n",
       "      <td>ggg</td>\n",
       "      <td>40</td>\n",
       "      <td>32274</td>\n",
       "    </tr>\n",
       "    <tr>\n",
       "      <th>27</th>\n",
       "      <td>EBDA1027</td>\n",
       "      <td>ddd</td>\n",
       "      <td>24</td>\n",
       "      <td>36178</td>\n",
       "    </tr>\n",
       "    <tr>\n",
       "      <th>9</th>\n",
       "      <td>EBDA1009</td>\n",
       "      <td>ggg</td>\n",
       "      <td>38</td>\n",
       "      <td>37736</td>\n",
       "    </tr>\n",
       "    <tr>\n",
       "      <th>2</th>\n",
       "      <td>EBDA1002</td>\n",
       "      <td>aaa</td>\n",
       "      <td>45</td>\n",
       "      <td>38522</td>\n",
       "    </tr>\n",
       "    <tr>\n",
       "      <th>25</th>\n",
       "      <td>EBDA1025</td>\n",
       "      <td>ttt</td>\n",
       "      <td>39</td>\n",
       "      <td>39932</td>\n",
       "    </tr>\n",
       "  </tbody>\n",
       "</table>\n",
       "</div>"
      ],
      "text/plain": [
       "          id name  age  salary\n",
       "11  EBDA1011  ccc   34   26561\n",
       "20  EBDA1020  uuu   43   30536\n",
       "16  EBDA1016  ppp   26   31487\n",
       "26  EBDA1026  sss   31   31656\n",
       "18  EBDA1018  lll   40   32209\n",
       "6   EBDA1006  ggg   40   32274\n",
       "27  EBDA1027  ddd   24   36178\n",
       "9   EBDA1009  ggg   38   37736\n",
       "2   EBDA1002  aaa   45   38522\n",
       "25  EBDA1025  ttt   39   39932"
      ]
     },
     "execution_count": 75,
     "metadata": {},
     "output_type": "execute_result"
    }
   ],
   "source": [
    "# df.nsmallest(4,'id')\n",
    "df.nsmallest(10,'salary') # bottom 10 salaried employees starting from min salary### df.head()"
   ]
  },
  {
   "cell_type": "markdown",
   "id": "e3d8d6d5",
   "metadata": {},
   "source": [
    "### df.sample()"
   ]
  },
  {
   "cell_type": "code",
   "execution_count": 76,
   "id": "nd2dXfonqNOL",
   "metadata": {
    "colab": {
     "base_uri": "https://localhost:8080/",
     "height": 363
    },
    "executionInfo": {
     "elapsed": 7,
     "status": "ok",
     "timestamp": 1686761395131,
     "user": {
      "displayName": "DSS DSS",
      "userId": "17636620013329168760"
     },
     "user_tz": -330
    },
    "id": "nd2dXfonqNOL",
    "outputId": "bbcbad04-d4dc-445c-85f5-a61c5e911947"
   },
   "outputs": [
    {
     "data": {
      "text/html": [
       "<div>\n",
       "<style scoped>\n",
       "    .dataframe tbody tr th:only-of-type {\n",
       "        vertical-align: middle;\n",
       "    }\n",
       "\n",
       "    .dataframe tbody tr th {\n",
       "        vertical-align: top;\n",
       "    }\n",
       "\n",
       "    .dataframe thead th {\n",
       "        text-align: right;\n",
       "    }\n",
       "</style>\n",
       "<table border=\"1\" class=\"dataframe\">\n",
       "  <thead>\n",
       "    <tr style=\"text-align: right;\">\n",
       "      <th></th>\n",
       "      <th>id</th>\n",
       "      <th>name</th>\n",
       "      <th>age</th>\n",
       "      <th>salary</th>\n",
       "    </tr>\n",
       "  </thead>\n",
       "  <tbody>\n",
       "    <tr>\n",
       "      <th>19</th>\n",
       "      <td>EBDA1019</td>\n",
       "      <td>ppp</td>\n",
       "      <td>42</td>\n",
       "      <td>41006</td>\n",
       "    </tr>\n",
       "    <tr>\n",
       "      <th>8</th>\n",
       "      <td>EBDA1008</td>\n",
       "      <td>kkk</td>\n",
       "      <td>39</td>\n",
       "      <td>80494</td>\n",
       "    </tr>\n",
       "    <tr>\n",
       "      <th>26</th>\n",
       "      <td>EBDA1026</td>\n",
       "      <td>sss</td>\n",
       "      <td>31</td>\n",
       "      <td>31656</td>\n",
       "    </tr>\n",
       "    <tr>\n",
       "      <th>2</th>\n",
       "      <td>EBDA1002</td>\n",
       "      <td>aaa</td>\n",
       "      <td>45</td>\n",
       "      <td>38522</td>\n",
       "    </tr>\n",
       "    <tr>\n",
       "      <th>30</th>\n",
       "      <td>EBDA1030</td>\n",
       "      <td>hhh</td>\n",
       "      <td>25</td>\n",
       "      <td>65118</td>\n",
       "    </tr>\n",
       "    <tr>\n",
       "      <th>16</th>\n",
       "      <td>EBDA1016</td>\n",
       "      <td>ppp</td>\n",
       "      <td>26</td>\n",
       "      <td>31487</td>\n",
       "    </tr>\n",
       "    <tr>\n",
       "      <th>21</th>\n",
       "      <td>EBDA1021</td>\n",
       "      <td>iii</td>\n",
       "      <td>38</td>\n",
       "      <td>77904</td>\n",
       "    </tr>\n",
       "    <tr>\n",
       "      <th>23</th>\n",
       "      <td>EBDA1023</td>\n",
       "      <td>qqq</td>\n",
       "      <td>24</td>\n",
       "      <td>44868</td>\n",
       "    </tr>\n",
       "    <tr>\n",
       "      <th>3</th>\n",
       "      <td>EBDA1003</td>\n",
       "      <td>nnn</td>\n",
       "      <td>43</td>\n",
       "      <td>88737</td>\n",
       "    </tr>\n",
       "    <tr>\n",
       "      <th>25</th>\n",
       "      <td>EBDA1025</td>\n",
       "      <td>ttt</td>\n",
       "      <td>39</td>\n",
       "      <td>39932</td>\n",
       "    </tr>\n",
       "  </tbody>\n",
       "</table>\n",
       "</div>"
      ],
      "text/plain": [
       "          id name  age  salary\n",
       "19  EBDA1019  ppp   42   41006\n",
       "8   EBDA1008  kkk   39   80494\n",
       "26  EBDA1026  sss   31   31656\n",
       "2   EBDA1002  aaa   45   38522\n",
       "30  EBDA1030  hhh   25   65118\n",
       "16  EBDA1016  ppp   26   31487\n",
       "21  EBDA1021  iii   38   77904\n",
       "23  EBDA1023  qqq   24   44868\n",
       "3   EBDA1003  nnn   43   88737\n",
       "25  EBDA1025  ttt   39   39932"
      ]
     },
     "execution_count": 76,
     "metadata": {},
     "output_type": "execute_result"
    }
   ],
   "source": [
    "df.sample(n = 10) # randomly select n rows### df.head()"
   ]
  },
  {
   "cell_type": "code",
   "execution_count": 77,
   "id": "LHaCLrR_qazy",
   "metadata": {
    "colab": {
     "base_uri": "https://localhost:8080/",
     "height": 300
    },
    "executionInfo": {
     "elapsed": 23,
     "status": "ok",
     "timestamp": 1686761399155,
     "user": {
      "displayName": "DSS DSS",
      "userId": "17636620013329168760"
     },
     "user_tz": -330
    },
    "id": "LHaCLrR_qazy",
    "outputId": "8ea5e040-7f0a-4d9d-cf17-4e4e09c616ef"
   },
   "outputs": [
    {
     "data": {
      "text/html": [
       "<div>\n",
       "<style scoped>\n",
       "    .dataframe tbody tr th:only-of-type {\n",
       "        vertical-align: middle;\n",
       "    }\n",
       "\n",
       "    .dataframe tbody tr th {\n",
       "        vertical-align: top;\n",
       "    }\n",
       "\n",
       "    .dataframe thead th {\n",
       "        text-align: right;\n",
       "    }\n",
       "</style>\n",
       "<table border=\"1\" class=\"dataframe\">\n",
       "  <thead>\n",
       "    <tr style=\"text-align: right;\">\n",
       "      <th></th>\n",
       "      <th>id</th>\n",
       "      <th>name</th>\n",
       "      <th>age</th>\n",
       "      <th>salary</th>\n",
       "    </tr>\n",
       "  </thead>\n",
       "  <tbody>\n",
       "    <tr>\n",
       "      <th>26</th>\n",
       "      <td>EBDA1026</td>\n",
       "      <td>sss</td>\n",
       "      <td>31</td>\n",
       "      <td>31656</td>\n",
       "    </tr>\n",
       "    <tr>\n",
       "      <th>15</th>\n",
       "      <td>EBDA1015</td>\n",
       "      <td>www</td>\n",
       "      <td>23</td>\n",
       "      <td>49648</td>\n",
       "    </tr>\n",
       "    <tr>\n",
       "      <th>16</th>\n",
       "      <td>EBDA1016</td>\n",
       "      <td>ppp</td>\n",
       "      <td>26</td>\n",
       "      <td>31487</td>\n",
       "    </tr>\n",
       "    <tr>\n",
       "      <th>6</th>\n",
       "      <td>EBDA1006</td>\n",
       "      <td>ggg</td>\n",
       "      <td>40</td>\n",
       "      <td>32274</td>\n",
       "    </tr>\n",
       "    <tr>\n",
       "      <th>8</th>\n",
       "      <td>EBDA1008</td>\n",
       "      <td>kkk</td>\n",
       "      <td>39</td>\n",
       "      <td>80494</td>\n",
       "    </tr>\n",
       "    <tr>\n",
       "      <th>14</th>\n",
       "      <td>EBDA1014</td>\n",
       "      <td>aaa</td>\n",
       "      <td>40</td>\n",
       "      <td>50556</td>\n",
       "    </tr>\n",
       "    <tr>\n",
       "      <th>12</th>\n",
       "      <td>EBDA1012</td>\n",
       "      <td>ddd</td>\n",
       "      <td>40</td>\n",
       "      <td>77006</td>\n",
       "    </tr>\n",
       "    <tr>\n",
       "      <th>25</th>\n",
       "      <td>EBDA1025</td>\n",
       "      <td>ttt</td>\n",
       "      <td>39</td>\n",
       "      <td>39932</td>\n",
       "    </tr>\n",
       "  </tbody>\n",
       "</table>\n",
       "</div>"
      ],
      "text/plain": [
       "          id name  age  salary\n",
       "26  EBDA1026  sss   31   31656\n",
       "15  EBDA1015  www   23   49648\n",
       "16  EBDA1016  ppp   26   31487\n",
       "6   EBDA1006  ggg   40   32274\n",
       "8   EBDA1008  kkk   39   80494\n",
       "14  EBDA1014  aaa   40   50556\n",
       "12  EBDA1012  ddd   40   77006\n",
       "25  EBDA1025  ttt   39   39932"
      ]
     },
     "execution_count": 77,
     "metadata": {},
     "output_type": "execute_result"
    }
   ],
   "source": [
    "# randomly select fraction of rows\n",
    "# df.sample(frac=0.5) # 50% of 30 rows = 15 rows (randomly)\n",
    "df.sample(frac=0.25) # 25% of 30 rows = 7.5 => 8 rows (randomly)"
   ]
  },
  {
   "cell_type": "markdown",
   "id": "ea8e2ae4",
   "metadata": {},
   "source": [
    "### rows meeting specifc criteria df[df.col > num]"
   ]
  },
  {
   "cell_type": "markdown",
   "id": "b1c2f55c",
   "metadata": {},
   "source": [
    "### >"
   ]
  },
  {
   "cell_type": "code",
   "execution_count": 78,
   "id": "SaJDJUyVr94Q",
   "metadata": {
    "colab": {
     "base_uri": "https://localhost:8080/",
     "height": 300
    },
    "executionInfo": {
     "elapsed": 5,
     "status": "ok",
     "timestamp": 1686761413756,
     "user": {
      "displayName": "DSS DSS",
      "userId": "17636620013329168760"
     },
     "user_tz": -330
    },
    "id": "SaJDJUyVr94Q",
    "outputId": "c7a8aa29-63e9-469c-947e-d6c84f4a18df"
   },
   "outputs": [
    {
     "data": {
      "text/html": [
       "<div>\n",
       "<style scoped>\n",
       "    .dataframe tbody tr th:only-of-type {\n",
       "        vertical-align: middle;\n",
       "    }\n",
       "\n",
       "    .dataframe tbody tr th {\n",
       "        vertical-align: top;\n",
       "    }\n",
       "\n",
       "    .dataframe thead th {\n",
       "        text-align: right;\n",
       "    }\n",
       "</style>\n",
       "<table border=\"1\" class=\"dataframe\">\n",
       "  <thead>\n",
       "    <tr style=\"text-align: right;\">\n",
       "      <th></th>\n",
       "      <th>id</th>\n",
       "      <th>name</th>\n",
       "      <th>age</th>\n",
       "      <th>salary</th>\n",
       "    </tr>\n",
       "  </thead>\n",
       "  <tbody>\n",
       "    <tr>\n",
       "      <th>3</th>\n",
       "      <td>EBDA1003</td>\n",
       "      <td>nnn</td>\n",
       "      <td>43</td>\n",
       "      <td>88737</td>\n",
       "    </tr>\n",
       "    <tr>\n",
       "      <th>4</th>\n",
       "      <td>EBDA1004</td>\n",
       "      <td>qqq</td>\n",
       "      <td>31</td>\n",
       "      <td>80034</td>\n",
       "    </tr>\n",
       "    <tr>\n",
       "      <th>8</th>\n",
       "      <td>EBDA1008</td>\n",
       "      <td>kkk</td>\n",
       "      <td>39</td>\n",
       "      <td>80494</td>\n",
       "    </tr>\n",
       "    <tr>\n",
       "      <th>10</th>\n",
       "      <td>EBDA1010</td>\n",
       "      <td>fff</td>\n",
       "      <td>31</td>\n",
       "      <td>86488</td>\n",
       "    </tr>\n",
       "    <tr>\n",
       "      <th>12</th>\n",
       "      <td>EBDA1012</td>\n",
       "      <td>ddd</td>\n",
       "      <td>40</td>\n",
       "      <td>77006</td>\n",
       "    </tr>\n",
       "    <tr>\n",
       "      <th>21</th>\n",
       "      <td>EBDA1021</td>\n",
       "      <td>iii</td>\n",
       "      <td>38</td>\n",
       "      <td>77904</td>\n",
       "    </tr>\n",
       "    <tr>\n",
       "      <th>24</th>\n",
       "      <td>EBDA1024</td>\n",
       "      <td>eee</td>\n",
       "      <td>40</td>\n",
       "      <td>76643</td>\n",
       "    </tr>\n",
       "    <tr>\n",
       "      <th>29</th>\n",
       "      <td>EBDA1029</td>\n",
       "      <td>kkk</td>\n",
       "      <td>45</td>\n",
       "      <td>79921</td>\n",
       "    </tr>\n",
       "  </tbody>\n",
       "</table>\n",
       "</div>"
      ],
      "text/plain": [
       "          id name  age  salary\n",
       "3   EBDA1003  nnn   43   88737\n",
       "4   EBDA1004  qqq   31   80034\n",
       "8   EBDA1008  kkk   39   80494\n",
       "10  EBDA1010  fff   31   86488\n",
       "12  EBDA1012  ddd   40   77006\n",
       "21  EBDA1021  iii   38   77904\n",
       "24  EBDA1024  eee   40   76643\n",
       "29  EBDA1029  kkk   45   79921"
      ]
     },
     "execution_count": 78,
     "metadata": {},
     "output_type": "execute_result"
    }
   ],
   "source": [
    "# rows that meets a logical criteria\n",
    "df[df.salary > 70000]\n",
    "# df[df['salary'] > 70000]### df.head()### df.head()"
   ]
  },
  {
   "cell_type": "markdown",
   "id": "43fbbe66",
   "metadata": {},
   "source": [
    "### <"
   ]
  },
  {
   "cell_type": "code",
   "execution_count": 79,
   "id": "c0A9o3XNsPQY",
   "metadata": {
    "colab": {
     "base_uri": "https://localhost:8080/",
     "height": 144
    },
    "executionInfo": {
     "elapsed": 15,
     "status": "ok",
     "timestamp": 1686761452971,
     "user": {
      "displayName": "DSS DSS",
      "userId": "17636620013329168760"
     },
     "user_tz": -330
    },
    "id": "c0A9o3XNsPQY",
    "outputId": "49c8209b-bad5-4428-ad27-c9aece7c8891"
   },
   "outputs": [
    {
     "data": {
      "text/html": [
       "<div>\n",
       "<style scoped>\n",
       "    .dataframe tbody tr th:only-of-type {\n",
       "        vertical-align: middle;\n",
       "    }\n",
       "\n",
       "    .dataframe tbody tr th {\n",
       "        vertical-align: top;\n",
       "    }\n",
       "\n",
       "    .dataframe thead th {\n",
       "        text-align: right;\n",
       "    }\n",
       "</style>\n",
       "<table border=\"1\" class=\"dataframe\">\n",
       "  <thead>\n",
       "    <tr style=\"text-align: right;\">\n",
       "      <th></th>\n",
       "      <th>id</th>\n",
       "      <th>name</th>\n",
       "      <th>age</th>\n",
       "      <th>salary</th>\n",
       "    </tr>\n",
       "  </thead>\n",
       "  <tbody>\n",
       "    <tr>\n",
       "      <th>6</th>\n",
       "      <td>EBDA1006</td>\n",
       "      <td>ggg</td>\n",
       "      <td>40</td>\n",
       "      <td>32274</td>\n",
       "    </tr>\n",
       "    <tr>\n",
       "      <th>11</th>\n",
       "      <td>EBDA1011</td>\n",
       "      <td>ccc</td>\n",
       "      <td>34</td>\n",
       "      <td>26561</td>\n",
       "    </tr>\n",
       "    <tr>\n",
       "      <th>16</th>\n",
       "      <td>EBDA1016</td>\n",
       "      <td>ppp</td>\n",
       "      <td>26</td>\n",
       "      <td>31487</td>\n",
       "    </tr>\n",
       "    <tr>\n",
       "      <th>18</th>\n",
       "      <td>EBDA1018</td>\n",
       "      <td>lll</td>\n",
       "      <td>40</td>\n",
       "      <td>32209</td>\n",
       "    </tr>\n",
       "    <tr>\n",
       "      <th>20</th>\n",
       "      <td>EBDA1020</td>\n",
       "      <td>uuu</td>\n",
       "      <td>43</td>\n",
       "      <td>30536</td>\n",
       "    </tr>\n",
       "    <tr>\n",
       "      <th>26</th>\n",
       "      <td>EBDA1026</td>\n",
       "      <td>sss</td>\n",
       "      <td>31</td>\n",
       "      <td>31656</td>\n",
       "    </tr>\n",
       "  </tbody>\n",
       "</table>\n",
       "</div>"
      ],
      "text/plain": [
       "          id name  age  salary\n",
       "6   EBDA1006  ggg   40   32274\n",
       "11  EBDA1011  ccc   34   26561\n",
       "16  EBDA1016  ppp   26   31487\n",
       "18  EBDA1018  lll   40   32209\n",
       "20  EBDA1020  uuu   43   30536\n",
       "26  EBDA1026  sss   31   31656"
      ]
     },
     "execution_count": 79,
     "metadata": {},
     "output_type": "execute_result"
    }
   ],
   "source": [
    "# <\n",
    "df[df.salary < 35000]"
   ]
  },
  {
   "cell_type": "markdown",
   "id": "8c2085c2",
   "metadata": {},
   "source": [
    "### <="
   ]
  },
  {
   "cell_type": "code",
   "execution_count": 80,
   "id": "QDDtH9LKtQ7m",
   "metadata": {
    "colab": {
     "base_uri": "https://localhost:8080/",
     "height": 112
    },
    "executionInfo": {
     "elapsed": 6,
     "status": "ok",
     "timestamp": 1686761459310,
     "user": {
      "displayName": "DSS DSS",
      "userId": "17636620013329168760"
     },
     "user_tz": -330
    },
    "id": "QDDtH9LKtQ7m",
    "outputId": "6cf46c40-32e3-4d4d-e694-d324e4088a9e"
   },
   "outputs": [
    {
     "data": {
      "text/html": [
       "<div>\n",
       "<style scoped>\n",
       "    .dataframe tbody tr th:only-of-type {\n",
       "        vertical-align: middle;\n",
       "    }\n",
       "\n",
       "    .dataframe tbody tr th {\n",
       "        vertical-align: top;\n",
       "    }\n",
       "\n",
       "    .dataframe thead th {\n",
       "        text-align: right;\n",
       "    }\n",
       "</style>\n",
       "<table border=\"1\" class=\"dataframe\">\n",
       "  <thead>\n",
       "    <tr style=\"text-align: right;\">\n",
       "      <th></th>\n",
       "      <th>id</th>\n",
       "      <th>name</th>\n",
       "      <th>age</th>\n",
       "      <th>salary</th>\n",
       "    </tr>\n",
       "  </thead>\n",
       "  <tbody>\n",
       "    <tr>\n",
       "      <th>6</th>\n",
       "      <td>EBDA1006</td>\n",
       "      <td>ggg</td>\n",
       "      <td>40</td>\n",
       "      <td>32274</td>\n",
       "    </tr>\n",
       "    <tr>\n",
       "      <th>11</th>\n",
       "      <td>EBDA1011</td>\n",
       "      <td>ccc</td>\n",
       "      <td>34</td>\n",
       "      <td>26561</td>\n",
       "    </tr>\n",
       "    <tr>\n",
       "      <th>16</th>\n",
       "      <td>EBDA1016</td>\n",
       "      <td>ppp</td>\n",
       "      <td>26</td>\n",
       "      <td>31487</td>\n",
       "    </tr>\n",
       "    <tr>\n",
       "      <th>18</th>\n",
       "      <td>EBDA1018</td>\n",
       "      <td>lll</td>\n",
       "      <td>40</td>\n",
       "      <td>32209</td>\n",
       "    </tr>\n",
       "    <tr>\n",
       "      <th>20</th>\n",
       "      <td>EBDA1020</td>\n",
       "      <td>uuu</td>\n",
       "      <td>43</td>\n",
       "      <td>30536</td>\n",
       "    </tr>\n",
       "    <tr>\n",
       "      <th>26</th>\n",
       "      <td>EBDA1026</td>\n",
       "      <td>sss</td>\n",
       "      <td>31</td>\n",
       "      <td>31656</td>\n",
       "    </tr>\n",
       "  </tbody>\n",
       "</table>\n",
       "</div>"
      ],
      "text/plain": [
       "          id name  age  salary\n",
       "6   EBDA1006  ggg   40   32274\n",
       "11  EBDA1011  ccc   34   26561\n",
       "16  EBDA1016  ppp   26   31487\n",
       "18  EBDA1018  lll   40   32209\n",
       "20  EBDA1020  uuu   43   30536\n",
       "26  EBDA1026  sss   31   31656"
      ]
     },
     "execution_count": 80,
     "metadata": {},
     "output_type": "execute_result"
    }
   ],
   "source": [
    "# <=\n",
    "df[df.salary <= 33448]"
   ]
  },
  {
   "cell_type": "markdown",
   "id": "995a5eab",
   "metadata": {},
   "source": [
    "### >="
   ]
  },
  {
   "cell_type": "code",
   "execution_count": 81,
   "id": "Pi2ZFQYts-rQ",
   "metadata": {
    "colab": {
     "base_uri": "https://localhost:8080/",
     "height": 144
    },
    "executionInfo": {
     "elapsed": 16,
     "status": "ok",
     "timestamp": 1686761483198,
     "user": {
      "displayName": "DSS DSS",
      "userId": "17636620013329168760"
     },
     "user_tz": -330
    },
    "id": "Pi2ZFQYts-rQ",
    "outputId": "3daf812e-aa77-4044-c66e-732dee0b456c"
   },
   "outputs": [
    {
     "data": {
      "text/html": [
       "<div>\n",
       "<style scoped>\n",
       "    .dataframe tbody tr th:only-of-type {\n",
       "        vertical-align: middle;\n",
       "    }\n",
       "\n",
       "    .dataframe tbody tr th {\n",
       "        vertical-align: top;\n",
       "    }\n",
       "\n",
       "    .dataframe thead th {\n",
       "        text-align: right;\n",
       "    }\n",
       "</style>\n",
       "<table border=\"1\" class=\"dataframe\">\n",
       "  <thead>\n",
       "    <tr style=\"text-align: right;\">\n",
       "      <th></th>\n",
       "      <th>id</th>\n",
       "      <th>name</th>\n",
       "      <th>age</th>\n",
       "      <th>salary</th>\n",
       "    </tr>\n",
       "  </thead>\n",
       "  <tbody>\n",
       "    <tr>\n",
       "      <th>3</th>\n",
       "      <td>EBDA1003</td>\n",
       "      <td>nnn</td>\n",
       "      <td>43</td>\n",
       "      <td>88737</td>\n",
       "    </tr>\n",
       "    <tr>\n",
       "      <th>10</th>\n",
       "      <td>EBDA1010</td>\n",
       "      <td>fff</td>\n",
       "      <td>31</td>\n",
       "      <td>86488</td>\n",
       "    </tr>\n",
       "  </tbody>\n",
       "</table>\n",
       "</div>"
      ],
      "text/plain": [
       "          id name  age  salary\n",
       "3   EBDA1003  nnn   43   88737\n",
       "10  EBDA1010  fff   31   86488"
      ]
     },
     "execution_count": 81,
     "metadata": {},
     "output_type": "execute_result"
    }
   ],
   "source": [
    "# >=\n",
    "df[df.salary >= 85662]"
   ]
  },
  {
   "cell_type": "markdown",
   "id": "2dcd9160",
   "metadata": {},
   "source": [
    "### =="
   ]
  },
  {
   "cell_type": "code",
   "execution_count": 82,
   "id": "asrsvnw_tbZh",
   "metadata": {
    "colab": {
     "base_uri": "https://localhost:8080/",
     "height": 144
    },
    "executionInfo": {
     "elapsed": 8,
     "status": "ok",
     "timestamp": 1686761536869,
     "user": {
      "displayName": "DSS DSS",
      "userId": "17636620013329168760"
     },
     "user_tz": -330
    },
    "id": "asrsvnw_tbZh",
    "outputId": "4ac53340-338d-4190-8325-4b60a82767f0"
   },
   "outputs": [
    {
     "data": {
      "text/html": [
       "<div>\n",
       "<style scoped>\n",
       "    .dataframe tbody tr th:only-of-type {\n",
       "        vertical-align: middle;\n",
       "    }\n",
       "\n",
       "    .dataframe tbody tr th {\n",
       "        vertical-align: top;\n",
       "    }\n",
       "\n",
       "    .dataframe thead th {\n",
       "        text-align: right;\n",
       "    }\n",
       "</style>\n",
       "<table border=\"1\" class=\"dataframe\">\n",
       "  <thead>\n",
       "    <tr style=\"text-align: right;\">\n",
       "      <th></th>\n",
       "      <th>id</th>\n",
       "      <th>name</th>\n",
       "      <th>age</th>\n",
       "      <th>salary</th>\n",
       "    </tr>\n",
       "  </thead>\n",
       "  <tbody>\n",
       "    <tr>\n",
       "      <th>26</th>\n",
       "      <td>EBDA1026</td>\n",
       "      <td>sss</td>\n",
       "      <td>31</td>\n",
       "      <td>31656</td>\n",
       "    </tr>\n",
       "  </tbody>\n",
       "</table>\n",
       "</div>"
      ],
      "text/plain": [
       "          id name  age  salary\n",
       "26  EBDA1026  sss   31   31656"
      ]
     },
     "execution_count": 82,
     "metadata": {},
     "output_type": "execute_result"
    }
   ],
   "source": [
    "# ==\n",
    "### >=# df[df.id == 'ebda1026']\n",
    "df[df.id == 'EBDA1026'] # case sensitive"
   ]
  },
  {
   "cell_type": "markdown",
   "id": "95b03e68",
   "metadata": {},
   "source": [
    "### !="
   ]
  },
  {
   "cell_type": "code",
   "execution_count": 83,
   "id": "VM84Yi9NtoDZ",
   "metadata": {
    "colab": {
     "base_uri": "https://localhost:8080/",
     "height": 112
    },
    "executionInfo": {
     "elapsed": 721,
     "status": "ok",
     "timestamp": 1686761544812,
     "user": {
      "displayName": "DSS DSS",
      "userId": "17636620013329168760"
     },
     "user_tz": -330
    },
    "id": "VM84Yi9NtoDZ",
    "outputId": "df91165e-2e93-4ab7-a8c3-0f606875f59a"
   },
   "outputs": [
    {
     "data": {
      "text/html": [
       "<div>\n",
       "<style scoped>\n",
       "    .dataframe tbody tr th:only-of-type {\n",
       "        vertical-align: middle;\n",
       "    }\n",
       "\n",
       "    .dataframe tbody tr th {\n",
       "        vertical-align: top;\n",
       "    }\n",
       "\n",
       "    .dataframe thead th {\n",
       "        text-align: right;\n",
       "    }\n",
       "</style>\n",
       "<table border=\"1\" class=\"dataframe\">\n",
       "  <thead>\n",
       "    <tr style=\"text-align: right;\">\n",
       "      <th></th>\n",
       "      <th>id</th>\n",
       "      <th>name</th>\n",
       "      <th>age</th>\n",
       "      <th>salary</th>\n",
       "    </tr>\n",
       "  </thead>\n",
       "  <tbody>\n",
       "    <tr>\n",
       "      <th>3</th>\n",
       "      <td>EBDA1003</td>\n",
       "      <td>nnn</td>\n",
       "      <td>43</td>\n",
       "      <td>88737</td>\n",
       "    </tr>\n",
       "    <tr>\n",
       "      <th>10</th>\n",
       "      <td>EBDA1010</td>\n",
       "      <td>fff</td>\n",
       "      <td>31</td>\n",
       "      <td>86488</td>\n",
       "    </tr>\n",
       "  </tbody>\n",
       "</table>\n",
       "</div>"
      ],
      "text/plain": [
       "          id name  age  salary\n",
       "3   EBDA1003  nnn   43   88737\n",
       "10  EBDA1010  fff   31   86488"
      ]
     },
     "execution_count": 83,
     "metadata": {},
     "output_type": "execute_result"
    }
   ],
   "source": [
    "# !=\n",
    "df[(df.id != 'EBDA1026') & (df.salary > 85000)]"
   ]
  },
  {
   "cell_type": "markdown",
   "id": "4282ed61",
   "metadata": {},
   "source": [
    "### df.col.isin()"
   ]
  },
  {
   "cell_type": "code",
   "execution_count": 84,
   "id": "40aReGWRt7nv",
   "metadata": {
    "colab": {
     "base_uri": "https://localhost:8080/",
     "height": 363
    },
    "executionInfo": {
     "elapsed": 594,
     "status": "ok",
     "timestamp": 1686762136494,
     "user": {
      "displayName": "DSS DSS",
      "userId": "17636620013329168760"
     },
     "user_tz": -330
    },
    "id": "40aReGWRt7nv",
    "outputId": "05ee1a93-91a8-4fd7-a8e2-a2092f2d828f"
   },
   "outputs": [
    {
     "data": {
      "text/html": [
       "<div>\n",
       "<style scoped>\n",
       "    .dataframe tbody tr th:only-of-type {\n",
       "        vertical-align: middle;\n",
       "    }\n",
       "\n",
       "    .dataframe tbody tr th {\n",
       "        vertical-align: top;\n",
       "    }\n",
       "\n",
       "    .dataframe thead th {\n",
       "        text-align: right;\n",
       "    }\n",
       "</style>\n",
       "<table border=\"1\" class=\"dataframe\">\n",
       "  <thead>\n",
       "    <tr style=\"text-align: right;\">\n",
       "      <th></th>\n",
       "      <th>id</th>\n",
       "      <th>name</th>\n",
       "      <th>age</th>\n",
       "      <th>salary</th>\n",
       "    </tr>\n",
       "  </thead>\n",
       "  <tbody>\n",
       "    <tr>\n",
       "      <th>2</th>\n",
       "      <td>EBDA1002</td>\n",
       "      <td>aaa</td>\n",
       "      <td>45</td>\n",
       "      <td>38522</td>\n",
       "    </tr>\n",
       "    <tr>\n",
       "      <th>7</th>\n",
       "      <td>EBDA1007</td>\n",
       "      <td>ccc</td>\n",
       "      <td>26</td>\n",
       "      <td>40756</td>\n",
       "    </tr>\n",
       "    <tr>\n",
       "      <th>11</th>\n",
       "      <td>EBDA1011</td>\n",
       "      <td>ccc</td>\n",
       "      <td>34</td>\n",
       "      <td>26561</td>\n",
       "    </tr>\n",
       "    <tr>\n",
       "      <th>12</th>\n",
       "      <td>EBDA1012</td>\n",
       "      <td>ddd</td>\n",
       "      <td>40</td>\n",
       "      <td>77006</td>\n",
       "    </tr>\n",
       "    <tr>\n",
       "      <th>14</th>\n",
       "      <td>EBDA1014</td>\n",
       "      <td>aaa</td>\n",
       "      <td>40</td>\n",
       "      <td>50556</td>\n",
       "    </tr>\n",
       "    <tr>\n",
       "      <th>27</th>\n",
       "      <td>EBDA1027</td>\n",
       "      <td>ddd</td>\n",
       "      <td>24</td>\n",
       "      <td>36178</td>\n",
       "    </tr>\n",
       "  </tbody>\n",
       "</table>\n",
       "</div>"
      ],
      "text/plain": [
       "          id name  age  salary\n",
       "2   EBDA1002  aaa   45   38522\n",
       "7   EBDA1007  ccc   26   40756\n",
       "11  EBDA1011  ccc   34   26561\n",
       "12  EBDA1012  ddd   40   77006\n",
       "14  EBDA1014  aaa   40   50556\n",
       "27  EBDA1027  ddd   24   36178"
      ]
     },
     "execution_count": 84,
     "metadata": {},
     "output_type": "execute_result"
    }
   ],
   "source": [
    "# group membership\n",
    "# df.columns.isin(['name','age'])\n",
    "# df.name.isin(['aaa','bbb','ccc','ddd']) # True or False\n",
    "df[df.name.isin(['aaa','bbb','ccc','ddd'])]"
   ]
  },
  {
   "cell_type": "markdown",
   "id": "586d127b",
   "metadata": {},
   "source": [
    "### pd.isnull(df)"
   ]
  },
  {
   "cell_type": "code",
   "execution_count": 85,
   "id": "Vl4xqN3b0xV7",
   "metadata": {
    "colab": {
     "base_uri": "https://localhost:8080/"
    },
    "executionInfo": {
     "elapsed": 431,
     "status": "ok",
     "timestamp": 1686762297159,
     "user": {
      "displayName": "DSS DSS",
      "userId": "17636620013329168760"
     },
     "user_tz": -330
    },
    "id": "Vl4xqN3b0xV7",
    "outputId": "9b63ecd1-8024-40b0-d3ea-485a422a60c9"
   },
   "outputs": [
    {
     "data": {
      "text/plain": [
       "0    False\n",
       "1     True\n",
       "2    False\n",
       "3    False\n",
       "4    False\n",
       "Name: City, dtype: bool"
      ]
     },
     "execution_count": 85,
     "metadata": {},
     "output_type": "execute_result"
    }
   ],
   "source": [
    "# is NaN\n",
    "student = {'Name': ['John', 'Alice', 'Bob', 'Emma', 'Sam'],\n",
    "        'Age': [25, 30, 22, np.nan, 35],\n",
    "        'City': ['New York', np.nan, 'London', 'Paris', 'Tokyo']}\n",
    "df_student = pd.DataFrame(student)\n",
    "# pd.isnull(df_student)\n",
    "pd.isnull(df_student.City)"
   ]
  },
  {
   "cell_type": "markdown",
   "id": "b5c071cf",
   "metadata": {},
   "source": [
    "### pd.notnull(df)"
   ]
  },
  {
   "cell_type": "code",
   "execution_count": 86,
   "id": "cu7Jyqtp2yE_",
   "metadata": {
    "colab": {
     "base_uri": "https://localhost:8080/",
     "height": 206
    },
    "executionInfo": {
     "elapsed": 8,
     "status": "ok",
     "timestamp": 1686762375197,
     "user": {
      "displayName": "DSS DSS",
      "userId": "17636620013329168760"
     },
     "user_tz": -330
    },
    "id": "cu7Jyqtp2yE_",
    "outputId": "aaa77d37-38d8-4b26-f6b0-29c04ef7bda0"
   },
   "outputs": [
    {
     "data": {
      "text/html": [
       "<div>\n",
       "<style scoped>\n",
       "    .dataframe tbody tr th:only-of-type {\n",
       "        vertical-align: middle;\n",
       "    }\n",
       "\n",
       "    .dataframe tbody tr th {\n",
       "        vertical-align: top;\n",
       "    }\n",
       "\n",
       "    .dataframe thead th {\n",
       "        text-align: right;\n",
       "    }\n",
       "</style>\n",
       "<table border=\"1\" class=\"dataframe\">\n",
       "  <thead>\n",
       "    <tr style=\"text-align: right;\">\n",
       "      <th></th>\n",
       "      <th>Name</th>\n",
       "      <th>Age</th>\n",
       "      <th>City</th>\n",
       "    </tr>\n",
       "  </thead>\n",
       "  <tbody>\n",
       "    <tr>\n",
       "      <th>0</th>\n",
       "      <td>True</td>\n",
       "      <td>True</td>\n",
       "      <td>True</td>\n",
       "    </tr>\n",
       "    <tr>\n",
       "      <th>1</th>\n",
       "      <td>True</td>\n",
       "      <td>True</td>\n",
       "      <td>False</td>\n",
       "    </tr>\n",
       "    <tr>\n",
       "      <th>2</th>\n",
       "      <td>True</td>\n",
       "      <td>True</td>\n",
       "      <td>True</td>\n",
       "    </tr>\n",
       "    <tr>\n",
       "      <th>3</th>\n",
       "      <td>True</td>\n",
       "      <td>False</td>\n",
       "      <td>True</td>\n",
       "    </tr>\n",
       "    <tr>\n",
       "      <th>4</th>\n",
       "      <td>True</td>\n",
       "      <td>True</td>\n",
       "      <td>True</td>\n",
       "    </tr>\n",
       "  </tbody>\n",
       "</table>\n",
       "</div>"
      ],
      "text/plain": [
       "   Name    Age   City\n",
       "0  True   True   True\n",
       "1  True   True  False\n",
       "2  True   True   True\n",
       "3  True  False   True\n",
       "4  True   True   True"
      ]
     },
     "execution_count": 86,
     "metadata": {},
     "output_type": "execute_result"
    }
   ],
   "source": [
    "# is not NaN\n",
    "pd.notnull(df_student)"
   ]
  },
  {
   "cell_type": "markdown",
   "id": "c705933e",
   "metadata": {},
   "source": [
    "### df[(cond1) & (cond2)]"
   ]
  },
  {
   "cell_type": "code",
   "execution_count": 87,
   "id": "d_3-B3MQ30Iz",
   "metadata": {
    "colab": {
     "base_uri": "https://localhost:8080/",
     "height": 81
    },
    "executionInfo": {
     "elapsed": 17,
     "status": "ok",
     "timestamp": 1686762531294,
     "user": {
      "displayName": "DSS DSS",
      "userId": "17636620013329168760"
     },
     "user_tz": -330
    },
    "id": "d_3-B3MQ30Iz",
    "outputId": "ebabfa7b-974f-4da0-f595-488daa69a85a"
   },
   "outputs": [
    {
     "data": {
      "text/html": [
       "<div>\n",
       "<style scoped>\n",
       "    .dataframe tbody tr th:only-of-type {\n",
       "        vertical-align: middle;\n",
       "    }\n",
       "\n",
       "    .dataframe tbody tr th {\n",
       "        vertical-align: top;\n",
       "    }\n",
       "\n",
       "    .dataframe thead th {\n",
       "        text-align: right;\n",
       "    }\n",
       "</style>\n",
       "<table border=\"1\" class=\"dataframe\">\n",
       "  <thead>\n",
       "    <tr style=\"text-align: right;\">\n",
       "      <th></th>\n",
       "      <th>id</th>\n",
       "      <th>name</th>\n",
       "      <th>age</th>\n",
       "      <th>salary</th>\n",
       "    </tr>\n",
       "  </thead>\n",
       "  <tbody>\n",
       "    <tr>\n",
       "      <th>7</th>\n",
       "      <td>EBDA1007</td>\n",
       "      <td>ccc</td>\n",
       "      <td>26</td>\n",
       "      <td>40756</td>\n",
       "    </tr>\n",
       "    <tr>\n",
       "      <th>11</th>\n",
       "      <td>EBDA1011</td>\n",
       "      <td>ccc</td>\n",
       "      <td>34</td>\n",
       "      <td>26561</td>\n",
       "    </tr>\n",
       "    <tr>\n",
       "      <th>27</th>\n",
       "      <td>EBDA1027</td>\n",
       "      <td>ddd</td>\n",
       "      <td>24</td>\n",
       "      <td>36178</td>\n",
       "    </tr>\n",
       "  </tbody>\n",
       "</table>\n",
       "</div>"
      ],
      "text/plain": [
       "          id name  age  salary\n",
       "7   EBDA1007  ccc   26   40756\n",
       "11  EBDA1011  ccc   34   26561\n",
       "27  EBDA1027  ddd   24   36178"
      ]
     },
     "execution_count": 87,
     "metadata": {},
     "output_type": "execute_result"
    }
   ],
   "source": [
    "# & Logical and\n",
    "df[(df['name'].isin(['aaa','bbb','ccc','ddd'])) & (df['age']<35)]"
   ]
  },
  {
   "cell_type": "markdown",
   "id": "02ee5113",
   "metadata": {},
   "source": [
    "### df[(cond1) | (cond2)]"
   ]
  },
  {
   "cell_type": "code",
   "execution_count": 88,
   "id": "QM0LR3Ma4Kpy",
   "metadata": {
    "colab": {
     "base_uri": "https://localhost:8080/",
     "height": 457
    },
    "executionInfo": {
     "elapsed": 9,
     "status": "ok",
     "timestamp": 1686762852277,
     "user": {
      "displayName": "DSS DSS",
      "userId": "17636620013329168760"
     },
     "user_tz": -330
    },
    "id": "QM0LR3Ma4Kpy",
    "outputId": "8e29db50-6935-4d88-d119-c53c0b811a96"
   },
   "outputs": [
    {
     "data": {
      "text/html": [
       "<div>\n",
       "<style scoped>\n",
       "    .dataframe tbody tr th:only-of-type {\n",
       "        vertical-align: middle;\n",
       "    }\n",
       "\n",
       "    .dataframe tbody tr th {\n",
       "        vertical-align: top;\n",
       "    }\n",
       "\n",
       "    .dataframe thead th {\n",
       "        text-align: right;\n",
       "    }\n",
       "</style>\n",
       "<table border=\"1\" class=\"dataframe\">\n",
       "  <thead>\n",
       "    <tr style=\"text-align: right;\">\n",
       "      <th></th>\n",
       "      <th>id</th>\n",
       "      <th>name</th>\n",
       "      <th>age</th>\n",
       "      <th>salary</th>\n",
       "    </tr>\n",
       "  </thead>\n",
       "  <tbody>\n",
       "    <tr>\n",
       "      <th>1</th>\n",
       "      <td>EBDA1001</td>\n",
       "      <td>eee</td>\n",
       "      <td>26</td>\n",
       "      <td>43416</td>\n",
       "    </tr>\n",
       "    <tr>\n",
       "      <th>2</th>\n",
       "      <td>EBDA1002</td>\n",
       "      <td>aaa</td>\n",
       "      <td>45</td>\n",
       "      <td>38522</td>\n",
       "    </tr>\n",
       "    <tr>\n",
       "      <th>5</th>\n",
       "      <td>EBDA1005</td>\n",
       "      <td>lll</td>\n",
       "      <td>25</td>\n",
       "      <td>45644</td>\n",
       "    </tr>\n",
       "    <tr>\n",
       "      <th>7</th>\n",
       "      <td>EBDA1007</td>\n",
       "      <td>ccc</td>\n",
       "      <td>26</td>\n",
       "      <td>40756</td>\n",
       "    </tr>\n",
       "    <tr>\n",
       "      <th>13</th>\n",
       "      <td>EBDA1013</td>\n",
       "      <td>sss</td>\n",
       "      <td>27</td>\n",
       "      <td>66580</td>\n",
       "    </tr>\n",
       "    <tr>\n",
       "      <th>14</th>\n",
       "      <td>EBDA1014</td>\n",
       "      <td>aaa</td>\n",
       "      <td>40</td>\n",
       "      <td>50556</td>\n",
       "    </tr>\n",
       "    <tr>\n",
       "      <th>15</th>\n",
       "      <td>EBDA1015</td>\n",
       "      <td>www</td>\n",
       "      <td>23</td>\n",
       "      <td>49648</td>\n",
       "    </tr>\n",
       "    <tr>\n",
       "      <th>16</th>\n",
       "      <td>EBDA1016</td>\n",
       "      <td>ppp</td>\n",
       "      <td>26</td>\n",
       "      <td>31487</td>\n",
       "    </tr>\n",
       "    <tr>\n",
       "      <th>22</th>\n",
       "      <td>EBDA1022</td>\n",
       "      <td>jjj</td>\n",
       "      <td>29</td>\n",
       "      <td>43517</td>\n",
       "    </tr>\n",
       "    <tr>\n",
       "      <th>23</th>\n",
       "      <td>EBDA1023</td>\n",
       "      <td>qqq</td>\n",
       "      <td>24</td>\n",
       "      <td>44868</td>\n",
       "    </tr>\n",
       "    <tr>\n",
       "      <th>27</th>\n",
       "      <td>EBDA1027</td>\n",
       "      <td>ddd</td>\n",
       "      <td>24</td>\n",
       "      <td>36178</td>\n",
       "    </tr>\n",
       "    <tr>\n",
       "      <th>30</th>\n",
       "      <td>EBDA1030</td>\n",
       "      <td>hhh</td>\n",
       "      <td>25</td>\n",
       "      <td>65118</td>\n",
       "    </tr>\n",
       "  </tbody>\n",
       "</table>\n",
       "</div>"
      ],
      "text/plain": [
       "          id name  age  salary\n",
       "1   EBDA1001  eee   26   43416\n",
       "2   EBDA1002  aaa   45   38522\n",
       "5   EBDA1005  lll   25   45644\n",
       "7   EBDA1007  ccc   26   40756\n",
       "13  EBDA1013  sss   27   66580\n",
       "14  EBDA1014  aaa   40   50556\n",
       "15  EBDA1015  www   23   49648\n",
       "16  EBDA1016  ppp   26   31487\n",
       "22  EBDA1022  jjj   29   43517\n",
       "23  EBDA1023  qqq   24   44868\n",
       "27  EBDA1027  ddd   24   36178\n",
       "30  EBDA1030  hhh   25   65118"
      ]
     },
     "execution_count": 88,
     "metadata": {},
     "output_type": "execute_result"
    }
   ],
   "source": [
    "# | logical or\n",
    "df[(df['name']=='aaa') | (df['age']<30)]"
   ]
  },
  {
   "cell_type": "markdown",
   "id": "7496d358",
   "metadata": {},
   "source": [
    "### df[~(cond)]"
   ]
  },
  {
   "cell_type": "code",
   "execution_count": 89,
   "id": "qo7iIMSV4d8a",
   "metadata": {
    "colab": {
     "base_uri": "https://localhost:8080/",
     "height": 144
    },
    "executionInfo": {
     "elapsed": 13,
     "status": "ok",
     "timestamp": 1686762854741,
     "user": {
      "displayName": "DSS DSS",
      "userId": "17636620013329168760"
     },
     "user_tz": -330
    },
    "id": "qo7iIMSV4d8a",
    "outputId": "930a91c8-7a9b-4b99-b3b4-c538ddde428c"
   },
   "outputs": [
    {
     "data": {
      "text/html": [
       "<div>\n",
       "<style scoped>\n",
       "    .dataframe tbody tr th:only-of-type {\n",
       "        vertical-align: middle;\n",
       "    }\n",
       "\n",
       "    .dataframe tbody tr th {\n",
       "        vertical-align: top;\n",
       "    }\n",
       "\n",
       "    .dataframe thead th {\n",
       "        text-align: right;\n",
       "    }\n",
       "</style>\n",
       "<table border=\"1\" class=\"dataframe\">\n",
       "  <thead>\n",
       "    <tr style=\"text-align: right;\">\n",
       "      <th></th>\n",
       "      <th>id</th>\n",
       "      <th>name</th>\n",
       "      <th>age</th>\n",
       "      <th>salary</th>\n",
       "    </tr>\n",
       "  </thead>\n",
       "  <tbody>\n",
       "    <tr>\n",
       "      <th>5</th>\n",
       "      <td>EBDA1005</td>\n",
       "      <td>lll</td>\n",
       "      <td>25</td>\n",
       "      <td>45644</td>\n",
       "    </tr>\n",
       "    <tr>\n",
       "      <th>15</th>\n",
       "      <td>EBDA1015</td>\n",
       "      <td>www</td>\n",
       "      <td>23</td>\n",
       "      <td>49648</td>\n",
       "    </tr>\n",
       "    <tr>\n",
       "      <th>23</th>\n",
       "      <td>EBDA1023</td>\n",
       "      <td>qqq</td>\n",
       "      <td>24</td>\n",
       "      <td>44868</td>\n",
       "    </tr>\n",
       "    <tr>\n",
       "      <th>27</th>\n",
       "      <td>EBDA1027</td>\n",
       "      <td>ddd</td>\n",
       "      <td>24</td>\n",
       "      <td>36178</td>\n",
       "    </tr>\n",
       "    <tr>\n",
       "      <th>30</th>\n",
       "      <td>EBDA1030</td>\n",
       "      <td>hhh</td>\n",
       "      <td>25</td>\n",
       "      <td>65118</td>\n",
       "    </tr>\n",
       "  </tbody>\n",
       "</table>\n",
       "</div>"
      ],
      "text/plain": [
       "          id name  age  salary\n",
       "5   EBDA1005  lll   25   45644\n",
       "15  EBDA1015  www   23   49648\n",
       "23  EBDA1023  qqq   24   44868\n",
       "27  EBDA1027  ddd   24   36178\n",
       "30  EBDA1030  hhh   25   65118"
      ]
     },
     "execution_count": 89,
     "metadata": {},
     "output_type": "execute_result"
    }
   ],
   "source": [
    "# ~ logical not\n",
    "df[~(df['age']>25)]"
   ]
  },
  {
   "cell_type": "markdown",
   "id": "de8aadac",
   "metadata": {},
   "source": [
    "### ^"
   ]
  },
  {
   "cell_type": "code",
   "execution_count": 90,
   "id": "yiDW2iuj4t4l",
   "metadata": {
    "colab": {
     "base_uri": "https://localhost:8080/",
     "height": 426
    },
    "executionInfo": {
     "elapsed": 11,
     "status": "ok",
     "timestamp": 1686762854742,
     "user": {
      "displayName": "DSS DSS",
      "userId": "17636620013329168760"
     },
     "user_tz": -330
    },
    "id": "yiDW2iuj4t4l",
    "outputId": "c289941d-481b-4ffc-9d0a-3c37b3348bf9"
   },
   "outputs": [
    {
     "data": {
      "text/html": [
       "<div>\n",
       "<style scoped>\n",
       "    .dataframe tbody tr th:only-of-type {\n",
       "        vertical-align: middle;\n",
       "    }\n",
       "\n",
       "    .dataframe tbody tr th {\n",
       "        vertical-align: top;\n",
       "    }\n",
       "\n",
       "    .dataframe thead th {\n",
       "        text-align: right;\n",
       "    }\n",
       "</style>\n",
       "<table border=\"1\" class=\"dataframe\">\n",
       "  <thead>\n",
       "    <tr style=\"text-align: right;\">\n",
       "      <th></th>\n",
       "      <th>id</th>\n",
       "      <th>name</th>\n",
       "      <th>age</th>\n",
       "      <th>salary</th>\n",
       "    </tr>\n",
       "  </thead>\n",
       "  <tbody>\n",
       "    <tr>\n",
       "      <th>1</th>\n",
       "      <td>EBDA1001</td>\n",
       "      <td>eee</td>\n",
       "      <td>26</td>\n",
       "      <td>43416</td>\n",
       "    </tr>\n",
       "    <tr>\n",
       "      <th>2</th>\n",
       "      <td>EBDA1002</td>\n",
       "      <td>aaa</td>\n",
       "      <td>45</td>\n",
       "      <td>38522</td>\n",
       "    </tr>\n",
       "    <tr>\n",
       "      <th>5</th>\n",
       "      <td>EBDA1005</td>\n",
       "      <td>lll</td>\n",
       "      <td>25</td>\n",
       "      <td>45644</td>\n",
       "    </tr>\n",
       "    <tr>\n",
       "      <th>7</th>\n",
       "      <td>EBDA1007</td>\n",
       "      <td>ccc</td>\n",
       "      <td>26</td>\n",
       "      <td>40756</td>\n",
       "    </tr>\n",
       "    <tr>\n",
       "      <th>13</th>\n",
       "      <td>EBDA1013</td>\n",
       "      <td>sss</td>\n",
       "      <td>27</td>\n",
       "      <td>66580</td>\n",
       "    </tr>\n",
       "    <tr>\n",
       "      <th>14</th>\n",
       "      <td>EBDA1014</td>\n",
       "      <td>aaa</td>\n",
       "      <td>40</td>\n",
       "      <td>50556</td>\n",
       "    </tr>\n",
       "    <tr>\n",
       "      <th>15</th>\n",
       "      <td>EBDA1015</td>\n",
       "      <td>www</td>\n",
       "      <td>23</td>\n",
       "      <td>49648</td>\n",
       "    </tr>\n",
       "    <tr>\n",
       "      <th>16</th>\n",
       "      <td>EBDA1016</td>\n",
       "      <td>ppp</td>\n",
       "      <td>26</td>\n",
       "      <td>31487</td>\n",
       "    </tr>\n",
       "    <tr>\n",
       "      <th>22</th>\n",
       "      <td>EBDA1022</td>\n",
       "      <td>jjj</td>\n",
       "      <td>29</td>\n",
       "      <td>43517</td>\n",
       "    </tr>\n",
       "    <tr>\n",
       "      <th>23</th>\n",
       "      <td>EBDA1023</td>\n",
       "      <td>qqq</td>\n",
       "      <td>24</td>\n",
       "      <td>44868</td>\n",
       "    </tr>\n",
       "    <tr>\n",
       "      <th>27</th>\n",
       "      <td>EBDA1027</td>\n",
       "      <td>ddd</td>\n",
       "      <td>24</td>\n",
       "      <td>36178</td>\n",
       "    </tr>\n",
       "    <tr>\n",
       "      <th>30</th>\n",
       "      <td>EBDA1030</td>\n",
       "      <td>hhh</td>\n",
       "      <td>25</td>\n",
       "      <td>65118</td>\n",
       "    </tr>\n",
       "  </tbody>\n",
       "</table>\n",
       "</div>"
      ],
      "text/plain": [
       "          id name  age  salary\n",
       "1   EBDA1001  eee   26   43416\n",
       "2   EBDA1002  aaa   45   38522\n",
       "5   EBDA1005  lll   25   45644\n",
       "7   EBDA1007  ccc   26   40756\n",
       "13  EBDA1013  sss   27   66580\n",
       "14  EBDA1014  aaa   40   50556\n",
       "15  EBDA1015  www   23   49648\n",
       "16  EBDA1016  ppp   26   31487\n",
       "22  EBDA1022  jjj   29   43517\n",
       "23  EBDA1023  qqq   24   44868\n",
       "27  EBDA1027  ddd   24   36178\n",
       "30  EBDA1030  hhh   25   65118"
      ]
     },
     "execution_count": 90,
     "metadata": {},
     "output_type": "execute_result"
    }
   ],
   "source": [
    "# ^ xor\n",
    "df[(df['name']=='aaa') ^ (df['age']<30)]"
   ]
  },
  {
   "cell_type": "code",
   "execution_count": 91,
   "id": "m7sDaY0A563m",
   "metadata": {
    "colab": {
     "base_uri": "https://localhost:8080/",
     "height": 206
    },
    "executionInfo": {
     "elapsed": 824,
     "status": "ok",
     "timestamp": 1686762929690,
     "user": {
      "displayName": "DSS DSS",
      "userId": "17636620013329168760"
     },
     "user_tz": -330
    },
    "id": "m7sDaY0A563m",
    "outputId": "c82c1aa5-62d6-4ca8-fe00-1302168b4878"
   },
   "outputs": [
    {
     "data": {
      "text/html": [
       "<div>\n",
       "<style scoped>\n",
       "    .dataframe tbody tr th:only-of-type {\n",
       "        vertical-align: middle;\n",
       "    }\n",
       "\n",
       "    .dataframe tbody tr th {\n",
       "        vertical-align: top;\n",
       "    }\n",
       "\n",
       "    .dataframe thead th {\n",
       "        text-align: right;\n",
       "    }\n",
       "</style>\n",
       "<table border=\"1\" class=\"dataframe\">\n",
       "  <thead>\n",
       "    <tr style=\"text-align: right;\">\n",
       "      <th></th>\n",
       "      <th>Name</th>\n",
       "      <th>Age</th>\n",
       "      <th>City</th>\n",
       "    </tr>\n",
       "  </thead>\n",
       "  <tbody>\n",
       "    <tr>\n",
       "      <th>0</th>\n",
       "      <td>John</td>\n",
       "      <td>25.0</td>\n",
       "      <td>New York</td>\n",
       "    </tr>\n",
       "    <tr>\n",
       "      <th>1</th>\n",
       "      <td>Alice</td>\n",
       "      <td>30.0</td>\n",
       "      <td>NaN</td>\n",
       "    </tr>\n",
       "    <tr>\n",
       "      <th>2</th>\n",
       "      <td>Bob</td>\n",
       "      <td>22.0</td>\n",
       "      <td>London</td>\n",
       "    </tr>\n",
       "    <tr>\n",
       "      <th>3</th>\n",
       "      <td>Emma</td>\n",
       "      <td>NaN</td>\n",
       "      <td>Paris</td>\n",
       "    </tr>\n",
       "    <tr>\n",
       "      <th>4</th>\n",
       "      <td>Sam</td>\n",
       "      <td>35.0</td>\n",
       "      <td>Tokyo</td>\n",
       "    </tr>\n",
       "  </tbody>\n",
       "</table>\n",
       "</div>"
      ],
      "text/plain": [
       "    Name   Age      City\n",
       "0   John  25.0  New York\n",
       "1  Alice  30.0       NaN\n",
       "2    Bob  22.0    London\n",
       "3   Emma   NaN     Paris\n",
       "4    Sam  35.0     Tokyo"
      ]
     },
     "execution_count": 91,
     "metadata": {},
     "output_type": "execute_result"
    }
   ],
   "source": [
    "df_student"
   ]
  },
  {
   "cell_type": "markdown",
   "id": "58b1612e",
   "metadata": {},
   "source": [
    "### df.isna().any()"
   ]
  },
  {
   "cell_type": "code",
   "execution_count": 92,
   "id": "im7v9Q4I44sU",
   "metadata": {
    "colab": {
     "base_uri": "https://localhost:8080/"
    },
    "executionInfo": {
     "elapsed": 713,
     "status": "ok",
     "timestamp": 1686763182826,
     "user": {
      "displayName": "DSS DSS",
      "userId": "17636620013329168760"
     },
     "user_tz": -330
    },
    "id": "im7v9Q4I44sU",
    "outputId": "e7774c11-9c00-4518-e011-6796dd754f90"
   },
   "outputs": [
    {
     "data": {
      "text/plain": [
       "Name    False\n",
       "Age      True\n",
       "City     True\n",
       "dtype: bool"
      ]
     },
     "execution_count": 92,
     "metadata": {},
     "output_type": "execute_result"
    }
   ],
   "source": [
    "df_student.isna().any() # True only if any of the given 'col values' are np.nan"
   ]
  },
  {
   "cell_type": "markdown",
   "id": "31baeb54",
   "metadata": {},
   "source": [
    "### df.isnull().all()"
   ]
  },
  {
   "cell_type": "code",
   "execution_count": 93,
   "id": "dTTJnGxG5u-c",
   "metadata": {
    "colab": {
     "base_uri": "https://localhost:8080/"
    },
    "executionInfo": {
     "elapsed": 4,
     "status": "ok",
     "timestamp": 1686763366835,
     "user": {
      "displayName": "DSS DSS",
      "userId": "17636620013329168760"
     },
     "user_tz": -330
    },
    "id": "dTTJnGxG5u-c",
    "outputId": "12102022-096e-4d6c-d1f9-267eea5f272d"
   },
   "outputs": [
    {
     "data": {
      "text/plain": [
       "Name    False\n",
       "Age     False\n",
       "City    False\n",
       "dtype: bool"
      ]
     },
     "execution_count": 93,
     "metadata": {},
     "output_type": "execute_result"
    }
   ],
   "source": [
    "df_student.isnull().all() # True only if all 'col values' are np.nan"
   ]
  },
  {
   "cell_type": "code",
   "execution_count": 94,
   "id": "ebWsYIF55v7j",
   "metadata": {
    "colab": {
     "base_uri": "https://localhost:8080/",
     "height": 112
    },
    "executionInfo": {
     "elapsed": 1028,
     "status": "ok",
     "timestamp": 1686763428800,
     "user": {
      "displayName": "DSS DSS",
      "userId": "17636620013329168760"
     },
     "user_tz": -330
    },
    "id": "ebWsYIF55v7j",
    "outputId": "cf33f452-902f-4a76-ae15-2b0b7c731192"
   },
   "outputs": [
    {
     "data": {
      "text/html": [
       "<div>\n",
       "<style scoped>\n",
       "    .dataframe tbody tr th:only-of-type {\n",
       "        vertical-align: middle;\n",
       "    }\n",
       "\n",
       "    .dataframe tbody tr th {\n",
       "        vertical-align: top;\n",
       "    }\n",
       "\n",
       "    .dataframe thead th {\n",
       "        text-align: right;\n",
       "    }\n",
       "</style>\n",
       "<table border=\"1\" class=\"dataframe\">\n",
       "  <thead>\n",
       "    <tr style=\"text-align: right;\">\n",
       "      <th></th>\n",
       "      <th>0</th>\n",
       "      <th>1</th>\n",
       "      <th>2</th>\n",
       "    </tr>\n",
       "  </thead>\n",
       "  <tbody>\n",
       "    <tr>\n",
       "      <th>0</th>\n",
       "      <td>0.0</td>\n",
       "      <td>False</td>\n",
       "      <td>NaN</td>\n",
       "    </tr>\n",
       "    <tr>\n",
       "      <th>1</th>\n",
       "      <td>NaN</td>\n",
       "      <td>NaN</td>\n",
       "      <td>NaN</td>\n",
       "    </tr>\n",
       "  </tbody>\n",
       "</table>\n",
       "</div>"
      ],
      "text/plain": [
       "     0      1   2\n",
       "0  0.0  False NaN\n",
       "1  NaN    NaN NaN"
      ]
     },
     "execution_count": 94,
     "metadata": {},
     "output_type": "execute_result"
    }
   ],
   "source": [
    "test = pd.DataFrame([[0,False,np.nan],[np.nan, np.nan, np.nan]])\n",
    "test"
   ]
  },
  {
   "cell_type": "code",
   "execution_count": 95,
   "id": "iRCHpIX87XG6",
   "metadata": {
    "colab": {
     "base_uri": "https://localhost:8080/"
    },
    "executionInfo": {
     "elapsed": 3,
     "status": "ok",
     "timestamp": 1686763443072,
     "user": {
      "displayName": "DSS DSS",
      "userId": "17636620013329168760"
     },
     "user_tz": -330
    },
    "id": "iRCHpIX87XG6",
    "outputId": "750848cf-27b8-4aeb-8de4-15e123aa4dc6"
   },
   "outputs": [
    {
     "data": {
      "text/plain": [
       "0    True\n",
       "1    True\n",
       "2    True\n",
       "dtype: bool"
      ]
     },
     "execution_count": 95,
     "metadata": {},
     "output_type": "execute_result"
    }
   ],
   "source": [
    "test.isnull().any()"
   ]
  },
  {
   "cell_type": "code",
   "execution_count": 96,
   "id": "T5gOGkcn7Z07",
   "metadata": {
    "colab": {
     "base_uri": "https://localhost:8080/"
    },
    "executionInfo": {
     "elapsed": 6,
     "status": "ok",
     "timestamp": 1686763443968,
     "user": {
      "displayName": "DSS DSS",
      "userId": "17636620013329168760"
     },
     "user_tz": -330
    },
    "id": "T5gOGkcn7Z07",
    "outputId": "4cfb1973-9b85-4645-a500-a8ee217b06e1"
   },
   "outputs": [
    {
     "data": {
      "text/plain": [
       "0    False\n",
       "1    False\n",
       "2     True\n",
       "dtype: bool"
      ]
     },
     "execution_count": 96,
     "metadata": {},
     "output_type": "execute_result"
    }
   ],
   "source": [
    "test.isnull().all()"
   ]
  },
  {
   "cell_type": "code",
   "execution_count": 97,
   "id": "cead3142",
   "metadata": {},
   "outputs": [
    {
     "data": {
      "text/html": [
       "<div>\n",
       "<style scoped>\n",
       "    .dataframe tbody tr th:only-of-type {\n",
       "        vertical-align: middle;\n",
       "    }\n",
       "\n",
       "    .dataframe tbody tr th {\n",
       "        vertical-align: top;\n",
       "    }\n",
       "\n",
       "    .dataframe thead th {\n",
       "        text-align: right;\n",
       "    }\n",
       "</style>\n",
       "<table border=\"1\" class=\"dataframe\">\n",
       "  <thead>\n",
       "    <tr style=\"text-align: right;\">\n",
       "      <th></th>\n",
       "      <th>id</th>\n",
       "      <th>name</th>\n",
       "      <th>age</th>\n",
       "      <th>salary</th>\n",
       "    </tr>\n",
       "  </thead>\n",
       "  <tbody>\n",
       "    <tr>\n",
       "      <th>1</th>\n",
       "      <td>EBDA1001</td>\n",
       "      <td>eee</td>\n",
       "      <td>26</td>\n",
       "      <td>43416</td>\n",
       "    </tr>\n",
       "    <tr>\n",
       "      <th>2</th>\n",
       "      <td>EBDA1002</td>\n",
       "      <td>aaa</td>\n",
       "      <td>45</td>\n",
       "      <td>38522</td>\n",
       "    </tr>\n",
       "    <tr>\n",
       "      <th>3</th>\n",
       "      <td>EBDA1003</td>\n",
       "      <td>nnn</td>\n",
       "      <td>43</td>\n",
       "      <td>88737</td>\n",
       "    </tr>\n",
       "    <tr>\n",
       "      <th>4</th>\n",
       "      <td>EBDA1004</td>\n",
       "      <td>qqq</td>\n",
       "      <td>31</td>\n",
       "      <td>80034</td>\n",
       "    </tr>\n",
       "    <tr>\n",
       "      <th>5</th>\n",
       "      <td>EBDA1005</td>\n",
       "      <td>lll</td>\n",
       "      <td>25</td>\n",
       "      <td>45644</td>\n",
       "    </tr>\n",
       "  </tbody>\n",
       "</table>\n",
       "</div>"
      ],
      "text/plain": [
       "         id name  age  salary\n",
       "1  EBDA1001  eee   26   43416\n",
       "2  EBDA1002  aaa   45   38522\n",
       "3  EBDA1003  nnn   43   88737\n",
       "4  EBDA1004  qqq   31   80034\n",
       "5  EBDA1005  lll   25   45644"
      ]
     },
     "execution_count": 97,
     "metadata": {},
     "output_type": "execute_result"
    }
   ],
   "source": [
    "df.head()"
   ]
  },
  {
   "cell_type": "markdown",
   "id": "84a03a32",
   "metadata": {},
   "source": [
    "### df.set_index()"
   ]
  },
  {
   "cell_type": "code",
   "execution_count": 98,
   "id": "8828fc2d",
   "metadata": {},
   "outputs": [],
   "source": [
    "df.set_index('name', inplace=True)"
   ]
  },
  {
   "cell_type": "code",
   "execution_count": 99,
   "id": "8b9bb9e0",
   "metadata": {},
   "outputs": [
    {
     "data": {
      "text/html": [
       "<div>\n",
       "<style scoped>\n",
       "    .dataframe tbody tr th:only-of-type {\n",
       "        vertical-align: middle;\n",
       "    }\n",
       "\n",
       "    .dataframe tbody tr th {\n",
       "        vertical-align: top;\n",
       "    }\n",
       "\n",
       "    .dataframe thead th {\n",
       "        text-align: right;\n",
       "    }\n",
       "</style>\n",
       "<table border=\"1\" class=\"dataframe\">\n",
       "  <thead>\n",
       "    <tr style=\"text-align: right;\">\n",
       "      <th></th>\n",
       "      <th>id</th>\n",
       "      <th>age</th>\n",
       "      <th>salary</th>\n",
       "    </tr>\n",
       "    <tr>\n",
       "      <th>name</th>\n",
       "      <th></th>\n",
       "      <th></th>\n",
       "      <th></th>\n",
       "    </tr>\n",
       "  </thead>\n",
       "  <tbody>\n",
       "    <tr>\n",
       "      <th>eee</th>\n",
       "      <td>EBDA1001</td>\n",
       "      <td>26</td>\n",
       "      <td>43416</td>\n",
       "    </tr>\n",
       "    <tr>\n",
       "      <th>aaa</th>\n",
       "      <td>EBDA1002</td>\n",
       "      <td>45</td>\n",
       "      <td>38522</td>\n",
       "    </tr>\n",
       "    <tr>\n",
       "      <th>nnn</th>\n",
       "      <td>EBDA1003</td>\n",
       "      <td>43</td>\n",
       "      <td>88737</td>\n",
       "    </tr>\n",
       "    <tr>\n",
       "      <th>qqq</th>\n",
       "      <td>EBDA1004</td>\n",
       "      <td>31</td>\n",
       "      <td>80034</td>\n",
       "    </tr>\n",
       "    <tr>\n",
       "      <th>lll</th>\n",
       "      <td>EBDA1005</td>\n",
       "      <td>25</td>\n",
       "      <td>45644</td>\n",
       "    </tr>\n",
       "  </tbody>\n",
       "</table>\n",
       "</div>"
      ],
      "text/plain": [
       "            id  age  salary\n",
       "name                       \n",
       "eee   EBDA1001   26   43416\n",
       "aaa   EBDA1002   45   38522\n",
       "nnn   EBDA1003   43   88737\n",
       "qqq   EBDA1004   31   80034\n",
       "lll   EBDA1005   25   45644"
      ]
     },
     "execution_count": 99,
     "metadata": {},
     "output_type": "execute_result"
    }
   ],
   "source": [
    "df.head()"
   ]
  },
  {
   "cell_type": "markdown",
   "id": "d771a762",
   "metadata": {},
   "source": [
    "### df.filter(regex='')"
   ]
  },
  {
   "cell_type": "code",
   "execution_count": 100,
   "id": "47051264",
   "metadata": {},
   "outputs": [
    {
     "data": {
      "text/html": [
       "<div>\n",
       "<style scoped>\n",
       "    .dataframe tbody tr th:only-of-type {\n",
       "        vertical-align: middle;\n",
       "    }\n",
       "\n",
       "    .dataframe tbody tr th {\n",
       "        vertical-align: top;\n",
       "    }\n",
       "\n",
       "    .dataframe thead th {\n",
       "        text-align: right;\n",
       "    }\n",
       "</style>\n",
       "<table border=\"1\" class=\"dataframe\">\n",
       "  <thead>\n",
       "    <tr style=\"text-align: right;\">\n",
       "      <th></th>\n",
       "      <th>id</th>\n",
       "      <th>age</th>\n",
       "      <th>salary</th>\n",
       "    </tr>\n",
       "    <tr>\n",
       "      <th>name</th>\n",
       "      <th></th>\n",
       "      <th></th>\n",
       "      <th></th>\n",
       "    </tr>\n",
       "  </thead>\n",
       "  <tbody>\n",
       "    <tr>\n",
       "      <th>nnn</th>\n",
       "      <td>EBDA1003</td>\n",
       "      <td>43</td>\n",
       "      <td>88737</td>\n",
       "    </tr>\n",
       "  </tbody>\n",
       "</table>\n",
       "</div>"
      ],
      "text/plain": [
       "            id  age  salary\n",
       "name                       \n",
       "nnn   EBDA1003   43   88737"
      ]
     },
     "execution_count": 100,
     "metadata": {},
     "output_type": "execute_result"
    }
   ],
   "source": [
    "df.filter(regex='^n', axis=0).head() # select rows by regex to index"
   ]
  },
  {
   "cell_type": "markdown",
   "id": "5e9748e2",
   "metadata": {},
   "source": [
    "### df.filter(like='')"
   ]
  },
  {
   "cell_type": "code",
   "execution_count": 101,
   "id": "ff1467e1",
   "metadata": {},
   "outputs": [
    {
     "data": {
      "text/html": [
       "<div>\n",
       "<style scoped>\n",
       "    .dataframe tbody tr th:only-of-type {\n",
       "        vertical-align: middle;\n",
       "    }\n",
       "\n",
       "    .dataframe tbody tr th {\n",
       "        vertical-align: top;\n",
       "    }\n",
       "\n",
       "    .dataframe thead th {\n",
       "        text-align: right;\n",
       "    }\n",
       "</style>\n",
       "<table border=\"1\" class=\"dataframe\">\n",
       "  <thead>\n",
       "    <tr style=\"text-align: right;\">\n",
       "      <th></th>\n",
       "      <th>id</th>\n",
       "      <th>age</th>\n",
       "      <th>salary</th>\n",
       "    </tr>\n",
       "    <tr>\n",
       "      <th>name</th>\n",
       "      <th></th>\n",
       "      <th></th>\n",
       "      <th></th>\n",
       "    </tr>\n",
       "  </thead>\n",
       "  <tbody>\n",
       "    <tr>\n",
       "      <th>nnn</th>\n",
       "      <td>EBDA1003</td>\n",
       "      <td>43</td>\n",
       "      <td>88737</td>\n",
       "    </tr>\n",
       "  </tbody>\n",
       "</table>\n",
       "</div>"
      ],
      "text/plain": [
       "            id  age  salary\n",
       "name                       \n",
       "nnn   EBDA1003   43   88737"
      ]
     },
     "execution_count": 101,
     "metadata": {},
     "output_type": "execute_result"
    }
   ],
   "source": [
    "df.filter(like='n',axis=0).head() # select rows by regex to index"
   ]
  },
  {
   "cell_type": "markdown",
   "id": "a2b68123",
   "metadata": {},
   "source": [
    "### df.query('cond1 and cond2')"
   ]
  },
  {
   "cell_type": "code",
   "execution_count": 102,
   "id": "0d13428d",
   "metadata": {},
   "outputs": [
    {
     "data": {
      "text/html": [
       "<div>\n",
       "<style scoped>\n",
       "    .dataframe tbody tr th:only-of-type {\n",
       "        vertical-align: middle;\n",
       "    }\n",
       "\n",
       "    .dataframe tbody tr th {\n",
       "        vertical-align: top;\n",
       "    }\n",
       "\n",
       "    .dataframe thead th {\n",
       "        text-align: right;\n",
       "    }\n",
       "</style>\n",
       "<table border=\"1\" class=\"dataframe\">\n",
       "  <thead>\n",
       "    <tr style=\"text-align: right;\">\n",
       "      <th></th>\n",
       "      <th>id</th>\n",
       "      <th>age</th>\n",
       "      <th>salary</th>\n",
       "    </tr>\n",
       "    <tr>\n",
       "      <th>name</th>\n",
       "      <th></th>\n",
       "      <th></th>\n",
       "      <th></th>\n",
       "    </tr>\n",
       "  </thead>\n",
       "  <tbody>\n",
       "    <tr>\n",
       "      <th>aaa</th>\n",
       "      <td>EBDA1002</td>\n",
       "      <td>45</td>\n",
       "      <td>38522</td>\n",
       "    </tr>\n",
       "    <tr>\n",
       "      <th>nnn</th>\n",
       "      <td>EBDA1003</td>\n",
       "      <td>43</td>\n",
       "      <td>88737</td>\n",
       "    </tr>\n",
       "    <tr>\n",
       "      <th>ppp</th>\n",
       "      <td>EBDA1019</td>\n",
       "      <td>42</td>\n",
       "      <td>41006</td>\n",
       "    </tr>\n",
       "    <tr>\n",
       "      <th>uuu</th>\n",
       "      <td>EBDA1020</td>\n",
       "      <td>43</td>\n",
       "      <td>30536</td>\n",
       "    </tr>\n",
       "    <tr>\n",
       "      <th>uuu</th>\n",
       "      <td>EBDA1028</td>\n",
       "      <td>45</td>\n",
       "      <td>63663</td>\n",
       "    </tr>\n",
       "    <tr>\n",
       "      <th>kkk</th>\n",
       "      <td>EBDA1029</td>\n",
       "      <td>45</td>\n",
       "      <td>79921</td>\n",
       "    </tr>\n",
       "  </tbody>\n",
       "</table>\n",
       "</div>"
      ],
      "text/plain": [
       "            id  age  salary\n",
       "name                       \n",
       "aaa   EBDA1002   45   38522\n",
       "nnn   EBDA1003   43   88737\n",
       "ppp   EBDA1019   42   41006\n",
       "uuu   EBDA1020   43   30536\n",
       "uuu   EBDA1028   45   63663\n",
       "kkk   EBDA1029   45   79921"
      ]
     },
     "execution_count": 102,
     "metadata": {},
     "output_type": "execute_result"
    }
   ],
   "source": [
    "# query() allows boolean expr for filtering rows\n",
    "df.query('age > 40')\n",
    "# df[df.age > 40] # both are same"
   ]
  },
  {
   "cell_type": "code",
   "execution_count": 103,
   "id": "4b50644a",
   "metadata": {},
   "outputs": [
    {
     "data": {
      "text/html": [
       "<div>\n",
       "<style scoped>\n",
       "    .dataframe tbody tr th:only-of-type {\n",
       "        vertical-align: middle;\n",
       "    }\n",
       "\n",
       "    .dataframe tbody tr th {\n",
       "        vertical-align: top;\n",
       "    }\n",
       "\n",
       "    .dataframe thead th {\n",
       "        text-align: right;\n",
       "    }\n",
       "</style>\n",
       "<table border=\"1\" class=\"dataframe\">\n",
       "  <thead>\n",
       "    <tr style=\"text-align: right;\">\n",
       "      <th></th>\n",
       "      <th>id</th>\n",
       "      <th>age</th>\n",
       "      <th>salary</th>\n",
       "    </tr>\n",
       "    <tr>\n",
       "      <th>name</th>\n",
       "      <th></th>\n",
       "      <th></th>\n",
       "      <th></th>\n",
       "    </tr>\n",
       "  </thead>\n",
       "  <tbody>\n",
       "    <tr>\n",
       "      <th>nnn</th>\n",
       "      <td>EBDA1003</td>\n",
       "      <td>43</td>\n",
       "      <td>88737</td>\n",
       "    </tr>\n",
       "    <tr>\n",
       "      <th>uuu</th>\n",
       "      <td>EBDA1028</td>\n",
       "      <td>45</td>\n",
       "      <td>63663</td>\n",
       "    </tr>\n",
       "    <tr>\n",
       "      <th>kkk</th>\n",
       "      <td>EBDA1029</td>\n",
       "      <td>45</td>\n",
       "      <td>79921</td>\n",
       "    </tr>\n",
       "  </tbody>\n",
       "</table>\n",
       "</div>"
      ],
      "text/plain": [
       "            id  age  salary\n",
       "name                       \n",
       "nnn   EBDA1003   43   88737\n",
       "uuu   EBDA1028   45   63663\n",
       "kkk   EBDA1029   45   79921"
      ]
     },
     "execution_count": 103,
     "metadata": {},
     "output_type": "execute_result"
    }
   ],
   "source": [
    "df.query('age > 40 and salary > 60000') \n",
    "# df[(df['age']>40) & (df['salary']>60000)] # both are same"
   ]
  },
  {
   "cell_type": "markdown",
   "id": "a11905c8",
   "metadata": {},
   "source": [
    "### df.query('col.str.strfunc()')"
   ]
  },
  {
   "cell_type": "code",
   "execution_count": 104,
   "id": "9407fdd1",
   "metadata": {
    "scrolled": true
   },
   "outputs": [
    {
     "data": {
      "text/html": [
       "<div>\n",
       "<style scoped>\n",
       "    .dataframe tbody tr th:only-of-type {\n",
       "        vertical-align: middle;\n",
       "    }\n",
       "\n",
       "    .dataframe tbody tr th {\n",
       "        vertical-align: top;\n",
       "    }\n",
       "\n",
       "    .dataframe thead th {\n",
       "        text-align: right;\n",
       "    }\n",
       "</style>\n",
       "<table border=\"1\" class=\"dataframe\">\n",
       "  <thead>\n",
       "    <tr style=\"text-align: right;\">\n",
       "      <th></th>\n",
       "      <th>id</th>\n",
       "      <th>age</th>\n",
       "      <th>salary</th>\n",
       "    </tr>\n",
       "    <tr>\n",
       "      <th>name</th>\n",
       "      <th></th>\n",
       "      <th></th>\n",
       "      <th></th>\n",
       "    </tr>\n",
       "  </thead>\n",
       "  <tbody>\n",
       "    <tr>\n",
       "      <th>lll</th>\n",
       "      <td>EBDA1005</td>\n",
       "      <td>25</td>\n",
       "      <td>45644</td>\n",
       "    </tr>\n",
       "    <tr>\n",
       "      <th>www</th>\n",
       "      <td>EBDA1015</td>\n",
       "      <td>23</td>\n",
       "      <td>49648</td>\n",
       "    </tr>\n",
       "    <tr>\n",
       "      <th>ttt</th>\n",
       "      <td>EBDA1025</td>\n",
       "      <td>39</td>\n",
       "      <td>39932</td>\n",
       "    </tr>\n",
       "  </tbody>\n",
       "</table>\n",
       "</div>"
      ],
      "text/plain": [
       "            id  age  salary\n",
       "name                       \n",
       "lll   EBDA1005   25   45644\n",
       "www   EBDA1015   23   49648\n",
       "ttt   EBDA1025   39   39932"
      ]
     },
     "execution_count": 104,
     "metadata": {},
     "output_type": "execute_result"
    }
   ],
   "source": [
    "df.query('id.str.endswith(\"5\")')"
   ]
  },
  {
   "cell_type": "markdown",
   "id": "6b171228",
   "metadata": {},
   "source": [
    "### df.drop_duplicates()"
   ]
  },
  {
   "cell_type": "code",
   "execution_count": 105,
   "id": "0c947ad5",
   "metadata": {
    "colab": {
     "base_uri": "https://localhost:8080/",
     "height": 175
    },
    "executionInfo": {
     "elapsed": 7,
     "status": "ok",
     "timestamp": 1686761402919,
     "user": {
      "displayName": "DSS DSS",
      "userId": "17636620013329168760"
     },
     "user_tz": -330
    },
    "id": "mKjPeCOLqjLh",
    "outputId": "85833d8b-26a3-4953-9afe-4674a7e61aae"
   },
   "outputs": [
    {
     "data": {
      "text/html": [
       "<div>\n",
       "<style scoped>\n",
       "    .dataframe tbody tr th:only-of-type {\n",
       "        vertical-align: middle;\n",
       "    }\n",
       "\n",
       "    .dataframe tbody tr th {\n",
       "        vertical-align: top;\n",
       "    }\n",
       "\n",
       "    .dataframe thead th {\n",
       "        text-align: right;\n",
       "    }\n",
       "</style>\n",
       "<table border=\"1\" class=\"dataframe\">\n",
       "  <thead>\n",
       "    <tr style=\"text-align: right;\">\n",
       "      <th></th>\n",
       "      <th>0</th>\n",
       "      <th>1</th>\n",
       "      <th>2</th>\n",
       "    </tr>\n",
       "  </thead>\n",
       "  <tbody>\n",
       "    <tr>\n",
       "      <th>0</th>\n",
       "      <td>1</td>\n",
       "      <td>2</td>\n",
       "      <td>3</td>\n",
       "    </tr>\n",
       "    <tr>\n",
       "      <th>1</th>\n",
       "      <td>1</td>\n",
       "      <td>2</td>\n",
       "      <td>3</td>\n",
       "    </tr>\n",
       "    <tr>\n",
       "      <th>2</th>\n",
       "      <td>4</td>\n",
       "      <td>5</td>\n",
       "      <td>6</td>\n",
       "    </tr>\n",
       "    <tr>\n",
       "      <th>3</th>\n",
       "      <td>1</td>\n",
       "      <td>2</td>\n",
       "      <td>7</td>\n",
       "    </tr>\n",
       "  </tbody>\n",
       "</table>\n",
       "</div>"
      ],
      "text/plain": [
       "   0  1  2\n",
       "0  1  2  3\n",
       "1  1  2  3\n",
       "2  4  5  6\n",
       "3  1  2  7"
      ]
     },
     "execution_count": 105,
     "metadata": {},
     "output_type": "execute_result"
    }
   ],
   "source": [
    "# remove duplicate rows\n",
    "temp_df = pd.DataFrame([[1,2,3],\n",
    "                         [1,2,3],\n",
    "                         [4,5,6],\n",
    "                         [1,2,7]])\n",
    "temp_df"
   ]
  },
  {
   "cell_type": "code",
   "execution_count": 106,
   "id": "805bb100",
   "metadata": {
    "colab": {
     "base_uri": "https://localhost:8080/",
     "height": 144
    },
    "executionInfo": {
     "elapsed": 9,
     "status": "ok",
     "timestamp": 1686761406988,
     "user": {
      "displayName": "DSS DSS",
      "userId": "17636620013329168760"
     },
     "user_tz": -330
    },
    "id": "bwRN3r4crWNc",
    "outputId": "c3646044-6e10-43b5-d90a-41b82e85e26e"
   },
   "outputs": [
    {
     "data": {
      "text/html": [
       "<div>\n",
       "<style scoped>\n",
       "    .dataframe tbody tr th:only-of-type {\n",
       "        vertical-align: middle;\n",
       "    }\n",
       "\n",
       "    .dataframe tbody tr th {\n",
       "        vertical-align: top;\n",
       "    }\n",
       "\n",
       "    .dataframe thead th {\n",
       "        text-align: right;\n",
       "    }\n",
       "</style>\n",
       "<table border=\"1\" class=\"dataframe\">\n",
       "  <thead>\n",
       "    <tr style=\"text-align: right;\">\n",
       "      <th></th>\n",
       "      <th>0</th>\n",
       "      <th>1</th>\n",
       "      <th>2</th>\n",
       "    </tr>\n",
       "  </thead>\n",
       "  <tbody>\n",
       "    <tr>\n",
       "      <th>0</th>\n",
       "      <td>1</td>\n",
       "      <td>2</td>\n",
       "      <td>3</td>\n",
       "    </tr>\n",
       "    <tr>\n",
       "      <th>2</th>\n",
       "      <td>4</td>\n",
       "      <td>5</td>\n",
       "      <td>6</td>\n",
       "    </tr>\n",
       "    <tr>\n",
       "      <th>3</th>\n",
       "      <td>1</td>\n",
       "      <td>2</td>\n",
       "      <td>7</td>\n",
       "    </tr>\n",
       "  </tbody>\n",
       "</table>\n",
       "</div>"
      ],
      "text/plain": [
       "   0  1  2\n",
       "0  1  2  3\n",
       "2  4  5  6\n",
       "3  1  2  7"
      ]
     },
     "execution_count": 106,
     "metadata": {},
     "output_type": "execute_result"
    }
   ],
   "source": [
    "temp_df.drop_duplicates() # removes duplicate rows in the result dataframe, choose inplace if needed"
   ]
  },
  {
   "cell_type": "code",
   "execution_count": 107,
   "id": "5c96b46f",
   "metadata": {
    "colab": {
     "base_uri": "https://localhost:8080/",
     "height": 175
    },
    "executionInfo": {
     "elapsed": 729,
     "status": "ok",
     "timestamp": 1686761411494,
     "user": {
      "displayName": "DSS DSS",
      "userId": "17636620013329168760"
     },
     "user_tz": -330
    },
    "id": "JZ-5-9B9r68f",
    "outputId": "fdc146c6-76f0-4876-9257-e862f42de9bb"
   },
   "outputs": [
    {
     "data": {
      "text/html": [
       "<div>\n",
       "<style scoped>\n",
       "    .dataframe tbody tr th:only-of-type {\n",
       "        vertical-align: middle;\n",
       "    }\n",
       "\n",
       "    .dataframe tbody tr th {\n",
       "        vertical-align: top;\n",
       "    }\n",
       "\n",
       "    .dataframe thead th {\n",
       "        text-align: right;\n",
       "    }\n",
       "</style>\n",
       "<table border=\"1\" class=\"dataframe\">\n",
       "  <thead>\n",
       "    <tr style=\"text-align: right;\">\n",
       "      <th></th>\n",
       "      <th>0</th>\n",
       "      <th>1</th>\n",
       "      <th>2</th>\n",
       "    </tr>\n",
       "  </thead>\n",
       "  <tbody>\n",
       "    <tr>\n",
       "      <th>0</th>\n",
       "      <td>1</td>\n",
       "      <td>2</td>\n",
       "      <td>3</td>\n",
       "    </tr>\n",
       "    <tr>\n",
       "      <th>1</th>\n",
       "      <td>1</td>\n",
       "      <td>2</td>\n",
       "      <td>3</td>\n",
       "    </tr>\n",
       "    <tr>\n",
       "      <th>2</th>\n",
       "      <td>4</td>\n",
       "      <td>5</td>\n",
       "      <td>6</td>\n",
       "    </tr>\n",
       "    <tr>\n",
       "      <th>3</th>\n",
       "      <td>1</td>\n",
       "      <td>2</td>\n",
       "      <td>7</td>\n",
       "    </tr>\n",
       "  </tbody>\n",
       "</table>\n",
       "</div>"
      ],
      "text/plain": [
       "   0  1  2\n",
       "0  1  2  3\n",
       "1  1  2  3\n",
       "2  4  5  6\n",
       "3  1  2  7"
      ]
     },
     "execution_count": 107,
     "metadata": {},
     "output_type": "execute_result"
    }
   ],
   "source": [
    "temp_df"
   ]
  },
  {
   "cell_type": "markdown",
   "id": "4620578f",
   "metadata": {},
   "source": [
    "### regex examples\n",
    "\n",
    "```\n",
    "'\\.'              Matches strings containing a period '.'\n",
    "'Length$'         Matches strings ending with word 'Length'\n",
    "'^Sepal'          Matches strings beginning with the word 'Sepal'\n",
    "'^x[1-5]$'        Matches strings beginning with 'x' and ending with 1 or 2 or 3 or 4 or 5\n",
    "'^(?!Species$).*' Matches strings except the string 'Species'\n",
    "? => 0 or 1 occurence\n",
    "* => 0 or more occurences\n",
    ". => any character except newline\n",
    "^ => starts with\n",
    "$ => ends with\n",
    "```"
   ]
  }
 ],
 "metadata": {
  "kernelspec": {
   "display_name": "Python 3 (ipykernel)",
   "language": "python",
   "name": "python3"
  },
  "language_info": {
   "codemirror_mode": {
    "name": "ipython",
    "version": 3
   },
   "file_extension": ".py",
   "mimetype": "text/x-python",
   "name": "python",
   "nbconvert_exporter": "python",
   "pygments_lexer": "ipython3",
   "version": "3.9.16"
  }
 },
 "nbformat": 4,
 "nbformat_minor": 5
}
