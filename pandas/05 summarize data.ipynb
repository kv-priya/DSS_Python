{
 "cells": [
  {
   "cell_type": "code",
   "execution_count": 11,
   "id": "09990c4b",
   "metadata": {
    "executionInfo": {
     "elapsed": 29,
     "status": "ok",
     "timestamp": 1687330272873,
     "user": {
      "displayName": "DSS DSS",
      "userId": "17636620013329168760"
     },
     "user_tz": -330
    },
    "id": "09990c4b"
   },
   "outputs": [],
   "source": [
    "import numpy as np\n",
    "import pandas as pd"
   ]
  },
  {
   "cell_type": "code",
   "execution_count": 12,
   "id": "c6b8fc9f",
   "metadata": {
    "colab": {
     "base_uri": "https://localhost:8080/",
     "height": 206
    },
    "executionInfo": {
     "elapsed": 29,
     "status": "ok",
     "timestamp": 1687330272874,
     "user": {
      "displayName": "DSS DSS",
      "userId": "17636620013329168760"
     },
     "user_tz": -330
    },
    "id": "c6b8fc9f",
    "outputId": "92843e04-b518-44b8-a581-8ab1023468dd"
   },
   "outputs": [
    {
     "data": {
      "text/html": [
       "<div>\n",
       "<style scoped>\n",
       "    .dataframe tbody tr th:only-of-type {\n",
       "        vertical-align: middle;\n",
       "    }\n",
       "\n",
       "    .dataframe tbody tr th {\n",
       "        vertical-align: top;\n",
       "    }\n",
       "\n",
       "    .dataframe thead th {\n",
       "        text-align: right;\n",
       "    }\n",
       "</style>\n",
       "<table border=\"1\" class=\"dataframe\">\n",
       "  <thead>\n",
       "    <tr style=\"text-align: right;\">\n",
       "      <th></th>\n",
       "      <th>id</th>\n",
       "      <th>name</th>\n",
       "      <th>age</th>\n",
       "      <th>salary</th>\n",
       "    </tr>\n",
       "  </thead>\n",
       "  <tbody>\n",
       "    <tr>\n",
       "      <th>1</th>\n",
       "      <td>EBDA1001</td>\n",
       "      <td>rrr</td>\n",
       "      <td>32</td>\n",
       "      <td>43284</td>\n",
       "    </tr>\n",
       "    <tr>\n",
       "      <th>2</th>\n",
       "      <td>EBDA1002</td>\n",
       "      <td>ggg</td>\n",
       "      <td>34</td>\n",
       "      <td>70730</td>\n",
       "    </tr>\n",
       "    <tr>\n",
       "      <th>3</th>\n",
       "      <td>EBDA1003</td>\n",
       "      <td>ggg</td>\n",
       "      <td>35</td>\n",
       "      <td>77115</td>\n",
       "    </tr>\n",
       "    <tr>\n",
       "      <th>4</th>\n",
       "      <td>EBDA1004</td>\n",
       "      <td>ttt</td>\n",
       "      <td>31</td>\n",
       "      <td>58758</td>\n",
       "    </tr>\n",
       "    <tr>\n",
       "      <th>5</th>\n",
       "      <td>EBDA1005</td>\n",
       "      <td>fff</td>\n",
       "      <td>44</td>\n",
       "      <td>42052</td>\n",
       "    </tr>\n",
       "  </tbody>\n",
       "</table>\n",
       "</div>"
      ],
      "text/plain": [
       "         id name  age  salary\n",
       "1  EBDA1001  rrr   32   43284\n",
       "2  EBDA1002  ggg   34   70730\n",
       "3  EBDA1003  ggg   35   77115\n",
       "4  EBDA1004  ttt   31   58758\n",
       "5  EBDA1005  fff   44   42052"
      ]
     },
     "execution_count": 12,
     "metadata": {},
     "output_type": "execute_result"
    }
   ],
   "source": [
    "### subset observations (rows)# specify values for each column\n",
    "import random\n",
    "import string\n",
    "\n",
    "emp_dict = {\"id\": ['EBDA'+str(x) for x in range(1001,1032)],\n",
    "           \"name\": [random.choice(string.ascii_letters.lower())*3 for x in range(31)],\n",
    "           \"age\": [random.randint(22,45) for _ in range(31)],\n",
    "           \"salary\": [random.randint(25000,90000) for _ in range(31)]}\n",
    "\n",
    "df = pd.DataFrame(data = emp_dict,\n",
    "                  index= list(range(1,32))) # dict values length\n",
    "df.head()"
   ]
  },
  {
   "cell_type": "markdown",
   "id": "ebf2789c",
   "metadata": {},
   "source": [
    "### add new column using .at and list comprehension"
   ]
  },
  {
   "cell_type": "code",
   "execution_count": 13,
   "id": "5f31b9d8",
   "metadata": {
    "executionInfo": {
     "elapsed": 27,
     "status": "ok",
     "timestamp": 1687330272874,
     "user": {
      "displayName": "DSS DSS",
      "userId": "17636620013329168760"
     },
     "user_tz": -330
    },
    "id": "5f31b9d8"
   },
   "outputs": [],
   "source": [
    "df['bonus'] = [(df.at[i,'salary'] * 0.05) if i<25 else np.nan for i in range(1,32)]"
   ]
  },
  {
   "cell_type": "code",
   "execution_count": 14,
   "id": "b4914f1b",
   "metadata": {
    "colab": {
     "base_uri": "https://localhost:8080/",
     "height": 1000
    },
    "executionInfo": {
     "elapsed": 28,
     "status": "ok",
     "timestamp": 1687330272875,
     "user": {
      "displayName": "DSS DSS",
      "userId": "17636620013329168760"
     },
     "user_tz": -330
    },
    "id": "b4914f1b",
    "outputId": "dc830998-f490-42ea-bb5f-75268ce8de11"
   },
   "outputs": [
    {
     "data": {
      "text/html": [
       "<div>\n",
       "<style scoped>\n",
       "    .dataframe tbody tr th:only-of-type {\n",
       "        vertical-align: middle;\n",
       "    }\n",
       "\n",
       "    .dataframe tbody tr th {\n",
       "        vertical-align: top;\n",
       "    }\n",
       "\n",
       "    .dataframe thead th {\n",
       "        text-align: right;\n",
       "    }\n",
       "</style>\n",
       "<table border=\"1\" class=\"dataframe\">\n",
       "  <thead>\n",
       "    <tr style=\"text-align: right;\">\n",
       "      <th></th>\n",
       "      <th>id</th>\n",
       "      <th>name</th>\n",
       "      <th>age</th>\n",
       "      <th>salary</th>\n",
       "      <th>bonus</th>\n",
       "    </tr>\n",
       "  </thead>\n",
       "  <tbody>\n",
       "    <tr>\n",
       "      <th>1</th>\n",
       "      <td>EBDA1001</td>\n",
       "      <td>rrr</td>\n",
       "      <td>32</td>\n",
       "      <td>43284</td>\n",
       "      <td>2164.20</td>\n",
       "    </tr>\n",
       "    <tr>\n",
       "      <th>2</th>\n",
       "      <td>EBDA1002</td>\n",
       "      <td>ggg</td>\n",
       "      <td>34</td>\n",
       "      <td>70730</td>\n",
       "      <td>3536.50</td>\n",
       "    </tr>\n",
       "    <tr>\n",
       "      <th>3</th>\n",
       "      <td>EBDA1003</td>\n",
       "      <td>ggg</td>\n",
       "      <td>35</td>\n",
       "      <td>77115</td>\n",
       "      <td>3855.75</td>\n",
       "    </tr>\n",
       "    <tr>\n",
       "      <th>4</th>\n",
       "      <td>EBDA1004</td>\n",
       "      <td>ttt</td>\n",
       "      <td>31</td>\n",
       "      <td>58758</td>\n",
       "      <td>2937.90</td>\n",
       "    </tr>\n",
       "    <tr>\n",
       "      <th>5</th>\n",
       "      <td>EBDA1005</td>\n",
       "      <td>fff</td>\n",
       "      <td>44</td>\n",
       "      <td>42052</td>\n",
       "      <td>2102.60</td>\n",
       "    </tr>\n",
       "    <tr>\n",
       "      <th>6</th>\n",
       "      <td>EBDA1006</td>\n",
       "      <td>uuu</td>\n",
       "      <td>34</td>\n",
       "      <td>43700</td>\n",
       "      <td>2185.00</td>\n",
       "    </tr>\n",
       "    <tr>\n",
       "      <th>7</th>\n",
       "      <td>EBDA1007</td>\n",
       "      <td>uuu</td>\n",
       "      <td>22</td>\n",
       "      <td>73736</td>\n",
       "      <td>3686.80</td>\n",
       "    </tr>\n",
       "    <tr>\n",
       "      <th>8</th>\n",
       "      <td>EBDA1008</td>\n",
       "      <td>jjj</td>\n",
       "      <td>22</td>\n",
       "      <td>87719</td>\n",
       "      <td>4385.95</td>\n",
       "    </tr>\n",
       "    <tr>\n",
       "      <th>9</th>\n",
       "      <td>EBDA1009</td>\n",
       "      <td>ggg</td>\n",
       "      <td>45</td>\n",
       "      <td>26416</td>\n",
       "      <td>1320.80</td>\n",
       "    </tr>\n",
       "    <tr>\n",
       "      <th>10</th>\n",
       "      <td>EBDA1010</td>\n",
       "      <td>yyy</td>\n",
       "      <td>30</td>\n",
       "      <td>85631</td>\n",
       "      <td>4281.55</td>\n",
       "    </tr>\n",
       "    <tr>\n",
       "      <th>11</th>\n",
       "      <td>EBDA1011</td>\n",
       "      <td>yyy</td>\n",
       "      <td>39</td>\n",
       "      <td>53560</td>\n",
       "      <td>2678.00</td>\n",
       "    </tr>\n",
       "    <tr>\n",
       "      <th>12</th>\n",
       "      <td>EBDA1012</td>\n",
       "      <td>yyy</td>\n",
       "      <td>35</td>\n",
       "      <td>70324</td>\n",
       "      <td>3516.20</td>\n",
       "    </tr>\n",
       "    <tr>\n",
       "      <th>13</th>\n",
       "      <td>EBDA1013</td>\n",
       "      <td>sss</td>\n",
       "      <td>39</td>\n",
       "      <td>86529</td>\n",
       "      <td>4326.45</td>\n",
       "    </tr>\n",
       "    <tr>\n",
       "      <th>14</th>\n",
       "      <td>EBDA1014</td>\n",
       "      <td>ooo</td>\n",
       "      <td>25</td>\n",
       "      <td>74598</td>\n",
       "      <td>3729.90</td>\n",
       "    </tr>\n",
       "    <tr>\n",
       "      <th>15</th>\n",
       "      <td>EBDA1015</td>\n",
       "      <td>vvv</td>\n",
       "      <td>37</td>\n",
       "      <td>85976</td>\n",
       "      <td>4298.80</td>\n",
       "    </tr>\n",
       "    <tr>\n",
       "      <th>16</th>\n",
       "      <td>EBDA1016</td>\n",
       "      <td>vvv</td>\n",
       "      <td>41</td>\n",
       "      <td>73072</td>\n",
       "      <td>3653.60</td>\n",
       "    </tr>\n",
       "    <tr>\n",
       "      <th>17</th>\n",
       "      <td>EBDA1017</td>\n",
       "      <td>yyy</td>\n",
       "      <td>28</td>\n",
       "      <td>36297</td>\n",
       "      <td>1814.85</td>\n",
       "    </tr>\n",
       "    <tr>\n",
       "      <th>18</th>\n",
       "      <td>EBDA1018</td>\n",
       "      <td>sss</td>\n",
       "      <td>23</td>\n",
       "      <td>84717</td>\n",
       "      <td>4235.85</td>\n",
       "    </tr>\n",
       "    <tr>\n",
       "      <th>19</th>\n",
       "      <td>EBDA1019</td>\n",
       "      <td>fff</td>\n",
       "      <td>23</td>\n",
       "      <td>70358</td>\n",
       "      <td>3517.90</td>\n",
       "    </tr>\n",
       "    <tr>\n",
       "      <th>20</th>\n",
       "      <td>EBDA1020</td>\n",
       "      <td>hhh</td>\n",
       "      <td>45</td>\n",
       "      <td>46779</td>\n",
       "      <td>2338.95</td>\n",
       "    </tr>\n",
       "    <tr>\n",
       "      <th>21</th>\n",
       "      <td>EBDA1021</td>\n",
       "      <td>hhh</td>\n",
       "      <td>30</td>\n",
       "      <td>73421</td>\n",
       "      <td>3671.05</td>\n",
       "    </tr>\n",
       "    <tr>\n",
       "      <th>22</th>\n",
       "      <td>EBDA1022</td>\n",
       "      <td>rrr</td>\n",
       "      <td>41</td>\n",
       "      <td>48276</td>\n",
       "      <td>2413.80</td>\n",
       "    </tr>\n",
       "    <tr>\n",
       "      <th>23</th>\n",
       "      <td>EBDA1023</td>\n",
       "      <td>hhh</td>\n",
       "      <td>35</td>\n",
       "      <td>27628</td>\n",
       "      <td>1381.40</td>\n",
       "    </tr>\n",
       "    <tr>\n",
       "      <th>24</th>\n",
       "      <td>EBDA1024</td>\n",
       "      <td>hhh</td>\n",
       "      <td>33</td>\n",
       "      <td>40627</td>\n",
       "      <td>2031.35</td>\n",
       "    </tr>\n",
       "    <tr>\n",
       "      <th>25</th>\n",
       "      <td>EBDA1025</td>\n",
       "      <td>bbb</td>\n",
       "      <td>32</td>\n",
       "      <td>50142</td>\n",
       "      <td>NaN</td>\n",
       "    </tr>\n",
       "    <tr>\n",
       "      <th>26</th>\n",
       "      <td>EBDA1026</td>\n",
       "      <td>ccc</td>\n",
       "      <td>22</td>\n",
       "      <td>67516</td>\n",
       "      <td>NaN</td>\n",
       "    </tr>\n",
       "    <tr>\n",
       "      <th>27</th>\n",
       "      <td>EBDA1027</td>\n",
       "      <td>vvv</td>\n",
       "      <td>23</td>\n",
       "      <td>86911</td>\n",
       "      <td>NaN</td>\n",
       "    </tr>\n",
       "    <tr>\n",
       "      <th>28</th>\n",
       "      <td>EBDA1028</td>\n",
       "      <td>sss</td>\n",
       "      <td>24</td>\n",
       "      <td>83211</td>\n",
       "      <td>NaN</td>\n",
       "    </tr>\n",
       "    <tr>\n",
       "      <th>29</th>\n",
       "      <td>EBDA1029</td>\n",
       "      <td>bbb</td>\n",
       "      <td>42</td>\n",
       "      <td>44974</td>\n",
       "      <td>NaN</td>\n",
       "    </tr>\n",
       "    <tr>\n",
       "      <th>30</th>\n",
       "      <td>EBDA1030</td>\n",
       "      <td>uuu</td>\n",
       "      <td>44</td>\n",
       "      <td>54157</td>\n",
       "      <td>NaN</td>\n",
       "    </tr>\n",
       "    <tr>\n",
       "      <th>31</th>\n",
       "      <td>EBDA1031</td>\n",
       "      <td>ggg</td>\n",
       "      <td>29</td>\n",
       "      <td>77495</td>\n",
       "      <td>NaN</td>\n",
       "    </tr>\n",
       "  </tbody>\n",
       "</table>\n",
       "</div>"
      ],
      "text/plain": [
       "          id name  age  salary    bonus\n",
       "1   EBDA1001  rrr   32   43284  2164.20\n",
       "2   EBDA1002  ggg   34   70730  3536.50\n",
       "3   EBDA1003  ggg   35   77115  3855.75\n",
       "4   EBDA1004  ttt   31   58758  2937.90\n",
       "5   EBDA1005  fff   44   42052  2102.60\n",
       "6   EBDA1006  uuu   34   43700  2185.00\n",
       "7   EBDA1007  uuu   22   73736  3686.80\n",
       "8   EBDA1008  jjj   22   87719  4385.95\n",
       "9   EBDA1009  ggg   45   26416  1320.80\n",
       "10  EBDA1010  yyy   30   85631  4281.55\n",
       "11  EBDA1011  yyy   39   53560  2678.00\n",
       "12  EBDA1012  yyy   35   70324  3516.20\n",
       "13  EBDA1013  sss   39   86529  4326.45\n",
       "14  EBDA1014  ooo   25   74598  3729.90\n",
       "15  EBDA1015  vvv   37   85976  4298.80\n",
       "16  EBDA1016  vvv   41   73072  3653.60\n",
       "17  EBDA1017  yyy   28   36297  1814.85\n",
       "18  EBDA1018  sss   23   84717  4235.85\n",
       "19  EBDA1019  fff   23   70358  3517.90\n",
       "20  EBDA1020  hhh   45   46779  2338.95\n",
       "21  EBDA1021  hhh   30   73421  3671.05\n",
       "22  EBDA1022  rrr   41   48276  2413.80\n",
       "23  EBDA1023  hhh   35   27628  1381.40\n",
       "24  EBDA1024  hhh   33   40627  2031.35\n",
       "25  EBDA1025  bbb   32   50142      NaN\n",
       "26  EBDA1026  ccc   22   67516      NaN\n",
       "27  EBDA1027  vvv   23   86911      NaN\n",
       "28  EBDA1028  sss   24   83211      NaN\n",
       "29  EBDA1029  bbb   42   44974      NaN\n",
       "30  EBDA1030  uuu   44   54157      NaN\n",
       "31  EBDA1031  ggg   29   77495      NaN"
      ]
     },
     "execution_count": 14,
     "metadata": {},
     "output_type": "execute_result"
    }
   ],
   "source": [
    "df"
   ]
  },
  {
   "cell_type": "markdown",
   "id": "0b9d47c9",
   "metadata": {},
   "source": [
    "### df.shape"
   ]
  },
  {
   "cell_type": "code",
   "execution_count": 15,
   "id": "b733ef0b",
   "metadata": {
    "colab": {
     "base_uri": "https://localhost:8080/"
    },
    "executionInfo": {
     "elapsed": 27,
     "status": "ok",
     "timestamp": 1687330272875,
     "user": {
      "displayName": "DSS DSS",
      "userId": "17636620013329168760"
     },
     "user_tz": -330
    },
    "id": "b733ef0b",
    "outputId": "f3fb01a9-22fd-4004-952b-540f9ccaa10c"
   },
   "outputs": [
    {
     "data": {
      "text/plain": [
       "(31, 5)"
      ]
     },
     "execution_count": 15,
     "metadata": {},
     "output_type": "execute_result"
    }
   ],
   "source": [
    "df.shape # tupe of rows and columns"
   ]
  },
  {
   "cell_type": "markdown",
   "id": "4a93cd4c",
   "metadata": {},
   "source": [
    "### len(df)"
   ]
  },
  {
   "cell_type": "code",
   "execution_count": 16,
   "id": "1c45ba54",
   "metadata": {
    "colab": {
     "base_uri": "https://localhost:8080/"
    },
    "executionInfo": {
     "elapsed": 27,
     "status": "ok",
     "timestamp": 1687330272876,
     "user": {
      "displayName": "DSS DSS",
      "userId": "17636620013329168760"
     },
     "user_tz": -330
    },
    "id": "1c45ba54",
    "outputId": "eb11034f-fd06-492c-8c3a-253b695ec882"
   },
   "outputs": [
    {
     "data": {
      "text/plain": [
       "31"
      ]
     },
     "execution_count": 16,
     "metadata": {},
     "output_type": "execute_result"
    }
   ],
   "source": [
    "len(df) # rows"
   ]
  },
  {
   "cell_type": "markdown",
   "id": "7b884b35",
   "metadata": {},
   "source": [
    "### df.nunique()"
   ]
  },
  {
   "cell_type": "code",
   "execution_count": 17,
   "id": "936d74e8",
   "metadata": {
    "colab": {
     "base_uri": "https://localhost:8080/"
    },
    "executionInfo": {
     "elapsed": 26,
     "status": "ok",
     "timestamp": 1687330272876,
     "user": {
      "displayName": "DSS DSS",
      "userId": "17636620013329168760"
     },
     "user_tz": -330
    },
    "id": "936d74e8",
    "outputId": "b6065fbb-4ba7-430e-8757-3f219997e191"
   },
   "outputs": [
    {
     "data": {
      "text/plain": [
       "13"
      ]
     },
     "execution_count": 17,
     "metadata": {},
     "output_type": "execute_result"
    }
   ],
   "source": [
    "df.name.nunique() # number of distinct values in a column"
   ]
  },
  {
   "cell_type": "markdown",
   "id": "c3efe49c",
   "metadata": {},
   "source": [
    "### df.col.value_counts()"
   ]
  },
  {
   "cell_type": "code",
   "execution_count": 18,
   "id": "594f08a3",
   "metadata": {
    "colab": {
     "base_uri": "https://localhost:8080/"
    },
    "executionInfo": {
     "elapsed": 24,
     "status": "ok",
     "timestamp": 1687330272876,
     "user": {
      "displayName": "DSS DSS",
      "userId": "17636620013329168760"
     },
     "user_tz": -330
    },
    "id": "594f08a3",
    "outputId": "7671360e-0d59-4158-dc0a-9f26ef3e5b0b"
   },
   "outputs": [
    {
     "data": {
      "text/plain": [
       "23    3\n",
       "35    3\n",
       "22    3\n",
       "32    2\n",
       "44    2\n",
       "45    2\n",
       "30    2\n",
       "39    2\n",
       "34    2\n",
       "41    2\n",
       "42    1\n",
       "24    1\n",
       "33    1\n",
       "25    1\n",
       "28    1\n",
       "37    1\n",
       "31    1\n",
       "29    1\n",
       "Name: age, dtype: int64"
      ]
     },
     "execution_count": 18,
     "metadata": {},
     "output_type": "execute_result"
    }
   ],
   "source": [
    "df.age.value_counts() # count of rows with each unique value of a column"
   ]
  },
  {
   "cell_type": "markdown",
   "id": "39cc2e95",
   "metadata": {},
   "source": [
    "### df.describe()"
   ]
  },
  {
   "cell_type": "code",
   "execution_count": 19,
   "id": "fd8c3610",
   "metadata": {
    "colab": {
     "base_uri": "https://localhost:8080/",
     "height": 300
    },
    "executionInfo": {
     "elapsed": 24,
     "status": "ok",
     "timestamp": 1687330272877,
     "user": {
      "displayName": "DSS DSS",
      "userId": "17636620013329168760"
     },
     "user_tz": -330
    },
    "id": "fd8c3610",
    "outputId": "8bf8d311-9fc7-4f7c-fba7-6eac9e3c279c"
   },
   "outputs": [
    {
     "data": {
      "text/html": [
       "<div>\n",
       "<style scoped>\n",
       "    .dataframe tbody tr th:only-of-type {\n",
       "        vertical-align: middle;\n",
       "    }\n",
       "\n",
       "    .dataframe tbody tr th {\n",
       "        vertical-align: top;\n",
       "    }\n",
       "\n",
       "    .dataframe thead th {\n",
       "        text-align: right;\n",
       "    }\n",
       "</style>\n",
       "<table border=\"1\" class=\"dataframe\">\n",
       "  <thead>\n",
       "    <tr style=\"text-align: right;\">\n",
       "      <th></th>\n",
       "      <th>age</th>\n",
       "      <th>salary</th>\n",
       "      <th>bonus</th>\n",
       "    </tr>\n",
       "  </thead>\n",
       "  <tbody>\n",
       "    <tr>\n",
       "      <th>count</th>\n",
       "      <td>31.000000</td>\n",
       "      <td>31.000000</td>\n",
       "      <td>24.000000</td>\n",
       "    </tr>\n",
       "    <tr>\n",
       "      <th>mean</th>\n",
       "      <td>32.870968</td>\n",
       "      <td>62764.806452</td>\n",
       "      <td>3086.047917</td>\n",
       "    </tr>\n",
       "    <tr>\n",
       "      <th>std</th>\n",
       "      <td>7.557521</td>\n",
       "      <td>19035.586282</td>\n",
       "      <td>992.026647</td>\n",
       "    </tr>\n",
       "    <tr>\n",
       "      <th>min</th>\n",
       "      <td>22.000000</td>\n",
       "      <td>26416.000000</td>\n",
       "      <td>1320.800000</td>\n",
       "    </tr>\n",
       "    <tr>\n",
       "      <th>25%</th>\n",
       "      <td>26.500000</td>\n",
       "      <td>45876.500000</td>\n",
       "      <td>2179.800000</td>\n",
       "    </tr>\n",
       "    <tr>\n",
       "      <th>50%</th>\n",
       "      <td>33.000000</td>\n",
       "      <td>70324.000000</td>\n",
       "      <td>3517.050000</td>\n",
       "    </tr>\n",
       "    <tr>\n",
       "      <th>75%</th>\n",
       "      <td>39.000000</td>\n",
       "      <td>77305.000000</td>\n",
       "      <td>3761.362500</td>\n",
       "    </tr>\n",
       "    <tr>\n",
       "      <th>max</th>\n",
       "      <td>45.000000</td>\n",
       "      <td>87719.000000</td>\n",
       "      <td>4385.950000</td>\n",
       "    </tr>\n",
       "  </tbody>\n",
       "</table>\n",
       "</div>"
      ],
      "text/plain": [
       "             age        salary        bonus\n",
       "count  31.000000     31.000000    24.000000\n",
       "mean   32.870968  62764.806452  3086.047917\n",
       "std     7.557521  19035.586282   992.026647\n",
       "min    22.000000  26416.000000  1320.800000\n",
       "25%    26.500000  45876.500000  2179.800000\n",
       "50%    33.000000  70324.000000  3517.050000\n",
       "75%    39.000000  77305.000000  3761.362500\n",
       "max    45.000000  87719.000000  4385.950000"
      ]
     },
     "execution_count": 19,
     "metadata": {},
     "output_type": "execute_result"
    }
   ],
   "source": [
    "# df.age.describe() # basic descriptive statistics for a specific column\n",
    "df.describe() # basic descriptive statistics for each column"
   ]
  },
  {
   "cell_type": "markdown",
   "id": "f5130318",
   "metadata": {},
   "source": [
    "### df.describe().T"
   ]
  },
  {
   "cell_type": "code",
   "execution_count": 20,
   "id": "166fc276",
   "metadata": {
    "colab": {
     "base_uri": "https://localhost:8080/",
     "height": 207
    },
    "executionInfo": {
     "elapsed": 23,
     "status": "ok",
     "timestamp": 1687330272877,
     "user": {
      "displayName": "DSS DSS",
      "userId": "17636620013329168760"
     },
     "user_tz": -330
    },
    "id": "166fc276",
    "outputId": "ef99680a-6403-421e-c532-a0350836f406"
   },
   "outputs": [
    {
     "data": {
      "text/html": [
       "<div>\n",
       "<style scoped>\n",
       "    .dataframe tbody tr th:only-of-type {\n",
       "        vertical-align: middle;\n",
       "    }\n",
       "\n",
       "    .dataframe tbody tr th {\n",
       "        vertical-align: top;\n",
       "    }\n",
       "\n",
       "    .dataframe thead th {\n",
       "        text-align: right;\n",
       "    }\n",
       "</style>\n",
       "<table border=\"1\" class=\"dataframe\">\n",
       "  <thead>\n",
       "    <tr style=\"text-align: right;\">\n",
       "      <th></th>\n",
       "      <th>count</th>\n",
       "      <th>mean</th>\n",
       "      <th>std</th>\n",
       "      <th>min</th>\n",
       "      <th>25%</th>\n",
       "      <th>50%</th>\n",
       "      <th>75%</th>\n",
       "      <th>max</th>\n",
       "    </tr>\n",
       "  </thead>\n",
       "  <tbody>\n",
       "    <tr>\n",
       "      <th>age</th>\n",
       "      <td>31.0</td>\n",
       "      <td>32.870968</td>\n",
       "      <td>7.557521</td>\n",
       "      <td>22.0</td>\n",
       "      <td>26.5</td>\n",
       "      <td>33.00</td>\n",
       "      <td>39.0000</td>\n",
       "      <td>45.00</td>\n",
       "    </tr>\n",
       "    <tr>\n",
       "      <th>salary</th>\n",
       "      <td>31.0</td>\n",
       "      <td>62764.806452</td>\n",
       "      <td>19035.586282</td>\n",
       "      <td>26416.0</td>\n",
       "      <td>45876.5</td>\n",
       "      <td>70324.00</td>\n",
       "      <td>77305.0000</td>\n",
       "      <td>87719.00</td>\n",
       "    </tr>\n",
       "    <tr>\n",
       "      <th>bonus</th>\n",
       "      <td>24.0</td>\n",
       "      <td>3086.047917</td>\n",
       "      <td>992.026647</td>\n",
       "      <td>1320.8</td>\n",
       "      <td>2179.8</td>\n",
       "      <td>3517.05</td>\n",
       "      <td>3761.3625</td>\n",
       "      <td>4385.95</td>\n",
       "    </tr>\n",
       "  </tbody>\n",
       "</table>\n",
       "</div>"
      ],
      "text/plain": [
       "        count          mean           std      min      25%       50%  \\\n",
       "age      31.0     32.870968      7.557521     22.0     26.5     33.00   \n",
       "salary   31.0  62764.806452  19035.586282  26416.0  45876.5  70324.00   \n",
       "bonus    24.0   3086.047917    992.026647   1320.8   2179.8   3517.05   \n",
       "\n",
       "               75%       max  \n",
       "age        39.0000     45.00  \n",
       "salary  77305.0000  87719.00  \n",
       "bonus    3761.3625   4385.95  "
      ]
     },
     "execution_count": 20,
     "metadata": {},
     "output_type": "execute_result"
    }
   ],
   "source": [
    "df.describe().T"
   ]
  },
  {
   "cell_type": "markdown",
   "id": "946cd6e5",
   "metadata": {
    "id": "946cd6e5"
   },
   "source": [
    "### summary functions"
   ]
  },
  {
   "cell_type": "markdown",
   "id": "0ba087e1",
   "metadata": {},
   "source": [
    "### df.col.sum()"
   ]
  },
  {
   "cell_type": "code",
   "execution_count": 21,
   "id": "1d5d6f2b",
   "metadata": {
    "colab": {
     "base_uri": "https://localhost:8080/"
    },
    "executionInfo": {
     "elapsed": 23,
     "status": "ok",
     "timestamp": 1687330272877,
     "user": {
      "displayName": "DSS DSS",
      "userId": "17636620013329168760"
     },
     "user_tz": -330
    },
    "id": "1d5d6f2b",
    "outputId": "0c5c825b-034f-4193-c788-ce3ee20ed06d",
    "scrolled": true
   },
   "outputs": [
    {
     "data": {
      "text/plain": [
       "74065.15"
      ]
     },
     "execution_count": 21,
     "metadata": {},
     "output_type": "execute_result"
    }
   ],
   "source": [
    "### df.describe()# df.age.sum() # no meaning\n",
    "df.bonus.sum() # total bonus for all employees in the company"
   ]
  },
  {
   "cell_type": "markdown",
   "id": "a7409b7c",
   "metadata": {},
   "source": [
    "### df.col.count()"
   ]
  },
  {
   "cell_type": "code",
   "execution_count": 22,
   "id": "4f54d659",
   "metadata": {
    "colab": {
     "base_uri": "https://localhost:8080/"
    },
    "executionInfo": {
     "elapsed": 23,
     "status": "ok",
     "timestamp": 1687330272878,
     "user": {
      "displayName": "DSS DSS",
      "userId": "17636620013329168760"
     },
     "user_tz": -330
    },
    "id": "4f54d659",
    "outputId": "673e280d-85bd-4a17-ff50-b3a1ca4d1726"
   },
   "outputs": [
    {
     "data": {
      "text/plain": [
       "24"
      ]
     },
     "execution_count": 22,
     "metadata": {},
     "output_type": "execute_result"
    }
   ],
   "source": [
    "df.bonus.count() # counts non null values\n",
    "# df.name.count() # 30"
   ]
  },
  {
   "cell_type": "markdown",
   "id": "32bc2ada",
   "metadata": {},
   "source": [
    "### df.col.mean()"
   ]
  },
  {
   "cell_type": "code",
   "execution_count": 23,
   "id": "b1f4c569",
   "metadata": {
    "colab": {
     "base_uri": "https://localhost:8080/"
    },
    "executionInfo": {
     "elapsed": 22,
     "status": "ok",
     "timestamp": 1687330272878,
     "user": {
      "displayName": "DSS DSS",
      "userId": "17636620013329168760"
     },
     "user_tz": -330
    },
    "id": "b1f4c569",
    "outputId": "982fa3ec-5995-4870-ef9c-7535b8e24830"
   },
   "outputs": [
    {
     "data": {
      "text/plain": [
       "62764.8064516129"
      ]
     },
     "execution_count": 23,
     "metadata": {},
     "output_type": "execute_result"
    }
   ],
   "source": [
    "df.salary.mean() # average salary"
   ]
  },
  {
   "cell_type": "markdown",
   "id": "0249449c",
   "metadata": {},
   "source": [
    "### df.col.min()"
   ]
  },
  {
   "cell_type": "code",
   "execution_count": 24,
   "id": "2ff2a3a8",
   "metadata": {
    "colab": {
     "base_uri": "https://localhost:8080/"
    },
    "executionInfo": {
     "elapsed": 21,
     "status": "ok",
     "timestamp": 1687330272878,
     "user": {
      "displayName": "DSS DSS",
      "userId": "17636620013329168760"
     },
     "user_tz": -330
    },
    "id": "2ff2a3a8",
    "outputId": "dca80155-53c0-4d32-f56d-f02930ff510e"
   },
   "outputs": [
    {
     "data": {
      "text/plain": [
       "22"
      ]
     },
     "execution_count": 24,
     "metadata": {},
     "output_type": "execute_result"
    }
   ],
   "source": [
    "df.age.min()"
   ]
  },
  {
   "cell_type": "markdown",
   "id": "db62b672",
   "metadata": {},
   "source": [
    "### df.col.max()"
   ]
  },
  {
   "cell_type": "code",
   "execution_count": 25,
   "id": "6c44d016",
   "metadata": {
    "colab": {
     "base_uri": "https://localhost:8080/"
    },
    "executionInfo": {
     "elapsed": 20,
     "status": "ok",
     "timestamp": 1687330272878,
     "user": {
      "displayName": "DSS DSS",
      "userId": "17636620013329168760"
     },
     "user_tz": -330
    },
    "id": "6c44d016",
    "outputId": "2d9b2cd1-b77d-41b8-e8f8-afc8d9b9038d"
   },
   "outputs": [
    {
     "data": {
      "text/plain": [
       "45"
      ]
     },
     "execution_count": 25,
     "metadata": {},
     "output_type": "execute_result"
    }
   ],
   "source": [
    "\n",
    "df.age.max()"
   ]
  },
  {
   "cell_type": "markdown",
   "id": "2cc7028c",
   "metadata": {},
   "source": [
    "### df.col.quantile()"
   ]
  },
  {
   "cell_type": "code",
   "execution_count": 26,
   "id": "de1db164",
   "metadata": {
    "colab": {
     "base_uri": "https://localhost:8080/"
    },
    "executionInfo": {
     "elapsed": 20,
     "status": "ok",
     "timestamp": 1687330272879,
     "user": {
      "displayName": "DSS DSS",
      "userId": "17636620013329168760"
     },
     "user_tz": -330
    },
    "id": "de1db164",
    "outputId": "9e6d8115-d26b-4f8d-f9b1-83c672511895",
    "scrolled": true
   },
   "outputs": [
    {
     "data": {
      "text/plain": [
       "0.25    26.5\n",
       "0.50    33.0\n",
       "0.75    39.0\n",
       "Name: age, dtype: float64"
      ]
     },
     "execution_count": 26,
     "metadata": {},
     "output_type": "execute_result"
    }
   ],
   "source": [
    "# df.age.quantile() # gives 50%\n",
    "df.age.quantile([0.25, 0.50, 0.75])"
   ]
  },
  {
   "cell_type": "markdown",
   "id": "35fe1aa6",
   "metadata": {},
   "source": [
    "### df.col.median()"
   ]
  },
  {
   "cell_type": "code",
   "execution_count": 27,
   "id": "46dc3e63",
   "metadata": {
    "colab": {
     "base_uri": "https://localhost:8080/"
    },
    "executionInfo": {
     "elapsed": 20,
     "status": "ok",
     "timestamp": 1687330272879,
     "user": {
      "displayName": "DSS DSS",
      "userId": "17636620013329168760"
     },
     "user_tz": -330
    },
    "id": "46dc3e63",
    "outputId": "026dedf9-d232-4bdb-e5b1-21282719ec1f",
    "scrolled": true
   },
   "outputs": [
    {
     "data": {
      "text/plain": [
       "33.0"
      ]
     },
     "execution_count": 27,
     "metadata": {},
     "output_type": "execute_result"
    }
   ],
   "source": [
    "df.age.median() # middle salary\n",
    "# ie., 50% emp are getting salary below this value and 50% are getting above this value"
   ]
  },
  {
   "cell_type": "markdown",
   "id": "547eef49",
   "metadata": {},
   "source": [
    "### df.col.std()"
   ]
  },
  {
   "cell_type": "code",
   "execution_count": 28,
   "id": "2f691ffb",
   "metadata": {
    "colab": {
     "base_uri": "https://localhost:8080/"
    },
    "executionInfo": {
     "elapsed": 19,
     "status": "ok",
     "timestamp": 1687330272879,
     "user": {
      "displayName": "DSS DSS",
      "userId": "17636620013329168760"
     },
     "user_tz": -330
    },
    "id": "2f691ffb",
    "outputId": "45e9aea0-9e66-4e1b-b322-85f10d17551d"
   },
   "outputs": [
    {
     "data": {
      "text/plain": [
       "7.557521355064639"
      ]
     },
     "execution_count": 28,
     "metadata": {},
     "output_type": "execute_result"
    }
   ],
   "source": [
    "df.age.std()"
   ]
  },
  {
   "cell_type": "code",
   "execution_count": 29,
   "id": "15c77d03",
   "metadata": {
    "colab": {
     "base_uri": "https://localhost:8080/",
     "height": 472
    },
    "executionInfo": {
     "elapsed": 993,
     "status": "ok",
     "timestamp": 1687330281027,
     "user": {
      "displayName": "DSS DSS",
      "userId": "17636620013329168760"
     },
     "user_tz": -330
    },
    "id": "15c77d03",
    "outputId": "99c817a3-4479-4a72-e1a9-e7d220e54bee"
   },
   "outputs": [
    {
     "data": {
      "image/png": "[encoded data removed]",
      "text/plain": [
       "<Figure size 640x480 with 1 Axes>"
      ]
     },
     "metadata": {},
     "output_type": "display_data"
    }
   ],
   "source": [
    "# standard deviation - explanation\n",
    "\n",
    "import matplotlib.pyplot as plt\n",
    "\n",
    "# Plotting a line graph\n",
    "df.plot(x='id', y='age', kind='line')\n",
    "plt.title('Emp - age line plot')\n",
    "plt.xlabel('id')\n",
    "plt.ylabel('age')\n",
    "plt.show()"
   ]
  },
  {
   "cell_type": "code",
   "execution_count": 30,
   "id": "4c88dc20",
   "metadata": {
    "colab": {
     "base_uri": "https://localhost:8080/",
     "height": 472
    },
    "executionInfo": {
     "elapsed": 5,
     "status": "ok",
     "timestamp": 1687330303763,
     "user": {
      "displayName": "DSS DSS",
      "userId": "17636620013329168760"
     },
     "user_tz": -330
    },
    "id": "4c88dc20",
    "outputId": "1f792618-0cdb-4d51-db74-ca87286791df"
   },
   "outputs": [
    {
     "data": {
      "image/png": "[encoded data removed]",
      "text/plain": [
       "<Figure size 640x480 with 1 Axes>"
      ]
     },
     "metadata": {},
     "output_type": "display_data"
    }
   ],
   "source": [
    "df['age'].plot(kind='hist') # kde\n",
    "plt.title('Histogram of age')\n",
    "plt.xlabel('emp no')\n",
    "plt.ylabel('age')\n",
    "\n",
    "# Calculating the mean and standard deviation\n",
    "mean_value = df['age'].mean()\n",
    "std_value = df['age'].std()\n",
    "\n",
    "plt.axvline(x=mean_value, color='black', linestyle='--', label='mean')\n",
    "\n",
    "# Marking the standard deviation ranges on the graph\n",
    "plt.axvline(x=mean_value - std_value, color='red', linestyle='--', label='1 Std Dev')\n",
    "plt.axvline(x=mean_value + std_value, color='red', linestyle='--')\n",
    "plt.axvline(x=mean_value - 2 * std_value, color='blue', linestyle='--', label='2 Std Dev')\n",
    "plt.axvline(x=mean_value + 2 * std_value, color='blue', linestyle='--')\n",
    "plt.axvline(x=mean_value - 3 * std_value, color='green', linestyle='--', label='3 Std Dev')\n",
    "plt.axvline(x=mean_value + 3 * std_value, color='green', linestyle='--')\n",
    "plt.legend()\n",
    "\n",
    "plt.show()"
   ]
  },
  {
   "cell_type": "markdown",
   "id": "d52eed33",
   "metadata": {},
   "source": [
    "### df.col.var()"
   ]
  },
  {
   "cell_type": "code",
   "execution_count": 31,
   "id": "f4815bdb",
   "metadata": {
    "colab": {
     "base_uri": "https://localhost:8080/"
    },
    "executionInfo": {
     "elapsed": 432,
     "status": "ok",
     "timestamp": 1687330314092,
     "user": {
      "displayName": "DSS DSS",
      "userId": "17636620013329168760"
     },
     "user_tz": -330
    },
    "id": "f4815bdb",
    "outputId": "ec1adc8a-3aeb-4477-ae2c-fecee3c32d02"
   },
   "outputs": [
    {
     "data": {
      "text/plain": [
       "57.116129032258065"
      ]
     },
     "execution_count": 31,
     "metadata": {},
     "output_type": "execute_result"
    }
   ],
   "source": [
    "df.age.var() # square of std"
   ]
  },
  {
   "cell_type": "markdown",
   "id": "7dc6eafc",
   "metadata": {},
   "source": [
    "### df.col.apply(function)"
   ]
  },
  {
   "cell_type": "code",
   "execution_count": 32,
   "id": "08eb5150",
   "metadata": {
    "executionInfo": {
     "elapsed": 3,
     "status": "ok",
     "timestamp": 1687330314560,
     "user": {
      "displayName": "DSS DSS",
      "userId": "17636620013329168760"
     },
     "user_tz": -330
    },
    "id": "08eb5150"
   },
   "outputs": [],
   "source": [
    "def oneyear(x):\n",
    "    return x + 1"
   ]
  },
  {
   "cell_type": "code",
   "execution_count": 33,
   "id": "e472b47e",
   "metadata": {
    "executionInfo": {
     "elapsed": 6,
     "status": "ok",
     "timestamp": 1687330315161,
     "user": {
      "displayName": "DSS DSS",
      "userId": "17636620013329168760"
     },
     "user_tz": -330
    },
    "id": "e472b47e"
   },
   "outputs": [],
   "source": [
    "df['age'] = df['age'].apply(oneyear)"
   ]
  },
  {
   "cell_type": "code",
   "execution_count": 34,
   "id": "38748e32",
   "metadata": {
    "colab": {
     "base_uri": "https://localhost:8080/",
     "height": 206
    },
    "executionInfo": {
     "elapsed": 5,
     "status": "ok",
     "timestamp": 1687330315161,
     "user": {
      "displayName": "DSS DSS",
      "userId": "17636620013329168760"
     },
     "user_tz": -330
    },
    "id": "38748e32",
    "outputId": "ce2ef57b-0c7a-42b3-835d-f5029c516953"
   },
   "outputs": [
    {
     "data": {
      "text/html": [
       "<div>\n",
       "<style scoped>\n",
       "    .dataframe tbody tr th:only-of-type {\n",
       "        vertical-align: middle;\n",
       "    }\n",
       "\n",
       "    .dataframe tbody tr th {\n",
       "        vertical-align: top;\n",
       "    }\n",
       "\n",
       "    .dataframe thead th {\n",
       "        text-align: right;\n",
       "    }\n",
       "</style>\n",
       "<table border=\"1\" class=\"dataframe\">\n",
       "  <thead>\n",
       "    <tr style=\"text-align: right;\">\n",
       "      <th></th>\n",
       "      <th>id</th>\n",
       "      <th>name</th>\n",
       "      <th>age</th>\n",
       "      <th>salary</th>\n",
       "      <th>bonus</th>\n",
       "    </tr>\n",
       "  </thead>\n",
       "  <tbody>\n",
       "    <tr>\n",
       "      <th>1</th>\n",
       "      <td>EBDA1001</td>\n",
       "      <td>rrr</td>\n",
       "      <td>33</td>\n",
       "      <td>43284</td>\n",
       "      <td>2164.20</td>\n",
       "    </tr>\n",
       "    <tr>\n",
       "      <th>2</th>\n",
       "      <td>EBDA1002</td>\n",
       "      <td>ggg</td>\n",
       "      <td>35</td>\n",
       "      <td>70730</td>\n",
       "      <td>3536.50</td>\n",
       "    </tr>\n",
       "    <tr>\n",
       "      <th>3</th>\n",
       "      <td>EBDA1003</td>\n",
       "      <td>ggg</td>\n",
       "      <td>36</td>\n",
       "      <td>77115</td>\n",
       "      <td>3855.75</td>\n",
       "    </tr>\n",
       "    <tr>\n",
       "      <th>4</th>\n",
       "      <td>EBDA1004</td>\n",
       "      <td>ttt</td>\n",
       "      <td>32</td>\n",
       "      <td>58758</td>\n",
       "      <td>2937.90</td>\n",
       "    </tr>\n",
       "    <tr>\n",
       "      <th>5</th>\n",
       "      <td>EBDA1005</td>\n",
       "      <td>fff</td>\n",
       "      <td>45</td>\n",
       "      <td>42052</td>\n",
       "      <td>2102.60</td>\n",
       "    </tr>\n",
       "  </tbody>\n",
       "</table>\n",
       "</div>"
      ],
      "text/plain": [
       "         id name  age  salary    bonus\n",
       "1  EBDA1001  rrr   33   43284  2164.20\n",
       "2  EBDA1002  ggg   35   70730  3536.50\n",
       "3  EBDA1003  ggg   36   77115  3855.75\n",
       "4  EBDA1004  ttt   32   58758  2937.90\n",
       "5  EBDA1005  fff   45   42052  2102.60"
      ]
     },
     "execution_count": 34,
     "metadata": {},
     "output_type": "execute_result"
    }
   ],
   "source": [
    "df.head()"
   ]
  },
  {
   "cell_type": "code",
   "execution_count": null,
   "id": "05ae1f61",
   "metadata": {
    "id": "05ae1f61"
   },
   "outputs": [],
   "source": []
  }
 ],
 "metadata": {
  "colab": {
   "provenance": []
  },
  "kernelspec": {
   "display_name": "Python 3 (ipykernel)",
   "language": "python",
   "name": "python3"
  },
  "language_info": {
   "codemirror_mode": {
    "name": "ipython",
    "version": 3
   },
   "file_extension": ".py",
   "mimetype": "text/x-python",
   "name": "python",
   "nbconvert_exporter": "python",
   "pygments_lexer": "ipython3",
   "version": "3.9.16"
  }
 },
 "nbformat": 4,
 "nbformat_minor": 5
}
