{
 "cells": [
  {
   "cell_type": "markdown",
   "metadata": {
    "id": "ZKT6rq3aAx0q"
   },
   "source": [
    "# Pandas Tutorial"
   ]
  },
  {
   "cell_type": "markdown",
   "metadata": {
    "id": "bHARQ0ZEA0Xv"
   },
   "source": [
    "## Learning by Examples"
   ]
  },
  {
   "cell_type": "code",
   "execution_count": null,
   "metadata": {
    "id": "mDGkAxo1A2_j"
   },
   "outputs": [],
   "source": [
    "# import pandas as pd\n",
    "\n",
    "# df = pd.read_csv('data.csv')\n",
    "\n",
    "# print(df.to_string())\n",
    " "
   ]
  },
  {
   "cell_type": "markdown",
   "metadata": {
    "id": "D5v2VAfRCi-C"
   },
   "source": [
    "# Pandas Getting Started"
   ]
  },
  {
   "cell_type": "markdown",
   "metadata": {
    "id": "UgyzMdVcF8C5"
   },
   "source": [
    "## Import Pandas"
   ]
  },
  {
   "cell_type": "code",
   "execution_count": null,
   "metadata": {
    "colab": {
     "base_uri": "https://localhost:8080/"
    },
    "executionInfo": {
     "elapsed": 15,
     "status": "ok",
     "timestamp": 1665824781547,
     "user": {
      "displayName": "sree dhar",
      "userId": "18078165690993073471"
     },
     "user_tz": -330
    },
    "id": "Bvi0ox2h0BRH",
    "outputId": "efc906bf-eae0-400c-8727-f8751c8c8572"
   },
   "outputs": [
    {
     "name": "stdout",
     "output_type": "stream",
     "text": [
      "    cars  passings\n",
      "0    BMW         3\n",
      "1  Volvo         7\n",
      "2   Ford         2\n"
     ]
    }
   ],
   "source": [
    "import pandas\n",
    "\n",
    "mydataset = {\n",
    "  'cars': [\"BMW\", \"Volvo\", \"Ford\"],\n",
    "  'passings': [3, 7, 2]\n",
    "}\n",
    "\n",
    "myvar = pandas.DataFrame(mydataset)\n",
    "\n",
    "print(myvar)\n"
   ]
  },
  {
   "cell_type": "markdown",
   "metadata": {
    "id": "Hwirie2T0DF3"
   },
   "source": [
    "## Pandas as pd"
   ]
  },
  {
   "cell_type": "code",
   "execution_count": null,
   "metadata": {
    "colab": {
     "base_uri": "https://localhost:8080/"
    },
    "executionInfo": {
     "elapsed": 1159,
     "status": "ok",
     "timestamp": 1665824782701,
     "user": {
      "displayName": "sree dhar",
      "userId": "18078165690993073471"
     },
     "user_tz": -330
    },
    "id": "ahO5UGG90EtK",
    "outputId": "c7597b96-23e3-4cb8-fa4d-fd9a92e0f489"
   },
   "outputs": [
    {
     "name": "stdout",
     "output_type": "stream",
     "text": [
      "    cars  passings\n",
      "0    BMW         3\n",
      "1  Volvo         7\n",
      "2   Ford         2\n"
     ]
    }
   ],
   "source": [
    "import pandas as pd\n",
    "\n",
    "mydataset = {\n",
    "  'cars': [\"BMW\", \"Volvo\", \"Ford\"],\n",
    "  'passings': [3, 7, 2]\n",
    "}\n",
    "\n",
    "myvar = pd.DataFrame(mydataset)\n",
    "\n",
    "print(myvar)"
   ]
  },
  {
   "cell_type": "markdown",
   "metadata": {
    "id": "EdPdUpCa0GBe"
   },
   "source": [
    "## Checking Pandas Version"
   ]
  },
  {
   "cell_type": "code",
   "execution_count": null,
   "metadata": {
    "colab": {
     "base_uri": "https://localhost:8080/"
    },
    "executionInfo": {
     "elapsed": 233,
     "status": "ok",
     "timestamp": 1665824782702,
     "user": {
      "displayName": "sree dhar",
      "userId": "18078165690993073471"
     },
     "user_tz": -330
    },
    "id": "FXk6S2270JBG",
    "outputId": "6a25bc85-966b-48af-f83e-b407b0aa547f"
   },
   "outputs": [
    {
     "name": "stdout",
     "output_type": "stream",
     "text": [
      "1.3.5\n"
     ]
    }
   ],
   "source": [
    "import pandas as pd\n",
    "\n",
    "print(pd.__version__)\n"
   ]
  },
  {
   "cell_type": "markdown",
   "metadata": {
    "id": "q8kgstYn0L-L"
   },
   "source": [
    "# Pandas Series"
   ]
  },
  {
   "cell_type": "markdown",
   "metadata": {
    "id": "WAlrZSTq0Na1"
   },
   "source": [
    "## What is a Series?"
   ]
  },
  {
   "cell_type": "code",
   "execution_count": null,
   "metadata": {
    "colab": {
     "base_uri": "https://localhost:8080/"
    },
    "executionInfo": {
     "elapsed": 224,
     "status": "ok",
     "timestamp": 1665824782704,
     "user": {
      "displayName": "sree dhar",
      "userId": "18078165690993073471"
     },
     "user_tz": -330
    },
    "id": "7QDwPJAn0PS9",
    "outputId": "0d7b283f-600f-41c0-d09e-9e015c68c4db"
   },
   "outputs": [
    {
     "name": "stdout",
     "output_type": "stream",
     "text": [
      "0    1\n",
      "1    7\n",
      "2    2\n",
      "dtype: int64\n"
     ]
    }
   ],
   "source": [
    "import pandas as pd\n",
    "\n",
    "a = [1, 7, 2]\n",
    "\n",
    "myvar = pd.Series(a)\n",
    "\n",
    "print(myvar)"
   ]
  },
  {
   "cell_type": "markdown",
   "metadata": {
    "id": "uiZ_MV0i0QyN"
   },
   "source": [
    "## Labels"
   ]
  },
  {
   "cell_type": "code",
   "execution_count": null,
   "metadata": {
    "colab": {
     "base_uri": "https://localhost:8080/"
    },
    "executionInfo": {
     "elapsed": 215,
     "status": "ok",
     "timestamp": 1665824782705,
     "user": {
      "displayName": "sree dhar",
      "userId": "18078165690993073471"
     },
     "user_tz": -330
    },
    "id": "xw7iDeN10S-0",
    "outputId": "2bfc7b6e-1f83-4e86-e95e-72de7da5bb61"
   },
   "outputs": [
    {
     "name": "stdout",
     "output_type": "stream",
     "text": [
      "1\n"
     ]
    }
   ],
   "source": [
    "import pandas as pd\n",
    "\n",
    "a = [1, 7, 2]\n",
    "\n",
    "myvar = pd.Series(a)\n",
    "\n",
    "print(myvar[0])\n"
   ]
  },
  {
   "cell_type": "markdown",
   "metadata": {
    "id": "kJDglx7x0Upt"
   },
   "source": [
    "## Create Labels"
   ]
  },
  {
   "cell_type": "code",
   "execution_count": null,
   "metadata": {
    "colab": {
     "base_uri": "https://localhost:8080/"
    },
    "executionInfo": {
     "elapsed": 205,
     "status": "ok",
     "timestamp": 1665824782706,
     "user": {
      "displayName": "sree dhar",
      "userId": "18078165690993073471"
     },
     "user_tz": -330
    },
    "id": "MbriK9S90XN_",
    "outputId": "62bc8ed7-5c7b-4a83-8102-54e2ea40cf05"
   },
   "outputs": [
    {
     "name": "stdout",
     "output_type": "stream",
     "text": [
      "x    1\n",
      "y    7\n",
      "z    2\n",
      "dtype: int64\n"
     ]
    }
   ],
   "source": [
    "import pandas as pd\n",
    "\n",
    "a = [1, 7, 2]\n",
    "\n",
    "myvar = pd.Series(a, index = [\"x\", \"y\", \"z\"])\n",
    "\n",
    "print(myvar)\n"
   ]
  },
  {
   "cell_type": "code",
   "execution_count": null,
   "metadata": {
    "colab": {
     "base_uri": "https://localhost:8080/"
    },
    "executionInfo": {
     "elapsed": 196,
     "status": "ok",
     "timestamp": 1665824782707,
     "user": {
      "displayName": "sree dhar",
      "userId": "18078165690993073471"
     },
     "user_tz": -330
    },
    "id": "pHN2NQxb0Yhs",
    "outputId": "7796abdc-d0ff-4b6d-8362-bb5cde36d360"
   },
   "outputs": [
    {
     "name": "stdout",
     "output_type": "stream",
     "text": [
      "7\n"
     ]
    }
   ],
   "source": [
    "import pandas as pd\n",
    "\n",
    "a = [1, 7, 2]\n",
    "\n",
    "myvar = pd.Series(a, index = [\"x\", \"y\", \"z\"])\n",
    "\n",
    "print(myvar[\"y\"])\n"
   ]
  },
  {
   "cell_type": "markdown",
   "metadata": {
    "id": "rlKL-Wh80fF8"
   },
   "source": [
    "## Key/Value Objects as Series"
   ]
  },
  {
   "cell_type": "code",
   "execution_count": null,
   "metadata": {
    "colab": {
     "base_uri": "https://localhost:8080/"
    },
    "executionInfo": {
     "elapsed": 188,
     "status": "ok",
     "timestamp": 1665824782709,
     "user": {
      "displayName": "sree dhar",
      "userId": "18078165690993073471"
     },
     "user_tz": -330
    },
    "id": "lWvt_7RQ0iES",
    "outputId": "3520fe07-0c9c-466a-ea83-41747bc20f49"
   },
   "outputs": [
    {
     "name": "stdout",
     "output_type": "stream",
     "text": [
      "day1    420\n",
      "day2    380\n",
      "day3    390\n",
      "dtype: int64\n"
     ]
    }
   ],
   "source": [
    "import pandas as pd\n",
    "\n",
    "calories = {\"day1\": 420, \"day2\": 380, \"day3\": 390}\n",
    "\n",
    "myvar = pd.Series(calories)\n",
    "\n",
    "print(myvar)\n"
   ]
  },
  {
   "cell_type": "code",
   "execution_count": null,
   "metadata": {
    "colab": {
     "base_uri": "https://localhost:8080/"
    },
    "executionInfo": {
     "elapsed": 178,
     "status": "ok",
     "timestamp": 1665824782710,
     "user": {
      "displayName": "sree dhar",
      "userId": "18078165690993073471"
     },
     "user_tz": -330
    },
    "id": "cSo8LWzu0jUV",
    "outputId": "74708969-88f4-4ad0-9404-f9188858e769"
   },
   "outputs": [
    {
     "name": "stdout",
     "output_type": "stream",
     "text": [
      "day1    420\n",
      "day2    380\n",
      "dtype: int64\n"
     ]
    }
   ],
   "source": [
    "import pandas as pd\n",
    "\n",
    "calories = {\"day1\": 420, \"day2\": 380, \"day3\": 390}\n",
    "\n",
    "myvar = pd.Series(calories, index = [\"day1\", \"day2\"])\n",
    "\n",
    "print(myvar)\n"
   ]
  },
  {
   "cell_type": "markdown",
   "metadata": {
    "id": "lt0urNLF0lTk"
   },
   "source": [
    "## DataFrames"
   ]
  },
  {
   "cell_type": "code",
   "execution_count": null,
   "metadata": {
    "colab": {
     "base_uri": "https://localhost:8080/"
    },
    "executionInfo": {
     "elapsed": 169,
     "status": "ok",
     "timestamp": 1665824782711,
     "user": {
      "displayName": "sree dhar",
      "userId": "18078165690993073471"
     },
     "user_tz": -330
    },
    "id": "yiNKaS7m0nV2",
    "outputId": "ad862842-03d4-4f7b-a3f7-47cade5a3d94"
   },
   "outputs": [
    {
     "name": "stdout",
     "output_type": "stream",
     "text": [
      "   calories  duration\n",
      "0       420        50\n",
      "1       380        40\n",
      "2       390        45\n"
     ]
    }
   ],
   "source": [
    "import pandas as pd\n",
    "\n",
    "data = {\n",
    "  \"calories\": [420, 380, 390],\n",
    "  \"duration\": [50, 40, 45]\n",
    "}\n",
    "\n",
    "myvar = pd.DataFrame(data)\n",
    "\n",
    "print(myvar)\n"
   ]
  },
  {
   "cell_type": "markdown",
   "metadata": {
    "id": "jr_9vrwy0pwz"
   },
   "source": [
    "# Pandas DataFrames"
   ]
  },
  {
   "cell_type": "markdown",
   "metadata": {
    "id": "X53sy28f0rw8"
   },
   "source": [
    "## What is a DataFrame?"
   ]
  },
  {
   "cell_type": "code",
   "execution_count": null,
   "metadata": {
    "colab": {
     "base_uri": "https://localhost:8080/"
    },
    "executionInfo": {
     "elapsed": 159,
     "status": "ok",
     "timestamp": 1665824782712,
     "user": {
      "displayName": "sree dhar",
      "userId": "18078165690993073471"
     },
     "user_tz": -330
    },
    "id": "Q8VY1ADz0tZ8",
    "outputId": "a9e24a72-bf72-4e24-aee7-79115829d11a"
   },
   "outputs": [
    {
     "name": "stdout",
     "output_type": "stream",
     "text": [
      "   calories  duration\n",
      "0       420        50\n",
      "1       380        40\n",
      "2       390        45\n"
     ]
    }
   ],
   "source": [
    "import pandas as pd\n",
    "\n",
    "data = {\n",
    "  \"calories\": [420, 380, 390],\n",
    "  \"duration\": [50, 40, 45]\n",
    "}\n",
    "\n",
    "#load data into a DataFrame object:\n",
    "df = pd.DataFrame(data)\n",
    "\n",
    "print(df) "
   ]
  },
  {
   "cell_type": "markdown",
   "metadata": {
    "id": "wWUVvGtB0usU"
   },
   "source": [
    "## Locate Row"
   ]
  },
  {
   "cell_type": "code",
   "execution_count": null,
   "metadata": {
    "colab": {
     "base_uri": "https://localhost:8080/"
    },
    "executionInfo": {
     "elapsed": 150,
     "status": "ok",
     "timestamp": 1665824782713,
     "user": {
      "displayName": "sree dhar",
      "userId": "18078165690993073471"
     },
     "user_tz": -330
    },
    "id": "bbYEYhAk0xoU",
    "outputId": "446adee4-980f-46cd-94ee-792794a2a637"
   },
   "outputs": [
    {
     "name": "stdout",
     "output_type": "stream",
     "text": [
      "calories    420\n",
      "duration     50\n",
      "Name: 0, dtype: int64\n"
     ]
    }
   ],
   "source": [
    "import pandas as pd\n",
    "\n",
    "data = {\n",
    "  \"calories\": [420, 380, 390],\n",
    "  \"duration\": [50, 40, 45]\n",
    "}\n",
    "\n",
    "#load data into a DataFrame object:\n",
    "df = pd.DataFrame(data)\n",
    "\n",
    "print(df.loc[0])\n"
   ]
  },
  {
   "cell_type": "code",
   "execution_count": null,
   "metadata": {
    "colab": {
     "base_uri": "https://localhost:8080/"
    },
    "executionInfo": {
     "elapsed": 141,
     "status": "ok",
     "timestamp": 1665824782714,
     "user": {
      "displayName": "sree dhar",
      "userId": "18078165690993073471"
     },
     "user_tz": -330
    },
    "id": "ciK2X9XU03fJ",
    "outputId": "82aa4051-c7a6-4c58-c365-f8c7e7a54ae3"
   },
   "outputs": [
    {
     "name": "stdout",
     "output_type": "stream",
     "text": [
      "   calories  duration\n",
      "0       420        50\n",
      "1       380        40\n"
     ]
    }
   ],
   "source": [
    "import pandas as pd\n",
    "\n",
    "data = {\n",
    "  \"calories\": [420, 380, 390],\n",
    "  \"duration\": [50, 40, 45]\n",
    "}\n",
    "\n",
    "#load data into a DataFrame object:\n",
    "df = pd.DataFrame(data)\n",
    "\n",
    "print(df.loc[[0, 1]])\n"
   ]
  },
  {
   "cell_type": "markdown",
   "metadata": {
    "id": "UvtBFFpM07A0"
   },
   "source": [
    "## Named Indexes"
   ]
  },
  {
   "cell_type": "code",
   "execution_count": null,
   "metadata": {
    "colab": {
     "base_uri": "https://localhost:8080/"
    },
    "executionInfo": {
     "elapsed": 132,
     "status": "ok",
     "timestamp": 1665824782716,
     "user": {
      "displayName": "sree dhar",
      "userId": "18078165690993073471"
     },
     "user_tz": -330
    },
    "id": "sqjIKsTo09YD",
    "outputId": "027033b9-0085-4b2e-fb55-ca3698609d24"
   },
   "outputs": [
    {
     "name": "stdout",
     "output_type": "stream",
     "text": [
      "      calories  duration\n",
      "day1       420        50\n",
      "day2       380        40\n",
      "day3       390        45\n"
     ]
    }
   ],
   "source": [
    "import pandas as pd\n",
    "\n",
    "data = {\n",
    "  \"calories\": [420, 380, 390],\n",
    "  \"duration\": [50, 40, 45]\n",
    "}\n",
    "\n",
    "df = pd.DataFrame(data, index = [\"day1\", \"day2\", \"day3\"])\n",
    "\n",
    "print(df) \n"
   ]
  },
  {
   "cell_type": "markdown",
   "metadata": {
    "id": "Ftbj4upS0_td"
   },
   "source": [
    "## Locate Named Indexes"
   ]
  },
  {
   "cell_type": "code",
   "execution_count": null,
   "metadata": {
    "colab": {
     "base_uri": "https://localhost:8080/"
    },
    "executionInfo": {
     "elapsed": 123,
     "status": "ok",
     "timestamp": 1665824782717,
     "user": {
      "displayName": "sree dhar",
      "userId": "18078165690993073471"
     },
     "user_tz": -330
    },
    "id": "Us6vKTvs1B1B",
    "outputId": "20307f06-cf58-44f8-9640-347b0bdfcd35"
   },
   "outputs": [
    {
     "name": "stdout",
     "output_type": "stream",
     "text": [
      "calories    380\n",
      "duration     40\n",
      "Name: day2, dtype: int64\n"
     ]
    }
   ],
   "source": [
    "import pandas as pd\n",
    "\n",
    "data = {\n",
    "  \"calories\": [420, 380, 390],\n",
    "  \"duration\": [50, 40, 45]\n",
    "}\n",
    "\n",
    "df = pd.DataFrame(data, index = [\"day1\", \"day2\", \"day3\"])\n",
    "\n",
    "print(df.loc[\"day2\"])\n"
   ]
  },
  {
   "cell_type": "markdown",
   "metadata": {
    "id": "g-78Ld0q1F37"
   },
   "source": [
    "## Load Files Into a DataFrame"
   ]
  },
  {
   "cell_type": "code",
   "execution_count": null,
   "metadata": {
    "id": "0YyXS5HO1I27"
   },
   "outputs": [],
   "source": [
    "# import pandas as pd\n",
    "\n",
    "# df = pd.read_csv('data.csv')\n",
    "\n",
    "# print(df)\n"
   ]
  },
  {
   "cell_type": "markdown",
   "metadata": {
    "id": "iveaURVv1PCl"
   },
   "source": [
    "# Pandas Read CSV"
   ]
  },
  {
   "cell_type": "markdown",
   "metadata": {
    "id": "Q8PI5lFm1Qa6"
   },
   "source": [
    "## Read CSV Files"
   ]
  },
  {
   "cell_type": "code",
   "execution_count": null,
   "metadata": {
    "id": "onf5TNia1So0"
   },
   "outputs": [],
   "source": [
    "# import pandas as pd\n",
    "\n",
    "# df = pd.read_csv('data.csv')\n",
    "\n",
    "# print(df.to_string())\n"
   ]
  },
  {
   "cell_type": "code",
   "execution_count": null,
   "metadata": {
    "id": "b3h74kQK1Upb"
   },
   "outputs": [],
   "source": [
    "\n",
    "# import pandas as pd\n",
    "# ​\n",
    "# df = pd.read_csv('data.csv')\n",
    "# ​\n",
    "# print(df)\n",
    "# ​"
   ]
  },
  {
   "cell_type": "markdown",
   "metadata": {
    "id": "vy3r6XZY1aJr"
   },
   "source": [
    "## max_rows"
   ]
  },
  {
   "cell_type": "code",
   "execution_count": null,
   "metadata": {
    "id": "xny1gl7-1e2z"
   },
   "outputs": [],
   "source": [
    "# import pandas as pd\n",
    "# ​\n",
    "# print(pd.options.display.max_rows)\n",
    "# ​\n"
   ]
  },
  {
   "cell_type": "code",
   "execution_count": null,
   "metadata": {
    "id": "xNcf5R5T1g_I"
   },
   "outputs": [],
   "source": [
    "# import pandas as pd\n",
    "# ​\n",
    "# pd.options.display.max_rows = 9999\n",
    "# ​\n",
    "# df = pd.read_csv('data.csv')\n",
    "# ​\n",
    "# print(df)\n",
    "# ​\n"
   ]
  },
  {
   "cell_type": "markdown",
   "metadata": {
    "id": "shNBW7Hy1mC7"
   },
   "source": [
    "# Pandas Read JSON"
   ]
  },
  {
   "cell_type": "markdown",
   "metadata": {
    "id": "SNQSekdx1nWe"
   },
   "source": [
    "## Read JSON"
   ]
  },
  {
   "cell_type": "code",
   "execution_count": null,
   "metadata": {
    "id": "pMkLhDMG1pic"
   },
   "outputs": [],
   "source": [
    "# import pandas as pd\n",
    "# ​\n",
    "# df = pd.read_json('data.json')\n",
    "# ​\n",
    "# print(df.to_string())\n",
    "# ​\n"
   ]
  },
  {
   "cell_type": "markdown",
   "metadata": {
    "id": "__xCWu931rYi"
   },
   "source": [
    "## Dictionary as JSON"
   ]
  },
  {
   "cell_type": "code",
   "execution_count": null,
   "metadata": {
    "colab": {
     "base_uri": "https://localhost:8080/"
    },
    "executionInfo": {
     "elapsed": 108,
     "status": "ok",
     "timestamp": 1665824782725,
     "user": {
      "displayName": "sree dhar",
      "userId": "18078165690993073471"
     },
     "user_tz": -330
    },
    "id": "H45snFAN1u2u",
    "outputId": "470db9fd-5c2e-4bb8-94a2-917aafa5e23c"
   },
   "outputs": [
    {
     "name": "stdout",
     "output_type": "stream",
     "text": [
      "   Duration  Pulse  Maxpulse  Calories\n",
      "0        60    110       130       409\n",
      "1        60    117       145       479\n",
      "2        60    103       135       340\n",
      "3        45    109       175       282\n",
      "4        45    117       148       406\n",
      "5        60    102       127       300\n"
     ]
    }
   ],
   "source": [
    "import pandas as pd\n",
    "\n",
    "data = {\n",
    "  \"Duration\":{\n",
    "    \"0\":60,\n",
    "    \"1\":60,\n",
    "    \"2\":60,\n",
    "    \"3\":45,\n",
    "    \"4\":45,\n",
    "    \"5\":60\n",
    "  },\n",
    "  \"Pulse\":{\n",
    "    \"0\":110,\n",
    "    \"1\":117,\n",
    "    \"2\":103,\n",
    "    \"3\":109,\n",
    "    \"4\":117,\n",
    "    \"5\":102\n",
    "  },\n",
    "  \"Maxpulse\":{\n",
    "    \"0\":130,\n",
    "    \"1\":145,\n",
    "    \"2\":135,\n",
    "    \"3\":175,\n",
    "    \"4\":148,\n",
    "    \"5\":127\n",
    "  },\n",
    "  \"Calories\":{\n",
    "    \"0\":409,\n",
    "    \"1\":479,\n",
    "    \"2\":340,\n",
    "    \"3\":282,\n",
    "    \"4\":406,\n",
    "    \"5\":300\n",
    "  }\n",
    "}\n",
    "\n",
    "df = pd.DataFrame(data)\n",
    "\n",
    "print(df) "
   ]
  },
  {
   "cell_type": "markdown",
   "metadata": {
    "id": "jtFNNl-81zs2"
   },
   "source": [
    "# Pandas - Analyzing DataFrames"
   ]
  },
  {
   "cell_type": "markdown",
   "metadata": {
    "id": "iH8tepvz11bW"
   },
   "source": [
    "## Viewing the Data"
   ]
  },
  {
   "cell_type": "code",
   "execution_count": null,
   "metadata": {
    "id": "_kgGkpil15-V"
   },
   "outputs": [],
   "source": [
    "# import pandas as pd\n",
    "\n",
    "# df = pd.read_csv('data.csv')\n",
    "\n",
    "# print(df.head(10))\n"
   ]
  },
  {
   "cell_type": "code",
   "execution_count": null,
   "metadata": {
    "id": "w7XfkSto16-p"
   },
   "outputs": [],
   "source": [
    "# import pandas as pd\n",
    "\n",
    "# df = pd.read_csv('data.csv')\n",
    "\n",
    "# print(df.head())\n"
   ]
  },
  {
   "cell_type": "code",
   "execution_count": null,
   "metadata": {
    "id": "niu6Usiu177n"
   },
   "outputs": [],
   "source": [
    "# import pandas as pd\n",
    "\n",
    "# df = pd.read_csv('data.csv')\n",
    "\n",
    "# print(df.tail())\n"
   ]
  },
  {
   "cell_type": "markdown",
   "metadata": {
    "id": "fKI1O6231-HK"
   },
   "source": [
    "## Info About the Data"
   ]
  },
  {
   "cell_type": "code",
   "execution_count": null,
   "metadata": {
    "id": "9EysC09g2AeW"
   },
   "outputs": [],
   "source": [
    "# import pandas as pd\n",
    "\n",
    "# df = pd.read_csv('data.csv')\n",
    "\n",
    "# print(df.info())\n"
   ]
  },
  {
   "cell_type": "markdown",
   "metadata": {
    "id": "1U1dtpsX2FFM"
   },
   "source": [
    "# Cleaning Data"
   ]
  },
  {
   "cell_type": "markdown",
   "metadata": {
    "id": "iMJUtZKl2Gf7"
   },
   "source": [
    "## Pandas - Cleaning Empty Cells"
   ]
  },
  {
   "cell_type": "markdown",
   "metadata": {
    "id": "1LFNrg-m2NdG"
   },
   "source": [
    "### Remove Rows"
   ]
  },
  {
   "cell_type": "code",
   "execution_count": null,
   "metadata": {
    "id": "9pDvcNok2O5R"
   },
   "outputs": [],
   "source": [
    "# import pandas as pd\n",
    "\n",
    "# df = pd.read_csv('data.csv')\n",
    "\n",
    "# new_df = df.dropna()\n",
    "\n",
    "# print(new_df.to_string())\n",
    "\n",
    "# #Notice in the result that some rows have been removed (row 18, 22 and 28).\n",
    "\n",
    "# #These rows had cells with empty values.\n"
   ]
  },
  {
   "cell_type": "code",
   "execution_count": null,
   "metadata": {
    "id": "KErUI7nr2RYf"
   },
   "outputs": [],
   "source": [
    "# import pandas as pd\n",
    "\n",
    "# df = pd.read_csv('data.csv')\n",
    "\n",
    "# df.dropna(inplace = True)\n",
    "\n",
    "# print(df.to_string())\n",
    "\n",
    "# #Notice in the result that some rows have been removed (row 18, 22 and 28).\n",
    "\n",
    "# #These rows had cells with empty values.\n"
   ]
  },
  {
   "cell_type": "markdown",
   "metadata": {
    "id": "dRsJ3E3Z2UVl"
   },
   "source": [
    "### Replace Empty Values"
   ]
  },
  {
   "cell_type": "code",
   "execution_count": null,
   "metadata": {
    "id": "0az3tUxJ2WkC"
   },
   "outputs": [],
   "source": [
    "# import pandas as pd\n",
    "\n",
    "# df = pd.read_csv('data.csv')\n",
    "\n",
    "# df.fillna(130, inplace = True)\n",
    "\n",
    "# print(df.to_string())\n",
    "\n",
    "# #Notice in the result: empty cells got the value 130 (in row 18, 22 and 28).\n"
   ]
  },
  {
   "cell_type": "markdown",
   "metadata": {
    "id": "1UXxO-nu2Yea"
   },
   "source": [
    "### Replace Only For Specified Columns"
   ]
  },
  {
   "cell_type": "code",
   "execution_count": null,
   "metadata": {
    "id": "NmC4EDi_2bA3"
   },
   "outputs": [],
   "source": [
    "# import pandas as pd\n",
    "\n",
    "# df = pd.read_csv('data.csv')\n",
    "\n",
    "# df[\"Calories\"].fillna(130, inplace = True)\n",
    "\n",
    "# print(df.to_string())\n",
    "\n",
    "# #This operation inserts 130 in empty cells in the \"Calories\" column (row 18 and 28).\n"
   ]
  },
  {
   "cell_type": "markdown",
   "metadata": {
    "id": "nhBKLdEj2cv6"
   },
   "source": [
    "### Replace Using Mean, Median, or Mode"
   ]
  },
  {
   "cell_type": "code",
   "execution_count": null,
   "metadata": {
    "id": "Ak1kkJHi2fea"
   },
   "outputs": [],
   "source": [
    "# import pandas as pd\n",
    "\n",
    "# df = pd.read_csv('data.csv')\n",
    "\n",
    "# x = df[\"Calories\"].mean()\n",
    "\n",
    "# df[\"Calories\"].fillna(x, inplace = True)\n",
    "\n",
    "# print(df.to_string())\n",
    "\n",
    "# #As you can see in row 18 and 28, the empty values from \"Calories\" was replaced with the mean: 304.68\n"
   ]
  },
  {
   "cell_type": "code",
   "execution_count": null,
   "metadata": {
    "id": "nuuZmGgA2gx6"
   },
   "outputs": [],
   "source": [
    "# import pandas as pd\n",
    "\n",
    "# df = pd.read_csv('data.csv')\n",
    "\n",
    "# x = df[\"Calories\"].median()\n",
    "\n",
    "# df[\"Calories\"].fillna(x, inplace = True)\n",
    "\n",
    "# print(df.to_string())\n",
    "\n",
    "# #As you can see in row 18 and 28, the empty values from \"Calories\" was replaced with the median: 291.2\n"
   ]
  },
  {
   "cell_type": "code",
   "execution_count": null,
   "metadata": {
    "id": "Ie_TV9FS2iZY"
   },
   "outputs": [],
   "source": [
    "# import pandas as pd\n",
    "\n",
    "# df = pd.read_csv('data.csv')\n",
    "\n",
    "# x = df[\"Calories\"].mode()[0]\n",
    "\n",
    "# df[\"Calories\"].fillna(x, inplace = True)\n",
    "\n",
    "# print(df.to_string())\n",
    "\n",
    "# #As you can see in row 18 and 28, the empty value from \"Calories\" was replaced with the mode: 300.0\n"
   ]
  },
  {
   "cell_type": "markdown",
   "metadata": {
    "id": "5mYT0rgx2k-R"
   },
   "source": [
    "## Pandas - Cleaning Data of Wrong Format"
   ]
  },
  {
   "cell_type": "markdown",
   "metadata": {
    "id": "iupUtOVq2nq0"
   },
   "source": [
    "### Convert Into a Correct Format"
   ]
  },
  {
   "cell_type": "code",
   "execution_count": null,
   "metadata": {
    "id": "E3i1MPO62qhf"
   },
   "outputs": [],
   "source": [
    "# import pandas as pd\n",
    "\n",
    "# df = pd.read_csv('data.csv')\n",
    "\n",
    "# df['Date'] = pd.to_datetime(df['Date'])\n",
    "\n",
    "# print(df.to_string())\n"
   ]
  },
  {
   "cell_type": "markdown",
   "metadata": {
    "id": "WZtFQL2d2sdL"
   },
   "source": [
    "### Removing Rows"
   ]
  },
  {
   "cell_type": "code",
   "execution_count": null,
   "metadata": {
    "id": "3bIQ5FWo2uL1"
   },
   "outputs": [],
   "source": [
    "# import pandas as pd\n",
    "\n",
    "# df = pd.read_csv('data.csv')\n",
    "\n",
    "# df['Date'] = pd.to_datetime(df['Date'])\n",
    "\n",
    "# df.dropna(subset=['Date'], inplace = True)\n",
    "\n",
    "# print(df.to_string())\n"
   ]
  },
  {
   "cell_type": "markdown",
   "metadata": {
    "id": "EVNO8Sr92wan"
   },
   "source": [
    "## Pandas - Fixing Wrong Data"
   ]
  },
  {
   "cell_type": "markdown",
   "metadata": {
    "id": "68OfHBeO2yur"
   },
   "source": [
    "### Replacing Values"
   ]
  },
  {
   "cell_type": "code",
   "execution_count": null,
   "metadata": {
    "id": "ePWx8tjr21cs"
   },
   "outputs": [],
   "source": [
    "# import pandas as pd\n",
    "\n",
    "# df = pd.read_csv('data.csv')\n",
    "\n",
    "# df.loc[7,'Duration'] = 45\n",
    "\n",
    "# print(df.to_string())\n"
   ]
  },
  {
   "cell_type": "code",
   "execution_count": null,
   "metadata": {
    "id": "NLeTEhIr22l-"
   },
   "outputs": [],
   "source": [
    "# import pandas as pd\n",
    "\n",
    "# df = pd.read_csv('data.csv')\n",
    "\n",
    "# for x in df.index:\n",
    "#   if df.loc[x, \"Duration\"] > 120:\n",
    "#     df.loc[x, \"Duration\"] = 120\n",
    "\n",
    "# print(df.to_string())\n"
   ]
  },
  {
   "cell_type": "markdown",
   "metadata": {
    "id": "G20dU7AZ24Ml"
   },
   "source": [
    "### Removing Rows"
   ]
  },
  {
   "cell_type": "code",
   "execution_count": null,
   "metadata": {
    "id": "Mof8ivvk26a9"
   },
   "outputs": [],
   "source": [
    "# import pandas as pd\n",
    "\n",
    "# df = pd.read_csv('data.csv')\n",
    "\n",
    "# for x in df.index:\n",
    "#   if df.loc[x, \"Duration\"] > 120:\n",
    "#     df.drop(x, inplace = True)\n",
    "\n",
    "# #remember to include the 'inplace = True' argument to make the changes in the original DataFrame object instead of returning a copy\n",
    "\n",
    "# print(df.to_string())\n"
   ]
  },
  {
   "cell_type": "markdown",
   "metadata": {
    "id": "lkHfT48628Rx"
   },
   "source": [
    "## Pandas - Removing Duplicates"
   ]
  },
  {
   "cell_type": "markdown",
   "metadata": {
    "id": "wXh9PG0F2_bo"
   },
   "source": [
    "### Discovering Duplicates"
   ]
  },
  {
   "cell_type": "code",
   "execution_count": null,
   "metadata": {
    "id": "XtDIZR0f3DFi"
   },
   "outputs": [],
   "source": [
    "# import pandas as pd\n",
    "\n",
    "# df = pd.read_csv('data.csv')\n",
    "\n",
    "# print(df.duplicated())\n"
   ]
  },
  {
   "cell_type": "markdown",
   "metadata": {
    "id": "cNV7IQz53Fbz"
   },
   "source": [
    "### Removing Duplicates"
   ]
  },
  {
   "cell_type": "code",
   "execution_count": null,
   "metadata": {
    "id": "_J1NCuj03H3m"
   },
   "outputs": [],
   "source": [
    "# import pandas as pd\n",
    "\n",
    "# df = pd.read_csv('data.csv')\n",
    "\n",
    "# df.drop_duplicates(inplace = True)\n",
    "\n",
    "# print(df.to_string())\n",
    "\n",
    "# #Notice that row 12 has been removed from the result\n"
   ]
  },
  {
   "cell_type": "markdown",
   "metadata": {
    "id": "optuqrjP3KFw"
   },
   "source": [
    "# Pandas - Data Correlations"
   ]
  },
  {
   "cell_type": "markdown",
   "metadata": {
    "id": "muvxoYqZ3Lsg"
   },
   "source": [
    "## Finding Relationships"
   ]
  },
  {
   "cell_type": "code",
   "execution_count": null,
   "metadata": {
    "id": "478khdEl3OA0"
   },
   "outputs": [],
   "source": [
    "# import pandas as pd\n",
    "\n",
    "# df = pd.read_csv('data.csv')\n",
    "\n",
    "# print(df.corr())\n"
   ]
  },
  {
   "cell_type": "markdown",
   "metadata": {
    "id": "pjooVjZ23RPR"
   },
   "source": [
    "# Pandas - Plotting"
   ]
  },
  {
   "cell_type": "markdown",
   "metadata": {
    "id": "HX5vApbF3UE0"
   },
   "source": [
    "## Plotting"
   ]
  },
  {
   "cell_type": "code",
   "execution_count": null,
   "metadata": {
    "id": "Ux_UFsEQ3V3S"
   },
   "outputs": [],
   "source": [
    "# #Three lines to make our compiler able to draw:\n",
    "# import sys\n",
    "# import matplotlib\n",
    "# matplotlib.use('Agg')\n",
    "\n",
    "# import pandas as pd\n",
    "# import matplotlib.pyplot as plt\n",
    "\n",
    "# df = pd.read_csv('data.csv')\n",
    "\n",
    "# df.plot()\n",
    "\n",
    "# plt.show()\n",
    "\n",
    "# #Two  lines to make our compiler able to draw:\n",
    "# plt.savefig(sys.stdout.buffer)\n",
    "# sys.stdout.flush()\n"
   ]
  },
  {
   "cell_type": "markdown",
   "metadata": {
    "id": "Fx4WTgv93XYa"
   },
   "source": [
    "## Scatter Plot"
   ]
  },
  {
   "cell_type": "code",
   "execution_count": null,
   "metadata": {
    "id": "xoQlPDbi3ZeF"
   },
   "outputs": [],
   "source": [
    "# #Three lines to make our compiler able to draw:\n",
    "# import sys\n",
    "# import matplotlib\n",
    "# matplotlib.use('Agg')\n",
    "\n",
    "# import pandas as pd\n",
    "# import matplotlib.pyplot as plt\n",
    "\n",
    "# df = pd.read_csv('data.csv')\n",
    "\n",
    "# df.plot(kind = 'scatter', x = 'Duration', y = 'Calories')\n",
    "\n",
    "# plt.show()\n",
    "\n",
    "# #Two  lines to make our compiler able to draw:\n",
    "# plt.savefig(sys.stdout.buffer)\n",
    "# sys.stdout.flush()\n"
   ]
  },
  {
   "cell_type": "code",
   "execution_count": 2,
   "metadata": {
    "id": "-9Gun0Oj3c4o"
   },
   "outputs": [],
   "source": [
    "# #Three lines to make our compiler able to draw:\n",
    "# import sys\n",
    "# import matplotlib\n",
    "# matplotlib.use('Agg')\n",
    "\n",
    "# import pandas as pd\n",
    "# import matplotlib.pyplot as plt\n",
    "\n",
    "# df = pd.read_csv('data.csv')\n",
    "\n",
    "# df.plot(kind = 'scatter', x = 'Duration', y = 'Maxpulse')\n",
    "\n",
    "# plt.show()\n",
    "\n",
    "# #Two  lines to make our compiler able to draw:\n",
    "# plt.savefig(sys.stdout.buffer)\n",
    "# sys.stdout.flush()\n"
   ]
  },
  {
   "cell_type": "markdown",
   "metadata": {
    "id": "fOwqrVRr3fCr"
   },
   "source": [
    "## Histogram"
   ]
  },
  {
   "cell_type": "code",
   "execution_count": null,
   "metadata": {
    "id": "Tgikzp-L3iDF"
   },
   "outputs": [],
   "source": [
    "# #Three lines to make our compiler able to draw:\n",
    "# import sys\n",
    "# import matplotlib\n",
    "# matplotlib.use('Agg')\n",
    "\n",
    "# import pandas as pd\n",
    "# import matplotlib.pyplot as plt\n",
    "\n",
    "# df = pd.read_csv('data.csv')\n",
    "\n",
    "# df[\"Duration\"].plot(kind = 'hist')\n",
    "\n",
    "# plt.show()\n",
    "\n",
    "# #Two  lines to make our compiler able to draw:\n",
    "# plt.savefig(sys.stdout.buffer)\n",
    "# sys.stdout.flush()\n"
   ]
  }
 ],
 "metadata": {
  "colab": {
   "provenance": [
    {
     "file_id": "1vBQIVZS8RxFRYE0GdDLlk6xuOqRMsib0",
     "timestamp": 1665814683888
    }
   ]
  },
  "kernelspec": {
   "display_name": "Python 3 (ipykernel)",
   "language": "python",
   "name": "python3"
  },
  "language_info": {
   "codemirror_mode": {
    "name": "ipython",
    "version": 3
   },
   "file_extension": ".py",
   "mimetype": "text/x-python",
   "name": "python",
   "nbconvert_exporter": "python",
   "pygments_lexer": "ipython3",
   "version": "3.9.16"
  }
 },
 "nbformat": 4,
 "nbformat_minor": 1
}
