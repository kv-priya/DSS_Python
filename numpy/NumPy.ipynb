{
 "cells": [
  {
   "cell_type": "markdown",
   "metadata": {
    "id": "C7RZOjCFjWER"
   },
   "source": [
    "# NumPy \n",
    "\n",
    "- Numerical python\n",
    "    - Used for Numerical computations\n",
    "    - Array, Matrices, Linear algebra, Fourier transform, random number generation\n",
    "- Numpy arrays: more efficient than python list structures (50x times)\n",
    "- written in C or C++ and little of python\n",
    "- The array object in NumPy is called ndarray"
   ]
  },
  {
   "cell_type": "code",
   "execution_count": 7,
   "metadata": {
    "colab": {
     "base_uri": "https://localhost:8080/"
    },
    "executionInfo": {
     "elapsed": 834,
     "status": "ok",
     "timestamp": 1665820970429,
     "user": {
      "displayName": "sree dhar",
      "userId": "18078165690993073471"
     },
     "user_tz": -330
    },
    "id": "V25_5IrcjcPf",
    "outputId": "ea197edc-127f-4f78-8c39-c30fa35d45d8"
   },
   "outputs": [],
   "source": [
    "# create an array using numpy\n",
    "# arr = numpy.array([1, 2, 3, 4, 5])\n",
    "\n",
    "# NameError: name 'numpy' is not defined"
   ]
  },
  {
   "cell_type": "markdown",
   "metadata": {
    "id": "NjUeosdVjfoC"
   },
   "source": [
    "# NumPy Getting Started"
   ]
  },
  {
   "cell_type": "markdown",
   "metadata": {},
   "source": [
    "### Installation of numpy"
   ]
  },
  {
   "cell_type": "code",
   "execution_count": 12,
   "metadata": {},
   "outputs": [],
   "source": [
    "# pip install numpy"
   ]
  },
  {
   "cell_type": "markdown",
   "metadata": {
    "id": "muBbTxs8jmW0"
   },
   "source": [
    "### Import NumPy"
   ]
  },
  {
   "cell_type": "code",
   "execution_count": 9,
   "metadata": {
    "colab": {
     "base_uri": "https://localhost:8080/"
    },
    "executionInfo": {
     "elapsed": 193,
     "status": "ok",
     "timestamp": 1665820970431,
     "user": {
      "displayName": "sree dhar",
      "userId": "18078165690993073471"
     },
     "user_tz": -330
    },
    "id": "NGufydZLjoof",
    "outputId": "806344dc-1e55-4fdc-dacd-653ca9165296"
   },
   "outputs": [
    {
     "name": "stdout",
     "output_type": "stream",
     "text": [
      "[1 2 3 4 5] <class 'numpy.ndarray'>\n"
     ]
    }
   ],
   "source": [
    "import numpy\n",
    "\n",
    "arr = numpy.array([1, 2, 3, 4, 5])\n",
    "\n",
    "print(arr,type(arr))\n"
   ]
  },
  {
   "cell_type": "markdown",
   "metadata": {
    "id": "W7EWcBxCjqjQ"
   },
   "source": [
    "### NumPy as np (alias)"
   ]
  },
  {
   "cell_type": "code",
   "execution_count": 14,
   "metadata": {
    "colab": {
     "base_uri": "https://localhost:8080/"
    },
    "executionInfo": {
     "elapsed": 188,
     "status": "ok",
     "timestamp": 1665820970433,
     "user": {
      "displayName": "sree dhar",
      "userId": "18078165690993073471"
     },
     "user_tz": -330
    },
    "id": "Ch0djsErjw4Q",
    "outputId": "3876be96-fda4-4b5d-8382-3bc511ada92f"
   },
   "outputs": [
    {
     "name": "stdout",
     "output_type": "stream",
     "text": [
      "[1 2 3 4 5]\n"
     ]
    }
   ],
   "source": [
    "import numpy as np\n",
    "\n",
    "# Now the NumPy package can be referred to as np instead of numpy.\n",
    "\n",
    "arr = np.array([1, 2, 3, 4, 5])\n",
    "\n",
    "print(arr)\n"
   ]
  },
  {
   "cell_type": "markdown",
   "metadata": {
    "id": "1MEqKqgajvqJ"
   },
   "source": [
    "### Checking NumPy Version"
   ]
  },
  {
   "cell_type": "code",
   "execution_count": 13,
   "metadata": {
    "colab": {
     "base_uri": "https://localhost:8080/"
    },
    "executionInfo": {
     "elapsed": 180,
     "status": "ok",
     "timestamp": 1665820970435,
     "user": {
      "displayName": "sree dhar",
      "userId": "18078165690993073471"
     },
     "user_tz": -330
    },
    "id": "10AwFuSSj0ZE",
    "outputId": "806b4636-6e16-481f-da83-aecc991ec11d"
   },
   "outputs": [
    {
     "name": "stdout",
     "output_type": "stream",
     "text": [
      "1.21.5\n"
     ]
    }
   ],
   "source": [
    "import numpy as np\n",
    "\n",
    "print(np.__version__)\n"
   ]
  },
  {
   "cell_type": "markdown",
   "metadata": {
    "id": "mi9x3wlCj21C"
   },
   "source": [
    "# NumPy Creating Arrays"
   ]
  },
  {
   "cell_type": "code",
   "execution_count": 15,
   "metadata": {
    "colab": {
     "base_uri": "https://localhost:8080/"
    },
    "executionInfo": {
     "elapsed": 172,
     "status": "ok",
     "timestamp": 1665820970436,
     "user": {
      "displayName": "sree dhar",
      "userId": "18078165690993073471"
     },
     "user_tz": -330
    },
    "id": "dFCWctMBj6AD",
    "outputId": "b9c3a1e7-c0c2-41d4-dde4-e561c99f8062"
   },
   "outputs": [
    {
     "name": "stdout",
     "output_type": "stream",
     "text": [
      "[1 2 3 4 5]\n",
      "<class 'numpy.ndarray'>\n"
     ]
    }
   ],
   "source": [
    "import numpy as np\n",
    "\n",
    "arr = np.array([1, 2, 3, 4, 5])\n",
    "\n",
    "print(arr)\n",
    "\n",
    "print(type(arr))\n"
   ]
  },
  {
   "cell_type": "code",
   "execution_count": 16,
   "metadata": {
    "colab": {
     "base_uri": "https://localhost:8080/"
    },
    "executionInfo": {
     "elapsed": 167,
     "status": "ok",
     "timestamp": 1665820970438,
     "user": {
      "displayName": "sree dhar",
      "userId": "18078165690993073471"
     },
     "user_tz": -330
    },
    "id": "X6zNanm2j-aU",
    "outputId": "218220de-654d-4b94-a937-e9f80525fae2"
   },
   "outputs": [
    {
     "name": "stdout",
     "output_type": "stream",
     "text": [
      "[1 2 3 4 5]\n"
     ]
    }
   ],
   "source": [
    "import numpy as np\n",
    "\n",
    "arr = np.array((1, 2, 3, 4, 5))\n",
    "\n",
    "print(arr)\n"
   ]
  },
  {
   "cell_type": "markdown",
   "metadata": {
    "id": "GH0eHAjTkAN3"
   },
   "source": [
    "## 0-D Arrays or Scalars"
   ]
  },
  {
   "cell_type": "code",
   "execution_count": 17,
   "metadata": {
    "colab": {
     "base_uri": "https://localhost:8080/"
    },
    "executionInfo": {
     "elapsed": 160,
     "status": "ok",
     "timestamp": 1665820970440,
     "user": {
      "displayName": "sree dhar",
      "userId": "18078165690993073471"
     },
     "user_tz": -330
    },
    "id": "VjeLPWO-kDHg",
    "outputId": "c4440bf0-e848-4237-830b-0908c4b775ae"
   },
   "outputs": [
    {
     "name": "stdout",
     "output_type": "stream",
     "text": [
      "42\n"
     ]
    }
   ],
   "source": [
    "import numpy as np\n",
    "\n",
    "arr = np.array(42)\n",
    "\n",
    "print(arr)\n"
   ]
  },
  {
   "cell_type": "markdown",
   "metadata": {
    "id": "IawRWJvkkB-Z"
   },
   "source": [
    "## 1-D Arrays"
   ]
  },
  {
   "cell_type": "code",
   "execution_count": 18,
   "metadata": {
    "colab": {
     "base_uri": "https://localhost:8080/"
    },
    "executionInfo": {
     "elapsed": 151,
     "status": "ok",
     "timestamp": 1665820970442,
     "user": {
      "displayName": "sree dhar",
      "userId": "18078165690993073471"
     },
     "user_tz": -330
    },
    "id": "AYV6wWb4kGw1",
    "outputId": "6a10cc8b-bd84-4e94-b1a6-f1d601234075"
   },
   "outputs": [
    {
     "name": "stdout",
     "output_type": "stream",
     "text": [
      "[1 2 3 4 5]\n"
     ]
    }
   ],
   "source": [
    "import numpy as np\n",
    "\n",
    "arr = np.array([1, 2, 3, 4, 5])\n",
    "\n",
    "print(arr)\n"
   ]
  },
  {
   "cell_type": "markdown",
   "metadata": {
    "id": "u6Rbu8yNkIl6"
   },
   "source": [
    "## 2-D Arrays | Matrix | 2nd order tensor"
   ]
  },
  {
   "cell_type": "code",
   "execution_count": 19,
   "metadata": {
    "colab": {
     "base_uri": "https://localhost:8080/"
    },
    "executionInfo": {
     "elapsed": 144,
     "status": "ok",
     "timestamp": 1665820970444,
     "user": {
      "displayName": "sree dhar",
      "userId": "18078165690993073471"
     },
     "user_tz": -330
    },
    "id": "Y4zqmX3RkKWO",
    "outputId": "823639c8-828c-4492-ca8d-6cd6a03c8e97"
   },
   "outputs": [
    {
     "name": "stdout",
     "output_type": "stream",
     "text": [
      "[[1 2 3]\n",
      " [4 5 6]]\n"
     ]
    }
   ],
   "source": [
    "import numpy as np\n",
    "\n",
    "arr = np.array([[1, 2, 3], [4, 5, 6]])\n",
    "\n",
    "print(arr)\n"
   ]
  },
  {
   "cell_type": "markdown",
   "metadata": {
    "id": "2sCPL9VvkMj5"
   },
   "source": [
    "## 3-D arrays | 3rd order tensor"
   ]
  },
  {
   "cell_type": "code",
   "execution_count": 21,
   "metadata": {
    "colab": {
     "base_uri": "https://localhost:8080/"
    },
    "executionInfo": {
     "elapsed": 139,
     "status": "ok",
     "timestamp": 1665820970446,
     "user": {
      "displayName": "sree dhar",
      "userId": "18078165690993073471"
     },
     "user_tz": -330
    },
    "id": "9bpqj-Z3kONa",
    "outputId": "36644741-9716-4efd-c5c4-59ef60ac5d88"
   },
   "outputs": [
    {
     "name": "stdout",
     "output_type": "stream",
     "text": [
      "[[[1 2 3]\n",
      "  [4 5 6]]\n",
      "\n",
      " [[1 2 3]\n",
      "  [4 5 6]]]\n"
     ]
    }
   ],
   "source": [
    "import numpy as np\n",
    "\n",
    "#3-D array with two 2-D arrays, both containing two arrays with the values 1,2,3 and 4,5,6\n",
    "arr = np.array([[[1, 2, 3], [4, 5, 6]], [[1, 2, 3], [4, 5, 6]]])\n",
    "\n",
    "print(arr)\n"
   ]
  },
  {
   "cell_type": "markdown",
   "metadata": {
    "id": "RS5gBMVwkQtv"
   },
   "source": [
    "## Check Number of Dimensions?"
   ]
  },
  {
   "cell_type": "code",
   "execution_count": 22,
   "metadata": {
    "colab": {
     "base_uri": "https://localhost:8080/"
    },
    "executionInfo": {
     "elapsed": 137,
     "status": "ok",
     "timestamp": 1665820970448,
     "user": {
      "displayName": "sree dhar",
      "userId": "18078165690993073471"
     },
     "user_tz": -330
    },
    "id": "MH_YG1hWkSl1",
    "outputId": "bd80c536-d0ea-478e-b9f3-32f2cd3c3ebb"
   },
   "outputs": [
    {
     "name": "stdout",
     "output_type": "stream",
     "text": [
      "0\n",
      "1\n",
      "2\n",
      "3\n"
     ]
    }
   ],
   "source": [
    "import numpy as np\n",
    "\n",
    "a = np.array(42)\n",
    "b = np.array([1, 2, 3, 4, 5])\n",
    "c = np.array([[1, 2, 3], [4, 5, 6]])\n",
    "d = np.array([[[1, 2, 3], [4, 5, 6]], [[1, 2, 3], [4, 5, 6]]])\n",
    "\n",
    "print(a.ndim)\n",
    "print(b.ndim)\n",
    "print(c.ndim)\n",
    "print(d.ndim)\n"
   ]
  },
  {
   "cell_type": "markdown",
   "metadata": {
    "id": "_f1NWaDIkUKA"
   },
   "source": [
    "## Higher Dimensional Arrays"
   ]
  },
  {
   "cell_type": "code",
   "execution_count": 24,
   "metadata": {
    "colab": {
     "base_uri": "https://localhost:8080/"
    },
    "executionInfo": {
     "elapsed": 135,
     "status": "ok",
     "timestamp": 1665820970450,
     "user": {
      "displayName": "sree dhar",
      "userId": "18078165690993073471"
     },
     "user_tz": -330
    },
    "id": "dvB3DSa9kWg4",
    "outputId": "9b549889-49e9-426e-acf4-b9d8b8b47e0a"
   },
   "outputs": [
    {
     "name": "stdout",
     "output_type": "stream",
     "text": [
      "[[[[[1 2 3 4]]]]]\n",
      "number of dimensions : 5\n"
     ]
    }
   ],
   "source": [
    "import numpy as np\n",
    "\n",
    "arr = np.array([1, 2, 3, 4], ndmin=5)\n",
    "\n",
    "print(arr)\n",
    "\n",
    "print('number of dimensions :', arr.ndim)\n"
   ]
  },
  {
   "cell_type": "markdown",
   "metadata": {
    "id": "wghaZ-xXkYdi"
   },
   "source": [
    "# NumPy Array Indexing"
   ]
  },
  {
   "cell_type": "markdown",
   "metadata": {
    "id": "_v4wrtZEkaER"
   },
   "source": [
    "## Access Array Elements"
   ]
  },
  {
   "cell_type": "code",
   "execution_count": 26,
   "metadata": {
    "colab": {
     "base_uri": "https://localhost:8080/"
    },
    "executionInfo": {
     "elapsed": 132,
     "status": "ok",
     "timestamp": 1665820970451,
     "user": {
      "displayName": "sree dhar",
      "userId": "18078165690993073471"
     },
     "user_tz": -330
    },
    "id": "ScZ3DvxekdZf",
    "outputId": "0561d3f4-b5d4-4f8b-9195-e56ccb21f8c7"
   },
   "outputs": [
    {
     "name": "stdout",
     "output_type": "stream",
     "text": [
      "1\n"
     ]
    }
   ],
   "source": [
    "import numpy as np\n",
    "\n",
    "arr = np.array([1, 2, 3, 4])\n",
    "\n",
    "# Get the first element\n",
    "print(arr[0]) # index of ndarray starts with 0\n"
   ]
  },
  {
   "cell_type": "code",
   "execution_count": 27,
   "metadata": {
    "colab": {
     "base_uri": "https://localhost:8080/"
    },
    "executionInfo": {
     "elapsed": 128,
     "status": "ok",
     "timestamp": 1665820970453,
     "user": {
      "displayName": "sree dhar",
      "userId": "18078165690993073471"
     },
     "user_tz": -330
    },
    "id": "34z4VbRbkfTl",
    "outputId": "2c4af272-368e-4ecf-ab43-d01a73595bfc"
   },
   "outputs": [
    {
     "name": "stdout",
     "output_type": "stream",
     "text": [
      "2\n"
     ]
    }
   ],
   "source": [
    "import numpy as np\n",
    "\n",
    "# Get the second element\n",
    "arr = np.array([1, 2, 3, 4])\n",
    "\n",
    "print(arr[1])\n"
   ]
  },
  {
   "cell_type": "code",
   "execution_count": 30,
   "metadata": {
    "colab": {
     "base_uri": "https://localhost:8080/"
    },
    "executionInfo": {
     "elapsed": 123,
     "status": "ok",
     "timestamp": 1665820970454,
     "user": {
      "displayName": "sree dhar",
      "userId": "18078165690993073471"
     },
     "user_tz": -330
    },
    "id": "tux0kXuekggh",
    "outputId": "87a48b60-965b-4160-d4d4-2b05068f26ed"
   },
   "outputs": [
    {
     "name": "stdout",
     "output_type": "stream",
     "text": [
      "7\n"
     ]
    }
   ],
   "source": [
    "import numpy as np\n",
    "\n",
    "arr = np.array([1, 2, 3, 4])\n",
    "\n",
    "# add 3rd and 4th elements\n",
    "print(arr[2] + arr[3])\n"
   ]
  },
  {
   "cell_type": "markdown",
   "metadata": {
    "id": "HYIgqJxHklog"
   },
   "source": [
    "## Access 2-D Arrays"
   ]
  },
  {
   "cell_type": "code",
   "execution_count": null,
   "metadata": {
    "colab": {
     "base_uri": "https://localhost:8080/"
    },
    "executionInfo": {
     "elapsed": 122,
     "status": "ok",
     "timestamp": 1665820970456,
     "user": {
      "displayName": "sree dhar",
      "userId": "18078165690993073471"
     },
     "user_tz": -330
    },
    "id": "IOenVlfbknga",
    "outputId": "105a9b8b-669b-4710-b063-1c91bdafcf4e"
   },
   "outputs": [
    {
     "name": "stdout",
     "output_type": "stream",
     "text": [
      "2nd element on 1st row:  2\n"
     ]
    }
   ],
   "source": [
    "import numpy as np\n",
    "\n",
    "# Think of 2-D arrays like a table with rows and columns\n",
    "arr = np.array([[1,2,3,4,5], [6,7,8,9,10]])\n",
    "\n",
    "print('2nd element on 1st row: ', arr[0, 1]) # arr[r,c] arr[dimension, index]\n"
   ]
  },
  {
   "cell_type": "code",
   "execution_count": 31,
   "metadata": {
    "colab": {
     "base_uri": "https://localhost:8080/"
    },
    "executionInfo": {
     "elapsed": 114,
     "status": "ok",
     "timestamp": 1665820970457,
     "user": {
      "displayName": "sree dhar",
      "userId": "18078165690993073471"
     },
     "user_tz": -330
    },
    "id": "cOlluRqzkoiM",
    "outputId": "82e16e61-81ea-4af6-b019-66330a1a56db"
   },
   "outputs": [
    {
     "name": "stdout",
     "output_type": "stream",
     "text": [
      "5th element on 2nd row:  10\n"
     ]
    }
   ],
   "source": [
    "import numpy as np\n",
    "\n",
    "arr = np.array([[1,2,3,4,5], [6,7,8,9,10]])\n",
    "\n",
    "print('5th element on 2nd row: ', arr[1, 4])\n"
   ]
  },
  {
   "cell_type": "markdown",
   "metadata": {
    "id": "gjClaHwGkq_I"
   },
   "source": [
    "## Access 3-D Arrays"
   ]
  },
  {
   "cell_type": "code",
   "execution_count": 32,
   "metadata": {
    "colab": {
     "base_uri": "https://localhost:8080/"
    },
    "executionInfo": {
     "elapsed": 113,
     "status": "ok",
     "timestamp": 1665820970459,
     "user": {
      "displayName": "sree dhar",
      "userId": "18078165690993073471"
     },
     "user_tz": -330
    },
    "id": "R_ZTQVzxktDn",
    "outputId": "a87440a2-1c35-4a0f-e388-1db48820e914"
   },
   "outputs": [
    {
     "name": "stdout",
     "output_type": "stream",
     "text": [
      "6\n"
     ]
    }
   ],
   "source": [
    "import numpy as np\n",
    "\n",
    "arr = np.array([[[1, 2, 3], [4, 5, 6]], [[7, 8, 9], [10, 11, 12]]])\n",
    "\n",
    "print(arr[0, 1, 2])\n",
    "\n",
    "# arr => [[[1, 2, 3], [4, 5, 6]], [[7, 8, 9], [10, 11, 12]]]\n",
    "# 0 => [[1, 2, 3], [4, 5, 6]]\n",
    "# 1 => [4, 5, 6]\n",
    "# 2 => 6\n"
   ]
  },
  {
   "cell_type": "markdown",
   "metadata": {
    "id": "ttmn-HbVkvC-"
   },
   "source": [
    "## Negative Indexing\n",
    "- to access an array from the end"
   ]
  },
  {
   "cell_type": "code",
   "execution_count": 33,
   "metadata": {
    "colab": {
     "base_uri": "https://localhost:8080/"
    },
    "executionInfo": {
     "elapsed": 110,
     "status": "ok",
     "timestamp": 1665820970460,
     "user": {
      "displayName": "sree dhar",
      "userId": "18078165690993073471"
     },
     "user_tz": -330
    },
    "id": "q96CYsEakxEj",
    "outputId": "dd8c0077-c2a1-4213-accf-81256310354d"
   },
   "outputs": [
    {
     "name": "stdout",
     "output_type": "stream",
     "text": [
      "Last element from 2nd dim:  10\n"
     ]
    }
   ],
   "source": [
    "import numpy as np\n",
    "\n",
    "arr = np.array([[1,2,3,4,5], [6,7,8,9,10]])\n",
    "\n",
    "print('Last element from 2nd dim: ', arr[1, -1])\n"
   ]
  },
  {
   "cell_type": "markdown",
   "metadata": {
    "id": "HZYdZiMFkzuJ"
   },
   "source": [
    "# NumPy Array Slicing"
   ]
  },
  {
   "cell_type": "markdown",
   "metadata": {},
   "source": [
    "- taking elements from one given index to another given index\n",
    "- [start:end] or [start:end:step]\n",
    "- default [0:len:1]\n",
    "- The result includes the start index, but excludes the end index."
   ]
  },
  {
   "cell_type": "markdown",
   "metadata": {
    "id": "DPZCTWJtk8UR"
   },
   "source": [
    "### Slicing arrays"
   ]
  },
  {
   "cell_type": "code",
   "execution_count": 39,
   "metadata": {
    "colab": {
     "base_uri": "https://localhost:8080/"
    },
    "executionInfo": {
     "elapsed": 108,
     "status": "ok",
     "timestamp": 1665820970464,
     "user": {
      "displayName": "sree dhar",
      "userId": "18078165690993073471"
     },
     "user_tz": -330
    },
    "id": "TIzTfmRDlAaV",
    "outputId": "69cfe8e8-0489-4d5b-fcb2-1e9dd5c74f75"
   },
   "outputs": [
    {
     "name": "stdout",
     "output_type": "stream",
     "text": [
      "[2 3 4 5]\n"
     ]
    }
   ],
   "source": [
    "import numpy as np\n",
    "\n",
    "arr = np.array([1, 2, 3, 4, 5, 6, 7])\n",
    "\n",
    "# Slice elements from index 1 to index 5 (not included)\n",
    "print(arr[1:5])\n"
   ]
  },
  {
   "cell_type": "code",
   "execution_count": 40,
   "metadata": {
    "colab": {
     "base_uri": "https://localhost:8080/"
    },
    "executionInfo": {
     "elapsed": 105,
     "status": "ok",
     "timestamp": 1665820970466,
     "user": {
      "displayName": "sree dhar",
      "userId": "18078165690993073471"
     },
     "user_tz": -330
    },
    "id": "V1vKFhI8lBt_",
    "outputId": "86ef233d-74eb-43ae-f524-75a23e8c3bdf"
   },
   "outputs": [
    {
     "name": "stdout",
     "output_type": "stream",
     "text": [
      "[5 6 7]\n"
     ]
    }
   ],
   "source": [
    "import numpy as np\n",
    "\n",
    "arr = np.array([1, 2, 3, 4, 5, 6, 7])\n",
    "\n",
    "# Slice elements from index 4 to the end of the array\n",
    "print(arr[4:])\n"
   ]
  },
  {
   "cell_type": "code",
   "execution_count": 42,
   "metadata": {
    "colab": {
     "base_uri": "https://localhost:8080/"
    },
    "executionInfo": {
     "elapsed": 102,
     "status": "ok",
     "timestamp": 1665820970469,
     "user": {
      "displayName": "sree dhar",
      "userId": "18078165690993073471"
     },
     "user_tz": -330
    },
    "id": "i8qAKow_lC1e",
    "outputId": "4a83a09a-fb9d-4e47-9028-cbe61c8d16b9"
   },
   "outputs": [
    {
     "name": "stdout",
     "output_type": "stream",
     "text": [
      "[1 2 3 4]\n"
     ]
    }
   ],
   "source": [
    "import numpy as np\n",
    "\n",
    "arr = np.array([1, 2, 3, 4, 5, 6, 7])\n",
    "\n",
    "# Slice elements from the beginning to index 4 (not included)\n",
    "print(arr[:4])\n"
   ]
  },
  {
   "cell_type": "markdown",
   "metadata": {
    "id": "I5tMaXuPlGqb"
   },
   "source": [
    "## Negative Slicing"
   ]
  },
  {
   "cell_type": "markdown",
   "metadata": {},
   "source": [
    "- Use the minus operator to refer to an index from the end/right\n",
    "- negative index starts from -1"
   ]
  },
  {
   "cell_type": "code",
   "execution_count": 43,
   "metadata": {
    "colab": {
     "base_uri": "https://localhost:8080/"
    },
    "executionInfo": {
     "elapsed": 100,
     "status": "ok",
     "timestamp": 1665820970470,
     "user": {
      "displayName": "sree dhar",
      "userId": "18078165690993073471"
     },
     "user_tz": -330
    },
    "id": "nQ2DJGRTlIux",
    "outputId": "5260ff26-e1aa-466d-f9c9-9068957b61d0"
   },
   "outputs": [
    {
     "name": "stdout",
     "output_type": "stream",
     "text": [
      "[5 6]\n"
     ]
    }
   ],
   "source": [
    "import numpy as np\n",
    "\n",
    "arr = np.array([1, 2, 3, 4, 5, 6, 7])\n",
    "\n",
    "print(arr[-3:-1])\n"
   ]
  },
  {
   "cell_type": "markdown",
   "metadata": {
    "id": "1oOf2wdclKZV"
   },
   "source": [
    "## STEP"
   ]
  },
  {
   "cell_type": "code",
   "execution_count": 44,
   "metadata": {
    "colab": {
     "base_uri": "https://localhost:8080/"
    },
    "executionInfo": {
     "elapsed": 97,
     "status": "ok",
     "timestamp": 1665820970472,
     "user": {
      "displayName": "sree dhar",
      "userId": "18078165690993073471"
     },
     "user_tz": -330
    },
    "id": "dPpRoNgNlMlv",
    "outputId": "d07ebbf1-3755-4d4c-ff9c-818eede59552"
   },
   "outputs": [
    {
     "name": "stdout",
     "output_type": "stream",
     "text": [
      "[2 4]\n"
     ]
    }
   ],
   "source": [
    "import numpy as np\n",
    "\n",
    "arr = np.array([1, 2, 3, 4, 5, 6, 7])\n",
    "\n",
    "# Return every other/alternate element from index 1 to index 5\n",
    "print(arr[1:5:2])\n"
   ]
  },
  {
   "cell_type": "code",
   "execution_count": 45,
   "metadata": {
    "colab": {
     "base_uri": "https://localhost:8080/"
    },
    "executionInfo": {
     "elapsed": 96,
     "status": "ok",
     "timestamp": 1665820970474,
     "user": {
      "displayName": "sree dhar",
      "userId": "18078165690993073471"
     },
     "user_tz": -330
    },
    "id": "Dv6ZBobblO7L",
    "outputId": "9ca1ed45-88d4-4dc6-8400-3d29c2c334bd"
   },
   "outputs": [
    {
     "name": "stdout",
     "output_type": "stream",
     "text": [
      "[1 3 5 7]\n"
     ]
    }
   ],
   "source": [
    "import numpy as np\n",
    "\n",
    "arr = np.array([1, 2, 3, 4, 5, 6, 7])\n",
    "\n",
    "# Return every other element from entire array\n",
    "print(arr[::2])\n"
   ]
  },
  {
   "cell_type": "markdown",
   "metadata": {
    "id": "Nf8xbjn3lQ6S"
   },
   "source": [
    "## Slicing 2-D Arrays"
   ]
  },
  {
   "cell_type": "code",
   "execution_count": 46,
   "metadata": {
    "colab": {
     "base_uri": "https://localhost:8080/"
    },
    "executionInfo": {
     "elapsed": 94,
     "status": "ok",
     "timestamp": 1665820970475,
     "user": {
      "displayName": "sree dhar",
      "userId": "18078165690993073471"
     },
     "user_tz": -330
    },
    "id": "3NXuYJz1lTUT",
    "outputId": "ab35ed68-211d-46c5-8eec-1772385b2e82"
   },
   "outputs": [
    {
     "name": "stdout",
     "output_type": "stream",
     "text": [
      "[7 8 9]\n"
     ]
    }
   ],
   "source": [
    "import numpy as np\n",
    "\n",
    "arr = np.array([[1, 2, 3, 4, 5], [6, 7, 8, 9, 10]])\n",
    "\n",
    "# From the second element, slice elements from index 1 to index 4 (not included)\n",
    "print(arr[1, 1:4]) \n"
   ]
  },
  {
   "cell_type": "code",
   "execution_count": 50,
   "metadata": {
    "colab": {
     "base_uri": "https://localhost:8080/"
    },
    "executionInfo": {
     "elapsed": 93,
     "status": "ok",
     "timestamp": 1665820970477,
     "user": {
      "displayName": "sree dhar",
      "userId": "18078165690993073471"
     },
     "user_tz": -330
    },
    "id": "bk3XHolslUdh",
    "outputId": "5d3342c3-e9d8-4f97-e367-1dcf28847e8f"
   },
   "outputs": [
    {
     "name": "stdout",
     "output_type": "stream",
     "text": [
      "[3 8]\n"
     ]
    }
   ],
   "source": [
    "import numpy as np\n",
    "\n",
    "arr = np.array([[1, 2, 3, 4, 5], [6, 7, 8, 9, 10]])\n",
    "\n",
    "# From both elements, return index 2\n",
    "print(arr[0:2, 2])\n"
   ]
  },
  {
   "cell_type": "code",
   "execution_count": 51,
   "metadata": {
    "colab": {
     "base_uri": "https://localhost:8080/"
    },
    "executionInfo": {
     "elapsed": 650,
     "status": "ok",
     "timestamp": 1665820971043,
     "user": {
      "displayName": "sree dhar",
      "userId": "18078165690993073471"
     },
     "user_tz": -330
    },
    "id": "bp68Zr4rlVyv",
    "outputId": "b7b8f13d-968f-481c-f1f6-92d7da02f5c1"
   },
   "outputs": [
    {
     "name": "stdout",
     "output_type": "stream",
     "text": [
      "[[2 3 4]\n",
      " [7 8 9]]\n"
     ]
    }
   ],
   "source": [
    "import numpy as np\n",
    "\n",
    "arr = np.array([[1, 2, 3, 4, 5], [6, 7, 8, 9, 10]])\n",
    "\n",
    "# From both elements, slice index 1 to index 4 (not included)\n",
    "# this will return a 2-D array (2x3)\n",
    "print(arr[0:2, 1:4])\n"
   ]
  },
  {
   "cell_type": "markdown",
   "metadata": {
    "id": "rIlPAjSblYba"
   },
   "source": [
    "# NumPy Data Types"
   ]
  },
  {
   "cell_type": "markdown",
   "metadata": {},
   "source": [
    "Python data types:\n",
    "- strings - used to represent text data, the text is given under quote marks. e.g. \"ABCD\"\n",
    "- integer - used to represent integer numbers. e.g. -1, -2, -3\n",
    "- float - used to represent real numbers. e.g. 1.2, 42.42\n",
    "- boolean - used to represent True or False.\n",
    "- complex - used to represent complex numbers. e.g. 1.0 + 2.0j, 1.5 + 2.5j"
   ]
  },
  {
   "cell_type": "markdown",
   "metadata": {},
   "source": [
    "Numpy data - types:\n",
    "- i - integer\n",
    "- b - boolean\n",
    "- u - unsigned integer\n",
    "- f - float\n",
    "- c - complex\n",
    "- O - object\n",
    "- S - string\n",
    "- U - unicode string\n",
    "- M - datetime"
   ]
  },
  {
   "cell_type": "markdown",
   "metadata": {
    "id": "dlYN3N9ClcR1"
   },
   "source": [
    "## Checking the Data Type of an Array"
   ]
  },
  {
   "cell_type": "code",
   "execution_count": 72,
   "metadata": {
    "colab": {
     "base_uri": "https://localhost:8080/"
    },
    "executionInfo": {
     "elapsed": 77,
     "status": "ok",
     "timestamp": 1665820971045,
     "user": {
      "displayName": "sree dhar",
      "userId": "18078165690993073471"
     },
     "user_tz": -330
    },
    "id": "bOXaOLNTle7S",
    "outputId": "dab33a2b-d8db-47c9-ce93-c6ebd9687b8d"
   },
   "outputs": [
    {
     "name": "stdout",
     "output_type": "stream",
     "text": [
      "bool\n",
      "int32\n"
     ]
    }
   ],
   "source": [
    "import numpy as np\n",
    "\n",
    "arr = np.array([True, False])\n",
    "print(arr.dtype)\n",
    "\n",
    "arr = np.array([1, 2, 3, 4])\n",
    "print(arr.dtype)\n",
    "\n",
    "# print(type(arr))\n"
   ]
  },
  {
   "cell_type": "code",
   "execution_count": 78,
   "metadata": {
    "colab": {
     "base_uri": "https://localhost:8080/"
    },
    "executionInfo": {
     "elapsed": 75,
     "status": "ok",
     "timestamp": 1665820971047,
     "user": {
      "displayName": "sree dhar",
      "userId": "18078165690993073471"
     },
     "user_tz": -330
    },
    "id": "YaoRo_Z2lgAq",
    "outputId": "9d84284c-17a2-4fb1-ea8c-9f185126428e"
   },
   "outputs": [
    {
     "name": "stdout",
     "output_type": "stream",
     "text": [
      "<U6\n"
     ]
    }
   ],
   "source": [
    "import numpy as np\n",
    "\n",
    "arr = np.array(['apple', 'banana', 'cherry'])\n",
    "print(arr.dtype)"
   ]
  },
  {
   "cell_type": "markdown",
   "metadata": {
    "id": "cYvcwkzKlilF"
   },
   "source": [
    "## Creating Arrays With a Defined Data Type"
   ]
  },
  {
   "cell_type": "code",
   "execution_count": 80,
   "metadata": {
    "colab": {
     "base_uri": "https://localhost:8080/"
    },
    "executionInfo": {
     "elapsed": 71,
     "status": "ok",
     "timestamp": 1665820971048,
     "user": {
      "displayName": "sree dhar",
      "userId": "18078165690993073471"
     },
     "user_tz": -330
    },
    "id": "GInOROpulk1l",
    "outputId": "e1d98691-7e95-454a-83b9-30916a57e45d"
   },
   "outputs": [
    {
     "name": "stdout",
     "output_type": "stream",
     "text": [
      "[b'1' b'2' b'3' b'4']\n",
      "|S1\n"
     ]
    }
   ],
   "source": [
    "import numpy as np\n",
    "\n",
    "arr = np.array([1, 2, 3, 4], dtype='S')\n",
    "\n",
    "print(arr)\n",
    "print(arr.dtype)\n"
   ]
  },
  {
   "cell_type": "code",
   "execution_count": 82,
   "metadata": {
    "colab": {
     "base_uri": "https://localhost:8080/"
    },
    "executionInfo": {
     "elapsed": 70,
     "status": "ok",
     "timestamp": 1665820971050,
     "user": {
      "displayName": "sree dhar",
      "userId": "18078165690993073471"
     },
     "user_tz": -330
    },
    "id": "XUVXIjBgll0O",
    "outputId": "deeab04e-52bb-4b54-f82a-1cdfc708e543"
   },
   "outputs": [
    {
     "name": "stdout",
     "output_type": "stream",
     "text": [
      "[1 2 3 4]\n",
      "int32\n"
     ]
    }
   ],
   "source": [
    "import numpy as np\n",
    "\n",
    "arr = np.array([1, 2, 3, 4], dtype='i4')\n",
    "\n",
    "print(arr)\n",
    "print(arr.dtype)\n"
   ]
  },
  {
   "cell_type": "markdown",
   "metadata": {
    "id": "pZ6vWhjDln-d"
   },
   "source": [
    "## What if a Value Can Not Be Converted?"
   ]
  },
  {
   "cell_type": "code",
   "execution_count": 94,
   "metadata": {
    "id": "QfGkOYKzlp98"
   },
   "outputs": [],
   "source": [
    "# import numpy as np\n",
    "# arr = np.array(['a', '2', '3'], dtype='i')\n",
    "\n",
    "# ValueError                                Traceback (most recent call last)\n",
    "# Input In [84], in <cell line: 3>()\n",
    "#       1 import numpy as np\n",
    "# ----> 3 arr = np.array(['a', '2', '3'], dtype='i')\n",
    "\n",
    "# ValueError: invalid literal for int() with base 10: 'a'"
   ]
  },
  {
   "cell_type": "markdown",
   "metadata": {
    "id": "kY-h1CuWlsV4"
   },
   "source": [
    "## Converting Data Type on Existing Arrays"
   ]
  },
  {
   "cell_type": "code",
   "execution_count": 89,
   "metadata": {
    "colab": {
     "base_uri": "https://localhost:8080/"
    },
    "executionInfo": {
     "elapsed": 1004,
     "status": "ok",
     "timestamp": 1665821006357,
     "user": {
      "displayName": "sree dhar",
      "userId": "18078165690993073471"
     },
     "user_tz": -330
    },
    "id": "anbC2NSrlvsc",
    "outputId": "958c5300-19b8-41dc-b289-685c72caee32"
   },
   "outputs": [
    {
     "name": "stdout",
     "output_type": "stream",
     "text": [
      "[1.1 2.1 3.1]\n",
      "float64\n",
      "[1 2 3]\n",
      "int32\n"
     ]
    }
   ],
   "source": [
    "import numpy as np\n",
    "\n",
    "arr = np.array([1.1, 2.1, 3.1])\n",
    "\n",
    "print(arr)\n",
    "print(arr.dtype)\n",
    "\n",
    "newarr = arr.astype('i')\n",
    "\n",
    "print(newarr)\n",
    "print(newarr.dtype)\n"
   ]
  },
  {
   "cell_type": "code",
   "execution_count": 92,
   "metadata": {
    "colab": {
     "base_uri": "https://localhost:8080/"
    },
    "executionInfo": {
     "elapsed": 174,
     "status": "ok",
     "timestamp": 1665821006360,
     "user": {
      "displayName": "sree dhar",
      "userId": "18078165690993073471"
     },
     "user_tz": -330
    },
    "id": "fGzgbQimlxL7",
    "outputId": "0a488b1f-b276-4a77-b21f-6d721e304fa3"
   },
   "outputs": [
    {
     "name": "stdout",
     "output_type": "stream",
     "text": [
      "[1.1 2.1 3.1]\n",
      "float64\n",
      "[1 2 3]\n",
      "int32\n"
     ]
    }
   ],
   "source": [
    "import numpy as np\n",
    "\n",
    "arr = np.array([1.1, 2.1, 3.1])\n",
    "print(arr)\n",
    "print(arr.dtype)\n",
    "\n",
    "newarr = arr.astype(int)\n",
    "print(newarr)\n",
    "print(newarr.dtype)\n"
   ]
  },
  {
   "cell_type": "code",
   "execution_count": 95,
   "metadata": {
    "colab": {
     "base_uri": "https://localhost:8080/"
    },
    "executionInfo": {
     "elapsed": 166,
     "status": "ok",
     "timestamp": 1665821006362,
     "user": {
      "displayName": "sree dhar",
      "userId": "18078165690993073471"
     },
     "user_tz": -330
    },
    "id": "DR6oC0qdlzSG",
    "outputId": "dd8aa322-9040-43c9-c791-57006496399a"
   },
   "outputs": [
    {
     "name": "stdout",
     "output_type": "stream",
     "text": [
      "[ True False  True]\n",
      "bool\n"
     ]
    }
   ],
   "source": [
    "import numpy as np\n",
    "\n",
    "arr = np.array([1, 0, 3])\n",
    "\n",
    "newarr = arr.astype(bool)\n",
    "\n",
    "print(newarr)\n",
    "print(newarr.dtype)\n"
   ]
  },
  {
   "cell_type": "markdown",
   "metadata": {
    "id": "luGKCMpZl3AQ"
   },
   "source": [
    "## NumPy Array Copy vs View"
   ]
  },
  {
   "cell_type": "markdown",
   "metadata": {
    "id": "DfNNlUqtmTt-"
   },
   "source": [
    "- copy: \n",
    "   - original array is diff from the copy. \n",
    "   - changes are not independent.\n",
    "   - ***copies owns the data***\n",
    "- view: \n",
    "   - view is referring to the original array. \n",
    "   - changes reflects on both.\n",
    "   - ***views doesnot own the data***"
   ]
  },
  {
   "cell_type": "code",
   "execution_count": 99,
   "metadata": {
    "colab": {
     "base_uri": "https://localhost:8080/"
    },
    "executionInfo": {
     "elapsed": 161,
     "status": "ok",
     "timestamp": 1665821006364,
     "user": {
      "displayName": "sree dhar",
      "userId": "18078165690993073471"
     },
     "user_tz": -330
    },
    "id": "bBr2a5fjmQjp",
    "outputId": "c667ce03-b255-4431-e863-f746d4257b06"
   },
   "outputs": [
    {
     "name": "stdout",
     "output_type": "stream",
     "text": [
      "[42  2  3  4  5]\n",
      "[1 2 3 4 5]\n"
     ]
    }
   ],
   "source": [
    "import numpy as np\n",
    "\n",
    "arr = np.array([1, 2, 3, 4, 5])\n",
    "\n",
    "x = arr.copy()\n",
    "arr[0] = 42\n",
    "\n",
    "print(arr)\n",
    "print(x)\n"
   ]
  },
  {
   "cell_type": "code",
   "execution_count": 103,
   "metadata": {
    "colab": {
     "base_uri": "https://localhost:8080/"
    },
    "executionInfo": {
     "elapsed": 154,
     "status": "ok",
     "timestamp": 1665821006367,
     "user": {
      "displayName": "sree dhar",
      "userId": "18078165690993073471"
     },
     "user_tz": -330
    },
    "id": "q_M2r-iJmVsj",
    "outputId": "a9c6c1e5-e173-4412-833c-1379722f1fe7"
   },
   "outputs": [
    {
     "name": "stdout",
     "output_type": "stream",
     "text": [
      "[42  2  3  4  5]\n",
      "[42  2  3  4  5]\n"
     ]
    }
   ],
   "source": [
    "import numpy as np\n",
    "\n",
    "arr = np.array([1, 2, 3, 4, 5])\n",
    "\n",
    "x = arr.view()\n",
    "arr[0] = 42 # original arr element is changed => view should be changed\n",
    "\n",
    "print(arr)\n",
    "print(x)\n"
   ]
  },
  {
   "cell_type": "code",
   "execution_count": 104,
   "metadata": {
    "colab": {
     "base_uri": "https://localhost:8080/"
    },
    "executionInfo": {
     "elapsed": 152,
     "status": "ok",
     "timestamp": 1665821006369,
     "user": {
      "displayName": "sree dhar",
      "userId": "18078165690993073471"
     },
     "user_tz": -330
    },
    "id": "eKTsJn_qmbYm",
    "outputId": "e4037663-3eb7-4d59-8978-785a61751aac"
   },
   "outputs": [
    {
     "name": "stdout",
     "output_type": "stream",
     "text": [
      "[31  2  3  4  5]\n",
      "[31  2  3  4  5]\n"
     ]
    }
   ],
   "source": [
    "import numpy as np\n",
    "\n",
    "arr = np.array([1, 2, 3, 4, 5])\n",
    "\n",
    "x = arr.view()\n",
    "x[0] = 31 # view element is changed => original arr should be changed\n",
    "\n",
    "print(arr)\n",
    "print(x)\n"
   ]
  },
  {
   "cell_type": "markdown",
   "metadata": {
    "id": "1DMNcue7mdUR"
   },
   "source": [
    "## Owns data?"
   ]
  },
  {
   "cell_type": "markdown",
   "metadata": {},
   "source": [
    "- owns => base returns None\n",
    "- doesnot own => base returns original array data"
   ]
  },
  {
   "cell_type": "code",
   "execution_count": 107,
   "metadata": {
    "colab": {
     "base_uri": "https://localhost:8080/"
    },
    "executionInfo": {
     "elapsed": 151,
     "status": "ok",
     "timestamp": 1665821006371,
     "user": {
      "displayName": "sree dhar",
      "userId": "18078165690993073471"
     },
     "user_tz": -330
    },
    "id": "q7dk-TDymfRS",
    "outputId": "cfbc934d-1b36-41a9-8486-6c53bb3c648b"
   },
   "outputs": [
    {
     "name": "stdout",
     "output_type": "stream",
     "text": [
      "None\n",
      "[1 2 3 4 5]\n"
     ]
    }
   ],
   "source": [
    "import numpy as np\n",
    "\n",
    "arr = np.array([1, 2, 3, 4, 5])\n",
    "\n",
    "x = arr.copy()\n",
    "y = arr.view()\n",
    "\n",
    "print(x.base)\n",
    "print(y.base)\n"
   ]
  },
  {
   "cell_type": "code",
   "execution_count": null,
   "metadata": {},
   "outputs": [],
   "source": [
    "np.save('my_array' , a)\n",
    "np.savez( 'array.npz', a, b)\n",
    "np.load( 'my_array.npy')"
   ]
  },
  {
   "cell_type": "markdown",
   "metadata": {
    "id": "hPldt3X2mjx1"
   },
   "source": [
    "# NumPy Array Shape"
   ]
  },
  {
   "cell_type": "markdown",
   "metadata": {},
   "source": [
    "- Shape: number of elements in each dimension"
   ]
  },
  {
   "cell_type": "markdown",
   "metadata": {
    "id": "9dhZwbvymnRo"
   },
   "source": [
    "## Get the Shape of an Array"
   ]
  },
  {
   "cell_type": "code",
   "execution_count": 112,
   "metadata": {
    "colab": {
     "base_uri": "https://localhost:8080/"
    },
    "executionInfo": {
     "elapsed": 150,
     "status": "ok",
     "timestamp": 1665821006373,
     "user": {
      "displayName": "sree dhar",
      "userId": "18078165690993073471"
     },
     "user_tz": -330
    },
    "id": "MBV4KMu3mpgZ",
    "outputId": "2a3eba2f-0bf3-41e9-b1d2-d72edd2b15d1"
   },
   "outputs": [
    {
     "name": "stdout",
     "output_type": "stream",
     "text": [
      "(2, 4)\n"
     ]
    }
   ],
   "source": [
    "import numpy as np\n",
    "\n",
    "arr = np.array([[1, 2, 3, 4], [5, 6, 7, 8]])\n",
    "\n",
    "print(arr.shape) # number of elements in each dimension\n"
   ]
  },
  {
   "cell_type": "code",
   "execution_count": 113,
   "metadata": {
    "colab": {
     "base_uri": "https://localhost:8080/"
    },
    "executionInfo": {
     "elapsed": 147,
     "status": "ok",
     "timestamp": 1665821006374,
     "user": {
      "displayName": "sree dhar",
      "userId": "18078165690993073471"
     },
     "user_tz": -330
    },
    "id": "Z1hw2fFDmq3F",
    "outputId": "80867e94-a752-47fa-eb04-c581e2eddcda"
   },
   "outputs": [
    {
     "name": "stdout",
     "output_type": "stream",
     "text": [
      "[[[[[1 2 3 4]]]]]\n",
      "shape of array : (1, 1, 1, 1, 4)\n"
     ]
    }
   ],
   "source": [
    "import numpy as np\n",
    "\n",
    "arr = np.array([1, 2, 3, 4], ndmin=5)\n",
    "\n",
    "print(arr)\n",
    "\n",
    "print('shape of array :', arr.shape) #number of elements in each dimension\n"
   ]
  },
  {
   "cell_type": "markdown",
   "metadata": {
    "id": "HCcXrF_-mtQ6"
   },
   "source": [
    "# NumPy Array Reshaping"
   ]
  },
  {
   "cell_type": "markdown",
   "metadata": {},
   "source": [
    "- By reshaping we can add or remove dimensions or change number of elements in each dimension.\n",
    "- Total number of elements will be equal, before and after reshape"
   ]
  },
  {
   "cell_type": "markdown",
   "metadata": {
    "id": "G5zeqrPImuj8"
   },
   "source": [
    "## Reshape From 1-D to 2-D"
   ]
  },
  {
   "cell_type": "code",
   "execution_count": 116,
   "metadata": {
    "colab": {
     "base_uri": "https://localhost:8080/"
    },
    "executionInfo": {
     "elapsed": 147,
     "status": "ok",
     "timestamp": 1665821006377,
     "user": {
      "displayName": "sree dhar",
      "userId": "18078165690993073471"
     },
     "user_tz": -330
    },
    "id": "nVhrLrF8mwIU",
    "outputId": "41797b3e-26e5-4341-de4a-ca261c6c6682"
   },
   "outputs": [
    {
     "name": "stdout",
     "output_type": "stream",
     "text": [
      "[[ 1  2  3]\n",
      " [ 4  5  6]\n",
      " [ 7  8  9]\n",
      " [10 11 12]]\n"
     ]
    }
   ],
   "source": [
    "import numpy as np\n",
    "\n",
    "arr = np.array([1, 2, 3, 4, 5, 6, 7, 8, 9, 10, 11, 12])\n",
    "\n",
    "newarr = arr.reshape(4, 3)\n",
    "print(newarr)\n"
   ]
  },
  {
   "cell_type": "markdown",
   "metadata": {
    "id": "_xV3n9RDmybr"
   },
   "source": [
    "## Reshape From 1-D to 3-D"
   ]
  },
  {
   "cell_type": "code",
   "execution_count": 117,
   "metadata": {
    "colab": {
     "base_uri": "https://localhost:8080/"
    },
    "executionInfo": {
     "elapsed": 145,
     "status": "ok",
     "timestamp": 1665821006379,
     "user": {
      "displayName": "sree dhar",
      "userId": "18078165690993073471"
     },
     "user_tz": -330
    },
    "id": "hoJ8OpGUmz7A",
    "outputId": "e9cdeb21-f813-4f07-bb65-f100dcc57cbc"
   },
   "outputs": [
    {
     "name": "stdout",
     "output_type": "stream",
     "text": [
      "[[[ 1  2]\n",
      "  [ 3  4]\n",
      "  [ 5  6]]\n",
      "\n",
      " [[ 7  8]\n",
      "  [ 9 10]\n",
      "  [11 12]]]\n"
     ]
    }
   ],
   "source": [
    "import numpy as np\n",
    "\n",
    "arr = np.array([1, 2, 3, 4, 5, 6, 7, 8, 9, 10, 11, 12])\n",
    "\n",
    "newarr = arr.reshape(2, 3, 2)\n",
    "\n",
    "print(newarr)"
   ]
  },
  {
   "cell_type": "markdown",
   "metadata": {
    "id": "IzCkB3-Hm2AQ"
   },
   "source": [
    "### Cannot reshape into any Shape"
   ]
  },
  {
   "cell_type": "code",
   "execution_count": 120,
   "metadata": {
    "colab": {
     "base_uri": "https://localhost:8080/",
     "height": 235
    },
    "executionInfo": {
     "elapsed": 143,
     "status": "error",
     "timestamp": 1665821006381,
     "user": {
      "displayName": "sree dhar",
      "userId": "18078165690993073471"
     },
     "user_tz": -330
    },
    "id": "7Blt0wHBm47z",
    "outputId": "5e3366b3-47b3-4968-d631-88395b367524"
   },
   "outputs": [],
   "source": [
    "# import numpy as np\n",
    "\n",
    "# arr = np.array([1, 2, 3, 4, 5, 6, 7, 8]) # 8 elements\n",
    "# newarr = arr.reshape(3, 3) # 9 elements => error\n",
    "# print(newarr)\n",
    "\n",
    "\n",
    "# ----> 4 newarr = arr.reshape(3, 3) # 9 elements => error\n",
    "# ValueError: cannot reshape array of size 8 into shape (3,3) \n"
   ]
  },
  {
   "cell_type": "code",
   "execution_count": 125,
   "metadata": {},
   "outputs": [
    {
     "name": "stdout",
     "output_type": "stream",
     "text": [
      "[[1 2]\n",
      " [3 4]\n",
      " [5 6]\n",
      " [7 8]] (4, 2)\n",
      "[[1 2 3 4]\n",
      " [5 6 7 8]] (2, 4)\n",
      "[[1 2 3 4 5 6 7 8]] (1, 8)\n",
      "[[1]\n",
      " [2]\n",
      " [3]\n",
      " [4]\n",
      " [5]\n",
      " [6]\n",
      " [7]\n",
      " [8]] (8, 1)\n"
     ]
    }
   ],
   "source": [
    "import numpy as np\n",
    "\n",
    "arr = np.array([1, 2, 3, 4, 5, 6, 7, 8]) # 8 elements\n",
    "\n",
    "newarr = arr.reshape(4, 2) # 8 elements\n",
    "print(newarr,newarr.shape)\n",
    "newarr = arr.reshape(2, 4) # 8 elements \n",
    "print(newarr,newarr.shape)\n",
    "newarr = arr.reshape(1, 8) # 8 elements \n",
    "print(newarr,newarr.shape)\n",
    "newarr = arr.reshape(8, 1) # 8 elements \n",
    "print(newarr,newarr.shape)\n"
   ]
  },
  {
   "cell_type": "markdown",
   "metadata": {
    "id": "tYzbgrUim6D4"
   },
   "source": [
    "## Returns Copy or View?"
   ]
  },
  {
   "cell_type": "code",
   "execution_count": 127,
   "metadata": {
    "colab": {
     "base_uri": "https://localhost:8080/"
    },
    "executionInfo": {
     "elapsed": 594,
     "status": "ok",
     "timestamp": 1665821032320,
     "user": {
      "displayName": "sree dhar",
      "userId": "18078165690993073471"
     },
     "user_tz": -330
    },
    "id": "46_a_GHbm7z7",
    "outputId": "e4d32d8f-7c50-44da-cfc3-8dd76a6cf175"
   },
   "outputs": [
    {
     "name": "stdout",
     "output_type": "stream",
     "text": [
      "[1 2 3 4 5 6 7 8]\n"
     ]
    }
   ],
   "source": [
    "import numpy as np\n",
    "\n",
    "arr = np.array([1, 2, 3, 4, 5, 6, 7, 8])\n",
    "\n",
    "print(arr.reshape(2, 4).base) # base returned original array => view"
   ]
  },
  {
   "cell_type": "markdown",
   "metadata": {
    "id": "I4YcrCuPm9R8"
   },
   "source": [
    "## Unknown Dimension"
   ]
  },
  {
   "cell_type": "markdown",
   "metadata": {},
   "source": [
    "- Allowed to have one \"unknown\" dimension.\n",
    "- Do not have to specify an exact number for one of the dimensions in the reshape method.\n",
    "- Pass -1 as the value, and NumPy will calculate this number for us.\n",
    "- We can not pass -1 to more than one dimension."
   ]
  },
  {
   "cell_type": "code",
   "execution_count": 129,
   "metadata": {
    "colab": {
     "base_uri": "https://localhost:8080/"
    },
    "executionInfo": {
     "elapsed": 675,
     "status": "ok",
     "timestamp": 1665821040589,
     "user": {
      "displayName": "sree dhar",
      "userId": "18078165690993073471"
     },
     "user_tz": -330
    },
    "id": "F6MvC5Cnm-kC",
    "outputId": "a37d591a-afe1-48fa-9014-2ac01957c3b4"
   },
   "outputs": [
    {
     "name": "stdout",
     "output_type": "stream",
     "text": [
      "[[[1 2]\n",
      "  [3 4]]\n",
      "\n",
      " [[5 6]\n",
      "  [7 8]]]\n"
     ]
    }
   ],
   "source": [
    "import numpy as np\n",
    "\n",
    "arr = np.array([1, 2, 3, 4, 5, 6, 7, 8]) # (1,8) => 8 elements\n",
    "\n",
    "newarr = arr.reshape(2, 2, -1) # (2,2,-1) => (2,2,?) 2*2*? = 8 => ? = 2\n",
    "\n",
    "print(newarr)\n"
   ]
  },
  {
   "cell_type": "markdown",
   "metadata": {
    "id": "HFt6Pr_rnAGO"
   },
   "source": [
    "## Flattening the arrays (n-d to 1-d)"
   ]
  },
  {
   "cell_type": "code",
   "execution_count": 132,
   "metadata": {
    "colab": {
     "base_uri": "https://localhost:8080/"
    },
    "executionInfo": {
     "elapsed": 530,
     "status": "ok",
     "timestamp": 1665821061768,
     "user": {
      "displayName": "sree dhar",
      "userId": "18078165690993073471"
     },
     "user_tz": -330
    },
    "id": "8aseBizTnBTX",
    "outputId": "412c93e0-1217-429c-faed-379d47726a18"
   },
   "outputs": [
    {
     "name": "stdout",
     "output_type": "stream",
     "text": [
      "(2, 3)\n",
      "[1 2 3 4 5 6]\n"
     ]
    }
   ],
   "source": [
    "import numpy as np\n",
    "\n",
    "arr = np.array([[1, 2, 3], [4, 5, 6]])\n",
    "\n",
    "print(arr.shape)\n",
    "\n",
    "newarr = arr.reshape(-1) # 1-d\n",
    "\n",
    "print(newarr)"
   ]
  },
  {
   "cell_type": "markdown",
   "metadata": {
    "id": "c-9Z5zL5nDfv"
   },
   "source": [
    "# NumPy Array Iterating"
   ]
  },
  {
   "cell_type": "markdown",
   "metadata": {
    "id": "kGW0dZaGqRkM"
   },
   "source": [
    "## Iterating Arrays"
   ]
  },
  {
   "cell_type": "code",
   "execution_count": null,
   "metadata": {
    "colab": {
     "base_uri": "https://localhost:8080/"
    },
    "executionInfo": {
     "elapsed": 43,
     "status": "ok",
     "timestamp": 1665821062818,
     "user": {
      "displayName": "sree dhar",
      "userId": "18078165690993073471"
     },
     "user_tz": -330
    },
    "id": "c35wCgAjqTle",
    "outputId": "402f9186-063d-49db-8d2d-78457310f941"
   },
   "outputs": [
    {
     "name": "stdout",
     "output_type": "stream",
     "text": [
      "1\n",
      "2\n",
      "3\n"
     ]
    }
   ],
   "source": [
    "import numpy as np\n",
    "\n",
    "arr = np.array([1, 2, 3])\n",
    "\n",
    "for x in arr:\n",
    "  print(x)\n"
   ]
  },
  {
   "cell_type": "markdown",
   "metadata": {
    "id": "JDYJX_hyqVn9"
   },
   "source": [
    "## Iterating 2-D Arrays"
   ]
  },
  {
   "cell_type": "code",
   "execution_count": null,
   "metadata": {
    "colab": {
     "base_uri": "https://localhost:8080/"
    },
    "executionInfo": {
     "elapsed": 39,
     "status": "ok",
     "timestamp": 1665821062819,
     "user": {
      "displayName": "sree dhar",
      "userId": "18078165690993073471"
     },
     "user_tz": -330
    },
    "id": "vsB0F4yRqYen",
    "outputId": "6d2782ff-62c5-4eeb-eb53-1422c9b16dd0"
   },
   "outputs": [
    {
     "name": "stdout",
     "output_type": "stream",
     "text": [
      "[1 2 3]\n",
      "[4 5 6]\n"
     ]
    }
   ],
   "source": [
    "import numpy as np\n",
    "\n",
    "arr = np.array([[1, 2, 3], [4, 5, 6]])\n",
    "\n",
    "for x in arr:\n",
    "  print(x)\n"
   ]
  },
  {
   "cell_type": "code",
   "execution_count": null,
   "metadata": {
    "colab": {
     "base_uri": "https://localhost:8080/"
    },
    "executionInfo": {
     "elapsed": 38,
     "status": "ok",
     "timestamp": 1665821062821,
     "user": {
      "displayName": "sree dhar",
      "userId": "18078165690993073471"
     },
     "user_tz": -330
    },
    "id": "ackXPv3zqbNd",
    "outputId": "658174b9-9c80-45a8-b8c7-e23cf1e9c107"
   },
   "outputs": [
    {
     "name": "stdout",
     "output_type": "stream",
     "text": [
      "1\n",
      "2\n",
      "3\n",
      "4\n",
      "5\n",
      "6\n"
     ]
    }
   ],
   "source": [
    "import numpy as np\n",
    "\n",
    "arr = np.array([[1, 2, 3], [4, 5, 6]])\n",
    "\n",
    "for x in arr:\n",
    "  for y in x:\n",
    "    print(y)\n"
   ]
  },
  {
   "cell_type": "markdown",
   "metadata": {
    "id": "rqcsj1quqdTd"
   },
   "source": [
    "\n",
    "## Iterating 3-D Arrays"
   ]
  },
  {
   "cell_type": "code",
   "execution_count": null,
   "metadata": {
    "colab": {
     "base_uri": "https://localhost:8080/"
    },
    "executionInfo": {
     "elapsed": 37,
     "status": "ok",
     "timestamp": 1665821062822,
     "user": {
      "displayName": "sree dhar",
      "userId": "18078165690993073471"
     },
     "user_tz": -330
    },
    "id": "3u9EkzS-qhg6",
    "outputId": "5004a05b-90e5-4ee7-8415-563daeb5dca7"
   },
   "outputs": [
    {
     "name": "stdout",
     "output_type": "stream",
     "text": [
      "x represents the 2-D array:\n",
      "[[1 2 3]\n",
      " [4 5 6]]\n",
      "x represents the 2-D array:\n",
      "[[ 7  8  9]\n",
      " [10 11 12]]\n"
     ]
    }
   ],
   "source": [
    "import numpy as np\n",
    "\n",
    "arr = np.array([[[1, 2, 3], [4, 5, 6]], [[7, 8, 9], [10, 11, 12]]])\n",
    "\n",
    "for x in arr:\n",
    "  print(\"x represents the 2-D array:\")\n",
    "  print(x)\n"
   ]
  },
  {
   "cell_type": "code",
   "execution_count": null,
   "metadata": {
    "colab": {
     "base_uri": "https://localhost:8080/"
    },
    "executionInfo": {
     "elapsed": 35,
     "status": "ok",
     "timestamp": 1665821062823,
     "user": {
      "displayName": "sree dhar",
      "userId": "18078165690993073471"
     },
     "user_tz": -330
    },
    "id": "lObFwULjqiv1",
    "outputId": "7871d1a4-c079-4e53-dabd-7c40e66c0a24"
   },
   "outputs": [
    {
     "name": "stdout",
     "output_type": "stream",
     "text": [
      "1\n",
      "2\n",
      "3\n",
      "4\n",
      "5\n",
      "6\n",
      "7\n",
      "8\n",
      "9\n",
      "10\n",
      "11\n",
      "12\n"
     ]
    }
   ],
   "source": [
    "import numpy as np\n",
    "\n",
    "arr = np.array([[[1, 2, 3], [4, 5, 6]], [[7, 8, 9], [10, 11, 12]]])\n",
    "\n",
    "for x in arr:\n",
    "  for y in x:\n",
    "    for z in y:\n",
    "      print(z)\n"
   ]
  },
  {
   "cell_type": "markdown",
   "metadata": {
    "id": "R_pBXrQfqlPv"
   },
   "source": [
    "## Iterating on Each Scalar Element"
   ]
  },
  {
   "cell_type": "code",
   "execution_count": null,
   "metadata": {
    "colab": {
     "base_uri": "https://localhost:8080/"
    },
    "executionInfo": {
     "elapsed": 33,
     "status": "ok",
     "timestamp": 1665821062824,
     "user": {
      "displayName": "sree dhar",
      "userId": "18078165690993073471"
     },
     "user_tz": -330
    },
    "id": "B_LoMXDhqm_7",
    "outputId": "9a6b5946-59f1-43e1-cc8e-abea65dd64c4"
   },
   "outputs": [
    {
     "name": "stdout",
     "output_type": "stream",
     "text": [
      "1\n",
      "2\n",
      "3\n",
      "4\n",
      "5\n",
      "6\n",
      "7\n",
      "8\n"
     ]
    }
   ],
   "source": [
    "import numpy as np\n",
    "\n",
    "arr = np.array([[[1, 2], [3, 4]], [[5, 6], [7, 8]]])\n",
    "\n",
    "for x in np.nditer(arr):\n",
    "  print(x)"
   ]
  },
  {
   "cell_type": "markdown",
   "metadata": {
    "id": "QriUYVA_qoWw"
   },
   "source": [
    "## Iterating Array With Different Data Types"
   ]
  },
  {
   "cell_type": "code",
   "execution_count": null,
   "metadata": {
    "colab": {
     "base_uri": "https://localhost:8080/"
    },
    "executionInfo": {
     "elapsed": 31,
     "status": "ok",
     "timestamp": 1665821062825,
     "user": {
      "displayName": "sree dhar",
      "userId": "18078165690993073471"
     },
     "user_tz": -330
    },
    "id": "qaz7J9FKqqhF",
    "outputId": "e6cfe94b-9702-4ac8-98ab-1b31819dc7ad"
   },
   "outputs": [
    {
     "name": "stdout",
     "output_type": "stream",
     "text": [
      "b'1'\n",
      "b'2'\n",
      "b'3'\n"
     ]
    }
   ],
   "source": [
    "import numpy as np\n",
    "\n",
    "arr = np.array([1, 2, 3])\n",
    "\n",
    "for x in np.nditer(arr, flags=['buffered'], op_dtypes=['S']):\n",
    "  print(x)\n"
   ]
  },
  {
   "cell_type": "markdown",
   "metadata": {
    "id": "2GvLUoaVqr9b"
   },
   "source": [
    "## Iterating With Different Step Size"
   ]
  },
  {
   "cell_type": "code",
   "execution_count": null,
   "metadata": {
    "colab": {
     "base_uri": "https://localhost:8080/"
    },
    "executionInfo": {
     "elapsed": 30,
     "status": "ok",
     "timestamp": 1665821062827,
     "user": {
      "displayName": "sree dhar",
      "userId": "18078165690993073471"
     },
     "user_tz": -330
    },
    "id": "WvZU7U5zqtjO",
    "outputId": "388aa09f-99f2-4ab9-d8f6-f42fab573d86"
   },
   "outputs": [
    {
     "name": "stdout",
     "output_type": "stream",
     "text": [
      "1\n",
      "3\n",
      "5\n",
      "7\n"
     ]
    }
   ],
   "source": [
    "import numpy as np\n",
    "\n",
    "arr = np.array([[1, 2, 3, 4], [5, 6, 7, 8]])\n",
    "\n",
    "for x in np.nditer(arr[:, ::2]):\n",
    "  print(x)"
   ]
  },
  {
   "cell_type": "markdown",
   "metadata": {
    "id": "svFGrViVqutz"
   },
   "source": [
    "## Enumerated Iteration Using ndenumerate()"
   ]
  },
  {
   "cell_type": "code",
   "execution_count": null,
   "metadata": {
    "colab": {
     "base_uri": "https://localhost:8080/"
    },
    "executionInfo": {
     "elapsed": 28,
     "status": "ok",
     "timestamp": 1665821062828,
     "user": {
      "displayName": "sree dhar",
      "userId": "18078165690993073471"
     },
     "user_tz": -330
    },
    "id": "N__XRaPCqwfl",
    "outputId": "a53a686a-124a-43e3-a3d8-9c75144f37f0"
   },
   "outputs": [
    {
     "name": "stdout",
     "output_type": "stream",
     "text": [
      "(0,) 1\n",
      "(1,) 2\n",
      "(2,) 3\n"
     ]
    }
   ],
   "source": [
    "import numpy as np\n",
    "\n",
    "arr = np.array([1, 2, 3])\n",
    "\n",
    "for idx, x in np.ndenumerate(arr):\n",
    "  print(idx, x)"
   ]
  },
  {
   "cell_type": "markdown",
   "metadata": {
    "id": "Ibp_yylVqxyO"
   },
   "source": [
    "import numpy as np\n",
    "\n",
    "arr = np.array([[1, 2, 3, 4], [5, 6, 7, 8]])\n",
    "\n",
    "for idx, x in np.ndenumerate(arr):\n",
    "  print(idx, x)"
   ]
  },
  {
   "cell_type": "markdown",
   "metadata": {
    "id": "DV3IhzNOq06H"
   },
   "source": [
    "# NumPy Joining Array"
   ]
  },
  {
   "cell_type": "markdown",
   "metadata": {
    "id": "r-4BGa3-q3xr"
   },
   "source": [
    "## Joining NumPy Arrays"
   ]
  },
  {
   "cell_type": "code",
   "execution_count": null,
   "metadata": {
    "colab": {
     "base_uri": "https://localhost:8080/"
    },
    "executionInfo": {
     "elapsed": 687,
     "status": "ok",
     "timestamp": 1665821063489,
     "user": {
      "displayName": "sree dhar",
      "userId": "18078165690993073471"
     },
     "user_tz": -330
    },
    "id": "0_wu3QZfq7KX",
    "outputId": "d727437c-dd01-4a8b-ec1f-cb6afa549bb7"
   },
   "outputs": [
    {
     "name": "stdout",
     "output_type": "stream",
     "text": [
      "[1 2 3 4 5 6]\n"
     ]
    }
   ],
   "source": [
    "import numpy as np\n",
    "\n",
    "arr1 = np.array([1, 2, 3])\n",
    "\n",
    "arr2 = np.array([4, 5, 6])\n",
    "\n",
    "arr = np.concatenate((arr1, arr2))\n",
    "\n",
    "print(arr)"
   ]
  },
  {
   "cell_type": "code",
   "execution_count": null,
   "metadata": {
    "colab": {
     "base_uri": "https://localhost:8080/"
    },
    "executionInfo": {
     "elapsed": 106,
     "status": "ok",
     "timestamp": 1665821063490,
     "user": {
      "displayName": "sree dhar",
      "userId": "18078165690993073471"
     },
     "user_tz": -330
    },
    "id": "kA3wrc5pq8ra",
    "outputId": "7d04b1a4-bdc1-4cac-9c2d-e8eba69a68b1"
   },
   "outputs": [
    {
     "name": "stdout",
     "output_type": "stream",
     "text": [
      "[[1 2 5 6]\n",
      " [3 4 7 8]]\n"
     ]
    }
   ],
   "source": [
    "import numpy as np\n",
    "\n",
    "arr1 = np.array([[1, 2], [3, 4]])\n",
    "\n",
    "arr2 = np.array([[5, 6], [7, 8]])\n",
    "\n",
    "arr = np.concatenate((arr1, arr2), axis=1)\n",
    "\n",
    "print(arr)"
   ]
  },
  {
   "cell_type": "markdown",
   "metadata": {
    "id": "7vQt4MTOq-Ny"
   },
   "source": [
    "## Joining Arrays Using Stack Functions"
   ]
  },
  {
   "cell_type": "code",
   "execution_count": null,
   "metadata": {
    "colab": {
     "base_uri": "https://localhost:8080/"
    },
    "executionInfo": {
     "elapsed": 102,
     "status": "ok",
     "timestamp": 1665821063491,
     "user": {
      "displayName": "sree dhar",
      "userId": "18078165690993073471"
     },
     "user_tz": -330
    },
    "id": "ace12KwIq_s1",
    "outputId": "1dc29aaa-9d9a-4422-9299-8440cbe2d71a"
   },
   "outputs": [
    {
     "name": "stdout",
     "output_type": "stream",
     "text": [
      "[[1 4]\n",
      " [2 5]\n",
      " [3 6]]\n"
     ]
    }
   ],
   "source": [
    "import numpy as np\n",
    "\n",
    "arr1 = np.array([1, 2, 3])\n",
    "\n",
    "arr2 = np.array([4, 5, 6])\n",
    "\n",
    "arr = np.stack((arr1, arr2), axis=1)\n",
    "\n",
    "print(arr)"
   ]
  },
  {
   "cell_type": "markdown",
   "metadata": {
    "id": "CjZZKOJ4rBHC"
   },
   "source": [
    "## Stacking Along Rows"
   ]
  },
  {
   "cell_type": "code",
   "execution_count": null,
   "metadata": {
    "colab": {
     "base_uri": "https://localhost:8080/"
    },
    "executionInfo": {
     "elapsed": 100,
     "status": "ok",
     "timestamp": 1665821063492,
     "user": {
      "displayName": "sree dhar",
      "userId": "18078165690993073471"
     },
     "user_tz": -330
    },
    "id": "OG4L5IZNrC1B",
    "outputId": "4813aee0-a880-4d8d-beb9-1f95831eac0d"
   },
   "outputs": [
    {
     "name": "stdout",
     "output_type": "stream",
     "text": [
      "[1 2 3 4 5 6]\n"
     ]
    }
   ],
   "source": [
    "import numpy as np\n",
    "\n",
    "arr1 = np.array([1, 2, 3])\n",
    "\n",
    "arr2 = np.array([4, 5, 6])\n",
    "\n",
    "arr = np.hstack((arr1, arr2))\n",
    "\n",
    "print(arr)"
   ]
  },
  {
   "cell_type": "markdown",
   "metadata": {
    "id": "pPRyBYYFrFQt"
   },
   "source": [
    "## Stacking Along Columns"
   ]
  },
  {
   "cell_type": "code",
   "execution_count": null,
   "metadata": {
    "colab": {
     "base_uri": "https://localhost:8080/"
    },
    "executionInfo": {
     "elapsed": 99,
     "status": "ok",
     "timestamp": 1665821063493,
     "user": {
      "displayName": "sree dhar",
      "userId": "18078165690993073471"
     },
     "user_tz": -330
    },
    "id": "0C90sTFtrGvq",
    "outputId": "f9c3f606-afc9-4042-ec04-8832f2d177db"
   },
   "outputs": [
    {
     "name": "stdout",
     "output_type": "stream",
     "text": [
      "[[1 2 3]\n",
      " [4 5 6]]\n"
     ]
    }
   ],
   "source": [
    "import numpy as np\n",
    "\n",
    "arr1 = np.array([1, 2, 3])\n",
    "\n",
    "arr2 = np.array([4, 5, 6])\n",
    "\n",
    "arr = np.vstack((arr1, arr2))\n",
    "\n",
    "print(arr)"
   ]
  },
  {
   "cell_type": "markdown",
   "metadata": {
    "id": "OCfoK4vFrIpz"
   },
   "source": [
    "## Stacking Along Height (depth)"
   ]
  },
  {
   "cell_type": "code",
   "execution_count": null,
   "metadata": {
    "colab": {
     "base_uri": "https://localhost:8080/"
    },
    "executionInfo": {
     "elapsed": 97,
     "status": "ok",
     "timestamp": 1665821063494,
     "user": {
      "displayName": "sree dhar",
      "userId": "18078165690993073471"
     },
     "user_tz": -330
    },
    "id": "iBtNLdrvrKUR",
    "outputId": "856f23c7-19b2-4f4c-8c2f-b2d65313536d"
   },
   "outputs": [
    {
     "name": "stdout",
     "output_type": "stream",
     "text": [
      "[[[1 4]\n",
      "  [2 5]\n",
      "  [3 6]]]\n"
     ]
    }
   ],
   "source": [
    "import numpy as np\n",
    "\n",
    "arr1 = np.array([1, 2, 3])\n",
    "\n",
    "arr2 = np.array([4, 5, 6])\n",
    "\n",
    "arr = np.dstack((arr1, arr2))\n",
    "\n",
    "print(arr)"
   ]
  },
  {
   "cell_type": "markdown",
   "metadata": {
    "id": "B8dZp1qDrd57"
   },
   "source": [
    "# NumPy Splitting Array"
   ]
  },
  {
   "cell_type": "markdown",
   "metadata": {
    "id": "1b12XTpCrfgj"
   },
   "source": [
    "## Splitting NumPy Arrays"
   ]
  },
  {
   "cell_type": "code",
   "execution_count": null,
   "metadata": {
    "colab": {
     "base_uri": "https://localhost:8080/"
    },
    "executionInfo": {
     "elapsed": 96,
     "status": "ok",
     "timestamp": 1665821063496,
     "user": {
      "displayName": "sree dhar",
      "userId": "18078165690993073471"
     },
     "user_tz": -330
    },
    "id": "f4oyqNkcrrQ9",
    "outputId": "0b837f3c-a430-4d51-c098-40e6aad78e4b"
   },
   "outputs": [
    {
     "name": "stdout",
     "output_type": "stream",
     "text": [
      "[array([1, 2]), array([3, 4]), array([5, 6])]\n"
     ]
    }
   ],
   "source": [
    "import numpy as np\n",
    "\n",
    "arr = np.array([1, 2, 3, 4, 5, 6])\n",
    "\n",
    "newarr = np.array_split(arr, 3)\n",
    "\n",
    "print(newarr)\n"
   ]
  },
  {
   "cell_type": "code",
   "execution_count": null,
   "metadata": {
    "colab": {
     "base_uri": "https://localhost:8080/"
    },
    "executionInfo": {
     "elapsed": 98,
     "status": "ok",
     "timestamp": 1665821063502,
     "user": {
      "displayName": "sree dhar",
      "userId": "18078165690993073471"
     },
     "user_tz": -330
    },
    "id": "zNyISSTkr0uz",
    "outputId": "f370945b-f293-478c-b628-fe67e8356c2e"
   },
   "outputs": [
    {
     "name": "stdout",
     "output_type": "stream",
     "text": [
      "[array([1, 2]), array([3, 4]), array([5]), array([6])]\n"
     ]
    }
   ],
   "source": [
    "import numpy as np\n",
    "\n",
    "arr = np.array([1, 2, 3, 4, 5, 6])\n",
    "\n",
    "newarr = np.array_split(arr, 4)\n",
    "\n",
    "print(newarr)\n"
   ]
  },
  {
   "cell_type": "markdown",
   "metadata": {
    "id": "LMnwE3Patfp4"
   },
   "source": [
    "## Split Into Arrays\n"
   ]
  },
  {
   "cell_type": "code",
   "execution_count": null,
   "metadata": {
    "colab": {
     "base_uri": "https://localhost:8080/"
    },
    "executionInfo": {
     "elapsed": 97,
     "status": "ok",
     "timestamp": 1665821063503,
     "user": {
      "displayName": "sree dhar",
      "userId": "18078165690993073471"
     },
     "user_tz": -330
    },
    "id": "Ul24xlYbtkJ8",
    "outputId": "b3929268-6d0c-499c-9288-cdd1db8a4f5c"
   },
   "outputs": [
    {
     "name": "stdout",
     "output_type": "stream",
     "text": [
      "[1 2]\n",
      "[3 4]\n",
      "[5 6]\n"
     ]
    }
   ],
   "source": [
    "import numpy as np\n",
    "\n",
    "arr = np.array([1, 2, 3, 4, 5, 6])\n",
    "\n",
    "newarr = np.array_split(arr, 3)\n",
    "\n",
    "print(newarr[0])\n",
    "print(newarr[1])\n",
    "print(newarr[2])"
   ]
  },
  {
   "cell_type": "markdown",
   "metadata": {
    "id": "ycoq27yJtlTk"
   },
   "source": [
    "## Splitting 2-D Arrays"
   ]
  },
  {
   "cell_type": "code",
   "execution_count": null,
   "metadata": {
    "colab": {
     "base_uri": "https://localhost:8080/"
    },
    "executionInfo": {
     "elapsed": 97,
     "status": "ok",
     "timestamp": 1665821063505,
     "user": {
      "displayName": "sree dhar",
      "userId": "18078165690993073471"
     },
     "user_tz": -330
    },
    "id": "qkMxFgpZtmjl",
    "outputId": "696c6253-5b3b-4d23-861c-11f87533e78f"
   },
   "outputs": [
    {
     "name": "stdout",
     "output_type": "stream",
     "text": [
      "[array([[1, 2],\n",
      "       [3, 4]]), array([[5, 6],\n",
      "       [7, 8]]), array([[ 9, 10],\n",
      "       [11, 12]])]\n"
     ]
    }
   ],
   "source": [
    "import numpy as np\n",
    "\n",
    "arr = np.array([[1, 2], [3, 4], [5, 6], [7, 8], [9, 10], [11, 12]])\n",
    "\n",
    "newarr = np.array_split(arr, 3)\n",
    "\n",
    "print(newarr)"
   ]
  },
  {
   "cell_type": "code",
   "execution_count": null,
   "metadata": {
    "colab": {
     "base_uri": "https://localhost:8080/"
    },
    "executionInfo": {
     "elapsed": 95,
     "status": "ok",
     "timestamp": 1665821063506,
     "user": {
      "displayName": "sree dhar",
      "userId": "18078165690993073471"
     },
     "user_tz": -330
    },
    "id": "_SoOBgwCt2TB",
    "outputId": "94545550-584d-4396-9344-d87123da3665"
   },
   "outputs": [
    {
     "name": "stdout",
     "output_type": "stream",
     "text": [
      "[array([[1, 2],\n",
      "       [3, 4]]), array([[5, 6],\n",
      "       [7, 8]]), array([[ 9, 10],\n",
      "       [11, 12]])]\n"
     ]
    }
   ],
   "source": [
    "import numpy as np\n",
    "\n",
    "arr = np.array([[1, 2], [3, 4], [5, 6], [7, 8], [9, 10], [11, 12]])\n",
    "\n",
    "newarr = np.array_split(arr, 3)\n",
    "\n",
    "print(newarr)"
   ]
  },
  {
   "cell_type": "code",
   "execution_count": null,
   "metadata": {
    "colab": {
     "base_uri": "https://localhost:8080/"
    },
    "executionInfo": {
     "elapsed": 92,
     "status": "ok",
     "timestamp": 1665821063508,
     "user": {
      "displayName": "sree dhar",
      "userId": "18078165690993073471"
     },
     "user_tz": -330
    },
    "id": "e3VsVTmewPwE",
    "outputId": "08dab282-4d2f-412d-ce22-d6eaf2f2dbc0"
   },
   "outputs": [
    {
     "name": "stdout",
     "output_type": "stream",
     "text": [
      "[array([[ 1],\n",
      "       [ 4],\n",
      "       [ 7],\n",
      "       [10],\n",
      "       [13],\n",
      "       [16]]), array([[ 2],\n",
      "       [ 5],\n",
      "       [ 8],\n",
      "       [11],\n",
      "       [14],\n",
      "       [17]]), array([[ 3],\n",
      "       [ 6],\n",
      "       [ 9],\n",
      "       [12],\n",
      "       [15],\n",
      "       [18]])]\n"
     ]
    }
   ],
   "source": [
    "import numpy as np\n",
    "\n",
    "arr = np.array([[1, 2, 3], [4, 5, 6], [7, 8, 9], [10, 11, 12], [13, 14, 15], [16, 17, 18]])\n",
    "\n",
    "newarr = np.hsplit(arr, 3)\n",
    "\n",
    "print(newarr)\n"
   ]
  },
  {
   "cell_type": "code",
   "execution_count": null,
   "metadata": {
    "colab": {
     "base_uri": "https://localhost:8080/"
    },
    "executionInfo": {
     "elapsed": 90,
     "status": "ok",
     "timestamp": 1665821063509,
     "user": {
      "displayName": "sree dhar",
      "userId": "18078165690993073471"
     },
     "user_tz": -330
    },
    "id": "XxAhytnZwZx5",
    "outputId": "088363ca-65a9-4d6b-a0a4-54140ca33c26"
   },
   "outputs": [
    {
     "name": "stdout",
     "output_type": "stream",
     "text": [
      "[array([[ 1],\n",
      "       [ 4],\n",
      "       [ 7],\n",
      "       [10],\n",
      "       [13],\n",
      "       [16]]), array([[ 2],\n",
      "       [ 5],\n",
      "       [ 8],\n",
      "       [11],\n",
      "       [14],\n",
      "       [17]]), array([[ 3],\n",
      "       [ 6],\n",
      "       [ 9],\n",
      "       [12],\n",
      "       [15],\n",
      "       [18]])]\n"
     ]
    }
   ],
   "source": [
    "import numpy as np\n",
    "\n",
    "arr = np.array([[1, 2, 3], [4, 5, 6], [7, 8, 9], [10, 11, 12], [13, 14, 15], [16, 17, 18]])\n",
    "\n",
    "newarr = np.hsplit(arr, 3)\n",
    "\n",
    "print(newarr)\n",
    "\n"
   ]
  },
  {
   "cell_type": "markdown",
   "metadata": {
    "id": "JmtbvfAawmbi"
   },
   "source": [
    "# NumPy Searching Arrays"
   ]
  },
  {
   "cell_type": "markdown",
   "metadata": {
    "id": "KQtkdyyVwpcJ"
   },
   "source": [
    "## Searching Arrays"
   ]
  },
  {
   "cell_type": "code",
   "execution_count": null,
   "metadata": {
    "colab": {
     "base_uri": "https://localhost:8080/"
    },
    "executionInfo": {
     "elapsed": 89,
     "status": "ok",
     "timestamp": 1665821063511,
     "user": {
      "displayName": "sree dhar",
      "userId": "18078165690993073471"
     },
     "user_tz": -330
    },
    "id": "DPSRPwkYww7y",
    "outputId": "27424202-67e5-4fd6-cc13-3528fd2ea995"
   },
   "outputs": [
    {
     "name": "stdout",
     "output_type": "stream",
     "text": [
      "(array([3, 5, 6]),)\n"
     ]
    }
   ],
   "source": [
    "import numpy as np\n",
    "\n",
    "arr = np.array([1, 2, 3, 4, 5, 4, 4])\n",
    "\n",
    "x = np.where(arr == 4)\n",
    "\n",
    "print(x)\n"
   ]
  },
  {
   "cell_type": "code",
   "execution_count": null,
   "metadata": {
    "colab": {
     "base_uri": "https://localhost:8080/"
    },
    "executionInfo": {
     "elapsed": 88,
     "status": "ok",
     "timestamp": 1665821063512,
     "user": {
      "displayName": "sree dhar",
      "userId": "18078165690993073471"
     },
     "user_tz": -330
    },
    "id": "L3EXnGvBwytt",
    "outputId": "6d6ba58c-62b5-457e-bcd3-ed1bf85917ce"
   },
   "outputs": [
    {
     "name": "stdout",
     "output_type": "stream",
     "text": [
      "(array([1, 3, 5, 7]),)\n"
     ]
    }
   ],
   "source": [
    "import numpy as np\n",
    "\n",
    "arr = np.array([1, 2, 3, 4, 5, 6, 7, 8])\n",
    "\n",
    "x = np.where(arr%2 == 0)\n",
    "\n",
    "print(x)\n"
   ]
  },
  {
   "cell_type": "code",
   "execution_count": null,
   "metadata": {
    "colab": {
     "base_uri": "https://localhost:8080/"
    },
    "executionInfo": {
     "elapsed": 87,
     "status": "ok",
     "timestamp": 1665821063514,
     "user": {
      "displayName": "sree dhar",
      "userId": "18078165690993073471"
     },
     "user_tz": -330
    },
    "id": "WjYGDggKw0wG",
    "outputId": "f0286493-bd29-42d6-c251-900e67c457ec"
   },
   "outputs": [
    {
     "name": "stdout",
     "output_type": "stream",
     "text": [
      "(array([0, 2, 4, 6]),)\n"
     ]
    }
   ],
   "source": [
    "import numpy as np\n",
    "\n",
    "arr = np.array([1, 2, 3, 4, 5, 6, 7, 8])\n",
    "\n",
    "x = np.where(arr%2 == 1)\n",
    "\n",
    "print(x)\n"
   ]
  },
  {
   "cell_type": "markdown",
   "metadata": {
    "id": "JugUj-3pw38f"
   },
   "source": [
    "## Search Sorted"
   ]
  },
  {
   "cell_type": "code",
   "execution_count": null,
   "metadata": {
    "colab": {
     "base_uri": "https://localhost:8080/"
    },
    "executionInfo": {
     "elapsed": 83,
     "status": "ok",
     "timestamp": 1665821063515,
     "user": {
      "displayName": "sree dhar",
      "userId": "18078165690993073471"
     },
     "user_tz": -330
    },
    "id": "0bHriE_rw58X",
    "outputId": "74533513-aae2-4918-8155-62d69dd3cb50"
   },
   "outputs": [
    {
     "name": "stdout",
     "output_type": "stream",
     "text": [
      "1\n"
     ]
    }
   ],
   "source": [
    "import numpy as np\n",
    "\n",
    "arr = np.array([6, 7, 8, 9])\n",
    "\n",
    "x = np.searchsorted(arr, 7)\n",
    "\n",
    "print(x)\n"
   ]
  },
  {
   "cell_type": "markdown",
   "metadata": {
    "id": "8qe_kc1pw_fx"
   },
   "source": [
    "## Search From the Right Side"
   ]
  },
  {
   "cell_type": "code",
   "execution_count": null,
   "metadata": {
    "colab": {
     "base_uri": "https://localhost:8080/"
    },
    "executionInfo": {
     "elapsed": 81,
     "status": "ok",
     "timestamp": 1665821063516,
     "user": {
      "displayName": "sree dhar",
      "userId": "18078165690993073471"
     },
     "user_tz": -330
    },
    "id": "Ea9QsBthxBHC",
    "outputId": "f1dd4c2d-9f2c-4875-cdcc-3934e162dfab"
   },
   "outputs": [
    {
     "name": "stdout",
     "output_type": "stream",
     "text": [
      "2\n"
     ]
    }
   ],
   "source": [
    "import numpy as np\n",
    "\n",
    "arr = np.array([6, 7, 8, 9])\n",
    "\n",
    "x = np.searchsorted(arr, 7, side='right')\n",
    "\n",
    "print(x)"
   ]
  },
  {
   "cell_type": "markdown",
   "metadata": {
    "id": "TGRz6LanxCbC"
   },
   "source": [
    "## Multiple Values"
   ]
  },
  {
   "cell_type": "code",
   "execution_count": null,
   "metadata": {
    "colab": {
     "base_uri": "https://localhost:8080/"
    },
    "executionInfo": {
     "elapsed": 79,
     "status": "ok",
     "timestamp": 1665821063517,
     "user": {
      "displayName": "sree dhar",
      "userId": "18078165690993073471"
     },
     "user_tz": -330
    },
    "id": "ZulzKeFDxD-x",
    "outputId": "84b0de30-44ae-4947-fb8a-b02ab24dd3bf"
   },
   "outputs": [
    {
     "name": "stdout",
     "output_type": "stream",
     "text": [
      "[1 2 3]\n"
     ]
    }
   ],
   "source": [
    "import numpy as np\n",
    "\n",
    "arr = np.array([1, 3, 5, 7])\n",
    "\n",
    "x = np.searchsorted(arr, [2, 4, 6])\n",
    "\n",
    "print(x)"
   ]
  },
  {
   "cell_type": "markdown",
   "metadata": {
    "id": "DvPvFPgExc4Z"
   },
   "source": [
    "# NumPy Sorting Arrays"
   ]
  },
  {
   "cell_type": "markdown",
   "metadata": {
    "id": "nm_-aKPlxelQ"
   },
   "source": [
    "## Sorting Arrays"
   ]
  },
  {
   "cell_type": "code",
   "execution_count": null,
   "metadata": {
    "colab": {
     "base_uri": "https://localhost:8080/"
    },
    "executionInfo": {
     "elapsed": 78,
     "status": "ok",
     "timestamp": 1665821063518,
     "user": {
      "displayName": "sree dhar",
      "userId": "18078165690993073471"
     },
     "user_tz": -330
    },
    "id": "SMgf6w2TxgUd",
    "outputId": "89739d89-db3e-481b-fff0-2656ae4c346e"
   },
   "outputs": [
    {
     "name": "stdout",
     "output_type": "stream",
     "text": [
      "[0 1 2 3]\n"
     ]
    }
   ],
   "source": [
    "import numpy as np\n",
    "\n",
    "arr = np.array([3, 2, 0, 1])\n",
    "\n",
    "print(np.sort(arr))"
   ]
  },
  {
   "cell_type": "code",
   "execution_count": null,
   "metadata": {
    "colab": {
     "base_uri": "https://localhost:8080/"
    },
    "executionInfo": {
     "elapsed": 77,
     "status": "ok",
     "timestamp": 1665821063519,
     "user": {
      "displayName": "sree dhar",
      "userId": "18078165690993073471"
     },
     "user_tz": -330
    },
    "id": "BycEyvs6xkWH",
    "outputId": "3e9f7a98-7728-4e09-c83b-73b89593a25a"
   },
   "outputs": [
    {
     "name": "stdout",
     "output_type": "stream",
     "text": [
      "['apple' 'banana' 'cherry']\n"
     ]
    }
   ],
   "source": [
    "import numpy as np\n",
    "\n",
    "arr = np.array(['banana', 'cherry', 'apple'])\n",
    "\n",
    "print(np.sort(arr))\n"
   ]
  },
  {
   "cell_type": "code",
   "execution_count": null,
   "metadata": {
    "colab": {
     "base_uri": "https://localhost:8080/"
    },
    "executionInfo": {
     "elapsed": 76,
     "status": "ok",
     "timestamp": 1665821063520,
     "user": {
      "displayName": "sree dhar",
      "userId": "18078165690993073471"
     },
     "user_tz": -330
    },
    "id": "RI3N26zVxlkw",
    "outputId": "9ade7576-27a1-4391-dd55-f584126eb2b0"
   },
   "outputs": [
    {
     "name": "stdout",
     "output_type": "stream",
     "text": [
      "[False  True  True]\n"
     ]
    }
   ],
   "source": [
    "import numpy as np\n",
    "\n",
    "arr = np.array([True, False, True])\n",
    "\n",
    "print(np.sort(arr))"
   ]
  },
  {
   "cell_type": "markdown",
   "metadata": {
    "id": "ZysaUDW5xmpw"
   },
   "source": [
    "## Sorting a 2-D Array"
   ]
  },
  {
   "cell_type": "code",
   "execution_count": null,
   "metadata": {
    "colab": {
     "base_uri": "https://localhost:8080/"
    },
    "executionInfo": {
     "elapsed": 73,
     "status": "ok",
     "timestamp": 1665821063521,
     "user": {
      "displayName": "sree dhar",
      "userId": "18078165690993073471"
     },
     "user_tz": -330
    },
    "id": "ZCiiYWFJxpJa",
    "outputId": "769b3d5b-d586-49a8-ecb3-2a246c53b9e0"
   },
   "outputs": [
    {
     "name": "stdout",
     "output_type": "stream",
     "text": [
      "[[2 3 4]\n",
      " [0 1 5]]\n"
     ]
    }
   ],
   "source": [
    "import numpy as np\n",
    "\n",
    "arr = np.array([[3, 2, 4], [5, 0, 1]])\n",
    "\n",
    "print(np.sort(arr))"
   ]
  },
  {
   "cell_type": "markdown",
   "metadata": {
    "id": "fC7_ypSLxrmd"
   },
   "source": [
    "# NumPy Filter Array"
   ]
  },
  {
   "cell_type": "markdown",
   "metadata": {
    "id": "J0sDDuQxxtoE"
   },
   "source": [
    "## Filtering Arrays"
   ]
  },
  {
   "cell_type": "code",
   "execution_count": null,
   "metadata": {
    "colab": {
     "base_uri": "https://localhost:8080/"
    },
    "executionInfo": {
     "elapsed": 71,
     "status": "ok",
     "timestamp": 1665821063522,
     "user": {
      "displayName": "sree dhar",
      "userId": "18078165690993073471"
     },
     "user_tz": -330
    },
    "id": "_m42WRnyxu3w",
    "outputId": "b4bdae37-9ed4-4247-9896-2fa38ddbb3a8"
   },
   "outputs": [
    {
     "name": "stdout",
     "output_type": "stream",
     "text": [
      "[41 43]\n"
     ]
    }
   ],
   "source": [
    "import numpy as np\n",
    "\n",
    "arr = np.array([41, 42, 43, 44])\n",
    "\n",
    "x = [True, False, True, False]\n",
    "\n",
    "newarr = arr[x]\n",
    "\n",
    "print(newarr)"
   ]
  },
  {
   "cell_type": "markdown",
   "metadata": {
    "id": "dWUQZKGwzlKg"
   },
   "source": [
    "## Creating the Filter Array"
   ]
  },
  {
   "cell_type": "code",
   "execution_count": null,
   "metadata": {
    "colab": {
     "base_uri": "https://localhost:8080/"
    },
    "executionInfo": {
     "elapsed": 69,
     "status": "ok",
     "timestamp": 1665821063523,
     "user": {
      "displayName": "sree dhar",
      "userId": "18078165690993073471"
     },
     "user_tz": -330
    },
    "id": "T6JDWUnIzosW",
    "outputId": "bf82d256-3474-4913-ff4c-d6cf26b90e1c"
   },
   "outputs": [
    {
     "name": "stdout",
     "output_type": "stream",
     "text": [
      "[False, False, True, True]\n",
      "[43 44]\n"
     ]
    }
   ],
   "source": [
    "import numpy as np\n",
    "\n",
    "arr = np.array([41, 42, 43, 44])\n",
    "\n",
    "# Create an empty list\n",
    "filter_arr = []\n",
    "\n",
    "# go through each element in arr\n",
    "for element in arr:\n",
    "  # if the element is higher than 42, set the value to True, otherwise False:\n",
    "  if element > 42:\n",
    "    filter_arr.append(True)\n",
    "  else:\n",
    "    filter_arr.append(False)\n",
    "\n",
    "newarr = arr[filter_arr]\n",
    "\n",
    "print(filter_arr)\n",
    "print(newarr)"
   ]
  },
  {
   "cell_type": "code",
   "execution_count": null,
   "metadata": {
    "colab": {
     "base_uri": "https://localhost:8080/"
    },
    "executionInfo": {
     "elapsed": 67,
     "status": "ok",
     "timestamp": 1665821063524,
     "user": {
      "displayName": "sree dhar",
      "userId": "18078165690993073471"
     },
     "user_tz": -330
    },
    "id": "abOO4ew3zqmw",
    "outputId": "381c94c4-62f9-4650-bca5-37adbb679a20"
   },
   "outputs": [
    {
     "name": "stdout",
     "output_type": "stream",
     "text": [
      "[False, True, False, True, False, True, False]\n",
      "[2 4 6]\n"
     ]
    }
   ],
   "source": [
    "import numpy as np\n",
    "\n",
    "arr = np.array([1, 2, 3, 4, 5, 6, 7])\n",
    "\n",
    "# Create an empty list\n",
    "filter_arr = []\n",
    "\n",
    "# go through each element in arr\n",
    "for element in arr:\n",
    "  # if the element is completely divisble by 2, set the value to True, otherwise False\n",
    "  if element % 2 == 0:\n",
    "    filter_arr.append(True)\n",
    "  else:\n",
    "    filter_arr.append(False)\n",
    "\n",
    "newarr = arr[filter_arr]\n",
    "\n",
    "print(filter_arr)\n",
    "print(newarr)"
   ]
  },
  {
   "cell_type": "markdown",
   "metadata": {
    "id": "K6vhtdQNzsTJ"
   },
   "source": [
    "## Creating Filter Directly From Array"
   ]
  },
  {
   "cell_type": "code",
   "execution_count": null,
   "metadata": {
    "colab": {
     "base_uri": "https://localhost:8080/"
    },
    "executionInfo": {
     "elapsed": 65,
     "status": "ok",
     "timestamp": 1665821063525,
     "user": {
      "displayName": "sree dhar",
      "userId": "18078165690993073471"
     },
     "user_tz": -330
    },
    "id": "niU-Ewoozutv",
    "outputId": "0bf13faf-bd8f-427f-8c33-94c507878ca0"
   },
   "outputs": [
    {
     "name": "stdout",
     "output_type": "stream",
     "text": [
      "[False False  True  True]\n",
      "[43 44]\n"
     ]
    }
   ],
   "source": [
    "import numpy as np\n",
    "\n",
    "arr = np.array([41, 42, 43, 44])\n",
    "\n",
    "filter_arr = arr > 42\n",
    "\n",
    "newarr = arr[filter_arr]\n",
    "\n",
    "print(filter_arr)\n",
    "print(newarr)\n"
   ]
  },
  {
   "cell_type": "code",
   "execution_count": null,
   "metadata": {
    "colab": {
     "base_uri": "https://localhost:8080/"
    },
    "executionInfo": {
     "elapsed": 786,
     "status": "ok",
     "timestamp": 1665821064249,
     "user": {
      "displayName": "sree dhar",
      "userId": "18078165690993073471"
     },
     "user_tz": -330
    },
    "id": "7gJAQQppzwHO",
    "outputId": "865558e7-dd0b-4817-ce6c-5d7c7d3d19f5"
   },
   "outputs": [
    {
     "name": "stdout",
     "output_type": "stream",
     "text": [
      "[False  True False  True False  True False]\n",
      "[2 4 6]\n"
     ]
    }
   ],
   "source": [
    "import numpy as np\n",
    "\n",
    "arr = np.array([1, 2, 3, 4, 5, 6, 7])\n",
    "\n",
    "filter_arr = arr % 2 == 0\n",
    "\n",
    "newarr = arr[filter_arr]\n",
    "\n",
    "print(filter_arr)\n",
    "print(newarr)"
   ]
  },
  {
   "cell_type": "markdown",
   "metadata": {
    "id": "nTuZgwz44N2r"
   },
   "source": [
    "# Random Numbers in NumPy"
   ]
  },
  {
   "cell_type": "markdown",
   "metadata": {
    "id": "osnlnUb34UMc"
   },
   "source": [
    "## Generate Random Number"
   ]
  },
  {
   "cell_type": "code",
   "execution_count": null,
   "metadata": {
    "colab": {
     "base_uri": "https://localhost:8080/"
    },
    "executionInfo": {
     "elapsed": 159,
     "status": "ok",
     "timestamp": 1665821064256,
     "user": {
      "displayName": "sree dhar",
      "userId": "18078165690993073471"
     },
     "user_tz": -330
    },
    "id": "es3VFOQW4lzD",
    "outputId": "8c8a55a9-0e53-4c0b-9d61-d07de9533e93"
   },
   "outputs": [
    {
     "name": "stdout",
     "output_type": "stream",
     "text": [
      "88\n"
     ]
    }
   ],
   "source": [
    "from numpy import random\n",
    "\n",
    "x = random.randint(100)\n",
    "\n",
    "print(x)\n"
   ]
  },
  {
   "cell_type": "markdown",
   "metadata": {
    "id": "wuCkCLoh4oDl"
   },
   "source": [
    "## Generate Random Float"
   ]
  },
  {
   "cell_type": "code",
   "execution_count": null,
   "metadata": {
    "colab": {
     "base_uri": "https://localhost:8080/"
    },
    "executionInfo": {
     "elapsed": 146,
     "status": "ok",
     "timestamp": 1665821064258,
     "user": {
      "displayName": "sree dhar",
      "userId": "18078165690993073471"
     },
     "user_tz": -330
    },
    "id": "4vTMif474qE-",
    "outputId": "71e53b78-cca5-423c-b362-cdcb4046575e"
   },
   "outputs": [
    {
     "name": "stdout",
     "output_type": "stream",
     "text": [
      "0.6317108088972405\n"
     ]
    }
   ],
   "source": [
    "from numpy import random\n",
    "\n",
    "x = random.rand()\n",
    "\n",
    "print(x)\n"
   ]
  },
  {
   "cell_type": "markdown",
   "metadata": {
    "id": "5ntQlkDj4rrq"
   },
   "source": [
    "## Integers"
   ]
  },
  {
   "cell_type": "code",
   "execution_count": null,
   "metadata": {
    "colab": {
     "base_uri": "https://localhost:8080/"
    },
    "executionInfo": {
     "elapsed": 152,
     "status": "ok",
     "timestamp": 1665821064269,
     "user": {
      "displayName": "sree dhar",
      "userId": "18078165690993073471"
     },
     "user_tz": -330
    },
    "id": "jK6x6BZr4t0x",
    "outputId": "b57b6ca6-6601-4756-c4c4-76b70b89163f"
   },
   "outputs": [
    {
     "name": "stdout",
     "output_type": "stream",
     "text": [
      "[27 40  9 11 22]\n"
     ]
    }
   ],
   "source": [
    "from numpy import random\n",
    "\n",
    "x=random.randint(100, size=(5))\n",
    "\n",
    "print(x)"
   ]
  },
  {
   "cell_type": "code",
   "execution_count": null,
   "metadata": {
    "colab": {
     "base_uri": "https://localhost:8080/"
    },
    "executionInfo": {
     "elapsed": 150,
     "status": "ok",
     "timestamp": 1665821064271,
     "user": {
      "displayName": "sree dhar",
      "userId": "18078165690993073471"
     },
     "user_tz": -330
    },
    "id": "Zo_FobZw4u_S",
    "outputId": "b8efb51b-ae12-4df3-9dcf-84c17073f031"
   },
   "outputs": [
    {
     "name": "stdout",
     "output_type": "stream",
     "text": [
      "[[97 85 54 64 85]\n",
      " [40 19 48  5 40]\n",
      " [89 81 51 66  4]]\n"
     ]
    }
   ],
   "source": [
    "from numpy import random\n",
    "\n",
    "x = random.randint(100, size=(3, 5))\n",
    "\n",
    "print(x)"
   ]
  },
  {
   "cell_type": "markdown",
   "metadata": {
    "id": "V-GIMJ1y4xvt"
   },
   "source": [
    "## Floats"
   ]
  },
  {
   "cell_type": "code",
   "execution_count": null,
   "metadata": {
    "colab": {
     "base_uri": "https://localhost:8080/"
    },
    "executionInfo": {
     "elapsed": 138,
     "status": "ok",
     "timestamp": 1665821064273,
     "user": {
      "displayName": "sree dhar",
      "userId": "18078165690993073471"
     },
     "user_tz": -330
    },
    "id": "Nt7gbR3H4zmS",
    "outputId": "0a4913c8-e9fa-48d4-e3c5-3406cce29d4c"
   },
   "outputs": [
    {
     "name": "stdout",
     "output_type": "stream",
     "text": [
      "[0.46083714 0.26733444 0.17923471 0.22614379 0.05315243]\n"
     ]
    }
   ],
   "source": [
    "from numpy import random\n",
    "\n",
    "x = random.rand(5)\n",
    "\n",
    "print(x)"
   ]
  },
  {
   "cell_type": "code",
   "execution_count": null,
   "metadata": {
    "colab": {
     "base_uri": "https://localhost:8080/"
    },
    "executionInfo": {
     "elapsed": 136,
     "status": "ok",
     "timestamp": 1665821064285,
     "user": {
      "displayName": "sree dhar",
      "userId": "18078165690993073471"
     },
     "user_tz": -330
    },
    "id": "DyPMcBsZ402P",
    "outputId": "5a65ea90-d880-4cf1-abb5-7524022ae609"
   },
   "outputs": [
    {
     "name": "stdout",
     "output_type": "stream",
     "text": [
      "[[0.36025225 0.77474745 0.62957478 0.53006364 0.63492713]\n",
      " [0.16985027 0.1068326  0.63330478 0.0187907  0.40113799]\n",
      " [0.08907499 0.36296813 0.09993066 0.53711194 0.26003335]]\n"
     ]
    }
   ],
   "source": [
    "from numpy import random\n",
    "\n",
    "x = random.rand(3, 5)\n",
    "\n",
    "print(x)"
   ]
  },
  {
   "cell_type": "markdown",
   "metadata": {
    "id": "PgZV0ev642bM"
   },
   "source": [
    "## Generate Random Number From Array"
   ]
  },
  {
   "cell_type": "code",
   "execution_count": null,
   "metadata": {
    "colab": {
     "base_uri": "https://localhost:8080/"
    },
    "executionInfo": {
     "elapsed": 133,
     "status": "ok",
     "timestamp": 1665821064287,
     "user": {
      "displayName": "sree dhar",
      "userId": "18078165690993073471"
     },
     "user_tz": -330
    },
    "id": "YEVJ8-mV46yK",
    "outputId": "81474eee-ec65-4b20-e8e9-0a0e151724fd"
   },
   "outputs": [
    {
     "name": "stdout",
     "output_type": "stream",
     "text": [
      "9\n"
     ]
    }
   ],
   "source": [
    "from numpy import random\n",
    "\n",
    "x = random.choice([3, 5, 7, 9])\n",
    "\n",
    "print(x)"
   ]
  },
  {
   "cell_type": "code",
   "execution_count": null,
   "metadata": {
    "colab": {
     "base_uri": "https://localhost:8080/"
    },
    "executionInfo": {
     "elapsed": 121,
     "status": "ok",
     "timestamp": 1665821064289,
     "user": {
      "displayName": "sree dhar",
      "userId": "18078165690993073471"
     },
     "user_tz": -330
    },
    "id": "sJIoJckq49Rx",
    "outputId": "95d429a6-a434-4678-ff30-a17e6487b325"
   },
   "outputs": [
    {
     "name": "stdout",
     "output_type": "stream",
     "text": [
      "[[5 9 5 9 3]\n",
      " [5 7 5 5 9]\n",
      " [9 7 5 7 3]]\n"
     ]
    }
   ],
   "source": [
    "from numpy import random\n",
    "\n",
    "x = random.choice([3, 5, 7, 9], size=(3, 5))\n",
    "\n",
    "print(x)"
   ]
  },
  {
   "cell_type": "markdown",
   "metadata": {
    "id": "2W7wGm0W4_8P"
   },
   "source": [
    "# Random Data Distribution"
   ]
  },
  {
   "cell_type": "markdown",
   "metadata": {
    "id": "2V2rd-DW5Dqd"
   },
   "source": [
    "## Random Distribution"
   ]
  },
  {
   "cell_type": "code",
   "execution_count": null,
   "metadata": {
    "colab": {
     "base_uri": "https://localhost:8080/"
    },
    "executionInfo": {
     "elapsed": 126,
     "status": "ok",
     "timestamp": 1665821064302,
     "user": {
      "displayName": "sree dhar",
      "userId": "18078165690993073471"
     },
     "user_tz": -330
    },
    "id": "gRG8Oh6J5GPN",
    "outputId": "f0e91783-a1ce-4ac0-babc-5fab7f4bbb1c"
   },
   "outputs": [
    {
     "name": "stdout",
     "output_type": "stream",
     "text": [
      "[7 7 7 7 7 5 5 5 5 7 5 7 7 3 7 3 7 5 7 7 3 5 7 7 7 7 7 7 5 3 7 5 7 7 7 7 5\n",
      " 7 7 5 5 7 5 3 5 5 7 7 7 7 7 5 7 5 7 7 5 7 7 7 5 7 7 7 7 5 7 3 7 7 5 5 7 7\n",
      " 5 3 7 3 5 7 7 7 3 5 5 7 7 7 5 5 3 7 5 7 7 5 7 7 5 7]\n"
     ]
    }
   ],
   "source": [
    "from numpy import random\n",
    "\n",
    "x = random.choice([3, 5, 7, 9], p=[0.1, 0.3, 0.6, 0.0], size=(100))\n",
    "\n",
    "print(x)\n"
   ]
  },
  {
   "cell_type": "code",
   "execution_count": null,
   "metadata": {
    "colab": {
     "base_uri": "https://localhost:8080/"
    },
    "executionInfo": {
     "elapsed": 124,
     "status": "ok",
     "timestamp": 1665821064304,
     "user": {
      "displayName": "sree dhar",
      "userId": "18078165690993073471"
     },
     "user_tz": -330
    },
    "id": "TIFu3F5p5HlU",
    "outputId": "25ae4aa9-aaa6-47ba-eb7b-b0bfc5f2334b"
   },
   "outputs": [
    {
     "name": "stdout",
     "output_type": "stream",
     "text": [
      "[[3 7 5 7 7]\n",
      " [5 7 5 5 5]\n",
      " [7 5 7 5 5]]\n"
     ]
    }
   ],
   "source": [
    "from numpy import random\n",
    "\n",
    "x = random.choice([3, 5, 7, 9], p=[0.1, 0.3, 0.6, 0.0], size=(3, 5))\n",
    "\n",
    "print(x)\n"
   ]
  },
  {
   "cell_type": "markdown",
   "metadata": {
    "id": "6yzG0gOa5KVg"
   },
   "source": [
    "# Random Permutations"
   ]
  },
  {
   "cell_type": "markdown",
   "metadata": {
    "id": "CyLc8Asv5N3O"
   },
   "source": [
    "## Shuffling Arrays"
   ]
  },
  {
   "cell_type": "code",
   "execution_count": null,
   "metadata": {
    "colab": {
     "base_uri": "https://localhost:8080/"
    },
    "executionInfo": {
     "elapsed": 117,
     "status": "ok",
     "timestamp": 1665821064306,
     "user": {
      "displayName": "sree dhar",
      "userId": "18078165690993073471"
     },
     "user_tz": -330
    },
    "id": "3zFwrVjR5Pwu",
    "outputId": "02e65240-1e92-4e53-b2eb-950c20a1e93a"
   },
   "outputs": [
    {
     "name": "stdout",
     "output_type": "stream",
     "text": [
      "[2 4 5 1 3]\n"
     ]
    }
   ],
   "source": [
    "from numpy import random\n",
    "import numpy as np\n",
    "\n",
    "arr = np.array([1, 2, 3, 4, 5])\n",
    "\n",
    "random.shuffle(arr)\n",
    "\n",
    "print(arr)"
   ]
  },
  {
   "cell_type": "markdown",
   "metadata": {
    "id": "eQXfB-uM5Qwh"
   },
   "source": [
    "## Generating Permutation of Arrays"
   ]
  },
  {
   "cell_type": "code",
   "execution_count": null,
   "metadata": {
    "colab": {
     "base_uri": "https://localhost:8080/"
    },
    "executionInfo": {
     "elapsed": 119,
     "status": "ok",
     "timestamp": 1665821064318,
     "user": {
      "displayName": "sree dhar",
      "userId": "18078165690993073471"
     },
     "user_tz": -330
    },
    "id": "hiCVTKpL5Th2",
    "outputId": "80e3b158-a84c-4788-a749-a90833d7d991"
   },
   "outputs": [
    {
     "name": "stdout",
     "output_type": "stream",
     "text": [
      "[3 1 2 5 4]\n"
     ]
    }
   ],
   "source": [
    "from numpy import random\n",
    "import numpy as np\n",
    "\n",
    "arr = np.array([1, 2, 3, 4, 5])\n",
    "\n",
    "print(random.permutation(arr))"
   ]
  },
  {
   "cell_type": "markdown",
   "metadata": {
    "id": "LgbEFJpJ5dc4"
   },
   "source": [
    "# Seaborn"
   ]
  },
  {
   "cell_type": "markdown",
   "metadata": {
    "id": "cygvrjAT50Z7"
   },
   "source": [
    "## Import Matplotlib"
   ]
  },
  {
   "cell_type": "code",
   "execution_count": null,
   "metadata": {
    "id": "SL4QsfTP55yU"
   },
   "outputs": [],
   "source": [
    "import matplotlib.pyplot as plt"
   ]
  },
  {
   "cell_type": "markdown",
   "metadata": {
    "id": "pZvuuHli8git"
   },
   "source": [
    "## Import Seaborn"
   ]
  },
  {
   "cell_type": "code",
   "execution_count": null,
   "metadata": {
    "id": "Q-TwgbR58iBp"
   },
   "outputs": [],
   "source": [
    "import seaborn as sns"
   ]
  },
  {
   "cell_type": "markdown",
   "metadata": {
    "id": "3sD-feKS8jB8"
   },
   "source": [
    "## Plotting a Distplot"
   ]
  },
  {
   "cell_type": "code",
   "execution_count": null,
   "metadata": {
    "colab": {
     "base_uri": "https://localhost:8080/"
    },
    "executionInfo": {
     "elapsed": 70,
     "status": "ok",
     "timestamp": 1665821065473,
     "user": {
      "displayName": "sree dhar",
      "userId": "18078165690993073471"
     },
     "user_tz": -330
    },
    "id": "cAaLbiJV8koK",
    "outputId": "e56d487f-47d6-4041-8194-ed7222ecfe51"
   },
   "outputs": [
    {
     "name": "stderr",
     "output_type": "stream",
     "text": [
      "/usr/local/lib/python3.7/dist-packages/seaborn/distributions.py:2619: FutureWarning: `distplot` is a deprecated function and will be removed in a future version. Please adapt your code to use either `displot` (a figure-level function with similar flexibility) or `histplot` (an axes-level function for histograms).\n",
      "  warnings.warn(msg, FutureWarning)\n"
     ]
    },
    {
     "data": {
      "image/png": "[encoded data removed]",
      "text/plain": [
       "<Figure size 432x288 with 1 Axes>"
      ]
     },
     "metadata": {
      "needs_background": "light"
     },
     "output_type": "display_data"
    }
   ],
   "source": [
    "import matplotlib.pyplot as plt\n",
    "import seaborn as sns\n",
    "\n",
    "sns.distplot([0, 1, 2, 3, 4, 5])\n",
    "\n",
    "plt.show()"
   ]
  },
  {
   "cell_type": "markdown",
   "metadata": {
    "id": "HQT9fLjg8l8L"
   },
   "source": [
    "## Plotting a Distplot Without the Histogram"
   ]
  },
  {
   "cell_type": "code",
   "execution_count": null,
   "metadata": {
    "colab": {
     "base_uri": "https://localhost:8080/"
    },
    "executionInfo": {
     "elapsed": 61,
     "status": "ok",
     "timestamp": 1665821065475,
     "user": {
      "displayName": "sree dhar",
      "userId": "18078165690993073471"
     },
     "user_tz": -330
    },
    "id": "RAyRdbXU8n5u",
    "outputId": "12f90bc9-7442-4ded-d4a4-5b10c1e2ae4e"
   },
   "outputs": [
    {
     "name": "stderr",
     "output_type": "stream",
     "text": [
      "/usr/local/lib/python3.7/dist-packages/seaborn/distributions.py:2619: FutureWarning: `distplot` is a deprecated function and will be removed in a future version. Please adapt your code to use either `displot` (a figure-level function with similar flexibility) or `kdeplot` (an axes-level function for kernel density plots).\n",
      "  warnings.warn(msg, FutureWarning)\n"
     ]
    },
    {
     "data": {
      "image/png": "[encoded data removed]",
      "text/plain": [
       "<Figure size 432x288 with 1 Axes>"
      ]
     },
     "metadata": {
      "needs_background": "light"
     },
     "output_type": "display_data"
    }
   ],
   "source": [
    "\n",
    "import matplotlib.pyplot as plt\n",
    "import seaborn as sns\n",
    "\n",
    "sns.distplot([0, 1, 2, 3, 4, 5], hist=False)\n",
    "\n",
    "plt.show()"
   ]
  },
  {
   "cell_type": "markdown",
   "metadata": {
    "id": "jrWV46Ly8vHt"
   },
   "source": [
    "# Normal (Gaussian) Distribution"
   ]
  },
  {
   "cell_type": "markdown",
   "metadata": {
    "id": "475vE8VZ8y2o"
   },
   "source": [
    "## Normal Distribution"
   ]
  },
  {
   "cell_type": "code",
   "execution_count": null,
   "metadata": {
    "colab": {
     "base_uri": "https://localhost:8080/"
    },
    "executionInfo": {
     "elapsed": 56,
     "status": "ok",
     "timestamp": 1665821065478,
     "user": {
      "displayName": "sree dhar",
      "userId": "18078165690993073471"
     },
     "user_tz": -330
    },
    "id": "3T6kjQBt816-",
    "outputId": "0001b3dd-bf32-4b0a-dfb3-1c8b80c8c6ad"
   },
   "outputs": [
    {
     "name": "stdout",
     "output_type": "stream",
     "text": [
      "[[-0.91339961 -1.93602387 -1.17407646]\n",
      " [ 0.43598575  0.27778527 -0.78613726]]\n"
     ]
    }
   ],
   "source": [
    "from numpy import random\n",
    "\n",
    "x = random.normal(size=(2, 3))\n",
    "\n",
    "print(x)\n"
   ]
  },
  {
   "cell_type": "code",
   "execution_count": null,
   "metadata": {
    "colab": {
     "base_uri": "https://localhost:8080/"
    },
    "executionInfo": {
     "elapsed": 55,
     "status": "ok",
     "timestamp": 1665821065480,
     "user": {
      "displayName": "sree dhar",
      "userId": "18078165690993073471"
     },
     "user_tz": -330
    },
    "id": "kjibiLa58262",
    "outputId": "f5a2ba16-b61f-4b75-e505-0dae15487ab4"
   },
   "outputs": [
    {
     "name": "stdout",
     "output_type": "stream",
     "text": [
      "[[1.97471417 3.32183133 2.96652843]\n",
      " [2.77564435 2.2517317  1.95392515]]\n"
     ]
    }
   ],
   "source": [
    "from numpy import random\n",
    "\n",
    "x = random.normal(loc=1, scale=2, size=(2, 3))\n",
    "\n",
    "print(x)\n"
   ]
  },
  {
   "cell_type": "markdown",
   "metadata": {
    "id": "jzlgJ_IW84sI"
   },
   "source": [
    "## Visualization of Normal Distribution"
   ]
  },
  {
   "cell_type": "code",
   "execution_count": null,
   "metadata": {
    "colab": {
     "base_uri": "https://localhost:8080/",
     "height": 320
    },
    "executionInfo": {
     "elapsed": 1425,
     "status": "ok",
     "timestamp": 1665821066852,
     "user": {
      "displayName": "sree dhar",
      "userId": "18078165690993073471"
     },
     "user_tz": -330
    },
    "id": "4LVgi_k286wU",
    "outputId": "1f38fb26-7a59-4481-abdc-db81bc864eed"
   },
   "outputs": [
    {
     "name": "stderr",
     "output_type": "stream",
     "text": [
      "/usr/local/lib/python3.7/dist-packages/seaborn/distributions.py:2619: FutureWarning: `distplot` is a deprecated function and will be removed in a future version. Please adapt your code to use either `displot` (a figure-level function with similar flexibility) or `kdeplot` (an axes-level function for kernel density plots).\n",
      "  warnings.warn(msg, FutureWarning)\n"
     ]
    },
    {
     "data": {
      "image/png": "[encoded data removed]",
      "text/plain": [
       "<Figure size 432x288 with 1 Axes>"
      ]
     },
     "metadata": {
      "needs_background": "light"
     },
     "output_type": "display_data"
    }
   ],
   "source": [
    "from numpy import random\n",
    "import matplotlib.pyplot as plt\n",
    "import seaborn as sns\n",
    "\n",
    "sns.distplot(random.normal(size=1000), hist=False)\n",
    "\n",
    "plt.show()"
   ]
  },
  {
   "cell_type": "markdown",
   "metadata": {
    "id": "Xt87h_yV8-ru"
   },
   "source": [
    "# Binomial Distribution"
   ]
  },
  {
   "cell_type": "markdown",
   "metadata": {
    "id": "YLtSYpVD9Dlp"
   },
   "source": [
    "## Binomial Distribution"
   ]
  },
  {
   "cell_type": "code",
   "execution_count": null,
   "metadata": {
    "colab": {
     "base_uri": "https://localhost:8080/"
    },
    "executionInfo": {
     "elapsed": 120,
     "status": "ok",
     "timestamp": 1665821066854,
     "user": {
      "displayName": "sree dhar",
      "userId": "18078165690993073471"
     },
     "user_tz": -330
    },
    "id": "H3QkuXyS9GUQ",
    "outputId": "0e0d136d-3041-40dc-9485-8e66e95cb903"
   },
   "outputs": [
    {
     "name": "stdout",
     "output_type": "stream",
     "text": [
      "[5 3 4 4 4 7 3 4 5 5]\n"
     ]
    }
   ],
   "source": [
    "from numpy import random\n",
    "\n",
    "x = random.binomial(n=10, p=0.5, size=10)\n",
    "\n",
    "print(x)"
   ]
  },
  {
   "cell_type": "markdown",
   "metadata": {
    "id": "_Nz7rKMq9HaD"
   },
   "source": [
    "## Visualization of Binomial Distribution"
   ]
  },
  {
   "cell_type": "code",
   "execution_count": null,
   "metadata": {
    "colab": {
     "base_uri": "https://localhost:8080/",
     "height": 320
    },
    "executionInfo": {
     "elapsed": 114,
     "status": "ok",
     "timestamp": 1665821066855,
     "user": {
      "displayName": "sree dhar",
      "userId": "18078165690993073471"
     },
     "user_tz": -330
    },
    "id": "4iUgDuW99JPp",
    "outputId": "05c39704-f49a-44fe-ee63-7019ddf72886"
   },
   "outputs": [
    {
     "name": "stderr",
     "output_type": "stream",
     "text": [
      "/usr/local/lib/python3.7/dist-packages/seaborn/distributions.py:2619: FutureWarning: `distplot` is a deprecated function and will be removed in a future version. Please adapt your code to use either `displot` (a figure-level function with similar flexibility) or `histplot` (an axes-level function for histograms).\n",
      "  warnings.warn(msg, FutureWarning)\n"
     ]
    },
    {
     "data": {
      "image/png": "[encoded data removed]",
      "text/plain": [
       "<Figure size 432x288 with 1 Axes>"
      ]
     },
     "metadata": {
      "needs_background": "light"
     },
     "output_type": "display_data"
    }
   ],
   "source": [
    "from numpy import random\n",
    "import matplotlib.pyplot as plt\n",
    "import seaborn as sns\n",
    "\n",
    "sns.distplot(random.binomial(n=10, p=0.5, size=1000), hist=True, kde=False)\n",
    "\n",
    "plt.show()"
   ]
  },
  {
   "cell_type": "markdown",
   "metadata": {
    "id": "_zWacxUg9Kzj"
   },
   "source": [
    "## Difference Between Normal and Binomial Distribution"
   ]
  },
  {
   "cell_type": "code",
   "execution_count": null,
   "metadata": {
    "colab": {
     "base_uri": "https://localhost:8080/",
     "height": 357
    },
    "executionInfo": {
     "elapsed": 110,
     "status": "ok",
     "timestamp": 1665821066857,
     "user": {
      "displayName": "sree dhar",
      "userId": "18078165690993073471"
     },
     "user_tz": -330
    },
    "id": "yfCScz6y9MQp",
    "outputId": "bbed6c57-11c4-41fd-8388-a25eeedbdc1b"
   },
   "outputs": [
    {
     "name": "stderr",
     "output_type": "stream",
     "text": [
      "/usr/local/lib/python3.7/dist-packages/seaborn/distributions.py:2619: FutureWarning: `distplot` is a deprecated function and will be removed in a future version. Please adapt your code to use either `displot` (a figure-level function with similar flexibility) or `kdeplot` (an axes-level function for kernel density plots).\n",
      "  warnings.warn(msg, FutureWarning)\n",
      "/usr/local/lib/python3.7/dist-packages/seaborn/distributions.py:2619: FutureWarning: `distplot` is a deprecated function and will be removed in a future version. Please adapt your code to use either `displot` (a figure-level function with similar flexibility) or `kdeplot` (an axes-level function for kernel density plots).\n",
      "  warnings.warn(msg, FutureWarning)\n"
     ]
    },
    {
     "data": {
      "image/png": "[encoded data removed]",
      "text/plain": [
       "<Figure size 432x288 with 1 Axes>"
      ]
     },
     "metadata": {
      "needs_background": "light"
     },
     "output_type": "display_data"
    }
   ],
   "source": [
    "from numpy import random\n",
    "import matplotlib.pyplot as plt\n",
    "import seaborn as sns\n",
    "\n",
    "sns.distplot(random.normal(loc=50, scale=5, size=1000), hist=False, label='normal')\n",
    "sns.distplot(random.binomial(n=100, p=0.5, size=1000), hist=False, label='binomial')\n",
    "\n",
    "plt.show()"
   ]
  },
  {
   "cell_type": "markdown",
   "metadata": {
    "id": "_gjM79IY9OLy"
   },
   "source": [
    "# Poisson Distribution"
   ]
  },
  {
   "cell_type": "markdown",
   "metadata": {
    "id": "bmWG7Z-f9QvA"
   },
   "source": [
    "## Poisson Distribution"
   ]
  },
  {
   "cell_type": "code",
   "execution_count": null,
   "metadata": {
    "colab": {
     "base_uri": "https://localhost:8080/"
    },
    "executionInfo": {
     "elapsed": 101,
     "status": "ok",
     "timestamp": 1665821066858,
     "user": {
      "displayName": "sree dhar",
      "userId": "18078165690993073471"
     },
     "user_tz": -330
    },
    "id": "fIIaWabO9TGf",
    "outputId": "da1c7b3f-0008-48c1-95bc-5b29d2a36c8a"
   },
   "outputs": [
    {
     "name": "stdout",
     "output_type": "stream",
     "text": [
      "[0 2 0 1 2 3 3 2 0 1]\n"
     ]
    }
   ],
   "source": [
    "from numpy import random\n",
    "\n",
    "x = random.poisson(lam=2, size=10)\n",
    "\n",
    "print(x)"
   ]
  },
  {
   "cell_type": "markdown",
   "metadata": {
    "id": "L41xzE1J9ULP"
   },
   "source": [
    "## Visualization of Poisson Distribution"
   ]
  },
  {
   "cell_type": "code",
   "execution_count": null,
   "metadata": {
    "colab": {
     "base_uri": "https://localhost:8080/",
     "height": 320
    },
    "executionInfo": {
     "elapsed": 100,
     "status": "ok",
     "timestamp": 1665821066860,
     "user": {
      "displayName": "sree dhar",
      "userId": "18078165690993073471"
     },
     "user_tz": -330
    },
    "id": "q6bgf_ha9Vtx",
    "outputId": "751ee1bc-5491-4b71-d292-a617f58e613d"
   },
   "outputs": [
    {
     "name": "stderr",
     "output_type": "stream",
     "text": [
      "/usr/local/lib/python3.7/dist-packages/seaborn/distributions.py:2619: FutureWarning: `distplot` is a deprecated function and will be removed in a future version. Please adapt your code to use either `displot` (a figure-level function with similar flexibility) or `histplot` (an axes-level function for histograms).\n",
      "  warnings.warn(msg, FutureWarning)\n"
     ]
    },
    {
     "data": {
      "image/png": "[encoded data removed]",
      "text/plain": [
       "<Figure size 432x288 with 1 Axes>"
      ]
     },
     "metadata": {
      "needs_background": "light"
     },
     "output_type": "display_data"
    }
   ],
   "source": [
    "from numpy import random\n",
    "import matplotlib.pyplot as plt\n",
    "import seaborn as sns\n",
    "\n",
    "sns.distplot(random.poisson(lam=2, size=1000), kde=False)\n",
    "\n",
    "plt.show()"
   ]
  },
  {
   "cell_type": "markdown",
   "metadata": {
    "id": "lxw7YiC69X8h"
   },
   "source": [
    "## Difference Between Normal and Poisson Distribution"
   ]
  },
  {
   "cell_type": "code",
   "execution_count": null,
   "metadata": {
    "colab": {
     "base_uri": "https://localhost:8080/",
     "height": 354
    },
    "executionInfo": {
     "elapsed": 94,
     "status": "ok",
     "timestamp": 1665821066862,
     "user": {
      "displayName": "sree dhar",
      "userId": "18078165690993073471"
     },
     "user_tz": -330
    },
    "id": "l1kO6SZX9ZX1",
    "outputId": "46640709-0206-414b-d3d3-9eb4636939a9"
   },
   "outputs": [
    {
     "name": "stderr",
     "output_type": "stream",
     "text": [
      "/usr/local/lib/python3.7/dist-packages/seaborn/distributions.py:2619: FutureWarning: `distplot` is a deprecated function and will be removed in a future version. Please adapt your code to use either `displot` (a figure-level function with similar flexibility) or `kdeplot` (an axes-level function for kernel density plots).\n",
      "  warnings.warn(msg, FutureWarning)\n",
      "/usr/local/lib/python3.7/dist-packages/seaborn/distributions.py:2619: FutureWarning: `distplot` is a deprecated function and will be removed in a future version. Please adapt your code to use either `displot` (a figure-level function with similar flexibility) or `kdeplot` (an axes-level function for kernel density plots).\n",
      "  warnings.warn(msg, FutureWarning)\n"
     ]
    },
    {
     "data": {
      "image/png": "[encoded data removed]",
      "text/plain": [
       "<Figure size 432x288 with 1 Axes>"
      ]
     },
     "metadata": {
      "needs_background": "light"
     },
     "output_type": "display_data"
    }
   ],
   "source": [
    "from numpy import random\n",
    "import matplotlib.pyplot as plt\n",
    "import seaborn as sns\n",
    "\n",
    "sns.distplot(random.normal(loc=50, scale=7, size=1000), hist=False, label='normal')\n",
    "sns.distplot(random.poisson(lam=50, size=1000), hist=False, label='poisson')\n",
    "\n",
    "plt.show()"
   ]
  },
  {
   "cell_type": "markdown",
   "metadata": {
    "id": "ua-B-fQ09azQ"
   },
   "source": [
    "## Difference Between Poisson and Binomial Distribution"
   ]
  },
  {
   "cell_type": "code",
   "execution_count": null,
   "metadata": {
    "colab": {
     "base_uri": "https://localhost:8080/",
     "height": 354
    },
    "executionInfo": {
     "elapsed": 87,
     "status": "ok",
     "timestamp": 1665821066863,
     "user": {
      "displayName": "sree dhar",
      "userId": "18078165690993073471"
     },
     "user_tz": -330
    },
    "id": "ERwZadVk9cnE",
    "outputId": "649d2567-be97-4924-8a22-1df276690889"
   },
   "outputs": [
    {
     "name": "stderr",
     "output_type": "stream",
     "text": [
      "/usr/local/lib/python3.7/dist-packages/seaborn/distributions.py:2619: FutureWarning: `distplot` is a deprecated function and will be removed in a future version. Please adapt your code to use either `displot` (a figure-level function with similar flexibility) or `kdeplot` (an axes-level function for kernel density plots).\n",
      "  warnings.warn(msg, FutureWarning)\n",
      "/usr/local/lib/python3.7/dist-packages/seaborn/distributions.py:2619: FutureWarning: `distplot` is a deprecated function and will be removed in a future version. Please adapt your code to use either `displot` (a figure-level function with similar flexibility) or `kdeplot` (an axes-level function for kernel density plots).\n",
      "  warnings.warn(msg, FutureWarning)\n"
     ]
    },
    {
     "data": {
      "image/png": "[encoded data removed]",
      "text/plain": [
       "<Figure size 432x288 with 1 Axes>"
      ]
     },
     "metadata": {
      "needs_background": "light"
     },
     "output_type": "display_data"
    }
   ],
   "source": [
    "from numpy import random\n",
    "import matplotlib.pyplot as plt\n",
    "import seaborn as sns\n",
    "\n",
    "sns.distplot(random.binomial(n=1000, p=0.01, size=1000), hist=False, label='binomial')\n",
    "sns.distplot(random.poisson(lam=10, size=1000), hist=False, label='poisson')\n",
    "\n",
    "plt.show()"
   ]
  },
  {
   "cell_type": "markdown",
   "metadata": {
    "id": "4Md488Kn9g_J"
   },
   "source": [
    "# Uniform Distribution"
   ]
  },
  {
   "cell_type": "markdown",
   "metadata": {
    "id": "wg3nkuT89l8Q"
   },
   "source": [
    "## Uniform Distribution"
   ]
  },
  {
   "cell_type": "code",
   "execution_count": null,
   "metadata": {
    "colab": {
     "base_uri": "https://localhost:8080/"
    },
    "executionInfo": {
     "elapsed": 82,
     "status": "ok",
     "timestamp": 1665821066865,
     "user": {
      "displayName": "sree dhar",
      "userId": "18078165690993073471"
     },
     "user_tz": -330
    },
    "id": "Pp1cVdr99oMe",
    "outputId": "18bb53cb-9469-41b0-9b3a-748008c67188"
   },
   "outputs": [
    {
     "name": "stdout",
     "output_type": "stream",
     "text": [
      "[[0.12442678 0.74130899 0.74978906]\n",
      " [0.43604688 0.86834433 0.09427556]]\n"
     ]
    }
   ],
   "source": [
    "from numpy import random\n",
    "\n",
    "x = random.uniform(size=(2, 3))\n",
    "\n",
    "print(x)"
   ]
  },
  {
   "cell_type": "markdown",
   "metadata": {
    "id": "0oRp8WlO9pmX"
   },
   "source": [
    "## Visualization of Uniform Distribution"
   ]
  },
  {
   "cell_type": "code",
   "execution_count": null,
   "metadata": {
    "id": "rnmBKmvR9rX6"
   },
   "outputs": [],
   "source": []
  },
  {
   "cell_type": "code",
   "execution_count": null,
   "metadata": {
    "colab": {
     "base_uri": "https://localhost:8080/",
     "height": 320
    },
    "executionInfo": {
     "elapsed": 1468,
     "status": "ok",
     "timestamp": 1665821068256,
     "user": {
      "displayName": "sree dhar",
      "userId": "18078165690993073471"
     },
     "user_tz": -330
    },
    "id": "tJypNNB-9scr",
    "outputId": "4b2e620c-eb52-460d-da7a-7e5eca20f13f"
   },
   "outputs": [
    {
     "name": "stderr",
     "output_type": "stream",
     "text": [
      "/usr/local/lib/python3.7/dist-packages/seaborn/distributions.py:2619: FutureWarning: `distplot` is a deprecated function and will be removed in a future version. Please adapt your code to use either `displot` (a figure-level function with similar flexibility) or `kdeplot` (an axes-level function for kernel density plots).\n",
      "  warnings.warn(msg, FutureWarning)\n"
     ]
    },
    {
     "data": {
      "image/png": "[encoded data removed]",
      "text/plain": [
       "<Figure size 432x288 with 1 Axes>"
      ]
     },
     "metadata": {
      "needs_background": "light"
     },
     "output_type": "display_data"
    }
   ],
   "source": [
    "from numpy import random\n",
    "import matplotlib.pyplot as plt\n",
    "import seaborn as sns\n",
    "\n",
    "sns.distplot(random.uniform(size=1000), hist=False)\n",
    "\n",
    "plt.show()"
   ]
  },
  {
   "cell_type": "markdown",
   "metadata": {
    "id": "JSJOCHdt9uzl"
   },
   "source": [
    "# Logistic Distribution"
   ]
  },
  {
   "cell_type": "code",
   "execution_count": null,
   "metadata": {
    "colab": {
     "base_uri": "https://localhost:8080/"
    },
    "executionInfo": {
     "elapsed": 134,
     "status": "ok",
     "timestamp": 1665821068258,
     "user": {
      "displayName": "sree dhar",
      "userId": "18078165690993073471"
     },
     "user_tz": -330
    },
    "id": "-hIiIA9j9ypf",
    "outputId": "53380459-c818-42c2-f225-13400b1128c0"
   },
   "outputs": [
    {
     "name": "stdout",
     "output_type": "stream",
     "text": [
      "[[ 6.08043394 -3.69476953  4.77221432]\n",
      " [ 1.47505213 -0.45302744  1.40872867]]\n"
     ]
    }
   ],
   "source": [
    "from numpy import random\n",
    "\n",
    "x = random.logistic(loc=1, scale=2, size=(2, 3))\n",
    "\n",
    "print(x)"
   ]
  },
  {
   "cell_type": "markdown",
   "metadata": {
    "id": "mcbjHsv29z__"
   },
   "source": [
    "## Visualization of Logistic Distribution"
   ]
  },
  {
   "cell_type": "code",
   "execution_count": null,
   "metadata": {
    "colab": {
     "base_uri": "https://localhost:8080/"
    },
    "executionInfo": {
     "elapsed": 133,
     "status": "ok",
     "timestamp": 1665821068260,
     "user": {
      "displayName": "sree dhar",
      "userId": "18078165690993073471"
     },
     "user_tz": -330
    },
    "id": "MjpCJZQB9107",
    "outputId": "30c54c88-701f-4cd1-d216-7118a13457fe"
   },
   "outputs": [
    {
     "name": "stderr",
     "output_type": "stream",
     "text": [
      "/usr/local/lib/python3.7/dist-packages/seaborn/distributions.py:2619: FutureWarning: `distplot` is a deprecated function and will be removed in a future version. Please adapt your code to use either `displot` (a figure-level function with similar flexibility) or `kdeplot` (an axes-level function for kernel density plots).\n",
      "  warnings.warn(msg, FutureWarning)\n"
     ]
    },
    {
     "data": {
      "image/png": "[encoded data removed]",
      "text/plain": [
       "<Figure size 432x288 with 1 Axes>"
      ]
     },
     "metadata": {
      "needs_background": "light"
     },
     "output_type": "display_data"
    }
   ],
   "source": [
    "from numpy import random\n",
    "import matplotlib.pyplot as plt\n",
    "import seaborn as sns\n",
    "\n",
    "sns.distplot(random.logistic(size=1000), hist=False)\n",
    "\n",
    "plt.show()"
   ]
  },
  {
   "cell_type": "markdown",
   "metadata": {
    "id": "zTA8gZpN93fv"
   },
   "source": [
    "## Difference Between Logistic and Normal Distribution"
   ]
  },
  {
   "cell_type": "code",
   "execution_count": null,
   "metadata": {
    "colab": {
     "base_uri": "https://localhost:8080/"
    },
    "executionInfo": {
     "elapsed": 129,
     "status": "ok",
     "timestamp": 1665821068262,
     "user": {
      "displayName": "sree dhar",
      "userId": "18078165690993073471"
     },
     "user_tz": -330
    },
    "id": "DJ2xh4hC97R0",
    "outputId": "fb738b4b-f0c5-4fc4-984c-a51c92284346"
   },
   "outputs": [
    {
     "name": "stderr",
     "output_type": "stream",
     "text": [
      "/usr/local/lib/python3.7/dist-packages/seaborn/distributions.py:2619: FutureWarning: `distplot` is a deprecated function and will be removed in a future version. Please adapt your code to use either `displot` (a figure-level function with similar flexibility) or `kdeplot` (an axes-level function for kernel density plots).\n",
      "  warnings.warn(msg, FutureWarning)\n",
      "/usr/local/lib/python3.7/dist-packages/seaborn/distributions.py:2619: FutureWarning: `distplot` is a deprecated function and will be removed in a future version. Please adapt your code to use either `displot` (a figure-level function with similar flexibility) or `kdeplot` (an axes-level function for kernel density plots).\n",
      "  warnings.warn(msg, FutureWarning)\n"
     ]
    },
    {
     "data": {
      "image/png": "[encoded data removed]",
      "text/plain": [
       "<Figure size 432x288 with 1 Axes>"
      ]
     },
     "metadata": {
      "needs_background": "light"
     },
     "output_type": "display_data"
    }
   ],
   "source": [
    "from numpy import random\n",
    "import matplotlib.pyplot as plt\n",
    "import seaborn as sns\n",
    "\n",
    "sns.distplot(random.normal(scale=2, size=1000), hist=False, label='normal')\n",
    "sns.distplot(random.logistic(size=1000), hist=False, label='logistic')\n",
    "\n",
    "plt.show()"
   ]
  },
  {
   "cell_type": "markdown",
   "metadata": {
    "id": "sFzKQ_dO99F3"
   },
   "source": [
    "# Multinomial Distribution"
   ]
  },
  {
   "cell_type": "code",
   "execution_count": null,
   "metadata": {
    "colab": {
     "base_uri": "https://localhost:8080/"
    },
    "executionInfo": {
     "elapsed": 124,
     "status": "ok",
     "timestamp": 1665821068263,
     "user": {
      "displayName": "sree dhar",
      "userId": "18078165690993073471"
     },
     "user_tz": -330
    },
    "id": "4v_SDIGC-svO",
    "outputId": "8aa5c12c-6c3d-43e0-b840-cf2785404d3e"
   },
   "outputs": [
    {
     "name": "stdout",
     "output_type": "stream",
     "text": [
      "[3 1 0 2 0 0]\n"
     ]
    }
   ],
   "source": [
    "from numpy import random\n",
    "\n",
    "x = random.multinomial(n=6, pvals=[1/6, 1/6, 1/6, 1/6, 1/6, 1/6])\n",
    "\n",
    "print(x)"
   ]
  },
  {
   "cell_type": "markdown",
   "metadata": {
    "id": "mgmGBx4F-v_4"
   },
   "source": [
    "# Exponential Distribution"
   ]
  },
  {
   "cell_type": "code",
   "execution_count": null,
   "metadata": {
    "colab": {
     "base_uri": "https://localhost:8080/"
    },
    "executionInfo": {
     "elapsed": 123,
     "status": "ok",
     "timestamp": 1665821068265,
     "user": {
      "displayName": "sree dhar",
      "userId": "18078165690993073471"
     },
     "user_tz": -330
    },
    "id": "9yTyoFBr-0c2",
    "outputId": "4ebfc281-ef8a-4d0a-ab0e-cb1d58e5edb3"
   },
   "outputs": [
    {
     "name": "stdout",
     "output_type": "stream",
     "text": [
      "[[2.13096176 1.24760569 8.9790006 ]\n",
      " [6.94375524 3.42681872 1.86766784]]\n"
     ]
    }
   ],
   "source": [
    "from numpy import random\n",
    "\n",
    "x = random.exponential(scale=2, size=(2, 3))\n",
    "\n",
    "print(x)"
   ]
  },
  {
   "cell_type": "markdown",
   "metadata": {
    "id": "wldQi6Bi-2fY"
   },
   "source": [
    "## Visualization of Exponential Distribution"
   ]
  },
  {
   "cell_type": "code",
   "execution_count": null,
   "metadata": {
    "colab": {
     "base_uri": "https://localhost:8080/"
    },
    "executionInfo": {
     "elapsed": 121,
     "status": "ok",
     "timestamp": 1665821068266,
     "user": {
      "displayName": "sree dhar",
      "userId": "18078165690993073471"
     },
     "user_tz": -330
    },
    "id": "eSJvhlFb-4Fo",
    "outputId": "28b1986a-b839-4190-8d73-33da4b37c972"
   },
   "outputs": [
    {
     "name": "stderr",
     "output_type": "stream",
     "text": [
      "/usr/local/lib/python3.7/dist-packages/seaborn/distributions.py:2619: FutureWarning: `distplot` is a deprecated function and will be removed in a future version. Please adapt your code to use either `displot` (a figure-level function with similar flexibility) or `kdeplot` (an axes-level function for kernel density plots).\n",
      "  warnings.warn(msg, FutureWarning)\n"
     ]
    },
    {
     "data": {
      "image/png": "[encoded data removed]",
      "text/plain": [
       "<Figure size 432x288 with 1 Axes>"
      ]
     },
     "metadata": {
      "needs_background": "light"
     },
     "output_type": "display_data"
    }
   ],
   "source": [
    "from numpy import random\n",
    "import matplotlib.pyplot as plt\n",
    "import seaborn as sns\n",
    "\n",
    "sns.distplot(random.exponential(size=1000), hist=False)\n",
    "\n",
    "plt.show()"
   ]
  },
  {
   "cell_type": "markdown",
   "metadata": {
    "id": "yotqT6yo-6oo"
   },
   "source": [
    "# Chi Square Distribution"
   ]
  },
  {
   "cell_type": "code",
   "execution_count": null,
   "metadata": {
    "colab": {
     "base_uri": "https://localhost:8080/"
    },
    "executionInfo": {
     "elapsed": 112,
     "status": "ok",
     "timestamp": 1665821068268,
     "user": {
      "displayName": "sree dhar",
      "userId": "18078165690993073471"
     },
     "user_tz": -330
    },
    "id": "SYPlF2gM-9Sg",
    "outputId": "f43c978f-4dd3-43a0-f154-950a5101ed42"
   },
   "outputs": [
    {
     "name": "stdout",
     "output_type": "stream",
     "text": [
      "[[0.19115618 5.1290561  0.0946614 ]\n",
      " [1.01572526 1.55778716 2.06053144]]\n"
     ]
    }
   ],
   "source": [
    "from numpy import random\n",
    "\n",
    "x = random.chisquare(df=2, size=(2, 3))\n",
    "\n",
    "print(x)\n"
   ]
  },
  {
   "cell_type": "markdown",
   "metadata": {
    "id": "I0xlPQE3--St"
   },
   "source": [
    "## Visualization of Chi Square Distribution"
   ]
  },
  {
   "cell_type": "code",
   "execution_count": null,
   "metadata": {
    "colab": {
     "base_uri": "https://localhost:8080/"
    },
    "executionInfo": {
     "elapsed": 108,
     "status": "ok",
     "timestamp": 1665821068269,
     "user": {
      "displayName": "sree dhar",
      "userId": "18078165690993073471"
     },
     "user_tz": -330
    },
    "id": "HMBm4DEs-_c2",
    "outputId": "9f58ae13-881b-419d-daf5-8dc6aa6d690a"
   },
   "outputs": [
    {
     "name": "stderr",
     "output_type": "stream",
     "text": [
      "/usr/local/lib/python3.7/dist-packages/seaborn/distributions.py:2619: FutureWarning: `distplot` is a deprecated function and will be removed in a future version. Please adapt your code to use either `displot` (a figure-level function with similar flexibility) or `kdeplot` (an axes-level function for kernel density plots).\n",
      "  warnings.warn(msg, FutureWarning)\n"
     ]
    },
    {
     "data": {
      "image/png": "[encoded data removed]",
      "text/plain": [
       "<Figure size 432x288 with 1 Axes>"
      ]
     },
     "metadata": {
      "needs_background": "light"
     },
     "output_type": "display_data"
    }
   ],
   "source": [
    "from numpy import random\n",
    "import matplotlib.pyplot as plt\n",
    "import seaborn as sns\n",
    "\n",
    "sns.distplot(random.chisquare(df=1, size=1000), hist=False)\n",
    "\n",
    "plt.show()"
   ]
  },
  {
   "cell_type": "markdown",
   "metadata": {
    "id": "-7CK6AFq_BJU"
   },
   "source": [
    "# Rayleigh Distribution"
   ]
  },
  {
   "cell_type": "code",
   "execution_count": null,
   "metadata": {
    "colab": {
     "base_uri": "https://localhost:8080/"
    },
    "executionInfo": {
     "elapsed": 105,
     "status": "ok",
     "timestamp": 1665821068271,
     "user": {
      "displayName": "sree dhar",
      "userId": "18078165690993073471"
     },
     "user_tz": -330
    },
    "id": "2LxKcYu-_Dvi",
    "outputId": "8ff24899-1f25-4e1d-d2aa-674de1bdadd7"
   },
   "outputs": [
    {
     "name": "stdout",
     "output_type": "stream",
     "text": [
      "[[3.88106655 1.68544019 3.38441367]\n",
      " [2.67801589 1.98811715 1.61137821]]\n"
     ]
    }
   ],
   "source": [
    "from numpy import random\n",
    "\n",
    "x = random.rayleigh(scale=2, size=(2, 3))\n",
    "\n",
    "print(x)\n"
   ]
  },
  {
   "cell_type": "markdown",
   "metadata": {
    "id": "TI-WhsEJ_E6S"
   },
   "source": [
    "## Visualization of Rayleigh Distribution"
   ]
  },
  {
   "cell_type": "code",
   "execution_count": null,
   "metadata": {
    "colab": {
     "base_uri": "https://localhost:8080/"
    },
    "executionInfo": {
     "elapsed": 103,
     "status": "ok",
     "timestamp": 1665821068273,
     "user": {
      "displayName": "sree dhar",
      "userId": "18078165690993073471"
     },
     "user_tz": -330
    },
    "id": "QrSaXQDp_GPa",
    "outputId": "9752e713-c4d7-4057-bc17-af584cfc69e0"
   },
   "outputs": [
    {
     "name": "stderr",
     "output_type": "stream",
     "text": [
      "/usr/local/lib/python3.7/dist-packages/seaborn/distributions.py:2619: FutureWarning: `distplot` is a deprecated function and will be removed in a future version. Please adapt your code to use either `displot` (a figure-level function with similar flexibility) or `kdeplot` (an axes-level function for kernel density plots).\n",
      "  warnings.warn(msg, FutureWarning)\n"
     ]
    },
    {
     "data": {
      "image/png": "[encoded data removed]",
      "text/plain": [
       "<Figure size 432x288 with 1 Axes>"
      ]
     },
     "metadata": {
      "needs_background": "light"
     },
     "output_type": "display_data"
    }
   ],
   "source": [
    "from numpy import random\n",
    "import matplotlib.pyplot as plt\n",
    "import seaborn as sns\n",
    "\n",
    "sns.distplot(random.rayleigh(size=1000), hist=False)\n",
    "\n",
    "plt.show()"
   ]
  },
  {
   "cell_type": "markdown",
   "metadata": {
    "id": "HcBIaPK3_I-Y"
   },
   "source": [
    "# Pareto Distribution"
   ]
  },
  {
   "cell_type": "code",
   "execution_count": null,
   "metadata": {
    "colab": {
     "base_uri": "https://localhost:8080/"
    },
    "executionInfo": {
     "elapsed": 99,
     "status": "ok",
     "timestamp": 1665821068274,
     "user": {
      "displayName": "sree dhar",
      "userId": "18078165690993073471"
     },
     "user_tz": -330
    },
    "id": "ifN0PUK2_NFb",
    "outputId": "09189133-e574-46e9-d728-44100df7a468"
   },
   "outputs": [
    {
     "name": "stdout",
     "output_type": "stream",
     "text": [
      "[[3.99751545 0.69594388 0.1548843 ]\n",
      " [0.14876451 1.74890066 0.9991978 ]]\n"
     ]
    }
   ],
   "source": [
    "from numpy import random\n",
    "\n",
    "x = random.pareto(a=2, size=(2, 3))\n",
    "\n",
    "print(x)"
   ]
  },
  {
   "cell_type": "markdown",
   "metadata": {
    "id": "n-ECE58L_OOZ"
   },
   "source": [
    "## Visualization of Pareto Distribution"
   ]
  },
  {
   "cell_type": "code",
   "execution_count": null,
   "metadata": {
    "colab": {
     "base_uri": "https://localhost:8080/"
    },
    "executionInfo": {
     "elapsed": 709,
     "status": "ok",
     "timestamp": 1665821068888,
     "user": {
      "displayName": "sree dhar",
      "userId": "18078165690993073471"
     },
     "user_tz": -330
    },
    "id": "p4yjj4mD_QFl",
    "outputId": "df4c1825-ffac-4481-d45b-84dc17eb4d48"
   },
   "outputs": [
    {
     "name": "stderr",
     "output_type": "stream",
     "text": [
      "/usr/local/lib/python3.7/dist-packages/seaborn/distributions.py:2619: FutureWarning: `distplot` is a deprecated function and will be removed in a future version. Please adapt your code to use either `displot` (a figure-level function with similar flexibility) or `histplot` (an axes-level function for histograms).\n",
      "  warnings.warn(msg, FutureWarning)\n"
     ]
    },
    {
     "data": {
      "image/png": "[encoded data removed]",
      "text/plain": [
       "<Figure size 432x288 with 1 Axes>"
      ]
     },
     "metadata": {
      "needs_background": "light"
     },
     "output_type": "display_data"
    }
   ],
   "source": [
    "from numpy import random\n",
    "import matplotlib.pyplot as plt\n",
    "import seaborn as sns\n",
    "\n",
    "sns.distplot(random.pareto(a=2, size=1000), kde=False)\n",
    "\n",
    "plt.show()"
   ]
  },
  {
   "cell_type": "markdown",
   "metadata": {
    "id": "l-1zNj6k_SFe"
   },
   "source": [
    "# Zipf Distribution"
   ]
  },
  {
   "cell_type": "code",
   "execution_count": null,
   "metadata": {
    "colab": {
     "base_uri": "https://localhost:8080/"
    },
    "executionInfo": {
     "elapsed": 69,
     "status": "ok",
     "timestamp": 1665821068890,
     "user": {
      "displayName": "sree dhar",
      "userId": "18078165690993073471"
     },
     "user_tz": -330
    },
    "id": "xmNWS_r5_Tef",
    "outputId": "c8a719ef-baea-48f3-ca7f-9b94239fb35a"
   },
   "outputs": [
    {
     "name": "stdout",
     "output_type": "stream",
     "text": [
      "[[1 1 1]\n",
      " [3 1 2]]\n"
     ]
    }
   ],
   "source": [
    "from numpy import random\n",
    "\n",
    "x = random.zipf(a=2, size=(2, 3))\n",
    "\n",
    "print(x)"
   ]
  },
  {
   "cell_type": "markdown",
   "metadata": {
    "id": "edb2G4Xg_VDY"
   },
   "source": [
    "## Visualization of Zipf Distribution"
   ]
  },
  {
   "cell_type": "code",
   "execution_count": null,
   "metadata": {
    "colab": {
     "base_uri": "https://localhost:8080/"
    },
    "executionInfo": {
     "elapsed": 64,
     "status": "ok",
     "timestamp": 1665821068892,
     "user": {
      "displayName": "sree dhar",
      "userId": "18078165690993073471"
     },
     "user_tz": -330
    },
    "id": "5vW8Xtqs_Wve",
    "outputId": "f0fbe40a-4899-45be-ba6e-bd12bf538592"
   },
   "outputs": [
    {
     "data": {
      "image/png": "[encoded data removed]",
      "text/plain": [
       "<Figure size 432x288 with 1 Axes>"
      ]
     },
     "metadata": {
      "needs_background": "light"
     },
     "output_type": "display_data"
    }
   ],
   "source": [
    "from numpy import random\n",
    "import matplotlib.pyplot as plt\n",
    "import seaborn as sns\n",
    "\n",
    "x = random.zipf(a=2, size=1000)\n",
    "sns.distplot(x[x<10], kde=False)\n",
    "\n",
    "plt.show()"
   ]
  }
 ],
 "metadata": {
  "colab": {
   "collapsed_sections": [
    "IawRWJvkkB-Z",
    "u6Rbu8yNkIl6",
    "2sCPL9VvkMj5",
    "RS5gBMVwkQtv",
    "_f1NWaDIkUKA",
    "wghaZ-xXkYdi",
    "_v4wrtZEkaER",
    "HYIgqJxHklog",
    "gjClaHwGkq_I",
    "ttmn-HbVkvC-",
    "HZYdZiMFkzuJ",
    "I5tMaXuPlGqb",
    "1oOf2wdclKZV",
    "Nf8xbjn3lQ6S",
    "dlYN3N9ClcR1",
    "cYvcwkzKlilF",
    "luGKCMpZl3AQ",
    "c2277DJFmMqF",
    "0nUez6sjmT7Q",
    "HQD3FjLamXf3",
    "1DMNcue7mdUR",
    "hPldt3X2mjx1",
    "9dhZwbvymnRo",
    "G5zeqrPImuj8",
    "_xV3n9RDmybr",
    "ycoq27yJtlTk",
    "8qe_kc1pw_fx",
    "DvPvFPgExc4Z",
    "nm_-aKPlxelQ",
    "ZysaUDW5xmpw",
    "6yzG0gOa5KVg",
    "CyLc8Asv5N3O",
    "eQXfB-uM5Qwh",
    "LgbEFJpJ5dc4",
    "cygvrjAT50Z7",
    "pZvuuHli8git",
    "3sD-feKS8jB8",
    "HQT9fLjg8l8L",
    "mcbjHsv29z__",
    "zTA8gZpN93fv",
    "wldQi6Bi-2fY",
    "I0xlPQE3--St",
    "TI-WhsEJ_E6S",
    "n-ECE58L_OOZ",
    "edb2G4Xg_VDY"
   ],
   "provenance": [
    {
     "file_id": "1ZMY3oKtmZ190e5p0GBzoWpJPpLbYXzIG",
     "timestamp": 1665814674781
    }
   ]
  },
  "kernelspec": {
   "display_name": "Python 3 (ipykernel)",
   "language": "python",
   "name": "python3"
  },
  "language_info": {
   "codemirror_mode": {
    "name": "ipython",
    "version": 3
   },
   "file_extension": ".py",
   "mimetype": "text/x-python",
   "name": "python",
   "nbconvert_exporter": "python",
   "pygments_lexer": "ipython3",
   "version": "3.9.16"
  }
 },
 "nbformat": 4,
 "nbformat_minor": 1
}
