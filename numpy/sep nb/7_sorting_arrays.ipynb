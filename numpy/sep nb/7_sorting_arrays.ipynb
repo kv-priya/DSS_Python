{
 "cells": [
  {
   "cell_type": "code",
   "execution_count": 1,
   "id": "46e2f8b0",
   "metadata": {},
   "outputs": [],
   "source": [
    "import numpy as np"
   ]
  },
  {
   "cell_type": "code",
   "execution_count": 7,
   "id": "4378802e",
   "metadata": {},
   "outputs": [
    {
     "name": "stdout",
     "output_type": "stream",
     "text": [
      "[[4 2 5 2 6 4 8 3 7 5]\n",
      " [6 2 8 3 5 2 8 9 4 6]]\n"
     ]
    }
   ],
   "source": [
    "a = np.array([[4,2,5,2,6,4,8,3,7,5],[6,2,8,3,5,2,8,9,4,6]])\n",
    "print(a) "
   ]
  },
  {
   "cell_type": "code",
   "execution_count": 8,
   "id": "3764baf0",
   "metadata": {},
   "outputs": [
    {
     "name": "stdout",
     "output_type": "stream",
     "text": [
      "[[2 2 3 4 4 5 5 6 7 8]\n",
      " [2 2 3 4 5 6 6 8 8 9]]\n"
     ]
    }
   ],
   "source": [
    "a.sort() # row wise sort\n",
    "print(a)"
   ]
  },
  {
   "cell_type": "code",
   "execution_count": 9,
   "id": "2bc3c654",
   "metadata": {},
   "outputs": [
    {
     "name": "stdout",
     "output_type": "stream",
     "text": [
      "[[4 2 5 2 6 4 8 3 7 5]\n",
      " [6 2 8 3 5 2 8 9 4 6]]\n"
     ]
    }
   ],
   "source": [
    "a = np.array([[4,2,5,2,6,4,8,3,7,5],[6,2,8,3,5,2,8,9,4,6]])\n",
    "print(a)"
   ]
  },
  {
   "cell_type": "code",
   "execution_count": 13,
   "id": "8f29de98",
   "metadata": {},
   "outputs": [
    {
     "name": "stdout",
     "output_type": "stream",
     "text": [
      "[[4 2 5 2 5 2 8 3 4 5]\n",
      " [6 2 8 3 6 4 8 9 7 6]]\n"
     ]
    }
   ],
   "source": [
    "a.sort(axis = 0) # column wise sort\n",
    "print(a)"
   ]
  }
 ],
 "metadata": {
  "kernelspec": {
   "display_name": "Python 3 (ipykernel)",
   "language": "python",
   "name": "python3"
  },
  "language_info": {
   "codemirror_mode": {
    "name": "ipython",
    "version": 3
   },
   "file_extension": ".py",
   "mimetype": "text/x-python",
   "name": "python",
   "nbconvert_exporter": "python",
   "pygments_lexer": "ipython3",
   "version": "3.9.12"
  }
 },
 "nbformat": 4,
 "nbformat_minor": 5
}
