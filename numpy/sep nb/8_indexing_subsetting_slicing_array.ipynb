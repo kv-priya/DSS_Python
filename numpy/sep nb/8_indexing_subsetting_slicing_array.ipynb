{
 "cells": [
  {
   "cell_type": "code",
   "execution_count": 1,
   "id": "46e2f8b0",
   "metadata": {},
   "outputs": [],
   "source": [
    "import numpy as np"
   ]
  },
  {
   "cell_type": "code",
   "execution_count": 22,
   "id": "4378802e",
   "metadata": {},
   "outputs": [
    {
     "name": "stdout",
     "output_type": "stream",
     "text": [
      "[[ 4  2  5  2  6  4  8  3  7  5]\n",
      " [ 6  2  8  3  5  2  8  9  4 10]]\n"
     ]
    }
   ],
   "source": [
    "a = np.array([[4,2,5,2,6,4,8,3,7,5],[6,2,8,3,5,2,8,9,4,10]])\n",
    "print(a) "
   ]
  },
  {
   "cell_type": "markdown",
   "id": "74f7374d",
   "metadata": {},
   "source": [
    "#### indexing"
   ]
  },
  {
   "cell_type": "code",
   "execution_count": 23,
   "id": "f9997021",
   "metadata": {},
   "outputs": [
    {
     "data": {
      "text/plain": [
       "array([4, 2, 5, 2, 6, 4, 8, 3, 7, 5])"
      ]
     },
     "execution_count": 23,
     "metadata": {},
     "output_type": "execute_result"
    }
   ],
   "source": [
    "a[0]"
   ]
  },
  {
   "cell_type": "code",
   "execution_count": 24,
   "id": "809d24aa",
   "metadata": {},
   "outputs": [
    {
     "data": {
      "text/plain": [
       "5"
      ]
     },
     "execution_count": 24,
     "metadata": {},
     "output_type": "execute_result"
    }
   ],
   "source": [
    "a[0][2]"
   ]
  },
  {
   "cell_type": "code",
   "execution_count": 25,
   "id": "ac668fb0",
   "metadata": {},
   "outputs": [
    {
     "data": {
      "text/plain": [
       "array([ 6,  2,  8,  3,  5,  2,  8,  9,  4, 10])"
      ]
     },
     "execution_count": 25,
     "metadata": {},
     "output_type": "execute_result"
    }
   ],
   "source": [
    "a[-1]"
   ]
  },
  {
   "cell_type": "code",
   "execution_count": 26,
   "id": "1dae7141",
   "metadata": {},
   "outputs": [
    {
     "data": {
      "text/plain": [
       "8"
      ]
     },
     "execution_count": 26,
     "metadata": {},
     "output_type": "execute_result"
    }
   ],
   "source": [
    "a[-1][2]"
   ]
  },
  {
   "cell_type": "code",
   "execution_count": 27,
   "id": "8622cbf7",
   "metadata": {},
   "outputs": [
    {
     "data": {
      "text/plain": [
       "9"
      ]
     },
     "execution_count": 27,
     "metadata": {},
     "output_type": "execute_result"
    }
   ],
   "source": [
    "a[-1][-3]"
   ]
  },
  {
   "cell_type": "markdown",
   "id": "0995d252",
   "metadata": {},
   "source": [
    "#### boolean indexing"
   ]
  },
  {
   "cell_type": "code",
   "execution_count": 30,
   "id": "d479f09b",
   "metadata": {},
   "outputs": [
    {
     "data": {
      "text/plain": [
       "array([ 6,  8,  7,  6,  8,  8,  9, 10])"
      ]
     },
     "execution_count": 30,
     "metadata": {},
     "output_type": "execute_result"
    }
   ],
   "source": [
    "# a>5\n",
    "a[a>5]"
   ]
  },
  {
   "cell_type": "markdown",
   "id": "6a7d7a78",
   "metadata": {},
   "source": [
    "#### fancy indexing"
   ]
  },
  {
   "cell_type": "code",
   "execution_count": 40,
   "id": "2b6f5e34",
   "metadata": {},
   "outputs": [
    {
     "data": {
      "text/plain": [
       "array([[ 4,  2,  5,  2,  6,  4,  8,  3,  7,  5],\n",
       "       [ 6,  2,  8,  3,  5,  2,  8,  9,  4, 10]])"
      ]
     },
     "execution_count": 40,
     "metadata": {},
     "output_type": "execute_result"
    }
   ],
   "source": [
    "a"
   ]
  },
  {
   "cell_type": "code",
   "execution_count": 41,
   "id": "b0344742",
   "metadata": {},
   "outputs": [
    {
     "name": "stdout",
     "output_type": "stream",
     "text": [
      "4 2 10 5\n",
      "[ 4  2 10  5]\n"
     ]
    }
   ],
   "source": [
    "print(a[0][0], a[0][1], a[-1][-1], a[1][4])\n",
    "print(a[[0,0,-1,1],[0,1,-1,4]]) # (0,0) (0,1) (-1,-1) (1,4)"
   ]
  },
  {
   "cell_type": "code",
   "execution_count": 46,
   "id": "e438942f",
   "metadata": {},
   "outputs": [
    {
     "data": {
      "text/plain": [
       "array([[ 6,  2,  4, 10],\n",
       "       [ 4,  2,  7,  5],\n",
       "       [ 6,  2,  4, 10],\n",
       "       [ 4,  2,  7,  5]])"
      ]
     },
     "execution_count": 46,
     "metadata": {},
     "output_type": "execute_result"
    }
   ],
   "source": [
    "a[[1,0,1,0]][:,[0,1,8,9]]"
   ]
  },
  {
   "cell_type": "markdown",
   "id": "b0a90423",
   "metadata": {},
   "source": [
    "#### subsetting"
   ]
  },
  {
   "cell_type": "code",
   "execution_count": 47,
   "id": "e487b3a0",
   "metadata": {},
   "outputs": [
    {
     "data": {
      "text/plain": [
       "array([[ 4,  2,  5,  2,  6,  4,  8,  3,  7,  5],\n",
       "       [ 6,  2,  8,  3,  5,  2,  8,  9,  4, 10]])"
      ]
     },
     "execution_count": 47,
     "metadata": {},
     "output_type": "execute_result"
    }
   ],
   "source": [
    "a"
   ]
  },
  {
   "cell_type": "code",
   "execution_count": 52,
   "id": "15934fda",
   "metadata": {},
   "outputs": [
    {
     "name": "stdout",
     "output_type": "stream",
     "text": [
      "5 5\n",
      "[ 6  2  8  3  5  2  8  9  4 10]\n"
     ]
    }
   ],
   "source": [
    "print(a[0][9], # indexing\n",
    "      a[0,9]) # subsetting\n",
    "print(a[1,:])"
   ]
  },
  {
   "cell_type": "markdown",
   "id": "35b52faa",
   "metadata": {},
   "source": [
    "#### slicing"
   ]
  },
  {
   "cell_type": "code",
   "execution_count": 72,
   "id": "16516ffb",
   "metadata": {},
   "outputs": [
    {
     "data": {
      "text/plain": [
       "array([[40, 20, 50, 20, 60, 40, 80, 30, 70, 50],\n",
       "       [ 6,  2,  8,  3,  5,  2,  8,  9,  4, 10]])"
      ]
     },
     "execution_count": 72,
     "metadata": {},
     "output_type": "execute_result"
    }
   ],
   "source": [
    "a"
   ]
  },
  {
   "cell_type": "code",
   "execution_count": 73,
   "id": "53bf35cf",
   "metadata": {},
   "outputs": [
    {
     "data": {
      "text/plain": [
       "array([[40, 20, 50, 20, 60, 40, 80, 30, 70, 50],\n",
       "       [ 6,  2,  8,  3,  5,  2,  8,  9,  4, 10]])"
      ]
     },
     "execution_count": 73,
     "metadata": {},
     "output_type": "execute_result"
    }
   ],
   "source": [
    "a[:]"
   ]
  },
  {
   "cell_type": "code",
   "execution_count": 74,
   "id": "ce8be5c1",
   "metadata": {},
   "outputs": [
    {
     "data": {
      "text/plain": [
       "array([[40, 20, 50, 20, 60, 40, 80, 30, 70, 50]])"
      ]
     },
     "execution_count": 74,
     "metadata": {},
     "output_type": "execute_result"
    }
   ],
   "source": [
    "a[0:1]"
   ]
  },
  {
   "cell_type": "code",
   "execution_count": 75,
   "id": "7dd173de",
   "metadata": {},
   "outputs": [
    {
     "data": {
      "text/plain": [
       "array([20,  2])"
      ]
     },
     "execution_count": 75,
     "metadata": {},
     "output_type": "execute_result"
    }
   ],
   "source": [
    "a[0:2,1]"
   ]
  },
  {
   "cell_type": "code",
   "execution_count": 78,
   "id": "32bc09f3",
   "metadata": {},
   "outputs": [
    {
     "data": {
      "text/plain": [
       "40"
      ]
     },
     "execution_count": 78,
     "metadata": {},
     "output_type": "execute_result"
    }
   ],
   "source": [
    "a[:-1,0][0]"
   ]
  },
  {
   "cell_type": "code",
   "execution_count": 80,
   "id": "6722e025",
   "metadata": {},
   "outputs": [
    {
     "data": {
      "text/plain": [
       "array([ 6,  2,  8,  3,  5,  2,  8,  9,  4, 10])"
      ]
     },
     "execution_count": 80,
     "metadata": {},
     "output_type": "execute_result"
    }
   ],
   "source": [
    "a[1, ...] # a[1,:]"
   ]
  },
  {
   "cell_type": "code",
   "execution_count": 114,
   "id": "4b5d888b",
   "metadata": {},
   "outputs": [
    {
     "name": "stdout",
     "output_type": "stream",
     "text": [
      "[ 1  3  5  7  9 11 13 15 17 19 21 23]\n",
      "1\n"
     ]
    }
   ],
   "source": [
    "a_1d = np.arange(1,25,2)\n",
    "print(a_1d)\n",
    "print(a_1d.ndim)"
   ]
  },
  {
   "cell_type": "code",
   "execution_count": 123,
   "id": "ac7c3beb",
   "metadata": {},
   "outputs": [
    {
     "data": {
      "text/plain": [
       "array([23, 21, 19])"
      ]
     },
     "execution_count": 123,
     "metadata": {},
     "output_type": "execute_result"
    }
   ],
   "source": [
    "a_1d[-1:-4:-1] # subset"
   ]
  },
  {
   "cell_type": "code",
   "execution_count": 116,
   "id": "7d93c42a",
   "metadata": {},
   "outputs": [
    {
     "name": "stdout",
     "output_type": "stream",
     "text": [
      "[[ 1  3  5  7]\n",
      " [ 9 11 13 15]\n",
      " [17 19 21 23]]\n",
      "2\n"
     ]
    }
   ],
   "source": [
    "a_2d = a.reshape((3,4)) # 3*4 = 12\n",
    "print(a_2d)\n",
    "print(a_2d.ndim)"
   ]
  },
  {
   "cell_type": "code",
   "execution_count": 122,
   "id": "b98e3dea",
   "metadata": {},
   "outputs": [
    {
     "data": {
      "text/plain": [
       "array([[ 9, 11],\n",
       "       [17, 19]])"
      ]
     },
     "execution_count": 122,
     "metadata": {},
     "output_type": "execute_result"
    }
   ],
   "source": [
    "a_2d[1:,:2]  # submatrix"
   ]
  },
  {
   "cell_type": "code",
   "execution_count": 124,
   "id": "2ae16bc5",
   "metadata": {},
   "outputs": [
    {
     "name": "stdout",
     "output_type": "stream",
     "text": [
      "[[[ 1  3  5  7]\n",
      "  [ 9 11 13 15]\n",
      "  [17 19 21 23]]]\n",
      "3\n"
     ]
    }
   ],
   "source": [
    "a_3d = a.reshape((1,3,4)) # 3*4 = 12\n",
    "print(a_3d)\n",
    "print(a_3d.ndim)"
   ]
  },
  {
   "cell_type": "raw",
   "id": "268afd6a",
   "metadata": {},
   "source": [
    "[\n",
    "    [\n",
    "        [ 1,  3,  5,  7],\n",
    "        [ 9, 11, 13, 15],\n",
    "        [17, 19, 21, 23]\n",
    "    ]\n",
    "]"
   ]
  },
  {
   "cell_type": "code",
   "execution_count": 126,
   "id": "39cff555",
   "metadata": {},
   "outputs": [
    {
     "data": {
      "text/plain": [
       "array([[ 1,  3,  5,  7],\n",
       "       [ 9, 11, 13, 15],\n",
       "       [17, 19, 21, 23]])"
      ]
     },
     "execution_count": 126,
     "metadata": {},
     "output_type": "execute_result"
    }
   ],
   "source": [
    "a_3d[0,:,:]"
   ]
  },
  {
   "cell_type": "code",
   "execution_count": 127,
   "id": "fb62cfba",
   "metadata": {},
   "outputs": [
    {
     "data": {
      "text/plain": [
       "array([[ 1,  3,  5,  7],\n",
       "       [ 9, 11, 13, 15],\n",
       "       [17, 19, 21, 23]])"
      ]
     },
     "execution_count": 127,
     "metadata": {},
     "output_type": "execute_result"
    }
   ],
   "source": [
    "a_3d[0, ...]"
   ]
  },
  {
   "cell_type": "markdown",
   "id": "118f1b10",
   "metadata": {},
   "source": [
    "**slicing is shallow copy**"
   ]
  },
  {
   "cell_type": "code",
   "execution_count": 129,
   "id": "2cdf9e15",
   "metadata": {},
   "outputs": [
    {
     "name": "stdout",
     "output_type": "stream",
     "text": [
      "False True\n",
      "[[ 4  2  5  2  6  4  8  3  7  5]\n",
      " [ 6  2  8  3  5  2  8  9  4 10]]\n",
      "[[ 4  2  5  2  6  4  8  3  7  5]\n",
      " [ 6  2  8  3  5  2  8  9  4 10]]\n"
     ]
    }
   ],
   "source": [
    "a = np.array([[4,2,5,2,6,4,8,3,7,5],[6,2,8,3,5,2,8,9,4,10]])\n",
    "b = a[:]\n",
    "print(id(a)==id(b), id(a[0])==id(b[0]))\n",
    "print(a)\n",
    "print(b)"
   ]
  },
  {
   "cell_type": "code",
   "execution_count": 130,
   "id": "81189ac7",
   "metadata": {},
   "outputs": [
    {
     "name": "stdout",
     "output_type": "stream",
     "text": [
      "[[40 20 50 20 60 40 80 30 70 50]\n",
      " [ 6  2  8  3  5  2  8  9  4 10]]\n",
      "[[40 20 50 20 60 40 80 30 70 50]\n",
      " [ 6  2  8  3  5  2  8  9  4 10]]\n"
     ]
    }
   ],
   "source": [
    "b[0] = [ 40,  20,  50,  20,  60,  40,  80,  30,  70,  50]\n",
    "print(a)\n",
    "print(b)"
   ]
  },
  {
   "cell_type": "code",
   "execution_count": 131,
   "id": "aa3f5460",
   "metadata": {},
   "outputs": [
    {
     "name": "stdout",
     "output_type": "stream",
     "text": [
      "[[40 20 50 20 60 40 80 30 70 50]\n",
      " [ 6  2  8  3  5  2  8  9  4 10]]\n",
      "[1, 2, 3]\n"
     ]
    }
   ],
   "source": [
    "b = [1,2,3]\n",
    "print(a)\n",
    "print(b)"
   ]
  },
  {
   "cell_type": "code",
   "execution_count": null,
   "id": "269887c9",
   "metadata": {},
   "outputs": [],
   "source": []
  }
 ],
 "metadata": {
  "kernelspec": {
   "display_name": "Python 3 (ipykernel)",
   "language": "python",
   "name": "python3"
  },
  "language_info": {
   "codemirror_mode": {
    "name": "ipython",
    "version": 3
   },
   "file_extension": ".py",
   "mimetype": "text/x-python",
   "name": "python",
   "nbconvert_exporter": "python",
   "pygments_lexer": "ipython3",
   "version": "3.9.12"
  }
 },
 "nbformat": 4,
 "nbformat_minor": 5
}
