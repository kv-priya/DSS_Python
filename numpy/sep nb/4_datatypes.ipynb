{
 "cells": [
  {
   "cell_type": "code",
   "execution_count": 1,
   "metadata": {
    "executionInfo": {
     "elapsed": 457,
     "status": "ok",
     "timestamp": 1684744557042,
     "user": {
      "displayName": "DSS DSS",
      "userId": "17636620013329168760"
     },
     "user_tz": -330
    },
    "id": "U43kRDDwmU_C"
   },
   "outputs": [],
   "source": [
    "import numpy as np"
   ]
  },
  {
   "cell_type": "markdown",
   "metadata": {
    "id": "LSIA5uojo2Ig"
   },
   "source": [
    "***numpy data types***\n",
    "\n",
    "- np.int64 # Signed 64-bit integer types\n",
    "- np.float32 # 8 bits exponent, 23 bits mantissa\n",
    "- np.double # 11 bits exponent, 52 bits mantissa\n",
    "- complex # Complex numbers represented by 128 floats\n",
    "- bool # Boolean type storing TRUE and FALSE values\n",
    "- object # Python object type\n",
    "- np.string_ # Fixed-length string type\n",
    "- np.unicode_ # Fixed-length unicode \n",
    "\n",
    "***referring datatypes with 1 character:***\n",
    "\n",
    "- i # integer\n",
    "- b # boolean\n",
    "- u # unsigned integer\n",
    "- f # float\n",
    "- c # complex float\n",
    "- m # timedelta\n",
    "- M # datetime\n",
    "- O # object\n",
    "- S # string\n",
    "- U # unicode string\n",
    "- V # fixed chunk of memory for other type ( void )"
   ]
  },
  {
   "cell_type": "code",
   "execution_count": 34,
   "metadata": {
    "colab": {
     "base_uri": "https://localhost:8080/"
    },
    "executionInfo": {
     "elapsed": 826,
     "status": "ok",
     "timestamp": 1684745253204,
     "user": {
      "displayName": "DSS DSS",
      "userId": "17636620013329168760"
     },
     "user_tz": -330
    },
    "id": "tHaLNdPCmYYJ",
    "outputId": "6bc76c44-567a-4c07-f152-7a3171224dac"
   },
   "outputs": [
    {
     "name": "stdout",
     "output_type": "stream",
     "text": [
      "['1' '2' '3' '4']\n",
      "<memory at 0x000001F76FD2CD00>\n"
     ]
    }
   ],
   "source": [
    "arr = np.array([1, 2, 3, 4], dtype='U')\n",
    "print(arr)\n",
    "print(arr.data)"
   ]
  },
  {
   "cell_type": "code",
   "execution_count": 32,
   "metadata": {
    "executionInfo": {
     "elapsed": 2,
     "status": "ok",
     "timestamp": 1684745294047,
     "user": {
      "displayName": "DSS DSS",
      "userId": "17636620013329168760"
     },
     "user_tz": -330
    },
    "id": "EL4cKKYWpNOv"
   },
   "outputs": [],
   "source": [
    "# arr = np.array(['a', '2', '3'], dtype='i') #ValueError: invalid literal for int() with base 10: 'a'"
   ]
  },
  {
   "cell_type": "code",
   "execution_count": 35,
   "metadata": {
    "colab": {
     "base_uri": "https://localhost:8080/"
    },
    "executionInfo": {
     "elapsed": 2,
     "status": "ok",
     "timestamp": 1684745259572,
     "user": {
      "displayName": "DSS DSS",
      "userId": "17636620013329168760"
     },
     "user_tz": -330
    },
    "id": "w5tUTB3ZmbOn",
    "outputId": "1bef0919-e517-4f0c-ae47-898354abf90f"
   },
   "outputs": [
    {
     "name": "stdout",
     "output_type": "stream",
     "text": [
      "10000000000000000 1874919424 [1. 2. 3.] <class 'numpy.float32'>\n"
     ]
    }
   ],
   "source": [
    "a = np.power(100, 8, dtype=np.int64) # correct\n",
    "b = np.power(100, 8, dtype=np.int32) # incorrect \n",
    "c = np.array([1, 2, 3], dtype='f') # f => float32\n",
    "\n",
    "print(a,b,c,type(c[0]))"
   ]
  },
  {
   "cell_type": "markdown",
   "metadata": {},
   "source": [
    "#### casting"
   ]
  },
  {
   "cell_type": "code",
   "execution_count": 61,
   "metadata": {},
   "outputs": [
    {
     "data": {
      "text/plain": [
       "(array(['1', '2', '3', '4'], dtype='<U1'), array([1., 2., 3., 4.]))"
      ]
     },
     "execution_count": 61,
     "metadata": {},
     "output_type": "execute_result"
    }
   ],
   "source": [
    "arr2 = arr.astype(float)\n",
    "arr, arr2"
   ]
  },
  {
   "cell_type": "code",
   "execution_count": null,
   "metadata": {},
   "outputs": [],
   "source": []
  }
 ],
 "metadata": {
  "colab": {
   "authorship_tag": "ABX9TyNIJ3WT+rWfh0rx86PZ0AXC",
   "provenance": []
  },
  "kernelspec": {
   "display_name": "Python 3 (ipykernel)",
   "language": "python",
   "name": "python3"
  },
  "language_info": {
   "codemirror_mode": {
    "name": "ipython",
    "version": 3
   },
   "file_extension": ".py",
   "mimetype": "text/x-python",
   "name": "python",
   "nbconvert_exporter": "python",
   "pygments_lexer": "ipython3",
   "version": "3.9.16"
  }
 },
 "nbformat": 4,
 "nbformat_minor": 1
}
