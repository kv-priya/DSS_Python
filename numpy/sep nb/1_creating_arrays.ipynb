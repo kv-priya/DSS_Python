{
 "cells": [
  {
   "cell_type": "markdown",
   "metadata": {
    "id": "GO24mHLhRhqM"
   },
   "source": [
    "### import numpy library"
   ]
  },
  {
   "cell_type": "code",
   "execution_count": 2,
   "metadata": {
    "executionInfo": {
     "elapsed": 3,
     "status": "ok",
     "timestamp": 1684738493814,
     "user": {
      "displayName": "DSS DSS",
      "userId": "17636620013329168760"
     },
     "user_tz": -330
    },
    "id": "bQvFMqISOKGO"
   },
   "outputs": [],
   "source": [
    "import numpy as np"
   ]
  },
  {
   "cell_type": "markdown",
   "metadata": {
    "id": "UO-IEdkjQ6mW"
   },
   "source": [
    "### creating arrays - np.array()"
   ]
  },
  {
   "cell_type": "markdown",
   "metadata": {
    "id": "nHaZg8vXRms2"
   },
   "source": [
    "#### 1-d array"
   ]
  },
  {
   "cell_type": "code",
   "execution_count": 3,
   "metadata": {
    "colab": {
     "base_uri": "https://localhost:8080/"
    },
    "executionInfo": {
     "elapsed": 4,
     "status": "ok",
     "timestamp": 1684738510217,
     "user": {
      "displayName": "DSS DSS",
      "userId": "17636620013329168760"
     },
     "user_tz": -330
    },
    "id": "6na3KDIQPRDD",
    "outputId": "524d4a03-089c-4aca-aff8-f62c5e733dfd"
   },
   "outputs": [
    {
     "name": "stdout",
     "output_type": "stream",
     "text": [
      "[1 2 3]\n",
      "<class 'numpy.ndarray'>\n"
     ]
    }
   ],
   "source": [
    "a = np.array(\n",
    "              [1,2,3]\n",
    "            )\n",
    "print(a)\n",
    "print(type(a))"
   ]
  },
  {
   "cell_type": "markdown",
   "metadata": {
    "id": "zepihanFRpu4"
   },
   "source": [
    "#### 2-d array"
   ]
  },
  {
   "cell_type": "code",
   "execution_count": 4,
   "metadata": {
    "colab": {
     "base_uri": "https://localhost:8080/"
    },
    "executionInfo": {
     "elapsed": 2,
     "status": "ok",
     "timestamp": 1684738879595,
     "user": {
      "displayName": "DSS DSS",
      "userId": "17636620013329168760"
     },
     "user_tz": -330
    },
    "id": "ArqVcX50PVKW",
    "outputId": "2a265f1e-5eb7-41c6-ff24-405d0682d263"
   },
   "outputs": [
    {
     "name": "stdout",
     "output_type": "stream",
     "text": [
      "[[1. 2.]\n",
      " [3. 4.]]\n"
     ]
    }
   ],
   "source": [
    "b = np.array(\n",
    "  [\n",
    "    (1,2),\n",
    "    (3,4)\n",
    "  ],\n",
    "  dtype = float\n",
    ")\n",
    "print(b)"
   ]
  },
  {
   "cell_type": "markdown",
   "metadata": {
    "id": "TwfNPjnPRruD"
   },
   "source": [
    "#### 3-d array"
   ]
  },
  {
   "cell_type": "code",
   "execution_count": 27,
   "metadata": {
    "colab": {
     "base_uri": "https://localhost:8080/"
    },
    "executionInfo": {
     "elapsed": 506,
     "status": "ok",
     "timestamp": 1684738883582,
     "user": {
      "displayName": "DSS DSS",
      "userId": "17636620013329168760"
     },
     "user_tz": -330
    },
    "id": "dMRGMwKhPqsK",
    "outputId": "d5a41f6f-fbd8-44cc-9132-3f93dca22dec"
   },
   "outputs": [
    {
     "name": "stdout",
     "output_type": "stream",
     "text": [
      "[[[ 1.  2.  3.  4.]\n",
      "  [ 5.  6.  7.  8.]]\n",
      "\n",
      " [[ 1.  2.  3.  4.]\n",
      "  [ 9. 10. 11. 12.]]]\n"
     ]
    }
   ],
   "source": [
    "c  = np.array(\n",
    "    [\n",
    "        [\n",
    "            [1, 2, 3, 4],\n",
    "            [5, 6, 7, 8]\n",
    "        ],\n",
    "        [\n",
    "            [1, 2, 3, 4],\n",
    "            [9, 10, 11, 12]\n",
    "        ]\n",
    "    ],\n",
    "    dtype=np.float64)\n",
    "\n",
    "print(c)"
   ]
  },
  {
   "cell_type": "markdown",
   "metadata": {},
   "source": [
    "#### details of array"
   ]
  },
  {
   "cell_type": "code",
   "execution_count": 35,
   "metadata": {},
   "outputs": [
    {
     "data": {
      "text/plain": [
       "array([[[ 1.,  2.,  3.,  4.],\n",
       "        [ 5.,  6.,  7.,  8.]],\n",
       "\n",
       "       [[ 1.,  2.,  3.,  4.],\n",
       "        [ 9., 10., 11., 12.]]])"
      ]
     },
     "execution_count": 35,
     "metadata": {},
     "output_type": "execute_result"
    }
   ],
   "source": [
    "c"
   ]
  },
  {
   "cell_type": "code",
   "execution_count": 29,
   "metadata": {},
   "outputs": [
    {
     "data": {
      "text/plain": [
       "<memory at 0x0000028E61EBC4F0>"
      ]
     },
     "execution_count": 29,
     "metadata": {},
     "output_type": "execute_result"
    }
   ],
   "source": [
    "c.data # prints memory address"
   ]
  },
  {
   "cell_type": "code",
   "execution_count": 30,
   "metadata": {},
   "outputs": [
    {
     "data": {
      "text/plain": [
       "(2, 2, 4)"
      ]
     },
     "execution_count": 30,
     "metadata": {},
     "output_type": "execute_result"
    }
   ],
   "source": [
    "c.shape"
   ]
  },
  {
   "cell_type": "code",
   "execution_count": 31,
   "metadata": {},
   "outputs": [
    {
     "data": {
      "text/plain": [
       "dtype('float64')"
      ]
     },
     "execution_count": 31,
     "metadata": {},
     "output_type": "execute_result"
    }
   ],
   "source": [
    "c.dtype"
   ]
  },
  {
   "cell_type": "code",
   "execution_count": 32,
   "metadata": {},
   "outputs": [
    {
     "data": {
      "text/plain": [
       "(64, 32, 8)"
      ]
     },
     "execution_count": 32,
     "metadata": {},
     "output_type": "execute_result"
    }
   ],
   "source": [
    "c.strides \n",
    "# number of bytes to skip in memory to move to the next position \n",
    "# along a certain axis"
   ]
  },
  {
   "cell_type": "code",
   "execution_count": 36,
   "metadata": {},
   "outputs": [
    {
     "data": {
      "text/plain": [
       "[[[1.0, 2.0, 3.0, 4.0], [5.0, 6.0, 7.0, 8.0]],\n",
       " [[1.0, 2.0, 3.0, 4.0], [9.0, 10.0, 11.0, 12.0]]]"
      ]
     },
     "execution_count": 36,
     "metadata": {},
     "output_type": "execute_result"
    }
   ],
   "source": [
    "c.tolist()"
   ]
  },
  {
   "cell_type": "markdown",
   "metadata": {
    "id": "X2GcS8jeQ4Ok"
   },
   "source": [
    "### initial placeholders"
   ]
  },
  {
   "cell_type": "markdown",
   "metadata": {
    "id": "lUGHdsbfRQF6"
   },
   "source": [
    "#### array of zeros - np.zeros()"
   ]
  },
  {
   "cell_type": "code",
   "execution_count": 30,
   "metadata": {
    "colab": {
     "base_uri": "https://localhost:8080/"
    },
    "executionInfo": {
     "elapsed": 647,
     "status": "ok",
     "timestamp": 1684739992502,
     "user": {
      "displayName": "DSS DSS",
      "userId": "17636620013329168760"
     },
     "user_tz": -330
    },
    "id": "IqwjzEnbQYxq",
    "outputId": "d1ce80db-3d36-4077-c3ba-87ddad4c3ca7"
   },
   "outputs": [
    {
     "name": "stdout",
     "output_type": "stream",
     "text": [
      "[[0 0 0 0]\n",
      " [0 0 0 0]\n",
      " [0 0 0 0]]\n"
     ]
    }
   ],
   "source": [
    "d = np.zeros(\n",
    "    shape = (3,4),\n",
    "    dtype = np.int64\n",
    ")\n",
    "print(d)"
   ]
  },
  {
   "cell_type": "markdown",
   "metadata": {
    "id": "bcF2xqpqR1My"
   },
   "source": [
    "#### array of ones - np.ones()"
   ]
  },
  {
   "cell_type": "code",
   "execution_count": 15,
   "metadata": {
    "colab": {
     "base_uri": "https://localhost:8080/"
    },
    "executionInfo": {
     "elapsed": 4,
     "status": "ok",
     "timestamp": 1684739348002,
     "user": {
      "displayName": "DSS DSS",
      "userId": "17636620013329168760"
     },
     "user_tz": -330
    },
    "id": "mh4NErDZRBTp",
    "outputId": "2acee7d7-05cc-4ae3-9dad-9af9e3815bdf"
   },
   "outputs": [
    {
     "name": "stdout",
     "output_type": "stream",
     "text": [
      "[[[1 1 1 1]\n",
      "  [1 1 1 1]\n",
      "  [1 1 1 1]]\n",
      "\n",
      " [[1 1 1 1]\n",
      "  [1 1 1 1]\n",
      "  [1 1 1 1]]]\n"
     ]
    }
   ],
   "source": [
    "e = np.ones(\n",
    "    shape = (2,3,4),\n",
    "    dtype = np.int16\n",
    ")\n",
    "print(e)"
   ]
  },
  {
   "cell_type": "markdown",
   "metadata": {
    "id": "PoMGG7TdSNeh"
   },
   "source": [
    "#### array of evenly spaced values (step value) - np.arange()"
   ]
  },
  {
   "cell_type": "code",
   "execution_count": 24,
   "metadata": {
    "colab": {
     "base_uri": "https://localhost:8080/"
    },
    "executionInfo": {
     "elapsed": 3,
     "status": "ok",
     "timestamp": 1684739773190,
     "user": {
      "displayName": "DSS DSS",
      "userId": "17636620013329168760"
     },
     "user_tz": -330
    },
    "id": "paQGCxb9RHd7",
    "outputId": "10dca60d-ed59-4c66-a10e-047c303f27a1"
   },
   "outputs": [
    {
     "name": "stdout",
     "output_type": "stream",
     "text": [
      "[10 15 20]\n"
     ]
    }
   ],
   "source": [
    "f = np.arange(start = 10, stop = 25, step = 5)\n",
    "print(f)"
   ]
  },
  {
   "cell_type": "markdown",
   "metadata": {
    "id": "3M4TIqTPSsEy"
   },
   "source": [
    "#### array of evenly spaced values (number of samples) - np.linspace()"
   ]
  },
  {
   "cell_type": "code",
   "execution_count": 22,
   "metadata": {
    "colab": {
     "base_uri": "https://localhost:8080/"
    },
    "executionInfo": {
     "elapsed": 3,
     "status": "ok",
     "timestamp": 1684739768138,
     "user": {
      "displayName": "DSS DSS",
      "userId": "17636620013329168760"
     },
     "user_tz": -330
    },
    "id": "DbYF-Dx3SYcL",
    "outputId": "27fbfb20-166e-4dc5-cf5f-2f5615d3b5eb"
   },
   "outputs": [
    {
     "name": "stdout",
     "output_type": "stream",
     "text": [
      "[0.   0.25 0.5  0.75 1.   1.25 1.5  1.75 2.  ]\n"
     ]
    }
   ],
   "source": [
    "g = np.linspace(start = 0, stop = 2, num = 9, endpoint = True)\n",
    "print(g)"
   ]
  },
  {
   "cell_type": "markdown",
   "metadata": {
    "id": "9cFu3hVfUN6O"
   },
   "source": [
    "#### constant array - np.full()"
   ]
  },
  {
   "cell_type": "code",
   "execution_count": 32,
   "metadata": {
    "colab": {
     "base_uri": "https://localhost:8080/"
    },
    "executionInfo": {
     "elapsed": 2,
     "status": "ok",
     "timestamp": 1684740064459,
     "user": {
      "displayName": "DSS DSS",
      "userId": "17636620013329168760"
     },
     "user_tz": -330
    },
    "id": "6GEOcXnOS5Hi",
    "outputId": "8fac3c8d-c5ad-4137-c491-9f6ac4f838b8"
   },
   "outputs": [
    {
     "name": "stdout",
     "output_type": "stream",
     "text": [
      "[[5.7 5.7 5.7]\n",
      " [5.7 5.7 5.7]]\n"
     ]
    }
   ],
   "source": [
    "h = np.full(\n",
    "    shape = (2,3),\n",
    "    fill_value = 5.7,\n",
    "    dtype = float\n",
    ")\n",
    "print(h)"
   ]
  },
  {
   "cell_type": "markdown",
   "metadata": {
    "id": "wvaVXuDlVRZP"
   },
   "source": [
    "#### identity matrix - np.eye()"
   ]
  },
  {
   "cell_type": "code",
   "execution_count": 45,
   "metadata": {
    "colab": {
     "base_uri": "https://localhost:8080/"
    },
    "executionInfo": {
     "elapsed": 447,
     "status": "ok",
     "timestamp": 1684740330531,
     "user": {
      "displayName": "DSS DSS",
      "userId": "17636620013329168760"
     },
     "user_tz": -330
    },
    "id": "QAGQghr5UrrX",
    "outputId": "9b7735dd-776a-4bcf-f7c7-24d49513080e"
   },
   "outputs": [
    {
     "name": "stdout",
     "output_type": "stream",
     "text": [
      "[[0 0 0 0 0]\n",
      " [0 0 0 0 0]\n",
      " [1 0 0 0 0]\n",
      " [0 1 0 0 0]\n",
      " [0 0 1 0 0]\n",
      " [0 0 0 1 0]\n",
      " [0 0 0 0 1]\n",
      " [0 0 0 0 0]\n",
      " [0 0 0 0 0]\n",
      " [0 0 0 0 0]]\n"
     ]
    }
   ],
   "source": [
    "i = np.eye(\n",
    "    N= 10,\n",
    "    M = 5,\n",
    "    k = -2, # 0 Diagonal, +ve Upper Diagonal, -ve Lower Diagonal\n",
    "    dtype = np.int64\n",
    ")\n",
    "print(i)"
   ]
  },
  {
   "cell_type": "markdown",
   "metadata": {
    "id": "DCDxVmtpWWa3"
   },
   "source": [
    "#### random valued array - np.random.random()"
   ]
  },
  {
   "cell_type": "code",
   "execution_count": 50,
   "metadata": {
    "colab": {
     "base_uri": "https://localhost:8080/"
    },
    "executionInfo": {
     "elapsed": 3,
     "status": "ok",
     "timestamp": 1684740617761,
     "user": {
      "displayName": "DSS DSS",
      "userId": "17636620013329168760"
     },
     "user_tz": -330
    },
    "id": "4bPCuyfLV2GQ",
    "outputId": "bd996c06-db04-4cf0-e833-08a5bfb52586"
   },
   "outputs": [
    {
     "name": "stdout",
     "output_type": "stream",
     "text": [
      "[[0.91910884 0.9871958  0.93959576]\n",
      " [0.11154806 0.59041664 0.12048372]\n",
      " [0.0416645  0.99455491 0.96106233]]\n"
     ]
    }
   ],
   "source": [
    "j = np.random.random(  # [0.0, 1.0).\n",
    "    size = (3,3)\n",
    ")\n",
    "print(j)"
   ]
  },
  {
   "cell_type": "markdown",
   "metadata": {
    "id": "FkUUj6SiXePR"
   },
   "source": [
    "#### empty array - np.empty()"
   ]
  },
  {
   "cell_type": "code",
   "execution_count": 24,
   "metadata": {
    "colab": {
     "base_uri": "https://localhost:8080/"
    },
    "executionInfo": {
     "elapsed": 554,
     "status": "ok",
     "timestamp": 1684742404906,
     "user": {
      "displayName": "DSS DSS",
      "userId": "17636620013329168760"
     },
     "user_tz": -330
    },
    "id": "XDncU788WtUZ",
    "outputId": "dbc337c7-6671-4c37-c28c-8f1879fcfb5a"
   },
   "outputs": [
    {
     "name": "stdout",
     "output_type": "stream",
     "text": [
      "[[                0                 0                 0]\n",
      " [                0                 0              1868]\n",
      " [32651513910263808                 0                 0]]\n"
     ]
    }
   ],
   "source": [
    "k = np.empty(\n",
    "    shape = (3,3),\n",
    "    dtype = np.int64\n",
    ")\n",
    "print(k) # garbage values"
   ]
  }
 ],
 "metadata": {
  "colab": {
   "authorship_tag": "ABX9TyPpPt5og1bsAcn7dcgdDQ3R",
   "provenance": [],
   "toc_visible": true
  },
  "kernelspec": {
   "display_name": "Python 3 (ipykernel)",
   "language": "python",
   "name": "python3"
  },
  "language_info": {
   "codemirror_mode": {
    "name": "ipython",
    "version": 3
   },
   "file_extension": ".py",
   "mimetype": "text/x-python",
   "name": "python",
   "nbconvert_exporter": "python",
   "pygments_lexer": "ipython3",
   "version": "3.9.16"
  }
 },
 "nbformat": 4,
 "nbformat_minor": 1
}
