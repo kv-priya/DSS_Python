{
 "cells": [
  {
   "cell_type": "code",
   "execution_count": 129,
   "id": "42f68f6a",
   "metadata": {},
   "outputs": [],
   "source": [
    "import numpy as np"
   ]
  },
  {
   "cell_type": "code",
   "execution_count": 130,
   "id": "d788ac10",
   "metadata": {},
   "outputs": [
    {
     "data": {
      "text/plain": [
       "(9,)"
      ]
     },
     "execution_count": 130,
     "metadata": {},
     "output_type": "execute_result"
    }
   ],
   "source": [
    "a = np.array([1,2,3,4,5,6,7,8,9])\n",
    "a.shape"
   ]
  },
  {
   "cell_type": "markdown",
   "id": "bf87e70e",
   "metadata": {},
   "source": [
    "#### change shape of array"
   ]
  },
  {
   "cell_type": "code",
   "execution_count": 131,
   "id": "7835d245",
   "metadata": {},
   "outputs": [
    {
     "name": "stdout",
     "output_type": "stream",
     "text": [
      "[[1 2 3]\n",
      " [4 5 6]\n",
      " [7 8 9]] (3, 3) [1 2 3 4 5 6 7 8 9] (9,)\n"
     ]
    }
   ],
   "source": [
    "# returns array with given dimensions, no change in data\n",
    "b = a.reshape(3,3)\n",
    "print(b, b.shape, a, a.shape)"
   ]
  },
  {
   "cell_type": "code",
   "execution_count": 132,
   "id": "cfae1494",
   "metadata": {},
   "outputs": [
    {
     "name": "stdout",
     "output_type": "stream",
     "text": [
      "[1 2 3 4 5 6 7 8 9]\n",
      "[[1 2 3]\n",
      " [4 5 6]\n",
      " [7 8 9]]\n"
     ]
    }
   ],
   "source": [
    "a = np.array([1,2,3,4,5,6,7,8,9])\n",
    "print(a)\n",
    "a.resize((3,3)) # original array shape is changed\n",
    "print(a)"
   ]
  },
  {
   "cell_type": "markdown",
   "id": "1f92cd04",
   "metadata": {},
   "source": [
    "#### flatten array"
   ]
  },
  {
   "cell_type": "code",
   "execution_count": 133,
   "id": "844221cb",
   "metadata": {},
   "outputs": [
    {
     "data": {
      "text/plain": [
       "array([1, 2, 3, 4, 5, 6, 7, 8, 9])"
      ]
     },
     "execution_count": 133,
     "metadata": {},
     "output_type": "execute_result"
    }
   ],
   "source": [
    "c = b.ravel() # returns flatten array (no effect to original array)\n",
    "c"
   ]
  },
  {
   "cell_type": "markdown",
   "id": "ae325046",
   "metadata": {},
   "source": [
    "#### transposing array"
   ]
  },
  {
   "cell_type": "code",
   "execution_count": 134,
   "id": "d276cb5f",
   "metadata": {},
   "outputs": [
    {
     "data": {
      "text/plain": [
       "array([[1, 2, 3],\n",
       "       [4, 5, 6],\n",
       "       [7, 8, 9]])"
      ]
     },
     "execution_count": 134,
     "metadata": {},
     "output_type": "execute_result"
    }
   ],
   "source": [
    "b"
   ]
  },
  {
   "cell_type": "code",
   "execution_count": 135,
   "id": "f7fad063",
   "metadata": {},
   "outputs": [
    {
     "data": {
      "text/plain": [
       "(array([[1, 4, 7],\n",
       "        [2, 5, 8],\n",
       "        [3, 6, 9]]),\n",
       " array([[1, 4, 7],\n",
       "        [2, 5, 8],\n",
       "        [3, 6, 9]]),\n",
       " array([[1, 2, 3],\n",
       "        [4, 5, 6],\n",
       "        [7, 8, 9]]))"
      ]
     },
     "execution_count": 135,
     "metadata": {},
     "output_type": "execute_result"
    }
   ],
   "source": [
    "# no effect on original array, returns new array \n",
    "# shallow copy\n",
    "b1 = np.transpose(b) \n",
    "b2 = b.T\n",
    "b1,b2,b"
   ]
  },
  {
   "cell_type": "markdown",
   "id": "b263f29c",
   "metadata": {},
   "source": [
    "#### add elements to array"
   ]
  },
  {
   "cell_type": "code",
   "execution_count": 136,
   "id": "b8150b02",
   "metadata": {},
   "outputs": [
    {
     "data": {
      "text/plain": [
       "(array([ 1,  2,  3,  4,  5,  6,  7,  8,  9, -9, -3]),\n",
       " array([[1, 2, 3],\n",
       "        [4, 5, 6],\n",
       "        [7, 8, 9]]),\n",
       " (3, 3))"
      ]
     },
     "execution_count": 136,
     "metadata": {},
     "output_type": "execute_result"
    }
   ],
   "source": [
    "np.append(a,[-9,-3]), a, a.shape\n",
    "# original array is not changed"
   ]
  },
  {
   "cell_type": "code",
   "execution_count": 137,
   "id": "07d4eece",
   "metadata": {},
   "outputs": [
    {
     "data": {
      "text/plain": [
       "(array([  1, -99,   2,   3,   4,   5,   6,   7,   8,   9]),\n",
       " array([[1, 2, 3],\n",
       "        [4, 5, 6],\n",
       "        [7, 8, 9]]))"
      ]
     },
     "execution_count": 137,
     "metadata": {},
     "output_type": "execute_result"
    }
   ],
   "source": [
    "np.insert(a,1,-99), a\n",
    "# original array is not changed"
   ]
  },
  {
   "cell_type": "markdown",
   "id": "e7b59d15",
   "metadata": {},
   "source": [
    "#### remove elements from array"
   ]
  },
  {
   "cell_type": "code",
   "execution_count": 138,
   "id": "10b46126",
   "metadata": {},
   "outputs": [
    {
     "data": {
      "text/plain": [
       "(array([[1, 2, 3],\n",
       "        [4, 5, 6],\n",
       "        [7, 8, 9]]),\n",
       " array([1, 3, 4, 5, 6, 7, 8, 9]),\n",
       " array([[1, 2, 3],\n",
       "        [4, 5, 6],\n",
       "        [7, 8, 9]]))"
      ]
     },
     "execution_count": 138,
     "metadata": {},
     "output_type": "execute_result"
    }
   ],
   "source": [
    "a, np.delete(a,1), a\n",
    "# original array is not changed"
   ]
  },
  {
   "cell_type": "markdown",
   "id": "aef82f92",
   "metadata": {},
   "source": [
    "#### combining arrays"
   ]
  },
  {
   "cell_type": "markdown",
   "id": "765378d0",
   "metadata": {},
   "source": [
    "##### np.concatenate()"
   ]
  },
  {
   "cell_type": "code",
   "execution_count": 161,
   "id": "1e9ae191",
   "metadata": {},
   "outputs": [
    {
     "name": "stdout",
     "output_type": "stream",
     "text": [
      "[[1 2]\n",
      " [3 4]\n",
      " [5 6]]\n"
     ]
    }
   ],
   "source": [
    "a = np.array([[1, 2], [3, 4]])\n",
    "b = np.array([[5, 6]])\n",
    "print(np.concatenate((a, b), axis=0)) # row wise concatenation"
   ]
  },
  {
   "cell_type": "code",
   "execution_count": 162,
   "id": "90ce8e95",
   "metadata": {},
   "outputs": [
    {
     "name": "stdout",
     "output_type": "stream",
     "text": [
      "[[1 2 5]\n",
      " [3 4 6]]\n"
     ]
    }
   ],
   "source": [
    "print(np.concatenate((a, b.T), axis=1)) # column wise concatenation"
   ]
  },
  {
   "cell_type": "code",
   "execution_count": 163,
   "id": "9d02f8cf",
   "metadata": {},
   "outputs": [
    {
     "name": "stdout",
     "output_type": "stream",
     "text": [
      "[1 2 3 4 5 6]\n"
     ]
    }
   ],
   "source": [
    "print(np.concatenate((a, b), axis=None)) # flattened"
   ]
  },
  {
   "cell_type": "markdown",
   "id": "34c6854e",
   "metadata": {},
   "source": [
    "##### np.hstack()"
   ]
  },
  {
   "cell_type": "code",
   "execution_count": 178,
   "id": "1134ee80",
   "metadata": {},
   "outputs": [
    {
     "data": {
      "text/plain": [
       "array([1, 2, 3, 4, 5, 6])"
      ]
     },
     "execution_count": 178,
     "metadata": {},
     "output_type": "execute_result"
    }
   ],
   "source": [
    "# Stack arrays horizontally (column wise)\n",
    "a = np.array([1, 2, 3])\n",
    "b = np.array([4, 5, 6])\n",
    "np.hstack((a,b))"
   ]
  },
  {
   "cell_type": "code",
   "execution_count": 177,
   "id": "7dbcd0ec",
   "metadata": {},
   "outputs": [
    {
     "data": {
      "text/plain": [
       "array([[1, 4],\n",
       "       [2, 5],\n",
       "       [3, 6]])"
      ]
     },
     "execution_count": 177,
     "metadata": {},
     "output_type": "execute_result"
    }
   ],
   "source": [
    "a = np.array([[1], [2], [3]])\n",
    "b = np.array([[4], [5], [6]])\n",
    "np.hstack((a,b))"
   ]
  },
  {
   "cell_type": "markdown",
   "id": "a99662eb",
   "metadata": {},
   "source": [
    "##### np.vstack()"
   ]
  },
  {
   "cell_type": "code",
   "execution_count": 171,
   "id": "84a9bdc6",
   "metadata": {},
   "outputs": [
    {
     "data": {
      "text/plain": [
       "array([[1, 2, 3],\n",
       "       [4, 5, 6]])"
      ]
     },
     "execution_count": 171,
     "metadata": {},
     "output_type": "execute_result"
    }
   ],
   "source": [
    "# Stack arrays in sequence vertically (row wise)\n",
    "a = np.array([1, 2, 3])\n",
    "b = np.array([4, 5, 6])\n",
    "np.vstack((a,b))"
   ]
  },
  {
   "cell_type": "code",
   "execution_count": 172,
   "id": "d4889011",
   "metadata": {},
   "outputs": [
    {
     "data": {
      "text/plain": [
       "array([[1],\n",
       "       [2],\n",
       "       [3],\n",
       "       [4],\n",
       "       [5],\n",
       "       [6]])"
      ]
     },
     "execution_count": 172,
     "metadata": {},
     "output_type": "execute_result"
    }
   ],
   "source": [
    "a = np.array([[1], [2], [3]])\n",
    "b = np.array([[4], [5], [6]])\n",
    "np.vstack((a,b))"
   ]
  },
  {
   "cell_type": "markdown",
   "id": "0181613a",
   "metadata": {},
   "source": [
    "##### np.r_()"
   ]
  },
  {
   "cell_type": "code",
   "execution_count": 173,
   "id": "66407c7c",
   "metadata": {},
   "outputs": [
    {
     "data": {
      "text/plain": [
       "array([1, 2, 3, 4, 5, 6])"
      ]
     },
     "execution_count": 173,
     "metadata": {},
     "output_type": "execute_result"
    }
   ],
   "source": [
    "# Stack arrays in sequence vertically (row wise)\n",
    "a = np.array([1, 2, 3])\n",
    "b = np.array([4, 5, 6])\n",
    "np.r_[a,b]"
   ]
  },
  {
   "cell_type": "code",
   "execution_count": 174,
   "id": "25a9f133",
   "metadata": {},
   "outputs": [
    {
     "data": {
      "text/plain": [
       "array([[1],\n",
       "       [2],\n",
       "       [3],\n",
       "       [4],\n",
       "       [5],\n",
       "       [6]])"
      ]
     },
     "execution_count": 174,
     "metadata": {},
     "output_type": "execute_result"
    }
   ],
   "source": [
    "a = np.array([[1], [2], [3]])\n",
    "b = np.array([[4], [5], [6]])\n",
    "np.r_[a,b]"
   ]
  },
  {
   "cell_type": "markdown",
   "id": "d7b4db5a",
   "metadata": {},
   "source": [
    "##### np.column_stack()"
   ]
  },
  {
   "cell_type": "code",
   "execution_count": 187,
   "id": "471fabf3",
   "metadata": {},
   "outputs": [
    {
     "data": {
      "text/plain": [
       "array([[1, 4],\n",
       "       [2, 5],\n",
       "       [3, 6]])"
      ]
     },
     "execution_count": 187,
     "metadata": {},
     "output_type": "execute_result"
    }
   ],
   "source": [
    "# Stack 1-D arrays as columns into a 2-D array.\n",
    "a = np.array((1,2,3))\n",
    "b = np.array((4,5,6))\n",
    "np.column_stack((a,b))"
   ]
  },
  {
   "cell_type": "markdown",
   "id": "fe36013c",
   "metadata": {},
   "source": [
    "##### np.c_()"
   ]
  },
  {
   "cell_type": "code",
   "execution_count": 186,
   "id": "f449773e",
   "metadata": {},
   "outputs": [
    {
     "data": {
      "text/plain": [
       "array([[1, 4],\n",
       "       [2, 5],\n",
       "       [3, 6]])"
      ]
     },
     "execution_count": 186,
     "metadata": {},
     "output_type": "execute_result"
    }
   ],
   "source": [
    "# Stack arrays in sequence vertically (row wise)\n",
    "a = np.array([1, 2, 3])\n",
    "b = np.array([4, 5, 6])\n",
    "np.c_[a,b]"
   ]
  },
  {
   "cell_type": "markdown",
   "id": "8b827c18",
   "metadata": {},
   "source": [
    "#### splitting arrays"
   ]
  },
  {
   "cell_type": "code",
   "execution_count": 216,
   "id": "9e563252",
   "metadata": {},
   "outputs": [
    {
     "name": "stdout",
     "output_type": "stream",
     "text": [
      "[array([[ 0.,  1.],\n",
      "       [ 4.,  5.],\n",
      "       [ 8.,  9.],\n",
      "       [12., 13.]]), array([[ 2.,  3.],\n",
      "       [ 6.,  7.],\n",
      "       [10., 11.],\n",
      "       [14., 15.]])]\n"
     ]
    },
    {
     "data": {
      "text/plain": [
       "array([[ 0.,  1.,  2.,  3.],\n",
       "       [ 4.,  5.,  6.,  7.],\n",
       "       [ 8.,  9., 10., 11.],\n",
       "       [12., 13., 14., 15.]])"
      ]
     },
     "execution_count": 216,
     "metadata": {},
     "output_type": "execute_result"
    }
   ],
   "source": [
    "# Split an array into multiple sub-arrays horizontally (column-wise).\n",
    "a = np.array([ [ 0.,   1.,   2.,   3.],\n",
    "               [ 4.,   5.,   6.,   7.],\n",
    "               [ 8.,   9.,  10.,  11.],\n",
    "               [12.,  13.,  14.,  15.] ])\n",
    "print(np.hsplit(a,2))"
   ]
  },
  {
   "cell_type": "code",
   "execution_count": 220,
   "id": "ebfe7274",
   "metadata": {},
   "outputs": [
    {
     "data": {
      "text/plain": [
       "[array([[0., 1., 2., 3.],\n",
       "        [4., 5., 6., 7.]]),\n",
       " array([[ 8.,  9., 10., 11.],\n",
       "        [12., 13., 14., 15.]])]"
      ]
     },
     "execution_count": 220,
     "metadata": {},
     "output_type": "execute_result"
    }
   ],
   "source": [
    "# Split an array into multiple sub-arrays vertically (row-wise).\n",
    "np.vsplit(a,2)"
   ]
  }
 ],
 "metadata": {
  "kernelspec": {
   "display_name": "Python 3 (ipykernel)",
   "language": "python",
   "name": "python3"
  },
  "language_info": {
   "codemirror_mode": {
    "name": "ipython",
    "version": 3
   },
   "file_extension": ".py",
   "mimetype": "text/x-python",
   "name": "python",
   "nbconvert_exporter": "python",
   "pygments_lexer": "ipython3",
   "version": "3.9.16"
  }
 },
 "nbformat": 4,
 "nbformat_minor": 5
}
