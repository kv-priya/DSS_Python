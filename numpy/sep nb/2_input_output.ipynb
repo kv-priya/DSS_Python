{
 "cells": [
  {
   "cell_type": "code",
   "execution_count": 7,
   "metadata": {
    "executionInfo": {
     "elapsed": 5,
     "status": "ok",
     "timestamp": 1684918404870,
     "user": {
      "displayName": "DSS DSS",
      "userId": "17636620013329168760"
     },
     "user_tz": -330
    },
    "id": "GNhvfqNBemxN"
   },
   "outputs": [],
   "source": [
    "import numpy as np"
   ]
  },
  {
   "cell_type": "markdown",
   "metadata": {
    "id": "phmlO5bWeiU3"
   },
   "source": [
    "### saving and loading numpy arrays"
   ]
  },
  {
   "cell_type": "markdown",
   "metadata": {
    "id": "UBe-DUGVgZ8N"
   },
   "source": [
    "#### np.save() "
   ]
  },
  {
   "cell_type": "code",
   "execution_count": 8,
   "metadata": {
    "executionInfo": {
     "elapsed": 2,
     "status": "ok",
     "timestamp": 1684918405570,
     "user": {
      "displayName": "DSS DSS",
      "userId": "17636620013329168760"
     },
     "user_tz": -330
    },
    "id": "Im8vQq_UeaVo"
   },
   "outputs": [],
   "source": [
    "# Create an array\n",
    "my_array = np.array([1, 2, 3, 4, 5])\n",
    "\n",
    "# Save the array to an .npy file\n",
    "np.save(\"my_array.npy\", my_array)"
   ]
  },
  {
   "cell_type": "markdown",
   "metadata": {
    "id": "kh3JqOVMhHUH"
   },
   "source": [
    "#### np.load()"
   ]
  },
  {
   "cell_type": "code",
   "execution_count": 9,
   "metadata": {
    "colab": {
     "base_uri": "https://localhost:8080/"
    },
    "executionInfo": {
     "elapsed": 6,
     "status": "ok",
     "timestamp": 1684918406856,
     "user": {
      "displayName": "DSS DSS",
      "userId": "17636620013329168760"
     },
     "user_tz": -330
    },
    "id": "edvaAm83hNUn",
    "outputId": "c5d6fb50-50a8-49d7-e6be-bb034a11e07f"
   },
   "outputs": [
    {
     "name": "stdout",
     "output_type": "stream",
     "text": [
      "[1 2 3 4 5]\n"
     ]
    }
   ],
   "source": [
    "# Load the array from the npy file\n",
    "loaded_array = np.load(\"my_array.npy\")\n",
    "\n",
    "# Print the loaded array\n",
    "print(loaded_array)"
   ]
  },
  {
   "cell_type": "markdown",
   "metadata": {
    "id": "KOVbyv3tgcPZ"
   },
   "source": [
    "#### np.savez()"
   ]
  },
  {
   "cell_type": "code",
   "execution_count": 10,
   "metadata": {
    "executionInfo": {
     "elapsed": 4,
     "status": "ok",
     "timestamp": 1684918407559,
     "user": {
      "displayName": "DSS DSS",
      "userId": "17636620013329168760"
     },
     "user_tz": -330
    },
    "id": "DqtErFHcesww"
   },
   "outputs": [],
   "source": [
    "# Create some sample arrays\n",
    "array1 = np.array([1, 2, 3])\n",
    "array2 = np.array([4, 5, 6])\n",
    "array3 = np.array([7, 8, 9])\n",
    "\n",
    "# Save the arrays to an npz file\n",
    "np.savez(\"my_arrays.npz\", my_array1=array1, my_array2=array2, my_array3=array3)"
   ]
  },
  {
   "cell_type": "code",
   "execution_count": 11,
   "metadata": {
    "colab": {
     "base_uri": "https://localhost:8080/"
    },
    "executionInfo": {
     "elapsed": 4,
     "status": "ok",
     "timestamp": 1684918407560,
     "user": {
      "displayName": "DSS DSS",
      "userId": "17636620013329168760"
     },
     "user_tz": -330
    },
    "id": "pza-7bid83_u",
    "outputId": "79d3ad80-0111-4a5f-9b05-aa5203813064"
   },
   "outputs": [
    {
     "name": "stdout",
     "output_type": "stream",
     "text": [
      "[1 2 3]\n",
      "[4 5 6]\n",
      "[7 8 9]\n"
     ]
    }
   ],
   "source": [
    "# Load the arrays from the npz file\n",
    "loaded_data = np.load(\"my_arrays.npz\")\n",
    "\n",
    "# Access the arrays using the specified names\n",
    "loaded_array1 = loaded_data[\"my_array1\"]\n",
    "loaded_array2 = loaded_data[\"my_array2\"]\n",
    "loaded_array3 = loaded_data[\"my_array3\"]\n",
    "\n",
    "# Print the loaded arrays\n",
    "print(loaded_array1)\n",
    "print(loaded_array2)\n",
    "print(loaded_array3)"
   ]
  },
  {
   "cell_type": "markdown",
   "metadata": {
    "id": "2GEz99x3hsNZ"
   },
   "source": [
    "### saving and loading text files"
   ]
  },
  {
   "cell_type": "markdown",
   "metadata": {
    "id": "aNk8H6jMh1P2"
   },
   "source": [
    "#### np.savetxt()"
   ]
  },
  {
   "cell_type": "code",
   "execution_count": 12,
   "metadata": {
    "colab": {
     "base_uri": "https://localhost:8080/"
    },
    "executionInfo": {
     "elapsed": 3,
     "status": "ok",
     "timestamp": 1684918408849,
     "user": {
      "displayName": "DSS DSS",
      "userId": "17636620013329168760"
     },
     "user_tz": -330
    },
    "id": "TcT-iWD_h3KG",
    "outputId": "0380672a-3ce3-42f4-c16b-3848f84afcc4"
   },
   "outputs": [
    {
     "data": {
      "text/plain": [
       "array([0., 1., 2., 3., 4.])"
      ]
     },
     "execution_count": 12,
     "metadata": {},
     "output_type": "execute_result"
    }
   ],
   "source": [
    "a = np.arange(0.0, 5.0, 1.0)\n",
    "a"
   ]
  },
  {
   "cell_type": "code",
   "execution_count": 13,
   "metadata": {
    "executionInfo": {
     "elapsed": 4,
     "status": "ok",
     "timestamp": 1684918409780,
     "user": {
      "displayName": "DSS DSS",
      "userId": "17636620013329168760"
     },
     "user_tz": -330
    },
    "id": "Tkpn0aXJ83_w"
   },
   "outputs": [],
   "source": [
    "np.savetxt('my_array.txt', a, delimiter=',')"
   ]
  },
  {
   "cell_type": "code",
   "execution_count": 14,
   "metadata": {
    "executionInfo": {
     "elapsed": 975,
     "status": "ok",
     "timestamp": 1684918431785,
     "user": {
      "displayName": "DSS DSS",
      "userId": "17636620013329168760"
     },
     "user_tz": -330
    },
    "id": "cvs5kodQ83_w"
   },
   "outputs": [],
   "source": [
    "np.savetxt('my_array.csv', a, delimiter=',') # comma seperated values"
   ]
  },
  {
   "cell_type": "code",
   "execution_count": 16,
   "metadata": {
    "executionInfo": {
     "elapsed": 475,
     "status": "ok",
     "timestamp": 1684918443575,
     "user": {
      "displayName": "DSS DSS",
      "userId": "17636620013329168760"
     },
     "user_tz": -330
    },
    "id": "Ypxcb2jq83_x"
   },
   "outputs": [],
   "source": [
    "np.savetxt('my_array.out', a, delimiter=',') # assembler output"
   ]
  },
  {
   "cell_type": "markdown",
   "metadata": {
    "id": "pXP-c7_IhxzP"
   },
   "source": [
    "#### np.genfromtxt()"
   ]
  },
  {
   "cell_type": "code",
   "execution_count": 30,
   "metadata": {
    "colab": {
     "base_uri": "https://localhost:8080/"
    },
    "executionInfo": {
     "elapsed": 424,
     "status": "ok",
     "timestamp": 1684918710062,
     "user": {
      "displayName": "DSS DSS",
      "userId": "17636620013329168760"
     },
     "user_tz": -330
    },
    "id": "UUqDAabmhzzA",
    "outputId": "7ce8deba-6316-4aa7-c76b-49f3ab2bb3f0"
   },
   "outputs": [
    {
     "data": {
      "text/plain": [
       "array([[0.2536, 0.1008, 0.3857],\n",
       "       [0.4839, 0.4536, 0.3561],\n",
       "       [0.1292, 0.6875, 0.5929],\n",
       "       [0.1781, 0.3049, 0.8928],\n",
       "       [0.6253, 0.3486, 0.8791]])"
      ]
     },
     "execution_count": 30,
     "metadata": {},
     "output_type": "execute_result"
    }
   ],
   "source": [
    "# Load data from a text file\n",
    "arr = np.genfromtxt('data.txt', skip_header=1)\n",
    "arr"
   ]
  },
  {
   "cell_type": "code",
   "execution_count": 28,
   "metadata": {
    "colab": {
     "base_uri": "https://localhost:8080/"
    },
    "executionInfo": {
     "elapsed": 4,
     "status": "ok",
     "timestamp": 1684918676360,
     "user": {
      "displayName": "DSS DSS",
      "userId": "17636620013329168760"
     },
     "user_tz": -330
    },
    "id": "aMsL1K3S-pg5",
    "outputId": "71433cef-242f-4478-e530-62caea90aaa3"
   },
   "outputs": [
    {
     "data": {
      "text/plain": [
       "array([[   nan,    nan,    nan],\n",
       "       [0.4839, 0.4536, 0.3561],\n",
       "       [0.1292, 0.6875,    nan],\n",
       "       [0.1781, 0.3049, 0.8928],\n",
       "       [   nan, 0.5801, 0.2038],\n",
       "       [0.5993, 0.4357, 0.741 ]])"
      ]
     },
     "execution_count": 28,
     "metadata": {},
     "output_type": "execute_result"
    }
   ],
   "source": [
    "arr = np.genfromtxt('data2.txt')\n",
    "arr"
   ]
  },
  {
   "cell_type": "code",
   "execution_count": 38,
   "metadata": {
    "colab": {
     "base_uri": "https://localhost:8080/"
    },
    "executionInfo": {
     "elapsed": 1375,
     "status": "ok",
     "timestamp": 1684918805108,
     "user": {
      "displayName": "DSS DSS",
      "userId": "17636620013329168760"
     },
     "user_tz": -330
    },
    "id": "U5zcE9PH-1t8",
    "outputId": "10ebb22e-1f6b-491b-eb3c-f0ac2f5e45c3"
   },
   "outputs": [
    {
     "data": {
      "text/plain": [
       "array([[  0.4839,   0.4536,   0.3561],\n",
       "       [  0.1292,   0.6875, -99.    ],\n",
       "       [  0.1781,   0.3049,   0.8928],\n",
       "       [-99.    ,   0.5801,   0.2038],\n",
       "       [  0.5993,   0.4357,   0.741 ]])"
      ]
     },
     "execution_count": 38,
     "metadata": {},
     "output_type": "execute_result"
    }
   ],
   "source": [
    "arr = np.genfromtxt('data2.txt',\n",
    "                    skip_header=1,\n",
    "                    filling_values=-99)\n",
    "arr"
   ]
  },
  {
   "cell_type": "markdown",
   "metadata": {
    "id": "UyieyUD2hvWB"
   },
   "source": [
    "#### np.loadtxt()"
   ]
  },
  {
   "cell_type": "code",
   "execution_count": 48,
   "metadata": {
    "colab": {
     "base_uri": "https://localhost:8080/"
    },
    "executionInfo": {
     "elapsed": 900,
     "status": "ok",
     "timestamp": 1684919065505,
     "user": {
      "displayName": "DSS DSS",
      "userId": "17636620013329168760"
     },
     "user_tz": -330
    },
    "id": "bekxcQHme3nE",
    "outputId": "02d116d7-d04b-4960-cd59-1bfbb0a8cd81"
   },
   "outputs": [
    {
     "name": "stdout",
     "output_type": "stream",
     "text": [
      "['Value1  Value2  Value3' '0.4839  0.4536  0.3561'\n",
      " '0.1292  0.6875  MISSING' '0.1781  0.3049  0.8928'\n",
      " 'MISSING 0.5801  0.2038' '0.5993  0.4357  0.7410']\n",
      "<class 'numpy.ndarray'>\n"
     ]
    }
   ],
   "source": [
    " arr = np.loadtxt('data2.txt', \n",
    "                  dtype = str, \n",
    "                  delimiter = '\\n')\n",
    " print(arr)\n",
    " print(type(arr))"
   ]
  },
  {
   "cell_type": "code",
   "execution_count": 50,
   "metadata": {
    "colab": {
     "base_uri": "https://localhost:8080/"
    },
    "executionInfo": {
     "elapsed": 1244,
     "status": "ok",
     "timestamp": 1684919075754,
     "user": {
      "displayName": "DSS DSS",
      "userId": "17636620013329168760"
     },
     "user_tz": -330
    },
    "id": "lnLnlSSx83_z",
    "outputId": "ccc43f57-95f2-44af-fcbf-0eb2209fc43b"
   },
   "outputs": [
    {
     "name": "stdout",
     "output_type": "stream",
     "text": [
      "[0.2536 0.4839 0.1292 0.1781 0.6253]\n",
      "[0.1008 0.4536 0.6875 0.3049 0.3486]\n",
      "[0.3857 0.3561 0.5929 0.8928 0.8791]\n",
      "<class 'numpy.ndarray'>\n"
     ]
    }
   ],
   "source": [
    "x, y, z = np.loadtxt('data.txt',\n",
    "                    skiprows=1,\n",
    "                    unpack=True)\n",
    "print(x)\n",
    "print(y)\n",
    "print(z)\n",
    "print(type(z))"
   ]
  },
  {
   "cell_type": "code",
   "execution_count": 52,
   "metadata": {
    "executionInfo": {
     "elapsed": 1211,
     "status": "ok",
     "timestamp": 1684919124853,
     "user": {
      "displayName": "DSS DSS",
      "userId": "17636620013329168760"
     },
     "user_tz": -330
    },
    "id": "w_Gk9LDT_bkw"
   },
   "outputs": [],
   "source": [
    "# x, y, z = np.loadtxt('data2.txt', skiprows=1, unpack=True)\n",
    "# ValueError: could not convert string to float: 'MISSING'"
   ]
  },
  {
   "cell_type": "code",
   "execution_count": null,
   "metadata": {
    "id": "iQEZqTTVAQSo"
   },
   "outputs": [],
   "source": []
  }
 ],
 "metadata": {
  "colab": {
   "provenance": []
  },
  "kernelspec": {
   "display_name": "Python 3 (ipykernel)",
   "language": "python",
   "name": "python3"
  },
  "language_info": {
   "codemirror_mode": {
    "name": "ipython",
    "version": 3
   },
   "file_extension": ".py",
   "mimetype": "text/x-python",
   "name": "python",
   "nbconvert_exporter": "python",
   "pygments_lexer": "ipython3",
   "version": "3.9.16"
  }
 },
 "nbformat": 4,
 "nbformat_minor": 1
}
